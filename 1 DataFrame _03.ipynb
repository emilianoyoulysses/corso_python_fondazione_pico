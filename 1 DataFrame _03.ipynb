{
 "cells": [
  {
   "cell_type": "markdown",
   "id": "3f395488",
   "metadata": {},
   "source": [
    "# Introduzione a  Pandas"
   ]
  },
  {
   "cell_type": "markdown",
   "id": "2803c8da",
   "metadata": {},
   "source": [
    "# Modulo 2: DataFrames\n",
    "\n",
    "# Le basi - Parte 1\n",
    "- Come creare un DataFrame. \n",
    "- Conoscere le proprietà e le informazioni del DataFrame.\n",
    "- Selezione di una singola colonna.\n",
    "- Aggiunta di nuove colonne a un DataFrame.\n",
    "- Rinominare le colonne.\n",
    "- Statistiche descrittive sulle colonne."
   ]
  },
  {
   "cell_type": "markdown",
   "id": "76d3b94c",
   "metadata": {},
   "source": [
    "# Definizione\n",
    "Un DataFrame è una **struttura dati bidimensionale** (simile a una tabella), utilizzata per la manipolazione e l'analisi dei dati.\n",
    "\n",
    "### Caratteristiche principali:\n",
    "* Organizzato in righe e colonne, come un foglio Excel o una tabella SQL.\n",
    "* Ogni colonna può contenere un tipo di dato diverso (es. numeri, stringhe, date).\n",
    "* Ha etichette (label) per le righe (indice) e per le colonne (nomi delle variabili).\n",
    "* Supporta operazioni efficienti per filtrare, aggregare, trasformare e visualizzare dati."
   ]
  },
  {
   "cell_type": "markdown",
   "id": "26772a17",
   "metadata": {},
   "source": [
    "> Un DataFrame è una collezione di dati bi-dimensionali come una lista di dizionari che hanno due dimensioni"
   ]
  },
  {
   "cell_type": "code",
   "execution_count": 1,
   "id": "3f78f0c9",
   "metadata": {},
   "outputs": [
    {
     "data": {
      "text/plain": [
       "[{'item': 'mango', 'quantity': 4, 'price': 2.99},\n",
       " {'item': 'bread', 'quantity': 2, 'price': 3.25},\n",
       " {'item': 'juice', 'quantity': 1, 'price': 5.9},\n",
       " {'item': 'orange', 'quantity': 3, 'price': 2.99},\n",
       " {'item': 'lime', 'quantity': 3, 'price': 0.3}]"
      ]
     },
     "execution_count": 1,
     "metadata": {},
     "output_type": "execute_result"
    }
   ],
   "source": [
    "import pandas as pd \n",
    "basket = [\n",
    "    {\"item\": \"mango\", \"quantity\": 4, \"price\": 2.99},\n",
    "    {\"item\": \"bread\", \"quantity\": 2, \"price\": 3.25},\n",
    "    {\"item\": \"juice\", \"quantity\": 1, \"price\": 5.90},\n",
    "    {\"item\": \"orange\", \"quantity\": 3, \"price\": 2.99},\n",
    "    {\"item\": \"lime\", \"quantity\": 3, \"price\": 0.3},\n",
    "]\n",
    "basket"
   ]
  },
  {
   "cell_type": "markdown",
   "id": "85c393ce",
   "metadata": {},
   "source": [
    "> Le colonne sono le `variabili` o caratteristiche, mentre le righe rappresentano le `osservazioni`."
   ]
  },
  {
   "cell_type": "code",
   "execution_count": 3,
   "id": "de47a542",
   "metadata": {},
   "outputs": [
    {
     "data": {
      "text/html": [
       "<div>\n",
       "<style scoped>\n",
       "    .dataframe tbody tr th:only-of-type {\n",
       "        vertical-align: middle;\n",
       "    }\n",
       "\n",
       "    .dataframe tbody tr th {\n",
       "        vertical-align: top;\n",
       "    }\n",
       "\n",
       "    .dataframe thead th {\n",
       "        text-align: right;\n",
       "    }\n",
       "</style>\n",
       "<table border=\"1\" class=\"dataframe\">\n",
       "  <thead>\n",
       "    <tr style=\"text-align: right;\">\n",
       "      <th></th>\n",
       "      <th>item</th>\n",
       "      <th>quantity</th>\n",
       "      <th>price</th>\n",
       "    </tr>\n",
       "  </thead>\n",
       "  <tbody>\n",
       "    <tr>\n",
       "      <th>0</th>\n",
       "      <td>mango</td>\n",
       "      <td>4</td>\n",
       "      <td>2.99</td>\n",
       "    </tr>\n",
       "    <tr>\n",
       "      <th>1</th>\n",
       "      <td>bread</td>\n",
       "      <td>2</td>\n",
       "      <td>3.25</td>\n",
       "    </tr>\n",
       "    <tr>\n",
       "      <th>2</th>\n",
       "      <td>juice</td>\n",
       "      <td>1</td>\n",
       "      <td>5.90</td>\n",
       "    </tr>\n",
       "    <tr>\n",
       "      <th>3</th>\n",
       "      <td>orange</td>\n",
       "      <td>3</td>\n",
       "      <td>2.99</td>\n",
       "    </tr>\n",
       "    <tr>\n",
       "      <th>4</th>\n",
       "      <td>lime</td>\n",
       "      <td>3</td>\n",
       "      <td>0.30</td>\n",
       "    </tr>\n",
       "  </tbody>\n",
       "</table>\n",
       "</div>"
      ],
      "text/plain": [
       "     item  quantity  price\n",
       "0   mango         4   2.99\n",
       "1   bread         2   3.25\n",
       "2   juice         1   5.90\n",
       "3  orange         3   2.99\n",
       "4    lime         3   0.30"
      ]
     },
     "execution_count": 3,
     "metadata": {},
     "output_type": "execute_result"
    }
   ],
   "source": [
    "df = pd.DataFrame(basket)\n",
    "df"
   ]
  },
  {
   "cell_type": "markdown",
   "id": "f9f821a2",
   "metadata": {},
   "source": [
    "> Dizionario in cui le `chiavi` sono nomi di colonne, `item`, `quantity`, `price` mentre i `valori` sono associati alle relative celle di ogni colonna. Ogni chiave ha come valore una lista. "
   ]
  },
  {
   "cell_type": "code",
   "execution_count": 4,
   "id": "b1292792",
   "metadata": {},
   "outputs": [
    {
     "data": {
      "text/plain": [
       "{'item': ['mango', 'bread', 'juice', 'orange', 'lime'],\n",
       " 'quantity': [4, 2, 1, 3, 3],\n",
       " 'price': [2.99, 3.25, 5.9, 2.99, 0.3]}"
      ]
     },
     "execution_count": 4,
     "metadata": {},
     "output_type": "execute_result"
    }
   ],
   "source": [
    "basket = {\n",
    "    \"item\": [\"mango\", \"bread\", \"juice\", \"orange\", \"lime\"],\n",
    "    \"quantity\": [4, 2, 1, 3, 3],\n",
    "    \"price\": [2.99, 3.25, 5.90, 2.99, 0.30]\n",
    "}\n",
    "basket"
   ]
  },
  {
   "cell_type": "markdown",
   "id": "0bf93e4f",
   "metadata": {},
   "source": [
    "> Trasformiamo il dizionario in un DataFrame."
   ]
  },
  {
   "cell_type": "code",
   "execution_count": 5,
   "id": "58735ce3",
   "metadata": {},
   "outputs": [
    {
     "data": {
      "text/html": [
       "<div>\n",
       "<style scoped>\n",
       "    .dataframe tbody tr th:only-of-type {\n",
       "        vertical-align: middle;\n",
       "    }\n",
       "\n",
       "    .dataframe tbody tr th {\n",
       "        vertical-align: top;\n",
       "    }\n",
       "\n",
       "    .dataframe thead th {\n",
       "        text-align: right;\n",
       "    }\n",
       "</style>\n",
       "<table border=\"1\" class=\"dataframe\">\n",
       "  <thead>\n",
       "    <tr style=\"text-align: right;\">\n",
       "      <th></th>\n",
       "      <th>item</th>\n",
       "      <th>quantity</th>\n",
       "      <th>price</th>\n",
       "    </tr>\n",
       "  </thead>\n",
       "  <tbody>\n",
       "    <tr>\n",
       "      <th>0</th>\n",
       "      <td>mango</td>\n",
       "      <td>4</td>\n",
       "      <td>2.99</td>\n",
       "    </tr>\n",
       "    <tr>\n",
       "      <th>1</th>\n",
       "      <td>bread</td>\n",
       "      <td>2</td>\n",
       "      <td>3.25</td>\n",
       "    </tr>\n",
       "    <tr>\n",
       "      <th>2</th>\n",
       "      <td>juice</td>\n",
       "      <td>1</td>\n",
       "      <td>5.90</td>\n",
       "    </tr>\n",
       "    <tr>\n",
       "      <th>3</th>\n",
       "      <td>orange</td>\n",
       "      <td>3</td>\n",
       "      <td>2.99</td>\n",
       "    </tr>\n",
       "    <tr>\n",
       "      <th>4</th>\n",
       "      <td>lime</td>\n",
       "      <td>3</td>\n",
       "      <td>0.30</td>\n",
       "    </tr>\n",
       "  </tbody>\n",
       "</table>\n",
       "</div>"
      ],
      "text/plain": [
       "     item  quantity  price\n",
       "0   mango         4   2.99\n",
       "1   bread         2   3.25\n",
       "2   juice         1   5.90\n",
       "3  orange         3   2.99\n",
       "4    lime         3   0.30"
      ]
     },
     "execution_count": 5,
     "metadata": {},
     "output_type": "execute_result"
    }
   ],
   "source": [
    "pd.DataFrame(basket)"
   ]
  },
  {
   "cell_type": "markdown",
   "id": "c6514be2",
   "metadata": {},
   "source": [
    "# Esercitazione - Analisi di un Carrello della Spesa\n",
    "\n",
    "* Creare un DataFrame da un dizionario\n",
    "* Visualizzare i dati"
   ]
  },
  {
   "cell_type": "code",
   "execution_count": null,
   "id": "8f33b0ef",
   "metadata": {},
   "outputs": [],
   "source": [
    "basket = {\n",
    "    \"item\": [\"mango\", \"bread\", \"juice\", \"orange\", \"lime\"],\n",
    "    \"quantity\": [4, 2, 1, 3, 3],\n",
    "    \"price\": [2.99, 3.25, 5.90, 2.99, 0.30]\n",
    "}"
   ]
  },
  {
   "cell_type": "markdown",
   "id": "47da5de7",
   "metadata": {},
   "source": [
    "|<br>\n",
    "|<br>\n",
    "|<br>\n",
    "|<br>\n",
    "|<br>\n",
    "|<br>\n",
    "|<br>"
   ]
  },
  {
   "cell_type": "code",
   "execution_count": 7,
   "id": "cde04fff",
   "metadata": {},
   "outputs": [
    {
     "name": "stdout",
     "output_type": "stream",
     "text": [
      "PRIME RIGHE DEL DATAFRAME:\n",
      "     item  quantity  price\n",
      "0   mango         4   2.99\n",
      "1   bread         2   3.25\n",
      "2   juice         1   5.90\n",
      "3  orange         3   2.99\n",
      "4    lime         3   0.30\n"
     ]
    }
   ],
   "source": [
    "import pandas as pd\n",
    "\n",
    "# 1. Crea il DataFrame\n",
    "basket = {\n",
    "    \"item\": [\"mango\", \"bread\", \"juice\", \"orange\", \"lime\"],\n",
    "    \"quantity\": [4, 2, 1, 3, 3],\n",
    "    \"price\": [2.99, 3.25, 5.90, 2.99, 0.30]\n",
    "}\n",
    "df = pd.DataFrame(basket)\n",
    "\n",
    "# 2. Visualizza le prime righe\n",
    "print(\"PRIME RIGHE DEL DATAFRAME:\")\n",
    "print(df)"
   ]
  },
  {
   "cell_type": "markdown",
   "id": "e68f3729",
   "metadata": {},
   "source": [
    "# Creazione di un dataframe da un elenco di elenchi\n",
    "* righe = osservazioni;\n",
    "* colonne = variabili."
   ]
  },
  {
   "cell_type": "code",
   "execution_count": 10,
   "id": "16868baf",
   "metadata": {
    "scrolled": true
   },
   "outputs": [
    {
     "data": {
      "text/html": [
       "<div>\n",
       "<style scoped>\n",
       "    .dataframe tbody tr th:only-of-type {\n",
       "        vertical-align: middle;\n",
       "    }\n",
       "\n",
       "    .dataframe tbody tr th {\n",
       "        vertical-align: top;\n",
       "    }\n",
       "\n",
       "    .dataframe thead th {\n",
       "        text-align: right;\n",
       "    }\n",
       "</style>\n",
       "<table border=\"1\" class=\"dataframe\">\n",
       "  <thead>\n",
       "    <tr style=\"text-align: right;\">\n",
       "      <th></th>\n",
       "      <th>variable_a</th>\n",
       "      <th>variable_b</th>\n",
       "      <th>variable_c</th>\n",
       "    </tr>\n",
       "  </thead>\n",
       "  <tbody>\n",
       "    <tr>\n",
       "      <th>observation_1</th>\n",
       "      <td>1</td>\n",
       "      <td>2</td>\n",
       "      <td>3</td>\n",
       "    </tr>\n",
       "    <tr>\n",
       "      <th>observation_2</th>\n",
       "      <td>4</td>\n",
       "      <td>5</td>\n",
       "      <td>6</td>\n",
       "    </tr>\n",
       "    <tr>\n",
       "      <th>observation_3</th>\n",
       "      <td>7</td>\n",
       "      <td>8</td>\n",
       "      <td>9</td>\n",
       "    </tr>\n",
       "  </tbody>\n",
       "</table>\n",
       "</div>"
      ],
      "text/plain": [
       "               variable_a  variable_b  variable_c\n",
       "observation_1           1           2           3\n",
       "observation_2           4           5           6\n",
       "observation_3           7           8           9"
      ]
     },
     "execution_count": 10,
     "metadata": {},
     "output_type": "execute_result"
    }
   ],
   "source": [
    "example = [\n",
    "    [1, 2, 3],\n",
    "    [4, 5, 6],\n",
    "    [7, 8, 9]\n",
    "]\n",
    "\n",
    "column_names = [\"variable_a\", \"variable_b\", \"variable_c\"]\n",
    "row_names = [\"observation_1\", \"observation_2\", \"observation_3\"]\n",
    "\n",
    "pd.DataFrame(example, columns=column_names, index=row_names)"
   ]
  },
  {
   "cell_type": "markdown",
   "id": "92c37eae",
   "metadata": {},
   "source": [
    "# Creazione di un DataFrame da zero\n",
    "* Aggiunta di colonne in un `DataFrame`: qualsiasi tipo di dati simile ad un elenco può diventare una colonna. \n",
    "* Quando assegniamo le colonne in un `DataFrame`, le colonne diventano `Series`. "
   ]
  },
  {
   "cell_type": "code",
   "execution_count": 12,
   "id": "3491ae56",
   "metadata": {},
   "outputs": [
    {
     "data": {
      "text/html": [
       "<div>\n",
       "<style scoped>\n",
       "    .dataframe tbody tr th:only-of-type {\n",
       "        vertical-align: middle;\n",
       "    }\n",
       "\n",
       "    .dataframe tbody tr th {\n",
       "        vertical-align: top;\n",
       "    }\n",
       "\n",
       "    .dataframe thead th {\n",
       "        text-align: right;\n",
       "    }\n",
       "</style>\n",
       "<table border=\"1\" class=\"dataframe\">\n",
       "  <thead>\n",
       "    <tr style=\"text-align: right;\">\n",
       "      <th></th>\n",
       "      <th>item</th>\n",
       "      <th>quantity</th>\n",
       "      <th>price</th>\n",
       "    </tr>\n",
       "  </thead>\n",
       "  <tbody>\n",
       "    <tr>\n",
       "      <th>0</th>\n",
       "      <td>Mango</td>\n",
       "      <td>2</td>\n",
       "      <td>2.99</td>\n",
       "    </tr>\n",
       "    <tr>\n",
       "      <th>1</th>\n",
       "      <td>Bread</td>\n",
       "      <td>2</td>\n",
       "      <td>3.25</td>\n",
       "    </tr>\n",
       "    <tr>\n",
       "      <th>2</th>\n",
       "      <td>Juice</td>\n",
       "      <td>1</td>\n",
       "      <td>5.90</td>\n",
       "    </tr>\n",
       "    <tr>\n",
       "      <th>3</th>\n",
       "      <td>Orange</td>\n",
       "      <td>3</td>\n",
       "      <td>2.99</td>\n",
       "    </tr>\n",
       "    <tr>\n",
       "      <th>4</th>\n",
       "      <td>Lime</td>\n",
       "      <td>3</td>\n",
       "      <td>0.30</td>\n",
       "    </tr>\n",
       "  </tbody>\n",
       "</table>\n",
       "</div>"
      ],
      "text/plain": [
       "     item  quantity  price\n",
       "0   Mango         2   2.99\n",
       "1   Bread         2   3.25\n",
       "2   Juice         1   5.90\n",
       "3  Orange         3   2.99\n",
       "4    Lime         3   0.30"
      ]
     },
     "execution_count": 12,
     "metadata": {},
     "output_type": "execute_result"
    }
   ],
   "source": [
    "df[\"item\"] = pd.Series([\"Mango\", \"Bread\", \"Juice\", \"Orange\", \"Lime\"])\n",
    "df[\"quantity\"] = [2, 2, 1, 3, 3]\n",
    "df[\"price\"] = (2.99, 3.25, 5.90, 2.99, 0.30)\n",
    "df"
   ]
  },
  {
   "cell_type": "markdown",
   "id": "308bd95e",
   "metadata": {},
   "source": [
    "# Esercitazione\n",
    "* Crea un DataFrame vuoto.\n",
    "* Aggiungi colonne una alla volta.\n",
    "* Visualizza il risultato. \n",
    "\n",
    "1. Importa la libreria `pandas`.\n",
    "2. Crea un DataFrame vuoto chiamato `df`.\n",
    "3. Aggiungi le seguenti colonne:\n",
    "* `\"nome\"` → una lista con 5 nomi a tua scelta.\n",
    "* `\"età\"` → una lista con 5 numeri interi.\n",
    "* `\"classe\"` → una tupla con 5 stringhe che indicano una classe scolastica (es: \"3A\", \"2B\", ...).\n",
    "4. Stampa il DataFrame.\n",
    "\n",
    "|<br>\n",
    "|<br>\n",
    "|<br>\n",
    "|<br>\n",
    "|<br>\n",
    "|<br>\n",
    "|<br>"
   ]
  },
  {
   "cell_type": "code",
   "execution_count": 23,
   "id": "581cd649",
   "metadata": {
    "scrolled": true
   },
   "outputs": [
    {
     "name": "stdout",
     "output_type": "stream",
     "text": [
      "      nome  età classe\n",
      "0     Luca   16     3A\n",
      "1     Sara   17     4B\n",
      "2    Marta   16     3A\n",
      "3  Giorgio   18     5C\n",
      "4    Elisa   17     4B\n"
     ]
    }
   ],
   "source": [
    "import pandas as pd\n",
    "\n",
    "# 1. Creazione di un DataFrame vuoto\n",
    "df = pd.DataFrame()\n",
    "\n",
    "# 2. Aggiunta della colonna \"nome\"\n",
    "df[\"nome\"] = pd.Series([\"Luca\", \"Sara\", \"Marta\", \"Giorgio\", \"Elisa\"])\n",
    "\n",
    "# 3. Aggiunta della colonna \"età\"\n",
    "df[\"età\"] = [16, 17, 16, 18, 17]\n",
    "\n",
    "# 4. Aggiunta della colonna \"classe\"\n",
    "df[\"classe\"] = (\"3A\", \"4B\", \"3A\", \"5C\", \"4B\")\n",
    "\n",
    "# 5. Visualizzazione del DataFrame\n",
    "print(df)"
   ]
  },
  {
   "cell_type": "markdown",
   "id": "01e042b9",
   "metadata": {},
   "source": [
    "### -----------------------------------------------------------------------------------------------"
   ]
  },
  {
   "cell_type": "markdown",
   "id": "8e2f2c3d",
   "metadata": {},
   "source": [
    "# `.shape`\n",
    "Restituisce una tupla che indica la dimensione del DataFrame:\n",
    "* righe;\n",
    "* colonne."
   ]
  },
  {
   "cell_type": "code",
   "execution_count": 1,
   "id": "bebda9b4",
   "metadata": {},
   "outputs": [],
   "source": [
    "import pandas as pd\n",
    "basket = {\n",
    "    \"item\": [\"mango\", \"bread\", \"juice\", \"orange\", \"lime\"],\n",
    "    \"quantity\": [4, 2, 1, 3, 3],\n",
    "    \"price\": [2.99, 3.25, 5.90, 2.99, 0.30]\n",
    "}\n",
    "df = pd.DataFrame(basket)"
   ]
  },
  {
   "cell_type": "code",
   "execution_count": 2,
   "id": "d10a4b7d",
   "metadata": {},
   "outputs": [
    {
     "data": {
      "text/plain": [
       "(5, 3)"
      ]
     },
     "execution_count": 2,
     "metadata": {},
     "output_type": "execute_result"
    }
   ],
   "source": [
    "df.shape"
   ]
  },
  {
   "cell_type": "code",
   "execution_count": 3,
   "id": "2022035a",
   "metadata": {},
   "outputs": [
    {
     "data": {
      "text/plain": [
       "5"
      ]
     },
     "execution_count": 3,
     "metadata": {},
     "output_type": "execute_result"
    }
   ],
   "source": [
    "df.shape[0] # restituisce il numero di righe del DataFrame."
   ]
  },
  {
   "cell_type": "code",
   "execution_count": 4,
   "id": "609cdcb5",
   "metadata": {
    "scrolled": true
   },
   "outputs": [
    {
     "data": {
      "text/plain": [
       "3"
      ]
     },
     "execution_count": 4,
     "metadata": {},
     "output_type": "execute_result"
    }
   ],
   "source": [
    "df.shape[1] # restituisce il numero di colonne del DataFrame. "
   ]
  },
  {
   "cell_type": "markdown",
   "id": "30eb4fcc",
   "metadata": {},
   "source": [
    "# `len`\n",
    "Restituisce il numero di righe."
   ]
  },
  {
   "cell_type": "code",
   "execution_count": 5,
   "id": "cf2e6fcd",
   "metadata": {},
   "outputs": [
    {
     "data": {
      "text/plain": [
       "5"
      ]
     },
     "execution_count": 5,
     "metadata": {},
     "output_type": "execute_result"
    }
   ],
   "source": [
    "len(df)"
   ]
  },
  {
   "cell_type": "markdown",
   "id": "79c469d9",
   "metadata": {},
   "source": [
    "# `.size`\n",
    "Il metodo `size` viene usato per ottenere il numero totale di elementi (celle) in un DataFrame o in una Series."
   ]
  },
  {
   "cell_type": "code",
   "execution_count": 6,
   "id": "edc6c56e",
   "metadata": {},
   "outputs": [
    {
     "data": {
      "text/plain": [
       "15"
      ]
     },
     "execution_count": 6,
     "metadata": {},
     "output_type": "execute_result"
    }
   ],
   "source": [
    "df.size # righe * colonne"
   ]
  },
  {
   "cell_type": "markdown",
   "id": "aacf9254",
   "metadata": {},
   "source": [
    "> Come aggiungere nuove colonne al DataFrame "
   ]
  },
  {
   "cell_type": "code",
   "execution_count": 7,
   "id": "aa5645e3",
   "metadata": {},
   "outputs": [
    {
     "data": {
      "text/html": [
       "<div>\n",
       "<style scoped>\n",
       "    .dataframe tbody tr th:only-of-type {\n",
       "        vertical-align: middle;\n",
       "    }\n",
       "\n",
       "    .dataframe tbody tr th {\n",
       "        vertical-align: top;\n",
       "    }\n",
       "\n",
       "    .dataframe thead th {\n",
       "        text-align: right;\n",
       "    }\n",
       "</style>\n",
       "<table border=\"1\" class=\"dataframe\">\n",
       "  <thead>\n",
       "    <tr style=\"text-align: right;\">\n",
       "      <th></th>\n",
       "      <th>item</th>\n",
       "      <th>quantity</th>\n",
       "      <th>price</th>\n",
       "    </tr>\n",
       "  </thead>\n",
       "  <tbody>\n",
       "    <tr>\n",
       "      <th>0</th>\n",
       "      <td>Mango</td>\n",
       "      <td>2</td>\n",
       "      <td>2.99</td>\n",
       "    </tr>\n",
       "    <tr>\n",
       "      <th>1</th>\n",
       "      <td>Bread</td>\n",
       "      <td>2</td>\n",
       "      <td>3.25</td>\n",
       "    </tr>\n",
       "    <tr>\n",
       "      <th>2</th>\n",
       "      <td>Juice</td>\n",
       "      <td>1</td>\n",
       "      <td>5.90</td>\n",
       "    </tr>\n",
       "    <tr>\n",
       "      <th>3</th>\n",
       "      <td>Orange</td>\n",
       "      <td>3</td>\n",
       "      <td>2.99</td>\n",
       "    </tr>\n",
       "    <tr>\n",
       "      <th>4</th>\n",
       "      <td>Lime</td>\n",
       "      <td>3</td>\n",
       "      <td>0.30</td>\n",
       "    </tr>\n",
       "  </tbody>\n",
       "</table>\n",
       "</div>"
      ],
      "text/plain": [
       "     item  quantity  price\n",
       "0   Mango         2   2.99\n",
       "1   Bread         2   3.25\n",
       "2   Juice         1   5.90\n",
       "3  Orange         3   2.99\n",
       "4    Lime         3   0.30"
      ]
     },
     "execution_count": 7,
     "metadata": {},
     "output_type": "execute_result"
    }
   ],
   "source": [
    "df[\"item\"] = pd.Series([\"Mango\", \"Bread\", \"Juice\", \"Orange\", \"Lime\"])\n",
    "df[\"quantity\"] = [2, 2, 1, 3, 3]\n",
    "df[\"price\"] = (2.99, 3.25, 5.90, 2.99, 0.30)\n",
    "df"
   ]
  },
  {
   "cell_type": "code",
   "execution_count": 8,
   "id": "aac8d0e7",
   "metadata": {
    "scrolled": true
   },
   "outputs": [
    {
     "data": {
      "text/html": [
       "<div>\n",
       "<style scoped>\n",
       "    .dataframe tbody tr th:only-of-type {\n",
       "        vertical-align: middle;\n",
       "    }\n",
       "\n",
       "    .dataframe tbody tr th {\n",
       "        vertical-align: top;\n",
       "    }\n",
       "\n",
       "    .dataframe thead th {\n",
       "        text-align: right;\n",
       "    }\n",
       "</style>\n",
       "<table border=\"1\" class=\"dataframe\">\n",
       "  <thead>\n",
       "    <tr style=\"text-align: right;\">\n",
       "      <th></th>\n",
       "      <th>item</th>\n",
       "      <th>quantity</th>\n",
       "      <th>price</th>\n",
       "      <th>subtotal</th>\n",
       "    </tr>\n",
       "  </thead>\n",
       "  <tbody>\n",
       "    <tr>\n",
       "      <th>0</th>\n",
       "      <td>Mango</td>\n",
       "      <td>2</td>\n",
       "      <td>2.99</td>\n",
       "      <td>5.98</td>\n",
       "    </tr>\n",
       "    <tr>\n",
       "      <th>1</th>\n",
       "      <td>Bread</td>\n",
       "      <td>2</td>\n",
       "      <td>3.25</td>\n",
       "      <td>6.50</td>\n",
       "    </tr>\n",
       "    <tr>\n",
       "      <th>2</th>\n",
       "      <td>Juice</td>\n",
       "      <td>1</td>\n",
       "      <td>5.90</td>\n",
       "      <td>5.90</td>\n",
       "    </tr>\n",
       "    <tr>\n",
       "      <th>3</th>\n",
       "      <td>Orange</td>\n",
       "      <td>3</td>\n",
       "      <td>2.99</td>\n",
       "      <td>8.97</td>\n",
       "    </tr>\n",
       "    <tr>\n",
       "      <th>4</th>\n",
       "      <td>Lime</td>\n",
       "      <td>3</td>\n",
       "      <td>0.30</td>\n",
       "      <td>0.90</td>\n",
       "    </tr>\n",
       "  </tbody>\n",
       "</table>\n",
       "</div>"
      ],
      "text/plain": [
       "     item  quantity  price  subtotal\n",
       "0   Mango         2   2.99      5.98\n",
       "1   Bread         2   3.25      6.50\n",
       "2   Juice         1   5.90      5.90\n",
       "3  Orange         3   2.99      8.97\n",
       "4    Lime         3   0.30      0.90"
      ]
     },
     "execution_count": 8,
     "metadata": {},
     "output_type": "execute_result"
    }
   ],
   "source": [
    "df[\"subtotal\"] = df[\"quantity\"] * df[\"price\"]\n",
    "df"
   ]
  },
  {
   "cell_type": "markdown",
   "id": "3a7cd3dc",
   "metadata": {},
   "source": [
    "# `.set_index()`\n",
    "Il metodo `.set_index()` serve per impostare una colonna come indice del DataFrame, cioè per sostituire l'indice numerico predefinito (0, 1, 2, ...) con una colonna significativa."
   ]
  },
  {
   "cell_type": "code",
   "execution_count": 9,
   "id": "054bc713",
   "metadata": {},
   "outputs": [
    {
     "data": {
      "text/html": [
       "<div>\n",
       "<style scoped>\n",
       "    .dataframe tbody tr th:only-of-type {\n",
       "        vertical-align: middle;\n",
       "    }\n",
       "\n",
       "    .dataframe tbody tr th {\n",
       "        vertical-align: top;\n",
       "    }\n",
       "\n",
       "    .dataframe thead th {\n",
       "        text-align: right;\n",
       "    }\n",
       "</style>\n",
       "<table border=\"1\" class=\"dataframe\">\n",
       "  <thead>\n",
       "    <tr style=\"text-align: right;\">\n",
       "      <th></th>\n",
       "      <th>quantity</th>\n",
       "      <th>price</th>\n",
       "      <th>subtotal</th>\n",
       "    </tr>\n",
       "    <tr>\n",
       "      <th>item</th>\n",
       "      <th></th>\n",
       "      <th></th>\n",
       "      <th></th>\n",
       "    </tr>\n",
       "  </thead>\n",
       "  <tbody>\n",
       "    <tr>\n",
       "      <th>Mango</th>\n",
       "      <td>2</td>\n",
       "      <td>2.99</td>\n",
       "      <td>5.98</td>\n",
       "    </tr>\n",
       "    <tr>\n",
       "      <th>Bread</th>\n",
       "      <td>2</td>\n",
       "      <td>3.25</td>\n",
       "      <td>6.50</td>\n",
       "    </tr>\n",
       "    <tr>\n",
       "      <th>Juice</th>\n",
       "      <td>1</td>\n",
       "      <td>5.90</td>\n",
       "      <td>5.90</td>\n",
       "    </tr>\n",
       "    <tr>\n",
       "      <th>Orange</th>\n",
       "      <td>3</td>\n",
       "      <td>2.99</td>\n",
       "      <td>8.97</td>\n",
       "    </tr>\n",
       "    <tr>\n",
       "      <th>Lime</th>\n",
       "      <td>3</td>\n",
       "      <td>0.30</td>\n",
       "      <td>0.90</td>\n",
       "    </tr>\n",
       "  </tbody>\n",
       "</table>\n",
       "</div>"
      ],
      "text/plain": [
       "        quantity  price  subtotal\n",
       "item                             \n",
       "Mango          2   2.99      5.98\n",
       "Bread          2   3.25      6.50\n",
       "Juice          1   5.90      5.90\n",
       "Orange         3   2.99      8.97\n",
       "Lime           3   0.30      0.90"
      ]
     },
     "execution_count": 9,
     "metadata": {},
     "output_type": "execute_result"
    }
   ],
   "source": [
    "df.set_index(\"item\", inplace=True) # set_index può sovrascrivere l'indice predefinito\n",
    "df"
   ]
  },
  {
   "cell_type": "markdown",
   "id": "c55cf0e9",
   "metadata": {},
   "source": [
    "# `.index`\n",
    "`.index` rappresenta l’insieme delle etichette di riga (cioè l’indice) di un DataFrame. * Ogni riga in un DataFrame ha un’etichetta, che per impostazione predefinita è un numero intero crescente (0, 1, 2, ...), ma può essere modificata con `set_index()`.\n",
    "* da accesso ai valori dell'indice. "
   ]
  },
  {
   "cell_type": "code",
   "execution_count": 10,
   "id": "c599c8eb",
   "metadata": {},
   "outputs": [
    {
     "data": {
      "text/plain": [
       "Index(['Mango', 'Bread', 'Juice', 'Orange', 'Lime'], dtype='object', name='item')"
      ]
     },
     "execution_count": 10,
     "metadata": {},
     "output_type": "execute_result"
    }
   ],
   "source": [
    "df.index"
   ]
  },
  {
   "cell_type": "code",
   "execution_count": 67,
   "id": "99349263",
   "metadata": {
    "scrolled": true
   },
   "outputs": [
    {
     "data": {
      "text/html": [
       "<div>\n",
       "<style scoped>\n",
       "    .dataframe tbody tr th:only-of-type {\n",
       "        vertical-align: middle;\n",
       "    }\n",
       "\n",
       "    .dataframe tbody tr th {\n",
       "        vertical-align: top;\n",
       "    }\n",
       "\n",
       "    .dataframe thead th {\n",
       "        text-align: right;\n",
       "    }\n",
       "</style>\n",
       "<table border=\"1\" class=\"dataframe\">\n",
       "  <thead>\n",
       "    <tr style=\"text-align: right;\">\n",
       "      <th></th>\n",
       "      <th>quantity</th>\n",
       "      <th>price</th>\n",
       "      <th>subtotal</th>\n",
       "    </tr>\n",
       "    <tr>\n",
       "      <th>item</th>\n",
       "      <th></th>\n",
       "      <th></th>\n",
       "      <th></th>\n",
       "    </tr>\n",
       "  </thead>\n",
       "  <tbody>\n",
       "    <tr>\n",
       "      <th>mango</th>\n",
       "      <td>2</td>\n",
       "      <td>2.99</td>\n",
       "      <td>5.98</td>\n",
       "    </tr>\n",
       "    <tr>\n",
       "      <th>bread</th>\n",
       "      <td>2</td>\n",
       "      <td>3.25</td>\n",
       "      <td>6.50</td>\n",
       "    </tr>\n",
       "    <tr>\n",
       "      <th>juice</th>\n",
       "      <td>1</td>\n",
       "      <td>5.90</td>\n",
       "      <td>5.90</td>\n",
       "    </tr>\n",
       "    <tr>\n",
       "      <th>orange</th>\n",
       "      <td>3</td>\n",
       "      <td>2.99</td>\n",
       "      <td>8.97</td>\n",
       "    </tr>\n",
       "    <tr>\n",
       "      <th>lime</th>\n",
       "      <td>3</td>\n",
       "      <td>0.30</td>\n",
       "      <td>0.90</td>\n",
       "    </tr>\n",
       "  </tbody>\n",
       "</table>\n",
       "</div>"
      ],
      "text/plain": [
       "        quantity  price  subtotal\n",
       "item                             \n",
       "mango          2   2.99      5.98\n",
       "bread          2   3.25      6.50\n",
       "juice          1   5.90      5.90\n",
       "orange         3   2.99      8.97\n",
       "lime           3   0.30      0.90"
      ]
     },
     "execution_count": 67,
     "metadata": {},
     "output_type": "execute_result"
    }
   ],
   "source": [
    "df.index = df.index.str.lower() # sovrascrive l'indice con una serie di uguale lunghezza\n",
    "\n",
    "df"
   ]
  },
  {
   "cell_type": "markdown",
   "id": "d76bcf3a",
   "metadata": {},
   "source": [
    "# `.columns`\n",
    "Accesso a tutte le colonne. "
   ]
  },
  {
   "cell_type": "code",
   "execution_count": 69,
   "id": "76e1132c",
   "metadata": {},
   "outputs": [
    {
     "data": {
      "text/plain": [
       "Index(['quantity', 'price', 'subtotal'], dtype='object')"
      ]
     },
     "execution_count": 69,
     "metadata": {},
     "output_type": "execute_result"
    }
   ],
   "source": [
    "df.columns"
   ]
  },
  {
   "cell_type": "markdown",
   "id": "92724041",
   "metadata": {},
   "source": [
    "> ## Altro esempio di creazione di una nuova colonna"
   ]
  },
  {
   "cell_type": "code",
   "execution_count": 70,
   "id": "2f3993ac",
   "metadata": {},
   "outputs": [
    {
     "data": {
      "text/html": [
       "<div>\n",
       "<style scoped>\n",
       "    .dataframe tbody tr th:only-of-type {\n",
       "        vertical-align: middle;\n",
       "    }\n",
       "\n",
       "    .dataframe tbody tr th {\n",
       "        vertical-align: top;\n",
       "    }\n",
       "\n",
       "    .dataframe thead th {\n",
       "        text-align: right;\n",
       "    }\n",
       "</style>\n",
       "<table border=\"1\" class=\"dataframe\">\n",
       "  <thead>\n",
       "    <tr style=\"text-align: right;\">\n",
       "      <th></th>\n",
       "      <th>quantity</th>\n",
       "      <th>price</th>\n",
       "      <th>subtotal</th>\n",
       "      <th>tax</th>\n",
       "    </tr>\n",
       "    <tr>\n",
       "      <th>item</th>\n",
       "      <th></th>\n",
       "      <th></th>\n",
       "      <th></th>\n",
       "      <th></th>\n",
       "    </tr>\n",
       "  </thead>\n",
       "  <tbody>\n",
       "    <tr>\n",
       "      <th>mango</th>\n",
       "      <td>2</td>\n",
       "      <td>2.99</td>\n",
       "      <td>5.98</td>\n",
       "      <td>0.07</td>\n",
       "    </tr>\n",
       "    <tr>\n",
       "      <th>bread</th>\n",
       "      <td>2</td>\n",
       "      <td>3.25</td>\n",
       "      <td>6.50</td>\n",
       "      <td>0.07</td>\n",
       "    </tr>\n",
       "    <tr>\n",
       "      <th>juice</th>\n",
       "      <td>1</td>\n",
       "      <td>5.90</td>\n",
       "      <td>5.90</td>\n",
       "      <td>0.07</td>\n",
       "    </tr>\n",
       "    <tr>\n",
       "      <th>orange</th>\n",
       "      <td>3</td>\n",
       "      <td>2.99</td>\n",
       "      <td>8.97</td>\n",
       "      <td>0.07</td>\n",
       "    </tr>\n",
       "    <tr>\n",
       "      <th>lime</th>\n",
       "      <td>3</td>\n",
       "      <td>0.30</td>\n",
       "      <td>0.90</td>\n",
       "      <td>0.07</td>\n",
       "    </tr>\n",
       "  </tbody>\n",
       "</table>\n",
       "</div>"
      ],
      "text/plain": [
       "        quantity  price  subtotal   tax\n",
       "item                                   \n",
       "mango          2   2.99      5.98  0.07\n",
       "bread          2   3.25      6.50  0.07\n",
       "juice          1   5.90      5.90  0.07\n",
       "orange         3   2.99      8.97  0.07\n",
       "lime           3   0.30      0.90  0.07"
      ]
     },
     "execution_count": 70,
     "metadata": {},
     "output_type": "execute_result"
    }
   ],
   "source": [
    "df[\"tax\"] = 0.07\n",
    "df"
   ]
  },
  {
   "cell_type": "markdown",
   "id": "bd081c91",
   "metadata": {},
   "source": [
    "> ## La colonna \"costo totale\" non esiste, ma questa sintassi tra parentesi la crea.\n"
   ]
  },
  {
   "cell_type": "code",
   "execution_count": 71,
   "id": "48831344",
   "metadata": {
    "scrolled": true
   },
   "outputs": [
    {
     "data": {
      "text/html": [
       "<div>\n",
       "<style scoped>\n",
       "    .dataframe tbody tr th:only-of-type {\n",
       "        vertical-align: middle;\n",
       "    }\n",
       "\n",
       "    .dataframe tbody tr th {\n",
       "        vertical-align: top;\n",
       "    }\n",
       "\n",
       "    .dataframe thead th {\n",
       "        text-align: right;\n",
       "    }\n",
       "</style>\n",
       "<table border=\"1\" class=\"dataframe\">\n",
       "  <thead>\n",
       "    <tr style=\"text-align: right;\">\n",
       "      <th></th>\n",
       "      <th>quantity</th>\n",
       "      <th>price</th>\n",
       "      <th>subtotal</th>\n",
       "      <th>tax</th>\n",
       "      <th>total cost</th>\n",
       "    </tr>\n",
       "    <tr>\n",
       "      <th>item</th>\n",
       "      <th></th>\n",
       "      <th></th>\n",
       "      <th></th>\n",
       "      <th></th>\n",
       "      <th></th>\n",
       "    </tr>\n",
       "  </thead>\n",
       "  <tbody>\n",
       "    <tr>\n",
       "      <th>mango</th>\n",
       "      <td>2</td>\n",
       "      <td>2.99</td>\n",
       "      <td>5.98</td>\n",
       "      <td>0.07</td>\n",
       "      <td>6.3986</td>\n",
       "    </tr>\n",
       "    <tr>\n",
       "      <th>bread</th>\n",
       "      <td>2</td>\n",
       "      <td>3.25</td>\n",
       "      <td>6.50</td>\n",
       "      <td>0.07</td>\n",
       "      <td>6.9550</td>\n",
       "    </tr>\n",
       "    <tr>\n",
       "      <th>juice</th>\n",
       "      <td>1</td>\n",
       "      <td>5.90</td>\n",
       "      <td>5.90</td>\n",
       "      <td>0.07</td>\n",
       "      <td>6.3130</td>\n",
       "    </tr>\n",
       "    <tr>\n",
       "      <th>orange</th>\n",
       "      <td>3</td>\n",
       "      <td>2.99</td>\n",
       "      <td>8.97</td>\n",
       "      <td>0.07</td>\n",
       "      <td>9.5979</td>\n",
       "    </tr>\n",
       "    <tr>\n",
       "      <th>lime</th>\n",
       "      <td>3</td>\n",
       "      <td>0.30</td>\n",
       "      <td>0.90</td>\n",
       "      <td>0.07</td>\n",
       "      <td>0.9630</td>\n",
       "    </tr>\n",
       "  </tbody>\n",
       "</table>\n",
       "</div>"
      ],
      "text/plain": [
       "        quantity  price  subtotal   tax  total cost\n",
       "item                                               \n",
       "mango          2   2.99      5.98  0.07      6.3986\n",
       "bread          2   3.25      6.50  0.07      6.9550\n",
       "juice          1   5.90      5.90  0.07      6.3130\n",
       "orange         3   2.99      8.97  0.07      9.5979\n",
       "lime           3   0.30      0.90  0.07      0.9630"
      ]
     },
     "execution_count": 71,
     "metadata": {},
     "output_type": "execute_result"
    }
   ],
   "source": [
    "df[\"total cost\"] = df[\"subtotal\"] + (df[\"subtotal\"] * df[\"tax\"])\n",
    "df"
   ]
  },
  {
   "cell_type": "markdown",
   "id": "10e97e1d",
   "metadata": {},
   "source": [
    "> ## Attraverso la sintassi dei punti possiamo chiamare una colonna esistente ma solo se la colonna esista già. "
   ]
  },
  {
   "cell_type": "code",
   "execution_count": 72,
   "id": "89e429b8",
   "metadata": {},
   "outputs": [
    {
     "data": {
      "text/plain": [
       "item\n",
       "mango     2.99\n",
       "bread     3.25\n",
       "juice     5.90\n",
       "orange    2.99\n",
       "lime      0.30\n",
       "Name: price, dtype: float64"
      ]
     },
     "execution_count": 72,
     "metadata": {},
     "output_type": "execute_result"
    }
   ],
   "source": [
    "df.price"
   ]
  },
  {
   "cell_type": "code",
   "execution_count": 73,
   "id": "5fc9b9b2",
   "metadata": {
    "scrolled": true
   },
   "outputs": [
    {
     "data": {
      "text/plain": [
       "quantity        int64\n",
       "price         float64\n",
       "subtotal      float64\n",
       "tax           float64\n",
       "total cost    float64\n",
       "dtype: object"
      ]
     },
     "execution_count": 73,
     "metadata": {},
     "output_type": "execute_result"
    }
   ],
   "source": [
    "df.dtypes # emette i tipi di dati di tutte le colonne nel dataframe\n"
   ]
  },
  {
   "cell_type": "markdown",
   "id": "aa19d832",
   "metadata": {},
   "source": [
    "# `.info`\n",
    "Strumento diagnostico molto utile che fornisce un riepilogo tecnico del DataFrame."
   ]
  },
  {
   "cell_type": "code",
   "execution_count": 75,
   "id": "42a266de",
   "metadata": {
    "scrolled": true
   },
   "outputs": [
    {
     "name": "stdout",
     "output_type": "stream",
     "text": [
      "<class 'pandas.core.frame.DataFrame'>\n",
      "Index: 5 entries, mango to lime\n",
      "Data columns (total 5 columns):\n",
      " #   Column      Non-Null Count  Dtype  \n",
      "---  ------      --------------  -----  \n",
      " 0   quantity    5 non-null      int64  \n",
      " 1   price       5 non-null      float64\n",
      " 2   subtotal    5 non-null      float64\n",
      " 3   tax         5 non-null      float64\n",
      " 4   total cost  5 non-null      float64\n",
      "dtypes: float64(4), int64(1)\n",
      "memory usage: 412.0+ bytes\n"
     ]
    }
   ],
   "source": [
    "df.info()"
   ]
  },
  {
   "cell_type": "markdown",
   "id": "33515449",
   "metadata": {},
   "source": [
    "# `.describe()`\n",
    "Fornisce statistiche descrittive automatiche per tutte le colonne numeriche del DataFrame."
   ]
  },
  {
   "cell_type": "code",
   "execution_count": 76,
   "id": "32df1baa",
   "metadata": {},
   "outputs": [
    {
     "data": {
      "text/plain": [
       "count    5.000000\n",
       "mean     3.086000\n",
       "std      1.982783\n",
       "min      0.300000\n",
       "25%      2.990000\n",
       "50%      2.990000\n",
       "75%      3.250000\n",
       "max      5.900000\n",
       "Name: price, dtype: float64"
      ]
     },
     "execution_count": 76,
     "metadata": {},
     "output_type": "execute_result"
    }
   ],
   "source": [
    "df.price.describe() # per singola colonna"
   ]
  },
  {
   "cell_type": "code",
   "execution_count": 77,
   "id": "a30fc88f",
   "metadata": {},
   "outputs": [
    {
     "data": {
      "text/html": [
       "<div>\n",
       "<style scoped>\n",
       "    .dataframe tbody tr th:only-of-type {\n",
       "        vertical-align: middle;\n",
       "    }\n",
       "\n",
       "    .dataframe tbody tr th {\n",
       "        vertical-align: top;\n",
       "    }\n",
       "\n",
       "    .dataframe thead th {\n",
       "        text-align: right;\n",
       "    }\n",
       "</style>\n",
       "<table border=\"1\" class=\"dataframe\">\n",
       "  <thead>\n",
       "    <tr style=\"text-align: right;\">\n",
       "      <th></th>\n",
       "      <th>quantity</th>\n",
       "      <th>price</th>\n",
       "      <th>subtotal</th>\n",
       "      <th>tax</th>\n",
       "      <th>total cost</th>\n",
       "    </tr>\n",
       "  </thead>\n",
       "  <tbody>\n",
       "    <tr>\n",
       "      <th>count</th>\n",
       "      <td>5.00000</td>\n",
       "      <td>5.000000</td>\n",
       "      <td>5.000000</td>\n",
       "      <td>5.00</td>\n",
       "      <td>5.000000</td>\n",
       "    </tr>\n",
       "    <tr>\n",
       "      <th>mean</th>\n",
       "      <td>2.20000</td>\n",
       "      <td>3.086000</td>\n",
       "      <td>5.650000</td>\n",
       "      <td>0.07</td>\n",
       "      <td>6.045500</td>\n",
       "    </tr>\n",
       "    <tr>\n",
       "      <th>std</th>\n",
       "      <td>0.83666</td>\n",
       "      <td>1.982783</td>\n",
       "      <td>2.935933</td>\n",
       "      <td>0.00</td>\n",
       "      <td>3.141448</td>\n",
       "    </tr>\n",
       "    <tr>\n",
       "      <th>min</th>\n",
       "      <td>1.00000</td>\n",
       "      <td>0.300000</td>\n",
       "      <td>0.900000</td>\n",
       "      <td>0.07</td>\n",
       "      <td>0.963000</td>\n",
       "    </tr>\n",
       "    <tr>\n",
       "      <th>25%</th>\n",
       "      <td>2.00000</td>\n",
       "      <td>2.990000</td>\n",
       "      <td>5.900000</td>\n",
       "      <td>0.07</td>\n",
       "      <td>6.313000</td>\n",
       "    </tr>\n",
       "    <tr>\n",
       "      <th>50%</th>\n",
       "      <td>2.00000</td>\n",
       "      <td>2.990000</td>\n",
       "      <td>5.980000</td>\n",
       "      <td>0.07</td>\n",
       "      <td>6.398600</td>\n",
       "    </tr>\n",
       "    <tr>\n",
       "      <th>75%</th>\n",
       "      <td>3.00000</td>\n",
       "      <td>3.250000</td>\n",
       "      <td>6.500000</td>\n",
       "      <td>0.07</td>\n",
       "      <td>6.955000</td>\n",
       "    </tr>\n",
       "    <tr>\n",
       "      <th>max</th>\n",
       "      <td>3.00000</td>\n",
       "      <td>5.900000</td>\n",
       "      <td>8.970000</td>\n",
       "      <td>0.07</td>\n",
       "      <td>9.597900</td>\n",
       "    </tr>\n",
       "  </tbody>\n",
       "</table>\n",
       "</div>"
      ],
      "text/plain": [
       "       quantity     price  subtotal   tax  total cost\n",
       "count   5.00000  5.000000  5.000000  5.00    5.000000\n",
       "mean    2.20000  3.086000  5.650000  0.07    6.045500\n",
       "std     0.83666  1.982783  2.935933  0.00    3.141448\n",
       "min     1.00000  0.300000  0.900000  0.07    0.963000\n",
       "25%     2.00000  2.990000  5.900000  0.07    6.313000\n",
       "50%     2.00000  2.990000  5.980000  0.07    6.398600\n",
       "75%     3.00000  3.250000  6.500000  0.07    6.955000\n",
       "max     3.00000  5.900000  8.970000  0.07    9.597900"
      ]
     },
     "execution_count": 77,
     "metadata": {},
     "output_type": "execute_result"
    }
   ],
   "source": [
    "df.describe() # statistiche descrittive per le colonne "
   ]
  },
  {
   "cell_type": "markdown",
   "id": "6d3f89bf",
   "metadata": {},
   "source": [
    "> ### Una colonna di un `DataFrame` è un oggetto `Series`."
   ]
  },
  {
   "cell_type": "code",
   "execution_count": 78,
   "id": "a68bd228",
   "metadata": {},
   "outputs": [
    {
     "data": {
      "text/plain": [
       "pandas.core.series.Series"
      ]
     },
     "execution_count": 78,
     "metadata": {},
     "output_type": "execute_result"
    }
   ],
   "source": [
    "type(df.quantity)"
   ]
  },
  {
   "cell_type": "markdown",
   "id": "dfe04464",
   "metadata": {},
   "source": [
    "# `.value_counts`\n",
    "Restituisce il conteggio delle occorrenze uniche in una colonna di un DataFrame."
   ]
  },
  {
   "cell_type": "code",
   "execution_count": 81,
   "id": "302b7fb7",
   "metadata": {},
   "outputs": [
    {
     "data": {
      "text/plain": [
       "quantity\n",
       "2    2\n",
       "3    2\n",
       "1    1\n",
       "Name: count, dtype: int64"
      ]
     },
     "execution_count": 81,
     "metadata": {},
     "output_type": "execute_result"
    }
   ],
   "source": [
    "df.quantity.value_counts()"
   ]
  },
  {
   "cell_type": "code",
   "execution_count": 84,
   "id": "32c5003b",
   "metadata": {},
   "outputs": [
    {
     "data": {
      "text/plain": [
       "quantity      2.2000\n",
       "price         3.0860\n",
       "subtotal      5.6500\n",
       "tax           0.0700\n",
       "total cost    6.0455\n",
       "dtype: float64"
      ]
     },
     "execution_count": 84,
     "metadata": {},
     "output_type": "execute_result"
    }
   ],
   "source": [
    "df.mean() # Posso eseguire Funzioni aggregate su tutti i valori numerici."
   ]
  },
  {
   "cell_type": "code",
   "execution_count": 85,
   "id": "a34b3597",
   "metadata": {},
   "outputs": [
    {
     "data": {
      "text/plain": [
       "quantity      2.0000\n",
       "price         2.9900\n",
       "subtotal      5.9800\n",
       "tax           0.0700\n",
       "total cost    6.3986\n",
       "dtype: float64"
      ]
     },
     "execution_count": 85,
     "metadata": {},
     "output_type": "execute_result"
    }
   ],
   "source": [
    "df.median()"
   ]
  },
  {
   "cell_type": "code",
   "execution_count": 86,
   "id": "9ba2daf1",
   "metadata": {},
   "outputs": [
    {
     "data": {
      "text/plain": [
       "quantity      0.836660\n",
       "price         1.982783\n",
       "subtotal      2.935933\n",
       "tax           0.000000\n",
       "total cost    3.141448\n",
       "dtype: float64"
      ]
     },
     "execution_count": 86,
     "metadata": {},
     "output_type": "execute_result"
    }
   ],
   "source": [
    "df.std()"
   ]
  },
  {
   "cell_type": "markdown",
   "id": "1351cbf8",
   "metadata": {},
   "source": [
    "## Uso corretto dei nomi delle colonne in Pandas\n",
    "Possiamo accedere alle colonne di un DataFrame usando le parentesi quadrate:\n",
    "* `df[\"nome_colonna\"]`\n",
    "\n",
    "Sintassi necessaria quando:\n",
    "\n",
    "* Il nome della colonna contiene spazi, ad esempio: `\"media voti\"`\n",
    "* Il nome della colonna corrisponde a un metodo interno di Pandas, come `\"count\"`, `\"mean\"`, `\"sum\"`, ecc.\n",
    "\n",
    "Non utilizzare nomi di metodi Pandas. "
   ]
  },
  {
   "cell_type": "code",
   "execution_count": 89,
   "id": "2882d338",
   "metadata": {},
   "outputs": [
    {
     "data": {
      "text/html": [
       "<div>\n",
       "<style scoped>\n",
       "    .dataframe tbody tr th:only-of-type {\n",
       "        vertical-align: middle;\n",
       "    }\n",
       "\n",
       "    .dataframe tbody tr th {\n",
       "        vertical-align: top;\n",
       "    }\n",
       "\n",
       "    .dataframe thead th {\n",
       "        text-align: right;\n",
       "    }\n",
       "</style>\n",
       "<table border=\"1\" class=\"dataframe\">\n",
       "  <thead>\n",
       "    <tr style=\"text-align: right;\">\n",
       "      <th></th>\n",
       "      <th>quantity</th>\n",
       "      <th>price</th>\n",
       "      <th>subtotal</th>\n",
       "      <th>tax</th>\n",
       "      <th>total cost</th>\n",
       "      <th>shape</th>\n",
       "    </tr>\n",
       "    <tr>\n",
       "      <th>item</th>\n",
       "      <th></th>\n",
       "      <th></th>\n",
       "      <th></th>\n",
       "      <th></th>\n",
       "      <th></th>\n",
       "      <th></th>\n",
       "    </tr>\n",
       "  </thead>\n",
       "  <tbody>\n",
       "    <tr>\n",
       "      <th>mango</th>\n",
       "      <td>2</td>\n",
       "      <td>2.99</td>\n",
       "      <td>5.98</td>\n",
       "      <td>0.07</td>\n",
       "      <td>6.3986</td>\n",
       "      <td>round</td>\n",
       "    </tr>\n",
       "    <tr>\n",
       "      <th>bread</th>\n",
       "      <td>2</td>\n",
       "      <td>3.25</td>\n",
       "      <td>6.50</td>\n",
       "      <td>0.07</td>\n",
       "      <td>6.9550</td>\n",
       "      <td>loaf</td>\n",
       "    </tr>\n",
       "    <tr>\n",
       "      <th>juice</th>\n",
       "      <td>1</td>\n",
       "      <td>5.90</td>\n",
       "      <td>5.90</td>\n",
       "      <td>0.07</td>\n",
       "      <td>6.3130</td>\n",
       "      <td>jug</td>\n",
       "    </tr>\n",
       "    <tr>\n",
       "      <th>orange</th>\n",
       "      <td>3</td>\n",
       "      <td>2.99</td>\n",
       "      <td>8.97</td>\n",
       "      <td>0.07</td>\n",
       "      <td>9.5979</td>\n",
       "      <td>round</td>\n",
       "    </tr>\n",
       "    <tr>\n",
       "      <th>lime</th>\n",
       "      <td>3</td>\n",
       "      <td>0.30</td>\n",
       "      <td>0.90</td>\n",
       "      <td>0.07</td>\n",
       "      <td>0.9630</td>\n",
       "      <td>round</td>\n",
       "    </tr>\n",
       "  </tbody>\n",
       "</table>\n",
       "</div>"
      ],
      "text/plain": [
       "        quantity  price  subtotal   tax  total cost  shape\n",
       "item                                                      \n",
       "mango          2   2.99      5.98  0.07      6.3986  round\n",
       "bread          2   3.25      6.50  0.07      6.9550   loaf\n",
       "juice          1   5.90      5.90  0.07      6.3130    jug\n",
       "orange         3   2.99      8.97  0.07      9.5979  round\n",
       "lime           3   0.30      0.90  0.07      0.9630  round"
      ]
     },
     "execution_count": 89,
     "metadata": {},
     "output_type": "execute_result"
    }
   ],
   "source": [
    "df[\"shape\"] = [\"round\", \"loaf\", \"jug\", \"round\", \"round\"]\n",
    "df"
   ]
  },
  {
   "cell_type": "code",
   "execution_count": 90,
   "id": "fed7bb27",
   "metadata": {},
   "outputs": [
    {
     "data": {
      "text/plain": [
       "(5, 6)"
      ]
     },
     "execution_count": 90,
     "metadata": {},
     "output_type": "execute_result"
    }
   ],
   "source": [
    "df.shape # mostra numero righe e colonne\n"
   ]
  },
  {
   "cell_type": "code",
   "execution_count": 91,
   "id": "966087d2",
   "metadata": {},
   "outputs": [
    {
     "data": {
      "text/plain": [
       "item\n",
       "mango     round\n",
       "bread      loaf\n",
       "juice       jug\n",
       "orange    round\n",
       "lime      round\n",
       "Name: shape, dtype: object"
      ]
     },
     "execution_count": 91,
     "metadata": {},
     "output_type": "execute_result"
    }
   ],
   "source": [
    "df[\"shape\"]"
   ]
  },
  {
   "cell_type": "markdown",
   "id": "3ae29e51",
   "metadata": {},
   "source": [
    "# `.rename`\n",
    "Il metodo `.rename()` serve per rinominare colonne o righe (indici) in un DataFrame, senza modificare i dati."
   ]
  },
  {
   "cell_type": "code",
   "execution_count": 92,
   "id": "e4dd538e",
   "metadata": {},
   "outputs": [
    {
     "data": {
      "text/html": [
       "<div>\n",
       "<style scoped>\n",
       "    .dataframe tbody tr th:only-of-type {\n",
       "        vertical-align: middle;\n",
       "    }\n",
       "\n",
       "    .dataframe tbody tr th {\n",
       "        vertical-align: top;\n",
       "    }\n",
       "\n",
       "    .dataframe thead th {\n",
       "        text-align: right;\n",
       "    }\n",
       "</style>\n",
       "<table border=\"1\" class=\"dataframe\">\n",
       "  <thead>\n",
       "    <tr style=\"text-align: right;\">\n",
       "      <th></th>\n",
       "      <th>quantity</th>\n",
       "      <th>price</th>\n",
       "      <th>subtotal</th>\n",
       "      <th>tax</th>\n",
       "      <th>total</th>\n",
       "      <th>item_shape</th>\n",
       "    </tr>\n",
       "    <tr>\n",
       "      <th>item</th>\n",
       "      <th></th>\n",
       "      <th></th>\n",
       "      <th></th>\n",
       "      <th></th>\n",
       "      <th></th>\n",
       "      <th></th>\n",
       "    </tr>\n",
       "  </thead>\n",
       "  <tbody>\n",
       "    <tr>\n",
       "      <th>mango</th>\n",
       "      <td>2</td>\n",
       "      <td>2.99</td>\n",
       "      <td>5.98</td>\n",
       "      <td>0.07</td>\n",
       "      <td>6.3986</td>\n",
       "      <td>round</td>\n",
       "    </tr>\n",
       "    <tr>\n",
       "      <th>bread</th>\n",
       "      <td>2</td>\n",
       "      <td>3.25</td>\n",
       "      <td>6.50</td>\n",
       "      <td>0.07</td>\n",
       "      <td>6.9550</td>\n",
       "      <td>loaf</td>\n",
       "    </tr>\n",
       "    <tr>\n",
       "      <th>juice</th>\n",
       "      <td>1</td>\n",
       "      <td>5.90</td>\n",
       "      <td>5.90</td>\n",
       "      <td>0.07</td>\n",
       "      <td>6.3130</td>\n",
       "      <td>jug</td>\n",
       "    </tr>\n",
       "    <tr>\n",
       "      <th>orange</th>\n",
       "      <td>3</td>\n",
       "      <td>2.99</td>\n",
       "      <td>8.97</td>\n",
       "      <td>0.07</td>\n",
       "      <td>9.5979</td>\n",
       "      <td>round</td>\n",
       "    </tr>\n",
       "    <tr>\n",
       "      <th>lime</th>\n",
       "      <td>3</td>\n",
       "      <td>0.30</td>\n",
       "      <td>0.90</td>\n",
       "      <td>0.07</td>\n",
       "      <td>0.9630</td>\n",
       "      <td>round</td>\n",
       "    </tr>\n",
       "  </tbody>\n",
       "</table>\n",
       "</div>"
      ],
      "text/plain": [
       "        quantity  price  subtotal   tax   total item_shape\n",
       "item                                                      \n",
       "mango          2   2.99      5.98  0.07  6.3986      round\n",
       "bread          2   3.25      6.50  0.07  6.9550       loaf\n",
       "juice          1   5.90      5.90  0.07  6.3130        jug\n",
       "orange         3   2.99      8.97  0.07  9.5979      round\n",
       "lime           3   0.30      0.90  0.07  0.9630      round"
      ]
     },
     "execution_count": 92,
     "metadata": {},
     "output_type": "execute_result"
    }
   ],
   "source": [
    "df.rename(columns={\"shape\": \"item_shape\", \"total cost\": \"total\"}, inplace=True)\n",
    "df"
   ]
  },
  {
   "cell_type": "markdown",
   "id": "1a8485a6",
   "metadata": {},
   "source": [
    "# Esercitazione - Analisi delle Vendite in Libreria\n",
    "* Creare un DataFrame da una lista di dizionari\n",
    "* Rinominare colonne\n",
    "* Aggiungere una colonna personalizzata\n",
    "* Pulire e convertire dati in formato numerico\n",
    "* Calcolare e arrotondare ricavi totali"
   ]
  },
  {
   "cell_type": "code",
   "execution_count": 1,
   "id": "e8a7f2fd",
   "metadata": {},
   "outputs": [],
   "source": [
    "books = [\n",
    "    {\"book title\": \"Python 101\", \"price\": \"$29.90\", \"format\": \"paperback\"},\n",
    "    {\"book title\": \"Data Science\", \"price\": \"$39.95\", \"format\": \"ebook\"},\n",
    "    {\"book title\": \"AI for Beginners\", \"price\": \"$49.50\", \"format\": \"paperback\"},\n",
    "    {\"book title\": \"ML Guide\", \"price\": \"$59.00\", \"format\": \"hardcover\"},\n",
    "    {\"book title\": \"Statistics\", \"price\": \"$35.75\", \"format\": \"ebook\"},\n",
    "]\n"
   ]
  },
  {
   "cell_type": "markdown",
   "id": "55dda5a8",
   "metadata": {},
   "source": [
    "1. Crea un DataFrame chiamato `books_df` a partire dalla lista `books`.\n",
    "2. Rinomina la colonna `\"book title\"` in `\"book_title\"`.\n",
    "3. Aggiungi una colonna chiamata `copies_sold` con i valori: `[120, 340, 80, 60, 250]`.\n",
    "4. Pulisci la colonna `price` rimuovendo il simbolo `$` e converti i valori in tipo `float`.\n",
    "* Crea una nuova colonna `total_revenue` che moltiplica `price` per `copies_sold`.\n",
    "* Arrotonda i valori della colonna `total_revenue` a due cifre decimali.\n",
    "\n",
    "Usa `.rename()`, `.str.replace()`, `.astype(float)`, `round()`, e operazioni tra colonne."
   ]
  },
  {
   "cell_type": "code",
   "execution_count": 2,
   "id": "4c977fc5",
   "metadata": {},
   "outputs": [
    {
     "name": "stdout",
     "output_type": "stream",
     "text": [
      "         book_title  price     format  copies_sold  total_revenue\n",
      "0        Python 101  29.90  paperback          120         3588.0\n",
      "1      Data Science  39.95      ebook          340        13583.0\n",
      "2  AI for Beginners  49.50  paperback           80         3960.0\n",
      "3          ML Guide  59.00  hardcover           60         3540.0\n",
      "4        Statistics  35.75      ebook          250         8937.5\n"
     ]
    }
   ],
   "source": [
    "import pandas as pd\n",
    "\n",
    "# 1. Creazione del DataFrame\n",
    "books = [\n",
    "    {\"book title\": \"Python 101\", \"price\": \"$29.90\", \"format\": \"paperback\"},\n",
    "    {\"book title\": \"Data Science\", \"price\": \"$39.95\", \"format\": \"ebook\"},\n",
    "    {\"book title\": \"AI for Beginners\", \"price\": \"$49.50\", \"format\": \"paperback\"},\n",
    "    {\"book title\": \"ML Guide\", \"price\": \"$59.00\", \"format\": \"hardcover\"},\n",
    "    {\"book title\": \"Statistics\", \"price\": \"$35.75\", \"format\": \"ebook\"},\n",
    "]\n",
    "\n",
    "books_df = pd.DataFrame(books)\n",
    "\n",
    "# 2. Rinomina colonna\n",
    "books_df = books_df.rename(columns={\"book title\": \"book_title\"})\n",
    "\n",
    "# 3. Aggiunta colonna 'copies_sold'\n",
    "books_df[\"copies_sold\"] = [120, 340, 80, 60, 250]\n",
    "\n",
    "# 4. Pulizia e conversione colonna 'price'\n",
    "books_df[\"price\"] = books_df[\"price\"].str.replace(\"$\", \"\", regex=False).astype(float)\n",
    "\n",
    "# 5. Calcolo ricavo totale\n",
    "books_df[\"total_revenue\"] = books_df[\"price\"] * books_df[\"copies_sold\"]\n",
    "\n",
    "# 6. Arrotondamento a 2 decimali\n",
    "books_df[\"total_revenue\"] = books_df[\"total_revenue\"].round(2)\n",
    "\n",
    "# Visualizza risultato\n",
    "print(books_df)"
   ]
  },
  {
   "cell_type": "code",
   "execution_count": null,
   "id": "0166ea1a",
   "metadata": {},
   "outputs": [],
   "source": []
  },
  {
   "cell_type": "code",
   "execution_count": null,
   "id": "6d338d02",
   "metadata": {},
   "outputs": [],
   "source": []
  }
 ],
 "metadata": {
  "kernelspec": {
   "display_name": "Python 3 (ipykernel)",
   "language": "python",
   "name": "python3"
  },
  "language_info": {
   "codemirror_mode": {
    "name": "ipython",
    "version": 3
   },
   "file_extension": ".py",
   "mimetype": "text/x-python",
   "name": "python",
   "nbconvert_exporter": "python",
   "pygments_lexer": "ipython3",
   "version": "3.9.7"
  }
 },
 "nbformat": 4,
 "nbformat_minor": 5
}
