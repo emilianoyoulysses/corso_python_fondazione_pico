{
 "cells": [
  {
   "cell_type": "markdown",
   "id": "c8188ad3",
   "metadata": {},
   "source": [
    "# La programmazione orientata agli oggetti\n",
    "\n",
    "Immagina di costruire un simulatore di logistica: in un **mondo orientato agli oggetti (OOP**), ogni auto non sarebbe una semplice collezione di dati e comandi.\n",
    "\n",
    "> Ogni auto sarebbe rappresentata come un *oggetto*, **un'istanza distinta di una classe**: questi sono i componenti essenziali dell'**OOP**.\n",
    "\n",
    "Una **classe Auto** potrebbe avere **attributi** come: modello, colore, tipo_motore, numero_posti.\n",
    "\n",
    "I suoi **metodi** potrebbero includere: accelera(), frena(), sterza()"
   ]
  },
  {
   "cell_type": "markdown",
   "id": "237ea08d",
   "metadata": {},
   "source": [
    "## Le classi pietra angolare di OOP\n",
    "\n",
    "Le classi sono la pietra angolare dell'object-oriented programming (OOP) in Python.\n",
    "> Forniscono un progetto strutturato per la creazione di oggetti, gli elementi costitutivi fondamentali delle tue applicazioni."
   ]
  },
  {
   "cell_type": "markdown",
   "id": "35fc509e",
   "metadata": {},
   "source": [
    "## Oggetti\n",
    "Rappresentano entità del mondo reale o concetti astratti all'interno del tuo codice.\n",
    "> Ogni oggetto è come un'unità autonoma con i propri dati e la capacità di eseguire azioni.\n",
    "\n",
    "## Classi\n",
    "Servono come progetti o modelli per la creazione di oggetti.\n",
    "> Le classi definiscono le **caratteristiche comuni (attributi)** e i **comportamenti (metodi)** che tutti gli oggetti di quella classe condividono.\n",
    "\n",
    "## Organizzazione del codice\n",
    "Le classi creano una struttura chiara per il tuo codice.\n",
    "> Invece di spargere variabili e funzioni in tutto lo script, possiamo raggrupparle all'interno di una classe, rendendo il codice più facile da leggere, capire e mantenere."
   ]
  },
  {
   "cell_type": "markdown",
   "id": "b78643f3",
   "metadata": {},
   "source": [
    "## Introduzione Classi.\n",
    "\n",
    "### Il piano generale. \n",
    "Dobbiamo creare una flotta di auto che consegnano merci per una società di logistica ed abbiamo la necessità di predisporre un piano generale che consenta di creare efficacemente auto con funzionalità diverse.\n",
    "\n",
    "In Python, il **piano generale** è conosciuto come una classe. \n",
    "\n",
    "### Cosa sono le classi\n",
    "Le classi sono entità che sintetizzano un insieme di **attributi, o dati, e metodi, o funzioni.** \n",
    "+ definiscono le caratteristiche e i comportamenti degli oggetti;\n",
    "+ sono paragonabili ad uno stampo o ad un progetto da poter usare per creare più oggetti in base ai dati e alle funzionalità di una classe classe. \n",
    "\n",
    "Ad esempio, in un impianto di auto, i piani per un modello di auto sono la classe:\n",
    "1. definisce il colore, il tipo di motore e il numero di posti, nonché le sue funzioni come l'accelerazione, la frenata e la sterzata. \n",
    "2. ogni auto che esce dalla catena di montaggio è un oggetto, che è **un'istanza** della classe dell'auto. \n",
    "\n",
    "### Le classi sono più di un semplice modello per creare oggetti. \n",
    "Forniscono tre importanti funzionalità per organizzare, riutilizzare ed estendere il tuo codice. "
   ]
  },
  {
   "cell_type": "code",
   "execution_count": null,
   "id": "0b1f4979",
   "metadata": {},
   "outputs": [],
   "source": []
  },
  {
   "cell_type": "markdown",
   "id": "49b21e15",
   "metadata": {},
   "source": [
    "# 1. Utilizziamo la parola chiave class\n",
    "Scriviamo `Class` seguito dal nome della classe, usando la notazione PascalCase(iniziali maiuscole):"
   ]
  },
  {
   "cell_type": "code",
   "execution_count": 11,
   "id": "e7435df7",
   "metadata": {},
   "outputs": [],
   "source": [
    "class Auto:\n",
    "    pass"
   ]
  },
  {
   "cell_type": "markdown",
   "id": "3b32e122",
   "metadata": {},
   "source": [
    "# 2. Definiamo il costruttore `__init__( )`\n",
    "Il costruttore è un metodo speciale che viene eseguito automaticamente quando viene creata una nuova istanza.\\\n",
    "Serve a inizializzare gli attributi."
   ]
  },
  {
   "cell_type": "code",
   "execution_count": 4,
   "id": "e901f28b",
   "metadata": {},
   "outputs": [],
   "source": [
    "class Auto:\n",
    "    def __init__(self, modello, colore):\n",
    "        self.modello = modello    # attributo\n",
    "        self.colore = colore      # attributo"
   ]
  },
  {
   "cell_type": "markdown",
   "id": "e85d8d05",
   "metadata": {},
   "source": [
    "-> `self` è un riferimento **all’istanza corrente della classe.**\n",
    "- permette di accedere agli attributi ed ai metodi di classe;\n",
    "- è obbligatorio come primo parametro nei metodi di una classe.\n",
    "\n",
    "->`self.name` crea o aggiorna un attributo di istanza chiamato name, questo attributo sarà disponibile per tutta la durata dell'oggetto.\\\n",
    "-> `name` è il parametro passato al costruttore al momendo della creazione dell'oggetto. \n"
   ]
  },
  {
   "cell_type": "markdown",
   "id": "5d9caac9",
   "metadata": {},
   "source": [
    "# 3. Aggiungiamo metodi personalizzati\n",
    "I metodi sono le azioni che l'oggetto può compiere. "
   ]
  },
  {
   "cell_type": "code",
   "execution_count": 5,
   "id": "08c83037",
   "metadata": {},
   "outputs": [],
   "source": [
    "    def accendi_motore(self):\n",
    "        print(f\"L'auto {self.modello} è accesa.\")\n",
    "\n",
    "    def spegni_motore(self):\n",
    "        print(f\"L'auto {self.modello} è spenta.\")"
   ]
  },
  {
   "cell_type": "markdown",
   "id": "a7b1f39e",
   "metadata": {},
   "source": [
    "# 4. Istanziamo la classe\n",
    "Creiamo un **oggetto(istanza)** di classe ed usiamolo."
   ]
  },
  {
   "cell_type": "code",
   "execution_count": 7,
   "id": "2142e5ad",
   "metadata": {},
   "outputs": [
    {
     "ename": "AttributeError",
     "evalue": "'Auto' object has no attribute 'spegni_motore'",
     "output_type": "error",
     "traceback": [
      "\u001b[0;31m---------------------------------------------------------------------------\u001b[0m",
      "\u001b[0;31mAttributeError\u001b[0m                            Traceback (most recent call last)",
      "Cell \u001b[0;32mIn[7], line 2\u001b[0m\n\u001b[1;32m      1\u001b[0m mia_auto \u001b[38;5;241m=\u001b[39m Auto(\u001b[38;5;124m\"\u001b[39m\u001b[38;5;124mFiat Panda\u001b[39m\u001b[38;5;124m\"\u001b[39m, \u001b[38;5;124m\"\u001b[39m\u001b[38;5;124mrosso\u001b[39m\u001b[38;5;124m\"\u001b[39m)\n\u001b[0;32m----> 2\u001b[0m mia_auto\u001b[38;5;241m.\u001b[39mspegni_motore()\n",
      "\u001b[0;31mAttributeError\u001b[0m: 'Auto' object has no attribute 'spegni_motore'"
     ]
    }
   ],
   "source": [
    "mia_auto = Auto(\"Fiat Panda\", \"rosso\")\n",
    "mia_auto.spegni_motore()\n"
   ]
  },
  {
   "cell_type": "code",
   "execution_count": null,
   "id": "9f49a895",
   "metadata": {},
   "outputs": [],
   "source": []
  },
  {
   "cell_type": "markdown",
   "id": "f7b5959d",
   "metadata": {},
   "source": [
    "# Codice completo"
   ]
  },
  {
   "cell_type": "code",
   "execution_count": 8,
   "id": "42e83d96",
   "metadata": {},
   "outputs": [
    {
     "name": "stdout",
     "output_type": "stream",
     "text": [
      "Toyota Yaris (blu) è accesa.\n"
     ]
    }
   ],
   "source": [
    "class Auto:\n",
    "    def __init__(self, modello, colore):\n",
    "        self.modello = modello\n",
    "        self.colore = colore\n",
    "\n",
    "    def accendi_motore(self):\n",
    "        print(f\"{self.modello} ({self.colore}) è accesa.\")\n",
    "\n",
    "    def spegni_motore(self):\n",
    "        print(f\"{self.modello} è spenta.\")\n",
    "\n",
    "# Istanziazione\n",
    "mia_auto = Auto(\"Toyota Yaris\", \"blu\")\n",
    "mia_auto.accendi_motore()\n"
   ]
  },
  {
   "cell_type": "code",
   "execution_count": null,
   "id": "1254d901",
   "metadata": {},
   "outputs": [],
   "source": []
  },
  {
   "cell_type": "markdown",
   "id": "1e77f017",
   "metadata": {},
   "source": [
    "# Esercitazione 1 - Creare una classe base con attributi ed istanziarla. \n",
    "\n",
    "1. Crea una classe Persona con due attributi: nome ed età.\n",
    "2. Aggiungi un costruttore che inizializzi questi valori.\n",
    "3. Crea due oggetti Persona e stampa i loro attributi."
   ]
  },
  {
   "cell_type": "markdown",
   "id": "6b7d921a",
   "metadata": {},
   "source": [
    "|<br>\n",
    "|<br>\n",
    "|<br>\n",
    "|<br>\n",
    "|<br>\n",
    "|<br>\n",
    "|<br>\n",
    "|<br>\n",
    "|<br>\n",
    "|<br>"
   ]
  },
  {
   "cell_type": "code",
   "execution_count": 9,
   "id": "2fde8865",
   "metadata": {},
   "outputs": [
    {
     "name": "stdout",
     "output_type": "stream",
     "text": [
      "Luca\n",
      "30\n"
     ]
    }
   ],
   "source": [
    "class Persona:\n",
    "    def __init__(self, nome, eta):\n",
    "        self.nome = nome\n",
    "        self.eta = eta\n",
    "\n",
    "# Istanziazione\n",
    "persona1 = Persona(\"Luca\", 30)\n",
    "\n",
    "# Accesso agli attributi\n",
    "print(persona1.nome)  # Output: Luca\n",
    "print(persona1.eta)   # Output: 30"
   ]
  },
  {
   "cell_type": "markdown",
   "id": "bf0a749a",
   "metadata": {},
   "source": [
    "# Esercitazione 2 - Creare una classe cane ed aggiungere un metodo che rappresenti il comportamento dell'oggetto. \n",
    "1. Crea una classe Cane con attributi: nome, razza.\n",
    "2. Aggiungi un metodo abbaia() che stampa \"Il cane `<nome>` abbaia!\".\n",
    "3. Crea un oggetto Cane e chiama il metodo."
   ]
  },
  {
   "cell_type": "markdown",
   "id": "6cc9e38f",
   "metadata": {},
   "source": [
    "|<br>\n",
    "|<br>\n",
    "|<br>\n",
    "|<br>\n",
    "|<br>\n",
    "|<br>\n",
    "|<br>\n",
    "|<br>\n",
    "|<br>\n",
    "|<br>"
   ]
  },
  {
   "cell_type": "code",
   "execution_count": null,
   "id": "790e58fa",
   "metadata": {},
   "outputs": [],
   "source": [
    "class Cane:\n",
    "    def __init__(self, nome, razza):\n",
    "        self.nome = nome\n",
    "        self.razza = razza\n",
    "\n",
    "    def abbaia(self):\n",
    "        print(f\"{self.nome} sta abbaiando!\")\n",
    "\n",
    "# Istanza + metodo\n",
    "cane1 = Cane(\"Fido\", \"Labrador\")\n",
    "cane1.abbaia()  # Output: Fido sta abbaiando!"
   ]
  },
  {
   "cell_type": "markdown",
   "id": "3b208380",
   "metadata": {},
   "source": [
    "# Esercitazione 3 - Creare una classe ContoBancario con stato modificabile.\n",
    "L'obiettivo è applicare metodi per modificare gli attributi interni. \n",
    "\n",
    "1. Crea una classe ContoBancario con: titolare e saldo.\n",
    "2. Aggiungi i metodi:\n",
    "- deposita(importo) per aumentare il saldo.\n",
    "- mostra_saldo() per stampare saldo e titolare.\n",
    "3. Crea un conto per \"Sofia\" con €100, deposita €150, poi mostra il saldo."
   ]
  },
  {
   "cell_type": "code",
   "execution_count": null,
   "id": "4c38f27f",
   "metadata": {},
   "outputs": [],
   "source": [
    "# StarterCode\n",
    "class ContoBancario:\n",
    "    def __init__(self, titolare, saldo):\n",
    "        # TODO\n",
    "        pass\n",
    "\n",
    "    def deposita(self, importo):\n",
    "        # TODO\n",
    "        pass\n",
    "\n",
    "    def mostra_saldo(self):\n",
    "        # TODO\n",
    "        pass\n",
    "\n",
    "# TODO: Testa la classe\n"
   ]
  },
  {
   "cell_type": "markdown",
   "id": "345b35ec",
   "metadata": {},
   "source": [
    "|<br>\n",
    "|<br>\n",
    "|<br>\n",
    "|<br>\n",
    "|<br>\n",
    "|<br>\n",
    "|<br>\n",
    "|<br>\n",
    "|<br>\n",
    "|<br>"
   ]
  },
  {
   "cell_type": "code",
   "execution_count": 11,
   "id": "9af9d98d",
   "metadata": {},
   "outputs": [
    {
     "name": "stdout",
     "output_type": "stream",
     "text": [
      "Saldo di Anna: €150\n"
     ]
    }
   ],
   "source": [
    "class ContoBancario:\n",
    "    def __init__(self, titolare, saldo):\n",
    "        self.titolare = titolare\n",
    "        self.saldo = saldo\n",
    "\n",
    "    def deposita(self, importo):\n",
    "        self.saldo += importo\n",
    "\n",
    "    def mostra_saldo(self):\n",
    "        print(f\"Saldo di {self.titolare}: €{self.saldo}\")\n",
    "\n",
    "# Uso della classe\n",
    "conto = ContoBancario(\"Anna\", 100)\n",
    "conto.deposita(50)\n",
    "conto.mostra_saldo()  # Output: Saldo di Anna: €150"
   ]
  },
  {
   "cell_type": "markdown",
   "id": "3f3a73cc",
   "metadata": {},
   "source": [
    "# Esercitazione 4 - Crea una Classe Studente con logica di calcolo. \n",
    "Usare una lista come attributo e creare metodi con logica condizionale.\n",
    "\n",
    "1. Crea la classe Studente con:\n",
    "- `nome`\n",
    "- `voti` (lista inizialmente vuota)\n",
    "2. Aggiungi:\n",
    "- `aggiungi_voto(voto)` → aggiunge solo se tra 0 e 10.\n",
    "- `media()` → calcola media aritmetica.\n",
    "- `scheda()` → stampa: \"Studente: <nome>, Media: <media>\".\n",
    "3. Crea un oggetto e testalo con almeno 3 voti.\n"
   ]
  },
  {
   "cell_type": "code",
   "execution_count": 21,
   "id": "eb40f328",
   "metadata": {},
   "outputs": [],
   "source": [
    "class Studente:\n",
    "    def __init__(self, nome):\n",
    "        # TODO\n",
    "        pass\n",
    "\n",
    "    def aggiungi_voto(self, voto):\n",
    "        # TODO: Solo se 0 <= voto <= 10\n",
    "        pass\n",
    "\n",
    "    def media(self):\n",
    "        # TODO: Calcola la media\n",
    "        pass\n",
    "\n",
    "    def scheda(self):\n",
    "        # TODO: Stampa nome e media\n",
    "        pass\n",
    "\n",
    "# TODO: Usa la classe e stampa la scheda"
   ]
  },
  {
   "cell_type": "code",
   "execution_count": null,
   "id": "bcc49448",
   "metadata": {},
   "outputs": [],
   "source": [
    "class Studente:\n",
    "    def __init__(self, nome):\n",
    "        self.nome = nome\n",
    "        self.voti = []\n",
    "\n",
    "    def aggiungi_voto(self, voto):\n",
    "        if 0 <= voto <= 10:\n",
    "            self.voti.append(voto)\n",
    "        else:\n",
    "            print(\"Voto non valido.\")\n",
    "\n",
    "    def media(self):\n",
    "        if self.voti:\n",
    "            return sum(self.voti) / len(self.voti)\n",
    "        else:\n",
    "            return 0\n",
    "\n",
    "    def mostra_info(self):\n",
    "        print(f\"Studente: {self.nome} - Media: {self.media():.2f}\")\n",
    "\n",
    "# Test\n",
    "studente1 = Studente(\"Marco\")\n",
    "studente1.aggiungi_voto(8)\n",
    "studente1.aggiungi_voto(7)\n",
    "studente1.aggiungi_voto(11)  # Voto non valido\n",
    "studente1.mostra_info()      # Output: Studente: Marco - Media: 7.50\n"
   ]
  },
  {
   "cell_type": "code",
   "execution_count": null,
   "id": "b776961a",
   "metadata": {},
   "outputs": [],
   "source": []
  },
  {
   "cell_type": "code",
   "execution_count": null,
   "id": "bf9b0f5f",
   "metadata": {},
   "outputs": [],
   "source": []
  },
  {
   "cell_type": "code",
   "execution_count": null,
   "id": "49bf706f",
   "metadata": {},
   "outputs": [],
   "source": []
  },
  {
   "cell_type": "code",
   "execution_count": null,
   "id": "571a933d",
   "metadata": {},
   "outputs": [],
   "source": []
  },
  {
   "cell_type": "markdown",
   "id": "b3c7055a",
   "metadata": {},
   "source": [
    "# Definizione di base di un classe. "
   ]
  },
  {
   "cell_type": "code",
   "execution_count": 12,
   "id": "5f9ea90a",
   "metadata": {},
   "outputs": [],
   "source": [
    "# Classe generica per un'auto della flotta\n",
    "class Auto:\n",
    "    def __init__(self, colore, tipo_motore, posti):\n",
    "        self.colore = colore\n",
    "        self.tipo_motore = tipo_motore\n",
    "        self.posti = posti\n",
    "\n",
    "    def accelera(self):\n",
    "        print(\"L'auto sta accelerando!\")\n",
    "\n",
    "    def frena(self):\n",
    "        print(\"L'auto sta frenando.\")\n",
    "\n",
    "    def sterza(self, direzione):\n",
    "        print(f\"Sterza verso {direzione}.\")\n"
   ]
  },
  {
   "cell_type": "code",
   "execution_count": 14,
   "id": "bd2369f9",
   "metadata": {},
   "outputs": [
    {
     "name": "stdout",
     "output_type": "stream",
     "text": [
      "L'auto sta accelerando!\n",
      "Sterza verso destra.\n"
     ]
    }
   ],
   "source": [
    "auto1 = Auto(\"rosso\", \"elettrico\", 4)\n",
    "auto1.accelera()\n",
    "auto1.sterza(\"destra\")"
   ]
  },
  {
   "cell_type": "markdown",
   "id": "4a68a1b1",
   "metadata": {},
   "source": [
    "# Incapsulamento"
   ]
  },
  {
   "cell_type": "markdown",
   "id": "832f4360",
   "metadata": {},
   "source": [
    "Le classi raggruppano i dati e le funzioni che operano su tali dati, creando unità di codice autonome.\n",
    "> Incapsulamento promuove l'organizzazione e la modularità del codice, allo stesso modo in cui gli scomparti in una cassetta degli attrezzi contengono strumenti specifici per mantenere tutto ordinatamente organizzato. \n"
   ]
  },
  {
   "cell_type": "code",
   "execution_count": 15,
   "id": "fac17317",
   "metadata": {},
   "outputs": [],
   "source": [
    "class Magazzino:\n",
    "    def __init__(self):\n",
    "        self.__scorte = 100  # Attributo \"privato\"\n",
    "\n",
    "    def mostra_scorte(self):\n",
    "        print(f\"Scorte attuali: {self.__scorte}\")\n",
    "\n",
    "    def aggiungi_scorte(self, quantita):\n",
    "        if quantita > 0:\n",
    "            self.__scorte += quantita\n"
   ]
  },
  {
   "cell_type": "code",
   "execution_count": null,
   "id": "d3ec3023",
   "metadata": {},
   "outputs": [],
   "source": []
  },
  {
   "cell_type": "code",
   "execution_count": 16,
   "id": "7865eec6",
   "metadata": {},
   "outputs": [
    {
     "name": "stdout",
     "output_type": "stream",
     "text": [
      "Scorte attuali: 100\n",
      "Scorte attuali: 120\n"
     ]
    }
   ],
   "source": [
    "mio_magazzino = Magazzino()\n",
    "mio_magazzino.mostra_scorte()\n",
    "mio_magazzino.aggiungi_scorte(20)\n",
    "mio_magazzino.mostra_scorte()\n"
   ]
  },
  {
   "cell_type": "markdown",
   "id": "abab4cbc",
   "metadata": {},
   "source": [
    "# Ereditarietà. "
   ]
  },
  {
   "cell_type": "markdown",
   "id": "f6728e87",
   "metadata": {},
   "source": [
    "Le classi possono anche ereditare attributi e metodi da altre classi, formando una relazione gerarchica. \n",
    "> L'eredità consente di creare classi specializzate che si basano sulle fondamenta di classi più generali. \n",
    "\n",
    "Pensiamo ad una classe generale di veicoli con determinati attributi e metodi. \n",
    "+ Usandola come base, potremmo creare classi specializzate come camion o motociclette che ereditano dalla classe generale di veicoli e aggiungere i propri attributi e metodi unici. "
   ]
  },
  {
   "cell_type": "code",
   "execution_count": 17,
   "id": "a5bb3eca",
   "metadata": {},
   "outputs": [],
   "source": [
    "class Camion(Auto):\n",
    "    def __init__(self, colore, tipo_motore, posti, capacita_carico):\n",
    "        super().__init__(colore, tipo_motore, posti)\n",
    "        self.capacita_carico = capacita_carico\n",
    "\n",
    "    def carica(self):\n",
    "        print(f\"Caricamento merci... Capacità: {self.capacita_carico}kg\")"
   ]
  },
  {
   "cell_type": "code",
   "execution_count": 18,
   "id": "cede3d2d",
   "metadata": {},
   "outputs": [
    {
     "name": "stdout",
     "output_type": "stream",
     "text": [
      "L'auto sta accelerando!\n",
      "Caricamento merci... Capacità: 3000kg\n"
     ]
    }
   ],
   "source": [
    "camion1 = Camion(\"blu\", \"diesel\", 2, 3000)\n",
    "camion1.accelera()\n",
    "camion1.carica()"
   ]
  },
  {
   "cell_type": "markdown",
   "id": "950df9ff",
   "metadata": {},
   "source": [
    "# Polimorfismo"
   ]
  },
  {
   "cell_type": "markdown",
   "id": "7bdeaffc",
   "metadata": {},
   "source": [
    "Il polimorfismo consente agli oggetti di classi diverse di rispondere alla stessa chiamata di funzione nel loro modo unico. \n",
    "> Il polimorfismo fornisce flessibilità e adattabilità nel tuo codice. \n"
   ]
  },
  {
   "cell_type": "code",
   "execution_count": 19,
   "id": "c85ed7af",
   "metadata": {},
   "outputs": [],
   "source": [
    "class Veicolo:\n",
    "    def muovi(self):\n",
    "        print(\"Il veicolo si sta muovendo\")\n",
    "\n",
    "class Bicicletta(Veicolo):\n",
    "    def muovi(self):\n",
    "        print(\"La bicicletta pedala\")\n",
    "\n",
    "class Aereo(Veicolo):\n",
    "    def muovi(self):\n",
    "        print(\"L'aereo decolla\")\n",
    "\n",
    "# Funzione polimorfica\n",
    "def muovi_veicolo(veicolo):\n",
    "    veicolo.muovi()\n"
   ]
  },
  {
   "cell_type": "code",
   "execution_count": 20,
   "id": "cf152b8d",
   "metadata": {},
   "outputs": [
    {
     "name": "stdout",
     "output_type": "stream",
     "text": [
      "Il veicolo si sta muovendo\n",
      "La bicicletta pedala\n",
      "L'aereo decolla\n"
     ]
    }
   ],
   "source": [
    "v = Veicolo()\n",
    "b = Bicicletta()\n",
    "a = Aereo()\n",
    "\n",
    "for veicolo in [v, b, a]:\n",
    "    muovi_veicolo(veicolo)"
   ]
  },
  {
   "cell_type": "markdown",
   "id": "135f1095",
   "metadata": {},
   "source": [
    "# Componenti chiave di una classe Python. \n",
    "\n",
    "### Attributi. \n",
    "Gli attributi sono **variabili che memorizzano dati specifici per ogni oggetto della classe.**\n",
    "- definiscono le caratteristiche e le proprietà di un oggetto, come il colore e il numero di posti nell'analogia dell'auto. \n",
    "\n",
    "### Metodi. \n",
    "I metodi sono le **funzioni della classe che rappresentano le azioni o i comportamenti che un oggetto può eseguire**, come l'accelerazione. \n",
    "\n",
    "> Il **costruttore** è un metodo speciale che viene chiamato automaticamente quando si crea un nuovo oggetto della classe: inizializza gli attributi dell'oggetto e imposta i valori iniziali. \n",
    "\n"
   ]
  },
  {
   "cell_type": "markdown",
   "id": "9bcf8d9b",
   "metadata": {},
   "source": [
    "# Attributi: dati dell'oggetto"
   ]
  },
  {
   "cell_type": "code",
   "execution_count": 21,
   "id": "58e51882",
   "metadata": {},
   "outputs": [
    {
     "name": "stdout",
     "output_type": "stream",
     "text": [
      "rosso\n",
      "2\n"
     ]
    }
   ],
   "source": [
    "class Auto:\n",
    "    def __init__(self, colore, numero_posti):\n",
    "        self.colore = colore           # Attributo\n",
    "        self.numero_posti = numero_posti  # Attributo\n",
    "\n",
    "# Creazione di oggetti\n",
    "auto1 = Auto(\"rosso\", 5)\n",
    "auto2 = Auto(\"blu\", 2)\n",
    "\n",
    "# Accesso agli attributi\n",
    "print(auto1.colore)         # Output: rosso\n",
    "print(auto2.numero_posti)   # Output: 2"
   ]
  },
  {
   "cell_type": "markdown",
   "id": "029215fe",
   "metadata": {},
   "source": [
    "# Metodi: azioni dell'oggetto"
   ]
  },
  {
   "cell_type": "code",
   "execution_count": 22,
   "id": "94ad4c1c",
   "metadata": {},
   "outputs": [
    {
     "name": "stdout",
     "output_type": "stream",
     "text": [
      "L'auto verde sta accelerando!\n",
      "L'auto verde sta frenando.\n"
     ]
    }
   ],
   "source": [
    "class Auto:\n",
    "    def __init__(self, colore):\n",
    "        self.colore = colore\n",
    "\n",
    "    def accelera(self):  # Metodo\n",
    "        print(f\"L'auto {self.colore} sta accelerando!\")\n",
    "\n",
    "    def frena(self):     # Metodo\n",
    "        print(f\"L'auto {self.colore} sta frenando.\")\n",
    "\n",
    "# Uso dei metodi\n",
    "mia_auto = Auto(\"verde\")\n",
    "mia_auto.accelera()  # Output: L'auto verde sta accelerando!\n",
    "mia_auto.frena()     # Output: L'auto verde sta frenando.\n"
   ]
  },
  {
   "cell_type": "markdown",
   "id": "3e250cde",
   "metadata": {},
   "source": [
    "# Il costruttore __init__"
   ]
  },
  {
   "cell_type": "code",
   "execution_count": 23,
   "id": "eb055286",
   "metadata": {
    "scrolled": true
   },
   "outputs": [
    {
     "name": "stdout",
     "output_type": "stream",
     "text": [
      "Prodotto: Zaino, Prezzo: €39.9\n"
     ]
    }
   ],
   "source": [
    "class Prodotto:\n",
    "    def __init__(self, nome, prezzo):\n",
    "        self.nome = nome         # Attributo\n",
    "        self.prezzo = prezzo     # Attributo\n",
    "\n",
    "    def mostra_info(self):       # Metodo\n",
    "        print(f\"Prodotto: {self.nome}, Prezzo: €{self.prezzo}\")\n",
    "\n",
    "# Creazione dell’oggetto\n",
    "p1 = Prodotto(\"Zaino\", 39.90)\n",
    "p1.mostra_info()  # Output: Prodotto: Zaino, Prezzo: €39.9"
   ]
  },
  {
   "cell_type": "code",
   "execution_count": null,
   "id": "1a0cc06a",
   "metadata": {},
   "outputs": [],
   "source": []
  },
  {
   "cell_type": "markdown",
   "id": "7ecb2334",
   "metadata": {},
   "source": [
    "# Creiamo una classe\n",
    "Diciamo che vogliamo crear una classe di conto bancario:\n",
    "- possiamo creare oggetti per diversi account (my_account, your_account, ecc.);\n",
    "- ogni account con il proprio saldo e la propria cronologia delle transazioni; \n",
    "- la logica sottostante per depositare e prelevare denaro è incapsulata all'interno della classe, quindi non dovremo ripeterla per ogni conto.\n"
   ]
  },
  {
   "cell_type": "code",
   "execution_count": 18,
   "id": "225b6ade",
   "metadata": {},
   "outputs": [],
   "source": [
    "class BankAccount:\n",
    "    pass"
   ]
  },
  {
   "cell_type": "markdown",
   "id": "8c97de50",
   "metadata": {},
   "source": [
    "### Instanziazione\n",
    "Una volta definita una classe, possiamo creare un'istanza di quella classe, utilizzando un processo chiamato istanziazione.\n",
    "\n",
    "**Classe BankAccount:**\n",
    "+ **attributi** come AccountHolder, Saldo e AccountNumber;\n",
    "+ **metodi** come Deposito e Prelievo. \n",
    "\n",
    "Per creare un nuovo conto bancario per un cliente di nome Alice:\n",
    "- creiamo un'istanza di un oggetto della classe BankAccount.\n",
    "- questo crea un nuovo oggetto, chiamato AliceAccount, con gli attributi Name, InitialBalance e AccountNumber. - usiamo i metodi dell'oggetto per interagire con esso, facendo cose come fare un deposito o un prelievo."
   ]
  },
  {
   "cell_type": "code",
   "execution_count": 9,
   "id": "36ddb61d",
   "metadata": {},
   "outputs": [],
   "source": [
    "class BankAccount:\n",
    "    def __init__(self, account_holder, initial_balance, account_number):\n",
    "        self.account_holder = account_holder\n",
    "        self.balance = initial_balance\n",
    "        self.account_number = account_number\n",
    "\n",
    "    def deposito(self, importo):\n",
    "        if importo > 0:\n",
    "            self.balance += importo\n",
    "            print(f\"✅ Deposito di €{importo} effettuato.\")\n",
    "        else:\n",
    "            print(\"❌ L'importo deve essere positivo.\")\n",
    "\n",
    "    def prelievo(self, importo):\n",
    "        if 0 < importo <= self.balance:\n",
    "            self.balance -= importo\n",
    "            print(f\"✅ Prelievo di €{importo} effettuato.\")\n",
    "        else:\n",
    "            print(\"❌ Prelievo non disponibile. Fondi insufficienti o importo non valido.\")\n",
    "\n",
    "    def mostra_saldo(self):\n",
    "        print(f\"💼 Titolare: {self.account_holder} | Conto: {self.account_number} | Saldo: €{self.balance:.2f}\")\n"
   ]
  },
  {
   "cell_type": "markdown",
   "id": "5247ed5f",
   "metadata": {},
   "source": [
    "# Istanziamo Alice"
   ]
  },
  {
   "cell_type": "code",
   "execution_count": 10,
   "id": "ede56661",
   "metadata": {},
   "outputs": [
    {
     "name": "stdout",
     "output_type": "stream",
     "text": [
      "💼 Titolare: Alice | Conto: IT60X0542811101000000123456 | Saldo: €1000.00\n",
      "✅ Deposito di €500.0 effettuato.\n",
      "✅ Prelievo di €200.0 effettuato.\n",
      "💼 Titolare: Alice | Conto: IT60X0542811101000000123456 | Saldo: €1300.00\n"
     ]
    }
   ],
   "source": [
    "# Creiamo un'istanza della classe BankAccount\n",
    "alice_account = BankAccount(\"Alice\", 1000.00, \"IT60X0542811101000000123456\")\n",
    "\n",
    "# Interazioni con l'oggetto\n",
    "alice_account.mostra_saldo()       # Mostra il saldo iniziale\n",
    "alice_account.deposito(500.00)     # Alice deposita 500 euro\n",
    "alice_account.prelievo(200.00)     # Alice preleva 200 euro\n",
    "alice_account.mostra_saldo()       # Mostra il saldo aggiornato\n"
   ]
  },
  {
   "cell_type": "code",
   "execution_count": null,
   "id": "638d67ab",
   "metadata": {},
   "outputs": [],
   "source": []
  }
 ],
 "metadata": {
  "kernelspec": {
   "display_name": "Python (Anaconda3)",
   "language": "python",
   "name": "anaconda3"
  },
  "language_info": {
   "codemirror_mode": {
    "name": "ipython",
    "version": 3
   },
   "file_extension": ".py",
   "mimetype": "text/x-python",
   "name": "python",
   "nbconvert_exporter": "python",
   "pygments_lexer": "ipython3",
   "version": "3.12.2"
  }
 },
 "nbformat": 4,
 "nbformat_minor": 5
}
