{
 "cells": [
  {
   "cell_type": "markdown",
   "id": "1bfb27d0",
   "metadata": {},
   "source": [
    "# Le funzioni. \n",
    "\n",
    "### Cosa sono\n",
    "Le funzioni sono blocchi di codice riutilizzabili che eseguono compiti specifici: \n",
    "- Le funzioni incapsulano una serie di istruzioni, permettendoci di eseguire tali istruzioni tutte le volte che ci serve nel nostro programma, senza dover riscrivere il codice ogni volta.\n",
    "\n",
    "> Le possiamo considerare come una **sorta di mini-programmi** all'interno del programma più grande.\n",
    "\n",
    "Le funzioni sono importanti perché portano ordine, efficienza e riutilizzabilità al tuo codice, influenzando la programmazione Python in quattro aree chiave."
   ]
  },
  {
   "cell_type": "code",
   "execution_count": 3,
   "id": "de9cfd66",
   "metadata": {},
   "outputs": [],
   "source": [
    "def average(a,b):\n",
    "    media = (a+b)/2\n",
    "    return media"
   ]
  },
  {
   "cell_type": "code",
   "execution_count": 5,
   "id": "ca1e372b",
   "metadata": {},
   "outputs": [
    {
     "data": {
      "text/plain": [
       "3.5"
      ]
     },
     "execution_count": 5,
     "metadata": {},
     "output_type": "execute_result"
    }
   ],
   "source": [
    "average(3,4)"
   ]
  },
  {
   "cell_type": "markdown",
   "id": "e706f081",
   "metadata": {},
   "source": [
    "> ### Definire una funzione significa creare la funzione stessa."
   ]
  },
  {
   "cell_type": "code",
   "execution_count": 39,
   "id": "1ae00087",
   "metadata": {},
   "outputs": [],
   "source": [
    "def hypotenuse(c,d):\n",
    "    k = (c**2 + d**2) ** 0.5\n",
    "    return k"
   ]
  },
  {
   "cell_type": "markdown",
   "id": "589db43d",
   "metadata": {},
   "source": [
    "### Come agiscono le funzioni\n",
    "\n",
    "#### 1. Suddividono le attività complesse in blocchi più piccoli e gestibili:\n",
    "- il codice più facile da leggere, capire e mantenere **organizzazione del codice**.\n",
    "- aiutano a organizzare il codice in **sezioni logiche**, ognuna con uno scopo specifico: ogni funzione ha uno scopo specifico.\n",
    "\n",
    "#### 2. Sono riutilizzabili, il che significa che una volta definita una particolare funzione, possiamo chiamarla più volte durante il programma:\n",
    "- significa che non dobbiamo riscrivere quel pezzo di codice più e più volte e questo riduce il rischio di errori. \n",
    "- Ad esempio, se scriviamo una funzione che calcola l'imposta sulle vendite, possiamo usarla per ogni transazione di vendita, il che rende ogni calcolo coerente ed elimina la necessità di ricalcoli manuali. \n",
    "- Ad esempio, se un sistema di buste paga deve calcolare le tasse per ogni dipendente, possiamo creare una funzione che prende il reddito di un dipendente come input e restituisce l'importo dell'imposta calcolato. Questa funzione può essere chiamata per ogni dipendente, rendendo l'intero processo di gestione stipendi più accurato.\n",
    "\n",
    "#### 3. Agiscono a livello di astrazione, nascondendo gli intricati dettagli di un compito dietro una semplice interfaccia.\n",
    "- consente di concentrarci sulla logica di livello superiore senza impantanarci nei dettagli dell'implementazione: è come usare una calcolatrice predefinita invece di fare manualmente la matematica complessa. \n",
    "- Ad esempio, una funzione che invia notifiche e-mail agli utenti potrebbe gestire attività come la connessione al server di posta elettronica, la formattazione del messaggio e l'allegato di file. Incapsulando questi dettagli all'interno della funzione, puoi semplicemente chiamare la funzione per ogni persona e lasciare che gestisca la logistica.\n",
    "\n",
    "#### 4. Promuovono la collaborazione creando unità di codice modulari e autonome. \n",
    "- elementi costitutivi su cui diversi membri del team possono lavorare in modo indipendente, consentendo uno sviluppo parallelo e una perfetta integrazione con il codice finale."
   ]
  },
  {
   "cell_type": "markdown",
   "id": "ad633b63",
   "metadata": {},
   "source": [
    "# Ci sono tre diversi tipi di funzioni in Python. \n",
    "\n",
    "## 1. Le funzioni integrate.\n",
    "Python viene fornito con una serie di funzioni predefinite, come stampa, len e input: forniscono funzionalità essenziali, risparmiandoci la fatica di scrivere codice da zero. \n",
    "\n",
    "## 2. Le funzioni definite dall'utente.\n",
    "Funzioni che creiamo per eseguire attività specifiche nel tuo programma.\n",
    "\n",
    "## 3. Le funzioni lambda. \n",
    "Funzioni anonime a una riga che vengono spesso utilizzate per operazioni semplici o come argomenti per altre funzioni. \n",
    "- Ad esempio, se abbiamo un elenco di dipendenti con i loro stipendi, possiamo utilizzare una funzione lambda per ordinare l'elenco in base allo stipendio in ordine decrescente. "
   ]
  },
  {
   "cell_type": "markdown",
   "id": "1c454daa",
   "metadata": {},
   "source": [
    "# L'arte dell'astrazione: le funzioni e il principio DRY\n",
    "\n",
    "Il mondo dello sviluppo software ha adottato il **principio DRY (Don't Repeat Yourself)**, reso popolare da Andy Hunt e Dave Thomas nel loro libro **\"The Pragmatic Programmer\".** \n",
    "\n",
    "Il principio DRY: un progetto per l'efficienza del codice\n",
    "\n",
    "Il **principio DRY è alla base di una codifica efficiente**, sostiene:\n",
    "- l'eliminazione del codice ridondante;\n",
    "- incoraggia a consolidare le istruzioni ripetitive in un unico blocco riutilizzabile.\n",
    "\n",
    "Ad esempio se stiamo sviluppando una piattaforma di e-commerce. \n",
    "### Senza DRY\n",
    "Ci troveremmo a copiare e incollare il codice per attività come calcolare gli sconti, convalidare le informazioni di pagamento o inviare e-mail di conferma dell'ordine. \n",
    "\n",
    "> ### Questa ripetizione renderebbe la base di codice incline agli errori.\n",
    "Se è richiesta una modifica, dovremmo dare la caccia e modificare ogni istanza del codice duplicato, aumentando il rischio di introdurre bug.\n",
    "\n",
    "### Con DRY\n",
    "Siamo incoraggiato a creare una funzione centralizzata per ciascuna di queste attività. \n",
    "\n",
    "Ad esempio, una funzione calculate_discount(price, discount_percentage) incapsula la logica per calcolare gli sconti, indipendentemente dal prodotto o dalla promozione specifici.\\\n",
    "> ### Questa funzione agisce come un'unica fonte di verità. \n",
    "In questo modo garantiamo coerenza e semplifichiamo gli aggiornamenti.\n"
   ]
  },
  {
   "cell_type": "markdown",
   "id": "99b46a2e",
   "metadata": {},
   "source": [
    "## Funzioni: gli elementi costitutivi del codice modulare\n",
    "Le funzioni sono unità autonome di codice progettate per eseguire compiti specifici.\n",
    "\n",
    "Agiscono come i verbi nel vocabolario del tuo codice, incapsulando azioni come: \n",
    "- \"calculate_area\";\n",
    "- \"validate_address\"; \n",
    "- \"send_confirmation_email\". \n",
    "\n",
    "#### Ogni funzione prende input (argomenti), li elabora secondo la sua logica interna e produce output (un valore di ritorno)."
   ]
  },
  {
   "cell_type": "code",
   "execution_count": 40,
   "id": "e31b114e",
   "metadata": {},
   "outputs": [],
   "source": [
    "def calculate_area(lenght, width):\n",
    "    area = length * width\n",
    "    return area"
   ]
  },
  {
   "cell_type": "code",
   "execution_count": 41,
   "id": "d15b69c8",
   "metadata": {},
   "outputs": [
    {
     "name": "stdout",
     "output_type": "stream",
     "text": [
      "L'area del rettangolo è: 15\n"
     ]
    }
   ],
   "source": [
    "length = 3\n",
    "width = 5\n",
    "rectangle_area = calculate_area(length, width)\n",
    "print(\"L'area del rettangolo è:\",rectangle_area)"
   ]
  },
  {
   "attachments": {
    "python-function-definition.png": {
     "image/png": "[encoded data removed]"
    }
   },
   "cell_type": "markdown",
   "id": "28b948d7",
   "metadata": {},
   "source": [
    "![python-function-definition.png](attachment:python-function-definition.png)"
   ]
  },
  {
   "cell_type": "markdown",
   "id": "237f20bb",
   "metadata": {},
   "source": [
    "#### Argomenti (Input)\n",
    "Sono come ingredienti che forniamo ad una ricetta, nella nostra funzione:\n",
    "- Lunghezza e larghezza sono gli argomenti: rappresentano le misure specifiche del rettangolo che vogliamo analizzare.\n",
    "- quando chiamiamo la funzione (come in calculate_area(3, 5)), stiamo consegnando queste misure alla funzione per l'elaborazione.\n",
    "\n",
    "#### Valori di ritorno (Output)\n",
    "Sono come il piatto finito che produce la ricetta, nella nostra funzione:\n",
    "- L'area di ritorno è l'istruzione che rimanda l'area calcolata alla parte principale del tuo programma.\n",
    "- Possiamo memorizzare questo valore restituito in una variabile (come abbiamo fatto con rectangle_area) e poi usarlo per ulteriori calcoli o mostrarlo all'utente.\n",
    "\n",
    "### Mettendolo insieme\n",
    "La nostra funzione calculate_area è come una calcolatrice specializzata:\n",
    "- le diamo da mangiare le dimensioni (argomenti);\n",
    "- esegue il suo calcolo interno e poi ci restituisce il risultato (valore di ritorno), pronto per l'uso nel resto del tuo programma. \n",
    "\n",
    "**Le funzioni promuovono una filosofia di design modulare.**\n",
    "\n",
    "Invece di un blocco monolitico di codice, il  programma diventa una raccolta di funzioni ben definite, ognuna responsabile di un particolare aspetto della funzionalità complessiva."
   ]
  },
  {
   "cell_type": "code",
   "execution_count": 42,
   "id": "de856c4a",
   "metadata": {},
   "outputs": [],
   "source": [
    "import math\n",
    "from math import sqrt\n",
    "\n",
    "def hypotenuse(a,b):\n",
    "    c = sqrt(a**2 + b**2)\n",
    "    return c"
   ]
  },
  {
   "cell_type": "code",
   "execution_count": 43,
   "id": "c40c6f6b",
   "metadata": {},
   "outputs": [
    {
     "name": "stdout",
     "output_type": "stream",
     "text": [
      "8.94427190999916\n"
     ]
    }
   ],
   "source": [
    "print(hypotenuse(8,4))"
   ]
  },
  {
   "cell_type": "code",
   "execution_count": 44,
   "id": "84ef9b68",
   "metadata": {},
   "outputs": [
    {
     "name": "stdout",
     "output_type": "stream",
     "text": [
      "Primo lato:3\n",
      "Secondo lato:5\n",
      "Il terzo lato è:  5.830951894845301\n"
     ]
    }
   ],
   "source": [
    "side1 = float(input(\"Primo lato:\" ))\n",
    "side2 = float(input(\"Secondo lato:\" ))\n",
    "side3 = hypotenuse(side1, side2)\n",
    "print(\"Il terzo lato è: \", side3)"
   ]
  },
  {
   "cell_type": "markdown",
   "id": "f8252bb8",
   "metadata": {},
   "source": [
    "# DRY e funzioni. \n",
    "\n",
    "Le funzioni sono il veicolo ideale per implementare il principio DRY: \n",
    "- incapsulando il codice riutilizzabile all'interno delle funzioni, creiamo una libreria di strumenti che possono essere richiamati ogni volta che è necessario. \n",
    "- questo approccio modulare non solo rende il tuo codice più pulito e organizzato, ma rende anche più facile testare ed eseguire il debug di ogni funzione in isolamento.\n",
    "\n",
    "> ### Riusabilità del codice: aumenta con la crescita della complessità. \n",
    "\n",
    "#### Scalabilità.\n",
    "Le funzioni consentono di suddividere i grandi problemi in blocchi più piccoli e più gestibili: \n",
    "- approccio modulare rende più facile aggiungere nuove funzionalità o modificare quelle esistenti senza interrompere l'intera base di codice. \n",
    "\n",
    "#### Mantenibilità. \n",
    "Man mano che i progetti si evolvono, il codice deve inevitabilmente essere aggiornato e debuggato.\\\n",
    "Con le funzioni, possiamo isolare le modifiche a componenti specifici:\n",
    "- riducendo al minimo il rischio di effetti collaterali non intenzionali; \n",
    "- risparmiare tempo e ridurre la probabilità di introdurre nuovi bug. \n",
    "- aiuta la collaborazione perchè più sviluppatori possono lavorare sulla stessa base di codice, questa manutenibilità diventa ancora più critica.\n",
    "\n",
    "#### Test.\n",
    "Le funzioni sono unità intrinsecamente verificabili.\\\n",
    "Possiamo scrivere test unitari che:\n",
    "- verificano la correttezza del comportamento di ogni funzione in isolamento, assicurando che le modifiche a una funzione non rompano inavvertitamente altre.\n",
    "\n",
    "#### Leggibilità. \n",
    "Le funzioni migliorano la leggibilità del codice fornendo una struttura chiara e incapsulando una logica complessa.\\\n",
    "Questo è particolarmente prezioso nei grandi progetti in cui più sviluppatori devono capire e lavorare con la base di codice.\n",
    "\n",
    "#### Debug.\n",
    "Le funzioni aiutano nel debug isolando potenziali problemi.\\\n",
    "Quando si verifica un errore, spesso è possibile rintracciarlo a una funzione specifica, rendendo il processo di debug più efficiente e meno travolgente."
   ]
  },
  {
   "cell_type": "markdown",
   "id": "9dfb9533",
   "metadata": {},
   "source": [
    "# Funzioni nel moderno ecosistema Python.\n",
    "\n",
    "La ricca libreria standard di Python e il vasto ecosistema di pacchetti di terze parti si basano su funzioni.\\\n",
    "Padroneggiare le funzioni è essenziale per sfruttare questi strumenti per creare applicazioni robuste e scalabili.\\\n",
    "Python offre una gamma di funzionalità che migliorano la potenza delle funzioni:\n",
    "\n",
    "- **Decoratori:** queste funzioni speciali modificano il comportamento di altre funzioni senza cambiare la loro logica di base. \n",
    "\n",
    "- **Generatori:** queste funzioni speciali producono una sequenza di valori su richiesta, migliorando l'efficienza della memoria e consentendo soluzioni eleganti per attività come l'elaborazione di grandi set di dati. Una funzione di generazione potrebbe produrre una riga di un file alla volta, consentendo di elaborare il file senza caricarlo interamente in memoria.\n",
    "\n",
    "- **Stringhe F:** questi letterali di stringa formattati forniscono un modo conciso e leggibile per incorporare espressioni direttamente all'interno delle stringhe, rendendo più facile generare output dinamici all'interno delle funzioni. \n",
    "\n",
    "Le funzioni svolgono un ruolo cruciale: consentono di incapsulare trasformazioni di dati complesse, calcoli statistici e algoritmi di apprendimento automatico in componenti riutilizzabili. \n",
    "\n",
    "- Le funzioni sono essenziali per interagire con database, API e servizi cloud. Convertendo queste interazioni in funzioni, crei un livello di isolamento che protegge il tuo codice dai cambiamenti nei sistemi esterni. Ciò significa che se l'API di un servizio che stai utilizzando cambia, devi solo aggiornare la funzione pertinente, piuttosto che modificare ogni pezzo di codice che interagisce con…"
   ]
  },
  {
   "cell_type": "markdown",
   "id": "519c829e",
   "metadata": {},
   "source": [
    "# Funzioni built-in. \n",
    "\n",
    "Le funzioni built-in sono strumenti preconfezionati progettati per semplificare le attività comuni e semplificare la codifica.\n",
    "\n",
    "Sono blocchi di codice riutilizzabili che eseguono compiti specifici, eliminando la necessità di scrivere codice da zero ogni volta.\n",
    "\n",
    "Python viene fornito precaricato con diverse funzioni integrate che offrono una gamma di comandi e azioni essenziali per il tuo codice Python. Offrono tre importanti vantaggi.\n",
    "\n",
    "+ aumentano l'efficienza perché eliminano la necessità di scrivere codice ripetitivo. \n",
    "> Invece di rielavorare la logica per un'attività comune, ogni volta che hai bisogno di usarla, puoi semplicemente chiamare una funzione integrata e portare a termine il lavoro in modo rapido e affidabile.\n",
    "\n",
    "+ Le funzioni integrate forniscono componenti prefabbricati per attività comuni.\n",
    "\n",
    "> Ad esempio, se è necessario calcolare la lunghezza di una stringa o convertire un numero nella sua rappresentazione testuale, è possibile utilizzare una funzione integrata, come len() o str(), per ottenere il risultato desiderato.\n",
    "\n",
    "+ Le funzioni integrate migliorano anche la leggibilità. L'utilizzo di funzioni integrate rende il tuo codice più autodocumentante e più facile da capire per le persone. Sostituiscono la logica personalizzata con chiamate di funzione facilmente riconoscibili.\n",
    "\n",
    "> Ad esempio, quando vedi una riga nel codice che inizia sorted(), è immediatamente chiaro che stai ordinando un elenco. La natura autodocumentante delle funzioni integrate rende anche il codice più facile da eseguire il debug, mantenere e migliorare.\n",
    "\n",
    "+ Infine, le funzioni integrate assicurano l'affidabilità. Queste funzioni sono ampiamente testate, ottimizzate e perfezionate dalla comunità Python per precisione e affidabilità. Ciò significa che quando li usi, puoi stare certo che il tuo programma funzionerà come previsto, anche in situazioni complesse."
   ]
  },
  {
   "cell_type": "markdown",
   "id": "2ada6f0c",
   "metadata": {},
   "source": [
    "## Print( )\n",
    "Visualizza un output sulla console o sul terminale: è il modo principale in cui il  programma comunica con il mondo esterno.\n",
    "\n",
    "- consente di presentare i risultati, fornire feedback a un utente o registrare informazioni importanti durante l'esecuzione del programma. \n",
    "\n",
    "## Len( )\n",
    "Restituisce il numero di elementi in una sequenza, come un elenco, una stringa o una tupla. \n",
    "\n",
    "- misurare la dimensione dei tuoi dati. \n",
    "\n",
    "## Input( )\n",
    "Un'altra funzione integrata è input(), che richiede all'utente di inserire i dati e restituisce il loro input come stringa.\n",
    "\n",
    "- gateway per programmi interattivi che rispondono alle azioni dell'utente.\n",
    "\n",
    "\n",
    "## Tipe( )\n",
    "Determina il tipo di dati di una variabile o di un valore, come un numero intero, una stringa o un elenco.\n",
    "\n",
    "- conoscere il tipo di variabile o valore, in modo da poter prendere decisioni informate nel tuo codice. "
   ]
  },
  {
   "cell_type": "code",
   "execution_count": null,
   "id": "dcc38efc",
   "metadata": {},
   "outputs": [],
   "source": []
  },
  {
   "cell_type": "markdown",
   "id": "10750c09",
   "metadata": {},
   "source": [
    "# Funzione senza parametri\n",
    "Questa funzione non prende nessun argomento. Può essere usata quando non hai bisogno di input esterni."
   ]
  },
  {
   "cell_type": "code",
   "execution_count": 1,
   "id": "c359af15",
   "metadata": {},
   "outputs": [
    {
     "name": "stdout",
     "output_type": "stream",
     "text": [
      "Ciao! Benvenuto.\n"
     ]
    }
   ],
   "source": [
    "def saluta():\n",
    "    print(\"Ciao! Benvenuto.\")\n",
    "\n",
    "saluta()\n"
   ]
  },
  {
   "cell_type": "markdown",
   "id": "10e92fbf",
   "metadata": {},
   "source": [
    "#  Funzione con un parametro\n",
    "Questa funzione prende un parametro (`nome`) e lo usa per stampare un messaggio personalizzato."
   ]
  },
  {
   "cell_type": "code",
   "execution_count": 3,
   "id": "26f2c03a",
   "metadata": {},
   "outputs": [
    {
     "name": "stdout",
     "output_type": "stream",
     "text": [
      "Ciao, Marco!\n"
     ]
    }
   ],
   "source": [
    "def saluta_nome(nome):\n",
    "    print(f\"Ciao, {nome}!\")\n",
    "\n",
    "saluta_nome(\"Marco\")"
   ]
  },
  {
   "cell_type": "markdown",
   "id": "d8604086",
   "metadata": {},
   "source": [
    "# Funzione con due parametri\n",
    "La funzione prende due parametri (`a` e `b`) e restituisce la loro somma. È utile per operazioni che richiedono input multipli."
   ]
  },
  {
   "cell_type": "code",
   "execution_count": 4,
   "id": "de6f8bf0",
   "metadata": {},
   "outputs": [
    {
     "name": "stdout",
     "output_type": "stream",
     "text": [
      "8\n"
     ]
    }
   ],
   "source": [
    "def somma(a, b):\n",
    "    return a + b\n",
    "\n",
    "risultato = somma(3, 5)\n",
    "print(risultato)"
   ]
  },
  {
   "cell_type": "markdown",
   "id": "4e2ae063",
   "metadata": {},
   "source": [
    "# Funzione con `*args` (argomenti posizionali variabili)\n",
    "- `*args` permette di passare un numero qualsiasi di argomenti.\n",
    "- dentro la funzione, `args` è una tupla.\n",
    "- utile quando non sai in anticipo quanti numeri riceverai."
   ]
  },
  {
   "cell_type": "code",
   "execution_count": 5,
   "id": "30d08743",
   "metadata": {},
   "outputs": [
    {
     "name": "stdout",
     "output_type": "stream",
     "text": [
      "6\n",
      "50\n"
     ]
    }
   ],
   "source": [
    "def somma_tutti(*args):\n",
    "    return sum(args)\n",
    "\n",
    "print(somma_tutti(1, 2, 3))\n",
    "print(somma_tutti(5, 10, 15, 20))\n"
   ]
  },
  {
   "cell_type": "markdown",
   "id": "ab78ae7f",
   "metadata": {},
   "source": [
    "# Funzione con `**kwargs` (argomenti con nome variabili)\n",
    "- `**kwargs` raccoglie tutti gli argomenti con nome in un dizionario.\n",
    "- utile per funzioni flessibili, ad esempio in configurazioni o API."
   ]
  },
  {
   "cell_type": "code",
   "execution_count": 6,
   "id": "a973a798",
   "metadata": {},
   "outputs": [
    {
     "name": "stdout",
     "output_type": "stream",
     "text": [
      "nome: Anna\n",
      "età: 30\n",
      "città: Roma\n"
     ]
    }
   ],
   "source": [
    "def stampa_info(**kwargs):\n",
    "    for chiave, valore in kwargs.items():\n",
    "        print(f\"{chiave}: {valore}\")\n",
    "\n",
    "stampa_info(nome=\"Anna\", età=30, città=\"Roma\")"
   ]
  },
  {
   "cell_type": "markdown",
   "id": "783e519e",
   "metadata": {},
   "source": [
    "# Funzione combinata con `*args` e `**kwargs`"
   ]
  },
  {
   "cell_type": "code",
   "execution_count": 7,
   "id": "bc10c08c",
   "metadata": {},
   "outputs": [
    {
     "name": "stdout",
     "output_type": "stream",
     "text": [
      "ARGOMENTI POSIZIONALI: (1, 2, 3)\n",
      "ARGOMENTI CON NOME: {'nome': 'Luca', 'età': 25}\n"
     ]
    }
   ],
   "source": [
    "def funzione_completa(*args, **kwargs):\n",
    "    print(\"ARGOMENTI POSIZIONALI:\", args)\n",
    "    print(\"ARGOMENTI CON NOME:\", kwargs)\n",
    "\n",
    "funzione_completa(1, 2, 3, nome=\"Luca\", età=25)\n"
   ]
  },
  {
   "cell_type": "code",
   "execution_count": null,
   "id": "06e9499c",
   "metadata": {},
   "outputs": [],
   "source": []
  },
  {
   "cell_type": "markdown",
   "id": "4111dce3",
   "metadata": {},
   "source": [
    "# Ordine corretto dei parametri in Python\n",
    "Quando definisci una funzione, i parametri devono seguire questo ordine:"
   ]
  },
  {
   "cell_type": "code",
   "execution_count": 11,
   "id": "15254d48",
   "metadata": {},
   "outputs": [],
   "source": [
    "def funzione(param_obbligatori, param_default, *args, param_keyword_only, **kwargs):\n",
    "    pass"
   ]
  },
  {
   "cell_type": "markdown",
   "id": "36fb59b4",
   "metadata": {},
   "source": [
    "- `param_obbligatori`: devono sempre essere forniti.\n",
    "- `param_default`: hanno un valore predefinito, sono opzionali.\n",
    "- `*args`: raccoglie tutti gli argomenti posizionali aggiuntivi.\n",
    "- `param_keyword_only`: devono essere passati usando nome=valore, definiti dopo `*args`.\n",
    "- `**kwargs`: raccoglie tutti gli argomenti con nome aggiuntivi.\n"
   ]
  },
  {
   "cell_type": "code",
   "execution_count": 9,
   "id": "c9f74ff8",
   "metadata": {},
   "outputs": [],
   "source": [
    "def esempio(a, b=10, *args, c, d=100, **kwargs):\n",
    "    print(\"a:\", a) \n",
    "    print(\"b:\", b)\n",
    "    print(\"args:\", args)\n",
    "    print(\"c:\", c)\n",
    "    print(\"d:\", d)\n",
    "    print(\"kwargs:\", kwargs)"
   ]
  },
  {
   "cell_type": "code",
   "execution_count": 10,
   "id": "fa323f0d",
   "metadata": {},
   "outputs": [
    {
     "name": "stdout",
     "output_type": "stream",
     "text": [
      "a: 1\n",
      "b: 2\n",
      "args: (3, 4)\n",
      "c: 50\n",
      "d: 100\n",
      "kwargs: {'e': 200, 'f': 300}\n"
     ]
    }
   ],
   "source": [
    "esempio(1, 2, 3, 4, c=50, e=200, f=300)\n"
   ]
  },
  {
   "cell_type": "markdown",
   "id": "cf18b16d",
   "metadata": {},
   "source": [
    "- a = 1: parametro obbligatorio.\n",
    "- b = 2: valore fornito (sovrascrive il default 10).\n",
    "- *args = (3, 4): tutti gli extra posizionali.\n",
    "- c = 50: obbligatorio perché è dopo *args, va passato come keyword.\n",
    "- d = 100: usa il default perché non fornito.\n",
    "- **kwargs = {'e': 200, 'f': 300}: tutti gli extra con nome."
   ]
  },
  {
   "cell_type": "code",
   "execution_count": null,
   "id": "d09488f7",
   "metadata": {},
   "outputs": [],
   "source": []
  },
  {
   "cell_type": "markdown",
   "id": "3d13190b",
   "metadata": {},
   "source": [
    "# Esercitazione 1\n",
    "Scrivi una funzione stampa_benvenuto che stampa \"Benvenuti alla seconda giornata del corso!\"."
   ]
  },
  {
   "cell_type": "code",
   "execution_count": null,
   "id": "0d60b2c0",
   "metadata": {},
   "outputs": [],
   "source": [
    "# Starter code\n",
    "def stampa_benvenuto():\n",
    "    # completa qui\n",
    "\n",
    "# Chiamata della funzione\n"
   ]
  },
  {
   "cell_type": "markdown",
   "id": "0b350c7c",
   "metadata": {},
   "source": [
    "|<br>\n",
    "|<br>\n",
    "|<br>\n",
    "|<br>\n",
    "|<br>\n",
    "|<br>"
   ]
  },
  {
   "cell_type": "code",
   "execution_count": 12,
   "id": "14eb599d",
   "metadata": {},
   "outputs": [
    {
     "name": "stdout",
     "output_type": "stream",
     "text": [
      "Benvenuti alla seconda giornata del corso!\n"
     ]
    }
   ],
   "source": [
    "def stampa_benvenuto():\n",
    "    print(\"Benvenuti alla seconda giornata del corso!\")\n",
    "\n",
    "stampa_benvenuto()\n"
   ]
  },
  {
   "cell_type": "markdown",
   "id": "fd1aecb1",
   "metadata": {},
   "source": [
    "# Esercitazione 2\n",
    "Scrivi una funzione `quadrato` che prenda un numero e ritorni il suo quadrato."
   ]
  },
  {
   "cell_type": "code",
   "execution_count": null,
   "id": "5cc7dde3",
   "metadata": {},
   "outputs": [],
   "source": [
    "# Starter code\n",
    "def quadrato(numero):\n",
    "    # completa qui\n",
    "\n",
    "# Test\n",
    "print(quadrato(5))  \n"
   ]
  },
  {
   "cell_type": "markdown",
   "id": "642d58cc",
   "metadata": {},
   "source": [
    "|<br>\n",
    "|<br>\n",
    "|<br>\n",
    "|<br>\n",
    "|<br>\n",
    "|<br>"
   ]
  },
  {
   "cell_type": "code",
   "execution_count": 13,
   "id": "c88edf94",
   "metadata": {},
   "outputs": [
    {
     "name": "stdout",
     "output_type": "stream",
     "text": [
      "25\n"
     ]
    }
   ],
   "source": [
    "def quadrato(numero):\n",
    "    return numero ** 2\n",
    "\n",
    "print(quadrato(5))\n"
   ]
  },
  {
   "cell_type": "code",
   "execution_count": null,
   "id": "9cd78a4c",
   "metadata": {},
   "outputs": [],
   "source": []
  },
  {
   "cell_type": "markdown",
   "id": "5eadff83",
   "metadata": {},
   "source": [
    "# Esercitazione 3\n",
    "Scrivi una funzione `moltiplica` che prende due numeri e restituisce il loro prodotto."
   ]
  },
  {
   "cell_type": "code",
   "execution_count": null,
   "id": "6fa6f50e",
   "metadata": {},
   "outputs": [],
   "source": [
    "# Starter code\n",
    "def moltiplica(a, b):\n",
    "    # completa qui\n",
    "\n",
    "# Test\n",
    "print(moltiplica(3, 4))  # dovrebbe stampare 12\n"
   ]
  },
  {
   "cell_type": "markdown",
   "id": "49e83e3a",
   "metadata": {},
   "source": [
    "|<br>\n",
    "|<br>\n",
    "|<br>\n",
    "|<br>\n",
    "|<br>\n",
    "|<br>"
   ]
  },
  {
   "cell_type": "code",
   "execution_count": 14,
   "id": "9319e56d",
   "metadata": {},
   "outputs": [
    {
     "name": "stdout",
     "output_type": "stream",
     "text": [
      "12\n"
     ]
    }
   ],
   "source": [
    "def moltiplica(a, b):\n",
    "    return a * b\n",
    "\n",
    "print(moltiplica(3, 4))"
   ]
  },
  {
   "cell_type": "code",
   "execution_count": null,
   "id": "55c977d0",
   "metadata": {},
   "outputs": [],
   "source": []
  },
  {
   "cell_type": "markdown",
   "id": "b5871a1b",
   "metadata": {},
   "source": [
    "# Esercizio 4\n",
    "Scrivi una funzione `somma_tutti` che sommi tutti i numeri passati come argomento.\n",
    "- `*args` permette di passare un numero variabile di argomenti posizionali. Viene usato per operazioni flessibili su molti elementi."
   ]
  },
  {
   "cell_type": "code",
   "execution_count": null,
   "id": "d83276a0",
   "metadata": {},
   "outputs": [],
   "source": [
    "# Starter code\n",
    "def # completa qui\n",
    "    # completa qui\n",
    "\n",
    "# Test\n",
    "print(somma_tutti(1, 2, 3))  # dovrebbe stampare 6\n",
    "print(somma_tutti(5, 10, 15))  # dovrebbe stampare 30\n"
   ]
  },
  {
   "cell_type": "markdown",
   "id": "e47fb2e5",
   "metadata": {},
   "source": [
    "|<br>\n",
    "|<br>\n",
    "|<br>\n",
    "|<br>\n",
    "|<br>\n",
    "|<br>"
   ]
  },
  {
   "cell_type": "code",
   "execution_count": 4,
   "id": "30203fdb",
   "metadata": {},
   "outputs": [
    {
     "name": "stdout",
     "output_type": "stream",
     "text": [
      "6\n",
      "30\n"
     ]
    }
   ],
   "source": [
    "def somma_tutti(*args):\n",
    "    return sum(args)\n",
    "\n",
    "print(somma_tutti(1, 2, 3))\n",
    "print(somma_tutti(5, 10, 15))"
   ]
  },
  {
   "cell_type": "markdown",
   "id": "b7ef502d",
   "metadata": {},
   "source": [
    "# Esercizio 5\n",
    "Scrivi una funzione `descrizione_persona` che accetti qualsiasi informazione su una persona e le stampa come \"chiave: valore\".\n",
    "\n",
    "- `**kwargs` consente di passare argomenti con nome variabili. È utile quando non si sa in anticipo quali \"etichette\" verranno usate."
   ]
  },
  {
   "cell_type": "code",
   "execution_count": null,
   "id": "5cd5a226",
   "metadata": {},
   "outputs": [],
   "source": [
    "# Starter code\n",
    "def descrizione_persona(**kwargs):\n",
    "    pass  # completa qui\n",
    "\n",
    "# Test\n",
    "descrizione_persona(nome=\"Luca\", età=30, città=\"Milano\")\n"
   ]
  },
  {
   "cell_type": "markdown",
   "id": "a865fb1d",
   "metadata": {},
   "source": [
    "|<br>\n",
    "|<br>\n",
    "|<br>\n",
    "|<br>\n",
    "|<br>\n",
    "|<br>"
   ]
  },
  {
   "cell_type": "code",
   "execution_count": 16,
   "id": "3829718c",
   "metadata": {},
   "outputs": [
    {
     "name": "stdout",
     "output_type": "stream",
     "text": [
      "nome: Luca\n",
      "età: 30\n",
      "città: Milano\n"
     ]
    }
   ],
   "source": [
    "def descrizione_persona(**kwargs):\n",
    "    for chiave, valore in kwargs.items():\n",
    "        print(f\"{chiave}: {valore}\")\n",
    "\n",
    "descrizione_persona(nome=\"Luca\", età=30, città=\"Milano\")"
   ]
  },
  {
   "cell_type": "markdown",
   "id": "df5f6525",
   "metadata": {},
   "source": [
    "# Esercizio 1 – Gestione Magazzino (livello intermedio/avanzato)\n",
    "### Scenario\n",
    "- Un’azienda gestisce un magazzino dove gli oggetti sono registrati in un dizionario:"
   ]
  },
  {
   "cell_type": "code",
   "execution_count": 17,
   "id": "af401e8a",
   "metadata": {},
   "outputs": [],
   "source": [
    "magazzino = {\"penna\": 50, \"quaderno\": 100, \"matita\": 75}"
   ]
  },
  {
   "cell_type": "markdown",
   "id": "7af29aa3",
   "metadata": {},
   "source": [
    "### Scrivi una funzione` aggiorna_magazzino` che:\n",
    "\n",
    "- Prenda in input il nome dell’articolo e la quantità da aggiungere o togliere.\n",
    "- Se l’articolo non esiste, lo aggiunga.\n",
    "- Non permetta che la quantità vada sotto zero."
   ]
  },
  {
   "cell_type": "code",
   "execution_count": 18,
   "id": "128bb651",
   "metadata": {},
   "outputs": [
    {
     "name": "stdout",
     "output_type": "stream",
     "text": [
      "{'penna': 50, 'quaderno': 100}\n"
     ]
    }
   ],
   "source": [
    "def aggiorna_magazzino(magazzino, articolo, quantita):\n",
    "    # completa qui\n",
    "    pass\n",
    "\n",
    "# Test\n",
    "magazzino = {\"penna\": 50, \"quaderno\": 100}\n",
    "aggiorna_magazzino(magazzino, \"penna\", -10)     # toglie 10 penne\n",
    "aggiorna_magazzino(magazzino, \"matita\", 30)     # aggiunge nuovo articolo\n",
    "aggiorna_magazzino(magazzino, \"quaderno\", -200) # tenta di togliere più del disponibile\n",
    "\n",
    "print(magazzino)\n"
   ]
  },
  {
   "cell_type": "markdown",
   "id": "6ecc053a",
   "metadata": {},
   "source": [
    "|<br>\n",
    "|<br>\n",
    "|<br>\n",
    "|<br>\n",
    "|<br>\n",
    "|<br>"
   ]
  },
  {
   "cell_type": "code",
   "execution_count": 20,
   "id": "b92f60d6",
   "metadata": {},
   "outputs": [
    {
     "name": "stdout",
     "output_type": "stream",
     "text": [
      "{'penna': 40, 'quaderno': 0, 'matita': 30}\n"
     ]
    }
   ],
   "source": [
    "def aggiorna_magazzino(magazzino, articolo, quantita):\n",
    "    if articolo not in magazzino:\n",
    "        magazzino[articolo] = 0\n",
    "    magazzino[articolo] += quantita\n",
    "    if magazzino[articolo] < 0:\n",
    "        magazzino[articolo] = 0  # evita valori negativi\n",
    "\n",
    "# Esempio d’uso\n",
    "magazzino = {\"penna\": 50, \"quaderno\": 100}\n",
    "aggiorna_magazzino(magazzino, \"penna\", -10)\n",
    "aggiorna_magazzino(magazzino, \"matita\", 30)\n",
    "aggiorna_magazzino(magazzino, \"quaderno\", -200)\n",
    "\n",
    "print(magazzino)\n",
    "# Output previsto: {'penna': 40, 'quaderno': 0, 'matita': 30}\n"
   ]
  },
  {
   "cell_type": "markdown",
   "id": "6ccf387a",
   "metadata": {},
   "source": [
    "# Esercizio 2 – Calcolo penetrazione agenzia formativa\n",
    "Scenario\n",
    "Un'agenzia formativa vuole calcolare l’indice di penetrazione nella propria area geografica.\n",
    "L’indice si definisce come:\n",
    "\n",
    "\n",
    "- Indice di Penetrazione = (Popolazione target/Numero iscritti) * 100\n",
    "\n",
    "Scrivi una funzione `calcola_penetrazione` che:\n",
    "\n",
    "- prenda il nome dell’area, il numero di iscritti e la popolazione target come input\n",
    "- Calcoli e restituisca l’indice di penetrazione formattato con 2 decimali\n",
    "- Ritorni anche un messaggio con il livello di penetrazione: \n",
    "1. Basso: < 10%\n",
    "2. Medio: tra 10% e 30%\n",
    "3. Alto: > 30%\n"
   ]
  },
  {
   "cell_type": "code",
   "execution_count": 21,
   "id": "c88cd843",
   "metadata": {},
   "outputs": [
    {
     "name": "stdout",
     "output_type": "stream",
     "text": [
      "None\n"
     ]
    }
   ],
   "source": [
    "def calcola_penetrazione(area, iscritti, popolazione):\n",
    "    # completa qui\n",
    "    pass\n",
    "\n",
    "# Test\n",
    "risultato = calcola_penetrazione(\"Modena\", 250, 1200)\n",
    "print(risultato)"
   ]
  },
  {
   "cell_type": "markdown",
   "id": "026b49e7",
   "metadata": {},
   "source": [
    "|<br>\n",
    "|<br>\n",
    "|<br>\n",
    "|<br>\n",
    "|<br>\n",
    "|<br>"
   ]
  },
  {
   "cell_type": "code",
   "execution_count": 22,
   "id": "d0afed3f",
   "metadata": {},
   "outputs": [
    {
     "name": "stdout",
     "output_type": "stream",
     "text": [
      "Nell'area Modena, l'indice di penetrazione è 20.83% (medio).\n",
      "Nell'area Ferrara, l'indice di penetrazione è 37.50% (alto).\n",
      "Nell'area Reggio Emilia, l'indice di penetrazione è 5.00% (basso).\n"
     ]
    }
   ],
   "source": [
    "def calcola_penetrazione(area, iscritti, popolazione):\n",
    "    if popolazione == 0:\n",
    "        return f\"Errore: popolazione target nulla in {area}\"\n",
    "    indice = (iscritti / popolazione) * 100\n",
    "    if indice < 10:\n",
    "        livello = \"basso\"\n",
    "    elif indice <= 30:\n",
    "        livello = \"medio\"\n",
    "    else:\n",
    "        livello = \"alto\"\n",
    "    return f\"Nell'area {area}, l'indice di penetrazione è {indice:.2f}% ({livello}).\"\n",
    "\n",
    "# Test\n",
    "print(calcola_penetrazione(\"Modena\", 250, 1200))\n",
    "print(calcola_penetrazione(\"Ferrara\", 150, 400))\n",
    "print(calcola_penetrazione(\"Reggio Emilia\", 50, 1000))\n"
   ]
  },
  {
   "cell_type": "code",
   "execution_count": null,
   "id": "8d8322a8",
   "metadata": {},
   "outputs": [],
   "source": []
  },
  {
   "cell_type": "code",
   "execution_count": null,
   "id": "4b24de21",
   "metadata": {},
   "outputs": [],
   "source": []
  },
  {
   "cell_type": "code",
   "execution_count": null,
   "id": "31347f52",
   "metadata": {},
   "outputs": [],
   "source": []
  }
 ],
 "metadata": {
  "kernelspec": {
   "display_name": "Python (Anaconda3)",
   "language": "python",
   "name": "anaconda3"
  },
  "language_info": {
   "codemirror_mode": {
    "name": "ipython",
    "version": 3
   },
   "file_extension": ".py",
   "mimetype": "text/x-python",
   "name": "python",
   "nbconvert_exporter": "python",
   "pygments_lexer": "ipython3",
   "version": "3.12.2"
  }
 },
 "nbformat": 4,
 "nbformat_minor": 5
}
