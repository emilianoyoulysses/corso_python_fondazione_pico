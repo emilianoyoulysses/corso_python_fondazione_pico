{
 "cells": [
  {
   "cell_type": "markdown",
   "id": "bbe5e8c8",
   "metadata": {},
   "source": [
    "# NumPy \n",
    "\n",
    "NumPy è l'abbreviazione di Numerical Python ed è il pacchetto più importante per il calcolo scientifico in Python.\n",
    "\n",
    "+ Numpy migliora la manipolazione di array mono e multidimensionali ed offre un rango vasto di funzioni matematiche. \n",
    "\n",
    "+ Per agire sui vettori e sulle matrici si ricorre a loop che iterano su tutti o parte dei loro elementi, dunque all'istruzione for. Numpy offre strumenti progettati per fare a meno dell'uso di for in maniera esplicita. \n",
    "\n",
    "---------------------------------------------------------------------------------------"
   ]
  },
  {
   "cell_type": "markdown",
   "id": "f10c6801",
   "metadata": {},
   "source": [
    "## Array\n",
    "Un array è una struttura dati che può contenere una collezione ordinata di elementi, tutti dello stesso tipo, e che consente accesso rapido tramite indici numerici.\n",
    "\n",
    "Python non ha un tipo nativo chiamato \"array\" come in altri linguaggi (come C o Java). Tuttavia, ci sono due principali modi per lavorare con array.\n",
    "\n",
    "---------------------------------------------------------------------------------------"
   ]
  },
  {
   "cell_type": "markdown",
   "id": "8bbb023b",
   "metadata": {},
   "source": [
    "## Liste (list)\n",
    "Sono la struttura dati più usata in Python per contenere elementi ordinati. Possono contenere tipi diversi, anche se spesso vengono usate come array. \\\n",
    "Le liste non impongono che tutti gli elementi siano dello stesso tipo."
   ]
  },
  {
   "cell_type": "code",
   "execution_count": 1,
   "id": "a28ccdf8",
   "metadata": {},
   "outputs": [
    {
     "name": "stdout",
     "output_type": "stream",
     "text": [
      "3\n"
     ]
    }
   ],
   "source": [
    "numeri = [1, 2, 3, 4, 5]\n",
    "print(numeri[2])"
   ]
  },
  {
   "cell_type": "markdown",
   "id": "80cf10d7",
   "metadata": {},
   "source": [
    "## Array del modulo array\n",
    "Se abbiamo bisogno di un array più efficiente in termini di memoria, possiamo usare il modulo array della libreria standard.\n",
    "\n",
    "* 'i' indica il tipo di dato (interi).\n",
    "* Tutti gli elementi devono essere dello stesso tipo."
   ]
  },
  {
   "cell_type": "code",
   "execution_count": 2,
   "id": "4ccf0c8f",
   "metadata": {},
   "outputs": [
    {
     "name": "stdout",
     "output_type": "stream",
     "text": [
      "3\n"
     ]
    }
   ],
   "source": [
    "import array\n",
    "\n",
    "numeri = array.array('i', [1, 2, 3, 4, 5])  \n",
    "print(numeri[2]) "
   ]
  },
  {
   "cell_type": "markdown",
   "id": "2c97fb60",
   "metadata": {},
   "source": [
    "# Array con NumPy\n",
    "Per uso scientifico o matematico, si usa la libreria NumPy, che fornisce array multidimensionali e ottimizzati:"
   ]
  },
  {
   "cell_type": "code",
   "execution_count": 5,
   "id": "ea4f9e44",
   "metadata": {},
   "outputs": [
    {
     "name": "stdout",
     "output_type": "stream",
     "text": [
      "3\n"
     ]
    }
   ],
   "source": [
    "import numpy as np\n",
    "\n",
    "numeri = np.array([1, 2, 3, 4, 5])\n",
    "print(numeri[2])"
   ]
  },
  {
   "cell_type": "markdown",
   "id": "2724caa1",
   "metadata": {},
   "source": [
    "# Liste e Array"
   ]
  },
  {
   "cell_type": "markdown",
   "id": "d41e815d",
   "metadata": {},
   "source": [
    "Liste ed array hanno una sintassi simile.\n",
    "1. I loro elementi sono ordinati, mutevoli e possono memorizzare elementi duplicati. \n",
    "2. Consentono indicizzazione, slicing e iterazione.\n",
    "\n",
    "#### Tutti i programmi che utilizzano numpy devono importare il package:\n",
    "\n",
    "`import numpy as np`"
   ]
  },
  {
   "cell_type": "code",
   "execution_count": 7,
   "id": "95d5b92d",
   "metadata": {},
   "outputs": [],
   "source": [
    "import numpy as np \n",
    "\n",
    "# creiamo una lista [1,1,2,2,3,3]\n",
    "lista_1 =[1,1,2,2,3,3]"
   ]
  },
  {
   "cell_type": "code",
   "execution_count": 8,
   "id": "460f0ef1",
   "metadata": {},
   "outputs": [],
   "source": [
    "# creiamo un array \n",
    "array_1 = np.array([1,1,2,2,3,3])"
   ]
  },
  {
   "cell_type": "code",
   "execution_count": 9,
   "id": "746c087e",
   "metadata": {},
   "outputs": [
    {
     "name": "stdout",
     "output_type": "stream",
     "text": [
      "[1 1 2 2 3 3]\n"
     ]
    }
   ],
   "source": [
    "print(array_1)"
   ]
  },
  {
   "cell_type": "markdown",
   "id": "8b93d544",
   "metadata": {},
   "source": [
    "# Esercizio\n",
    "Creiamo un array da `[4, 77, 2, 98]` e visualizziamolo. "
   ]
  },
  {
   "cell_type": "markdown",
   "id": "b1dbffaf",
   "metadata": {},
   "source": [
    "|<br>\n",
    "|<br>\n",
    "|<br>\n",
    "|<br>\n",
    "|<br>\n",
    "|<br>\n",
    "|<br>\n",
    "|<br>"
   ]
  },
  {
   "cell_type": "code",
   "execution_count": 10,
   "id": "6bc9f829",
   "metadata": {},
   "outputs": [
    {
     "name": "stdout",
     "output_type": "stream",
     "text": [
      "[ 4 77  2 98]\n"
     ]
    }
   ],
   "source": [
    "array_test = np.array([4,77,2,98])\n",
    "print(array_test)"
   ]
  },
  {
   "cell_type": "markdown",
   "id": "844e02f4",
   "metadata": {},
   "source": [
    "## Creiamo un array con una variabile"
   ]
  },
  {
   "cell_type": "code",
   "execution_count": 12,
   "id": "fef60c66",
   "metadata": {},
   "outputs": [
    {
     "name": "stdout",
     "output_type": "stream",
     "text": [
      "[   3    6   44 1234   11   11]\n"
     ]
    }
   ],
   "source": [
    "vendite=[3,6,44,1234,11, 11]\n",
    "\n",
    "vendite_array=np.array(vendite)\n",
    "\n",
    "print(vendite_array)"
   ]
  },
  {
   "cell_type": "markdown",
   "id": "5ea9d4b9",
   "metadata": {},
   "source": [
    "## Differenze tra array e liste\n",
    "+ Le liste sono strutture dati integrate, possono contenere elementi di tipi diversi, le dimensioni delle liste sono flessibili, poiché si espandono man mano che aggiungiamo nuovi elementi.\n",
    "+ Gli array devono essere importati, possono contenere solo dati dello stesso tipo, ad esempio solo interi o solo stringhe, una volta definita la dimensione di un array, questa rimane fissa e non può essere espansa. "
   ]
  },
  {
   "cell_type": "code",
   "execution_count": 18,
   "id": "8783067a",
   "metadata": {},
   "outputs": [],
   "source": [
    "lista = [\"pico\",4,5]"
   ]
  },
  {
   "cell_type": "code",
   "execution_count": 19,
   "id": "17c7499e",
   "metadata": {},
   "outputs": [
    {
     "name": "stdout",
     "output_type": "stream",
     "text": [
      "['pico', 4, 5, 'machine learning']\n"
     ]
    }
   ],
   "source": [
    "lista.append(\"machine learning\")\n",
    "print(lista)"
   ]
  },
  {
   "cell_type": "code",
   "execution_count": 22,
   "id": "5721a75c",
   "metadata": {},
   "outputs": [
    {
     "name": "stdout",
     "output_type": "stream",
     "text": [
      "[3 4 5]\n"
     ]
    }
   ],
   "source": [
    "import numpy as np\n",
    "array = np.array([3,4,5])\n",
    "print(array)"
   ]
  },
  {
   "cell_type": "markdown",
   "id": "8d3648ba",
   "metadata": {},
   "source": [
    "## Gli array numpy più efficienti\n",
    "Gli array numpy consumano meno memoria, memorizzano i dati in modo molto compatto e sono più efficienti per la memorizzazione di grandi quantità di dati.\n",
    "+ una lista Python e un array NumPy con 1.000 elementi: l'array NumPy consuma sei volte meno memoria rispetto alla lista. \n",
    "+ Gli elementi di NumPy richiedono solo la memoria per memorizzare i valori, ad esempio, quattro byte per un valore intero.\n",
    "+ Le liste devono memorizzare molte più informazioni come il valore dell'oggetto, il tipo di oggetto, il conteggio dei riferimenti e la dimensione di quel valore intero."
   ]
  },
  {
   "cell_type": "markdown",
   "id": "041954bd",
   "metadata": {},
   "source": [
    "##  Gli array sono più veloci rispetto alle liste Python.\n",
    "+ Se vogliamo moltiplicare ciascun elemento di una lista per un numero, dobbiamo utilizzare un ciclo `for`. \n",
    "+ Con un array numpy, possiamo semplicemente moltiplicare l'intero array usando l'operazione di moltiplicazione, che si occuperà di moltiplicare ciascun elemento. \n",
    "\n",
    "Quando confrontiamo il tempo necessario per questa operazione su 10.000 interi, la lista Python con il ciclo for impiega in media un millisecondo, mentre l'array numpy completa la stessa operazione in un centesimo di millisecondo, rendendolo 100 volte più veloce delle liste."
   ]
  },
  {
   "cell_type": "code",
   "execution_count": 26,
   "id": "7523546d",
   "metadata": {},
   "outputs": [
    {
     "data": {
      "text/plain": [
       "[10, 15, 25]"
      ]
     },
     "execution_count": 26,
     "metadata": {},
     "output_type": "execute_result"
    }
   ],
   "source": [
    "lista = [2,3,5]\n",
    "[i*5 for i in lista]"
   ]
  },
  {
   "cell_type": "code",
   "execution_count": 27,
   "id": "1551f737",
   "metadata": {
    "scrolled": true
   },
   "outputs": [
    {
     "data": {
      "text/plain": [
       "array([10, 15, 25])"
      ]
     },
     "execution_count": 27,
     "metadata": {},
     "output_type": "execute_result"
    }
   ],
   "source": [
    "import numpy as np\n",
    "array = np.array([2,3,5])\n",
    "array * 5"
   ]
  },
  {
   "cell_type": "markdown",
   "id": "94da20d6",
   "metadata": {},
   "source": [
    "## `np.array`\n",
    "+ `np.array` è una funzione che utilizzo per creare un array;\n",
    "+ con la funzione `np.array` si creano array da liste o ennuple, inizianizzandone gli elementi a proprio piacimento. \n",
    "+ le tuple sono delle ennuple ovvero sono delle collezioni ordinate e non modificabili, sono sequenze che possono contenere valori duplicati. A differenza delle strighe possono contenere anche valori eterogenei."
   ]
  },
  {
   "cell_type": "code",
   "execution_count": 28,
   "id": "ba721dba",
   "metadata": {},
   "outputs": [
    {
     "name": "stdout",
     "output_type": "stream",
     "text": [
      "[4 5 6]\n"
     ]
    }
   ],
   "source": [
    "import numpy as np\n",
    "pico_dataset = np.array([4,5,6])\n",
    "print(pico_dataset)"
   ]
  },
  {
   "cell_type": "markdown",
   "id": "3e66526b",
   "metadata": {},
   "source": [
    "## Array bidimensionale\n",
    "+ In un array o matrice bidimensionale i dati sono organizzati per righe e per colonne, come se fossero inseriti in una tabella. \n",
    "+ Per la sua memorizzazione possiamo utilizzare una lista, specificando il numero di componenti per ciascuna delle due dimensioni che la costituiscono:"
   ]
  },
  {
   "cell_type": "code",
   "execution_count": 30,
   "id": "81e6eead",
   "metadata": {},
   "outputs": [
    {
     "name": "stdout",
     "output_type": "stream",
     "text": [
      "[[111], [555], [666], [777]]\n"
     ]
    }
   ],
   "source": [
    "array_lista = [[111],[555],[666],[777]]\n",
    "print(array_lista)"
   ]
  },
  {
   "cell_type": "markdown",
   "id": "9bc386c8",
   "metadata": {},
   "source": [
    "L'oggetto referenziato da `array_lista` è ancora una lista e contiene 4 righe e 3 colonne per un totale di 12 elementi:\n",
    "+ per accedere a ciascuno di essi, si utilizzano due indici: il primo  specifica la riga da 0 a r-1, il secondo la colonna da 0 a c-1.\n",
    "+ r e c sono il numero di righe e il numero di colonne.\n",
    "+ per fare riferimento ad un elemento, si fa seguire al nome della lista il numero della riga meno uno ed il nome della colonna meno uno, entrambi racchiusi tra parentesi quadre."
   ]
  },
  {
   "cell_type": "code",
   "execution_count": 36,
   "id": "8e0ad8ca",
   "metadata": {},
   "outputs": [
    {
     "data": {
      "text/plain": [
       "[555]"
      ]
     },
     "execution_count": 36,
     "metadata": {},
     "output_type": "execute_result"
    }
   ],
   "source": [
    "array[1] #si riferisce alla seconda sottolista"
   ]
  },
  {
   "cell_type": "code",
   "execution_count": 37,
   "id": "593c10e1",
   "metadata": {
    "scrolled": true
   },
   "outputs": [
    {
     "data": {
      "text/plain": [
       "555"
      ]
     },
     "execution_count": 37,
     "metadata": {},
     "output_type": "execute_result"
    }
   ],
   "source": [
    "array[1][0]"
   ]
  },
  {
   "cell_type": "markdown",
   "id": "d2ddf403",
   "metadata": {},
   "source": [
    "## Creazione di array"
   ]
  },
  {
   "cell_type": "code",
   "execution_count": 1,
   "id": "e40b8d64",
   "metadata": {},
   "outputs": [],
   "source": [
    "import numpy as np \n",
    "c=5; r=3; p=2"
   ]
  },
  {
   "cell_type": "markdown",
   "id": "21eccd87",
   "metadata": {},
   "source": [
    "## Inizializzo un array con tutti gli elementi a zero."
   ]
  },
  {
   "cell_type": "code",
   "execution_count": 2,
   "id": "6ab5e034",
   "metadata": {
    "scrolled": true
   },
   "outputs": [
    {
     "data": {
      "text/plain": [
       "array([[[0., 0., 0., 0., 0.],\n",
       "        [0., 0., 0., 0., 0.],\n",
       "        [0., 0., 0., 0., 0.]],\n",
       "\n",
       "       [[0., 0., 0., 0., 0.],\n",
       "        [0., 0., 0., 0., 0.],\n",
       "        [0., 0., 0., 0., 0.]]])"
      ]
     },
     "execution_count": 2,
     "metadata": {},
     "output_type": "execute_result"
    }
   ],
   "source": [
    "mat1=np.zeros((p,r,c))\n",
    "mat1"
   ]
  },
  {
   "cell_type": "markdown",
   "id": "44359053",
   "metadata": {},
   "source": [
    "## Inizializzo un array con tutti gli elementi ad uno. "
   ]
  },
  {
   "cell_type": "code",
   "execution_count": 5,
   "id": "87f9ce04",
   "metadata": {
    "scrolled": true
   },
   "outputs": [
    {
     "data": {
      "text/plain": [
       "array([[[1., 1., 1., 1., 1.],\n",
       "        [1., 1., 1., 1., 1.],\n",
       "        [1., 1., 1., 1., 1.]],\n",
       "\n",
       "       [[1., 1., 1., 1., 1.],\n",
       "        [1., 1., 1., 1., 1.],\n",
       "        [1., 1., 1., 1., 1.]]])"
      ]
     },
     "execution_count": 5,
     "metadata": {},
     "output_type": "execute_result"
    }
   ],
   "source": [
    "mat2=np.ones((p,r,c))\n",
    "mat2"
   ]
  },
  {
   "cell_type": "markdown",
   "id": "68b7751b",
   "metadata": {},
   "source": [
    "## Inizializza un array vuoto"
   ]
  },
  {
   "cell_type": "code",
   "execution_count": 6,
   "id": "970f2cd4",
   "metadata": {},
   "outputs": [
    {
     "data": {
      "text/plain": [
       "array([[[1., 1., 1., 1., 1.],\n",
       "        [1., 1., 1., 1., 1.],\n",
       "        [1., 1., 1., 1., 1.]],\n",
       "\n",
       "       [[1., 1., 1., 1., 1.],\n",
       "        [1., 1., 1., 1., 1.],\n",
       "        [1., 1., 1., 1., 1.]]])"
      ]
     },
     "execution_count": 6,
     "metadata": {},
     "output_type": "execute_result"
    }
   ],
   "source": [
    "mat3=np.empty((p,r,c))\n",
    "mat3"
   ]
  },
  {
   "cell_type": "markdown",
   "id": "c54fd32f",
   "metadata": {},
   "source": [
    "## Esercitazione\n",
    "Crea un array con:\n",
    "* d = 2; prima dimensione, quanti array 2D sono presenti\n",
    "* r = 6; seconda dimensione, quante righe ha ogni array 2D\n",
    "* c = 3; terza dimensione, quante colonne ha ogni riga\n",
    "\n",
    "Crealo a uno e zero. "
   ]
  },
  {
   "cell_type": "markdown",
   "id": "cb58a95b",
   "metadata": {},
   "source": [
    "|<br>\n",
    "|<br>\n",
    "|<br>\n",
    "|<br>\n",
    "|<br>\n",
    "|<br>\n",
    "|<br>\n",
    "|<br>"
   ]
  },
  {
   "cell_type": "code",
   "execution_count": 7,
   "id": "2941e219",
   "metadata": {},
   "outputs": [
    {
     "data": {
      "text/plain": [
       "array([[[1., 1., 1.],\n",
       "        [1., 1., 1.],\n",
       "        [1., 1., 1.],\n",
       "        [1., 1., 1.]],\n",
       "\n",
       "       [[1., 1., 1.],\n",
       "        [1., 1., 1.],\n",
       "        [1., 1., 1.],\n",
       "        [1., 1., 1.]]])"
      ]
     },
     "execution_count": 7,
     "metadata": {},
     "output_type": "execute_result"
    }
   ],
   "source": [
    "d = 2\n",
    "r = 4\n",
    "c = 3\n",
    "\n",
    "import numpy as np\n",
    "esercitazione = np.ones((d,r,c))\n",
    "esercitazione"
   ]
  },
  {
   "cell_type": "code",
   "execution_count": 55,
   "id": "77b5a78e",
   "metadata": {},
   "outputs": [
    {
     "data": {
      "text/plain": [
       "array([[[0., 0., 0.],\n",
       "        [0., 0., 0.],\n",
       "        [0., 0., 0.],\n",
       "        [0., 0., 0.]],\n",
       "\n",
       "       [[0., 0., 0.],\n",
       "        [0., 0., 0.],\n",
       "        [0., 0., 0.],\n",
       "        [0., 0., 0.]]])"
      ]
     },
     "execution_count": 55,
     "metadata": {},
     "output_type": "execute_result"
    }
   ],
   "source": [
    "esercitazione_zero = np.zeros((d,r,c))\n",
    "esercitazione_zero"
   ]
  },
  {
   "cell_type": "markdown",
   "id": "2b0b11a9",
   "metadata": {},
   "source": [
    "## Tipo `ndarray`\n",
    "Gli array sono di tipo `numpy.ndarray` ed i loro elementi sono numeri di tipo `ndtype`.\n",
    "\n",
    "`Ndarray` è l'abbreviazione di **N-dimensional array** e si tratta di **array multi-dimensionali**, ottimizzati per eseguire operazioni matematiche e manipolazioni dati in modo efficiente. "
   ]
  },
  {
   "cell_type": "code",
   "execution_count": 56,
   "id": "a319fd51",
   "metadata": {},
   "outputs": [
    {
     "data": {
      "text/plain": [
       "array([[[0., 0., 0.],\n",
       "        [0., 0., 0.],\n",
       "        [0., 0., 0.],\n",
       "        [0., 0., 0.]],\n",
       "\n",
       "       [[0., 0., 0.],\n",
       "        [0., 0., 0.],\n",
       "        [0., 0., 0.],\n",
       "        [0., 0., 0.]],\n",
       "\n",
       "       [[0., 0., 0.],\n",
       "        [0., 0., 0.],\n",
       "        [0., 0., 0.],\n",
       "        [0., 0., 0.]]])"
      ]
     },
     "execution_count": 56,
     "metadata": {},
     "output_type": "execute_result"
    }
   ],
   "source": [
    "mat1=np.zeros((p,r,c))\n",
    "mat1"
   ]
  },
  {
   "cell_type": "markdown",
   "id": "9a652d24",
   "metadata": {},
   "source": [
    "## Sintassi\n",
    "`numpy.zeros(shape, dtype)`:\n",
    "* shape è una ennupla con tanti valori quante le dimensioni: ogni valore ne indica il numero di elementi lungo quella dimensione. \n",
    "* ogni dimensione è chiamata axis;\n",
    "* il numero degli axis è detto rank. "
   ]
  },
  {
   "cell_type": "code",
   "execution_count": null,
   "id": "de61aa17",
   "metadata": {},
   "outputs": [],
   "source": []
  },
  {
   "cell_type": "markdown",
   "id": "1c1cade8",
   "metadata": {},
   "source": [
    "## `np.full` - crea un nuovo array pieno di valore\n",
    "`np.full(shape, fill_value)`\n",
    "* `shape`: una tupla che definisce la forma dell'array;\n",
    "* `fill_value`: il valore con cui riempire l'array."
   ]
  },
  {
   "cell_type": "code",
   "execution_count": 59,
   "id": "e447cf0c",
   "metadata": {},
   "outputs": [
    {
     "name": "stdout",
     "output_type": "stream",
     "text": [
      "[[7 7 7]\n",
      " [7 7 7]]\n"
     ]
    }
   ],
   "source": [
    "import numpy as np\n",
    "\n",
    "# Crea un array 2x3 pieno di 7\n",
    "a = np.full((2, 3), 7)\n",
    "\n",
    "print(a)"
   ]
  },
  {
   "cell_type": "markdown",
   "id": "4157976c",
   "metadata": {},
   "source": [
    "## `np.full_like` \n",
    "Crea un nuovo array con la stessa forma e tipo di un array esistente, ma riempito con un valore specificato.\n",
    "\n",
    "`np.full_like(array_esistente, valore)`\n",
    "* Copia forma e tipo da array_esistente.\n",
    "* Riempi ogni elemento con valore."
   ]
  },
  {
   "cell_type": "code",
   "execution_count": 61,
   "id": "4e1f4101",
   "metadata": {},
   "outputs": [
    {
     "name": "stdout",
     "output_type": "stream",
     "text": [
      "[[99 99 99]\n",
      " [99 99 99]]\n"
     ]
    }
   ],
   "source": [
    "import numpy as np\n",
    "\n",
    "# Array di partenza\n",
    "a = np.array([[1, 2, 3], [4, 5, 6]])\n",
    "\n",
    "# Crea un array uguale in forma e tipo, ma pieno di 99\n",
    "b = np.full_like(a, 99)\n",
    "\n",
    "print(b)"
   ]
  },
  {
   "cell_type": "markdown",
   "id": "ae410030",
   "metadata": {},
   "source": [
    "# Esercitazione 1 - `np.full()`\n",
    "Crea una tabella 4X5 piena del numero 8 usando `np.full()`"
   ]
  },
  {
   "cell_type": "markdown",
   "id": "e4722cab",
   "metadata": {},
   "source": [
    "|<br>\n",
    "|<br>\n",
    "|<br>\n",
    "|<br>\n",
    "|<br>\n",
    "|<br>\n",
    "|<br>\n",
    "|<br>"
   ]
  },
  {
   "cell_type": "code",
   "execution_count": 8,
   "id": "20022f71",
   "metadata": {},
   "outputs": [
    {
     "name": "stdout",
     "output_type": "stream",
     "text": [
      "Tabella piena di 8:\n",
      "[[8 8 8 8 8]\n",
      " [8 8 8 8 8]\n",
      " [8 8 8 8 8]\n",
      " [8 8 8 8 8]]\n"
     ]
    }
   ],
   "source": [
    "import numpy as np\n",
    "\n",
    "# Crea un array 4x5 pieno di 8\n",
    "tabella = np.full((4, 5), 8)\n",
    "\n",
    "print(\"Tabella piena di 8:\")\n",
    "print(tabella)"
   ]
  },
  {
   "cell_type": "markdown",
   "id": "f166d2e1",
   "metadata": {},
   "source": [
    "# Esercitazione 2 - `np.full_like()`\n",
    "Dato un array esistente, `esistente = np.array([[3, 7, 1], [0, 5, 2]])` crea un array con stessa forma e tipo, ma pieno di -1.\n",
    "|<br>\n",
    "|<br>\n",
    "|<br>\n",
    "|<br>\n",
    "|<br>\n",
    "|<br>\n",
    "|<br>\n",
    "|<br>"
   ]
  },
  {
   "cell_type": "code",
   "execution_count": 63,
   "id": "84cef1c0",
   "metadata": {},
   "outputs": [
    {
     "name": "stdout",
     "output_type": "stream",
     "text": [
      "Array originale:\n",
      "[[3 7 1]\n",
      " [0 5 2]]\n",
      "Array pieno di -1 con full_like:\n",
      "[[-1 -1 -1]\n",
      " [-1 -1 -1]]\n"
     ]
    }
   ],
   "source": [
    "import numpy as np\n",
    "\n",
    "# Array di partenza\n",
    "esistente = np.array([[3, 7, 1], [0, 5, 2]])\n",
    "\n",
    "# Crea array della stessa forma e tipo, pieno di -1\n",
    "nuovo = np.full_like(esistente, -1)\n",
    "\n",
    "print(\"Array originale:\")\n",
    "print(esistente)\n",
    "\n",
    "print(\"Array pieno di -1 con full_like:\")\n",
    "print(nuovo)"
   ]
  },
  {
   "cell_type": "markdown",
   "id": "559d3aa0",
   "metadata": {},
   "source": [
    "# Funzione `np.array()` \n",
    "Con la funzione **np.array** si creano array da liste ed ennuple, inizializzandone gli elementi a proprio piacimento"
   ]
  },
  {
   "cell_type": "code",
   "execution_count": 58,
   "id": "a8f76d8a",
   "metadata": {},
   "outputs": [
    {
     "name": "stdout",
     "output_type": "stream",
     "text": [
      "[[ 1  4  4  5]\n",
      " [ 7 77  9  8]]\n"
     ]
    }
   ],
   "source": [
    "import numpy as np\n",
    "array_funzione = np.array([[1,4,4,5],[7,77,9,8]])\n",
    "print(array_funzione)"
   ]
  },
  {
   "cell_type": "markdown",
   "id": "5e48c5e4",
   "metadata": {},
   "source": [
    "`np.array` trasforma liste ed ennuple in oggetti `ndarray`."
   ]
  },
  {
   "cell_type": "markdown",
   "id": "b0ace3e1",
   "metadata": {},
   "source": [
    "# `np.arange()`\n",
    "Crea un array NumPy con valori numerici in sequenza e distanziati, simile alla funzione `range()`, ma restituisce un array NumPy.\n",
    "\n",
    "`np.arange(start, stop, step)`\n",
    "\n",
    "* start: valore iniziale (incluso)\n",
    "* stop: valore finale (escluso)\n",
    "* step: passo (opzionale, default = 1)"
   ]
  },
  {
   "cell_type": "code",
   "execution_count": 9,
   "id": "eea43170",
   "metadata": {},
   "outputs": [
    {
     "name": "stdout",
     "output_type": "stream",
     "text": [
      "[1 3 5 7 9]\n"
     ]
    }
   ],
   "source": [
    "import numpy as np\n",
    "\n",
    "a = np.arange(1, 10, 2)\n",
    "print(a)"
   ]
  },
  {
   "cell_type": "markdown",
   "id": "f67aac30",
   "metadata": {},
   "source": [
    "## Esercitazione con `np.arange()`\n",
    "Crea un array NumPy con i numeri da 5 a 50 (escluso), con passo 5.\n",
    "* Calcola la somma dei numeri dell’array.\n",
    "* Trova il valore massimo.\n",
    "|<br>\n",
    "|<br>\n",
    "|<br>\n",
    "|<br>\n",
    "|<br>\n",
    "|<br>\n",
    "|<br>\n",
    "|<br>"
   ]
  },
  {
   "cell_type": "code",
   "execution_count": 10,
   "id": "b0123dc4",
   "metadata": {},
   "outputs": [
    {
     "name": "stdout",
     "output_type": "stream",
     "text": [
      "Array: [ 5 10 15 20 25 30 35 40 45]\n",
      "Somma: 225\n",
      "Massimo: 45\n"
     ]
    }
   ],
   "source": [
    "import numpy as np\n",
    "\n",
    "# 1. Crea l'array\n",
    "numeri = np.arange(5, 50, 5)\n",
    "\n",
    "# 2. Calcola la somma\n",
    "somma = numeri.sum()\n",
    "\n",
    "# 3. Trova il massimo\n",
    "massimo = numeri.max()\n",
    "\n",
    "# Stampa i risultati\n",
    "print(\"Array:\", numeri)\n",
    "print(\"Somma:\", somma)\n",
    "print(\"Massimo:\", massimo)\n"
   ]
  },
  {
   "cell_type": "markdown",
   "id": "02a6da8c",
   "metadata": {},
   "source": [
    "# `np.linspace()`\n",
    "Crea un array NumPy con un numero fisso di valori equamente distribuiti tra un valore iniziale e un valore finale (incluso per default).\n",
    "\n",
    "`np.linspace(start, stop, num=50)`\n",
    "\n",
    "* **start**: valore iniziale;\n",
    "* **stop**: valore finale;\n",
    "* **num**: numero di valori da generare (default = 50);\n",
    "* **endpoint=True**: se True (default), include anche stop.\n"
   ]
  },
  {
   "cell_type": "code",
   "execution_count": 11,
   "id": "1739a5ac",
   "metadata": {},
   "outputs": [
    {
     "name": "stdout",
     "output_type": "stream",
     "text": [
      "[0.   0.25 0.5  0.75 1.  ]\n"
     ]
    }
   ],
   "source": [
    "import numpy as np\n",
    "\n",
    "a = np.linspace(0, 1, 5)\n",
    "print(a)"
   ]
  },
  {
   "cell_type": "markdown",
   "id": "2278da92",
   "metadata": {},
   "source": [
    "# Esercitazione `np.linspace()`\n",
    "\n",
    "1. Crea 6 numeri equidistanti tra 10 e 20\n",
    "2. Calcola:\n",
    "- la differenza media tra i valori\n",
    "- la media dei valori\n",
    "\n",
    "3. Stampa tutto\n",
    "|<br>\n",
    "|<br>\n",
    "|<br>\n",
    "|<br>\n",
    "|<br>\n",
    "|<br>\n",
    "|<br>\n",
    "|<br>"
   ]
  },
  {
   "cell_type": "code",
   "execution_count": 71,
   "id": "89e832d0",
   "metadata": {},
   "outputs": [
    {
     "name": "stdout",
     "output_type": "stream",
     "text": [
      "Valori: [10. 12. 14. 16. 18. 20.]\n",
      "Passo: 2.0\n",
      "Media: 15.0\n"
     ]
    }
   ],
   "source": [
    "import numpy as np\n",
    "\n",
    "# 1. Creiamo 6 valori equidistanti tra 10 e 20\n",
    "valori = np.linspace(10, 20, 6)\n",
    "\n",
    "# 2. Differenza media tra valori (passo)\n",
    "passo = valori[1] - valori[0]\n",
    "\n",
    "# 3. Media dei valori\n",
    "media = valori.mean()\n",
    "\n",
    "# 4. Stampiamo i risultati\n",
    "print(\"Valori:\", valori)\n",
    "print(\"Passo:\", passo)\n",
    "print(\"Media:\", media)"
   ]
  },
  {
   "cell_type": "code",
   "execution_count": null,
   "id": "39a94f1f",
   "metadata": {},
   "outputs": [],
   "source": []
  },
  {
   "cell_type": "code",
   "execution_count": null,
   "id": "7d65be3a",
   "metadata": {},
   "outputs": [],
   "source": []
  },
  {
   "cell_type": "markdown",
   "id": "4b8a6528",
   "metadata": {},
   "source": [
    "# Oggetti ndarray"
   ]
  },
  {
   "cell_type": "markdown",
   "id": "086ddc29",
   "metadata": {},
   "source": [
    "L'oggetto istanziato dalla classe ndarray è una struttura dati omogenea e multidimensionale. \n",
    "+ Ogni dimensione **axis** ha una lunghezza, corrispondente al numero degli elementi.\n",
    "+ **Shape** è la ennupla di interi contenente le lunghezze di tutti di axis.\n",
    "+ **Size** è il numero totale di elementi presenti nell'array. "
   ]
  },
  {
   "cell_type": "code",
   "execution_count": 12,
   "id": "7e60ec43",
   "metadata": {},
   "outputs": [
    {
     "name": "stdout",
     "output_type": "stream",
     "text": [
      "[[1 2 0]\n",
      " [0 0 1]\n",
      " [1 2 0]\n",
      " [1 0 3]]\n"
     ]
    }
   ],
   "source": [
    "import numpy as np \n",
    "array_nd=np.array([[1,2,0],[0,0,1],[1,2,0],[1,0,3]])\n",
    "print(array_nd)"
   ]
  },
  {
   "cell_type": "markdown",
   "id": "7dfc3c15",
   "metadata": {},
   "source": [
    "Questo array numpy bidimensionale (2D) ha 2 axis, rispettivamente di lunghezza 4 e 3, la sua shape è la ennupla (4,3), la size è 12. "
   ]
  },
  {
   "cell_type": "code",
   "execution_count": 72,
   "id": "564353f3",
   "metadata": {},
   "outputs": [
    {
     "name": "stdout",
     "output_type": "stream",
     "text": [
      "[[1 2 0]\n",
      " [0 0 1]\n",
      " [1 2 0]\n",
      " [1 0 3]]\n"
     ]
    }
   ],
   "source": [
    "import numpy as np \n",
    "\n",
    "array_nd = np.array([\n",
    "    [1, 2, 0],\n",
    "    [0, 0, 1],\n",
    "    [1, 2, 0],\n",
    "    [1, 0, 3]\n",
    "])\n",
    "\n",
    "print(array_nd)\n"
   ]
  },
  {
   "cell_type": "markdown",
   "id": "aedb7517",
   "metadata": {},
   "source": [
    "# `ndarray.type`\n",
    "Tipo dei dati degli elementi dell'array."
   ]
  },
  {
   "cell_type": "code",
   "execution_count": 74,
   "id": "b4e271c3",
   "metadata": {},
   "outputs": [
    {
     "data": {
      "text/plain": [
       "dtype('int64')"
      ]
     },
     "execution_count": 74,
     "metadata": {},
     "output_type": "execute_result"
    }
   ],
   "source": [
    "array_nd.dtype"
   ]
  },
  {
   "cell_type": "markdown",
   "id": "dcbfeabf",
   "metadata": {},
   "source": [
    "# `ndarray.ndim`\n",
    "Numero di axis."
   ]
  },
  {
   "cell_type": "code",
   "execution_count": 75,
   "id": "c7c830bb",
   "metadata": {},
   "outputs": [
    {
     "data": {
      "text/plain": [
       "2"
      ]
     },
     "execution_count": 75,
     "metadata": {},
     "output_type": "execute_result"
    }
   ],
   "source": [
    "array_nd.ndim"
   ]
  },
  {
   "cell_type": "markdown",
   "id": "4a114217",
   "metadata": {},
   "source": [
    "# `ndarray.shape`\n",
    "La forma dell'array descritta dalle sue dimensioni. E' un'ennupla che specifica le lunghezze di ogni dimensione(axis) dell'array, il numero di elementi di shape sarà pari al numero di axis, ndim."
   ]
  },
  {
   "cell_type": "code",
   "execution_count": 76,
   "id": "0f857675",
   "metadata": {
    "scrolled": true
   },
   "outputs": [
    {
     "data": {
      "text/plain": [
       "(4, 3)"
      ]
     },
     "execution_count": 76,
     "metadata": {},
     "output_type": "execute_result"
    }
   ],
   "source": [
    "array_nd.shape "
   ]
  },
  {
   "cell_type": "markdown",
   "id": "cac6d334",
   "metadata": {},
   "source": [
    "`ndarray.size`\n",
    "Numero degli elementi dell'array, uguale al prodotto degli elementi di shape. "
   ]
  },
  {
   "cell_type": "code",
   "execution_count": 77,
   "id": "3676859c",
   "metadata": {},
   "outputs": [
    {
     "data": {
      "text/plain": [
       "12"
      ]
     },
     "execution_count": 77,
     "metadata": {},
     "output_type": "execute_result"
    }
   ],
   "source": [
    "array_nd.size"
   ]
  },
  {
   "cell_type": "markdown",
   "id": "4fe74004",
   "metadata": {},
   "source": [
    "# `ndarray.reshape`\n",
    "`reshape` è un metodo che permette di cambiare la forma (shape) di un array senza cambiare i dati contenuti.\n",
    "> Cambia il numero di righe e colonne (o dimensioni), purché il numero totale di elementi rimanga lo stesso.\n",
    "\n",
    "`array.reshape(nuova_forma)`\n",
    "`nuova_forma`: una tupla come `(righe, colonne)` oppure più dimensioni.\n"
   ]
  },
  {
   "cell_type": "code",
   "execution_count": 78,
   "id": "4f1d2f71",
   "metadata": {},
   "outputs": [
    {
     "name": "stdout",
     "output_type": "stream",
     "text": [
      "Array originale: [1 2 3 4 5 6]\n",
      "Array trasformato:\n",
      "[[1 2 3]\n",
      " [4 5 6]]\n"
     ]
    }
   ],
   "source": [
    "import numpy as np\n",
    "\n",
    "a = np.array([1, 2, 3, 4, 5, 6])\n",
    "b = a.reshape((2, 3))  # 2 righe, 3 colonne\n",
    "\n",
    "print(\"Array originale:\", a)\n",
    "print(\"Array trasformato:\")\n",
    "print(b)"
   ]
  },
  {
   "cell_type": "markdown",
   "id": "5e66cd6f",
   "metadata": {},
   "source": [
    "# Esercitazione con `reshape`\n",
    "2. 1. Crea un array 1D con i numeri da 1 a 12\n",
    "Trasformalo in:\n",
    "- array 3x4\n",
    "- array 4x3\n",
    "- array 2x6\n",
    "3. Stampa tutte le versioni con `.shape`\n",
    "|<br>\n",
    "|<br>\n",
    "|<br>\n",
    "|<br>\n",
    "|<br>\n",
    "|<br>\n",
    "|<br>\n",
    "|<br>"
   ]
  },
  {
   "cell_type": "code",
   "execution_count": 79,
   "id": "cad4baee",
   "metadata": {},
   "outputs": [
    {
     "name": "stdout",
     "output_type": "stream",
     "text": [
      "Array 3x4:\n",
      "[[ 1  2  3  4]\n",
      " [ 5  6  7  8]\n",
      " [ 9 10 11 12]]\n",
      "Forma: (3, 4)\n",
      "\n",
      "Array 4x3:\n",
      "[[ 1  2  3]\n",
      " [ 4  5  6]\n",
      " [ 7  8  9]\n",
      " [10 11 12]]\n",
      "Forma: (4, 3)\n",
      "\n",
      "Array 2x6:\n",
      "[[ 1  2  3  4  5  6]\n",
      " [ 7  8  9 10 11 12]]\n",
      "Forma: (2, 6)\n"
     ]
    }
   ],
   "source": [
    "import numpy as np\n",
    "\n",
    "# 1. Array 1D\n",
    "a = np.arange(1, 13)  # da 1 a 12\n",
    "\n",
    "# 2. Diverse forme\n",
    "a_3x4 = a.reshape((3, 4))\n",
    "a_4x3 = a.reshape((4, 3))\n",
    "a_2x6 = a.reshape((2, 6))\n",
    "\n",
    "# 3. Stampa\n",
    "print(\"Array 3x4:\")\n",
    "print(a_3x4)\n",
    "print(\"Forma:\", a_3x4.shape)\n",
    "\n",
    "print(\"\\nArray 4x3:\")\n",
    "print(a_4x3)\n",
    "print(\"Forma:\", a_4x3.shape)\n",
    "\n",
    "print(\"\\nArray 2x6:\")\n",
    "print(a_2x6)\n",
    "print(\"Forma:\", a_2x6.shape)"
   ]
  },
  {
   "cell_type": "markdown",
   "id": "4f122de8",
   "metadata": {},
   "source": [
    "# Tipi di Array\n",
    "\n",
    "La programmazione orientata agli array utilizza gli array multidimensionali chiamati ndarrays, dove \"ND\" sta per **N-dimensionale**. \n",
    "\n",
    "### Indicizzazione\n",
    "L'indicizzazione degli array NumPy inizia da zero: il primo elemento ha indice zero e l'ultimo elemento ha indice n-1, dove n è la lunghezza dell'array o la dimensione.\n",
    "\n",
    "* Ogni valore nell'array è di tipo int64, dove \"int\" indica il tipo di dato intero e \"64\" il numero di bit che rappresentano ogni numero.\n",
    "* Gli array possono avere altri tipi di dato, come int32, interi senza segno, numeri a virgola mobile o numeri complessi."
   ]
  },
  {
   "cell_type": "code",
   "execution_count": 81,
   "id": "80d0e2b6",
   "metadata": {},
   "outputs": [],
   "source": [
    "import numpy as np"
   ]
  },
  {
   "cell_type": "code",
   "execution_count": 82,
   "id": "2b11867f",
   "metadata": {},
   "outputs": [
    {
     "name": "stdout",
     "output_type": "stream",
     "text": [
      "[10 20 30 40 50]\n"
     ]
    }
   ],
   "source": [
    "interi=np.array([10,20,30,40,50])\n",
    "print(interi)"
   ]
  },
  {
   "cell_type": "code",
   "execution_count": 83,
   "id": "80628b67",
   "metadata": {},
   "outputs": [
    {
     "data": {
      "text/plain": [
       "30"
      ]
     },
     "execution_count": 83,
     "metadata": {},
     "output_type": "execute_result"
    }
   ],
   "source": [
    "interi[2]"
   ]
  },
  {
   "cell_type": "code",
   "execution_count": 84,
   "id": "b916ca62",
   "metadata": {},
   "outputs": [
    {
     "data": {
      "text/plain": [
       "array([20, 20, 30, 40, 50])"
      ]
     },
     "execution_count": 84,
     "metadata": {},
     "output_type": "execute_result"
    }
   ],
   "source": [
    "interi[0]=20\n",
    "interi"
   ]
  },
  {
   "cell_type": "code",
   "execution_count": 85,
   "id": "9eb7489f",
   "metadata": {},
   "outputs": [
    {
     "data": {
      "text/plain": [
       "array([21, 20, 30, 40, 50])"
      ]
     },
     "execution_count": 85,
     "metadata": {},
     "output_type": "execute_result"
    }
   ],
   "source": [
    "interi[0]=21.5 #tutti i dati devono essere dello stesso tipo, il float viene troncato\n",
    "interi"
   ]
  },
  {
   "cell_type": "code",
   "execution_count": 86,
   "id": "c7316fba",
   "metadata": {},
   "outputs": [
    {
     "data": {
      "text/plain": [
       "dtype('int64')"
      ]
     },
     "execution_count": 86,
     "metadata": {},
     "output_type": "execute_result"
    }
   ],
   "source": [
    "interi.dtype"
   ]
  },
  {
   "cell_type": "markdown",
   "id": "f7bada3b",
   "metadata": {},
   "source": [
    "# Array multidimensionali\n",
    "\n",
    "L'array chiamato **ndarray** è l'oggetto centrale del pacchetto NumPy. \n",
    "\n",
    "+ Un array unidimensionale può essere visto come un vettore. \n",
    "+ Un array bidimensionale come una matrice. \n",
    "+ Un array tridimensionale come un tensore. "
   ]
  },
  {
   "cell_type": "code",
   "execution_count": 87,
   "id": "21bbf560",
   "metadata": {},
   "outputs": [],
   "source": [
    "import numpy as np"
   ]
  },
  {
   "cell_type": "code",
   "execution_count": 88,
   "id": "883abaa7",
   "metadata": {},
   "outputs": [
    {
     "data": {
      "text/plain": [
       "array([[ 1,  2,  3,  4,  5],\n",
       "       [ 6,  7,  8,  9, 10]])"
      ]
     },
     "execution_count": 88,
     "metadata": {},
     "output_type": "execute_result"
    }
   ],
   "source": [
    "numeri_2d=np.array([[1,2,3,4,5],[6,7,8,9,10]]) \n",
    "numeri_2d"
   ]
  },
  {
   "cell_type": "markdown",
   "id": "407c098d",
   "metadata": {},
   "source": [
    "Abbiamo creato un array 2D, ovvero una matrice con 2 righe e 5 colonne."
   ]
  },
  {
   "cell_type": "code",
   "execution_count": 69,
   "id": "91a50f4b",
   "metadata": {},
   "outputs": [
    {
     "data": {
      "text/plain": [
       "6"
      ]
     },
     "execution_count": 69,
     "metadata": {},
     "output_type": "execute_result"
    }
   ],
   "source": [
    "numeri_2d[1,0]"
   ]
  },
  {
   "cell_type": "markdown",
   "id": "0ce378cb",
   "metadata": {},
   "source": [
    "Abbiamo avuto accesso all'elemento dell'array `numeri_2d` che si trova:\n",
    "* nella seconda riga - 1 gli indici partono da 0\n",
    "* nella prima colonna - 0"
   ]
  },
  {
   "cell_type": "code",
   "execution_count": 70,
   "id": "c6de186a",
   "metadata": {},
   "outputs": [
    {
     "data": {
      "text/plain": [
       "7"
      ]
     },
     "execution_count": 70,
     "metadata": {},
     "output_type": "execute_result"
    }
   ],
   "source": [
    "numeri_2d[1,1]"
   ]
  },
  {
   "cell_type": "markdown",
   "id": "a9106c4d",
   "metadata": {},
   "source": [
    "# array 3D"
   ]
  },
  {
   "cell_type": "code",
   "execution_count": 94,
   "id": "c92a8435",
   "metadata": {},
   "outputs": [],
   "source": [
    "multi_arr=np.array([[[1,2,3],[4,5,6]],[[7,8,9],[10,11,12]]]) #array 3D"
   ]
  },
  {
   "cell_type": "code",
   "execution_count": 95,
   "id": "8d9b44ff",
   "metadata": {},
   "outputs": [
    {
     "data": {
      "text/plain": [
       "array([[[ 1,  2,  3],\n",
       "        [ 4,  5,  6]],\n",
       "\n",
       "       [[ 7,  8,  9],\n",
       "        [10, 11, 12]]])"
      ]
     },
     "execution_count": 95,
     "metadata": {},
     "output_type": "execute_result"
    }
   ],
   "source": [
    "multi_arr = np.array([\n",
    "    [[1, 2, 3], [4, 5, 6]],       # Primo blocco (indice 0)\n",
    "    [[7, 8, 9], [10, 11, 12]]     # Secondo blocco (indice 1)\n",
    "])\n",
    "multi_arr"
   ]
  },
  {
   "cell_type": "markdown",
   "id": "c6bced10",
   "metadata": {},
   "source": [
    "#### Un array 3D è come una lista di array 2D.\n",
    "In questo caso:\n",
    "* 2 blocchi → prima dimensione (profondità)\n",
    "* Ogni blocco ha 2 righe\n",
    "* Ogni riga ha 3 colonne"
   ]
  },
  {
   "cell_type": "code",
   "execution_count": 96,
   "id": "67b2c58f",
   "metadata": {},
   "outputs": [
    {
     "data": {
      "text/plain": [
       "(2, 2, 3)"
      ]
     },
     "execution_count": 96,
     "metadata": {},
     "output_type": "execute_result"
    }
   ],
   "source": [
    "multi_arr.shape"
   ]
  },
  {
   "cell_type": "code",
   "execution_count": 97,
   "id": "d8c23c8b",
   "metadata": {},
   "outputs": [
    {
     "data": {
      "text/plain": [
       "6"
      ]
     },
     "execution_count": 97,
     "metadata": {},
     "output_type": "execute_result"
    }
   ],
   "source": [
    "multi_arr[0, 1, 2]"
   ]
  },
  {
   "cell_type": "markdown",
   "id": "db9d1b5a",
   "metadata": {},
   "source": [
    "* `multi_arr[0]` → primo blocco → `[[1, 2, 3], [4, 5, 6]]`\n",
    "* `multi_arr[0, 1]` → seconda riga del primo blocco → `[4, 5, 6]`\n",
    "* `multi_arr[0, 1, 2]` → terzo elemento della seconda riga del primo blocco → `6`"
   ]
  },
  {
   "cell_type": "code",
   "execution_count": 98,
   "id": "6e2fb4a2",
   "metadata": {
    "scrolled": true
   },
   "outputs": [
    {
     "data": {
      "text/plain": [
       "9"
      ]
     },
     "execution_count": 98,
     "metadata": {},
     "output_type": "execute_result"
    }
   ],
   "source": [
    "multi_arr[1,0,2]"
   ]
  },
  {
   "cell_type": "code",
   "execution_count": 99,
   "id": "23365bf3",
   "metadata": {},
   "outputs": [
    {
     "data": {
      "text/plain": [
       "12"
      ]
     },
     "execution_count": 99,
     "metadata": {},
     "output_type": "execute_result"
    }
   ],
   "source": [
    "multi_arr.size"
   ]
  },
  {
   "cell_type": "code",
   "execution_count": 78,
   "id": "bcf4605e",
   "metadata": {},
   "outputs": [
    {
     "data": {
      "text/plain": [
       "dtype('int64')"
      ]
     },
     "execution_count": 78,
     "metadata": {},
     "output_type": "execute_result"
    }
   ],
   "source": [
    "multi_arr.dtype"
   ]
  },
  {
   "cell_type": "markdown",
   "id": "ca04a245",
   "metadata": {},
   "source": [
    "# Creare Array dalle liste e da altre strutture Python\n",
    "E' possibile costruire array direttamente da oggetti Python, come liste, tuple o liste di liste. "
   ]
  },
  {
   "cell_type": "code",
   "execution_count": 100,
   "id": "a15b9f62",
   "metadata": {},
   "outputs": [],
   "source": [
    "import numpy as np"
   ]
  },
  {
   "cell_type": "code",
   "execution_count": 101,
   "id": "7d7c63e6",
   "metadata": {},
   "outputs": [],
   "source": [
    "prima_lista=[1,2,3,4,5,6,7,8,9,10]"
   ]
  },
  {
   "cell_type": "code",
   "execution_count": 102,
   "id": "aff1dcda",
   "metadata": {
    "scrolled": true
   },
   "outputs": [
    {
     "data": {
      "text/plain": [
       "[1, 2, 3, 4, 5, 6, 7, 8, 9, 10]"
      ]
     },
     "execution_count": 102,
     "metadata": {},
     "output_type": "execute_result"
    }
   ],
   "source": [
    "prima_lista"
   ]
  },
  {
   "cell_type": "code",
   "execution_count": null,
   "id": "dc078b70",
   "metadata": {},
   "outputs": [],
   "source": []
  },
  {
   "cell_type": "code",
   "execution_count": 103,
   "id": "80e1dc11",
   "metadata": {},
   "outputs": [
    {
     "data": {
      "text/plain": [
       "array([ 1,  2,  3,  4,  5,  6,  7,  8,  9, 10])"
      ]
     },
     "execution_count": 103,
     "metadata": {},
     "output_type": "execute_result"
    }
   ],
   "source": [
    "primo_array=np.array(prima_lista)\n",
    "primo_array"
   ]
  },
  {
   "cell_type": "code",
   "execution_count": 104,
   "id": "4fb6cc30",
   "metadata": {},
   "outputs": [
    {
     "data": {
      "text/plain": [
       "[1, 2, 3, -1.23, 50, 12800, 4.56]"
      ]
     },
     "execution_count": 104,
     "metadata": {},
     "output_type": "execute_result"
    }
   ],
   "source": [
    "seconda_lista=[1,2,3,-1.23, 50, 12800, 4.56] #lista con elementi diversi\n",
    "seconda_lista"
   ]
  },
  {
   "cell_type": "code",
   "execution_count": 105,
   "id": "489f2345",
   "metadata": {},
   "outputs": [
    {
     "data": {
      "text/plain": [
       "array([ 1.00e+00,  2.00e+00,  3.00e+00, -1.23e+00,  5.00e+01,  1.28e+04,\n",
       "        4.56e+00])"
      ]
     },
     "execution_count": 105,
     "metadata": {},
     "output_type": "execute_result"
    }
   ],
   "source": [
    "secondo_array=np.array(seconda_lista) \n",
    "secondo_array"
   ]
  },
  {
   "cell_type": "markdown",
   "id": "8c41bbd6",
   "metadata": {},
   "source": [
    "Array ha automaticamente promosso tutti i numeri al tipo dell'elemento più generico della lista, che in questo caso è un numero a virgola mobile (Floating Point)."
   ]
  },
  {
   "cell_type": "code",
   "execution_count": 106,
   "id": "bf19f3a0",
   "metadata": {},
   "outputs": [
    {
     "data": {
      "text/plain": [
       "dtype('float64')"
      ]
     },
     "execution_count": 106,
     "metadata": {},
     "output_type": "execute_result"
    }
   ],
   "source": [
    "secondo_array.dtype"
   ]
  },
  {
   "cell_type": "code",
   "execution_count": 107,
   "id": "93c502c7",
   "metadata": {},
   "outputs": [
    {
     "data": {
      "text/plain": [
       "['Emiliano', 7777, 'Carver', 1944, 'Hugo', 1789]"
      ]
     },
     "execution_count": 107,
     "metadata": {},
     "output_type": "execute_result"
    }
   ],
   "source": [
    "terza_lista=['Emiliano', 7777, 'Carver', 1944, 'Hugo', 1789] #contiene sia numeri che stringhe\n",
    "terza_lista"
   ]
  },
  {
   "cell_type": "code",
   "execution_count": 108,
   "id": "c89286b7",
   "metadata": {},
   "outputs": [
    {
     "data": {
      "text/plain": [
       "array(['Emiliano', '7777', 'Carver', '1944', 'Hugo', '1789'], dtype='<U21')"
      ]
     },
     "execution_count": 108,
     "metadata": {},
     "output_type": "execute_result"
    }
   ],
   "source": [
    "terzo_array=np.array(terza_lista) #U21 raccont che array è stringa unicode\n",
    "terzo_array"
   ]
  },
  {
   "cell_type": "markdown",
   "id": "fe91cbf4",
   "metadata": {},
   "source": [
    "### Il **valore dtype='<U21'** rappresenta il tipo di dato degli elementi di un array. \n",
    "Quando dtype è impostato su <U21, significa che:\n",
    "\n",
    "+ Gli elementi sono stringhe Unicode (U):\n",
    "+ Unicode è un sistema di codifica standard che consente di rappresentare testi in più lingue e simboli.\n",
    "+ Il tipo U viene utilizzato per array di stringhe, assicurandosi che ogni elemento possa contenere caratteri Unicode.\n",
    "+ La lunghezza massima è di 21 caratteri:\n",
    "+ Ogni elemento dell'array può contenere stringhe di lunghezza massima pari a 21 caratteri.\n",
    "+ Se una stringa più lunga viene inserita, sarà troncata.\n"
   ]
  },
  {
   "cell_type": "markdown",
   "id": "fce1e97e",
   "metadata": {},
   "source": [
    "> ## Quando creiamo un ndarray, tutti gli elementi diventano stringhe, poiché le stringhe sono considerate il tipo più generale."
   ]
  },
  {
   "cell_type": "markdown",
   "id": "c221ff2f",
   "metadata": {},
   "source": [
    "## In NumPy, tutti gli elementi di un ndarray devono avere lo stesso tipo (dtype).\n",
    "\n",
    "* Se crei un array con elementi misti (numeri e stringhe), NumPy cercherà un tipo comune in cui può convertire tutto senza perdita di informazione.\n",
    "* La stringa è il tipo più \"generale\" (non perde dati da nessun altro tipo), quindi tutti gli elementi verranno convertiti in stringhe."
   ]
  },
  {
   "cell_type": "code",
   "execution_count": 109,
   "id": "8d972431",
   "metadata": {},
   "outputs": [
    {
     "data": {
      "text/plain": [
       "(5, 10, 15, 20, 25, 30)"
      ]
     },
     "execution_count": 109,
     "metadata": {},
     "output_type": "execute_result"
    }
   ],
   "source": [
    "prima_tupla=(5,10,15,20,25,30)\n",
    "prima_tupla"
   ]
  },
  {
   "cell_type": "markdown",
   "id": "97b1dd8d",
   "metadata": {},
   "source": [
    "Abbiamo creato un array a partire da una tupla.\n",
    "+ Le tuple sono sequenze immutabili, il che significa che, una volta definite, i singoli elementi non possono essere modificati.\n",
    "+ La differenza principale tra una lista e una tupla è che una tupla è racchiusa tra parentesi tonde."
   ]
  },
  {
   "cell_type": "code",
   "execution_count": 110,
   "id": "87770a4c",
   "metadata": {},
   "outputs": [
    {
     "data": {
      "text/plain": [
       "array([ 5, 10, 15, 20, 25, 30])"
      ]
     },
     "execution_count": 110,
     "metadata": {},
     "output_type": "execute_result"
    }
   ],
   "source": [
    "array_da_prima_tupla=np.array(prima_tupla)\n",
    "array_da_prima_tupla"
   ]
  },
  {
   "cell_type": "code",
   "execution_count": 111,
   "id": "8879b877",
   "metadata": {},
   "outputs": [
    {
     "data": {
      "text/plain": [
       "dtype('int64')"
      ]
     },
     "execution_count": 111,
     "metadata": {},
     "output_type": "execute_result"
    }
   ],
   "source": [
    "array_da_prima_tupla.dtype"
   ]
  },
  {
   "cell_type": "code",
   "execution_count": null,
   "id": "6b9df391",
   "metadata": {},
   "outputs": [],
   "source": []
  },
  {
   "cell_type": "code",
   "execution_count": 112,
   "id": "6e06cce8",
   "metadata": {},
   "outputs": [
    {
     "data": {
      "text/plain": [
       "[[[0, 1, 2], [3, 4, 5], [6, 7, 8], [9, 10, 11]]]"
      ]
     },
     "execution_count": 112,
     "metadata": {},
     "output_type": "execute_result"
    }
   ],
   "source": [
    "lista_multi_dim=[[[0,1,2],[3,4,5],[6,7,8], [9,10,11]]]\n",
    "lista_multi_dim"
   ]
  },
  {
   "cell_type": "code",
   "execution_count": 113,
   "id": "f5874c65",
   "metadata": {},
   "outputs": [
    {
     "data": {
      "text/plain": [
       "array([[[ 0,  1,  2],\n",
       "        [ 3,  4,  5],\n",
       "        [ 6,  7,  8],\n",
       "        [ 9, 10, 11]]])"
      ]
     },
     "execution_count": 113,
     "metadata": {},
     "output_type": "execute_result"
    }
   ],
   "source": [
    "array_da_lista_multi_dim=np.array(lista_multi_dim)\n",
    "array_da_lista_multi_dim"
   ]
  },
  {
   "cell_type": "markdown",
   "id": "9f1203b7",
   "metadata": {},
   "source": [
    "# Creazione intrinseca di array NumPy\n",
    "\n",
    "NumPy offre alcune funzioni utili per creare array riempiti con valori specifici. \n"
   ]
  },
  {
   "cell_type": "code",
   "execution_count": 114,
   "id": "92aabbc6",
   "metadata": {},
   "outputs": [],
   "source": [
    "import numpy as np"
   ]
  },
  {
   "cell_type": "markdown",
   "id": "d2c33988",
   "metadata": {},
   "source": [
    "## Funzione `arange` \n",
    "Se passiamo un intero come argomento a arange, otterremo un array unidimensionale di interi che inizia da zero e termina prima del valore intero passato come parametro."
   ]
  },
  {
   "cell_type": "code",
   "execution_count": 115,
   "id": "7ab5cf2d",
   "metadata": {},
   "outputs": [
    {
     "data": {
      "text/plain": [
       "array([0, 1, 2, 3, 4, 5, 6, 7, 8, 9])"
      ]
     },
     "execution_count": 115,
     "metadata": {},
     "output_type": "execute_result"
    }
   ],
   "source": [
    "interi_array=np.arange(10)\n",
    "interi_array"
   ]
  },
  {
   "cell_type": "code",
   "execution_count": 116,
   "id": "159b46da",
   "metadata": {
    "scrolled": true
   },
   "outputs": [
    {
     "data": {
      "text/plain": [
       "array([100, 101, 102, 103, 104, 105, 106, 107, 108, 109, 110, 111, 112,\n",
       "       113, 114, 115, 116, 117, 118, 119, 120, 121, 122, 123, 124, 125,\n",
       "       126, 127, 128, 129])"
      ]
     },
     "execution_count": 116,
     "metadata": {},
     "output_type": "execute_result"
    }
   ],
   "source": [
    "interi_secondo_array=np.arange(100,130)\n",
    "interi_secondo_array"
   ]
  },
  {
   "cell_type": "markdown",
   "id": "4db996a9",
   "metadata": {},
   "source": [
    "Passiamo tre argomenti: il primo definisce il valore iniziale, il secondo il valore finale e il terzo definisce lo step. \\\n",
    "Lo step viene usato per saltare valori. "
   ]
  },
  {
   "cell_type": "code",
   "execution_count": 117,
   "id": "0d87a92a",
   "metadata": {
    "scrolled": true
   },
   "outputs": [
    {
     "data": {
      "text/plain": [
       "array([100, 108, 116, 124, 132, 140, 148, 156, 164, 172, 180, 188, 196])"
      ]
     },
     "execution_count": 117,
     "metadata": {},
     "output_type": "execute_result"
    }
   ],
   "source": [
    "interi_terzo_array=np.arange(100,201,8)\n",
    "interi_terzo_array"
   ]
  },
  {
   "cell_type": "markdown",
   "id": "38e9c83c",
   "metadata": {},
   "source": [
    "# Esercitazione `np.arange`\n",
    "1. Creare un array con numeri da 50 a 150 con passo 7\n",
    "2. Visualizzare:\n",
    "* La forma dell’array\n",
    "* Il numero di elementi\n",
    "* Il primo e l’ultimo elemento\n",
    "3. Calcolare:\n",
    "* La somma di tutti i numeri\n",
    "* La media dei valori\n",
    "* Quanti numeri sono divisibili per 5\n",
    "|<br>\n",
    "|<br>\n",
    "|<br>\n",
    "|<br>\n",
    "|<br>\n",
    "|<br>\n",
    "|<br>\n",
    "|<br>"
   ]
  },
  {
   "cell_type": "code",
   "execution_count": 118,
   "id": "c299e9ff",
   "metadata": {},
   "outputs": [
    {
     "name": "stdout",
     "output_type": "stream",
     "text": [
      "Array: [ 50  57  64  71  78  85  92  99 106 113 120 127 134 141 148]\n",
      "Forma: (15,)\n",
      "Numero di elementi: 15\n",
      "Primo elemento: 50\n",
      "Ultimo elemento: 148\n",
      "Somma: 1485\n",
      "Media: 99.0\n",
      "Multipli di 5: 3\n"
     ]
    }
   ],
   "source": [
    "import numpy as np\n",
    "\n",
    "# 1. Crea array da 50 a 150 (escluso 151), passo 7\n",
    "interi_array = np.arange(50, 151, 7)\n",
    "\n",
    "# 2. Informazioni base\n",
    "print(\"Array:\", interi_array)\n",
    "print(\"Forma:\", interi_array.shape)\n",
    "print(\"Numero di elementi:\", interi_array.size)\n",
    "print(\"Primo elemento:\", interi_array[0])\n",
    "print(\"Ultimo elemento:\", interi_array[-1])\n",
    "\n",
    "# 3. Calcoli\n",
    "somma = interi_array.sum()\n",
    "media = interi_array.mean()\n",
    "multipli_di_5 = np.count_nonzero(interi_array % 5 == 0)\n",
    "\n",
    "# 4. Risultati\n",
    "print(\"Somma:\", somma)\n",
    "print(\"Media:\", media)\n",
    "print(\"Multipli di 5:\", multipli_di_5)\n"
   ]
  },
  {
   "cell_type": "code",
   "execution_count": null,
   "id": "17302851",
   "metadata": {},
   "outputs": [],
   "source": []
  },
  {
   "cell_type": "markdown",
   "id": "7db5a4cd",
   "metadata": {},
   "source": [
    "# Funzione linspace\n",
    "Per creare un array di numeri a virgola mobile con valori decimali equidistanti, la scelta migliore è la funzione linspace. \\\n",
    "`linspace` accetta solitamente tre argomenti:\n",
    "\n",
    "+ start, il valore iniziale della sequenza,\n",
    "+ stop, il valore finale della sequenza,\n",
    "+ num, opzionale, che rappresenta il numero di campioni da generare."
   ]
  },
  {
   "cell_type": "code",
   "execution_count": 119,
   "id": "a7369f82",
   "metadata": {},
   "outputs": [
    {
     "data": {
      "text/plain": [
       "array([10.        , 10.6122449 , 11.2244898 , 11.83673469, 12.44897959,\n",
       "       13.06122449, 13.67346939, 14.28571429, 14.89795918, 15.51020408,\n",
       "       16.12244898, 16.73469388, 17.34693878, 17.95918367, 18.57142857,\n",
       "       19.18367347, 19.79591837, 20.40816327, 21.02040816, 21.63265306,\n",
       "       22.24489796, 22.85714286, 23.46938776, 24.08163265, 24.69387755,\n",
       "       25.30612245, 25.91836735, 26.53061224, 27.14285714, 27.75510204,\n",
       "       28.36734694, 28.97959184, 29.59183673, 30.20408163, 30.81632653,\n",
       "       31.42857143, 32.04081633, 32.65306122, 33.26530612, 33.87755102,\n",
       "       34.48979592, 35.10204082, 35.71428571, 36.32653061, 36.93877551,\n",
       "       37.55102041, 38.16326531, 38.7755102 , 39.3877551 , 40.        ])"
      ]
     },
     "execution_count": 119,
     "metadata": {},
     "output_type": "execute_result"
    }
   ],
   "source": [
    "primo_mobile_array=np.linspace(10,40) #di base 50 punti\n",
    "primo_mobile_array"
   ]
  },
  {
   "cell_type": "code",
   "execution_count": 100,
   "id": "65beb932",
   "metadata": {},
   "outputs": [
    {
     "data": {
      "text/plain": [
       "array([10.        , 11.11111111, 12.22222222, 13.33333333, 14.44444444,\n",
       "       15.55555556, 16.66666667, 17.77777778, 18.88888889, 20.        ])"
      ]
     },
     "execution_count": 100,
     "metadata": {},
     "output_type": "execute_result"
    }
   ],
   "source": [
    "secondo_mobile_array=np.linspace(10,20,10)\n",
    "secondo_mobile_array"
   ]
  },
  {
   "cell_type": "markdown",
   "id": "c735e5bf",
   "metadata": {},
   "source": [
    "## È importante distinguere la differenza tra `arange` e `linspace`\n",
    "\n",
    "+ `arange` utilizza come terzo argomento la dimensione dello step\n",
    "+ `linspace` utilizza il numero di punti da generare."
   ]
  },
  {
   "cell_type": "markdown",
   "id": "12aa64f1",
   "metadata": {},
   "source": [
    "---------------------------------------------------------------------------------------------------------------\n",
    "\n",
    "# `np.random`\n",
    "\n",
    "`np.random` è un modulo di NumPy che permette di generare numeri casuali o pseudo-casuali. \\\n",
    "Viene usato spesso in:\n",
    "\n",
    "* simulazioni\n",
    "* test\n",
    "intelligenza artificiale\n",
    "* machine learning\n",
    "* giochi o estrazioni"
   ]
  },
  {
   "cell_type": "markdown",
   "id": "04c5d865",
   "metadata": {},
   "source": [
    "# Funzione `rand`\n",
    "Ndarrays con dati distribuiti casualmente vengono utilizzati in algoritmi numerici e di machine learning.\n",
    "\n",
    "* Utilizziamo la libreria random di NumPy e la funzione rand.\n",
    "* Questa funzione crea un array delle dimensioni specificate, popolandolo con numeri a virgola mobile distribuiti uniformemente nell'intervallo da 0 a 1.\n",
    "\n",
    "`np.random.rand(10)` genera un array NumPy contenente 10 numeri casuali (float) compresi tra 0.0 e 1.0, distribuiti uniformemente.\n",
    "\n",
    "* L’array ha forma (10,), cioè un array 1D di 10 elementi.\n",
    "* I valori sono float64 per default.\n",
    "* Tutti i valori sono in `[0.0, 1.0)` (il valore 1 è escluso)."
   ]
  },
  {
   "cell_type": "code",
   "execution_count": 13,
   "id": "b629a335",
   "metadata": {},
   "outputs": [
    {
     "name": "stdout",
     "output_type": "stream",
     "text": [
      "[0.85340211 0.94218878 0.93416505 0.90146941 0.87159512 0.78726165\n",
      " 0.06490053 0.51548836 0.28412978 0.23781469]\n"
     ]
    }
   ],
   "source": [
    "primo_rand_arr=np.random.rand(10) # numeri casuali distribuiti uniformemente\n",
    "print(primo_rand_arr)                    # hanno la stessa probabilità di essere generati"
   ]
  },
  {
   "cell_type": "markdown",
   "id": "88ea0533",
   "metadata": {},
   "source": [
    "Creo un array NumPy 2D (4x4) pieno di numeri casuali float tra 0.0 e 1.0, distribuiti uniformemente.\n",
    "\n",
    "* Forma: (4, 4) → 4 righe, 4 colonne\n",
    "* Valori: float64, casuali, nell’intervallo `[0.0, 1.0)`\n",
    "* Tipo di distribuzione: uniforme, cioè ogni valore ha la stessa probabilità"
   ]
  },
  {
   "cell_type": "code",
   "execution_count": 122,
   "id": "6655af74",
   "metadata": {
    "scrolled": true
   },
   "outputs": [
    {
     "data": {
      "text/plain": [
       "array([[0.68441043, 0.06182365, 0.39392334, 0.99225413],\n",
       "       [0.69644679, 0.32646614, 0.19851041, 0.9195466 ],\n",
       "       [0.29337282, 0.8803582 , 0.37731579, 0.09103353],\n",
       "       [0.4536224 , 0.42603852, 0.14934979, 0.66936206]])"
      ]
     },
     "execution_count": 122,
     "metadata": {},
     "output_type": "execute_result"
    }
   ],
   "source": [
    "secondo_rand_arr=np.random.rand(4,4)\n",
    "secondo_rand_arr"
   ]
  },
  {
   "cell_type": "markdown",
   "id": "a1946f11",
   "metadata": {},
   "source": [
    "# Funzione Randint\n",
    "Possiamo usare per creare un array di numeri interi casuali. \\\n",
    "Questa funzione accetta tre argomenti:\n",
    "\n",
    "+ Il primo è il valore intero minimo (inclusivo),\n",
    "+ Il secondo è il valore intero massimo (esclusivo),\n",
    "+ Il terzo è il numero di elementi da generare."
   ]
  },
  {
   "cell_type": "code",
   "execution_count": 123,
   "id": "bf6a7347",
   "metadata": {},
   "outputs": [
    {
     "data": {
      "text/plain": [
       "array([93, 71, 94,  2, 88, 46, 68, 10, 46, 20, 46, 96, 40, 86, 39, 71, 78,\n",
       "       75, 59, 62])"
      ]
     },
     "execution_count": 123,
     "metadata": {},
     "output_type": "execute_result"
    }
   ],
   "source": [
    "terzo_rand_arr=np.random.randint(0,100,20)\n",
    "terzo_rand_arr"
   ]
  },
  {
   "cell_type": "markdown",
   "id": "edd74f94",
   "metadata": {},
   "source": [
    "# Esercitazione - array base\n",
    "Crea un array 1D con 6 numeri casuali tra 0 e 1 e stampalo.\n",
    "|<br>\n",
    "|<br>\n",
    "|<br>\n",
    "|<br>\n",
    "|<br>\n",
    "|<br>\n",
    "|<br>\n",
    "|<br>"
   ]
  },
  {
   "cell_type": "code",
   "execution_count": 125,
   "id": "7f1cc1fb",
   "metadata": {},
   "outputs": [
    {
     "name": "stdout",
     "output_type": "stream",
     "text": [
      "Array casuale: [0.45616258 0.52490012 0.60204524 0.27896417 0.88798346 0.55770387]\n"
     ]
    }
   ],
   "source": [
    "import numpy as np\n",
    "\n",
    "arr = np.random.rand(6)\n",
    "print(\"Array casuale:\", arr)"
   ]
  },
  {
   "cell_type": "markdown",
   "id": "dfa662d3",
   "metadata": {},
   "source": [
    "# Esercitazione - massimo e minimo\n",
    "Genera un array 4x4 casuale e trova:\n",
    "\n",
    "* il valore massimo\n",
    "*il valore minimo\n",
    "|<br>\n",
    "|<br>\n",
    "|<br>\n",
    "|<br>\n",
    "|<br>\n",
    "|<br>\n",
    "|<br>\n",
    "|<br>"
   ]
  },
  {
   "cell_type": "code",
   "execution_count": 126,
   "id": "c61bb626",
   "metadata": {},
   "outputs": [
    {
     "name": "stdout",
     "output_type": "stream",
     "text": [
      "Array 4x4:\n",
      "[[0.27609294 0.29356948 0.55098281 0.98338898]\n",
      " [0.26066544 0.58590511 0.34158615 0.81980665]\n",
      " [0.89447516 0.95593303 0.708933   0.68397403]\n",
      " [0.40315775 0.36164249 0.34617263 0.08306437]]\n",
      "Massimo: 0.9833889782695632\n",
      "Minimo: 0.0830643709940635\n"
     ]
    }
   ],
   "source": [
    "import numpy as np\n",
    "\n",
    "array_4x4 = np.random.rand(4, 4)\n",
    "\n",
    "print(\"Array 4x4:\")\n",
    "print(array_4x4)\n",
    "\n",
    "print(\"Massimo:\", np.max(array_4x4))\n",
    "print(\"Minimo:\", np.min(array_4x4))\n"
   ]
  },
  {
   "cell_type": "markdown",
   "id": "fe3ae9e3",
   "metadata": {},
   "source": [
    "# Esercitazioni \n",
    "1. Genera un array 1D di 5 interi casuali tra 1 e 100\n",
    "2. Calcola la media e quanti valori sono ≥ 50\n",
    "|<br>\n",
    "|<br>\n",
    "|<br>\n",
    "|<br>\n",
    "|<br>\n",
    "|<br>\n",
    "|<br>\n",
    "|<br>"
   ]
  },
  {
   "cell_type": "code",
   "execution_count": 141,
   "id": "6e36d768",
   "metadata": {},
   "outputs": [
    {
     "name": "stdout",
     "output_type": "stream",
     "text": [
      "Array: [ 7 84 33 22 56]\n",
      "Media: 40.4\n",
      "≥ 50: 2\n"
     ]
    }
   ],
   "source": [
    "import numpy as np\n",
    "\n",
    "arr = np.random.randint(1, 101, size=5)\n",
    "print(\"Array:\", arr)\n",
    "\n",
    "print(\"Media:\", arr.mean())\n",
    "print(\"≥ 50:\", np.count_nonzero(arr >= 50))\n"
   ]
  },
  {
   "cell_type": "markdown",
   "id": "52a98b1a",
   "metadata": {},
   "source": [
    "# Funzione fill e full. \n",
    "La **funzione `fill`** viene usata per riempire un array già esistente con un valore specifico. \\\n",
    "La **funzione `full`** può essere utilizzata per creare direttamente array unidimensionali o bidimensionali con un valore specifico. \n",
    "\n",
    "1. Per utilizzare la funzione fill, dobbiamo prima creare un array vuoto.\n",
    "2. Usiamo la funzione empty, che crea un array con elementi non inizializzati.\n",
    "3. `.empty()` non inizializza i valori: `np.empty(10, dtype=int)` crea un array senza inizializzare i valori, quindi:\n",
    "* la memoria viene riservata\n",
    "* ma i contenuti sono casuali/spazzatura (numeri residui già presenti in RAM)\n",
    "* può contenere numeri strani o casuali"
   ]
  },
  {
   "cell_type": "code",
   "execution_count": 136,
   "id": "e7890607",
   "metadata": {},
   "outputs": [
    {
     "data": {
      "text/plain": [
       "array([0, 0, 0, 0, 0, 0, 0, 0, 0, 0])"
      ]
     },
     "execution_count": 136,
     "metadata": {},
     "output_type": "execute_result"
    }
   ],
   "source": [
    "primo_full_array=np.empty(10, dtype=int)\n",
    "primo_full_array"
   ]
  },
  {
   "cell_type": "code",
   "execution_count": null,
   "id": "96317555",
   "metadata": {},
   "outputs": [],
   "source": []
  },
  {
   "cell_type": "code",
   "execution_count": 137,
   "id": "b8cc4c24",
   "metadata": {},
   "outputs": [
    {
     "data": {
      "text/plain": [
       "array([0., 0., 0., 0., 0., 0., 0., 0., 0., 0.])"
      ]
     },
     "execution_count": 137,
     "metadata": {},
     "output_type": "execute_result"
    }
   ],
   "source": [
    "primo_full_array=np.empty(10)\n",
    "primo_full_array"
   ]
  },
  {
   "cell_type": "code",
   "execution_count": 138,
   "id": "30187593",
   "metadata": {},
   "outputs": [
    {
     "data": {
      "text/plain": [
       "array([9, 9, 9, 9, 9, 9, 9, 9, 9, 9])"
      ]
     },
     "execution_count": 138,
     "metadata": {},
     "output_type": "execute_result"
    }
   ],
   "source": [
    "primo_full_array=np.empty(10, dtype=int)\n",
    "primo_full_array.fill(9)\n",
    "primo_full_array"
   ]
  },
  {
   "cell_type": "code",
   "execution_count": 139,
   "id": "e7196703",
   "metadata": {},
   "outputs": [
    {
     "data": {
      "text/plain": [
       "array([10, 10, 10, 10, 10])"
      ]
     },
     "execution_count": 139,
     "metadata": {},
     "output_type": "execute_result"
    }
   ],
   "source": [
    "primo_full_array=np.full(5,10)\n",
    "primo_full_array"
   ]
  },
  {
   "cell_type": "code",
   "execution_count": 140,
   "id": "27e9f67d",
   "metadata": {},
   "outputs": [
    {
     "data": {
      "text/plain": [
       "array([[8, 8, 8, 8, 8],\n",
       "       [8, 8, 8, 8, 8],\n",
       "       [8, 8, 8, 8, 8],\n",
       "       [8, 8, 8, 8, 8]])"
      ]
     },
     "execution_count": 140,
     "metadata": {},
     "output_type": "execute_result"
    }
   ],
   "source": [
    "secondo_full_array=np.full((4,5),8)\n",
    "secondo_full_array"
   ]
  },
  {
   "cell_type": "markdown",
   "id": "dd499020",
   "metadata": {},
   "source": [
    "# Aggiungere, eliminare e ordinare elementi di un array. \n",
    "Per aggiungere elementi a un array, possiamo usare due funzioni: \n",
    "+ La funzione `insert` ci consente di specificare l'indice in cui vogliamo aggiungere un elemento.\n",
    "+ La funzione `append` aggiunge il valore alla fine dell'array.\n"
   ]
  },
  {
   "cell_type": "markdown",
   "id": "b1ac91a1",
   "metadata": {},
   "source": [
    "## Funzione `insert`\n",
    "`np.insert()` restituisce un nuovo array con uno o più valori inseriti in una posizione specifica.\n",
    "`np.insert(array, posizione, valore)`\n",
    "\n",
    "- `array`: l’array di partenza\n",
    "- `posizione`: indice dove inserire\n",
    "- `valore`: elemento o lista di elementi da inserire\n",
    "\n",
    "`np.insert()` NON modifica l’array originale: crea un nuovo array con l’inserimento.\n"
   ]
  },
  {
   "cell_type": "code",
   "execution_count": 14,
   "id": "c8b432a9",
   "metadata": {},
   "outputs": [
    {
     "data": {
      "text/plain": [
       "array([1, 2, 3, 5])"
      ]
     },
     "execution_count": 14,
     "metadata": {},
     "output_type": "execute_result"
    }
   ],
   "source": [
    "import numpy as np\n",
    "primo_array = np.array([1,2,3,5])\n",
    "primo_array"
   ]
  },
  {
   "cell_type": "code",
   "execution_count": 15,
   "id": "a9e06c7b",
   "metadata": {
    "scrolled": true
   },
   "outputs": [
    {
     "data": {
      "text/plain": [
       "array([1, 2, 3, 4, 5])"
      ]
     },
     "execution_count": 15,
     "metadata": {},
     "output_type": "execute_result"
    }
   ],
   "source": [
    "nuovo_primo_array=np.insert(primo_array,3,4)\n",
    "nuovo_primo_array"
   ]
  },
  {
   "cell_type": "code",
   "execution_count": null,
   "id": "87f0c709",
   "metadata": {},
   "outputs": [],
   "source": []
  },
  {
   "cell_type": "code",
   "execution_count": 16,
   "id": "235155ec",
   "metadata": {},
   "outputs": [
    {
     "name": "stdout",
     "output_type": "stream",
     "text": [
      "Originale: [10 20 30 40]\n",
      "Modificato: [10 20 99 30 40]\n"
     ]
    }
   ],
   "source": [
    "import numpy as np\n",
    "\n",
    "a = np.array([10, 20, 30, 40])\n",
    "\n",
    "nuovo = np.insert(a, 2, 99)  # inserisce 99 tra 20 e 30\n",
    "\n",
    "print(\"Originale:\", a)\n",
    "print(\"Modificato:\", nuovo)\n"
   ]
  },
  {
   "cell_type": "markdown",
   "id": "ed593830",
   "metadata": {},
   "source": [
    "# Esercizio\n",
    "* Crea un array `[1, 2, 3, 4, 5]`\n",
    "* Inserisci il numero 100 in posizione 0 (inizio)\n",
    "* Inserisci il numero 999 alla fine\n",
    "* Stampa il nuovo array\n",
    "|<br>\n",
    "|<br>\n",
    "|<br>\n",
    "|<br>\n",
    "|<br>\n",
    "|<br>\n",
    "|<br>\n",
    "|<br>"
   ]
  },
  {
   "cell_type": "code",
   "execution_count": 149,
   "id": "cb2b50ef",
   "metadata": {},
   "outputs": [
    {
     "name": "stdout",
     "output_type": "stream",
     "text": [
      "Array finale: [100   1   2   3   4   5 999]\n"
     ]
    }
   ],
   "source": [
    "import numpy as np\n",
    "\n",
    "a = np.array([1, 2, 3, 4, 5])\n",
    "\n",
    "a_inizio = np.insert(a, 0, 100)\n",
    "a_fine = np.insert(a_inizio, len(a_inizio), 999)\n",
    "\n",
    "print(\"Array finale:\", a_fine)\n"
   ]
  },
  {
   "cell_type": "markdown",
   "id": "97a35890",
   "metadata": {},
   "source": [
    "## Funzione `append`\n",
    "`np.append()` aggiunge uno o più valori alla fine di un array, restituendo un nuovo array con gli elementi aggiunti.\n",
    "`np.append(array, valori)`\n",
    "\n",
    "* `array`: l’array originale\n",
    "* `valori`: singolo valore o lista/array di valori da aggiungere alla fine\n",
    "\n",
    "Come `insert()`, anche `append()` non modifica l'array originale: restituisce un nuovo array."
   ]
  },
  {
   "cell_type": "code",
   "execution_count": 151,
   "id": "5cb6ba6b",
   "metadata": {
    "scrolled": true
   },
   "outputs": [
    {
     "data": {
      "text/plain": [
       "array([1, 2, 3, 4])"
      ]
     },
     "execution_count": 151,
     "metadata": {},
     "output_type": "execute_result"
    }
   ],
   "source": [
    "secondo_array=np.array([1,2,3,4])\n",
    "secondo_array"
   ]
  },
  {
   "cell_type": "code",
   "execution_count": 152,
   "id": "16a8d90c",
   "metadata": {
    "scrolled": true
   },
   "outputs": [
    {
     "data": {
      "text/plain": [
       "array([1, 2, 3, 4, 5])"
      ]
     },
     "execution_count": 152,
     "metadata": {},
     "output_type": "execute_result"
    }
   ],
   "source": [
    "nuovo_secondo_array=np.append(secondo_array, 5)\n",
    "nuovo_secondo_array"
   ]
  },
  {
   "cell_type": "code",
   "execution_count": 153,
   "id": "c49895dc",
   "metadata": {},
   "outputs": [
    {
     "name": "stdout",
     "output_type": "stream",
     "text": [
      "Originale: [1 2 3]\n",
      "Dopo append: [1 2 3 4]\n"
     ]
    }
   ],
   "source": [
    "import numpy as np\n",
    "\n",
    "a = np.array([1, 2, 3])\n",
    "nuovo = np.append(a, 4)\n",
    "\n",
    "print(\"Originale:\", a)\n",
    "print(\"Dopo append:\", nuovo)"
   ]
  },
  {
   "cell_type": "markdown",
   "id": "269d81af",
   "metadata": {},
   "source": [
    "# Esercitazione\n",
    "1. Crea un array con `[10, 20, 30]`\n",
    "2. Aggiungi 40 alla fine\n",
    "3. Aggiungi anche 50 e 60\n",
    "4. Stampa l’array finale\n",
    "|<br>\n",
    "|<br>\n",
    "|<br>\n",
    "|<br>\n",
    "|<br>\n",
    "|<br>\n",
    "|<br>\n",
    "|<br>"
   ]
  },
  {
   "cell_type": "code",
   "execution_count": 154,
   "id": "ba4797cc",
   "metadata": {},
   "outputs": [
    {
     "name": "stdout",
     "output_type": "stream",
     "text": [
      "Array finale: [10 20 30 40 50 60]\n"
     ]
    }
   ],
   "source": [
    "import numpy as np\n",
    "\n",
    "a = np.array([10, 20, 30])\n",
    "\n",
    "a = np.append(a, 40)\n",
    "a = np.append(a, [50, 60])\n",
    "\n",
    "print(\"Array finale:\", a)\n"
   ]
  },
  {
   "cell_type": "markdown",
   "id": "f6ddc6e0",
   "metadata": {},
   "source": [
    "# Funzione `delete`\n",
    "`np.delete()` restituisce un nuovo array con uno o più elementi eliminati.\n",
    "`np.delete(array, indice)`\n",
    "\n",
    "* `array`: l’array di partenza;\n",
    "* `indice`: l'indice (o gli indici) dell'elemento da eliminare.\n",
    "* Come `insert()` e `append()`, anche `delete()` non modifica l’array originale.\n",
    "\n",
    "Possiamo anche eliminare:\n",
    "* più indici: `np.delete(a, [1, 3])`\n",
    "* righe o colonne in array 2D, specificando `axis=0` (righe) o `axis=1` (colonne)"
   ]
  },
  {
   "cell_type": "code",
   "execution_count": 155,
   "id": "1e5fb186",
   "metadata": {},
   "outputs": [
    {
     "data": {
      "text/plain": [
       "array([1, 2, 3, 4, 5])"
      ]
     },
     "execution_count": 155,
     "metadata": {},
     "output_type": "execute_result"
    }
   ],
   "source": [
    "terzo_array=np.array([1,2,3,4,5])\n",
    "terzo_array"
   ]
  },
  {
   "cell_type": "code",
   "execution_count": 156,
   "id": "7c2297c5",
   "metadata": {},
   "outputs": [
    {
     "data": {
      "text/plain": [
       "array([1, 2, 4, 5])"
      ]
     },
     "execution_count": 156,
     "metadata": {},
     "output_type": "execute_result"
    }
   ],
   "source": [
    "del_terzo_array=np.delete(terzo_array,2)\n",
    "del_terzo_array"
   ]
  },
  {
   "cell_type": "code",
   "execution_count": 157,
   "id": "40585788",
   "metadata": {},
   "outputs": [
    {
     "name": "stdout",
     "output_type": "stream",
     "text": [
      "Originale: [10 20 30 40 50]\n",
      "Senza 30: [10 20 40 50]\n"
     ]
    }
   ],
   "source": [
    "import numpy as np\n",
    "\n",
    "a = np.array([10, 20, 30, 40, 50])\n",
    "\n",
    "b = np.delete(a, 2)  # elimina il valore con indice 2 (cioè 30)\n",
    "\n",
    "print(\"Originale:\", a)\n",
    "print(\"Senza 30:\", b)"
   ]
  },
  {
   "cell_type": "markdown",
   "id": "d4c844d2",
   "metadata": {},
   "source": [
    "## Eliminare righe o colonne in array 2D\n",
    "`np.delete(array, indici, axis)`\n",
    "* `axis=0` → elimina righe\n",
    "* `axis=1` → elimina colonne\n"
   ]
  },
  {
   "cell_type": "code",
   "execution_count": 159,
   "id": "47b963cc",
   "metadata": {},
   "outputs": [],
   "source": [
    "import numpy as np\n",
    "\n",
    "matrice = np.array([\n",
    "    [1, 2, 3],\n",
    "    [4, 5, 6],\n",
    "    [7, 8, 9]\n",
    "])\n"
   ]
  },
  {
   "cell_type": "code",
   "execution_count": 160,
   "id": "10bc719e",
   "metadata": {},
   "outputs": [
    {
     "name": "stdout",
     "output_type": "stream",
     "text": [
      "Senza seconda riga:\n",
      "[[1 2 3]\n",
      " [7 8 9]]\n"
     ]
    }
   ],
   "source": [
    "matrice_senza_riga = np.delete(matrice, 1, axis=0)\n",
    "print(\"Senza seconda riga:\")\n",
    "print(matrice_senza_riga)\n"
   ]
  },
  {
   "cell_type": "code",
   "execution_count": 161,
   "id": "7d583aed",
   "metadata": {},
   "outputs": [
    {
     "name": "stdout",
     "output_type": "stream",
     "text": [
      "Senza prima colonna:\n",
      "[[2 3]\n",
      " [5 6]\n",
      " [8 9]]\n"
     ]
    }
   ],
   "source": [
    "matrice_senza_colonna = np.delete(matrice, 0, axis=1)\n",
    "print(\"Senza prima colonna:\")\n",
    "print(matrice_senza_colonna)"
   ]
  },
  {
   "cell_type": "markdown",
   "id": "633354da",
   "metadata": {},
   "source": [
    "# Esercitazione - 1\n",
    "1. Crea un array `[5, 10, 15, 20, 25, 30]`\n",
    "2. Elimina:\n",
    "* l’elemento con indice 0\n",
    "* poi l’elemento con indice 3 (contando dopo la prima rimozione!)\n",
    "3. Stampa il risultato finale\n",
    "|<br>\n",
    "|<br>\n",
    "|<br>\n",
    "|<br>\n",
    "|<br>"
   ]
  },
  {
   "cell_type": "code",
   "execution_count": 162,
   "id": "bdc49861",
   "metadata": {},
   "outputs": [
    {
     "name": "stdout",
     "output_type": "stream",
     "text": [
      "Array finale: [10 15 20 30]\n"
     ]
    }
   ],
   "source": [
    "import numpy as np\n",
    "\n",
    "a = np.array([5, 10, 15, 20, 25, 30])\n",
    "\n",
    "# Elimina primo elemento (indice 0)\n",
    "a = np.delete(a, 0)  # → [10 15 20 25 30]\n",
    "\n",
    "# Ora elimina l'elemento in posizione 3 (cioè 25)\n",
    "a = np.delete(a, 3)\n",
    "\n",
    "print(\"Array finale:\", a)\n"
   ]
  },
  {
   "cell_type": "markdown",
   "id": "ee712f50",
   "metadata": {},
   "source": [
    "# Esercitazione - 2\n",
    "1. Crea una matrice 4x4 con numeri da 1 a 16 (usa `np.arange().reshape()`)\n",
    "2. Elimina:\n",
    "* la terza riga\n",
    "* la seconda colonna\n",
    "3. Stampa il risultato finale\n",
    "\n",
    "|<br>\n",
    "|<br>\n",
    "|<br>\n",
    "|<br>\n",
    "|<br>\n",
    "|<br>"
   ]
  },
  {
   "cell_type": "code",
   "execution_count": 163,
   "id": "e2748e36",
   "metadata": {},
   "outputs": [
    {
     "name": "stdout",
     "output_type": "stream",
     "text": [
      "Matrice originale:\n",
      "[[ 1  2  3  4]\n",
      " [ 5  6  7  8]\n",
      " [ 9 10 11 12]\n",
      " [13 14 15 16]]\n",
      "\n",
      "Senza la terza riga:\n",
      "[[ 1  2  3  4]\n",
      " [ 5  6  7  8]\n",
      " [13 14 15 16]]\n",
      "\n",
      "Senza la seconda colonna:\n",
      "[[ 1  3  4]\n",
      " [ 5  7  8]\n",
      " [13 15 16]]\n"
     ]
    }
   ],
   "source": [
    "import numpy as np\n",
    "\n",
    "# 1. Crea la matrice 4x4\n",
    "matrice = np.arange(1, 17).reshape(4, 4)\n",
    "print(\"Matrice originale:\")\n",
    "print(matrice)\n",
    "\n",
    "# 2. Elimina la terza riga (indice 2)\n",
    "matrice_senza_riga = np.delete(matrice, 2, axis=0)\n",
    "print(\"\\nSenza la terza riga:\")\n",
    "print(matrice_senza_riga)\n",
    "\n",
    "# 3. Elimina la seconda colonna (indice 1)\n",
    "matrice_finale = np.delete(matrice_senza_riga, 1, axis=1)\n",
    "print(\"\\nSenza la seconda colonna:\")\n",
    "print(matrice_finale)\n"
   ]
  },
  {
   "cell_type": "code",
   "execution_count": null,
   "id": "e561226d",
   "metadata": {},
   "outputs": [],
   "source": []
  },
  {
   "cell_type": "markdown",
   "id": "67830b63",
   "metadata": {},
   "source": [
    "# Funzione `sort`\n",
    "`np.sort()` restituisce un nuovo array ordinato con gli elementi in ordine crescente.\n",
    "\n",
    "Non modifica l’array originale."
   ]
  },
  {
   "cell_type": "markdown",
   "id": "3f13a36a",
   "metadata": {},
   "source": [
    "## Esempio array 1D"
   ]
  },
  {
   "cell_type": "code",
   "execution_count": 170,
   "id": "01df2c79",
   "metadata": {},
   "outputs": [
    {
     "name": "stdout",
     "output_type": "stream",
     "text": [
      "Originale: [5 2 9 1 7]\n",
      "Ordinato: [1 2 5 7 9]\n"
     ]
    }
   ],
   "source": [
    "import numpy as np\n",
    "\n",
    "a = np.array([5, 2, 9, 1, 7])\n",
    "ordinato = np.sort(a)\n",
    "\n",
    "print(\"Originale:\", a)\n",
    "print(\"Ordinato:\", ordinato)"
   ]
  },
  {
   "cell_type": "markdown",
   "id": "bad7366b",
   "metadata": {},
   "source": [
    "## Esempio array 2D\n",
    "Possiamo ordinare:\n",
    "* per riga → `axis=1`\n",
    "* per colonna → `axis=0`"
   ]
  },
  {
   "cell_type": "code",
   "execution_count": 173,
   "id": "20c3b46f",
   "metadata": {},
   "outputs": [
    {
     "name": "stdout",
     "output_type": "stream",
     "text": [
      "[[1 2 3]\n",
      " [4 6 9]]\n",
      "[[3 1 2]\n",
      " [9 6 4]]\n"
     ]
    }
   ],
   "source": [
    "matrice = np.array([[3, 1, 2], [9, 6, 4]])\n",
    "\n",
    "# Ordina ogni riga\n",
    "print(np.sort(matrice, axis=1))\n",
    "\n",
    "# Ordina ogni colonna\n",
    "print(np.sort(matrice, axis=0))\n"
   ]
  },
  {
   "cell_type": "code",
   "execution_count": 164,
   "id": "23b52bc6",
   "metadata": {},
   "outputs": [
    {
     "data": {
      "text/plain": [
       "array([13,  1, 18, 14,  9,  3,  1,  9,  8,  1,  4,  9,  1,  1, 10, 15,  2,\n",
       "        3,  1, 13])"
      ]
     },
     "execution_count": 164,
     "metadata": {},
     "output_type": "execute_result"
    }
   ],
   "source": [
    "numeri_interi_array=np.random.randint(0,20,20)\n",
    "numeri_interi_array\n",
    "#abbiamo creato un array monodimensionale"
   ]
  },
  {
   "cell_type": "code",
   "execution_count": 165,
   "id": "c168e19a",
   "metadata": {},
   "outputs": [
    {
     "name": "stdout",
     "output_type": "stream",
     "text": [
      "[ 1  1  1  1  1  1  2  3  3  4  8  9  9  9 10 13 13 14 15 18]\n"
     ]
    }
   ],
   "source": [
    "print(np.sort(numeri_interi_array))"
   ]
  },
  {
   "cell_type": "code",
   "execution_count": 166,
   "id": "1d24c012",
   "metadata": {},
   "outputs": [
    {
     "data": {
      "text/plain": [
       "array([[3, 2, 5, 7, 4],\n",
       "       [5, 0, 8, 3, 1]])"
      ]
     },
     "execution_count": 166,
     "metadata": {},
     "output_type": "execute_result"
    }
   ],
   "source": [
    "numeri_interi_2dim_array=np.array([[3,2,5,7,4], [5,0,8,3,1]])\n",
    "numeri_interi_2dim_array\n",
    "#abbiamo creato un array bidimensionale che contiene due array monodimensionali"
   ]
  },
  {
   "cell_type": "code",
   "execution_count": 167,
   "id": "00fa7d79",
   "metadata": {},
   "outputs": [
    {
     "name": "stdout",
     "output_type": "stream",
     "text": [
      "[[2 3 4 5 7]\n",
      " [0 1 3 5 8]]\n"
     ]
    }
   ],
   "source": [
    "print(np.sort(numeri_interi_2dim_array))"
   ]
  },
  {
   "cell_type": "code",
   "execution_count": 168,
   "id": "4142b94a",
   "metadata": {},
   "outputs": [
    {
     "data": {
      "text/plain": [
       "array(['rosso', 'verde', 'giallo', 'arancione', 'marrone', 'blu'],\n",
       "      dtype='<U9')"
      ]
     },
     "execution_count": 168,
     "metadata": {},
     "output_type": "execute_result"
    }
   ],
   "source": [
    "colori=np.array(['rosso', 'verde', 'giallo', 'arancione', 'marrone', 'blu'])\n",
    "colori"
   ]
  },
  {
   "cell_type": "code",
   "execution_count": 169,
   "id": "a348ca0c",
   "metadata": {
    "scrolled": true
   },
   "outputs": [
    {
     "name": "stdout",
     "output_type": "stream",
     "text": [
      "['arancione' 'blu' 'giallo' 'marrone' 'rosso' 'verde']\n"
     ]
    }
   ],
   "source": [
    "print(np.sort(colori))\n",
    "#gli elementi sono ordinati in ordine alfabetico"
   ]
  },
  {
   "cell_type": "markdown",
   "id": "adede4d1",
   "metadata": {},
   "source": [
    "# Esercitazione \n",
    "1. Crea un array NumPy con `[10, 4, 8, 2, 6]`\n",
    "2. Ordinalo in ordine crescente\n",
    "3. Stampa il valore minimo e massimo dopo l’ordinamento\n",
    "\n",
    "|<br>\n",
    "|<br>\n",
    "|<br>\n",
    "|<br>\n",
    "|<br>"
   ]
  },
  {
   "cell_type": "code",
   "execution_count": 174,
   "id": "34610e5d",
   "metadata": {},
   "outputs": [
    {
     "name": "stdout",
     "output_type": "stream",
     "text": [
      "Array ordinato: [ 2  4  6  8 10]\n",
      "Minimo: 2\n",
      "Massimo: 10\n"
     ]
    }
   ],
   "source": [
    "import numpy as np\n",
    "\n",
    "a = np.array([10, 4, 8, 2, 6])\n",
    "ordinato = np.sort(a)\n",
    "\n",
    "print(\"Array ordinato:\", ordinato)\n",
    "print(\"Minimo:\", ordinato[0])\n",
    "print(\"Massimo:\", ordinato[-1])\n"
   ]
  },
  {
   "cell_type": "code",
   "execution_count": null,
   "id": "65f4209c",
   "metadata": {},
   "outputs": [],
   "source": []
  },
  {
   "cell_type": "markdown",
   "id": "06744f12",
   "metadata": {},
   "source": [
    "# Copie\n",
    "Le copie di array in NumPy, un argomento molto importante per evitare modifiche involontarie agli array originali.\n",
    "\n",
    "1. Copia reale - `np.copy()`o`.copy()`\\\n",
    "Crea un nuovo array indipendente. Modificare `b` non cambia `a`."
   ]
  },
  {
   "cell_type": "code",
   "execution_count": 17,
   "id": "7a3d3e2f",
   "metadata": {},
   "outputs": [
    {
     "name": "stdout",
     "output_type": "stream",
     "text": [
      "a: [1 2 3]\n",
      "b: [99  2  3]\n"
     ]
    }
   ],
   "source": [
    "import numpy as np\n",
    "\n",
    "a = np.array([1, 2, 3])\n",
    "b = a.copy()\n",
    "\n",
    "b[0] = 99\n",
    "\n",
    "print(\"a:\", a)  # → [1 2 3]\n",
    "print(\"b:\", b)  # → [99 2 3]\n"
   ]
  },
  {
   "cell_type": "markdown",
   "id": "c76580f6",
   "metadata": {},
   "source": [
    "2. Copia per riferimento (default) - assegnazione diretta \\\n",
    "`a` e `b` puntano allo stesso array: se cambio uno, cambio l’altro!"
   ]
  },
  {
   "cell_type": "code",
   "execution_count": 175,
   "id": "6a72c469",
   "metadata": {},
   "outputs": [
    {
     "name": "stdout",
     "output_type": "stream",
     "text": [
      "a: [99  2  3]\n",
      "b: [99  2  3]\n"
     ]
    }
   ],
   "source": [
    "a = np.array([1, 2, 3])\n",
    "b = a  # <-- non è una vera copia!\n",
    "\n",
    "b[0] = 99\n",
    "\n",
    "print(\"a:\", a)  # → [99 2 3]\n",
    "print(\"b:\", b)  # → [99 2 3]\n"
   ]
  },
  {
   "cell_type": "markdown",
   "id": "09ed75fb",
   "metadata": {},
   "source": [
    "# Esercizio \n",
    "1. Crea un array `[10, 20, 30]`\n",
    "2. Crea una copia vera\n",
    "3. Cambia un elemento della copia\n",
    "4. Verifica che l’originale non sia cambiato\n",
    "\n",
    "|<br>\n",
    "|<br>\n",
    "|<br>\n",
    "|<br>\n",
    "|<br>"
   ]
  },
  {
   "cell_type": "code",
   "execution_count": 185,
   "id": "fd71f6f9",
   "metadata": {},
   "outputs": [
    {
     "name": "stdout",
     "output_type": "stream",
     "text": [
      "Originale a: [10 20 30]\n",
      "Copia modificata b: [10 99 30]\n"
     ]
    }
   ],
   "source": [
    "import numpy as np\n",
    "\n",
    "a = np.array([10, 20, 30])\n",
    "b = a.copy()  # copia vera\n",
    "\n",
    "b[1] = 99\n",
    "\n",
    "print(\"Originale a:\", a)\n",
    "print(\"Copia modificata b:\", b)\n"
   ]
  },
  {
   "cell_type": "code",
   "execution_count": null,
   "id": "30bad0e3",
   "metadata": {},
   "outputs": [],
   "source": []
  },
  {
   "cell_type": "code",
   "execution_count": 179,
   "id": "092023f8",
   "metadata": {},
   "outputs": [
    {
     "data": {
      "text/plain": [
       "array([[1, 2, 0, 8],\n",
       "       [3, 0, 0, 3],\n",
       "       [1, 6, 2, 0]])"
      ]
     },
     "execution_count": 179,
     "metadata": {},
     "output_type": "execute_result"
    }
   ],
   "source": [
    "m=np.array([[1,2,0,8],[3,0,0,3],[1,6,2,0]])\n",
    "m"
   ]
  },
  {
   "cell_type": "code",
   "execution_count": 180,
   "id": "3dd92069",
   "metadata": {},
   "outputs": [
    {
     "data": {
      "text/plain": [
       "array([[1, 2, 0, 8],\n",
       "       [3, 0, 0, 3],\n",
       "       [1, 6, 2, 0]])"
      ]
     },
     "execution_count": 180,
     "metadata": {},
     "output_type": "execute_result"
    }
   ],
   "source": [
    "m1=m #copia di riferimento\n",
    "m1"
   ]
  },
  {
   "cell_type": "code",
   "execution_count": 181,
   "id": "653c115b",
   "metadata": {
    "scrolled": true
   },
   "outputs": [
    {
     "data": {
      "text/plain": [
       "array([[ 1,  2,  0,  8],\n",
       "       [ 3,  0, 99,  3],\n",
       "       [ 1,  6,  2,  0]])"
      ]
     },
     "execution_count": 181,
     "metadata": {},
     "output_type": "execute_result"
    }
   ],
   "source": [
    "m1[1,2]=99\n",
    "m1"
   ]
  },
  {
   "cell_type": "code",
   "execution_count": 182,
   "id": "02d0636e",
   "metadata": {},
   "outputs": [
    {
     "data": {
      "text/plain": [
       "array([[ 1,  2,  0,  8],\n",
       "       [ 3,  0, 99,  3],\n",
       "       [ 1,  6,  2,  0]])"
      ]
     },
     "execution_count": 182,
     "metadata": {},
     "output_type": "execute_result"
    }
   ],
   "source": [
    "m"
   ]
  },
  {
   "cell_type": "markdown",
   "id": "1ef71303",
   "metadata": {},
   "source": [
    "* Modificare un elemento m1 è esattamente la stessa cosa che modificare un elemento di m e viceversa. \\\n",
    "* L'assegnamento non copia l'oggetto e neppure i suoi dati: se dopo m1=m di domandiamo m is m1, vedremo che la risposta è True, infatti m ed m1 sono due nomi che fanno riferimento allo stesso oggetto. \n"
   ]
  },
  {
   "cell_type": "code",
   "execution_count": 183,
   "id": "6e23f8b1",
   "metadata": {
    "scrolled": true
   },
   "outputs": [
    {
     "data": {
      "text/plain": [
       "array([[ True,  True,  True,  True],\n",
       "       [ True,  True,  True,  True],\n",
       "       [ True,  True,  True,  True]])"
      ]
     },
     "execution_count": 183,
     "metadata": {},
     "output_type": "execute_result"
    }
   ],
   "source": [
    "m==m1"
   ]
  },
  {
   "cell_type": "markdown",
   "id": "1ec440d7",
   "metadata": {},
   "source": [
    "# Funzione `id()`\n",
    "La funzione `id(obj)` restituisce l’identificatore unico (indirizzo di memoria) di un oggetto.\n",
    "\n",
    "Verifica se ID sono uguali ⇒ m e m1 puntano allo stesso array"
   ]
  },
  {
   "cell_type": "code",
   "execution_count": 186,
   "id": "9f9cf25a",
   "metadata": {
    "scrolled": true
   },
   "outputs": [
    {
     "name": "stdout",
     "output_type": "stream",
     "text": [
      "id m 140242450295856\n",
      "id m1 140242450295856\n"
     ]
    }
   ],
   "source": [
    "print('id m', id(m))\n",
    "print('id m1', id(m1))"
   ]
  },
  {
   "cell_type": "markdown",
   "id": "0fad903f",
   "metadata": {},
   "source": [
    "# Copy e View \n",
    "\n",
    "In Numpy, alcune funzioni restituiscono una copia `copy()`, mentre altre restituiscono una vista `view()`.\n",
    "La differenza tra Copy e View è che Copy è un nuovo array, mentre View è una vista diversa dell'array originale.\n",
    "\n",
    "* Copy è memorizzato fisicamente in un'altra posizione;\n",
    "* View ci fornisce un riferimento con un nome diverso alla stessa posizione in memoria.\n",
    "\n",
    "## `View`\n",
    "Una view è una finestra sull’array originale: non crea una nuova copia dei dati, ma un riferimento a una parte della memoria dell’array originale.\n",
    "\n",
    "* Leggera, veloce, ma modificabile: ogni modifica alla view si riflette sull’array originale."
   ]
  },
  {
   "cell_type": "code",
   "execution_count": 187,
   "id": "518f2979",
   "metadata": {},
   "outputs": [],
   "source": [
    "import numpy as np"
   ]
  },
  {
   "cell_type": "code",
   "execution_count": 188,
   "id": "bd8232f0",
   "metadata": {},
   "outputs": [
    {
     "data": {
      "text/plain": [
       "array([1111, 1212, 1313, 1414, 1515, 1616, 1717, 1818])"
      ]
     },
     "execution_count": 188,
     "metadata": {},
     "output_type": "execute_result"
    }
   ],
   "source": [
    "studenti_id_numero=np.array([1111,1212,1313,1414,1515,1616,1717,1818])\n",
    "studenti_id_numero"
   ]
  },
  {
   "cell_type": "code",
   "execution_count": 189,
   "id": "2d68e7e2",
   "metadata": {},
   "outputs": [
    {
     "name": "stdout",
     "output_type": "stream",
     "text": [
      "id studenti_id_numero  140242450322800\n",
      "studenti_id_numero_reg 140242450322800\n"
     ]
    }
   ],
   "source": [
    "studenti_id_numero_reg=studenti_id_numero\n",
    "print('id studenti_id_numero ', id(studenti_id_numero))\n",
    "print('studenti_id_numero_reg', id(studenti_id_numero_reg))"
   ]
  },
  {
   "cell_type": "markdown",
   "id": "d6d7abab",
   "metadata": {},
   "source": [
    "* Abbiamo stampato gli id di entrambi gli array e vediamo che i loro id sono gli stessi.\n",
    "* Aggiorniamo il secondo array con un nuovo valore."
   ]
  },
  {
   "cell_type": "code",
   "execution_count": 190,
   "id": "1c6a050b",
   "metadata": {},
   "outputs": [
    {
     "name": "stdout",
     "output_type": "stream",
     "text": [
      "[1111 2222 1313 1414 1515 1616 1717 1818]\n",
      "[1111 2222 1313 1414 1515 1616 1717 1818]\n"
     ]
    }
   ],
   "source": [
    "studenti_id_numero_reg[1]=2222\n",
    "print(studenti_id_numero)\n",
    "print(studenti_id_numero_reg)"
   ]
  },
  {
   "cell_type": "markdown",
   "id": "3cf9db8c",
   "metadata": {},
   "source": [
    "* Entrambi gli array sono stati modificati, per cui le assegnazioni non creano una copia di un oggetto array.  * Qualsiasi modifica apportata si riflette nell'altro array.\n",
    "\n",
    "> Adesso creiamo copia del nostro array e verifichiamone l'uguaglianza. "
   ]
  },
  {
   "cell_type": "code",
   "execution_count": 191,
   "id": "2a53d270",
   "metadata": {},
   "outputs": [
    {
     "name": "stdout",
     "output_type": "stream",
     "text": [
      "[1111 2222 1313 1414 1515 1616 1717 1818]\n"
     ]
    }
   ],
   "source": [
    "studenti_id_numero_copy=studenti_id_numero.copy()\n",
    "print(studenti_id_numero_copy)"
   ]
  },
  {
   "cell_type": "code",
   "execution_count": 46,
   "id": "6740db6d",
   "metadata": {},
   "outputs": [
    {
     "name": "stdout",
     "output_type": "stream",
     "text": [
      "[ True  True  True  True  True  True  True  True]\n"
     ]
    }
   ],
   "source": [
    "print(studenti_id_numero_copy==studenti_id_numero)"
   ]
  },
  {
   "cell_type": "code",
   "execution_count": 193,
   "id": "090c5311",
   "metadata": {},
   "outputs": [
    {
     "name": "stdout",
     "output_type": "stream",
     "text": [
      "id studenti_id_numero 140242450322800\n",
      "studenti_id_numero_copy 140242458348112\n"
     ]
    }
   ],
   "source": [
    "print('id studenti_id_numero', id(studenti_id_numero))\n",
    "print('studenti_id_numero_copy', id(studenti_id_numero_copy))"
   ]
  },
  {
   "cell_type": "markdown",
   "id": "cda8e082",
   "metadata": {},
   "source": [
    "> Abbiamo verificato gli id di entrambi gli array e vediamo che fanno riferimento a posizioni diverse in memoria. "
   ]
  },
  {
   "cell_type": "code",
   "execution_count": 194,
   "id": "af04fa29",
   "metadata": {},
   "outputs": [
    {
     "name": "stdout",
     "output_type": "stream",
     "text": [
      "originale: [1000 2222 1313 1414 1515 1616 1717 1818]\n",
      "copia [1111 2222 1313 1414 1515 1616 1717 1818]\n"
     ]
    }
   ],
   "source": [
    "#modifichiamo l'array originale\n",
    "studenti_id_numero[0]=1000\n",
    "\n",
    "print('originale:', studenti_id_numero)\n",
    "print('copia', studenti_id_numero_copy)\n",
    "\n",
    "#Verifichiamo che l'array originale studendi_id_numero è cambiato \n",
    "#Non c'è alcuna modifica nell'array copia. "
   ]
  },
  {
   "cell_type": "markdown",
   "id": "b506a035",
   "metadata": {},
   "source": [
    "## Perchè accade questo?\n",
    "* Copy crea un array completamente nuovo, e si dice che Copy \"possiede\" i dati. \n",
    "* Se apportiamo modifiche all'array originale, queste **non influenzano la Copy**. \n",
    "* E se apportiamo modifiche alla Copy, queste non influenzano l'array originale. Questo è anche chiamato **\"deep Copy\"**.\n",
    "\n"
   ]
  },
  {
   "cell_type": "code",
   "execution_count": 195,
   "id": "b494baf1",
   "metadata": {},
   "outputs": [],
   "source": [
    "#creiamo una vista del nostro array\n",
    "studenti_id_numero_vista=studenti_id_numero.view()"
   ]
  },
  {
   "cell_type": "code",
   "execution_count": 196,
   "id": "d777ddd9",
   "metadata": {},
   "outputs": [
    {
     "name": "stdout",
     "output_type": "stream",
     "text": [
      "originale: [2000 2222 1313 1414 1515 1616 1717 1818]\n",
      "vista [2000 2222 1313 1414 1515 1616 1717 1818]\n"
     ]
    }
   ],
   "source": [
    "studenti_id_numero_vista[0]=2000\n",
    "\n",
    "print('originale:', studenti_id_numero)\n",
    "print('vista', studenti_id_numero_vista)"
   ]
  },
  {
   "cell_type": "markdown",
   "id": "75816d89",
   "metadata": {},
   "source": [
    "* Entrambi gli array sono stati modificati. \n",
    "* La View non possiede i dati. \n",
    "* Quando apportiamo modifiche all'array originale, queste influenzano la View. \n",
    "* Quando apportiamo modifiche alla View, queste influenzano l'array originale."
   ]
  },
  {
   "cell_type": "markdown",
   "id": "7cc27ef8",
   "metadata": {},
   "source": [
    "# `base`\n",
    "Un altro modo per verificare se un array possiede i propri dati in View e Copy è l'attributo base che ogni array NumPy ha. \\\n",
    "Restituisce None se l'array possiede i dati, poiché l'attributo base si riferisce all'oggetto originale. "
   ]
  },
  {
   "cell_type": "code",
   "execution_count": 51,
   "id": "06e1f503",
   "metadata": {},
   "outputs": [
    {
     "name": "stdout",
     "output_type": "stream",
     "text": [
      "None\n",
      "[2000 2222 1313 1414 1515 1616 1717 1818]\n"
     ]
    }
   ],
   "source": [
    "print(studenti_id_numero_copy.base)\n",
    "print(studenti_id_numero_vista.base)"
   ]
  },
  {
   "cell_type": "markdown",
   "id": "55d54d40",
   "metadata": {},
   "source": [
    "Per l'array copiato abbiamo ottenuto None, mentre per la View è stato restituito l'array originale, quindi non possiede i dati."
   ]
  },
  {
   "cell_type": "markdown",
   "id": "dec6ac3a",
   "metadata": {},
   "source": [
    "# Reshaping Arrays\n",
    "Una delle funzioni più utili per array multidimensionali. \\\n",
    "`Reshaping` significa cambiare il numero di righe e colonne di un array senza modificare i dati.\n",
    "\n",
    "Usi il metodo `.reshape()` per cambiare la forma.\n",
    "`array.reshape(nuova_forma)` \\\n",
    "La nuova forma deve contenere lo stesso numero totale di elementi."
   ]
  },
  {
   "cell_type": "code",
   "execution_count": 204,
   "id": "2aeb8d29",
   "metadata": {},
   "outputs": [
    {
     "name": "stdout",
     "output_type": "stream",
     "text": [
      "Array originale: [1 2 3 4 5 6]\n",
      "Array reshaped:\n",
      "[[1 2 3]\n",
      " [4 5 6]]\n"
     ]
    }
   ],
   "source": [
    "import numpy as np\n",
    "\n",
    "a = np.array([1, 2, 3, 4, 5, 6])\n",
    "b = a.reshape((2, 3))  # 2 righe, 3 colonne\n",
    "\n",
    "print(\"Array originale:\", a)\n",
    "print(\"Array reshaped:\")\n",
    "print(b)"
   ]
  },
  {
   "cell_type": "code",
   "execution_count": 197,
   "id": "82297a7f",
   "metadata": {},
   "outputs": [],
   "source": [
    "import numpy as np"
   ]
  },
  {
   "cell_type": "code",
   "execution_count": 198,
   "id": "7f17a68f",
   "metadata": {},
   "outputs": [
    {
     "data": {
      "text/plain": [
       "array([ 1,  2,  3,  4,  5,  6,  7,  8,  9, 10, 11, 12])"
      ]
     },
     "execution_count": 198,
     "metadata": {},
     "output_type": "execute_result"
    }
   ],
   "source": [
    "primo_array=np.arange(1,13)\n",
    "primo_array"
   ]
  },
  {
   "cell_type": "code",
   "execution_count": 199,
   "id": "ea2de938",
   "metadata": {},
   "outputs": [
    {
     "data": {
      "text/plain": [
       "array([[ 1,  2,  3,  4],\n",
       "       [ 5,  6,  7,  8],\n",
       "       [ 9, 10, 11, 12]])"
      ]
     },
     "execution_count": 199,
     "metadata": {},
     "output_type": "execute_result"
    }
   ],
   "source": [
    "secondo_array=np.reshape(primo_array,(3,4))\n",
    "secondo_array"
   ]
  },
  {
   "cell_type": "code",
   "execution_count": 200,
   "id": "5a2f023f",
   "metadata": {},
   "outputs": [
    {
     "data": {
      "text/plain": [
       "array([[ 1,  2],\n",
       "       [ 3,  4],\n",
       "       [ 5,  6],\n",
       "       [ 7,  8],\n",
       "       [ 9, 10],\n",
       "       [11, 12]])"
      ]
     },
     "execution_count": 200,
     "metadata": {},
     "output_type": "execute_result"
    }
   ],
   "source": [
    "terzo_array=np.reshape(primo_array,(6,2))\n",
    "terzo_array"
   ]
  },
  {
   "cell_type": "code",
   "execution_count": 201,
   "id": "591b342e",
   "metadata": {},
   "outputs": [
    {
     "name": "stdout",
     "output_type": "stream",
     "text": [
      "[[[ 1  2]\n",
      "  [ 3  4]]\n",
      "\n",
      " [[ 5  6]\n",
      "  [ 7  8]]\n",
      "\n",
      " [[ 9 10]\n",
      "  [11 12]]]\n",
      "La dimensione del quinto array è 3\n"
     ]
    }
   ],
   "source": [
    "quinto_array=np.reshape(primo_array,(3,2,2))\n",
    "print(quinto_array)\n",
    "print('La dimensione del quinto array è', quinto_array.ndim)"
   ]
  },
  {
   "cell_type": "code",
   "execution_count": 202,
   "id": "75d7f828",
   "metadata": {},
   "outputs": [
    {
     "data": {
      "text/plain": [
       "array([[1, 2],\n",
       "       [3, 4],\n",
       "       [5, 6]])"
      ]
     },
     "execution_count": 202,
     "metadata": {},
     "output_type": "execute_result"
    }
   ],
   "source": [
    "sesto_array=np.array([[1,2],[3,4],[5,6]])\n",
    "sesto_array"
   ]
  },
  {
   "cell_type": "markdown",
   "id": "254f263e",
   "metadata": {},
   "source": [
    "# Esercitazione\n",
    "1. Crea un array con i numeri da 1 a 12\n",
    "2. Reshape in:\n",
    "* 3 righe × 4 colonne\n",
    "* 2 righe × 6 colonne\n",
    "3. Stampa forma e contenuto\n",
    "\n",
    "|<br>\n",
    "|<br>\n",
    "|<br>\n",
    "|<br>\n",
    "|<br>\n",
    "|<br>"
   ]
  },
  {
   "cell_type": "code",
   "execution_count": 205,
   "id": "da45cd43",
   "metadata": {
    "scrolled": true
   },
   "outputs": [
    {
     "name": "stdout",
     "output_type": "stream",
     "text": [
      "Forma 3x4:\n",
      " [[ 1  2  3  4]\n",
      " [ 5  6  7  8]\n",
      " [ 9 10 11 12]]\n",
      "Forma 2x6:\n",
      " [[ 1  2  3  4  5  6]\n",
      " [ 7  8  9 10 11 12]]\n"
     ]
    }
   ],
   "source": [
    "import numpy as np\n",
    "\n",
    "a = np.arange(1, 13)\n",
    "\n",
    "b = a.reshape((3, 4))\n",
    "c = a.reshape((2, 6))\n",
    "\n",
    "print(\"Forma 3x4:\\n\", b)\n",
    "print(\"Forma 2x6:\\n\", c)\n"
   ]
  },
  {
   "cell_type": "markdown",
   "id": "912d9200",
   "metadata": {},
   "source": [
    " Possiamo usare -1 per lasciare che NumPy calcoli una dimensione automaticamente:"
   ]
  },
  {
   "cell_type": "code",
   "execution_count": 203,
   "id": "33e9b560",
   "metadata": {
    "scrolled": true
   },
   "outputs": [
    {
     "data": {
      "text/plain": [
       "array([1, 2, 3, 4, 5, 6])"
      ]
     },
     "execution_count": 203,
     "metadata": {},
     "output_type": "execute_result"
    }
   ],
   "source": [
    "settimo_array_flat=np.reshape(sesto_array, -1)\n",
    "settimo_array_flat"
   ]
  },
  {
   "cell_type": "markdown",
   "id": "bf684238",
   "metadata": {},
   "source": [
    "# `flatten()`\n",
    "`flatten()` restituisce una copia dell’array appiattito, cioè trasformato in 1D.\n",
    " * L’array risultante è indipendente dall’originale.\n",
    " \n",
    "# `ravel()`\n",
    "`ravel()` restituisce un array appiattito, ma se possibile come view (cioè senza copiare i dati).\n",
    "* Se ravel() restituisce una view, modificare l’array 1D modifica anche quello originale.\n"
   ]
  },
  {
   "cell_type": "code",
   "execution_count": 206,
   "id": "cf3c184f",
   "metadata": {},
   "outputs": [
    {
     "name": "stdout",
     "output_type": "stream",
     "text": [
      "Originale:\n",
      " [[  1 200]\n",
      " [  3   4]]\n",
      "Flatten: [100   2   3   4]\n",
      "Ravel:   [  1 200   3   4]\n"
     ]
    }
   ],
   "source": [
    "import numpy as np\n",
    "\n",
    "a = np.array([[1, 2], [3, 4]])\n",
    "\n",
    "f = a.flatten()\n",
    "r = a.ravel()\n",
    "\n",
    "f[0] = 100\n",
    "r[1] = 200\n",
    "\n",
    "print(\"Originale:\\n\", a)\n",
    "print(\"Flatten:\", f)\n",
    "print(\"Ravel:  \", r)\n"
   ]
  },
  {
   "cell_type": "markdown",
   "id": "01d1ba67",
   "metadata": {},
   "source": [
    "* Modificare f non cambia a, ma modificare r sì (perché r è una view)."
   ]
  },
  {
   "cell_type": "code",
   "execution_count": 207,
   "id": "c87ca77f",
   "metadata": {},
   "outputs": [
    {
     "name": "stdout",
     "output_type": "stream",
     "text": [
      "ottavo array flat: [1 2 3 4 5 6]\n"
     ]
    }
   ],
   "source": [
    "ottavo_array_flat=sesto_array.flatten()\n",
    "print('ottavo array flat:', ottavo_array_flat)"
   ]
  },
  {
   "cell_type": "code",
   "execution_count": 208,
   "id": "855c6024",
   "metadata": {},
   "outputs": [
    {
     "name": "stdout",
     "output_type": "stream",
     "text": [
      "nono arrey flat: [1 2 3 4 5 6]\n"
     ]
    }
   ],
   "source": [
    "nono_array_rav=sesto_array.ravel()\n",
    "print('nono arrey flat:', nono_array_rav)"
   ]
  },
  {
   "cell_type": "code",
   "execution_count": 209,
   "id": "c11a6d4f",
   "metadata": {},
   "outputs": [],
   "source": [
    "ottavo_array_flat[0]=100"
   ]
  },
  {
   "cell_type": "code",
   "execution_count": 210,
   "id": "4ec95873",
   "metadata": {},
   "outputs": [],
   "source": [
    "nono_array_rav[0]=200"
   ]
  },
  {
   "cell_type": "code",
   "execution_count": 211,
   "id": "028b26f5",
   "metadata": {},
   "outputs": [
    {
     "name": "stdout",
     "output_type": "stream",
     "text": [
      "ottavo array flat: [100   2   3   4   5   6]\n",
      "nono arrey flat: [200   2   3   4   5   6]\n",
      "sesto array: [[200   2]\n",
      " [  3   4]\n",
      " [  5   6]]\n"
     ]
    }
   ],
   "source": [
    "print('ottavo array flat:', ottavo_array_flat)\n",
    "print('nono arrey flat:', nono_array_rav)\n",
    "print('sesto array:', sesto_array)"
   ]
  },
  {
   "cell_type": "markdown",
   "id": "73822b04",
   "metadata": {},
   "source": [
    "# Esercitazione \n",
    "1. Crea un array 3×2 con valori da 1 a 6\n",
    "2. Usa sia `flatten()` che `ravel()`\n",
    "3. Modifica il primo elemento di ciascuno\n",
    "4. Stampa l’array originale\n",
    "\n",
    "|<br>\n",
    "|<br>\n",
    "|<br>\n",
    "|<br>\n",
    "|<br>"
   ]
  },
  {
   "cell_type": "code",
   "execution_count": 212,
   "id": "f2329437",
   "metadata": {},
   "outputs": [
    {
     "name": "stdout",
     "output_type": "stream",
     "text": [
      "Array originale:\n",
      "[[  1 200]\n",
      " [  3   4]\n",
      " [  5   6]]\n",
      "\n",
      "Array flatten (copia): [100   2   3   4   5   6]\n",
      "Array ravel (view): [  1 200   3   4   5   6]\n"
     ]
    }
   ],
   "source": [
    "import numpy as np\n",
    "\n",
    "# 1. Crea array 3x2\n",
    "a = np.array([\n",
    "    [1, 2],\n",
    "    [3, 4],\n",
    "    [5, 6]\n",
    "])\n",
    "\n",
    "# 2. Crea flatten (copia) e ravel (view)\n",
    "flat = a.flatten()\n",
    "rav = a.ravel()\n",
    "\n",
    "# 3. Modifica entrambi\n",
    "flat[0] = 100\n",
    "rav[1] = 200\n",
    "\n",
    "# 4. Stampa tutto\n",
    "print(\"Array originale:\")\n",
    "print(a)\n",
    "\n",
    "print(\"\\nArray flatten (copia):\", flat)\n",
    "print(\"Array ravel (view):\", rav)\n"
   ]
  },
  {
   "cell_type": "code",
   "execution_count": null,
   "id": "a839fcc6",
   "metadata": {},
   "outputs": [],
   "source": []
  },
  {
   "cell_type": "markdown",
   "id": "28e6d452",
   "metadata": {},
   "source": [
    "# Indexing e slicing\n",
    "\n",
    "Uno dei maggiori vantaggi di NumPy è la possibilità di manipolare grandi quantità di valori senza dover scrivere cicli inefficienti. \\\n",
    "Per fare ciò, dobbiamo essere in grado di fare riferimento agli elementi degli array in molti modi diversi. \n",
    "\n",
    "# Indicizzazione\n",
    "Non trarremmo vantaggio dall'utilizzo di array multidimensionali se non potessimo accedere agli elementi al loro interno e aggiornarli quando necessario:\n",
    "* Questo si chiama indicizzazione degli array. \n",
    "* L’indicizzazione è il modo in cui accedi agli elementi di un array NumPy usando indici numerici, proprio come con le liste Python — ma molto più potente.\n",
    "* Per indicizzare gli array, utilizziamo parentesi quadre. \n",
    "* Le parentesi quadre contengono l'indice o gli indici degli elementi che vogliamo che NumPy restituisca o assegni, e questa tecnica si chiama sottoscrittura."
   ]
  },
  {
   "cell_type": "code",
   "execution_count": 213,
   "id": "b967c06b",
   "metadata": {},
   "outputs": [],
   "source": [
    "import numpy as np"
   ]
  },
  {
   "cell_type": "code",
   "execution_count": 220,
   "id": "7ce9c575",
   "metadata": {},
   "outputs": [
    {
     "name": "stdout",
     "output_type": "stream",
     "text": [
      "10\n",
      "50\n"
     ]
    }
   ],
   "source": [
    "import numpy as np\n",
    "\n",
    "a = np.array([10, 20, 30, 40, 50])\n",
    "\n",
    "print(a[0])    # → 10 (primo elemento)\n",
    "print(a[-1])   # → 50 (ultimo elemento)"
   ]
  },
  {
   "cell_type": "code",
   "execution_count": 221,
   "id": "e4911d08",
   "metadata": {},
   "outputs": [
    {
     "name": "stdout",
     "output_type": "stream",
     "text": [
      "2\n",
      "6\n"
     ]
    }
   ],
   "source": [
    "b = np.array([\n",
    "    [1, 2, 3],\n",
    "    [4, 5, 6]\n",
    "])\n",
    "\n",
    "print(b[0, 1])  # → 2 (riga 0, colonna 1)\n",
    "print(b[1, 2])  # → 6 (riga 1, colonna 2)"
   ]
  },
  {
   "cell_type": "code",
   "execution_count": 222,
   "id": "e51d22d0",
   "metadata": {},
   "outputs": [
    {
     "name": "stdout",
     "output_type": "stream",
     "text": [
      "6\n"
     ]
    }
   ],
   "source": [
    "c = np.array([\n",
    "    [[1, 2], [3, 4]],\n",
    "    [[5, 6], [7, 8]]\n",
    "])\n",
    "\n",
    "print(c[1, 0, 1])  # → 6 (blocco 1, riga 0, colonna 1)\n"
   ]
  },
  {
   "cell_type": "code",
   "execution_count": null,
   "id": "2257f8ad",
   "metadata": {},
   "outputs": [],
   "source": []
  },
  {
   "cell_type": "code",
   "execution_count": 214,
   "id": "3f8e0b08",
   "metadata": {
    "scrolled": true
   },
   "outputs": [
    {
     "data": {
      "text/plain": [
       "array([[ 0,  1,  2,  3],\n",
       "       [ 4,  5,  6,  7],\n",
       "       [ 8,  9, 10, 11]])"
      ]
     },
     "execution_count": 214,
     "metadata": {},
     "output_type": "execute_result"
    }
   ],
   "source": [
    "duedim_arr=np.reshape(np.arange(12),(3,4))\n",
    "duedim_arr\n",
    "#array bidimensionale con 3 righe e 4 colonne"
   ]
  },
  {
   "cell_type": "code",
   "execution_count": 216,
   "id": "d63f1833",
   "metadata": {},
   "outputs": [
    {
     "data": {
      "text/plain": [
       "5"
      ]
     },
     "execution_count": 216,
     "metadata": {},
     "output_type": "execute_result"
    }
   ],
   "source": [
    "duedim_arr[1,1]\n",
    "#selezioniamo un elemento nella seconda riga e nella seconda colonna"
   ]
  },
  {
   "cell_type": "code",
   "execution_count": 217,
   "id": "ae89cf32",
   "metadata": {},
   "outputs": [
    {
     "data": {
      "text/plain": [
       "array([4, 5, 6, 7])"
      ]
     },
     "execution_count": 217,
     "metadata": {},
     "output_type": "execute_result"
    }
   ],
   "source": [
    "duedim_arr[1]\n",
    "#in un array bidimensionale ho specificato un singolo indice"
   ]
  },
  {
   "cell_type": "code",
   "execution_count": 218,
   "id": "f7583b9c",
   "metadata": {},
   "outputs": [
    {
     "data": {
      "text/plain": [
       "array([[[ 0,  1,  2,  3,  4],\n",
       "        [ 5,  6,  7,  8,  9],\n",
       "        [10, 11, 12, 13, 14],\n",
       "        [15, 16, 17, 18, 19]],\n",
       "\n",
       "       [[20, 21, 22, 23, 24],\n",
       "        [25, 26, 27, 28, 29],\n",
       "        [30, 31, 32, 33, 34],\n",
       "        [35, 36, 37, 38, 39]],\n",
       "\n",
       "       [[40, 41, 42, 43, 44],\n",
       "        [45, 46, 47, 48, 49],\n",
       "        [50, 51, 52, 53, 54],\n",
       "        [55, 56, 57, 58, 59]]])"
      ]
     },
     "execution_count": 218,
     "metadata": {},
     "output_type": "execute_result"
    }
   ],
   "source": [
    "import numpy as np\n",
    "tredim_array=np.reshape(np.arange(3*4*5),(3,4,5))\n",
    "tredim_array\n",
    "#ho creato array tridimensionale 3x4x5"
   ]
  },
  {
   "cell_type": "code",
   "execution_count": 219,
   "id": "bad2ba2c",
   "metadata": {
    "scrolled": false
   },
   "outputs": [
    {
     "data": {
      "text/plain": [
       "13"
      ]
     },
     "execution_count": 219,
     "metadata": {},
     "output_type": "execute_result"
    }
   ],
   "source": [
    "tredim_array[0,2,3]"
   ]
  },
  {
   "cell_type": "markdown",
   "id": "750b62e6",
   "metadata": {},
   "source": [
    "# Indicizzazione negativa\n",
    "Un'altra funzionalità utile è l'**indicizzazione negativa**, che consente di accedere agli elementi a partire dalla fine dell'array. "
   ]
  },
  {
   "cell_type": "code",
   "execution_count": 70,
   "id": "ebb40145",
   "metadata": {},
   "outputs": [
    {
     "data": {
      "text/plain": [
       "59"
      ]
     },
     "execution_count": 70,
     "metadata": {},
     "output_type": "execute_result"
    }
   ],
   "source": [
    "tredim_array[2,-1,-1]"
   ]
  },
  {
   "cell_type": "markdown",
   "id": "c417dad2",
   "metadata": {},
   "source": [
    "Avrei ottenuto lo stesso senza l'uso esplicito dell'indice. "
   ]
  },
  {
   "cell_type": "markdown",
   "id": "c1c7c1af",
   "metadata": {},
   "source": [
    "# Slicing \n",
    "Lo slicing in NumPy, che è una tecnica fondamentale per selezionare porzioni (fette) di un array in modo veloce ed elegante:\n",
    "* consente di selezionare più punti contemporaneamente, come un'intera riga, colonna o ogni terzo elemento di una riga o colonna.\n",
    "* funziona come con le liste in Python, ma puoi applicarlo anche a matrici (array 2D) e array multidimensionali.\n",
    "\n",
    "*La sintassi generale*\\\n",
    "`array[start:stop:step]`\n",
    "\n",
    "+ start: indica l'indice iniziale (incluso).\n",
    "+ stop: indica l'indice finale (escluso).\n",
    "+ step: opzionale, indica quanti elementi saltare. "
   ]
  },
  {
   "cell_type": "code",
   "execution_count": 233,
   "id": "bda4125f",
   "metadata": {},
   "outputs": [
    {
     "name": "stdout",
     "output_type": "stream",
     "text": [
      "[20 30 40]\n",
      "[10 20 30]\n",
      "[10 30 50]\n"
     ]
    }
   ],
   "source": [
    "import numpy as np\n",
    "\n",
    "a = np.array([10, 20, 30, 40, 50, 60])\n",
    "\n",
    "print(a[1:4])    # → [20 30 40]  (da indice 1 a 3)\n",
    "print(a[:3])     # → [10 20 30]  (dall’inizio a indice 2)\n",
    "print(a[::2])    # → [10 30 50]  (tutti gli elementi con passo 2)"
   ]
  },
  {
   "cell_type": "code",
   "execution_count": 234,
   "id": "7b60bcb8",
   "metadata": {},
   "outputs": [
    {
     "name": "stdout",
     "output_type": "stream",
     "text": [
      "[1 2 3]\n",
      "[2 5 8]\n",
      "[[5 6]\n",
      " [8 9]]\n"
     ]
    }
   ],
   "source": [
    "b = np.array([\n",
    "    [1, 2, 3],\n",
    "    [4, 5, 6],\n",
    "    [7, 8, 9]\n",
    "])\n",
    "\n",
    "print(b[0, :])    # → [1 2 3]  (tutta la prima riga)\n",
    "print(b[:, 1])    # → [2 5 8]  (tutta la seconda colonna)\n",
    "print(b[1:, 1:])  # → [[5 6] [8 9]] (parte inferiore destra)\n"
   ]
  },
  {
   "cell_type": "markdown",
   "id": "999943f4",
   "metadata": {},
   "source": [
    "# Esercitazione\n",
    "Data la matrice a:"
   ]
  },
  {
   "cell_type": "code",
   "execution_count": 236,
   "id": "18f1cdb9",
   "metadata": {},
   "outputs": [],
   "source": [
    "a = np.array([\n",
    "    [10, 20, 30, 40],\n",
    "    [50, 60, 70, 80],\n",
    "    [90, 100, 110, 120]\n",
    "])"
   ]
  },
  {
   "cell_type": "markdown",
   "id": "3cc18442",
   "metadata": {},
   "source": [
    "1. Stampa tutte le righe, solo le prime due colonne\n",
    "2. Stampa la seconda riga completa\n",
    "3. Stampa l’ultimo elemento di ogni riga\n",
    "4. Estrai il blocco centrale `[[60, 70], [100, 110]]`\n",
    "\n",
    "|<br>\n",
    "|<br>\n",
    "|<br>\n",
    "|<br>\n",
    "|<br>"
   ]
  },
  {
   "cell_type": "code",
   "execution_count": 237,
   "id": "28bb5f06",
   "metadata": {
    "scrolled": true
   },
   "outputs": [
    {
     "name": "stdout",
     "output_type": "stream",
     "text": [
      "Prime due colonne di tutte le righe:\n",
      " [[ 10  20]\n",
      " [ 50  60]\n",
      " [ 90 100]]\n",
      "Seconda riga: [50 60 70 80]\n",
      "Ultimo elemento di ogni riga: [ 40  80 120]\n",
      "Blocco centrale:\n",
      " [[ 60  70]\n",
      " [100 110]]\n"
     ]
    }
   ],
   "source": [
    "print(\"Prime due colonne di tutte le righe:\\n\", a[:, :2])\n",
    "print(\"Seconda riga:\", a[1, :])\n",
    "print(\"Ultimo elemento di ogni riga:\", a[:, -1])\n",
    "print(\"Blocco centrale:\\n\", a[1:, 1:3])\n"
   ]
  },
  {
   "cell_type": "code",
   "execution_count": null,
   "id": "f847b3bc",
   "metadata": {},
   "outputs": [],
   "source": []
  },
  {
   "cell_type": "code",
   "execution_count": 238,
   "id": "721c3de7",
   "metadata": {},
   "outputs": [
    {
     "data": {
      "text/plain": [
       "array([0, 1, 2, 3, 4, 5, 6, 7, 8, 9])"
      ]
     },
     "execution_count": 238,
     "metadata": {},
     "output_type": "execute_result"
    }
   ],
   "source": [
    "unadim_array=np.arange(10)\n",
    "unadim_array"
   ]
  },
  {
   "cell_type": "code",
   "execution_count": 239,
   "id": "b367c12f",
   "metadata": {},
   "outputs": [
    {
     "data": {
      "text/plain": [
       "array([2, 3, 4, 5])"
      ]
     },
     "execution_count": 239,
     "metadata": {},
     "output_type": "execute_result"
    }
   ],
   "source": [
    "unadim_array[2:6]"
   ]
  },
  {
   "cell_type": "code",
   "execution_count": 240,
   "id": "55b82cd1",
   "metadata": {},
   "outputs": [
    {
     "data": {
      "text/plain": [
       "array([0, 1, 2, 3, 4])"
      ]
     },
     "execution_count": 240,
     "metadata": {},
     "output_type": "execute_result"
    }
   ],
   "source": [
    "unadim_array[:5]"
   ]
  },
  {
   "cell_type": "code",
   "execution_count": 241,
   "id": "fb72a854",
   "metadata": {},
   "outputs": [
    {
     "data": {
      "text/plain": [
       "7"
      ]
     },
     "execution_count": 241,
     "metadata": {},
     "output_type": "execute_result"
    }
   ],
   "source": [
    "unadim_array[-3]"
   ]
  },
  {
   "cell_type": "code",
   "execution_count": 242,
   "id": "4ff595ae",
   "metadata": {},
   "outputs": [
    {
     "data": {
      "text/plain": [
       "array([7, 8, 9])"
      ]
     },
     "execution_count": 242,
     "metadata": {},
     "output_type": "execute_result"
    }
   ],
   "source": [
    "unadim_array[-3:]"
   ]
  },
  {
   "cell_type": "code",
   "execution_count": 243,
   "id": "abd51f3d",
   "metadata": {},
   "outputs": [
    {
     "data": {
      "text/plain": [
       "array([0, 2, 4, 6, 8])"
      ]
     },
     "execution_count": 243,
     "metadata": {},
     "output_type": "execute_result"
    }
   ],
   "source": [
    "unadim_array[::2]"
   ]
  },
  {
   "cell_type": "code",
   "execution_count": 244,
   "id": "f4a6d07c",
   "metadata": {},
   "outputs": [
    {
     "data": {
      "text/plain": [
       "array([[ 0,  1,  2,  3],\n",
       "       [ 4,  5,  6,  7],\n",
       "       [ 8,  9, 10, 11]])"
      ]
     },
     "execution_count": 244,
     "metadata": {},
     "output_type": "execute_result"
    }
   ],
   "source": [
    "duedim_arr=np.reshape(np.arange(12),(3,4))\n",
    "duedim_arr"
   ]
  },
  {
   "cell_type": "code",
   "execution_count": 245,
   "id": "397dd3d2",
   "metadata": {},
   "outputs": [
    {
     "data": {
      "text/plain": [
       "array([[ 5,  6,  7],\n",
       "       [ 9, 10, 11]])"
      ]
     },
     "execution_count": 245,
     "metadata": {},
     "output_type": "execute_result"
    }
   ],
   "source": [
    "duedim_arr[1:,1:]"
   ]
  },
  {
   "cell_type": "code",
   "execution_count": 246,
   "id": "a566446f",
   "metadata": {},
   "outputs": [
    {
     "data": {
      "text/plain": [
       "array([4, 5, 6, 7])"
      ]
     },
     "execution_count": 246,
     "metadata": {},
     "output_type": "execute_result"
    }
   ],
   "source": [
    "duedim_arr[1,:]\n",
    "#selezioniamo la seconda riga"
   ]
  },
  {
   "cell_type": "code",
   "execution_count": 247,
   "id": "51270648",
   "metadata": {},
   "outputs": [
    {
     "data": {
      "text/plain": [
       "array([ 2,  6, 10])"
      ]
     },
     "execution_count": 247,
     "metadata": {},
     "output_type": "execute_result"
    }
   ],
   "source": [
    "duedim_arr[:,2]\n",
    "#selezioniamo solo la terza colonna"
   ]
  },
  {
   "cell_type": "code",
   "execution_count": null,
   "id": "d487ad82",
   "metadata": {},
   "outputs": [],
   "source": []
  },
  {
   "cell_type": "code",
   "execution_count": null,
   "id": "5bf811f0",
   "metadata": {},
   "outputs": [],
   "source": []
  },
  {
   "cell_type": "markdown",
   "id": "3f496764",
   "metadata": {},
   "source": [
    "Lo slicing ha un comportamento molto diverso applicato alle liste rispetto agli ndarray.\\\n",
    "\n",
    "Per gli ndarray, il subarray generato fa riferimento all'area originale di memoria, crea una view (vista) sull'array originale, ovvero è solo un modo differente per accedere ai dati dell'array.\n",
    "\n",
    "Modificando la view, viene modificato l'array originale. "
   ]
  },
  {
   "cell_type": "code",
   "execution_count": 249,
   "id": "81e2f7a6",
   "metadata": {},
   "outputs": [
    {
     "name": "stdout",
     "output_type": "stream",
     "text": [
      "Lista originale: [10, 20, 30, 40]\n",
      "Sottolista: [999, 30]\n"
     ]
    }
   ],
   "source": [
    "lista = [10, 20, 30, 40]\n",
    "sub_lista = lista[1:3]\n",
    "sub_lista[0] = 999\n",
    "\n",
    "print(\"Lista originale:\", lista)       # [10, 20, 30, 40]\n",
    "print(\"Sottolista:\", sub_lista)        # [999, 30]\n",
    "# la lista originale non cambia"
   ]
  },
  {
   "cell_type": "code",
   "execution_count": null,
   "id": "fce217bd",
   "metadata": {},
   "outputs": [],
   "source": [
    "import numpy as np\n",
    "\n",
    "a = np.array([10, 20, 30, 40])\n",
    "sub_array = a[1:3]\n",
    "sub_array[0] = 999\n",
    "\n",
    "print(\"Array originale:\", a)           # [10 999 30 40]\n",
    "print(\"Sub-array (view):\", sub_array)  # [999  30]\n",
    "# l'array originale viene modificato, perchè sub_array è una view, non una copia. "
   ]
  },
  {
   "cell_type": "markdown",
   "id": "b332e4c5",
   "metadata": {},
   "source": [
    "* Le view sono più efficienti in memoria e velocità.\n",
    "* Occorre fare attenzione: se modifichiamo la view, stiamo modificando l’originale."
   ]
  },
  {
   "cell_type": "markdown",
   "id": "11f61a49",
   "metadata": {},
   "source": [
    "# Esercitazione\n",
    "1. Crea un array NumPy da 1 a 6\n",
    "2. Fai slicing su `[2:5]`\n",
    "3. Cambia il primo valore della slice\n",
    "4. Verifica se l’array originale è cambiato"
   ]
  },
  {
   "cell_type": "code",
   "execution_count": 250,
   "id": "4040ea5c",
   "metadata": {},
   "outputs": [
    {
     "name": "stdout",
     "output_type": "stream",
     "text": [
      "Slice modificata: [999   4   5]\n",
      "Array originale modificato: [  1   2 999   4   5   6]\n"
     ]
    }
   ],
   "source": [
    "import numpy as np\n",
    "\n",
    "# 1. Crea l’array da 1 a 6\n",
    "a = np.array([1, 2, 3, 4, 5, 6])\n",
    "\n",
    "# 2. Slice degli elementi da indice 2 a 4 → [3, 4, 5]\n",
    "s = a[2:5]\n",
    "\n",
    "# 3. Modifica il primo elemento della slice\n",
    "s[0] = 999\n",
    "\n",
    "# 4. Stampa array originale e slice\n",
    "print(\"Slice modificata:\", s)\n",
    "print(\"Array originale modificato:\", a)\n"
   ]
  },
  {
   "cell_type": "markdown",
   "id": "11873f11",
   "metadata": {},
   "source": [
    "# Unire e dividere gli array\n",
    "\n",
    "Spesso dobbiamo unire array in un array più grande o dividerne uno grande in parti più piccole. Questo è utile quando preprocessiamo i dati e dobbiamo aggiungerli o combinarli più volte."
   ]
  },
  {
   "cell_type": "markdown",
   "id": "6b9600da",
   "metadata": {},
   "source": [
    "## Concatenate\n",
    "`np.concatenate()`\n",
    "* Unisce array lungo un asse (di default riga/asse 0)"
   ]
  },
  {
   "cell_type": "code",
   "execution_count": 251,
   "id": "27e4ce72",
   "metadata": {},
   "outputs": [
    {
     "name": "stdout",
     "output_type": "stream",
     "text": [
      "[1 2 3 4 5 6]\n"
     ]
    }
   ],
   "source": [
    "import numpy as np\n",
    "\n",
    "a = np.array([1, 2, 3])\n",
    "b = np.array([4, 5, 6])\n",
    "\n",
    "c = np.concatenate((a, b))\n",
    "print(c)  # [1 2 3 4 5 6]\n"
   ]
  },
  {
   "cell_type": "code",
   "execution_count": 253,
   "id": "6605944f",
   "metadata": {},
   "outputs": [],
   "source": [
    "import numpy as np"
   ]
  },
  {
   "cell_type": "code",
   "execution_count": 254,
   "id": "21f9d410",
   "metadata": {},
   "outputs": [
    {
     "name": "stdout",
     "output_type": "stream",
     "text": [
      "Primo array [ 1  2  3  4  5  6  7  8  9 10]\n",
      "Secondo array [11 12 13 14 15 16 17 18 19 20]\n"
     ]
    }
   ],
   "source": [
    "primo_array=np.arange(1,11)\n",
    "secondo_array=np.arange(11,21)\n",
    "print('Primo array', primo_array)\n",
    "print('Secondo array', secondo_array)"
   ]
  },
  {
   "cell_type": "code",
   "execution_count": 255,
   "id": "ee8b8f71",
   "metadata": {},
   "outputs": [
    {
     "data": {
      "text/plain": [
       "array([ 1,  2,  3,  4,  5,  6,  7,  8,  9, 10, 11, 12, 13, 14, 15, 16, 17,\n",
       "       18, 19, 20])"
      ]
     },
     "execution_count": 255,
     "metadata": {},
     "output_type": "execute_result"
    }
   ],
   "source": [
    "con_array=np.concatenate((primo_array, secondo_array))\n",
    "con_array"
   ]
  },
  {
   "cell_type": "markdown",
   "id": "ae3ab160",
   "metadata": {},
   "source": [
    "La funzione concatenate accetta come parametri una sequenza di array e un secondo parametro opzionale, axis, che specifica l'asse lungo cui concatenare gli array. Se non viene specificato, l'asse predefinito è 0."
   ]
  },
  {
   "cell_type": "code",
   "execution_count": 256,
   "id": "b93f804d",
   "metadata": {},
   "outputs": [
    {
     "data": {
      "text/plain": [
       "array([[ 1,  2,  3,  4,  5],\n",
       "       [ 6,  7,  8,  9, 10]])"
      ]
     },
     "execution_count": 256,
     "metadata": {},
     "output_type": "execute_result"
    }
   ],
   "source": [
    "terzo_2darray=np.array([[1,2,3,4,5],[6,7,8,9,10]])\n",
    "terzo_2darray\n"
   ]
  },
  {
   "cell_type": "code",
   "execution_count": 257,
   "id": "3da2d43a",
   "metadata": {},
   "outputs": [
    {
     "data": {
      "text/plain": [
       "array([[11, 12, 13, 14, 15],\n",
       "       [16, 17, 18, 19, 20]])"
      ]
     },
     "execution_count": 257,
     "metadata": {},
     "output_type": "execute_result"
    }
   ],
   "source": [
    "quarto_2darray=np.array([[11,12,13,14,15],[16,17,18,19,20]])\n",
    "quarto_2darray"
   ]
  },
  {
   "cell_type": "code",
   "execution_count": 258,
   "id": "03b2917c",
   "metadata": {},
   "outputs": [
    {
     "data": {
      "text/plain": [
       "array([[ 1,  2,  3,  4,  5, 11, 12, 13, 14, 15],\n",
       "       [ 6,  7,  8,  9, 10, 16, 17, 18, 19, 20]])"
      ]
     },
     "execution_count": 258,
     "metadata": {},
     "output_type": "execute_result"
    }
   ],
   "source": [
    "con2d_array=np.concatenate((terzo_2darray,quarto_2darray), axis=1)\n",
    "con2d_array"
   ]
  },
  {
   "cell_type": "markdown",
   "id": "955a006a",
   "metadata": {},
   "source": [
    "## Stack\n",
    "Altra funzione simile a concatenate è `stack`, che unisce gli array lungo un nuovo asse:\n",
    "* Utilizziamo stack sugli array unidimensionali first_arr e second_arr per creare un array bidimensionale:"
   ]
  },
  {
   "cell_type": "code",
   "execution_count": 259,
   "id": "5949ec99",
   "metadata": {},
   "outputs": [
    {
     "data": {
      "text/plain": [
       "array([[ 1,  2,  3,  4,  5,  6,  7,  8,  9, 10],\n",
       "       [11, 12, 13, 14, 15, 16, 17, 18, 19, 20]])"
      ]
     },
     "execution_count": 259,
     "metadata": {},
     "output_type": "execute_result"
    }
   ],
   "source": [
    "st_array=np.stack((primo_array, secondo_array))\n",
    "st_array"
   ]
  },
  {
   "cell_type": "markdown",
   "id": "106b8d41",
   "metadata": {},
   "source": [
    "# Unione orizzontale e verticale\n",
    "\n",
    "* `hstack`: unisce gli array orizzontalmente.\n",
    "* `vstack`: unisce gli array verticalmente."
   ]
  },
  {
   "cell_type": "code",
   "execution_count": 264,
   "id": "e4c8084c",
   "metadata": {},
   "outputs": [
    {
     "name": "stdout",
     "output_type": "stream",
     "text": [
      "hstack: [1 2 3 4 5 6]\n"
     ]
    }
   ],
   "source": [
    "a = np.array([1, 2, 3])\n",
    "b = np.array([4, 5, 6])\n",
    "\n",
    "hstack = np.hstack((a, b))\n",
    "print(\"hstack:\", hstack)  # [1 2 3 4 5 6]"
   ]
  },
  {
   "cell_type": "code",
   "execution_count": 260,
   "id": "0ef906fd",
   "metadata": {},
   "outputs": [
    {
     "name": "stdout",
     "output_type": "stream",
     "text": [
      "vstack:\n",
      " [[1 2 3]\n",
      " [4 5 6]]\n"
     ]
    }
   ],
   "source": [
    "a = np.array([1, 2, 3])\n",
    "b = np.array([4, 5, 6])\n",
    "\n",
    "vstack = np.vstack((a, b))\n",
    "print(\"vstack:\\n\", vstack)"
   ]
  },
  {
   "cell_type": "code",
   "execution_count": 265,
   "id": "0745db63",
   "metadata": {},
   "outputs": [
    {
     "data": {
      "text/plain": [
       "array([ 1,  2,  3,  4,  5,  6,  7,  8,  9, 10, 11, 12, 13, 14, 15, 16, 17,\n",
       "       18, 19, 20])"
      ]
     },
     "execution_count": 265,
     "metadata": {},
     "output_type": "execute_result"
    }
   ],
   "source": [
    "hst_arr=np.hstack((primo_array, secondo_array))\n",
    "hst_arr"
   ]
  },
  {
   "cell_type": "code",
   "execution_count": 266,
   "id": "568722dc",
   "metadata": {},
   "outputs": [
    {
     "data": {
      "text/plain": [
       "array([[ 1,  2,  3,  4,  5,  6,  7,  8,  9, 10],\n",
       "       [11, 12, 13, 14, 15, 16, 17, 18, 19, 20]])"
      ]
     },
     "execution_count": 266,
     "metadata": {},
     "output_type": "execute_result"
    }
   ],
   "source": [
    "vst_arr=np.vstack((primo_array, secondo_array)) #utilizziamo la pila su righe e colonne\n",
    "vst_arr"
   ]
  },
  {
   "cell_type": "markdown",
   "id": "ff8b035e",
   "metadata": {},
   "source": [
    "# Dividere gli array\n",
    "\n",
    "La divisione separa un array in più sottoarray. \\\n",
    "Questo può essere fatto utilizzando funzioni come split, array_split, hsplit e vsplit.\n",
    "\n",
    "## Funzione `split`\n",
    "\n",
    "* La funzione split ha un limite importante: può dividere gli array solo quando il numero di elementi è divisibile per il numero di divisioni. Altrimenti, genera un errore.\n",
    "Le matrici risultanti devono avere la stessa forma. Altrimenti si restringerebbe."
   ]
  },
  {
   "cell_type": "code",
   "execution_count": 267,
   "id": "43c68147",
   "metadata": {},
   "outputs": [
    {
     "name": "stdout",
     "output_type": "stream",
     "text": [
      "Split: [array([10, 20]), array([30, 40]), array([50, 60])]\n"
     ]
    }
   ],
   "source": [
    "a = np.array([10, 20, 30, 40, 50, 60])\n",
    "\n",
    "parti = np.split(a, 3)  # 3 parti uguali\n",
    "print(\"Split:\", parti)\n",
    "# divide array in più parti uguali"
   ]
  },
  {
   "cell_type": "code",
   "execution_count": 268,
   "id": "47f15134",
   "metadata": {},
   "outputs": [
    {
     "name": "stdout",
     "output_type": "stream",
     "text": [
      "vsplit: [array([[1, 2],\n",
      "       [3, 4]]), array([[5, 6],\n",
      "       [7, 8]])]\n"
     ]
    }
   ],
   "source": [
    "matrice = np.array([[1, 2], [3, 4], [5, 6], [7, 8]])\n",
    "\n",
    "v_parti = np.vsplit(matrice, 2)\n",
    "print(\"vsplit:\", v_parti)\n",
    "# split verticale (righe) "
   ]
  },
  {
   "cell_type": "code",
   "execution_count": 270,
   "id": "58fac992",
   "metadata": {},
   "outputs": [
    {
     "name": "stdout",
     "output_type": "stream",
     "text": [
      "hsplit: [array([[1, 2],\n",
      "       [5, 6]]), array([[3, 4],\n",
      "       [7, 8]])]\n"
     ]
    }
   ],
   "source": [
    "matrice = np.array([[1, 2, 3, 4], [5, 6, 7, 8]])\n",
    "\n",
    "h_parti = np.hsplit(matrice, 2)\n",
    "print(\"hsplit:\", h_parti)\n",
    "# slip orizzontale (colonne)"
   ]
  },
  {
   "cell_type": "code",
   "execution_count": null,
   "id": "b9cca77e",
   "metadata": {},
   "outputs": [],
   "source": []
  },
  {
   "cell_type": "code",
   "execution_count": 271,
   "id": "acb9cb4c",
   "metadata": {},
   "outputs": [
    {
     "data": {
      "text/plain": [
       "array([ 1,  2,  3,  4,  5,  6,  7,  8,  9, 10, 11, 12])"
      ]
     },
     "execution_count": 271,
     "metadata": {},
     "output_type": "execute_result"
    }
   ],
   "source": [
    "quinto_array=np.arange(1,13)\n",
    "quinto_array"
   ]
  },
  {
   "cell_type": "code",
   "execution_count": 272,
   "id": "8ec7a13b",
   "metadata": {},
   "outputs": [
    {
     "data": {
      "text/plain": [
       "[array([1, 2, 3]), array([4, 5, 6]), array([7, 8, 9]), array([10, 11, 12])]"
      ]
     },
     "execution_count": 272,
     "metadata": {},
     "output_type": "execute_result"
    }
   ],
   "source": [
    "sp_array=np.array_split(quinto_array,4)\n",
    "sp_array"
   ]
  },
  {
   "cell_type": "code",
   "execution_count": 273,
   "id": "69e084cd",
   "metadata": {},
   "outputs": [
    {
     "name": "stdout",
     "output_type": "stream",
     "text": [
      "[4 5 6]\n"
     ]
    }
   ],
   "source": [
    "print(sp_array[1])"
   ]
  },
  {
   "cell_type": "markdown",
   "id": "cd516930",
   "metadata": {},
   "source": [
    "Se vogliamo dividere un array con un numero di elementi non divisibile, array_split gestisce automaticamente la divisione."
   ]
  },
  {
   "cell_type": "code",
   "execution_count": 274,
   "id": "15233447",
   "metadata": {},
   "outputs": [
    {
     "data": {
      "text/plain": [
       "[array([1, 2]),\n",
       " array([3, 4]),\n",
       " array([5, 6]),\n",
       " array([7, 8]),\n",
       " array([9]),\n",
       " array([10]),\n",
       " array([11]),\n",
       " array([12])]"
      ]
     },
     "execution_count": 274,
     "metadata": {},
     "output_type": "execute_result"
    }
   ],
   "source": [
    "sp_array=np.array_split(quinto_array,8)\n",
    "sp_array"
   ]
  },
  {
   "cell_type": "markdown",
   "id": "6e93937c",
   "metadata": {},
   "source": [
    "# Esercitazione\n",
    "\n",
    "1. Crea due array 1D: `a = [10, 20, 30]` e `b = [40, 50, 60]`\n",
    "2. Uniscili:\n",
    "+ con concatenate()\n",
    "+ con vstack()\n",
    "3. Crea un array `[1, 2, 3, 4, 5, 6]` e dividilo in 3 parti\n",
    "4. Crea una matrice 2D 4x2 e dividila in 2 blocchi verticali\n",
    "\n",
    "|<br>\n",
    "|<br>\n",
    "|<br>\n",
    "|<br>\n",
    "|<br>"
   ]
  },
  {
   "cell_type": "code",
   "execution_count": 275,
   "id": "b7b7af70",
   "metadata": {},
   "outputs": [
    {
     "name": "stdout",
     "output_type": "stream",
     "text": [
      "Concatenate: [10 20 30 40 50 60]\n",
      "vstack:\n",
      " [[10 20 30]\n",
      " [40 50 60]]\n",
      "Split in 3 parti: [array([1, 2]), array([3, 4]), array([5, 6])]\n",
      "Split verticale (righe): [array([[1, 2],\n",
      "       [3, 4]]), array([[5, 6],\n",
      "       [7, 8]])]\n"
     ]
    }
   ],
   "source": [
    "import numpy as np\n",
    "\n",
    "# 1. Unione\n",
    "a = np.array([10, 20, 30])\n",
    "b = np.array([40, 50, 60])\n",
    "\n",
    "concat = np.concatenate((a, b))\n",
    "vst = np.vstack((a, b))\n",
    "\n",
    "print(\"Concatenate:\", concat)\n",
    "print(\"vstack:\\n\", vst)\n",
    "\n",
    "# 2. Split array 1D\n",
    "arr = np.array([1, 2, 3, 4, 5, 6])\n",
    "diviso = np.split(arr, 3)\n",
    "print(\"Split in 3 parti:\", diviso)\n",
    "\n",
    "# 3. Split matrice 4x2\n",
    "matrice = np.array([[1, 2], [3, 4], [5, 6], [7, 8]])\n",
    "v_blocchi = np.vsplit(matrice, 2)\n",
    "print(\"Split verticale (righe):\", v_blocchi)\n"
   ]
  },
  {
   "cell_type": "code",
   "execution_count": null,
   "id": "ac44a2fd",
   "metadata": {},
   "outputs": [],
   "source": []
  }
 ],
 "metadata": {
  "kernelspec": {
   "display_name": "Python 3 (ipykernel)",
   "language": "python",
   "name": "python3"
  },
  "language_info": {
   "codemirror_mode": {
    "name": "ipython",
    "version": 3
   },
   "file_extension": ".py",
   "mimetype": "text/x-python",
   "name": "python",
   "nbconvert_exporter": "python",
   "pygments_lexer": "ipython3",
   "version": "3.9.7"
  }
 },
 "nbformat": 4,
 "nbformat_minor": 5
}
