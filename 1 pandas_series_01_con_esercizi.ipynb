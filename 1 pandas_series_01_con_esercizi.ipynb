{
 "cells": [
  {
   "cell_type": "markdown",
   "id": "cbb4c68c",
   "metadata": {},
   "source": [
    "# Introduzione a Pandas\n",
    "di Emiliano Citarella_youlysses_soc_cooperativa"
   ]
  },
  {
   "cell_type": "markdown",
   "id": "d1c2ddbd",
   "metadata": {},
   "source": [
    "## Modulo_1 Introduzione alle Series\n",
    "Impareremo a creare una Series in Python, faremo matematica sulle Series.\n",
    "> Capiremo come descrivere i dati, filtrare i dati ed operare su di una Series di stringhe.\n",
    "\n",
    "## Cos'è Pandas?\n",
    "La principale libreria di analisi dei dati per Python: realizzate per acquisire, pulire, organizzare, analizzare ed esportare i dati.\n",
    "\n",
    "`Series` e `DataFrame` sono i due tipi dati fondamentali: \n",
    "- Le `Series` rappresentano dati ad una dimensione, come i valori restituiti da una funzione, le sequenze temporali ed i calendari.\n",
    "- I `DataFrame` rappresentano dati a due dimensioni, come una matrice quadrata, un file csv, una data table. \n",
    "- Ogni colonna di un `DataFrame` è una `Series`."
   ]
  },
  {
   "cell_type": "markdown",
   "id": "5f13f743",
   "metadata": {},
   "source": [
    "##  Series Parte 1\n",
    "- Creazione di una serie di oggetti da oggetti uni-dimensionali come liste e ranges.\n",
    "- Assegnazione della serie.\n",
    "- Fare matematica in serie.\n",
    "- Descrivere una serie con statistiche, metodi ed attributi. "
   ]
  },
  {
   "cell_type": "code",
   "execution_count": 1,
   "id": "c020021a",
   "metadata": {},
   "outputs": [],
   "source": [
    "import pandas as pd"
   ]
  },
  {
   "cell_type": "markdown",
   "id": "02238e28",
   "metadata": {},
   "source": [
    "## Series\n",
    " \n",
    "Una Series è una struttura dati monodimensionale molto simile a un array di NumPy, ma con alcune funzionalità extra: **ogni elemento è associato a un indice**.\n",
    "\n",
    "Una Series è un **vettore etichettato** che può contenere dati di qualsiasi tipo (interi, stringhe, numeri in virgola mobile, oggetti Python, ecc.)."
   ]
  },
  {
   "cell_type": "code",
   "execution_count": 3,
   "id": "11c08f3f",
   "metadata": {},
   "outputs": [
    {
     "data": {
      "text/plain": [
       "0    7\n",
       "1    8\n",
       "2    9\n",
       "dtype: int64"
      ]
     },
     "execution_count": 3,
     "metadata": {},
     "output_type": "execute_result"
    }
   ],
   "source": [
    "pd.Series([7, 8, 9])"
   ]
  },
  {
   "cell_type": "markdown",
   "id": "1e96ebac",
   "metadata": {},
   "source": [
    "Una Serie è un array monodimensionale, con un axis etichettato, che può contenere oggetti di qualsiasi tipo Numpy.\n",
    "- L'`axis` è chiamato `Index` e può essere utilizzato per accedere agli elementi. \n",
    "\n",
    "Creiamo una Series attraverso il costruttore Series, passando la sequenza di n valori, a cui verrà associato esplicitamente un indice numerico che va da 0 a n-1."
   ]
  },
  {
   "cell_type": "code",
   "execution_count": 5,
   "id": "64ef6e74",
   "metadata": {
    "scrolled": true
   },
   "outputs": [
    {
     "data": {
      "text/plain": [
       "0     True\n",
       "1    False\n",
       "2     True\n",
       "3    False\n",
       "dtype: bool"
      ]
     },
     "execution_count": 5,
     "metadata": {},
     "output_type": "execute_result"
    }
   ],
   "source": [
    "results = pd.Series([True, False, True, False]) # assegno una Series ad una variabile\n",
    "results"
   ]
  },
  {
   "cell_type": "markdown",
   "id": "e40e0bc0",
   "metadata": {},
   "source": [
    "Le Series possono essere qualsiasi tipo di dati Python.\\\n",
    "L'index di default è 0."
   ]
  },
  {
   "cell_type": "code",
   "execution_count": 6,
   "id": "11929db1",
   "metadata": {},
   "outputs": [
    {
     "data": {
      "text/plain": [
       "0       red\n",
       "1    orange\n",
       "2    yellow\n",
       "3     green\n",
       "4      blue\n",
       "5    indigo\n",
       "6    violet\n",
       "dtype: object"
      ]
     },
     "execution_count": 6,
     "metadata": {},
     "output_type": "execute_result"
    }
   ],
   "source": [
    "colors = [\"red\", \"orange\", \"yellow\", \"green\", \"blue\", \"indigo\", \"violet\"]\n",
    "colors = pd.Series(colors)\n",
    "colors"
   ]
  },
  {
   "cell_type": "markdown",
   "id": "1c7cac8f",
   "metadata": {},
   "source": [
    "# Esercitazioni\n",
    "Creare una serie Pandas con i quadrati di 3 numeri interi consecutivi `[16,25,36]`.\n",
    "|<br>\n",
    "|<br>\n",
    "|<br>\n",
    "|<br>\n",
    "|<br>"
   ]
  },
  {
   "cell_type": "code",
   "execution_count": 7,
   "id": "14f42088",
   "metadata": {},
   "outputs": [
    {
     "name": "stdout",
     "output_type": "stream",
     "text": [
      "Serie di quadrati:\n",
      "0    16\n",
      "1    25\n",
      "2    36\n",
      "dtype: int64\n"
     ]
    }
   ],
   "source": [
    "import pandas as pd\n",
    "\n",
    "numeri = pd.Series([16, 25, 36])  # quadrati di 4, 5, 6\n",
    "print(\"Serie di quadrati:\")\n",
    "print(numeri)"
   ]
  },
  {
   "cell_type": "markdown",
   "id": "c7fac6ee",
   "metadata": {},
   "source": [
    "Creare una serie con una lista di frutti tropicali `[\"mango\", \"papaya\", \"ananas\", \"guava\"]`.\n",
    "|<br>\n",
    "|<br>\n",
    "|<br>\n",
    "|<br>\n",
    "|<br>"
   ]
  },
  {
   "cell_type": "code",
   "execution_count": 1,
   "id": "042dd3ae",
   "metadata": {
    "scrolled": true
   },
   "outputs": [
    {
     "name": "stdout",
     "output_type": "stream",
     "text": [
      "Serie di frutti tropicali:\n",
      "0     mango\n",
      "1    papaya\n",
      "2    ananas\n",
      "3     guava\n",
      "dtype: object\n"
     ]
    }
   ],
   "source": [
    "import pandas as pd\n",
    "\n",
    "frutti = [\"mango\", \"papaya\", \"ananas\", \"guava\"]\n",
    "frutti_series = pd.Series(frutti)\n",
    "\n",
    "print(\"Serie di frutti tropicali:\")\n",
    "print(frutti_series)\n"
   ]
  },
  {
   "cell_type": "markdown",
   "id": "35e5b355",
   "metadata": {},
   "source": [
    "Creiamo una `Series` che associa **nome (indice)** ad un **anno di nascita**."
   ]
  },
  {
   "cell_type": "code",
   "execution_count": 13,
   "id": "f4a18a76",
   "metadata": {
    "scrolled": true
   },
   "outputs": [
    {
     "name": "stdout",
     "output_type": "stream",
     "text": [
      "{'La mia Series': Emiliano    1977\n",
      "Carlo       1978\n",
      "Roberto     1977\n",
      "dtype: int64}\n",
      "Emiliano    1977\n",
      "Carlo       1978\n",
      "Roberto     1977\n",
      "dtype: int64\n"
     ]
    }
   ],
   "source": [
    "my_series = pd.Series([1977, 1978, 1977], index=[\"Emiliano\", \"Carlo\", \"Roberto\"])\n",
    "dictionary = {}\n",
    "dictionary[\"La mia Series\"] = my_series\n",
    "\n",
    "print(dictionary)\n",
    "print(dictionary[\"La mia Series\"])"
   ]
  },
  {
   "cell_type": "markdown",
   "id": "776a6c63",
   "metadata": {},
   "source": [
    "# Esercitazione\n",
    "1. Crea una Series con 3 scrittori e i rispettivi anni di nascita\n",
    "2. Salvala in un dizionario con chiave \"Scrittori\"\n",
    "3. Stampa:\n",
    "* tutto il dizionario\n",
    "* solo la Series\n",
    "|<br>\n",
    "|<br>\n",
    "|<br>\n",
    "|<br>\n",
    "|<br>"
   ]
  },
  {
   "cell_type": "code",
   "execution_count": 9,
   "id": "c782467d",
   "metadata": {},
   "outputs": [
    {
     "name": "stdout",
     "output_type": "stream",
     "text": [
      "{'Scrittori': Sciascia     1922\n",
      "Hemingway    1899\n",
      "Orwell       1904\n",
      "dtype: int64}\n",
      "Sciascia     1922\n",
      "Hemingway    1899\n",
      "Orwell       1904\n",
      "dtype: int64\n"
     ]
    }
   ],
   "source": [
    "import pandas as pd\n",
    "\n",
    "scrittori = pd.Series([1922, 1899, 1904], index=[\"Sciascia\", \"Hemingway\", \"Orwell\"])\n",
    "diz = {}\n",
    "diz[\"Scrittori\"] = scrittori\n",
    "\n",
    "print(diz)\n",
    "print(diz[\"Scrittori\"])"
   ]
  },
  {
   "cell_type": "markdown",
   "id": "0582a933",
   "metadata": {},
   "source": [
    "### Possiamo assegnare intervalli per fare Series di numeri"
   ]
  },
  {
   "cell_type": "code",
   "execution_count": 42,
   "id": "82caa611",
   "metadata": {},
   "outputs": [
    {
     "data": {
      "text/plain": [
       "0   -3\n",
       "1   -2\n",
       "2   -1\n",
       "3    0\n",
       "4    1\n",
       "5    2\n",
       "dtype: int64"
      ]
     },
     "execution_count": 42,
     "metadata": {},
     "output_type": "execute_result"
    }
   ],
   "source": [
    "numbers = pd.Series(range(-3, 3))\n",
    "numbers"
   ]
  },
  {
   "cell_type": "markdown",
   "id": "4cf37109",
   "metadata": {},
   "source": [
    "## Possiamo fare aritmetica su intere Series con i nostri operatori matematici"
   ]
  },
  {
   "cell_type": "code",
   "execution_count": 11,
   "id": "d090109f",
   "metadata": {
    "scrolled": true
   },
   "outputs": [
    {
     "data": {
      "text/plain": [
       "0   -2\n",
       "1   -1\n",
       "2    0\n",
       "3    1\n",
       "4    2\n",
       "5    3\n",
       "dtype: int64"
      ]
     },
     "execution_count": 11,
     "metadata": {},
     "output_type": "execute_result"
    }
   ],
   "source": [
    "numbers + 1"
   ]
  },
  {
   "cell_type": "markdown",
   "id": "473e8737",
   "metadata": {},
   "source": [
    "## Pandas segue PEMDAS come ordine di operazioni "
   ]
  },
  {
   "cell_type": "code",
   "execution_count": 30,
   "id": "5f559c69",
   "metadata": {},
   "outputs": [
    {
     "data": {
      "text/plain": [
       "0   -1\n",
       "1    1\n",
       "2    3\n",
       "3    5\n",
       "4    7\n",
       "5    9\n",
       "dtype: int64"
      ]
     },
     "execution_count": 30,
     "metadata": {},
     "output_type": "execute_result"
    }
   ],
   "source": [
    "numbers * 2 + 5"
   ]
  },
  {
   "cell_type": "markdown",
   "id": "2dcb0a39",
   "metadata": {},
   "source": [
    "- P `Parentheses (parentesi)`: Risolvi prima tutto ciò che è dentro le parentesi.\n",
    "- E `Exponents (esponenti)`: Calcola i poteri e le radici.\n",
    "- MD `Multiplication and Division (moltiplicazione e divisione)`: Procedi da sinistra a destra per queste operazioni, nell'ordine in cui appaiono.\n",
    "- AS `Addition and Subtraction (addizione e sottrazione)`: Anche qui, procedi da sinistra a destra, nell'ordine in cui appaiono."
   ]
  },
  {
   "cell_type": "markdown",
   "id": "57c428ec",
   "metadata": {},
   "source": [
    "## Gli operatori integrati di Python lavorano sull'intera Series"
   ]
  },
  {
   "cell_type": "code",
   "execution_count": 12,
   "id": "d0b1e271",
   "metadata": {},
   "outputs": [
    {
     "data": {
      "text/plain": [
       "0    9\n",
       "1    4\n",
       "2    1\n",
       "3    0\n",
       "4    1\n",
       "5    4\n",
       "dtype: int64"
      ]
     },
     "execution_count": 12,
     "metadata": {},
     "output_type": "execute_result"
    }
   ],
   "source": [
    "numbers ** 2"
   ]
  },
  {
   "cell_type": "markdown",
   "id": "10c585f1",
   "metadata": {},
   "source": [
    "## La vettorizzazione\n",
    "Ogni cosa in Pandas è vettorializzata, che significa che l'operazione avviene sull'interezza del DataSet.\n",
    "\n",
    "La vettorizzazione in Pandas significa applicare operazioni direttamente su intere strutture di dati (come Series o DataFrame) senza dover scrivere cicli espliciti (for, while).\n",
    "\n",
    "> Invece di fare operazioni elemento per elemento, Pandas (e sotto, NumPy) le applica in blocco, molto più velocemente."
   ]
  },
  {
   "cell_type": "code",
   "execution_count": 13,
   "id": "d0f3db5f",
   "metadata": {},
   "outputs": [
    {
     "name": "stdout",
     "output_type": "stream",
     "text": [
      "Serie originale:\n",
      "0   -3\n",
      "1   -2\n",
      "2   -1\n",
      "3    0\n",
      "4    1\n",
      "5    2\n",
      "dtype: int64\n",
      "\n",
      "Radice quadrata:\n",
      "0         NaN\n",
      "1         NaN\n",
      "2         NaN\n",
      "3    0.000000\n",
      "4    1.000000\n",
      "5    1.414214\n",
      "dtype: float64\n"
     ]
    }
   ],
   "source": [
    "import pandas as pd\n",
    "\n",
    "numbers = pd.Series(range(-3, 3))\n",
    "print(\"Serie originale:\")\n",
    "print(numbers)\n",
    "\n",
    "print(\"\\nRadice quadrata:\")\n",
    "print(numbers ** (1/2))"
   ]
  },
  {
   "cell_type": "markdown",
   "id": "c3bcd4f4",
   "metadata": {},
   "source": [
    "Quando eseguiamo `**(1/2)`, i numeri negativi producono un valore `NaN` o valore complesso non visualizzabile, perché la radice quadrata di un numero negativo non è un numero reale. \\\n",
    "L'aritmetica non cambia la serie originale\n"
   ]
  },
  {
   "cell_type": "code",
   "execution_count": 14,
   "id": "a158c7f5",
   "metadata": {
    "scrolled": true
   },
   "outputs": [
    {
     "data": {
      "text/plain": [
       "0   -3\n",
       "1   -2\n",
       "2   -1\n",
       "3    0\n",
       "4    1\n",
       "5    2\n",
       "dtype: int64"
      ]
     },
     "execution_count": 14,
     "metadata": {},
     "output_type": "execute_result"
    }
   ],
   "source": [
    "numbers"
   ]
  },
  {
   "cell_type": "markdown",
   "id": "0f311c6f",
   "metadata": {},
   "source": [
    "Assegno il risultato di un'operazione a una nuova variabile"
   ]
  },
  {
   "cell_type": "code",
   "execution_count": 15,
   "id": "335a5ceb",
   "metadata": {},
   "outputs": [
    {
     "data": {
      "text/plain": [
       "0   -9\n",
       "1   -6\n",
       "2   -3\n",
       "3    0\n",
       "4    3\n",
       "5    6\n",
       "dtype: int64"
      ]
     },
     "execution_count": 15,
     "metadata": {},
     "output_type": "execute_result"
    }
   ],
   "source": [
    "triple = numbers * 3\n",
    "triple"
   ]
  },
  {
   "cell_type": "code",
   "execution_count": 16,
   "id": "5ec1d545",
   "metadata": {},
   "outputs": [
    {
     "data": {
      "text/plain": [
       "0     1.3\n",
       "1     2.5\n",
       "2     2.5\n",
       "3     5.6\n",
       "4    10.1\n",
       "dtype: float64"
      ]
     },
     "execution_count": 16,
     "metadata": {},
     "output_type": "execute_result"
    }
   ],
   "source": [
    "prices = pd.Series([1.30, 2.50, 2.50, 5.60, 10.10])\n",
    "prices"
   ]
  },
  {
   "cell_type": "markdown",
   "id": "e2b97edd",
   "metadata": {},
   "source": [
    "Riassegno una variabile per sovrascrivere i valori con il risultato di un'operazione"
   ]
  },
  {
   "cell_type": "code",
   "execution_count": 36,
   "id": "c78dc97a",
   "metadata": {},
   "outputs": [
    {
     "data": {
      "text/plain": [
       "0    1.04\n",
       "1    2.00\n",
       "2    2.00\n",
       "3    4.48\n",
       "4    8.08\n",
       "dtype: float64"
      ]
     },
     "execution_count": 36,
     "metadata": {},
     "output_type": "execute_result"
    }
   ],
   "source": [
    "prices = prices * .8\n",
    "prices"
   ]
  },
  {
   "cell_type": "markdown",
   "id": "c333b14d",
   "metadata": {},
   "source": [
    "## `.index`\n",
    "L'attributo `.index` restituisce informazioni sull'indice(le etichette):\n",
    "* Gli indici interi basati su zero sono l'impostazione predefinita\n",
    "* Pandas può anche usare stringhe e date come valori di indice"
   ]
  },
  {
   "cell_type": "code",
   "execution_count": 21,
   "id": "2b0bda17",
   "metadata": {},
   "outputs": [
    {
     "name": "stdout",
     "output_type": "stream",
     "text": [
      "Valori:\n",
      "Luca     100\n",
      "Anna     200\n",
      "Marta    300\n",
      "dtype: int64\n",
      "\n",
      "Indice:\n",
      "Index(['Luca', 'Anna', 'Marta'], dtype='object')\n"
     ]
    }
   ],
   "source": [
    "import pandas as pd\n",
    "\n",
    "serie = pd.Series([100, 200, 300], index=[\"Luca\", \"Anna\", \"Marta\"])\n",
    "\n",
    "print(\"Valori:\")\n",
    "print(serie)\n",
    "\n",
    "print(\"\\nIndice:\")\n",
    "print(serie.index)"
   ]
  },
  {
   "cell_type": "code",
   "execution_count": 23,
   "id": "d98b25e7",
   "metadata": {
    "scrolled": false
   },
   "outputs": [
    {
     "data": {
      "text/plain": [
       "0    7\n",
       "1    8\n",
       "2    8\n",
       "3    9\n",
       "4    9\n",
       "5    9\n",
       "dtype: int64"
      ]
     },
     "execution_count": 23,
     "metadata": {},
     "output_type": "execute_result"
    }
   ],
   "source": [
    "s = pd.Series([7, 8, 8, 9, 9, 9])\n",
    "s"
   ]
  },
  {
   "cell_type": "markdown",
   "id": "439cd5d9",
   "metadata": {},
   "source": [
    "`RangeIndex` è un tipo di indice ottimizzato e automatico che Pandas crea per gli oggetti indicizzati da 0 a N-1."
   ]
  },
  {
   "cell_type": "code",
   "execution_count": 26,
   "id": "3408cb7e",
   "metadata": {},
   "outputs": [
    {
     "data": {
      "text/plain": [
       "RangeIndex(start=0, stop=6, step=1)"
      ]
     },
     "execution_count": 26,
     "metadata": {},
     "output_type": "execute_result"
    }
   ],
   "source": [
    "s.index"
   ]
  },
  {
   "cell_type": "code",
   "execution_count": 27,
   "id": "dcc08f10",
   "metadata": {},
   "outputs": [
    {
     "data": {
      "text/plain": [
       "dtype('int64')"
      ]
     },
     "execution_count": 27,
     "metadata": {},
     "output_type": "execute_result"
    }
   ],
   "source": [
    "s.dtype"
   ]
  },
  {
   "cell_type": "markdown",
   "id": "7f511c64",
   "metadata": {},
   "source": [
    "## `.values` \n",
    "L'attributo `.values` restituisce solo i valori di un set di dati Pandas."
   ]
  },
  {
   "cell_type": "code",
   "execution_count": 29,
   "id": "dd9f8936",
   "metadata": {},
   "outputs": [
    {
     "data": {
      "text/plain": [
       "array([7, 8, 8, 9, 9, 9])"
      ]
     },
     "execution_count": 29,
     "metadata": {},
     "output_type": "execute_result"
    }
   ],
   "source": [
    "s.values"
   ]
  },
  {
   "cell_type": "markdown",
   "id": "b34b032f",
   "metadata": {},
   "source": [
    "# `.shape`\n",
    "* Su una Series, `.shape` restituisce il numero di elementi in quella serie.\n",
    "* Su un DataFrame, `.shape` restituisce il numero di righe e colonne."
   ]
  },
  {
   "cell_type": "code",
   "execution_count": 31,
   "id": "4ff066a6",
   "metadata": {},
   "outputs": [
    {
     "data": {
      "text/plain": [
       "(6,)"
      ]
     },
     "execution_count": 31,
     "metadata": {},
     "output_type": "execute_result"
    }
   ],
   "source": [
    "s.shape"
   ]
  },
  {
   "cell_type": "markdown",
   "id": "7febcdcd",
   "metadata": {},
   "source": [
    "# `.value_counts`\n",
    "Restituisce un conteggio di frequenza dei valori:\n",
    "* è esso stesso un'altra Series;\n",
    "* l'indice è il valore."
   ]
  },
  {
   "cell_type": "code",
   "execution_count": 32,
   "id": "afef0d0e",
   "metadata": {
    "scrolled": true
   },
   "outputs": [
    {
     "data": {
      "text/plain": [
       "9    3\n",
       "8    2\n",
       "7    1\n",
       "Name: count, dtype: int64"
      ]
     },
     "execution_count": 32,
     "metadata": {},
     "output_type": "execute_result"
    }
   ],
   "source": [
    "s.value_counts()"
   ]
  },
  {
   "cell_type": "markdown",
   "id": "9df0efff",
   "metadata": {},
   "source": [
    "# `.mode`\n",
    "La modalità è il valore più frequente in un set di dati"
   ]
  },
  {
   "cell_type": "code",
   "execution_count": 33,
   "id": "22e91ad8",
   "metadata": {
    "scrolled": true
   },
   "outputs": [
    {
     "data": {
      "text/plain": [
       "0    9\n",
       "dtype: int64"
      ]
     },
     "execution_count": 33,
     "metadata": {},
     "output_type": "execute_result"
    }
   ],
   "source": [
    "s.mode()"
   ]
  },
  {
   "cell_type": "markdown",
   "id": "211d9d77",
   "metadata": {},
   "source": [
    "# `.median`\n",
    "La mediana è il mezzo ordinale dei dati ordinati"
   ]
  },
  {
   "cell_type": "code",
   "execution_count": 34,
   "id": "ee047939",
   "metadata": {},
   "outputs": [
    {
     "data": {
      "text/plain": [
       "8.5"
      ]
     },
     "execution_count": 34,
     "metadata": {},
     "output_type": "execute_result"
    }
   ],
   "source": [
    "s.median()"
   ]
  },
  {
   "cell_type": "markdown",
   "id": "769b5eaa",
   "metadata": {},
   "source": [
    "# `.mean`"
   ]
  },
  {
   "cell_type": "code",
   "execution_count": 35,
   "id": "454a7dfb",
   "metadata": {
    "scrolled": true
   },
   "outputs": [
    {
     "data": {
      "text/plain": [
       "8.333333333333334"
      ]
     },
     "execution_count": 35,
     "metadata": {},
     "output_type": "execute_result"
    }
   ],
   "source": [
    "s.mean()"
   ]
  },
  {
   "cell_type": "markdown",
   "id": "e65f62cf",
   "metadata": {},
   "source": [
    "# `.std`\n",
    "La deviazione standard è una misura di dispersione"
   ]
  },
  {
   "cell_type": "code",
   "execution_count": 37,
   "id": "0aa6ebbb",
   "metadata": {},
   "outputs": [
    {
     "data": {
      "text/plain": [
       "0.816496580927726"
      ]
     },
     "execution_count": 37,
     "metadata": {},
     "output_type": "execute_result"
    }
   ],
   "source": [
    "s.std()"
   ]
  },
  {
   "cell_type": "code",
   "execution_count": 38,
   "id": "bba1e8f1",
   "metadata": {},
   "outputs": [
    {
     "data": {
      "text/plain": [
       "7"
      ]
     },
     "execution_count": 38,
     "metadata": {},
     "output_type": "execute_result"
    }
   ],
   "source": [
    "# .min Restituisce il valore più basso\n",
    "s.min()"
   ]
  },
  {
   "cell_type": "code",
   "execution_count": 39,
   "id": "be8e129d",
   "metadata": {},
   "outputs": [
    {
     "data": {
      "text/plain": [
       "0"
      ]
     },
     "execution_count": 39,
     "metadata": {},
     "output_type": "execute_result"
    }
   ],
   "source": [
    "# argmin Restituisce l'indice del valore più basso\n",
    "s.argmin()"
   ]
  },
  {
   "cell_type": "code",
   "execution_count": 40,
   "id": "39d5b294",
   "metadata": {},
   "outputs": [
    {
     "data": {
      "text/plain": [
       "9"
      ]
     },
     "execution_count": 40,
     "metadata": {},
     "output_type": "execute_result"
    }
   ],
   "source": [
    "s.max()"
   ]
  },
  {
   "cell_type": "code",
   "execution_count": 41,
   "id": "ef7f7d90",
   "metadata": {},
   "outputs": [
    {
     "data": {
      "text/plain": [
       "3"
      ]
     },
     "execution_count": 41,
     "metadata": {},
     "output_type": "execute_result"
    }
   ],
   "source": [
    "s.argmax()"
   ]
  },
  {
   "cell_type": "markdown",
   "id": "79a7702f",
   "metadata": {},
   "source": [
    "# Esercitazione\n",
    "1. Creare una Series contenente i voti di alcuni studenti.\n",
    "2. Utilizzare i metodi richiesti per analizzare i dati.\n",
    "\n",
    "* .values\n",
    "* .mean()\n",
    "* .median()\n",
    "* .shape\n",
    "* .value_counts()\n",
    "* .mode()\n",
    "* .index\n",
    "* .std()\n",
    "\n",
    "* `[28, 30, 27, 30, 25, 28, 22, 30, 30, 27]`\n",
    "* `[Anna\", \"Luca\", \"Marco\", \"Sara\", \"Paolo\", \"Giulia\", \"Elena\", \"Tommaso\", \"Viola\", \"Giorgio\"]`\n",
    "\n",
    "Attenzione alle parentesi tonde...\n",
    "\n",
    "|<br>\n",
    "|<br>\n",
    "|<br>\n",
    "|<br>\n",
    "|<br>"
   ]
  },
  {
   "cell_type": "code",
   "execution_count": 43,
   "id": "22a0bdf9",
   "metadata": {},
   "outputs": [
    {
     "name": "stdout",
     "output_type": "stream",
     "text": [
      "Valori: [28 30 27 30 25 28 22 30 30 27]\n",
      "Indice: ['Anna', 'Luca', 'Marco', 'Sara', 'Paolo', 'Giulia', 'Elena', 'Tommaso', 'Viola', 'Giorgio']\n",
      "Media (mean): 27.7\n",
      "Mediana (median): 28.0\n",
      "Deviazione standard (std): 2.62678510731274\n",
      "\n",
      "Frequenza dei voti:\n",
      "30    4\n",
      "28    2\n",
      "27    2\n",
      "25    1\n",
      "22    1\n",
      "Name: count, dtype: int64\n",
      "Moda (voto più frequente):\n",
      "0    30\n",
      "dtype: int64\n",
      "Forma della Serie (shape): (10,)\n"
     ]
    }
   ],
   "source": [
    "import pandas as pd\n",
    "\n",
    "# 1. Serie di voti\n",
    "voti = pd.Series([28, 30, 27, 30, 25, 28, 22, 30, 30, 27],\n",
    "                 index=[\"Anna\", \"Luca\", \"Marco\", \"Sara\", \"Paolo\", \"Giulia\", \"Elena\", \"Tommaso\", \"Viola\", \"Giorgio\"])\n",
    "\n",
    "# 2. Visualizza valori e indice\n",
    "print(\"Valori:\", voti.values)\n",
    "print(\"Indice:\", voti.index.tolist())\n",
    "\n",
    "# 3. Statistiche\n",
    "print(\"Media (mean):\", voti.mean())\n",
    "print(\"Mediana (median):\", voti.median())\n",
    "print(\"Deviazione standard (std):\", voti.std())\n",
    "\n",
    "# 4. Conteggio voti\n",
    "print(\"\\nFrequenza dei voti:\")\n",
    "print(voti.value_counts())\n",
    "\n",
    "# 5. Voto più frequente (moda)\n",
    "print(\"Moda (voto più frequente):\")\n",
    "print(voti.mode())\n",
    "\n",
    "# 6. Dimensione\n",
    "print(\"Forma della Serie (shape):\", voti.shape)"
   ]
  },
  {
   "cell_type": "markdown",
   "id": "8a57b240",
   "metadata": {},
   "source": [
    "# `.describe`\n",
    "Restituisce alcune utili statistiche descrittive"
   ]
  },
  {
   "cell_type": "code",
   "execution_count": 45,
   "id": "cbd3d910",
   "metadata": {},
   "outputs": [
    {
     "data": {
      "text/plain": [
       "count    6.000000\n",
       "mean     8.333333\n",
       "std      0.816497\n",
       "min      7.000000\n",
       "25%      8.000000\n",
       "50%      8.500000\n",
       "75%      9.000000\n",
       "max      9.000000\n",
       "dtype: float64"
      ]
     },
     "execution_count": 45,
     "metadata": {},
     "output_type": "execute_result"
    }
   ],
   "source": [
    "s.describe()"
   ]
  },
  {
   "cell_type": "markdown",
   "id": "5f8f9495",
   "metadata": {},
   "source": [
    "### Esercitiamoci!\n",
    "- Crea una Series chiamata `a` con `[1, 2, 3, 4, 5]`\n",
    "- Crea una Series chiamata `b` con `[1, 1, 2, 3, 5]`\n",
    "- Fai il quadrato di  `a` e reassegnalo alla variabile `a`\n",
    "- Fai il quadrato `b` e reassegnalo alla variabile `b`\n",
    "- Somma i quadrati di `a` e `b` ed assegna la variabile chiamata `sum_of_squares`\n",
    "- Fai la radice quadrato di quella somma (*suggerimento* l'elevamento alla 0.5 potenza è la radice quadrata)\n",
    "\n",
    "|<br>\n",
    "|<br>\n",
    "|<br>\n",
    "|<br>\n",
    "|<br>\n",
    "|<br>\n",
    "|<br>\n",
    "|<br>\n",
    "|<br>\n",
    "|<br>\n",
    "|<br>\n",
    "|<br>\n",
    "|<br>\n",
    "|<br>\n",
    "|<br>"
   ]
  },
  {
   "cell_type": "code",
   "execution_count": 47,
   "id": "5c8920ad",
   "metadata": {},
   "outputs": [
    {
     "data": {
      "text/plain": [
       "0    1\n",
       "1    2\n",
       "2    3\n",
       "3    4\n",
       "4    5\n",
       "dtype: int64"
      ]
     },
     "execution_count": 47,
     "metadata": {},
     "output_type": "execute_result"
    }
   ],
   "source": [
    "import pandas as pd\n",
    "\n",
    "a=pd.Series([1,2,3,4,5])\n",
    "a"
   ]
  },
  {
   "cell_type": "code",
   "execution_count": 48,
   "id": "701d878e",
   "metadata": {},
   "outputs": [
    {
     "data": {
      "text/plain": [
       "0    1\n",
       "1    1\n",
       "2    2\n",
       "3    3\n",
       "4    5\n",
       "dtype: int64"
      ]
     },
     "execution_count": 48,
     "metadata": {},
     "output_type": "execute_result"
    }
   ],
   "source": [
    "b=pd.Series([1,1,2,3,5])\n",
    "b"
   ]
  },
  {
   "cell_type": "code",
   "execution_count": 49,
   "id": "2dcb3e40",
   "metadata": {},
   "outputs": [
    {
     "data": {
      "text/plain": [
       "0     1\n",
       "1     4\n",
       "2     9\n",
       "3    16\n",
       "4    25\n",
       "dtype: int64"
      ]
     },
     "execution_count": 49,
     "metadata": {},
     "output_type": "execute_result"
    }
   ],
   "source": [
    "a=a**2\n",
    "a"
   ]
  },
  {
   "cell_type": "code",
   "execution_count": 50,
   "id": "5ac5f690",
   "metadata": {},
   "outputs": [
    {
     "data": {
      "text/plain": [
       "0     1\n",
       "1     1\n",
       "2     4\n",
       "3     9\n",
       "4    25\n",
       "dtype: int64"
      ]
     },
     "execution_count": 50,
     "metadata": {},
     "output_type": "execute_result"
    }
   ],
   "source": [
    "b=b**2\n",
    "b"
   ]
  },
  {
   "cell_type": "code",
   "execution_count": 51,
   "id": "e96b07fd",
   "metadata": {},
   "outputs": [
    {
     "data": {
      "text/plain": [
       "0     2\n",
       "1     5\n",
       "2    13\n",
       "3    25\n",
       "4    50\n",
       "dtype: int64"
      ]
     },
     "execution_count": 51,
     "metadata": {},
     "output_type": "execute_result"
    }
   ],
   "source": [
    "sum_of_squares= a+b\n",
    "sum_of_squares"
   ]
  },
  {
   "cell_type": "code",
   "execution_count": 52,
   "id": "5ad7ab47",
   "metadata": {},
   "outputs": [
    {
     "data": {
      "text/plain": [
       "0    1.414214\n",
       "1    2.236068\n",
       "2    3.605551\n",
       "3    5.000000\n",
       "4    7.071068\n",
       "dtype: float64"
      ]
     },
     "execution_count": 52,
     "metadata": {},
     "output_type": "execute_result"
    }
   ],
   "source": [
    "sum_of_squares ** (1/2)"
   ]
  },
  {
   "cell_type": "code",
   "execution_count": null,
   "id": "60e88a95",
   "metadata": {},
   "outputs": [],
   "source": []
  }
 ],
 "metadata": {
  "kernelspec": {
   "display_name": "Python 3 (ipykernel)",
   "language": "python",
   "name": "python3"
  },
  "language_info": {
   "codemirror_mode": {
    "name": "ipython",
    "version": 3
   },
   "file_extension": ".py",
   "mimetype": "text/x-python",
   "name": "python",
   "nbconvert_exporter": "python",
   "pygments_lexer": "ipython3",
   "version": "3.9.7"
  }
 },
 "nbformat": 4,
 "nbformat_minor": 5
}
