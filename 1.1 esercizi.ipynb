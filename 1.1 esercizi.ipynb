{
 "cells": [
  {
   "cell_type": "markdown",
   "id": "16e80ab9",
   "metadata": {},
   "source": [
    "# Esempi"
   ]
  },
  {
   "cell_type": "code",
   "execution_count": null,
   "id": "8562b393",
   "metadata": {},
   "outputs": [],
   "source": []
  },
  {
   "cell_type": "code",
   "execution_count": 27,
   "id": "472aad28",
   "metadata": {},
   "outputs": [
    {
     "name": "stdout",
     "output_type": "stream",
     "text": [
      "Bentrovati alla prima lezione di Python\n",
      "Come ti chiami? \n",
      "Piacere di conoscerti \n"
     ]
    }
   ],
   "source": [
    "print(\"Bentrovati alla prima lezione di Python\")\n",
    "name = input(\"Come ti chiami? \")\n",
    "print(\"Piacere di conoscerti\", name)"
   ]
  },
  {
   "cell_type": "code",
   "execution_count": null,
   "id": "83574739",
   "metadata": {},
   "outputs": [],
   "source": []
  },
  {
   "cell_type": "code",
   "execution_count": 28,
   "id": "72f5566e",
   "metadata": {},
   "outputs": [],
   "source": [
    "def func_name():\n",
    "    print(\"Bentrovati alla prima lezione di Python\")\n",
    "    name = input(\"Come ti chiami? \")\n",
    "    print(\"Piacere di conoscerti\", name)"
   ]
  },
  {
   "cell_type": "code",
   "execution_count": 29,
   "id": "8a2c2759",
   "metadata": {},
   "outputs": [
    {
     "name": "stdout",
     "output_type": "stream",
     "text": [
      "Bentrovati alla prima lezione di Python\n",
      "Come ti chiami? emiliano\n",
      "Piacere di conoscerti emiliano\n"
     ]
    }
   ],
   "source": [
    "func_name()"
   ]
  },
  {
   "cell_type": "code",
   "execution_count": null,
   "id": "051cbf01",
   "metadata": {},
   "outputs": [],
   "source": []
  },
  {
   "cell_type": "code",
   "execution_count": 30,
   "id": "ac5f0191",
   "metadata": {},
   "outputs": [
    {
     "name": "stdout",
     "output_type": "stream",
     "text": [
      "Ciao! Questo è un programma che ti dice quanti anni avrai in futuro.\n",
      "Come ti chiami? emiliano\n",
      "Quanti anni hai? 3\n",
      "Tra quanti anni vuoi sapere la tua età? 24\n",
      "Ciao emiliano, tra 24 anni avrai 27 anni!\n"
     ]
    }
   ],
   "source": [
    "print(\"Ciao! Questo è un programma che ti dice quanti anni avrai in futuro.\")\n",
    "nome = input(\"Come ti chiami? \")\n",
    "eta = int(input(\"Quanti anni hai? \"))\n",
    "anni_dopo = int(input(\"Tra quanti anni vuoi sapere la tua età? \"))\n",
    "\n",
    "eta_futura = eta + anni_dopo\n",
    "\n",
    "print(\"Ciao\", nome + \", tra\", anni_dopo, \"anni avrai\", eta_futura, \"anni!\")"
   ]
  },
  {
   "cell_type": "code",
   "execution_count": 31,
   "id": "e2e0abe4",
   "metadata": {},
   "outputs": [],
   "source": [
    "def eta_futura():\n",
    "    print(\"Ciao! Questo è un programma che ti dice quanti anni avrai in futuro.\")\n",
    "    nome = input(\"Come ti chiami? \")\n",
    "    eta = int(input(\"Quanti anni hai? \"))\n",
    "    anni_dopo = int(input(\"Tra quanti anni vuoi sapere la tua età? \"))\n",
    "    eta_futura = eta + anni_dopo\n",
    "    print(\"Ciao\", nome + \", tra\", anni_dopo, \"anni avrai\", eta_futura, \"anni!\")\n",
    "    return eta_futura"
   ]
  },
  {
   "cell_type": "code",
   "execution_count": null,
   "id": "afb527c3",
   "metadata": {},
   "outputs": [
    {
     "name": "stdout",
     "output_type": "stream",
     "text": [
      "Ciao! Questo è un programma che ti dice quanti anni avrai in futuro.\n"
     ]
    }
   ],
   "source": [
    "eta_futura()"
   ]
  },
  {
   "cell_type": "code",
   "execution_count": null,
   "id": "47cc6bc9",
   "metadata": {},
   "outputs": [],
   "source": []
  },
  {
   "cell_type": "code",
   "execution_count": null,
   "id": "d844de82",
   "metadata": {},
   "outputs": [],
   "source": []
  },
  {
   "cell_type": "code",
   "execution_count": null,
   "id": "a05476a2",
   "metadata": {},
   "outputs": [],
   "source": []
  },
  {
   "cell_type": "code",
   "execution_count": null,
   "id": "5d986e38",
   "metadata": {},
   "outputs": [],
   "source": []
  },
  {
   "cell_type": "code",
   "execution_count": null,
   "id": "33c47b27",
   "metadata": {},
   "outputs": [],
   "source": []
  },
  {
   "cell_type": "code",
   "execution_count": 17,
   "id": "8e6296bb",
   "metadata": {},
   "outputs": [],
   "source": [
    "import math \n",
    "from math import sqrt\n",
    "\n",
    "def hypotenuse(a,b):\n",
    "    c = sqrt(a ** 2 +  ** 2)\n",
    "    return c"
   ]
  },
  {
   "cell_type": "code",
   "execution_count": 18,
   "id": "6d54c083",
   "metadata": {},
   "outputs": [
    {
     "name": "stdout",
     "output_type": "stream",
     "text": [
      "Primo lato:3\n",
      "Secondo lato:4\n",
      "Il terzo lato è:  5.0\n"
     ]
    }
   ],
   "source": [
    "side1 = float(input(\"Primo lato:\" ))\n",
    "side2 = float(input(\"Secondo lato:\" ))\n",
    "side3 = hypotenuse(side1, side2)\n",
    "print(\"Il terzo lato è: \", side3)"
   ]
  },
  {
   "cell_type": "code",
   "execution_count": null,
   "id": "03b9f700",
   "metadata": {},
   "outputs": [],
   "source": []
  },
  {
   "cell_type": "code",
   "execution_count": 20,
   "id": "f70d938a",
   "metadata": {},
   "outputs": [
    {
     "name": "stdout",
     "output_type": "stream",
     "text": [
      "Ipotenusa è:  9.848857801796104\n",
      "Perimetro è:  22.848857801796104\n"
     ]
    }
   ],
   "source": [
    "import math\n",
    "from math import sqrt\n",
    "\n",
    "def triangle_info(a,b):\n",
    "    c = sqrt(a ** 2 + b ** 2) # calcolo ipotenusa\n",
    "    perimeter = a + b + c # calcolo il perimetro del triangolo rettangolo\n",
    "    return(c,perimeter) # restituisco la tupla con ipotenusa e perimetro\n",
    "\n",
    "# scompattiamo i risultati\n",
    "ipotenusa, perimetro = triangle_info(4,9)\n",
    "print(\"Ipotenusa è: \", ipotenusa)\n",
    "print(\"Perimetro è: \", perimetro)"
   ]
  },
  {
   "cell_type": "code",
   "execution_count": null,
   "id": "12230362",
   "metadata": {},
   "outputs": [],
   "source": []
  },
  {
   "cell_type": "code",
   "execution_count": 21,
   "id": "c75fbcef",
   "metadata": {},
   "outputs": [
    {
     "name": "stdout",
     "output_type": "stream",
     "text": [
      "Ipotenusa: 5.0\n",
      "Perimetro: 12.0\n",
      "Area: 6.0\n"
     ]
    }
   ],
   "source": [
    "import math\n",
    "from math import sqrt\n",
    "\n",
    "def triangle_info(a, b):\n",
    "    c = sqrt(a ** 2 + b ** 2)        # Ipotenusa\n",
    "    perimeter = a + b + c            # Perimetro\n",
    "    area = (a * b) / 2               # Area del triangolo rettangolo\n",
    "    return {\n",
    "        \"ipotenusa\": c,\n",
    "        \"perimetro\": perimeter,\n",
    "        \"area\": area\n",
    "    }\n",
    "\n",
    "# Uso della funzione\n",
    "info = triangle_info(3, 4)\n",
    "\n",
    "print(\"Ipotenusa:\", info[\"ipotenusa\"])\n",
    "print(\"Perimetro:\", info[\"perimetro\"])\n",
    "print(\"Area:\", info[\"area\"])\n"
   ]
  },
  {
   "cell_type": "code",
   "execution_count": null,
   "id": "0d47b6a7",
   "metadata": {},
   "outputs": [],
   "source": []
  },
  {
   "cell_type": "code",
   "execution_count": null,
   "id": "b6eb2d60",
   "metadata": {},
   "outputs": [],
   "source": []
  },
  {
   "cell_type": "code",
   "execution_count": null,
   "id": "b67a3179",
   "metadata": {},
   "outputs": [],
   "source": []
  },
  {
   "cell_type": "code",
   "execution_count": null,
   "id": "f6d3655b",
   "metadata": {},
   "outputs": [],
   "source": []
  },
  {
   "cell_type": "code",
   "execution_count": null,
   "id": "426d8220",
   "metadata": {},
   "outputs": [],
   "source": []
  },
  {
   "cell_type": "code",
   "execution_count": null,
   "id": "ad1b702b",
   "metadata": {},
   "outputs": [],
   "source": []
  },
  {
   "cell_type": "markdown",
   "id": "ea9f7a66",
   "metadata": {},
   "source": [
    "# Calcolo del valore totale del magazzino\n",
    "**Obiettivo:**\n",
    "- Scrivi una funzione che, data una lista di prodotti in magazzino con il prezzo unitario e la quantità disponibile, calcola il valore totale del magazzino."
   ]
  },
  {
   "cell_type": "code",
   "execution_count": 14,
   "id": "d85dff1d",
   "metadata": {},
   "outputs": [
    {
     "name": "stdout",
     "output_type": "stream",
     "text": [
      "3200.0\n"
     ]
    }
   ],
   "source": [
    "def valore_magazzino(prodotti): # prende in input la lista prodotti.\n",
    "    totale = 0 # inizializzo la variabile a zero\n",
    "               # variabile servirà per accumulare il valore totale del magazzino.\n",
    "    for prodotto in prodotti: # ciclo for scorre tutti gli elementi della lista prodotti\n",
    "                              # Ad ogni iterazione, la variabile prodotto conterrà un singolo dizionario.\n",
    "        prezzo = prodotto['prezzo'] # estraggo i valori dal dizionario associati chiave\n",
    "        quantita = prodotto['quantita']\n",
    "        totale += prezzo * quantita # il valore viene aggiunto alla variabile\n",
    "    return totale\n",
    "\n",
    "# Esempio di test\n",
    "magazzino = [\n",
    "    {'prezzo': 10.5, 'quantita': 100}, #  Ogni elemento è un dizionario\n",
    "    {'prezzo': 25.0, 'quantita': 40},\n",
    "    {'prezzo': 5.75, 'quantita': 200}\n",
    "]\n",
    "\n",
    "print(valore_magazzino(magazzino))  # Output atteso: 100 * 10.5 + 40 * 25 + 200 * 5.75"
   ]
  },
  {
   "cell_type": "code",
   "execution_count": null,
   "id": "0d24d81f",
   "metadata": {},
   "outputs": [],
   "source": []
  },
  {
   "cell_type": "code",
   "execution_count": null,
   "id": "1de91a1c",
   "metadata": {},
   "outputs": [],
   "source": []
  },
  {
   "cell_type": "code",
   "execution_count": null,
   "id": "4ea8c840",
   "metadata": {},
   "outputs": [],
   "source": []
  },
  {
   "cell_type": "code",
   "execution_count": null,
   "id": "67e5eeba",
   "metadata": {},
   "outputs": [],
   "source": []
  },
  {
   "cell_type": "code",
   "execution_count": null,
   "id": "77667502",
   "metadata": {},
   "outputs": [],
   "source": []
  },
  {
   "cell_type": "code",
   "execution_count": null,
   "id": "54290c76",
   "metadata": {},
   "outputs": [],
   "source": []
  },
  {
   "cell_type": "code",
   "execution_count": null,
   "id": "92154ed8",
   "metadata": {},
   "outputs": [],
   "source": []
  },
  {
   "cell_type": "code",
   "execution_count": null,
   "id": "4eaf4320",
   "metadata": {},
   "outputs": [],
   "source": []
  },
  {
   "cell_type": "code",
   "execution_count": null,
   "id": "6463ac52",
   "metadata": {},
   "outputs": [],
   "source": []
  },
  {
   "cell_type": "markdown",
   "id": "ecf4aab5",
   "metadata": {},
   "source": [
    "# Esercitazione 1\n",
    "**Obiettivo:**\n",
    "- Scrivi una funzione che riceva in input le lunghezze dei due cateti e restituisca l’area del triangolo rettangolo.\n",
    "\n",
    "**Formula:**\n",
    "- Area = (cateto1 × cateto2) / 2"
   ]
  },
  {
   "cell_type": "code",
   "execution_count": null,
   "id": "dd07c149",
   "metadata": {},
   "outputs": [],
   "source": [
    "def triangle_area(base, height):\n",
    "    # Calcola e restituisce l'area del triangolo rettangolo\n",
    "    return area\n",
    "\n",
    "# Esempio di test\n",
    "print(triangle_area(3, 4)) \n"
   ]
  },
  {
   "cell_type": "markdown",
   "id": "4e5c133b",
   "metadata": {},
   "source": [
    "|<br>\n",
    "|<br>\n",
    "|<br>\n",
    "|<br>\n",
    "|<br>\n",
    "|<br>\n",
    "|<br>\n",
    "|<br>\n",
    "|<br>\n",
    "|<br>"
   ]
  },
  {
   "cell_type": "code",
   "execution_count": 2,
   "id": "30d12591",
   "metadata": {},
   "outputs": [
    {
     "name": "stdout",
     "output_type": "stream",
     "text": [
      "6.0\n"
     ]
    }
   ],
   "source": [
    "def triangle_area(base, height):\n",
    "    # Calcola e restituisce l'area del triangolo rettangolo\n",
    "    area = (base * height) / 2\n",
    "    return area\n",
    "\n",
    "# Esempio di test\n",
    "print(triangle_area(3, 4)) \n"
   ]
  },
  {
   "cell_type": "markdown",
   "id": "9d69a00a",
   "metadata": {},
   "source": [
    "# Esercitazione 2 – Calcolo del valore totale del magazzino\n",
    "**Obiettivo:**\n",
    "- Scrivere una funzione che riceva la quantità e il prezzo unitario di un prodotto e restituisca il valore totale a magazzino."
   ]
  },
  {
   "cell_type": "code",
   "execution_count": null,
   "id": "013f2bbe",
   "metadata": {},
   "outputs": [],
   "source": [
    "def valore_magazzino(quantita, prezzo_unitario):\n",
    "    # inserisci il codice\n",
    "    return totale\n",
    "\n",
    "# Esempio di test\n",
    "print(valore_magazzino(150, 12.5))  \n"
   ]
  },
  {
   "cell_type": "markdown",
   "id": "93c2153d",
   "metadata": {},
   "source": [
    "|<br>\n",
    "|<br>\n",
    "|<br>\n",
    "|<br>\n",
    "|<br>\n",
    "|<br>\n",
    "|<br>\n",
    "|<br>\n",
    "|<br>\n",
    "|<br>"
   ]
  },
  {
   "cell_type": "code",
   "execution_count": null,
   "id": "f90adb48",
   "metadata": {},
   "outputs": [],
   "source": [
    "def valore_magazzino(quantita, prezzo_unitario):\n",
    "    totale = quantita * prezzo_unitario\n",
    "    return totale\n",
    "\n",
    "# Esempio di test\n",
    "print(valore_magazzino(150, 12.5))  # Output atteso: 1875.0\n"
   ]
  },
  {
   "cell_type": "markdown",
   "id": "c32bdc52",
   "metadata": {},
   "source": [
    "# Esercitazione 3 – Verifica capacità di carico TIR\n",
    "**Obiettivo:**\n",
    "- Scrivere una funzione che verifica se il peso totale della merce da caricare è compatibile con la capacità massima del TIR."
   ]
  },
  {
   "cell_type": "code",
   "execution_count": null,
   "id": "341af5e1",
   "metadata": {},
   "outputs": [],
   "source": [
    "def verifica_carico(peso_totale, capacita_tir):\n",
    "    if # inserisci codice\n",
    "        # inserisci codice\n",
    "    else:\n",
    "        return \"Supera la capacità del TIR\"\n",
    "\n",
    "# Esempio di test\n",
    "print(verifica_carico(9500, 10000))  # Output atteso: Carico accettabile\n",
    "print(verifica_carico(10500, 10000)) # Output atteso: Supera la capacità del TIR\n"
   ]
  },
  {
   "cell_type": "markdown",
   "id": "87158d36",
   "metadata": {},
   "source": [
    "|<br>\n",
    "|<br>\n",
    "|<br>\n",
    "|<br>\n",
    "|<br>\n",
    "|<br>\n",
    "|<br>\n",
    "|<br>\n",
    "|<br>\n",
    "|<br>"
   ]
  },
  {
   "cell_type": "code",
   "execution_count": 8,
   "id": "aeadcf0e",
   "metadata": {},
   "outputs": [
    {
     "name": "stdout",
     "output_type": "stream",
     "text": [
      "Carico accettabile\n",
      "Supera la capacità del TIR\n"
     ]
    }
   ],
   "source": [
    "def verifica_carico(peso_totale, capacita_tir):\n",
    "    if peso_totale <= capacita_tir:\n",
    "        return \"Carico accettabile\"\n",
    "    else:\n",
    "        return \"Supera la capacità del TIR\"\n",
    "\n",
    "# Esempio di test\n",
    "print(verifica_carico(9500, 10000))  # Output atteso: Carico accettabile\n",
    "print(verifica_carico(10500, 10000)) # Output atteso: Supera la capacità del TIR\n"
   ]
  },
  {
   "cell_type": "markdown",
   "id": "5d0c0489",
   "metadata": {},
   "source": [
    "# Esercitazione 4 – Calcolo rotazione magazzino\n",
    "**Obiettivo:**\n",
    "- Calcolare l’indice di rotazione del magazzino, cioè quante volte in un anno un certo prodotto è stato interamente venduto e rimpiazzato.\n",
    "\n",
    "**Formula:**\n",
    "- Rotazione = Vendite annue / Giacenza media"
   ]
  },
  {
   "cell_type": "code",
   "execution_count": null,
   "id": "2e639c67",
   "metadata": {},
   "outputs": [],
   "source": [
    "def rotazione_magazzino(vendite_annue, giacenza_media):\n",
    "    ## inserisci codice\n",
    "\n",
    "# Esempio di test\n",
    "print(rotazione_magazzino(10000, 2500))  # Output atteso: 4.0\n"
   ]
  },
  {
   "cell_type": "markdown",
   "id": "d4d19b7a",
   "metadata": {},
   "source": [
    "|<br>\n",
    "|<br>\n",
    "|<br>\n",
    "|<br>\n",
    "|<br>\n",
    "|<br>\n",
    "|<br>\n",
    "|<br>\n",
    "|<br>\n",
    "|<br>"
   ]
  },
  {
   "cell_type": "code",
   "execution_count": null,
   "id": "f7a24c3b",
   "metadata": {},
   "outputs": [],
   "source": [
    "def rotazione_magazzino(vendite_annue, giacenza_media):\n",
    "    if giacenza_media == 0:\n",
    "        return \"Errore: giacenza media nulla\"\n",
    "    rotazione = vendite_annue / giacenza_media\n",
    "    return rotazione\n",
    "\n",
    "# Esempio di test\n",
    "print(rotazione_magazzino(10000, 2500))  # Output atteso: 4.0\n"
   ]
  },
  {
   "cell_type": "markdown",
   "id": "be64486c",
   "metadata": {},
   "source": [
    "# Esercitazione 5 – Pianificazione consegne e consumo carburante\n",
    "**Obiettivo:**\n",
    "- Scrivi una funzione che calcola il consumo totale previsto di carburante per una lista di tratte da effettuare da una flotta TIR, dato un consumo medio per km."
   ]
  },
  {
   "cell_type": "code",
   "execution_count": null,
   "id": "1b62502f",
   "metadata": {},
   "outputs": [],
   "source": [
    "def consumo_totale(tratte_km, consumo_km_litro):\n",
    "    # inserisci codice\n",
    "    for # inserisci codice\n",
    "        # inserisci codice\n",
    "    return consumo\n",
    "\n",
    "# Esempio di test\n",
    "tratte = [120, 250, 90]  # km\n",
    "consumo_medio = 3.5  # km per litro\n",
    "\n",
    "print(consumo_totale(tratte, consumo_medio))  # Output atteso: (120+250+90)/3.5\n"
   ]
  },
  {
   "cell_type": "markdown",
   "id": "4a1cd369",
   "metadata": {},
   "source": [
    "|<br>\n",
    "|<br>\n",
    "|<br>\n",
    "|<br>\n",
    "|<br>\n",
    "|<br>\n",
    "|<br>\n",
    "|<br>\n",
    "|<br>\n",
    "|<br>"
   ]
  },
  {
   "cell_type": "code",
   "execution_count": null,
   "id": "ae2e68b9",
   "metadata": {},
   "outputs": [],
   "source": [
    "def consumo_totale(tratte_km, consumo_km_litro):\n",
    "    consumo = 0\n",
    "    for km in tratte_km:\n",
    "        consumo += km / consumo_km_litro\n",
    "    return consumo\n",
    "\n",
    "# Esempio di test\n",
    "tratte = [120, 250, 90]  # km\n",
    "consumo_medio = 3.5  # km per litro\n",
    "\n",
    "print(consumo_totale(tratte, consumo_medio))  # Output atteso: (120+250+90)/3.5\n"
   ]
  },
  {
   "cell_type": "code",
   "execution_count": null,
   "id": "34ac52a8",
   "metadata": {},
   "outputs": [],
   "source": []
  },
  {
   "cell_type": "markdown",
   "id": "792258cf",
   "metadata": {},
   "source": [
    "# Obiettivo della funzione di regressione lineare\n",
    "Calcolare i parametri della retta di regressione lineare y = m * x + q che meglio approssima una serie di punti (x, y) usando il **metodo dei minimi quadrati**.\n",
    "\n",
    "> Senza librerie esterne, senza l'uso di librerie esterne come scikit-learn o numpy.\n",
    "\n",
    "Significato dei parametri:\n",
    "- `x`: lista o array di valori indipendenti (variabile esplicativa).\n",
    "- `y`: lista o array di valori dipendenti (variabile da prevedere)."
   ]
  },
  {
   "cell_type": "code",
   "execution_count": 1,
   "id": "8473ac56",
   "metadata": {},
   "outputs": [],
   "source": [
    "def linear_regression(x, y):\n",
    "    n = len(x)\n",
    "    # Calcola il numero di dati (n) presenti in x e y \n",
    "    # (si assume che abbiano la stessa lunghezza).\n",
    "    \n",
    "    mean_x = sum(x) / n\n",
    "    mean_y = sum(y) / n\n",
    "    \n",
    "    # Calcola la media aritmetica dei dati di x e y. \n",
    "    # Serve per il calcolo delle deviazioni dai valori medi.\n",
    "\n",
    "    numeratore = sum((x[i] - mean_x) * (y[i] - mean_y) for i in range(n))\n",
    "    # numeratore della formula del coefficiente angolare m:\n",
    "    # misura la covarianza tra x e y\n",
    "    \n",
    "    denominatore = sum((x[i] - mean_x) ** 2 for i in range(n))\n",
    "    # denominatore della formula di m\n",
    "    # calcola la varianza di x.\n",
    "\n",
    "    m = numeratore / denominatore\n",
    "    # coefficiente angolare m, cioè quanto cresce y al crescere di x\n",
    "    q = mean_y - m * mean_x\n",
    "    # Calcola l’intercetta q, cioè il valore di y quando x = 0.\n",
    "\n",
    "    return m, q\n",
    "\n",
    "# La funzione restituisce la coppia (m, q), i parametri della retta che approssima \n",
    "# al meglio la relazione tra x e y."
   ]
  },
  {
   "cell_type": "code",
   "execution_count": 2,
   "id": "0e157818",
   "metadata": {},
   "outputs": [
    {
     "name": "stdout",
     "output_type": "stream",
     "text": [
      "Retta: y = 0.60x + 2.20\n"
     ]
    }
   ],
   "source": [
    "x = [1, 2, 3, 4, 5] # lista di dati\n",
    "y = [2, 4, 5, 4, 5] # lista di dati\n",
    "\n",
    "m, q = linear_regression(x, y)\n",
    "print(f\"Retta: y = {m:.2f}x + {q:.2f}\")\n"
   ]
  },
  {
   "cell_type": "markdown",
   "id": "fa35a821",
   "metadata": {},
   "source": [
    "### La regressione lineare serve a trovare la relazione tra due variabili. \n",
    "\n",
    "### 1. Trovare la relazione tra due variabili: ci permette di capire come una variable influenza l'altra.\n",
    "\n",
    "**Esempio:** \n",
    "Se aumentano le ore di studio (x), aumentano i voti agli esami (y)?\n",
    "La regressione trova la retta che meglio descrive questa relazione\n",
    "\n",
    "### 2. Fare previsioni\n",
    "\n",
    "**Esempio:**\n",
    "Una volta trovata la retta y= mx + q, la possiamo utilizzare per prevedere il valore di y dato un nuovo valore di x.\n",
    "Se so che una persona ha studiato 10 ore, posso prevedere il suo voto all’esame.\n",
    "\n",
    "### 3. Quantificare l’effetto\n",
    "\n",
    "**Esempio:**\n",
    "Il coefficiente m ti dice quanto cambia y ogni volta che x aumenta di 1.\n",
    "Se m = 2.5, vuol dire che ogni ora in più di studio porta, in media, a un aumento di 2.5 punti nel voto.\n"
   ]
  },
  {
   "cell_type": "code",
   "execution_count": 3,
   "id": "855abb08",
   "metadata": {},
   "outputs": [],
   "source": [
    "prodotti = [100, 200, 300, 400, 500]\n",
    "costi =    [1500, 2300, 3100, 3900, 4700]  # euro"
   ]
  },
  {
   "cell_type": "code",
   "execution_count": 4,
   "id": "1f823182",
   "metadata": {},
   "outputs": [
    {
     "name": "stdout",
     "output_type": "stream",
     "text": [
      "Equazione: costo = 8.00 * prodotti + 700.00\n",
      "Per 600 prodotti, il costo previsto è: 5500.00 €\n"
     ]
    }
   ],
   "source": [
    "m, q = linear_regression(prodotti, costi)\n",
    "\n",
    "# Prevedi il costo per 600 prodotti\n",
    "prodotti_nuovi = 600\n",
    "costo_previsto = m * prodotti_nuovi + q\n",
    "\n",
    "print(f\"Equazione: costo = {m:.2f} * prodotti + {q:.2f}\")\n",
    "print(f\"Per 600 prodotti, il costo previsto è: {costo_previsto:.2f} €\")\n"
   ]
  },
  {
   "cell_type": "markdown",
   "id": "7c497fdf",
   "metadata": {},
   "source": [
    "### Trasforma delle istruzioni in una funzione"
   ]
  },
  {
   "cell_type": "code",
   "execution_count": null,
   "id": "10346322",
   "metadata": {},
   "outputs": [],
   "source": []
  },
  {
   "cell_type": "code",
   "execution_count": null,
   "id": "a05fdd6b",
   "metadata": {},
   "outputs": [],
   "source": []
  },
  {
   "cell_type": "markdown",
   "id": "46dbc36a",
   "metadata": {},
   "source": [
    "### Una funzione che prende un parametro"
   ]
  },
  {
   "cell_type": "code",
   "execution_count": 53,
   "id": "8bee0a6d",
   "metadata": {},
   "outputs": [],
   "source": [
    "def func_name(greeting):\n",
    "    print(\"Bentrovati alla prima lezione di Python\")\n",
    "    name = input(\"Come ti chiami? \")\n",
    "    print(greeting, name)"
   ]
  },
  {
   "cell_type": "code",
   "execution_count": 54,
   "id": "7cddf2b1",
   "metadata": {},
   "outputs": [
    {
     "name": "stdout",
     "output_type": "stream",
     "text": [
      "Bentrovati alla prima lezione di Python\n",
      "Come ti chiami? Emiliano Citarella\n",
      "Piacere di vederti Emiliano Citarella\n"
     ]
    }
   ],
   "source": [
    "func_name(\"Piacere di vederti\")"
   ]
  },
  {
   "cell_type": "markdown",
   "id": "a71140e7",
   "metadata": {},
   "source": [
    "### Una funzione che restituisce un valore"
   ]
  },
  {
   "cell_type": "code",
   "execution_count": 55,
   "id": "709b2c26",
   "metadata": {},
   "outputs": [
    {
     "name": "stdout",
     "output_type": "stream",
     "text": [
      "729\n"
     ]
    }
   ],
   "source": [
    "def cube(x):\n",
    "    return x*x*x\n",
    "\n",
    "result = cube(9)\n",
    "print(result)"
   ]
  },
  {
   "cell_type": "markdown",
   "id": "4d6d382f",
   "metadata": {},
   "source": [
    "### Una funzione con valore predefinito per un parametro"
   ]
  },
  {
   "cell_type": "code",
   "execution_count": 58,
   "id": "4a8770e3",
   "metadata": {},
   "outputs": [],
   "source": [
    "def hello_func(greeting, name=None):\n",
    "    print(\"Bentrovato \")\n",
    "    if name == None:\n",
    "        name = input(\"Come ti chiami? \")\n",
    "    print(greeting, name)"
   ]
  },
  {
   "cell_type": "code",
   "execution_count": 61,
   "id": "c2cbc43b",
   "metadata": {},
   "outputs": [
    {
     "name": "stdout",
     "output_type": "stream",
     "text": [
      "Bentrovato \n",
      "Piacere di conoscerti Emiliano \n"
     ]
    }
   ],
   "source": [
    "hello_func(\"Piacere di conoscerti\", \"Emiliano \") # input nello stesso ordine dei parametri"
   ]
  },
  {
   "cell_type": "code",
   "execution_count": 60,
   "id": "280aef1f",
   "metadata": {},
   "outputs": [
    {
     "name": "stdout",
     "output_type": "stream",
     "text": [
      "Bentrovato \n",
      "Come ti chiami? Emiliano Citarella\n",
      "Piacere di conoscerti Emiliano Citarella\n"
     ]
    }
   ],
   "source": [
    "hello_func(\"Piacere di conoscerti\")"
   ]
  },
  {
   "cell_type": "markdown",
   "id": "b74b280a",
   "metadata": {},
   "source": [
    "### Funzione con un numero variabile di parametri"
   ]
  },
  {
   "cell_type": "code",
   "execution_count": 65,
   "id": "b40a566d",
   "metadata": {},
   "outputs": [],
   "source": [
    "# *args permette di passare un numero variabile di argomenti\n",
    "def multi_add(*args): # args sarà una tupla che contiene i valori passati\n",
    "    result = 0 # inizializziamo il totale a 0\n",
    "    for x in args: # scorriamo ciascun numero passato alla funzione\n",
    "        result = result + x # sommiamo ogni valore a result\n",
    "    return result # restituiamo la somma finale"
   ]
  },
  {
   "cell_type": "code",
   "execution_count": 66,
   "id": "64c35edc",
   "metadata": {},
   "outputs": [
    {
     "name": "stdout",
     "output_type": "stream",
     "text": [
      "134\n"
     ]
    }
   ],
   "source": [
    "print(multi_add(8,99,4,23))"
   ]
  },
  {
   "cell_type": "code",
   "execution_count": 67,
   "id": "d802755a",
   "metadata": {},
   "outputs": [],
   "source": [
    "def multi_add(*args):\n",
    "    return sum(args)"
   ]
  },
  {
   "cell_type": "code",
   "execution_count": 68,
   "id": "ccd30bfb",
   "metadata": {},
   "outputs": [
    {
     "data": {
      "text/plain": [
       "11"
      ]
     },
     "execution_count": 68,
     "metadata": {},
     "output_type": "execute_result"
    }
   ],
   "source": [
    "multi_add(5,6)"
   ]
  },
  {
   "cell_type": "code",
   "execution_count": null,
   "id": "ec19d4b4",
   "metadata": {},
   "outputs": [],
   "source": []
  }
 ],
 "metadata": {
  "kernelspec": {
   "display_name": "Python (Anaconda3)",
   "language": "python",
   "name": "anaconda3"
  },
  "language_info": {
   "codemirror_mode": {
    "name": "ipython",
    "version": 3
   },
   "file_extension": ".py",
   "mimetype": "text/x-python",
   "name": "python",
   "nbconvert_exporter": "python",
   "pygments_lexer": "ipython3",
   "version": "3.12.2"
  }
 },
 "nbformat": 4,
 "nbformat_minor": 5
}
