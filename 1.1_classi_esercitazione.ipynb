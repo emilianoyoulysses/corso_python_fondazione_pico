{
 "cells": [
  {
   "cell_type": "markdown",
   "id": "8ef6f654",
   "metadata": {},
   "source": [
    "## Cos'è una classe in Python?\n",
    "> Una classe in Python è un modello (o stampo) che serve per creare oggetti.\n",
    "\n",
    "+ è come uno stampo per un dolce, descrive l'oggetto. \n",
    "+ possiamo creare tanti oggetti con le stesse caratteristiche ma con dati diversi -> **istanze di classe**.\n",
    "\n",
    "### Una classe definisce:\n",
    "+ **Attributi** → le caratteristiche (es: nome, età, velocità...)\n",
    "+ **Metodi** → le azioni che può compiere (es: cammina, lancia, segna...)"
   ]
  },
  {
   "cell_type": "markdown",
   "id": "d826d26f",
   "metadata": {},
   "source": [
    "# Creiamo una nuova classe chiamata Tennis."
   ]
  },
  {
   "cell_type": "code",
   "execution_count": 1,
   "id": "ab7fc592",
   "metadata": {},
   "outputs": [],
   "source": [
    "class Tennis: # Class per iniziare le definizione\n",
    "    def __init__(self, nome, eta, nazione): # metodo __init__() per impostare attributi\n",
    "        self.nome = nome\n",
    "        self.eta = eta\n",
    "        self.nazione = nazione\n",
    "        self.punteggio = 0  # punteggio iniziale\n",
    "        \n",
    "        # Il costruttore __init__() serve a creare le proprietà iniziali\n",
    "        # di ogni oggetto quando lo istanziamo. \n",
    "\n",
    "        # Aggiungiamo i metodi della classe dando un comportamento ai giocatori\n",
    "        # i metodi usano self per agire sull'oggetto stesso,\n",
    "        # ogni oggetto terrà traccia del proprio stato. \n",
    "        \n",
    "    def segna_punto(self):\n",
    "        self.punteggio += 15\n",
    "        print(f\"{self.nome} segna un punto! Punteggio: {self.punteggio}\")\n",
    "\n",
    "    def reset_punteggio(self):\n",
    "        self.punteggio = 0\n",
    "        print(f\"Punteggio di {self.nome} azzerato.\")\n",
    "\n",
    "    def mostra_info(self):\n",
    "        print(f\"🎾 Giocatore: {self.nome} | Età: {self.eta} | Nazione: {self.nazione} | Punteggio: {self.punteggio}\")\n"
   ]
  },
  {
   "cell_type": "code",
   "execution_count": 2,
   "id": "d9b12216",
   "metadata": {},
   "outputs": [
    {
     "name": "stdout",
     "output_type": "stream",
     "text": [
      "🎾 Giocatore: Jannik Sinner | Età: 22 | Nazione: Italia | Punteggio: 0\n",
      "🎾 Giocatore: Lorenzo Musetti | Età: 21 | Nazione: Italia | Punteggio: 0\n",
      "🎾 Giocatore: Jasmine Paolini | Età: 28 | Nazione: Italia | Punteggio: 0\n",
      "Jannik Sinner segna un punto! Punteggio: 15\n",
      "Jannik Sinner segna un punto! Punteggio: 30\n",
      "Lorenzo Musetti segna un punto! Punteggio: 15\n",
      "Jasmine Paolini segna un punto! Punteggio: 15\n",
      "Jasmine Paolini segna un punto! Punteggio: 30\n",
      "Jasmine Paolini segna un punto! Punteggio: 45\n",
      "🎾 Giocatore: Jannik Sinner | Età: 22 | Nazione: Italia | Punteggio: 30\n",
      "🎾 Giocatore: Lorenzo Musetti | Età: 21 | Nazione: Italia | Punteggio: 15\n",
      "🎾 Giocatore: Jasmine Paolini | Età: 28 | Nazione: Italia | Punteggio: 45\n",
      "Punteggio di Lorenzo Musetti azzerato.\n",
      "🎾 Giocatore: Lorenzo Musetti | Età: 21 | Nazione: Italia | Punteggio: 0\n"
     ]
    }
   ],
   "source": [
    "# Ho creato tre oggetti a partire dalla Classe Tennis, uno per ciascun tennista italiano\n",
    "# Istanze dei giocatori italiani\n",
    "# Chiama la classe Tennis con i parametri giusti e salva l'oggetto in una variabile. \n",
    "\n",
    "sinner = Tennis(\"Jannik Sinner\", 22, \"Italia\")\n",
    "musetti = Tennis(\"Lorenzo Musetti\", 21, \"Italia\")\n",
    "paolini = Tennis(\"Jasmine Paolini\", 28, \"Italia\")\n",
    "\n",
    "# Verificare che gli oggetti siano stati creati correttamente e i dati siano visualizzati come previsto.\n",
    "# Ogni oggetto ha il proprio metodo mostra_info(), che restituisce lo stato interno.\n",
    "\n",
    "sinner.mostra_info()\n",
    "musetti.mostra_info()\n",
    "paolini.mostra_info()\n",
    "\n",
    "# Simula alcuni punti\n",
    "# Usare il metodo segna_punto() per modificare il punteggio in base a eventi simulati.\n",
    "# Il punteggio di ogni oggetto è indipendente. Gli aggiornamenti sono salvati nell’oggetto stesso.\n",
    "\n",
    "sinner.segna_punto()\n",
    "sinner.segna_punto()\n",
    "musetti.segna_punto()\n",
    "paolini.segna_punto()\n",
    "paolini.segna_punto()\n",
    "paolini.segna_punto()\n",
    "\n",
    "# Mostra info aggiornate\n",
    "sinner.mostra_info()\n",
    "musetti.mostra_info()\n",
    "paolini.mostra_info()\n",
    "\n",
    "# Reset punteggio di Musetti\n",
    "musetti.reset_punteggio()\n",
    "musetti.mostra_info()\n"
   ]
  },
  {
   "cell_type": "code",
   "execution_count": null,
   "id": "b489eec8",
   "metadata": {},
   "outputs": [],
   "source": []
  },
  {
   "cell_type": "markdown",
   "id": "82d4fc02",
   "metadata": {},
   "source": [
    "# Esercitazione – Classe MagazzinoRicambi\n",
    "### L'obiettivo è:\n",
    "1. Creare una classe con più attributi\n",
    "2. Gestire l’inventario di un magazzino\n",
    "3. Aggiungere e rimuovere quantità di prodotto\n",
    "4. Stampare l’elenco delle scorte\n",
    "\n",
    "### Il contesto: \n",
    "Una società che vende pezzi di ricambio per veicoli ha bisogno di una classe per gestire i prodotti in magazzino. Ogni prodotto ha un codice, un nome, una quantità disponibile e un prezzo unitario.\n",
    "\n",
    "### Consegna\n",
    "#### Requisiti:\n",
    "1. Crea una classe Ricambio con i seguenti attributi:\n",
    "- `codice` (es. \"A123\")\n",
    "- `nome` (es. \"Filtro olio\")\n",
    "- `quantita` (es. 50)\n",
    "- `prezzo_unitario` (es. 12.5)\n",
    "\n",
    "2. Aggiungi i seguenti metodi:\n",
    "- `aggiungi_quantita(q)` → aumenta la quantità disponibile\n",
    "- `rimuovi_quantita(q)` → diminuisce la quantità (se disponibile)\n",
    "- `valore_totale()` → restituisce il valore totale = quantita * prezzo_unitario\n",
    "- `scheda_prodotto()` → stampa tutti i dati del ricambio\n",
    "\n",
    "### Istruzioni aggiuntive:\n",
    "1. Crea 3 oggetti di tipo Ricambio con dati a tua scelta.\n",
    "2. Aggiungi quantità a uno dei prodotti.\n",
    "3. Rimuovi quantità da un altro (solo se sufficiente).\n",
    "4. Calcola e stampa il valore totale di ciascun prodotto.\n",
    "5. Stampa le schede dei 3 ricambi.\n"
   ]
  },
  {
   "cell_type": "code",
   "execution_count": 3,
   "id": "aefff587",
   "metadata": {},
   "outputs": [],
   "source": [
    "# 🧪 Classe per gestione pezzi di ricambio\n",
    "\n",
    "class Ricambio:\n",
    "    def __init__(self, codice, nome, quantita, prezzo_unitario):\n",
    "        # TODO: inizializza gli attributi\n",
    "        pass\n",
    "\n",
    "    def aggiungi_quantita(self, q):\n",
    "        # TODO: aumenta la quantità disponibile\n",
    "        pass\n",
    "\n",
    "    def rimuovi_quantita(self, q):\n",
    "        # TODO: diminuisci la quantità se disponibile\n",
    "        pass\n",
    "\n",
    "    def valore_totale(self):\n",
    "        # TODO: restituisce quantita * prezzo_unitario\n",
    "        pass\n",
    "\n",
    "    def scheda_prodotto(self):\n",
    "        # TODO: stampa codice, nome, quantita, prezzo e valore totale\n",
    "        pass\n",
    "\n",
    "\n",
    "# TODO: Crea 3 oggetti Ricambio con dati a tua scelta\n",
    "\n",
    "# TODO: Aggiungi quantità a uno\n",
    "\n",
    "# TODO: Rimuovi quantità da un altro\n",
    "\n",
    "# TODO: Calcola e stampa valore totale dei 3 ricambi\n",
    "\n",
    "# TODO: Stampa le schede complete\n"
   ]
  },
  {
   "cell_type": "code",
   "execution_count": 4,
   "id": "383099f9",
   "metadata": {},
   "outputs": [],
   "source": [
    "class Ricambio:\n",
    "    def __init__(self, codice, nome, quantita, prezzo_unitario):\n",
    "        self.codice = codice\n",
    "        self.nome = nome\n",
    "        self.quantita = quantita\n",
    "        self.prezzo_unitario = prezzo_unitario\n",
    "\n",
    "    def aggiungi_quantita(self, q):\n",
    "        self.quantita += q\n",
    "\n",
    "    def rimuovi_quantita(self, q):\n",
    "        if q <= self.quantita:\n",
    "            self.quantita -= q\n",
    "        else:\n",
    "            print(f\"⚠️ Quantità insufficiente per {self.nome} (richiesto: {q}, disponibile: {self.quantita})\")\n",
    "\n",
    "    def valore_totale(self):\n",
    "        return self.quantita * self.prezzo_unitario\n",
    "\n",
    "    def scheda_prodotto(self):\n",
    "        print(f\"Codice: {self.codice} - {self.nome} - Quantità: {self.quantita} - \"\n",
    "              f\"Prezzo: €{self.prezzo_unitario:.2f} - Valore: €{self.valore_totale():.2f}\")\n"
   ]
  },
  {
   "cell_type": "code",
   "execution_count": 5,
   "id": "a1fc47bc",
   "metadata": {},
   "outputs": [
    {
     "name": "stdout",
     "output_type": "stream",
     "text": [
      "⚠️ Quantità insufficiente per Candele (richiesto: 100, disponibile: 80)\n",
      "Codice: A123 - Filtro olio - Quantità: 70 - Prezzo: €12.50 - Valore: €875.00\n",
      "Codice: B456 - Cinghia distribuzione - Quantità: 15 - Prezzo: €45.00 - Valore: €675.00\n",
      "Codice: C789 - Candele - Quantità: 80 - Prezzo: €5.00 - Valore: €400.00\n"
     ]
    }
   ],
   "source": [
    "# Creazione dei ricambi\n",
    "ricambio1 = Ricambio(\"A123\", \"Filtro olio\", 50, 12.5)\n",
    "ricambio2 = Ricambio(\"B456\", \"Cinghia distribuzione\", 20, 45.0)\n",
    "ricambio3 = Ricambio(\"C789\", \"Candele\", 80, 5.0)\n",
    "\n",
    "# Modifiche di magazzino\n",
    "ricambio1.aggiungi_quantita(20)     # Filtro olio: da 50 a 70\n",
    "ricambio2.rimuovi_quantita(5)       # Cinghia: da 20 a 15\n",
    "ricambio3.rimuovi_quantita(100)     # Errore: richiesti 100 ma disponibili 80\n",
    "\n",
    "# Stampa schede prodotto\n",
    "ricambio1.scheda_prodotto()\n",
    "ricambio2.scheda_prodotto()\n",
    "ricambio3.scheda_prodotto()\n"
   ]
  },
  {
   "cell_type": "code",
   "execution_count": null,
   "id": "872ccaf6",
   "metadata": {},
   "outputs": [],
   "source": []
  }
 ],
 "metadata": {
  "kernelspec": {
   "display_name": "Python 3 (ipykernel)",
   "language": "python",
   "name": "python3"
  },
  "language_info": {
   "codemirror_mode": {
    "name": "ipython",
    "version": 3
   },
   "file_extension": ".py",
   "mimetype": "text/x-python",
   "name": "python",
   "nbconvert_exporter": "python",
   "pygments_lexer": "ipython3",
   "version": "3.9.7"
  }
 },
 "nbformat": 4,
 "nbformat_minor": 5
}
