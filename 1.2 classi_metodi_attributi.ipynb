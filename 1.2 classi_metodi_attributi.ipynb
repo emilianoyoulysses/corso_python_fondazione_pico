{
 "cells": [
  {
   "cell_type": "markdown",
   "id": "a97fffd6",
   "metadata": {},
   "source": [
    "# Cos'è il parametro self?\n",
    "## Definizione \n",
    "`self` è un riferimento all'istanza attuale della classe. Viene passato automaticamente ai metodi di istanza per permettere di accedere o modificare gli attributi dell'oggetto.\n",
    "\n",
    "Lo **scopo del parametro self** all'interno dei metodi di istanza di una classe è fare riferimento all'istanza della classe su cui viene chiamato il metodo. \n",
    "\n",
    "Quando scrivi `oggetto.metodo()`, in realtà Python lo traduce come `Classe.metodo(oggetto)` → e quindi l'oggetto stesso viene passato come primo argomento, chiamato per convenzione `self`."
   ]
  },
  {
   "cell_type": "code",
   "execution_count": 27,
   "id": "8cca4bf6",
   "metadata": {},
   "outputs": [
    {
     "name": "stdout",
     "output_type": "stream",
     "text": [
      "Ciao, Luca!\n"
     ]
    }
   ],
   "source": [
    "class Saluto:\n",
    "    def __init__(self, nome):\n",
    "        self.nome = nome  # attributo di istanza\n",
    "\n",
    "    def di_ciao(self):\n",
    "        print(f\"Ciao, {self.nome}!\")\n",
    "\n",
    "# Creazione dell'istanza\n",
    "persona = Saluto(\"Luca\")\n",
    "persona.di_ciao()  # Output: Ciao, Luca!\n"
   ]
  },
  {
   "cell_type": "markdown",
   "id": "44964e47",
   "metadata": {},
   "source": [
    "### Esercitazione"
   ]
  },
  {
   "cell_type": "code",
   "execution_count": 28,
   "id": "0a5565c5",
   "metadata": {},
   "outputs": [],
   "source": [
    "class Studente:\n",
    "    def __init__(self, nome):\n",
    "        self.nome = nome\n",
    "\n",
    "    def saluta(self):\n",
    "        print(f\"Ciao, sono {self.nome}!\")\n",
    "\n",
    "# Istruzioni:\n",
    "# 1. Crea un oggetto della classe Studente con il tuo nome.\n",
    "# 2. Chiama il metodo saluta() sull'oggetto creato.\n"
   ]
  },
  {
   "cell_type": "code",
   "execution_count": 29,
   "id": "2b95d0dd",
   "metadata": {},
   "outputs": [
    {
     "name": "stdout",
     "output_type": "stream",
     "text": [
      "Ciao, sono Luca!\n"
     ]
    }
   ],
   "source": [
    "class Studente:\n",
    "    def __init__(self, nome):\n",
    "        self.nome = nome\n",
    "\n",
    "    def saluta(self):\n",
    "        print(f\"Ciao, sono {self.nome}!\")\n",
    "\n",
    "# 1. Crea un oggetto della classe Studente con il tuo nome\n",
    "mio_studente = Studente(\"Luca\")  # Sostituisci \"Luca\" con il tuo nome se vuoi\n",
    "\n",
    "# 2. Chiama il metodo saluta() sull'oggetto creato\n",
    "mio_studente.saluta()\n"
   ]
  },
  {
   "cell_type": "markdown",
   "id": "128817df",
   "metadata": {},
   "source": [
    "# Cos'è un metodo di istanza?\n",
    "## Definizione \n",
    "Un metodo di istanza è una **funzione** dichiarata all’interno di una classe che può essere chiamata su un singolo oggetto."
   ]
  },
  {
   "cell_type": "code",
   "execution_count": 1,
   "id": "06673fd9",
   "metadata": {},
   "outputs": [
    {
     "name": "stdout",
     "output_type": "stream",
     "text": [
      "Contatore: 1\n",
      "Contatore: 2\n"
     ]
    }
   ],
   "source": [
    "class Contatore:\n",
    "    def __init__(self):\n",
    "        self.conta = 0\n",
    "\n",
    "    def incrementa(self):\n",
    "        self.conta += 1\n",
    "        print(f\"Contatore: {self.conta}\")\n",
    "\n",
    "c = Contatore()\n",
    "c.incrementa()  # Output: Contatore: 1\n",
    "c.incrementa()  # Output: Contatore: 2"
   ]
  },
  {
   "cell_type": "markdown",
   "id": "09f3de86",
   "metadata": {},
   "source": [
    "### Esercitazione"
   ]
  },
  {
   "cell_type": "code",
   "execution_count": 31,
   "id": "bd7bbb91",
   "metadata": {},
   "outputs": [],
   "source": [
    "class Banca:\n",
    "    def __init__(self, saldo):\n",
    "        self.saldo = saldo\n",
    "\n",
    "    def deposita(self, importo):\n",
    "        self.saldo += importo\n",
    "\n",
    "    def mostra_saldo(self):\n",
    "        print(f\"Saldo attuale: €{self.saldo}\")\n",
    "\n",
    "# Istruzioni:\n",
    "# 1. Crea un conto con saldo iniziale di 100.\n",
    "# 2. Aggiungi 50 usando il metodo deposita().\n",
    "# 3. Stampa il saldo.\n"
   ]
  },
  {
   "cell_type": "code",
   "execution_count": 32,
   "id": "8e5ee4ee",
   "metadata": {},
   "outputs": [
    {
     "name": "stdout",
     "output_type": "stream",
     "text": [
      "Saldo attuale: €150\n"
     ]
    }
   ],
   "source": [
    "class Banca:\n",
    "    def __init__(self, saldo):\n",
    "        self.saldo = saldo\n",
    "\n",
    "    def deposita(self, importo):\n",
    "        self.saldo += importo\n",
    "\n",
    "    def mostra_saldo(self):\n",
    "        print(f\"Saldo attuale: €{self.saldo}\")\n",
    "\n",
    "# 1. Crea un conto con saldo iniziale di 100\n",
    "conto = Banca(100)\n",
    "\n",
    "# 2. Aggiungi 50 usando il metodo deposita()\n",
    "conto.deposita(50)\n",
    "\n",
    "# 3. Stampa il saldo\n",
    "conto.mostra_saldo()\n"
   ]
  },
  {
   "cell_type": "markdown",
   "id": "d4551844",
   "metadata": {},
   "source": [
    "# Cos'è un attributo di istanza?\n",
    "## Definizione \n",
    "Un attributo di istanza è una **variabile** legata a un oggetto specifico. Ogni oggetto ha i suoi propri valori."
   ]
  },
  {
   "cell_type": "code",
   "execution_count": 33,
   "id": "2a6583e5",
   "metadata": {},
   "outputs": [
    {
     "name": "stdout",
     "output_type": "stream",
     "text": [
      "1984\n",
      "Il Gattopardo\n"
     ]
    }
   ],
   "source": [
    "class Libro:\n",
    "    def __init__(self, titolo, autore):\n",
    "        self.titolo = titolo        # attributo di istanza\n",
    "        self.autore = autore        # attributo di istanza\n",
    "\n",
    "libro1 = Libro(\"1984\", \"Orwell\")\n",
    "libro2 = Libro(\"Il Gattopardo\", \"Tomasi di Lampedusa\")\n",
    "\n",
    "print(libro1.titolo)  # Output: 1984\n",
    "print(libro2.titolo)  # Output: Il Gattopardo\n"
   ]
  },
  {
   "cell_type": "markdown",
   "id": "d1875aad",
   "metadata": {},
   "source": [
    "### Esercitazione "
   ]
  },
  {
   "cell_type": "code",
   "execution_count": 34,
   "id": "38a44e76",
   "metadata": {},
   "outputs": [],
   "source": [
    "class Auto:\n",
    "    def __init__(self, modello, anno):\n",
    "        self.modello = modello\n",
    "        self.anno = anno\n",
    "\n",
    "# Istruzioni:\n",
    "# 1. Crea due oggetti Auto con modelli e anni diversi.\n",
    "# 2. Stampa i modelli e gli anni di ciascun oggetto.\n"
   ]
  },
  {
   "cell_type": "code",
   "execution_count": 35,
   "id": "6b4ed6e3",
   "metadata": {},
   "outputs": [
    {
     "name": "stdout",
     "output_type": "stream",
     "text": [
      "Auto 1: Modello = Fiat Panda, Anno = 2010\n",
      "Auto 2: Modello = Tesla Model 3, Anno = 2022\n"
     ]
    }
   ],
   "source": [
    "class Auto:\n",
    "    def __init__(self, modello, anno):\n",
    "        self.modello = modello\n",
    "        self.anno = anno\n",
    "\n",
    "# 1. Crea due oggetti Auto con modelli e anni diversi\n",
    "auto1 = Auto(\"Fiat Panda\", 2010)\n",
    "auto2 = Auto(\"Tesla Model 3\", 2022)\n",
    "\n",
    "# 2. Stampa i modelli e gli anni di ciascun oggetto\n",
    "print(f\"Auto 1: Modello = {auto1.modello}, Anno = {auto1.anno}\")\n",
    "print(f\"Auto 2: Modello = {auto2.modello}, Anno = {auto2.anno}\")\n"
   ]
  },
  {
   "cell_type": "markdown",
   "id": "031d8013",
   "metadata": {},
   "source": [
    "# Variabili di classe vs variabili di istanza. \n",
    "### Variabile di classe:\n",
    "- Condivisa da tutte le istanze;\n",
    "- Definita fuori da __init__( ).\n",
    "\n",
    "### Variabile di istanza: \n",
    "- Unica per ogni istanza;\n",
    "- Definita dentro __init__( ).\n"
   ]
  },
  {
   "cell_type": "code",
   "execution_count": 36,
   "id": "e04d7d47",
   "metadata": {
    "scrolled": true
   },
   "outputs": [
    {
     "name": "stdout",
     "output_type": "stream",
     "text": [
      "Anna - Liceo Galilei\n",
      "Marco - Liceo Galilei\n",
      "Istituto Tecnico\n",
      "Istituto Tecnico\n"
     ]
    }
   ],
   "source": [
    "class Studente:\n",
    "    scuola = \"Liceo Galilei\"  # variabile di classe\n",
    "\n",
    "    def __init__(self, nome):\n",
    "        self.nome = nome      # variabile di istanza\n",
    "\n",
    "a = Studente(\"Anna\")\n",
    "b = Studente(\"Marco\")\n",
    "\n",
    "print(a.nome, \"-\", a.scuola)  # Anna - Liceo Galilei\n",
    "print(b.nome, \"-\", b.scuola)  # Marco - Liceo Galilei\n",
    "\n",
    "Studente.scuola = \"Istituto Tecnico\"\n",
    "\n",
    "print(a.scuola)  # Istituto Tecnico (condivisa)\n",
    "print(b.scuola)  # Istituto Tecnico\n"
   ]
  },
  {
   "cell_type": "markdown",
   "id": "e3c5cfd2",
   "metadata": {},
   "source": [
    "### Esercitazione"
   ]
  },
  {
   "cell_type": "code",
   "execution_count": 37,
   "id": "a252f3b5",
   "metadata": {},
   "outputs": [],
   "source": [
    "class Biblioteca:\n",
    "    nome_biblioteca = \"Centrale\"  # variabile di classe\n",
    "\n",
    "    def __init__(self, titolo_libro):\n",
    "        self.titolo_libro = titolo_libro  # variabile di istanza\n",
    "\n",
    "# Istruzioni:\n",
    "# 1. Crea due oggetti con titoli diversi.\n",
    "# 2. Cambia il nome della biblioteca per tutti.\n",
    "# 3. Stampa titolo e nome biblioteca per ciascun libro.\n"
   ]
  },
  {
   "cell_type": "code",
   "execution_count": 38,
   "id": "5e4a20d4",
   "metadata": {},
   "outputs": [
    {
     "name": "stdout",
     "output_type": "stream",
     "text": [
      "Titolo: Il Signore degli Anelli, Biblioteca: Biblioteca Comunale\n",
      "Titolo: 1984, Biblioteca: Biblioteca Comunale\n"
     ]
    }
   ],
   "source": [
    "class Biblioteca:\n",
    "    nome_biblioteca = \"Centrale\"  # variabile di classe\n",
    "\n",
    "    def __init__(self, titolo_libro):\n",
    "        self.titolo_libro = titolo_libro  # variabile di istanza\n",
    "\n",
    "# 1. Crea due oggetti con titoli diversi\n",
    "libro1 = Biblioteca(\"Il Signore degli Anelli\")\n",
    "libro2 = Biblioteca(\"1984\")\n",
    "\n",
    "# 2. Cambia il nome della biblioteca per tutti\n",
    "Biblioteca.nome_biblioteca = \"Biblioteca Comunale\"\n",
    "\n",
    "# 3. Stampa titolo e nome biblioteca per ciascun libro\n",
    "print(f\"Titolo: {libro1.titolo_libro}, Biblioteca: {libro1.nome_biblioteca}\")\n",
    "print(f\"Titolo: {libro2.titolo_libro}, Biblioteca: {libro2.nome_biblioteca}\")\n"
   ]
  },
  {
   "cell_type": "markdown",
   "id": "c6e56d29",
   "metadata": {},
   "source": [
    "# La funzione type( ) \n",
    "### Serve per sapere il tipo (classe) di un oggetto. "
   ]
  },
  {
   "cell_type": "code",
   "execution_count": 39,
   "id": "a83fcdc2",
   "metadata": {},
   "outputs": [
    {
     "name": "stdout",
     "output_type": "stream",
     "text": [
      "<class 'int'>\n",
      "<class '__main__.Libro'>\n"
     ]
    }
   ],
   "source": [
    "x = 42\n",
    "print(type(x))  # <class 'int'>\n",
    "\n",
    "libro = Libro(\"Il nome della rosa\", \"Eco\")\n",
    "print(type(libro))  # <class '__main__.Libro'>\n"
   ]
  },
  {
   "cell_type": "markdown",
   "id": "76de89f7",
   "metadata": {},
   "source": [
    "### Esercitazione"
   ]
  },
  {
   "cell_type": "code",
   "execution_count": 40,
   "id": "b21e57e2",
   "metadata": {},
   "outputs": [],
   "source": [
    "numero = 3.14\n",
    "testo = \"Ciao\"\n",
    "lista = [1, 2, 3]\n",
    "\n",
    "# Istruzioni:\n",
    "# 1. Usa la funzione type() per stampare il tipo di ciascun oggetto.\n",
    "# 2. Aggiungi un tuo oggetto personalizzato e controlla anche il suo tipo.\n"
   ]
  },
  {
   "cell_type": "markdown",
   "id": "0f194cdc",
   "metadata": {},
   "source": [
    "### Esercitazione"
   ]
  },
  {
   "cell_type": "code",
   "execution_count": 41,
   "id": "5bbbdab4",
   "metadata": {},
   "outputs": [
    {
     "name": "stdout",
     "output_type": "stream",
     "text": [
      "<class 'float'>\n",
      "<class 'str'>\n",
      "<class 'list'>\n",
      "<class '__main__.Animale'>\n"
     ]
    }
   ],
   "source": [
    "numero = 3.14\n",
    "testo = \"Ciao\"\n",
    "lista = [1, 2, 3]\n",
    "\n",
    "# 1. Usa la funzione type() per stampare il tipo di ciascun oggetto\n",
    "print(type(numero))  # <class 'float'>\n",
    "print(type(testo))   # <class 'str'>\n",
    "print(type(lista))   # <class 'list'>\n",
    "\n",
    "# 2. Aggiungi un tuo oggetto personalizzato e controlla anche il suo tipo\n",
    "class Animale:\n",
    "    def __init__(self, nome):\n",
    "        self.nome = nome\n",
    "\n",
    "mio_animale = Animale(\"Gatto\")\n",
    "print(type(mio_animale))  # <class '__main__.Animale'>\n"
   ]
  },
  {
   "cell_type": "markdown",
   "id": "c57c28c3",
   "metadata": {},
   "source": [
    "# La funzione `isinstance( )` \n",
    "### Controlla se un oggetto è un'istanza di una classe (o sottoclasse)."
   ]
  },
  {
   "cell_type": "code",
   "execution_count": 2,
   "id": "6171426f",
   "metadata": {},
   "outputs": [
    {
     "name": "stdout",
     "output_type": "stream",
     "text": [
      "True\n",
      "True\n",
      "True\n"
     ]
    }
   ],
   "source": [
    "class Animale:\n",
    "    pass\n",
    "\n",
    "class Cane(Animale):\n",
    "    pass\n",
    "\n",
    "fido = Cane()\n",
    "\n",
    "print(isinstance(fido, Cane))      # True\n",
    "print(isinstance(fido, Animale))   # True\n",
    "print(isinstance(fido, object))    # True\n"
   ]
  },
  {
   "cell_type": "markdown",
   "id": "936a137c",
   "metadata": {},
   "source": [
    "### Esercitazione"
   ]
  },
  {
   "cell_type": "code",
   "execution_count": 18,
   "id": "3f0c97d2",
   "metadata": {},
   "outputs": [],
   "source": [
    "class Veicolo:\n",
    "    pass\n",
    "\n",
    "class Moto(Veicolo):\n",
    "    pass\n",
    "\n",
    "class Auto(Veicolo):\n",
    "    pass\n",
    "\n",
    "yamaha = Moto()\n",
    "\n",
    "# Istruzioni:\n",
    "# 1. Verifica con isinstance() se yamaha è:\n",
    "#    - un oggetto di tipo Moto\n",
    "#    - un oggetto di tipo Veicolo\n",
    "#    - un oggetto di tipo Auto\n",
    "# 2. Spiega perché uno dei controlli restituisce False.\n"
   ]
  },
  {
   "cell_type": "code",
   "execution_count": 17,
   "id": "510f70a7",
   "metadata": {},
   "outputs": [
    {
     "name": "stdout",
     "output_type": "stream",
     "text": [
      "True\n",
      "True\n",
      "False\n"
     ]
    }
   ],
   "source": [
    "class Veicolo:\n",
    "    pass\n",
    "\n",
    "class Moto(Veicolo):\n",
    "    pass\n",
    "\n",
    "class Auto(Veicolo):\n",
    "    pass\n",
    "\n",
    "yamaha = Moto()\n",
    "\n",
    "# 1. Verifica con isinstance()\n",
    "print(isinstance(yamaha, Moto))     # True\n",
    "print(isinstance(yamaha, Veicolo))  # True\n",
    "print(isinstance(yamaha, Auto))     # False\n"
   ]
  },
  {
   "cell_type": "markdown",
   "id": "32f23b5b",
   "metadata": {},
   "source": [
    "- `isinstance(yamaha, Moto)` restituisce True perché yamaha è stato creato come oggetto della classe Moto.\n",
    "- `isinstance(yamaha, Veicolo)` restituisce True perché Moto eredita da Veicolo, quindi yamaha è anche un tipo di Veicolo (ereditarietà).\n",
    "- `isinstance(yamaha, Auto)` restituisce False perché, anche se sia Moto che Auto ereditano da Veicolo, non sono la stessa classe né una l’erede dell’altra. Sono due rami separati."
   ]
  },
  {
   "cell_type": "markdown",
   "id": "08a3846f",
   "metadata": {},
   "source": [
    "# Ricapitoliamo "
   ]
  },
  {
   "cell_type": "markdown",
   "id": "52d7c992",
   "metadata": {},
   "source": [
    "Lo **scopo del parametro self** all'interno dei metodi di istanza di una classe è fare riferimento all'istanza della classe su cui viene chiamato il metodo\n",
    "\n",
    "Cos'è un **metodo di istanza?**\n",
    "+ Un metodo che può essere chiamato su un'istanza specifica di una classe\n",
    "\n",
    "Cos'è un **attributo di istanza** in Python?\n",
    "+ Una variabile che contiene dati specifici per un'istanza di una classe\n",
    "\n",
    "Qual è la **differenza fondamentale tra variabili di classe e variabili di istanza?**\n",
    "+ Class variables sono condivise tra tutte le istanze della classe;\n",
    "+ le variabili di istanza sono uniche per ogni istanza."
   ]
  },
  {
   "cell_type": "code",
   "execution_count": 3,
   "id": "882129df",
   "metadata": {},
   "outputs": [],
   "source": [
    "#creiamo una classe di base\n",
    "class Libro:\n",
    "    pass"
   ]
  },
  {
   "cell_type": "code",
   "execution_count": 4,
   "id": "f4491732",
   "metadata": {},
   "outputs": [],
   "source": [
    "#creiamo un'istanza di classe\n",
    "libro_1 = Libro()"
   ]
  },
  {
   "cell_type": "code",
   "execution_count": 5,
   "id": "82acc955",
   "metadata": {},
   "outputs": [],
   "source": [
    "#definiamo le caratteristiche di classe \n",
    "#quando la classe viene creata, __init__ viene chiamata per inizializzare il nuovo oggetto con le informazioni\n",
    "#quando chiamo un metodo su di un oggetto, l'oggetto è il primo ad essere chiamato e passato come primo argomento  \n",
    "#inizializziamo gli attributi dei dati\n",
    "class Libro:\n",
    "    def __init__(self, titolo):\n",
    "        self.titolo = titolo\n",
    "        #creo un attributo dell'oggetto chiamato titolo che viene utilizzato per contenere il titolo del libro\n",
    "        #poi posso accedere al valore della proprietà usando la normale notazione del punto."
   ]
  },
  {
   "cell_type": "code",
   "execution_count": 6,
   "id": "390f53b3",
   "metadata": {},
   "outputs": [],
   "source": [
    "libro_1 = Libro('Addio alle armi')\n",
    "libro_2 = Libro('Fiesta')"
   ]
  },
  {
   "cell_type": "code",
   "execution_count": 7,
   "id": "9126e116",
   "metadata": {},
   "outputs": [
    {
     "name": "stdout",
     "output_type": "stream",
     "text": [
      "<__main__.Libro object at 0x7f9ade5bfe20>\n",
      "Addio alle armi\n"
     ]
    }
   ],
   "source": [
    "print(libro_1)\n",
    "print(libro_1.titolo)"
   ]
  },
  {
   "cell_type": "code",
   "execution_count": 8,
   "id": "49dd45f3",
   "metadata": {},
   "outputs": [],
   "source": [
    "#la funzione init è chiamata quando viene creata l'istanza ed è pronta ad essere inizializzata\n",
    "class Libro:\n",
    "    def __init__(self, titolo, autore, pagine, prezzo):\n",
    "        self.titolo = titolo\n",
    "        self.autore = autore\n",
    "        self.pagine = pagine\n",
    "        self.prezzo = prezzo\n",
    "        #ognuno di questi attributi è chiamato attributo di istanza perchè il valore che contiene viene \n",
    "        #utilizzato solo dall'istanza dell'oggetto su cui è dichiarato. \n",
    "        \n",
    "        #creo un nuovo metodo di un'istanza con una funzione che richiami il prezzo\n",
    "    def getprezzo(self):\n",
    "        return self.prezzo\n",
    "    \n",
    "    def setsconto(self, importo):\n",
    "        self._sconto = importo\n",
    "        #utilizzo _ per dichiarare che questo attributo è interno a questa classe "
   ]
  },
  {
   "cell_type": "code",
   "execution_count": 9,
   "id": "e8c2ef06",
   "metadata": {},
   "outputs": [
    {
     "name": "stdout",
     "output_type": "stream",
     "text": [
      "22\n",
      "<bound method Libro.getprezzo of <__main__.Libro object at 0x7f9ade5efd30>>\n",
      "22\n"
     ]
    }
   ],
   "source": [
    "libro_1 = Libro(\"Addio alle Armi\", \"Hemingway\", 180, 22)\n",
    "libro_2 = Libro(\"Fiesta\", \"Hemingway\", 300, 28)\n",
    "\n",
    "#stampiamo libro 1 e chiamiamo getprezzo\n",
    "print(libro_1.prezzo)\n",
    "print(libro_1.getprezzo)\n",
    "print(libro_1.getprezzo())\n",
    "\n",
    "#non ci siamo limitati a definire attributi di istanza solo dentro init\n",
    "#abbiamo creato una funzione specificaanche per lo sconto"
   ]
  },
  {
   "cell_type": "code",
   "execution_count": 51,
   "id": "26f5cbab",
   "metadata": {},
   "outputs": [],
   "source": [
    "#la funzione defsconto non è stata definita in __init quindi devo utilizzare la funzione hasattr\n",
    "\n",
    "def getprezzo(self):\n",
    "    if hasattr(self, \"_sconto\"):\n",
    "        return self.prezzo - (self.prezzo * self._sconto)\n",
    "    else:\n",
    "        return self.prezzo"
   ]
  },
  {
   "cell_type": "code",
   "execution_count": 52,
   "id": "edec9496",
   "metadata": {},
   "outputs": [],
   "source": [
    "class Libro:\n",
    "    def __init__(self, titolo, autore, pagine, prezzo):\n",
    "        self.titolo = titolo\n",
    "        self.autore = autore\n",
    "        self.pagine = pagine\n",
    "        self.prezzo = prezzo\n",
    "        \n",
    "    def getprezzo(self):\n",
    "        if hasattr(self, \"_sconto\"):\n",
    "            return self.prezzo - (self.prezzo * self._sconto)\n",
    "        else:\n",
    "            return self.prezzo\n",
    "    \n",
    "    def setsconto(self, importo):\n",
    "        self._sconto = importo\n",
    "\n",
    "libro_1 = Libro(\"Addio alle Armi\", \"Hemingway\", 180, 22)\n",
    "libro_2 = Libro(\"Fiesta\", \"Hemingway\", 300, 28)\n"
   ]
  },
  {
   "cell_type": "code",
   "execution_count": 53,
   "id": "04b55d53",
   "metadata": {},
   "outputs": [
    {
     "name": "stdout",
     "output_type": "stream",
     "text": [
      "<__main__.Libro object at 0x7f7dfaf257c0>\n"
     ]
    }
   ],
   "source": [
    "print(libro_1)"
   ]
  },
  {
   "cell_type": "code",
   "execution_count": 54,
   "id": "b68585a6",
   "metadata": {},
   "outputs": [
    {
     "name": "stdout",
     "output_type": "stream",
     "text": [
      "<__main__.Libro object at 0x7f7dfaf25220>\n"
     ]
    }
   ],
   "source": [
    "print(libro_2)"
   ]
  },
  {
   "cell_type": "code",
   "execution_count": 55,
   "id": "8263d47b",
   "metadata": {},
   "outputs": [
    {
     "name": "stdout",
     "output_type": "stream",
     "text": [
      "28\n",
      "21.0\n"
     ]
    }
   ],
   "source": [
    "print(libro_2.getprezzo())\n",
    "libro_2.setsconto(0.25)\n",
    "print(libro_2.getprezzo())"
   ]
  },
  {
   "cell_type": "code",
   "execution_count": 56,
   "id": "f8ae1ded",
   "metadata": {},
   "outputs": [],
   "source": [
    "class Giornale:\n",
    "    def __init__(self, nome, prezzo):\n",
    "        self.nome = nome\n",
    "        self.prezzo = prezzo"
   ]
  },
  {
   "cell_type": "code",
   "execution_count": 57,
   "id": "44508df2",
   "metadata": {},
   "outputs": [],
   "source": [
    "l_1 = Libro(\"Fiesta\", \"Hemingway\", 300, 28)\n",
    "l_2 = Libro(\"Addio alle Armi\", \"Hemingway\", 180, 22)\n",
    "g_1 = Giornale(\"Corriere\", 1)\n",
    "g_2 = Giornale(\"Il Foglio\", 2)"
   ]
  },
  {
   "cell_type": "code",
   "execution_count": 58,
   "id": "3a7f34ea",
   "metadata": {},
   "outputs": [
    {
     "name": "stdout",
     "output_type": "stream",
     "text": [
      "<class '__main__.Libro'>\n",
      "<class '__main__.Giornale'>\n",
      "True\n",
      "False\n"
     ]
    }
   ],
   "source": [
    "#type ci consente di confrontare due tipi diversi per vedere se sono uguali. \n",
    "print(type(l_1))\n",
    "print(type(g_2))\n",
    "\n",
    "print(type(l_1)==type(l_2))\n",
    "print(type(g_1)==type(l_1))"
   ]
  },
  {
   "cell_type": "code",
   "execution_count": 60,
   "id": "8aaa848e",
   "metadata": {},
   "outputs": [
    {
     "name": "stdout",
     "output_type": "stream",
     "text": [
      "True\n",
      "False\n"
     ]
    }
   ],
   "source": [
    "print(isinstance(l_1, Libro))\n",
    "print(isinstance(g_2, Libro))"
   ]
  },
  {
   "cell_type": "code",
   "execution_count": 61,
   "id": "ee1e91e3",
   "metadata": {},
   "outputs": [],
   "source": [
    "#I metodi dell'istanza ricevono un'istanza di oggetto specifica come argomento e \n",
    "#operano su dati specifici di quell'istanza di oggetto.\n",
    "\n",
    "#self.titolo è un attributo di istanza perchè il suo valore viene associato \n",
    "#ad ogni istanza dell'oggetto che viene creato. \n",
    "\n",
    "def set_titolo(self, nuovo_titolo):\n",
    "    self.titolo = nuovo_titolo\n",
    "    \n",
    "def __init__(self, titolo):\n",
    "    self.titolo = titolo"
   ]
  },
  {
   "cell_type": "code",
   "execution_count": 62,
   "id": "b8fc5a92",
   "metadata": {
    "scrolled": true
   },
   "outputs": [
    {
     "name": "stdout",
     "output_type": "stream",
     "text": [
      "Tipologie di gare: ('ULTRA-TRAIL', 'TRAIL', 'SKY-RACE')\n",
      "[<__main__.GareTrail object at 0x7f7dfada75b0>, <__main__.GareTrail object at 0x7f7dfb06b250>]\n"
     ]
    }
   ],
   "source": [
    "#ad ogni oggetto libro che abbiamo creato sia assegnato un tipo di libro specifico al momento della creazione\n",
    "#copertina rigida, morbida, potremmo definire un attributo di istanza che enumera questi valori valido per tutti.\n",
    "\n",
    "#creiamo un attributo a livello di classe fuori da uno qualsiasi dei metodi di istanza. \n",
    "\n",
    "class GareTrail:\n",
    "    #le proprietà definite a livello di classe sono condivide da tutte le istanze di classe.\n",
    "    TIPOLOGIE_GARE = (\"ULTRA-TRAIL\", \"TRAIL\", \"SKY-RACE\")\n",
    "    \n",
    "    #proprietà nascoste alle altre classi\n",
    "    __lista_gare = None\n",
    "    \n",
    "    #creo un metodo di class\n",
    "    @classmethod\n",
    "    def get_tipologie_gare(cls):\n",
    "        return cls.TIPOLOGIE_GARE\n",
    "    \n",
    "    #creo un metodo statico\n",
    "    def get_lista_gare():\n",
    "        if GareTrail.__lista_gare == None:\n",
    "            GareTrail.__lista_gare = []\n",
    "        return GareTrail.__lista_gare\n",
    "    \n",
    "    def __init__(self, nome, tipologie_gare):\n",
    "        self.nome = nome\n",
    "        if (not tipologie_gare in GareTrail.TIPOLOGIE_GARE):\n",
    "            raise ValueError(f\"{TIPOLOGIE_GARE} non è un valido tipo di gara Trail\")\n",
    "        else: \n",
    "            self.tipologie_gare = tipologie_gare\n",
    "            \n",
    "#accediamo agli attributi di classe\n",
    "print(\"Tipologie di gare:\", GareTrail.get_tipologie_gare())\n",
    "\n",
    "#creiamo alcune istanze di gare\n",
    "g1 = GareTrail(\"Titolo1\", \"ULTRA-TRAIL\")\n",
    "g2 = GareTrail(\"Titolo2\", \"TRAIL\")\n",
    "\n",
    "#utilizziamo un metodo statico per accedere ad un singleton object\n",
    "le_gare_trail = GareTrail.get_lista_gare()\n",
    "le_gare_trail.append(g1)\n",
    "le_gare_trail.append(g2)\n",
    "print(le_gare_trail)\n"
   ]
  },
  {
   "cell_type": "code",
   "execution_count": null,
   "id": "7cea80a6",
   "metadata": {},
   "outputs": [],
   "source": []
  },
  {
   "cell_type": "markdown",
   "id": "334cb785",
   "metadata": {},
   "source": [
    "# @classmethod"
   ]
  },
  {
   "cell_type": "markdown",
   "id": "17d4a16d",
   "metadata": {},
   "source": [
    "Un metodo di classe (decorato con `@classmethod`) è un metodo che agisce sulla classe stessa, non su un singolo oggetto.\n",
    "Riceve la **classe come primo parametro** (chiamato convenzionalmente `cls`), invece dell’oggetto (`self`).\n",
    "\n",
    "- È utile per creare oggetti in modo alternativo, oppure per accedere/modificare variabili di classe."
   ]
  },
  {
   "cell_type": "code",
   "execution_count": 63,
   "id": "028c454e",
   "metadata": {},
   "outputs": [],
   "source": [
    "class Libro:\n",
    "    biblioteca = \"Centrale\"  # Variabile di classe\n",
    "\n",
    "    def __init__(self, titolo):\n",
    "        self.titolo = titolo\n",
    "\n",
    "    @classmethod\n",
    "    def cambia_biblioteca(cls, nuovo_nome): # cambia_biblioteca modifica la variabile di classe per tutti gli oggetti. \n",
    "        cls.biblioteca = nuovo_nome\n"
   ]
  },
  {
   "cell_type": "code",
   "execution_count": 64,
   "id": "6dd625a4",
   "metadata": {},
   "outputs": [
    {
     "name": "stdout",
     "output_type": "stream",
     "text": [
      "Centrale\n",
      "Biblioteca Comunale\n"
     ]
    }
   ],
   "source": [
    "# Uso\n",
    "libro1 = Libro(\"1984\")\n",
    "libro2 = Libro(\"Il Piccolo Principe\")\n",
    "\n",
    "print(Libro.biblioteca)  # Centrale\n",
    "Libro.cambia_biblioteca(\"Biblioteca Comunale\")\n",
    "print(Libro.biblioteca)  # Biblioteca Comunale\n"
   ]
  },
  {
   "cell_type": "markdown",
   "id": "ccdd7d67",
   "metadata": {},
   "source": [
    "# Esercitazione \n",
    "1. Crea una classe `Studente` con una variabile di classe `scuola` impostata a `\"ITIS\"`.\n",
    "2. Aggiungi un costruttore per nome e classe dello studente.\n",
    "3. Crea un metodo di classe `cambia_scuola()` che cambi il valore della variabile `scuola`.\n",
    "4. Crea 2 studenti.\n",
    "5. Cambia la scuola e stampa il nome, classe e scuola per ogni studente."
   ]
  },
  {
   "cell_type": "code",
   "execution_count": 65,
   "id": "f6c5980b",
   "metadata": {},
   "outputs": [],
   "source": [
    "class Studente:\n",
    "    scuola = \"ITIS\"  # Variabile di classe\n",
    "\n",
    "    def __init__(self, nome, classe):\n",
    "        self.nome = nome\n",
    "        self.classe = classe\n",
    "\n",
    "    @classmethod\n",
    "    def cambia_scuola(cls, nuova_scuola):\n",
    "        cls.scuola = nuova_scuola\n",
    "\n",
    "    def info(self):\n",
    "        print(f\"{self.nome}, classe {self.classe}, scuola: {Studente.scuola}\")\n"
   ]
  },
  {
   "cell_type": "code",
   "execution_count": 66,
   "id": "75e05746",
   "metadata": {},
   "outputs": [
    {
     "name": "stdout",
     "output_type": "stream",
     "text": [
      "Luca, classe 3A, scuola: ITIS\n",
      "Anna, classe 4B, scuola: ITIS\n",
      "Luca, classe 3A, scuola: Liceo Scientifico\n",
      "Anna, classe 4B, scuola: Liceo Scientifico\n"
     ]
    }
   ],
   "source": [
    "# Uso\n",
    "stud1 = Studente(\"Luca\", \"3A\")\n",
    "stud2 = Studente(\"Anna\", \"4B\")\n",
    "\n",
    "stud1.info()\n",
    "stud2.info()\n",
    "\n",
    "# Cambio la scuola\n",
    "Studente.cambia_scuola(\"Liceo Scientifico\")\n",
    "\n",
    "stud1.info()\n",
    "stud2.info()\n"
   ]
  },
  {
   "cell_type": "code",
   "execution_count": null,
   "id": "ef63d1ea",
   "metadata": {},
   "outputs": [],
   "source": []
  },
  {
   "cell_type": "code",
   "execution_count": null,
   "id": "1b50c267",
   "metadata": {},
   "outputs": [],
   "source": []
  }
 ],
 "metadata": {
  "kernelspec": {
   "display_name": "Python 3 (ipykernel)",
   "language": "python",
   "name": "python3"
  },
  "language_info": {
   "codemirror_mode": {
    "name": "ipython",
    "version": 3
   },
   "file_extension": ".py",
   "mimetype": "text/x-python",
   "name": "python",
   "nbconvert_exporter": "python",
   "pygments_lexer": "ipython3",
   "version": "3.9.7"
  }
 },
 "nbformat": 4,
 "nbformat_minor": 5
}
