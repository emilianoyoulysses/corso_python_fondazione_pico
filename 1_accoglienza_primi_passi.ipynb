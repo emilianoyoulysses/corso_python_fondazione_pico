{
 "cells": [
  {
   "cell_type": "markdown",
   "id": "ce7bc867",
   "metadata": {},
   "source": [
    "# Python \n",
    "\n",
    "Python è un linguaggio di programmazione che punta alla massima semplicità, tanto da risultare simile a uno pseudo-codice. Questa caratteristica lo rende:\n",
    "\n",
    "+ facile da apprendere,\n",
    "+ semplice da utilizzare,\n",
    "+ altamente leggibile,\n",
    "+ estremamente portabile.\n",
    "\n",
    "> Python è anche un **linguaggio di scripting**, cioè consente di scrivere script: **insiemi di istruzioni**, generalmente semplici, che il computer può eseguire direttamente.\n",
    "\n",
    "**Python è un linguaggio interpretato:** il codice viene eseguito direttamente da un interprete, senza bisogno di compilazione ovvero senza necessità di una fase preliminare di compilazione in codice macchina.\\\n",
    "Più precisamente, è un **linguaggio dinamico**, dove i controlli e la gestione dei tipi di dati avvengono durante l’esecuzione (runtime), per questo è **dinamicamente tipizzato**, le variabili non necessitano di una dichiarazione esplicita del tipo, che viene determinato a tempo di esecuzione.\n",
    "\n",
    "> Python è largamente impiegato in molteplici ambiti applicativi, tra cui l’analisi dei dati, l’intelligenza artificiale, il machine learning, lo sviluppo web, l’automazione di processi, la simulazione scientifica, la grafica e il calcolo numerico. La sua estesa collezione di librerie standard e di terze parti ne ha consolidato il ruolo di linguaggio general-purpose tra i più versatili e richiesti nel panorama informatico contemporaneo."
   ]
  },
  {
   "cell_type": "markdown",
   "id": "6d4334f1",
   "metadata": {},
   "source": [
    "### Python è un linguaggio multi-paradigma\n",
    "\n",
    "Consente cioè di programmare secondo diversi stili, come la programmazione imperativa, funzionale e orientata agli oggetti. \n",
    "\n",
    "Python implementa in modo nativo il **paradigma object-oriented programming (OOP)**, consentendo agli sviluppatori di modellare il software come una collezione di oggetti che interagiscono tra loro. \n",
    "\n",
    "> Gli oggetti rappresentano **entità dotate di stato** (attributi), **comportamento** (metodi) e **identità**, e sono istanze di classi, che fungono da modelli astratti.\n",
    "\n",
    "In Python, **ogni elemento è trattato come un oggetto**: anche strutture dati primitive come interi, stringhe e liste sono istanze di classi predefinite. \n",
    "\n",
    "> Questa coerenza semantica rafforza l’adesione al modello a oggetti e permette una manipolazione uniforme dei dati.\n",
    "\n"
   ]
  },
  {
   "cell_type": "markdown",
   "id": "ec4bd735",
   "metadata": {},
   "source": [
    "### Moduli, pacchetti, librerie\n",
    "\n",
    "Nell’utilizzo di un linguaggio di programmazione orientato agli oggetti e strutturato in blocchi logici, come Python, è fondamentale acquisire familiarità con i concetti di **modulo (module), pacchetto (package) e libreria (library).**\n",
    "\n",
    "+ Un **modulo** in Python è un singolo file contenente definizioni di variabili, funzioni, classi o istruzioni eseguibili. I moduli rappresentano l’unità base di organizzazione del codice e possono essere importati e riutilizzati all’interno di qualsiasi altro programma Python.\n",
    "\n",
    "+ Un **pacchetto** è una struttura più complessa che raggruppa uno o più moduli all'interno di una directory, spesso dotata di un file __init__.py, che ne consente il riconoscimento come package da parte dell’interprete. I pacchetti permettono una suddivisione ordinata del codice in sottosezioni tematiche o funzionali.\n",
    "\n",
    "Una **libreria** è generalmente intesa come un insieme più ampio e coerente di moduli e pacchetti, progettati per offrire funzionalità specifiche (come la manipolazione dei dati, l’interazione con il web, l’elaborazione numerica, ecc.). \n",
    "\n",
    "#### pip install\n",
    "pip (preferred installer program) è lo strumento (tool) consigliato dalla Python Packaging\n",
    "Authority (PyPA) per installare pacchetti Python dal Python Packege Index (PyPI).\n",
    "\n",
    "\n",
    "## L'interprete Python\n",
    "Quando si scrive un programma in linguaggio Python e lo si esegue, entra in funzione **l’interprete Python (Python interpreter)**, ovvero un programma che, in fase di esecuzione (run-time), traduce le istruzioni del codice sorgente in linguaggio macchina comprensibile al processore. \n",
    "\n",
    "> Questa traduzione non avviene in anticipo, come nei linguaggi compilati, ma dinamicamente, durante l’esecuzione del programma.\n",
    "\n",
    "### Jupyter Notebook e JupyterLab\n",
    "Jupyter è un progetto open-sourcenato con l’obiettivo di supportare la scienza dei dati (data science) e il calcolo scientifico interattivo. \n",
    "Esso fornisce un **ambiente di sviluppo** basato su interfaccia web che consente di lavorare con notebook interattivi, i quali possono contenere codice eseguibile, testo descrittivo, formule matematiche, dati e visualizzazioni grafiche."
   ]
  },
  {
   "cell_type": "code",
   "execution_count": null,
   "id": "9534c21a",
   "metadata": {},
   "outputs": [],
   "source": []
  },
  {
   "cell_type": "code",
   "execution_count": null,
   "id": "192c2ec6",
   "metadata": {},
   "outputs": [],
   "source": []
  },
  {
   "cell_type": "markdown",
   "id": "8c4cd884",
   "metadata": {},
   "source": [
    "## Verifica Python su windows\n",
    "\n",
    "**Metodo 1: Prompt dei comandi**\n",
    "\n",
    "python --version \n",
    "\n",
    "**Metodo 2: PowerShell**\n",
    "\n",
    "python --version\n",
    "\n",
    "**Se Python non è riconosciuto, ovvero se ricevi un errore del tipo:**\n",
    "\n",
    "'python' non è riconosciuto come comando interno o esterno... significa che Python non è installato oppure non è stato aggiunto al PATH del sistema.\n",
    "\n",
    "Vai su www.python.org"
   ]
  },
  {
   "cell_type": "markdown",
   "id": "73f194c4",
   "metadata": {},
   "source": [
    "## Verifica Python su mac\n",
    "\n",
    "**Metodo 1: Comando python3 Apri il Terminale (puoi trovarlo con Spotlight: premi Cmd + Spazio e cerca \"Terminale\").**\n",
    "\n",
    "python3 --version\n",
    "oppure:\n",
    "\n",
    "python3 -V\n",
    "\n",
    "Su macOS Python 2.7 è stato storicamente preinstallato come python, ma Apple ha deprecato questa versione.\\\n",
    "Usare sempre python3"
   ]
  },
  {
   "cell_type": "code",
   "execution_count": null,
   "id": "4dd374f3",
   "metadata": {},
   "outputs": [],
   "source": []
  },
  {
   "cell_type": "markdown",
   "id": "87fae743",
   "metadata": {},
   "source": [
    "Per aggiornare pip, il gestore dei pacchetti di Python, il comando da usare dipende dal sistema operativo:\n",
    "\n",
    "1. Comando Universale\n",
    "python -m pip install --upgrade pip\n",
    "\n",
    "oppure, se usi python3:\n",
    "\n",
    "python3 -m pip install --upgrade pip\n",
    "\n",
    "2. Windows (cmd o PowerShell)\n",
    "py -m pip install --upgrade pip"
   ]
  },
  {
   "cell_type": "code",
   "execution_count": null,
   "id": "4ceb3a3e",
   "metadata": {},
   "outputs": [],
   "source": []
  },
  {
   "cell_type": "markdown",
   "id": "e8ec277e",
   "metadata": {},
   "source": [
    "#### Assicurarsi che Python e pip siano installati\n",
    "\n",
    "\n",
    "Apriamo il Prompt dei comandi (cmq):\n",
    "\n",
    "python --version\n",
    "pip --version\n",
    "\n",
    "\n",
    "#### Installiamo Jupyter notebook\n",
    "\n",
    "Nel terminale (cmd o PowerShell), eseguiamo:\n",
    "\n",
    "pip install notebook\n",
    "\n",
    "\n",
    "se non sul path\\\n",
    "python -m notebook\n",
    "\n",
    "\n",
    "\n"
   ]
  },
  {
   "cell_type": "code",
   "execution_count": null,
   "id": "7e6fe0bd",
   "metadata": {},
   "outputs": [],
   "source": []
  },
  {
   "cell_type": "markdown",
   "id": "a3b63b7e",
   "metadata": {},
   "source": [
    "**Metodo 1: Comando python3 Apri il Terminale (puoi trovarlo con Spotlight: premi Cmd + Spazio e cerca \"Terminale\").**\n",
    "\n",
    "python3 --version\n",
    "oppure:\n",
    "\n",
    "python3 -V\n",
    "\n",
    "Su macOS Python 2.7 è stato storicamente preinstallato come python, ma Apple ha deprecato questa versione.\\\n",
    "Usare sempre python3"
   ]
  },
  {
   "cell_type": "code",
   "execution_count": null,
   "id": "2bac349e",
   "metadata": {},
   "outputs": [],
   "source": []
  },
  {
   "cell_type": "markdown",
   "id": "e1a4ed59",
   "metadata": {},
   "source": [
    "## Run Jupyter\n",
    "jupyter notebook\n"
   ]
  },
  {
   "cell_type": "code",
   "execution_count": null,
   "id": "083ab96e",
   "metadata": {},
   "outputs": [],
   "source": []
  },
  {
   "cell_type": "markdown",
   "id": "cbad8eba",
   "metadata": {},
   "source": [
    "## Primi passi "
   ]
  },
  {
   "cell_type": "code",
   "execution_count": null,
   "id": "331e0ba0",
   "metadata": {},
   "outputs": [],
   "source": []
  },
  {
   "cell_type": "code",
   "execution_count": 1,
   "id": "03a05056",
   "metadata": {
    "scrolled": true
   },
   "outputs": [
    {
     "name": "stdout",
     "output_type": "stream",
     "text": [
      "Buon giorno e bentrovati e bentrovate!\n",
      "al primo corso di Python della fondazione Pico!\n"
     ]
    }
   ],
   "source": [
    "print(\"Buon giorno e bentrovati e bentrovate!\")\n",
    "print(\"al primo corso di Python della fondazione Pico!\")"
   ]
  },
  {
   "cell_type": "code",
   "execution_count": 3,
   "id": "dfe7655d",
   "metadata": {},
   "outputs": [
    {
     "name": "stdout",
     "output_type": "stream",
     "text": [
      "Mi chiamo Emiliano\n",
      "Spero che potrete imparare cose nuove ed utili. Emiliano\n"
     ]
    }
   ],
   "source": [
    "name = input(\"Mi chiamo \")\n",
    "print(\"Spero che potrete imparare cose nuove ed utili.\", name)"
   ]
  },
  {
   "cell_type": "code",
   "execution_count": null,
   "id": "5f77f7f7",
   "metadata": {},
   "outputs": [],
   "source": []
  },
  {
   "cell_type": "code",
   "execution_count": 4,
   "id": "52347f1a",
   "metadata": {},
   "outputs": [
    {
     "name": "stdout",
     "output_type": "stream",
     "text": [
      "Buon giorno e bentrovate e bentrovati\n",
      "Come ti chiami: emiliano\n",
      "Piacere di conoscerti  emiliano\n"
     ]
    }
   ],
   "source": [
    "def benvenuti(): # funzione senza parametri\n",
    "    # indentazione delle istruzioni\n",
    "    print(\"Buon giorno e bentrovate e bentrovati\")\n",
    "    name = input(\"Mi chiamo: \")\n",
    "    print(\"Piacere di conoscerti \", name) \n",
    "    # ho terminato la funzione\n",
    "benvenuti() # devo \"chiamare\" la funzione altrimenti non accade niente"
   ]
  },
  {
   "cell_type": "code",
   "execution_count": null,
   "id": "b526087e",
   "metadata": {},
   "outputs": [],
   "source": []
  },
  {
   "cell_type": "code",
   "execution_count": null,
   "id": "bb584ac9",
   "metadata": {},
   "outputs": [],
   "source": []
  },
  {
   "cell_type": "code",
   "execution_count": null,
   "id": "8bb46eff",
   "metadata": {},
   "outputs": [],
   "source": []
  },
  {
   "cell_type": "code",
   "execution_count": null,
   "id": "68ec9677",
   "metadata": {},
   "outputs": [],
   "source": []
  },
  {
   "cell_type": "code",
   "execution_count": null,
   "id": "a139a08a",
   "metadata": {},
   "outputs": [],
   "source": []
  },
  {
   "cell_type": "code",
   "execution_count": null,
   "id": "cf303ccb",
   "metadata": {},
   "outputs": [],
   "source": []
  }
 ],
 "metadata": {
  "kernelspec": {
   "display_name": "Python (Anaconda3)",
   "language": "python",
   "name": "anaconda3"
  },
  "language_info": {
   "codemirror_mode": {
    "name": "ipython",
    "version": 3
   },
   "file_extension": ".py",
   "mimetype": "text/x-python",
   "name": "python",
   "nbconvert_exporter": "python",
   "pygments_lexer": "ipython3",
   "version": "3.12.2"
  }
 },
 "nbformat": 4,
 "nbformat_minor": 5
}
