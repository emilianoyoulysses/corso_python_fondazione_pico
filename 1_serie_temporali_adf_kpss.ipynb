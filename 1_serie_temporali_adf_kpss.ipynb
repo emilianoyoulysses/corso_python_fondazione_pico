{
 "cells": [
  {
   "cell_type": "markdown",
   "id": "49ed53ce",
   "metadata": {
    "slideshow": {
     "slide_type": "slide"
    }
   },
   "source": [
    "# Time Series"
   ]
  },
  {
   "cell_type": "markdown",
   "id": "7f3336a1",
   "metadata": {},
   "source": [
    "## Riferimento temporale\n",
    "\n",
    "Le differenze tra i dati di `serie temporali (time series)` e i `dati statici (puntuali)` si basano principalmente sul **contesto temporale e sull'evoluzione delle osservazioni**. \n",
    "\n",
    "### Riferimento temporale - Dati Time Series\n",
    "1. Dati Time Series: sono raccolti nel tempo, con ogni osservazione associata a un `timestamp` o a una sequenza temporale (ad esempio, dati mensili, giornalieri, orari). \n",
    "Lo **scopo principale è analizzare come i valori cambiano o si evolvono nel tempo. **\n",
    "\n",
    "*Esempio: Temperature registrate ogni ora, vendite mensili di un prodotto, o pressione della caldaia misurata ogni minuto.*\n",
    "*\n",
    "\n",
    "**Analisi tipiche:**\n",
    "* Trend (crescente, decrescente)\n",
    "* Stagionalità (ripetizioni periodiche)\n",
    "* Modelli predittivi (es. ARIMA, Prophet)\n",
    "* Anomaly detection\n",
    "* Aggregazioni temporali (media mensile, somma annuale)\n",
    "\n",
    "### Dati puntuali \n",
    "2. Dati Puntuali (Statici): sono istantanei, rappresentano una misura o osservazione in un **momento specifico senza alcun riferimento alla variazione temporale.** I dati statici rappresentano osservazioni istantanee, raccolte in un singolo momento o senza una sequenza temporale rilevante. \n",
    "\n",
    "*Esempio: L'altezza media degli studenti di una classe, o il bilancio finanziario a fine anno.*\n",
    "\n",
    "**Analisi tipiche:**\n",
    "* Statistiche descrittive (media, mediana, deviazione standard)\n",
    "* Analisi esplorativa dei dati (EDA)\n",
    "* Confronti tra gruppi (test t, ANOVA)\n",
    "* Regressioni statiche (lineare, logistica)"
   ]
  },
  {
   "cell_type": "markdown",
   "id": "05d76d0b",
   "metadata": {},
   "source": [
    "## Dinamica vs Statica\n",
    "\n",
    "1. Time Series: Mostrano una dinamica e un'evoluzione. Qui si studiano trend, stagionalità, anomalie, e relazioni temporali. \n",
    "\n",
    "*Esempio: Monitorare il consumo energetico per individuare picchi di utilizzo in certi momenti della giornata.*\n",
    "\n",
    "2. Dati Puntuali: Sono statistici e forniscono uno stato attuale o una misura istantanea, spesso usati per snapshot o analisi descrittive. \n",
    "\n",
    "*Esempio: Il numero di studenti iscritti a una scuola in un dato anno*"
   ]
  },
  {
   "cell_type": "markdown",
   "id": "e2fe05c1",
   "metadata": {},
   "source": [
    "## Dipendenza Temporale\n",
    "1. Time Series: Le osservazioni sono dipendenti dal tempo, ovvero il valore futuro potrebbe dipendere da quelli passati. \n",
    "\n",
    "*Esempio: Il livello di pressione nella caldaia dipende dal livello precedente e dai fattori di utilizzo.*\n",
    "\n",
    "2. Dati Puntuali: Le osservazioni sono indipendenti dal tempo. Non vi è alcuna relazione temporale implicita. \\\n",
    "*Esempio: La temperatura corporea media di un gruppo di persone non è influenzata dalle misurazioni precedenti.*\n"
   ]
  },
  {
   "cell_type": "code",
   "execution_count": 16,
   "id": "95fb7f4f",
   "metadata": {
    "scrolled": false,
    "slideshow": {
     "slide_type": "fragment"
    }
   },
   "outputs": [
    {
     "data": {
      "text/html": [
       "<div>\n",
       "<style scoped>\n",
       "    .dataframe tbody tr th:only-of-type {\n",
       "        vertical-align: middle;\n",
       "    }\n",
       "\n",
       "    .dataframe tbody tr th {\n",
       "        vertical-align: top;\n",
       "    }\n",
       "\n",
       "    .dataframe thead th {\n",
       "        text-align: right;\n",
       "    }\n",
       "</style>\n",
       "<table border=\"1\" class=\"dataframe\">\n",
       "  <thead>\n",
       "    <tr style=\"text-align: right;\">\n",
       "      <th></th>\n",
       "      <th>timestamp</th>\n",
       "      <th>open</th>\n",
       "      <th>high</th>\n",
       "      <th>low</th>\n",
       "      <th>close</th>\n",
       "      <th>volume</th>\n",
       "    </tr>\n",
       "  </thead>\n",
       "  <tbody>\n",
       "    <tr>\n",
       "      <th>0</th>\n",
       "      <td>2025-05-30</td>\n",
       "      <td>258.75</td>\n",
       "      <td>260.1200</td>\n",
       "      <td>257.10</td>\n",
       "      <td>259.06</td>\n",
       "      <td>9668923</td>\n",
       "    </tr>\n",
       "    <tr>\n",
       "      <th>1</th>\n",
       "      <td>2025-05-29</td>\n",
       "      <td>260.75</td>\n",
       "      <td>261.1300</td>\n",
       "      <td>256.77</td>\n",
       "      <td>258.69</td>\n",
       "      <td>2295228</td>\n",
       "    </tr>\n",
       "    <tr>\n",
       "      <th>2</th>\n",
       "      <td>2025-05-28</td>\n",
       "      <td>263.16</td>\n",
       "      <td>265.0000</td>\n",
       "      <td>259.94</td>\n",
       "      <td>260.24</td>\n",
       "      <td>2318437</td>\n",
       "    </tr>\n",
       "    <tr>\n",
       "      <th>3</th>\n",
       "      <td>2025-05-27</td>\n",
       "      <td>261.00</td>\n",
       "      <td>263.7869</td>\n",
       "      <td>259.63</td>\n",
       "      <td>263.23</td>\n",
       "      <td>3284216</td>\n",
       "    </tr>\n",
       "    <tr>\n",
       "      <th>4</th>\n",
       "      <td>2025-05-23</td>\n",
       "      <td>258.58</td>\n",
       "      <td>259.8696</td>\n",
       "      <td>255.79</td>\n",
       "      <td>258.63</td>\n",
       "      <td>2722721</td>\n",
       "    </tr>\n",
       "  </tbody>\n",
       "</table>\n",
       "</div>"
      ],
      "text/plain": [
       "    timestamp    open      high     low   close   volume\n",
       "0  2025-05-30  258.75  260.1200  257.10  259.06  9668923\n",
       "1  2025-05-29  260.75  261.1300  256.77  258.69  2295228\n",
       "2  2025-05-28  263.16  265.0000  259.94  260.24  2318437\n",
       "3  2025-05-27  261.00  263.7869  259.63  263.23  3284216\n",
       "4  2025-05-23  258.58  259.8696  255.79  258.63  2722721"
      ]
     },
     "execution_count": 16,
     "metadata": {},
     "output_type": "execute_result"
    }
   ],
   "source": [
    "import pandas as pd\n",
    "\n",
    "df = pd.read_csv(\"https://www.alphavantage.co/query?function=TIME_SERIES_DAILY&symbol=IBM&apikey=demo&datatype=csv\")\n",
    "\n",
    "df.head(5)"
   ]
  },
  {
   "cell_type": "markdown",
   "id": "e95d96c5",
   "metadata": {
    "slideshow": {
     "slide_type": "slide"
    }
   },
   "source": [
    "close è il dato che ci interessa perchè è la chiusura giornaliera. "
   ]
  },
  {
   "cell_type": "code",
   "execution_count": 17,
   "id": "da6fa445",
   "metadata": {},
   "outputs": [
    {
     "data": {
      "text/plain": [
       "0     2025-05-30\n",
       "1     2025-05-29\n",
       "2     2025-05-28\n",
       "3     2025-05-27\n",
       "4     2025-05-23\n",
       "         ...    \n",
       "95    2025-01-13\n",
       "96    2025-01-10\n",
       "97    2025-01-08\n",
       "98    2025-01-07\n",
       "99    2025-01-06\n",
       "Name: timestamp, Length: 100, dtype: object"
      ]
     },
     "execution_count": 17,
     "metadata": {},
     "output_type": "execute_result"
    }
   ],
   "source": [
    "df['timestamp']"
   ]
  },
  {
   "cell_type": "markdown",
   "id": "8d8582ca",
   "metadata": {
    "slideshow": {
     "slide_type": "-"
    }
   },
   "source": [
    "## `Timestamp` e `Datetime`\n",
    "`Timestamp` è un singolo istante temporale, mentre `datetime` è più generale e può includere insiemi o serie temporali.\n",
    "\n",
    "* `Timestamp` rappresenta un momento specifico nel tempo: è un valore univoco che indica una data e un'ora precisa.\n",
    "Esempio: \"2023-12-07 15:30:45\" rappresenta un singolo istante.\n",
    "\n",
    "* `Datetime` è un tipo di dato generico che rappresenta combinazioni di data e ora, ma non è limitato a un singolo momento: può rappresentare un insieme di timestamp (una colonna in un DataFrame) o operazioni temporali.\n",
    "Esempio: Una serie temporale contenente date e orari.\n"
   ]
  },
  {
   "cell_type": "markdown",
   "id": "77a985ae",
   "metadata": {},
   "source": [
    "## `pd.to_datetime()`\n",
    "`pd.to_datetime(df.timestamp)` converte la colonna `timestamp` del DataFrame `df` in formato `datetime` leggibile (`datetime64[ns]`), in questo modo possiamo effettuare:\n",
    "\n",
    "* operazioni temporali (come resampling, filtraggio per data, estrazione di anno/mese/giorno, ecc.)\n",
    "* formattazioni più chiare per grafici o esportazione.\n",
    "\n",
    "Questo comando funziona se la colonna df['timestamp'] contiene uno dei seguenti:\n",
    "+ Numeri interi/floating point → timestamp Unix (secondi o millisecondi da Epoch)\n",
    "+ Stringhe formattate → tipo \"2025-05-31 14:23:00\""
   ]
  },
  {
   "cell_type": "code",
   "execution_count": 18,
   "id": "a598be3b",
   "metadata": {
    "slideshow": {
     "slide_type": "subslide"
    }
   },
   "outputs": [
    {
     "data": {
      "text/html": [
       "<div>\n",
       "<style scoped>\n",
       "    .dataframe tbody tr th:only-of-type {\n",
       "        vertical-align: middle;\n",
       "    }\n",
       "\n",
       "    .dataframe tbody tr th {\n",
       "        vertical-align: top;\n",
       "    }\n",
       "\n",
       "    .dataframe thead th {\n",
       "        text-align: right;\n",
       "    }\n",
       "</style>\n",
       "<table border=\"1\" class=\"dataframe\">\n",
       "  <thead>\n",
       "    <tr style=\"text-align: right;\">\n",
       "      <th></th>\n",
       "      <th>timestamp</th>\n",
       "      <th>open</th>\n",
       "      <th>high</th>\n",
       "      <th>low</th>\n",
       "      <th>close</th>\n",
       "      <th>volume</th>\n",
       "    </tr>\n",
       "  </thead>\n",
       "  <tbody>\n",
       "    <tr>\n",
       "      <th>0</th>\n",
       "      <td>2025-05-30</td>\n",
       "      <td>258.75</td>\n",
       "      <td>260.1200</td>\n",
       "      <td>257.1000</td>\n",
       "      <td>259.06</td>\n",
       "      <td>9668923</td>\n",
       "    </tr>\n",
       "    <tr>\n",
       "      <th>1</th>\n",
       "      <td>2025-05-29</td>\n",
       "      <td>260.75</td>\n",
       "      <td>261.1300</td>\n",
       "      <td>256.7700</td>\n",
       "      <td>258.69</td>\n",
       "      <td>2295228</td>\n",
       "    </tr>\n",
       "    <tr>\n",
       "      <th>2</th>\n",
       "      <td>2025-05-28</td>\n",
       "      <td>263.16</td>\n",
       "      <td>265.0000</td>\n",
       "      <td>259.9400</td>\n",
       "      <td>260.24</td>\n",
       "      <td>2318437</td>\n",
       "    </tr>\n",
       "    <tr>\n",
       "      <th>3</th>\n",
       "      <td>2025-05-27</td>\n",
       "      <td>261.00</td>\n",
       "      <td>263.7869</td>\n",
       "      <td>259.6300</td>\n",
       "      <td>263.23</td>\n",
       "      <td>3284216</td>\n",
       "    </tr>\n",
       "    <tr>\n",
       "      <th>4</th>\n",
       "      <td>2025-05-23</td>\n",
       "      <td>258.58</td>\n",
       "      <td>259.8696</td>\n",
       "      <td>255.7900</td>\n",
       "      <td>258.63</td>\n",
       "      <td>2722721</td>\n",
       "    </tr>\n",
       "    <tr>\n",
       "      <th>5</th>\n",
       "      <td>2025-05-22</td>\n",
       "      <td>260.77</td>\n",
       "      <td>261.2711</td>\n",
       "      <td>257.9100</td>\n",
       "      <td>258.37</td>\n",
       "      <td>3091253</td>\n",
       "    </tr>\n",
       "    <tr>\n",
       "      <th>6</th>\n",
       "      <td>2025-05-21</td>\n",
       "      <td>264.97</td>\n",
       "      <td>265.6499</td>\n",
       "      <td>260.4100</td>\n",
       "      <td>260.87</td>\n",
       "      <td>3753904</td>\n",
       "    </tr>\n",
       "    <tr>\n",
       "      <th>7</th>\n",
       "      <td>2025-05-20</td>\n",
       "      <td>267.40</td>\n",
       "      <td>269.2800</td>\n",
       "      <td>265.6201</td>\n",
       "      <td>266.95</td>\n",
       "      <td>2437860</td>\n",
       "    </tr>\n",
       "    <tr>\n",
       "      <th>8</th>\n",
       "      <td>2025-05-19</td>\n",
       "      <td>265.45</td>\n",
       "      <td>269.1350</td>\n",
       "      <td>265.0800</td>\n",
       "      <td>268.41</td>\n",
       "      <td>3198903</td>\n",
       "    </tr>\n",
       "    <tr>\n",
       "      <th>9</th>\n",
       "      <td>2025-05-16</td>\n",
       "      <td>266.35</td>\n",
       "      <td>267.9800</td>\n",
       "      <td>264.5900</td>\n",
       "      <td>266.76</td>\n",
       "      <td>3817937</td>\n",
       "    </tr>\n",
       "  </tbody>\n",
       "</table>\n",
       "</div>"
      ],
      "text/plain": [
       "   timestamp    open      high       low   close   volume\n",
       "0 2025-05-30  258.75  260.1200  257.1000  259.06  9668923\n",
       "1 2025-05-29  260.75  261.1300  256.7700  258.69  2295228\n",
       "2 2025-05-28  263.16  265.0000  259.9400  260.24  2318437\n",
       "3 2025-05-27  261.00  263.7869  259.6300  263.23  3284216\n",
       "4 2025-05-23  258.58  259.8696  255.7900  258.63  2722721\n",
       "5 2025-05-22  260.77  261.2711  257.9100  258.37  3091253\n",
       "6 2025-05-21  264.97  265.6499  260.4100  260.87  3753904\n",
       "7 2025-05-20  267.40  269.2800  265.6201  266.95  2437860\n",
       "8 2025-05-19  265.45  269.1350  265.0800  268.41  3198903\n",
       "9 2025-05-16  266.35  267.9800  264.5900  266.76  3817937"
      ]
     },
     "execution_count": 18,
     "metadata": {},
     "output_type": "execute_result"
    }
   ],
   "source": [
    "df['timestamp'] = pd.to_datetime(df.timestamp)\n",
    "\n",
    "df.head(10)"
   ]
  },
  {
   "cell_type": "code",
   "execution_count": 19,
   "id": "59de4ea7",
   "metadata": {
    "scrolled": true
   },
   "outputs": [
    {
     "data": {
      "text/plain": [
       "0    2025-05-30\n",
       "1    2025-05-29\n",
       "2    2025-05-28\n",
       "3    2025-05-27\n",
       "4    2025-05-23\n",
       "        ...    \n",
       "95   2025-01-13\n",
       "96   2025-01-10\n",
       "97   2025-01-08\n",
       "98   2025-01-07\n",
       "99   2025-01-06\n",
       "Name: timestamp, Length: 100, dtype: datetime64[ns]"
      ]
     },
     "execution_count": 19,
     "metadata": {},
     "output_type": "execute_result"
    }
   ],
   "source": [
    "df['timestamp']"
   ]
  },
  {
   "cell_type": "markdown",
   "id": "7039d2cd",
   "metadata": {},
   "source": [
    "## Impostazione indice temporale\n",
    "Assegno la colonna `timestamp` come indice del DataFrame df e ne traccio la serie temporale della colonna `close`.\n",
    "\n",
    "In questo modo \n",
    "1. Impostazione dell'indice temporale: Utilizzando `df.index = df.timestamp`, impostiamo un `DatetimeIndex`, che è fondamentale per sfruttare le funzionalità avanzate di Pandas per le serie temporali, come il slicing temporale e il resampling.\n",
    "2. Tracciamento della serie temporale: con `df['close'].plot()`, Pandas utilizza automaticamente l'indice temporale per l'asse x, rendendo il grafico più informativo e leggibile.\n",
    "\n",
    "### Vantaggi rispetto a un indice auto-incrementale\n",
    "Utilizzare `DatetimeIndex` offre numerosi vantaggi rispetto a un indice numerico auto-incrementale:\n",
    "* **Slicing temporale intuitivo**: possiamo selezionare facilmente sottoinsiemi di dati basati su date specifiche.\n",
    "* **Resampling semplice:** possiamo cambiare la frequenza dei dati (ad esempio, da giornaliera a mensile) utilizzando metodi come `resample()`.\n",
    "* **Operazioni temporali avanzate:** Facilita l'esecuzione di operazioni come il calcolo di medie mobili, differenze temporali e altro.\n",
    "\n",
    "#### Approccio auto-incrementale\n",
    "L’approccio auto-incrementale in un contesto di DataFrame o database indica l’uso di un indice numerico che cresce automaticamente, riga per riga, partendo da zero (o da un numero iniziale definito)."
   ]
  },
  {
   "cell_type": "code",
   "execution_count": 20,
   "id": "134c711d",
   "metadata": {
    "scrolled": false,
    "slideshow": {
     "slide_type": "slide"
    }
   },
   "outputs": [
    {
     "name": "stdout",
     "output_type": "stream",
     "text": [
      "            timestamp    open      high     low   close   volume\n",
      "timestamp                                                       \n",
      "2025-05-30 2025-05-30  258.75  260.1200  257.10  259.06  9668923\n",
      "2025-05-29 2025-05-29  260.75  261.1300  256.77  258.69  2295228\n",
      "2025-05-28 2025-05-28  263.16  265.0000  259.94  260.24  2318437\n",
      "2025-05-27 2025-05-27  261.00  263.7869  259.63  263.23  3284216\n",
      "2025-05-23 2025-05-23  258.58  259.8696  255.79  258.63  2722721\n"
     ]
    },
    {
     "data": {
      "text/plain": [
       "<Axes: xlabel='timestamp'>"
      ]
     },
     "execution_count": 20,
     "metadata": {},
     "output_type": "execute_result"
    },
    {
     "data": {
      "image/png": "[encoded data removed]",
      "text/plain": [
       "<Figure size 640x480 with 1 Axes>"
      ]
     },
     "metadata": {},
     "output_type": "display_data"
    }
   ],
   "source": [
    "df.index = df.timestamp\n",
    "\n",
    "print(df.head())\n",
    "\n",
    "df['close'].plot()"
   ]
  },
  {
   "cell_type": "markdown",
   "id": "08ae7559",
   "metadata": {},
   "source": [
    "La colonna `timestamp` diventa l'indice temporale del DataFrame. \\\n",
    "Visualizziamo l’andamento della colonna close (es. prezzo di chiusura) nel tempo."
   ]
  },
  {
   "cell_type": "code",
   "execution_count": 10,
   "id": "f1855007",
   "metadata": {
    "scrolled": true,
    "slideshow": {
     "slide_type": "subslide"
    }
   },
   "outputs": [
    {
     "name": "stdout",
     "output_type": "stream",
     "text": [
      "            timestamp    open      high     low   close   volume\n",
      "timestamp                                                       \n",
      "2025-05-30 2025-05-30  258.75  260.1200  257.10  259.06  9668923\n",
      "2025-05-29 2025-05-29  260.75  261.1300  256.77  258.69  2295228\n",
      "2025-05-28 2025-05-28  263.16  265.0000  259.94  260.24  2318437\n",
      "2025-05-27 2025-05-27  261.00  263.7869  259.63  263.23  3284216\n",
      "2025-05-23 2025-05-23  258.58  259.8696  255.79  258.63  2722721\n"
     ]
    },
    {
     "data": {
      "text/plain": [
       "<Axes: xlabel='timestamp'>"
      ]
     },
     "execution_count": 10,
     "metadata": {},
     "output_type": "execute_result"
    },
    {
     "data": {
      "image/png": "[encoded data removed]",
      "text/plain": [
       "<Figure size 640x480 with 1 Axes>"
      ]
     },
     "metadata": {},
     "output_type": "display_data"
    }
   ],
   "source": [
    "df.index = df.timestamp\n",
    "\n",
    "print(df.head())\n",
    "\n",
    "df['close'].plot()"
   ]
  },
  {
   "cell_type": "markdown",
   "id": "aed9ed13",
   "metadata": {
    "slideshow": {
     "slide_type": "slide"
    }
   },
   "source": [
    "### In alternativa"
   ]
  },
  {
   "cell_type": "code",
   "execution_count": 11,
   "id": "ea838ffd",
   "metadata": {
    "scrolled": true,
    "slideshow": {
     "slide_type": "fragment"
    }
   },
   "outputs": [
    {
     "data": {
      "text/html": [
       "<div>\n",
       "<style scoped>\n",
       "    .dataframe tbody tr th:only-of-type {\n",
       "        vertical-align: middle;\n",
       "    }\n",
       "\n",
       "    .dataframe tbody tr th {\n",
       "        vertical-align: top;\n",
       "    }\n",
       "\n",
       "    .dataframe thead th {\n",
       "        text-align: right;\n",
       "    }\n",
       "</style>\n",
       "<table border=\"1\" class=\"dataframe\">\n",
       "  <thead>\n",
       "    <tr style=\"text-align: right;\">\n",
       "      <th></th>\n",
       "      <th>open</th>\n",
       "      <th>high</th>\n",
       "      <th>low</th>\n",
       "      <th>close</th>\n",
       "      <th>volume</th>\n",
       "    </tr>\n",
       "    <tr>\n",
       "      <th>timestamp</th>\n",
       "      <th></th>\n",
       "      <th></th>\n",
       "      <th></th>\n",
       "      <th></th>\n",
       "      <th></th>\n",
       "    </tr>\n",
       "  </thead>\n",
       "  <tbody>\n",
       "    <tr>\n",
       "      <th>2025-05-30</th>\n",
       "      <td>258.75</td>\n",
       "      <td>260.1200</td>\n",
       "      <td>257.10</td>\n",
       "      <td>259.06</td>\n",
       "      <td>9668923</td>\n",
       "    </tr>\n",
       "    <tr>\n",
       "      <th>2025-05-29</th>\n",
       "      <td>260.75</td>\n",
       "      <td>261.1300</td>\n",
       "      <td>256.77</td>\n",
       "      <td>258.69</td>\n",
       "      <td>2295228</td>\n",
       "    </tr>\n",
       "    <tr>\n",
       "      <th>2025-05-28</th>\n",
       "      <td>263.16</td>\n",
       "      <td>265.0000</td>\n",
       "      <td>259.94</td>\n",
       "      <td>260.24</td>\n",
       "      <td>2318437</td>\n",
       "    </tr>\n",
       "    <tr>\n",
       "      <th>2025-05-27</th>\n",
       "      <td>261.00</td>\n",
       "      <td>263.7869</td>\n",
       "      <td>259.63</td>\n",
       "      <td>263.23</td>\n",
       "      <td>3284216</td>\n",
       "    </tr>\n",
       "    <tr>\n",
       "      <th>2025-05-23</th>\n",
       "      <td>258.58</td>\n",
       "      <td>259.8696</td>\n",
       "      <td>255.79</td>\n",
       "      <td>258.63</td>\n",
       "      <td>2722721</td>\n",
       "    </tr>\n",
       "  </tbody>\n",
       "</table>\n",
       "</div>"
      ],
      "text/plain": [
       "              open      high     low   close   volume\n",
       "timestamp                                            \n",
       "2025-05-30  258.75  260.1200  257.10  259.06  9668923\n",
       "2025-05-29  260.75  261.1300  256.77  258.69  2295228\n",
       "2025-05-28  263.16  265.0000  259.94  260.24  2318437\n",
       "2025-05-27  261.00  263.7869  259.63  263.23  3284216\n",
       "2025-05-23  258.58  259.8696  255.79  258.63  2722721"
      ]
     },
     "execution_count": 11,
     "metadata": {},
     "output_type": "execute_result"
    }
   ],
   "source": [
    "import pandas as pd\n",
    "one_step = pd.read_csv(\"https://www.alphavantage.co/query?function=TIME_SERIES_DAILY&symbol=IBM&apikey=demo&datatype=csv\" \\\n",
    "                       , parse_dates=['timestamp'], index_col = 'timestamp')\n",
    "\n",
    "one_step.head()"
   ]
  },
  {
   "cell_type": "markdown",
   "id": "427ea03c",
   "metadata": {},
   "source": [
    "### Il punto centrale del dataset\n",
    "`midpoint = df.index[int(len(df)/2)]`\n",
    "* `len(df)`: calcola quante righe ci sono.\n",
    "* `int(len(df)/2)`: trova l’indice numerico a metà del dataset.\n",
    "* `df.index[...]`: estrae la data corrispondente a quella posizione centrale.\n",
    "\n",
    "### Definiamo una finestra temporale\n",
    "`window = pd.Timedelta(days=30)`\n",
    "* `pd.Timedelta(days=30)`: crea un intervallo di 30 giorni.\n",
    "* È un oggetto `timedelta` compatibile con le date.\n",
    "\n",
    "### Eseguiamo lo slicing temporale su `midpoint`\n",
    "`sample = df[midpoint - window : midpoint + window]`\n",
    "* Estrae tutte le righe comprese tra 30 giorni prima e 30 giorni dopo il punto centrale.\n",
    "* Il risultato è una sottoselezione temporale (sample) del DataFrame originale.\n"
   ]
  },
  {
   "cell_type": "code",
   "execution_count": 30,
   "id": "108875f1",
   "metadata": {},
   "outputs": [
    {
     "name": "stdout",
     "output_type": "stream",
     "text": [
      "            timestamp     open     high     low   close   volume\n",
      "timestamp                                                       \n",
      "2025-02-18 2025-02-18  261.930  263.965  259.83  263.07  4262812\n",
      "2025-02-19 2025-02-19  262.000  264.360  260.09  264.32  3718678\n",
      "2025-02-20 2025-02-20  263.650  265.090  262.15  264.74  4884805\n",
      "2025-02-21 2025-02-21  263.845  264.830  261.10  261.48  5667874\n",
      "2025-02-24 2025-02-24  261.500  263.845  259.58  261.87  4398107\n"
     ]
    }
   ],
   "source": [
    "midpoint = df.index[int(len(df)/2)]\n",
    "window = pd.Timedelta(days=30)\n",
    "\n",
    "sample = df[midpoint - window : midpoint + window]\n",
    "print(sample.head())"
   ]
  },
  {
   "cell_type": "markdown",
   "id": "aa30a2aa",
   "metadata": {
    "slideshow": {
     "slide_type": "slide"
    }
   },
   "source": [
    "## Indexing e slicing basato sul tempo"
   ]
  },
  {
   "cell_type": "markdown",
   "id": "236444a8",
   "metadata": {},
   "source": [
    "Seleziona un intervallo temporale dal DataFrame con indice temporale ordinato (DatetimeIndex).\n",
    "\n",
    "* Il `df` deve avere l’indice in formato `DatetimeIndex` (es. df.index contiene date/ore).\n",
    "* L’indice deve essere ordinato cronologicamente (df.sort_index()).\n",
    "\n",
    "### Cosa fa\n",
    "1. Estrae tutte le righe di df il cui indice è una data compresa tra il 1 dicembre 2024 e il 1 novembre 2025.\n",
    "2. Seleziona intervalli precisi: lo slicing con date include entrambe le estremità (se esistono nel dataset)."
   ]
  },
  {
   "cell_type": "code",
   "execution_count": 34,
   "id": "0568922b",
   "metadata": {},
   "outputs": [
    {
     "data": {
      "text/html": [
       "<div>\n",
       "<style scoped>\n",
       "    .dataframe tbody tr th:only-of-type {\n",
       "        vertical-align: middle;\n",
       "    }\n",
       "\n",
       "    .dataframe tbody tr th {\n",
       "        vertical-align: top;\n",
       "    }\n",
       "\n",
       "    .dataframe thead th {\n",
       "        text-align: right;\n",
       "    }\n",
       "</style>\n",
       "<table border=\"1\" class=\"dataframe\">\n",
       "  <thead>\n",
       "    <tr style=\"text-align: right;\">\n",
       "      <th></th>\n",
       "      <th>timestamp</th>\n",
       "      <th>open</th>\n",
       "      <th>high</th>\n",
       "      <th>low</th>\n",
       "      <th>close</th>\n",
       "      <th>volume</th>\n",
       "    </tr>\n",
       "    <tr>\n",
       "      <th>timestamp</th>\n",
       "      <th></th>\n",
       "      <th></th>\n",
       "      <th></th>\n",
       "      <th></th>\n",
       "      <th></th>\n",
       "      <th></th>\n",
       "    </tr>\n",
       "  </thead>\n",
       "  <tbody>\n",
       "    <tr>\n",
       "      <th>2025-01-06</th>\n",
       "      <td>2025-01-06</td>\n",
       "      <td>223.000</td>\n",
       "      <td>224.3500</td>\n",
       "      <td>220.7500</td>\n",
       "      <td>222.67</td>\n",
       "      <td>2847128</td>\n",
       "    </tr>\n",
       "    <tr>\n",
       "      <th>2025-01-07</th>\n",
       "      <td>2025-01-07</td>\n",
       "      <td>223.350</td>\n",
       "      <td>226.7110</td>\n",
       "      <td>222.8300</td>\n",
       "      <td>223.96</td>\n",
       "      <td>3299701</td>\n",
       "    </tr>\n",
       "    <tr>\n",
       "      <th>2025-01-08</th>\n",
       "      <td>2025-01-08</td>\n",
       "      <td>223.910</td>\n",
       "      <td>224.9000</td>\n",
       "      <td>220.8300</td>\n",
       "      <td>223.18</td>\n",
       "      <td>2619768</td>\n",
       "    </tr>\n",
       "    <tr>\n",
       "      <th>2025-01-10</th>\n",
       "      <td>2025-01-10</td>\n",
       "      <td>222.000</td>\n",
       "      <td>222.4300</td>\n",
       "      <td>216.8000</td>\n",
       "      <td>219.75</td>\n",
       "      <td>3570497</td>\n",
       "    </tr>\n",
       "    <tr>\n",
       "      <th>2025-01-13</th>\n",
       "      <td>2025-01-13</td>\n",
       "      <td>217.890</td>\n",
       "      <td>219.5900</td>\n",
       "      <td>214.7500</td>\n",
       "      <td>217.40</td>\n",
       "      <td>3716816</td>\n",
       "    </tr>\n",
       "    <tr>\n",
       "      <th>2025-01-14</th>\n",
       "      <td>2025-01-14</td>\n",
       "      <td>218.000</td>\n",
       "      <td>218.1250</td>\n",
       "      <td>214.6100</td>\n",
       "      <td>217.75</td>\n",
       "      <td>3485829</td>\n",
       "    </tr>\n",
       "    <tr>\n",
       "      <th>2025-01-15</th>\n",
       "      <td>2025-01-15</td>\n",
       "      <td>220.870</td>\n",
       "      <td>221.6761</td>\n",
       "      <td>218.0100</td>\n",
       "      <td>220.03</td>\n",
       "      <td>2951825</td>\n",
       "    </tr>\n",
       "    <tr>\n",
       "      <th>2025-01-16</th>\n",
       "      <td>2025-01-16</td>\n",
       "      <td>219.690</td>\n",
       "      <td>222.6800</td>\n",
       "      <td>217.3800</td>\n",
       "      <td>222.66</td>\n",
       "      <td>3329060</td>\n",
       "    </tr>\n",
       "    <tr>\n",
       "      <th>2025-01-17</th>\n",
       "      <td>2025-01-17</td>\n",
       "      <td>225.955</td>\n",
       "      <td>225.9550</td>\n",
       "      <td>223.6400</td>\n",
       "      <td>224.79</td>\n",
       "      <td>5506837</td>\n",
       "    </tr>\n",
       "    <tr>\n",
       "      <th>2025-01-21</th>\n",
       "      <td>2025-01-21</td>\n",
       "      <td>224.990</td>\n",
       "      <td>227.4500</td>\n",
       "      <td>222.8302</td>\n",
       "      <td>224.26</td>\n",
       "      <td>3982203</td>\n",
       "    </tr>\n",
       "  </tbody>\n",
       "</table>\n",
       "</div>"
      ],
      "text/plain": [
       "            timestamp     open      high       low   close   volume\n",
       "timestamp                                                          \n",
       "2025-01-06 2025-01-06  223.000  224.3500  220.7500  222.67  2847128\n",
       "2025-01-07 2025-01-07  223.350  226.7110  222.8300  223.96  3299701\n",
       "2025-01-08 2025-01-08  223.910  224.9000  220.8300  223.18  2619768\n",
       "2025-01-10 2025-01-10  222.000  222.4300  216.8000  219.75  3570497\n",
       "2025-01-13 2025-01-13  217.890  219.5900  214.7500  217.40  3716816\n",
       "2025-01-14 2025-01-14  218.000  218.1250  214.6100  217.75  3485829\n",
       "2025-01-15 2025-01-15  220.870  221.6761  218.0100  220.03  2951825\n",
       "2025-01-16 2025-01-16  219.690  222.6800  217.3800  222.66  3329060\n",
       "2025-01-17 2025-01-17  225.955  225.9550  223.6400  224.79  5506837\n",
       "2025-01-21 2025-01-21  224.990  227.4500  222.8302  224.26  3982203"
      ]
     },
     "execution_count": 34,
     "metadata": {},
     "output_type": "execute_result"
    }
   ],
   "source": [
    "sample = df['2024-12-01':'2025-11-01']\n",
    "sample.head(10)"
   ]
  },
  {
   "cell_type": "code",
   "execution_count": 32,
   "id": "f9134a51",
   "metadata": {
    "slideshow": {
     "slide_type": "subslide"
    }
   },
   "outputs": [
    {
     "data": {
      "text/plain": [
       "timestamp\n",
       "2025-01-06    1\n",
       "2025-01-07    1\n",
       "2025-01-08    1\n",
       "2025-01-10    1\n",
       "2025-01-13    1\n",
       "             ..\n",
       "2025-05-23    5\n",
       "2025-05-27    5\n",
       "2025-05-28    5\n",
       "2025-05-29    5\n",
       "2025-05-30    5\n",
       "Name: timestamp, Length: 100, dtype: int32"
      ]
     },
     "execution_count": 32,
     "metadata": {},
     "output_type": "execute_result"
    }
   ],
   "source": [
    "df.timestamp.dt.month"
   ]
  },
  {
   "cell_type": "code",
   "execution_count": 33,
   "id": "80acdb26",
   "metadata": {},
   "outputs": [
    {
     "data": {
      "text/plain": [
       "timestamp\n",
       "2025-01-06     6\n",
       "2025-01-07     7\n",
       "2025-01-08     8\n",
       "2025-01-10    10\n",
       "2025-01-13    13\n",
       "              ..\n",
       "2025-05-23    23\n",
       "2025-05-27    27\n",
       "2025-05-28    28\n",
       "2025-05-29    29\n",
       "2025-05-30    30\n",
       "Name: timestamp, Length: 100, dtype: int32"
      ]
     },
     "execution_count": 33,
     "metadata": {},
     "output_type": "execute_result"
    }
   ],
   "source": [
    "df.timestamp.dt.day"
   ]
  },
  {
   "cell_type": "code",
   "execution_count": 35,
   "id": "75896225",
   "metadata": {},
   "outputs": [
    {
     "data": {
      "text/html": [
       "<div>\n",
       "<style scoped>\n",
       "    .dataframe tbody tr th:only-of-type {\n",
       "        vertical-align: middle;\n",
       "    }\n",
       "\n",
       "    .dataframe tbody tr th {\n",
       "        vertical-align: top;\n",
       "    }\n",
       "\n",
       "    .dataframe thead th {\n",
       "        text-align: right;\n",
       "    }\n",
       "</style>\n",
       "<table border=\"1\" class=\"dataframe\">\n",
       "  <thead>\n",
       "    <tr style=\"text-align: right;\">\n",
       "      <th></th>\n",
       "      <th>timestamp</th>\n",
       "      <th>open</th>\n",
       "      <th>high</th>\n",
       "      <th>low</th>\n",
       "      <th>close</th>\n",
       "      <th>volume</th>\n",
       "    </tr>\n",
       "    <tr>\n",
       "      <th>timestamp</th>\n",
       "      <th></th>\n",
       "      <th></th>\n",
       "      <th></th>\n",
       "      <th></th>\n",
       "      <th></th>\n",
       "      <th></th>\n",
       "    </tr>\n",
       "  </thead>\n",
       "  <tbody>\n",
       "    <tr>\n",
       "      <th>2025-01-22</th>\n",
       "      <td>2025-01-22</td>\n",
       "      <td>221.98</td>\n",
       "      <td>224.4000</td>\n",
       "      <td>220.35</td>\n",
       "      <td>223.26</td>\n",
       "      <td>4759490</td>\n",
       "    </tr>\n",
       "    <tr>\n",
       "      <th>2025-01-23</th>\n",
       "      <td>2025-01-23</td>\n",
       "      <td>223.94</td>\n",
       "      <td>226.0400</td>\n",
       "      <td>223.15</td>\n",
       "      <td>226.04</td>\n",
       "      <td>3619651</td>\n",
       "    </tr>\n",
       "    <tr>\n",
       "      <th>2025-01-24</th>\n",
       "      <td>2025-01-24</td>\n",
       "      <td>225.27</td>\n",
       "      <td>226.8104</td>\n",
       "      <td>223.80</td>\n",
       "      <td>224.80</td>\n",
       "      <td>3233293</td>\n",
       "    </tr>\n",
       "    <tr>\n",
       "      <th>2025-01-27</th>\n",
       "      <td>2025-01-27</td>\n",
       "      <td>222.19</td>\n",
       "      <td>224.3000</td>\n",
       "      <td>219.84</td>\n",
       "      <td>224.13</td>\n",
       "      <td>4898355</td>\n",
       "    </tr>\n",
       "    <tr>\n",
       "      <th>2025-01-28</th>\n",
       "      <td>2025-01-28</td>\n",
       "      <td>224.32</td>\n",
       "      <td>225.7700</td>\n",
       "      <td>221.77</td>\n",
       "      <td>225.66</td>\n",
       "      <td>4485429</td>\n",
       "    </tr>\n",
       "  </tbody>\n",
       "</table>\n",
       "</div>"
      ],
      "text/plain": [
       "            timestamp    open      high     low   close   volume\n",
       "timestamp                                                       \n",
       "2025-01-22 2025-01-22  221.98  224.4000  220.35  223.26  4759490\n",
       "2025-01-23 2025-01-23  223.94  226.0400  223.15  226.04  3619651\n",
       "2025-01-24 2025-01-24  225.27  226.8104  223.80  224.80  3233293\n",
       "2025-01-27 2025-01-27  222.19  224.3000  219.84  224.13  4898355\n",
       "2025-01-28 2025-01-28  224.32  225.7700  221.77  225.66  4485429"
      ]
     },
     "execution_count": 35,
     "metadata": {},
     "output_type": "execute_result"
    }
   ],
   "source": [
    "start = df['timestamp'].iloc[10]\n",
    "stop = df['timestamp'].iloc[20]\n",
    "\n",
    "sample = df[start:stop]\n",
    "\n",
    "sample.head()"
   ]
  },
  {
   "cell_type": "markdown",
   "id": "c55154f1",
   "metadata": {
    "slideshow": {
     "slide_type": "slide"
    }
   },
   "source": [
    "# Cos'è la Stationarity e perchè è così importante?\n",
    "\n",
    "Molti modelli di previsione (es. ARIMA) richiedono stazionarietà per funzionare correttamente. Se i dati non sono stazionari, bisogna trasformarli (es. con differenze) prima di applicare il modello."
   ]
  },
  {
   "cell_type": "markdown",
   "id": "36fb1d4e",
   "metadata": {
    "slideshow": {
     "slide_type": "slide"
    }
   },
   "source": [
    "# Definizione stationarity\n",
    "Una serie temporale si definisce **stazionaria** se le proprietà statistiche, come media, varianza e autocorrelazione, non cambiano nel tempo.\n",
    "\n",
    "- **Media costante:** La media della serie non è una funzione del tempo.\n",
    "\n",
    "- **Varianza costante:** La varianza della serie è una funzione del tempo. Questa proprietà è nota come omoscedasticità - > **La dispersione dei valori (volatilità) resta stabile**. \n",
    "\n",
    "- **Covarianza costante:** La covarianza del termine i-esimo e del termine (i+m)-esimo termine non è una funzione del tempo.\n",
    "\n",
    "### Caratteristiche\n",
    "1. Non mostra un trend evidente o una stagionalità (a meno che queste siano state rimosse).\n",
    "2. Le oscillazioni intorno alla media sono relativamente costanti.\n",
    "3. È necessaria per molte tecniche di analisi e modellazione, come l'ARIMA, che assumono la stazionarietà.\n"
   ]
  },
  {
   "cell_type": "markdown",
   "id": "01f029e0",
   "metadata": {},
   "source": [
    "# Trend\n",
    "**Definizione:** Il trend rappresenta una variazione a lungo termine nella media della serie temporale: è una direzione generale (crescente o decrescente) che i dati seguono nel tempo.\n",
    " + **Caratteristiche**: può essere **lineare** (es. un aumento costante nel tempo) o **non lineare** (es. una crescita esponenziale o un ciclo). È spesso il risultato di fattori come crescita economica, cambiamenti stagionali cumulativi o modifiche strutturali.\n",
    " \n",
    "*Esempio:* Un trend può essere visibile in dati come il PIL di un paese, che tende ad aumentare nel tempo, o nei dati delle temperature globali, che mostrano un riscaldamento globale."
   ]
  },
  {
   "cell_type": "markdown",
   "id": "c5c0b9fd",
   "metadata": {
    "slideshow": {
     "slide_type": "slide"
    }
   },
   "source": [
    "# Due Dataset a confronto"
   ]
  },
  {
   "cell_type": "code",
   "execution_count": 36,
   "id": "33d3a449",
   "metadata": {
    "slideshow": {
     "slide_type": "subslide"
    }
   },
   "outputs": [
    {
     "data": {
      "text/plain": [
       "<Axes: title={'center': 'HR Data'}>"
      ]
     },
     "execution_count": 36,
     "metadata": {},
     "output_type": "execute_result"
    },
    {
     "data": {
      "image/png": "[encoded data removed]",
      "text/plain": [
       "<Figure size 640x480 with 1 Axes>"
      ]
     },
     "metadata": {},
     "output_type": "display_data"
    }
   ],
   "source": [
    "hr = pd.read_csv(\"https://raw.githubusercontent.com/alyssaq/python-data-science-intro/master/datasets/heart-rate-time-series.csv\", header=None)\n",
    "hr.columns = ['rate']\n",
    "\n",
    "hr.plot(title='HR Data')"
   ]
  },
  {
   "cell_type": "markdown",
   "id": "961d76b1",
   "metadata": {
    "slideshow": {
     "slide_type": "slide"
    }
   },
   "source": [
    "# La storia di due set di dati"
   ]
  },
  {
   "cell_type": "code",
   "execution_count": 37,
   "id": "a677b354",
   "metadata": {
    "slideshow": {
     "slide_type": "subslide"
    }
   },
   "outputs": [
    {
     "data": {
      "text/plain": [
       "<Axes: title={'center': 'Stock Data'}, xlabel='timestamp'>"
      ]
     },
     "execution_count": 37,
     "metadata": {},
     "output_type": "execute_result"
    },
    {
     "data": {
      "image/png": "[encoded data removed]",
      "text/plain": [
       "<Figure size 640x480 with 1 Axes>"
      ]
     },
     "metadata": {},
     "output_type": "display_data"
    }
   ],
   "source": [
    "df['close'].plot(title='Stock Data')"
   ]
  },
  {
   "cell_type": "markdown",
   "id": "e177cebf",
   "metadata": {
    "slideshow": {
     "slide_type": "slide"
    }
   },
   "source": [
    "# Test di stazionarietà\n",
    "\n",
    "# Augmented Dickey-Fuller (ADF) Test\n",
    "\n",
    "Il test ADF è uno dei test statistici più popolari per verificare la stazionarietà di una serie temporale.\n",
    "\n",
    "Il test ADF ci aiuta a capire se possiamo modellare direttamente una serie o se dobbiamo prima trasformarla (es. differenza o log): è uno strumento chiave per chi lavora con dati temporali.\n",
    "\n",
    "> **La serie si muove intorno ad una media stabile oppure cambia nel tempo?**\n",
    "\n",
    "L'ipotesi nulla del test ADF è che la serie temporale non sia stazionaria a causa della presenza di una radice unitaria.\n",
    "\n",
    "$ \n",
    "\\Delta Y_t = \\alpha + \\beta t + \\gamma Y_{t-1} + \\delta_1 \\Delta Y_{t-1} + \\ldots + \\delta_{p-1} \\Delta Y_{t-p+1} + \\epsilon_t\n",
    "$\n",
    "\n",
    "Dove:\n",
    "- $\\Delta Y_t$ e la serie di differenze\n",
    "- $\\alpha$, $\\beta$, and $\\gamma$ sono i coefficienti \n",
    "- $p$ È il numero di lag, ovvero indica un ritardo temporale, ossia un'osservazione passata della serie temporale. E' il termine per correggere l'autocorrelazione dei residui. \n",
    "- $\\epsilon_t$ rappresenta l'errore ed è definito il rumore bianco. \n",
    "\n",
    "# In pratica\n",
    "1. Il test ADF prende la serie e guarda:\n",
    "* Se i valori futuri dipendono troppo dai valori passati → **non è stazionaria.**\n",
    "* Se la serie “torna indietro” verso una media stabile, allora **è stazionaria.**\n",
    "\n",
    "2. Il test ADF parte con una ipotesi di default (`ipotesi nulla`): la serie non è stazionaria (ha una radice unitaria).\n",
    "\n",
    "3. Il test ADF fa dei calcoli: se i risultati contraddicono questa ipotesi, allora la rifiuta e conclude: -> La serie è stazionaria."
   ]
  },
  {
   "cell_type": "markdown",
   "id": "766a4268",
   "metadata": {},
   "source": [
    "# I lag\n",
    "Un lag è un valore passato della stessa serie.\n",
    "\n",
    "*Esempio*: se oggi è il giorno 𝑡, allora:\n",
    "* `lag 1` è il valore al giorno `t-1`\n",
    "* `lag 2` è il valore al giorno `t-2`\n",
    "* ecc.\n",
    "\n",
    "Utilizziamo i lag per gestire l'autocorrelazione, ovvero il fatto che i valori attuali dipendano dai valori passati.\n",
    "\n",
    "\n",
    "\n",
    "I **lag nel ADF Test (Augmented Dickey-Fuller Test)** sono una componente cruciale per il calcolo corretto della statistica del test. \n",
    "1. Essi servono a gestire l'autocorrelazione nella serie temporale e a migliorare l'accuratezza del test.\n",
    "2. Senza lag il test potrebbe non distinguere tra stazionarità e non stazionarità. \n",
    "3. I lag aiutano a ridurre l'autocorrelazione dei residui. \n",
    "\n",
    "### Numero dei lag\n",
    "Il numero dei lag influisce direttamente sul test e va scelto con attenzione: troppi lag riducono la potenza del test, mentre pochi lag non consentono al test di correggere l'autocorrelazione dei residui. \n",
    "\n",
    "\n",
    "### Riepilogo \n",
    "I lag nel test ADF sono come gli `\"occhiali correttivi\"` del test perchè ci aiutano a vedere se la serie è veramente stazionaria, eliminando la confusione dovuta alla dipendenza dai valori passati.\n",
    "\n",
    "I lag servono a: \n",
    "* \"Pulire” i residui da autocorrelazione → per avere un test statisticamente corretto\n",
    "* Rendere più robusta l’analisi, anche in presenza di fluttuazioni brevi\n",
    "* Stabilizzare il comportamento dei valori quando c’è rumore o ciclo\n",
    "* Un lag rappresenta il ritardo di una variabile rispetto al suo valore passato. \n",
    "\n",
    "> Il lag è un **input**, la differenza ovvero la variazione tra due valori (t e t-1) è un risultato. Non possiamo calcolare la differenza senza lag\n"
   ]
  },
  {
   "cell_type": "markdown",
   "id": "2c0178d0",
   "metadata": {},
   "source": [
    "# Autocorrelazione \n",
    "\n",
    "**L'autocorrelazione** in una serie temporale è quando **i valori passati della serie influenzano i valori presenti.**\n",
    "\n",
    "1. E'una misura di quanto un valore nella serie sia correlato con i suoi valori precedenti (ritardati o lag). \n",
    "2. Nel contesto dell'ADF Test (Augmented Dickey-Fuller), l'autocorrelazione è importante perché, se non viene considerata, può portare a risultati fuorvianti sullo stato di stazionarietà della serie.\n",
    "3. Se c'è autocorrelazione, i residui del modello non sono indipendenti. Questo viola l'assunzione di indipendenza degli errori, compromettendo la validità del test.\n",
    "4. Se l'autocorrelazione non viene corretta, il test potrebbe confondere un comportamento di random walk (non stazionario) con una stazionarietà apparente.\n"
   ]
  },
  {
   "cell_type": "markdown",
   "id": "499d3397",
   "metadata": {
    "slideshow": {
     "slide_type": "slide"
    }
   },
   "source": [
    "# Kwiatkowski-Phillips-Schmidt-Shin (KPSS) Test\n",
    "E' un test simile all'ADF, ma con una logica opposta:\n",
    "1. ADF: ipotesi nulla -> La serie non è stazionaria.\n",
    "2. KPSS: ipotesi nulla -> La serie è stazionaria. \n",
    "\n",
    "### Ipotesi nulla: i dati sono stazionari\n",
    "Il test KPSS è un altro test popolare per la stazionarietà, in cui l'ipotesi nulla è che i dati siano stazionari attorno a una tendenza deterministica.\n",
    "\n",
    "Il KPSS controlla **se una serie oscilla stabilmente attorno a una linea**, anche se quella linea non è piatta (cioè può avere una tendenza).\n",
    "\n",
    "$\n",
    "Y_t = \\alpha + \\beta t + \\rho Y_{t-1} + \\epsilon_t\n",
    "$\n",
    "\n",
    "Where:\n",
    "- $Y_t$ è la time series\n",
    "- $\\alpha$ e $\\beta$ sono i coefficienti\n",
    "- $\\rho$ è il parametro autoregressivo\n",
    "- $\\epsilon_t$ è il termine di errore "
   ]
  },
  {
   "cell_type": "markdown",
   "id": "074ec3b3",
   "metadata": {},
   "source": [
    "# KPSS \n",
    "\n",
    "1. Il KPSS Test è un test statistico utilizzato per verificare la stazionarietà di una serie temporale.\n",
    "2. È complementare all'ADF Test e spesso viene usato insieme per avere una diagnosi più completa della stazionarietà.\n",
    "3. A differenza dell'ADF Test, che testa se una serie è non stazionaria (ha una radice unitaria), il KPSS Test verifica se una serie è stazionaria attorno a una media costante o a un trend lineare.\n",
    "4. Il KPSS Test stima la stazionarietà verificando la presenza di una **componente di trend deterministico nella serie temporale.** \n",
    "\n",
    "> **A differenza dell'ADF Test, il KPSS si concentra sulla stazionarietà attorno a un valore medio o un trend lineare.**\n",
    "\n",
    "Insieme all'ADF Test, offre un'analisi complementare per identificare la natura della non stazionarietà (trend stocastico vs deterministico), utile per la modellazione e la previsione delle serie temporali.\n",
    "\n",
    "\n",
    "## Ipotesi Nulla(H0):\n",
    "* La serie è stazionaria attorno ad una media costante(o ad un trend lineare).\n",
    "* La componente random walk non è presente, Rt=0\n",
    "\n",
    "## Ipotesi Alternativa(H1):\n",
    "* La serie non è stazionaria. \n",
    "* E' presente una componente random walk. \n",
    "\n",
    "## p-value\n",
    "+ `se p<0.05`: rifiutiamo H0, la serie non è stazionaria \n",
    "+ `se p>0.05`: non possiamo rifiutare H0, la serie è stazionaria. \n",
    "\n",
    "> Se il p-value è basso, significa che la serie si allontana troppo → quindi non è stazionaria."
   ]
  },
  {
   "cell_type": "markdown",
   "id": "47c8dc17",
   "metadata": {
    "slideshow": {
     "slide_type": "subslide"
    }
   },
   "source": [
    "# Il Test ADF"
   ]
  },
  {
   "cell_type": "code",
   "execution_count": 38,
   "id": "b43364c8",
   "metadata": {
    "slideshow": {
     "slide_type": "subslide"
    }
   },
   "outputs": [
    {
     "name": "stdout",
     "output_type": "stream",
     "text": [
      "ADF Statistic Stock: -2.2449044588427984\n",
      "p-value: 0.1903530547665238\n",
      "Critical Values:\n",
      "\t1%: -3.498198082189098\n",
      "\t5%: -2.891208211860468\n",
      "\t10%: -2.5825959973472097\n",
      "---------------------------\n",
      "ADF Statistic HR: -7.4553679461505284\n",
      "p-value: 5.530513601228041e-11\n",
      "Critical Values:\n",
      "\t1%: -3.4340373743018104\n",
      "\t5%: -2.8631687706662676\n",
      "\t10%: -2.567637106781613\n"
     ]
    }
   ],
   "source": [
    "from statsmodels.tsa.stattools import adfuller\n",
    "\n",
    "result_adf_stock = adfuller(df['close']) # prima serie temporale\n",
    "result_adf_hr = adfuller(hr) # seconda serie temporale\n",
    "\n",
    "print(f'ADF Statistic Stock: {result_adf_stock[0]}') # valore ADF calcolato nel test\n",
    "print(f'p-value: {result_adf_stock[1]}') # p-value\n",
    "print('Critical Values:')\n",
    "for key, value in result_adf_stock[4].items(): # valori critici\n",
    "    print(f'\\t{key}: {value}')\n",
    "\n",
    "print(\"---------------------------\")\n",
    "    \n",
    "print(f'ADF Statistic HR: {result_adf_hr[0]}')\n",
    "print(f'p-value: {result_adf_hr[1]}')\n",
    "print('Critical Values:')\n",
    "for key, value in result_adf_hr[4].items():\n",
    "    print(f'\\t{key}: {value}') "
   ]
  },
  {
   "cell_type": "markdown",
   "id": "2b47ae5a",
   "metadata": {},
   "source": [
    "# Serie stock\n",
    "1. Il p-value = 0.19 è maggiore di 0.05 → non possiamo rifiutare l'ipotesi nulla.\n",
    "2. La serie Stock NON è stazionaria.\n",
    "3. Il valore ADF (-2.24) è maggiore di tutti i valori critici (−3.49, −2.89, −2.58) → conferma che la serie non è stazionaria.\n",
    "\n",
    "# Serie hr\n",
    "1. Il p-value è quasi zero → rifiutiamo l'ipotesi nulla con certezza.\n",
    "2. La serie HR è stazionaria.\n",
    "3. Il valore ADF (−7.45) è molto più basso di tutti i valori critici → conferma la forte stazionarietà."
   ]
  },
  {
   "cell_type": "markdown",
   "id": "79a3dc3d",
   "metadata": {},
   "source": [
    "# Alcune osservazioni\n",
    "Una serie temporale non stazionaria può apparire stazionaria in un determinato intervallo di tempo. \n",
    "\n",
    "> Questo fenomeno si verifica perché la **stazionarietà è una proprietà che può variare nel tempo, soprattutto in serie temporali complesse.**\n",
    "\n",
    "\n",
    "### Cambiamenti a breve termine rispetto alla lunga durata:\n",
    "Una serie con un trend o stagionalità può mostrare caratteristiche stazionarie in un intervallo di tempo breve, dove il trend o la stagionalità sono meno evidenti. \n",
    "\n",
    "*Esempio: Una serie con un trend crescente lineare può sembrare stazionaria se osservata su un intervallo di tempo molto piccolo.*\n",
    "\n",
    "### Presenza di comportamenti stazionari locali:\n",
    "Alcune serie temporali sono stazionarie solo in specifici intervalli di tempo (processi quasi-stazionari o regimi locali stazionari). \n",
    "\n",
    "*Esempio: Il mercato azionario può mostrare un comportamento stazionario durante un periodo stabile (senza crisi o espansione), ma diventare non stazionario durante una crisi economica.*\n",
    "\n",
    "### Cambiamenti strutturali:\n",
    "La serie può subire cambiamenti strutturali o regimi, come un mutamento di politica economica o un evento straordinario, che la rendono temporaneamente stazionaria. \n",
    "\n",
    "*Esempio: I prezzi energetici potrebbero essere stazionari in un periodo di stabilità politica, ma diventare non stazionari durante una crisi energetica.*\n",
    "\n",
    "### Effetti stagionali o ciclici:\n",
    "Una serie stagionale potrebbe sembrare stazionaria se osservata in una specifica finestra temporale in cui la stagionalità è costante.\n",
    "\n",
    "*Esempio: I consumi energetici possono essere stabili durante i mesi invernali ma variabili su tutto l'anno.*\n",
    "\n",
    "### Filtro o manipolazione dei dati:\n",
    "Applicando un filtro o una trasformazione (come differenziazione o media mobile), la serie può sembrare stazionaria temporaneamente.\n",
    "\n",
    "*Esempio: Una serie differenziata può risultare stazionaria localmente anche se la serie originale non lo era.*"
   ]
  },
  {
   "cell_type": "markdown",
   "id": "dbfab861",
   "metadata": {
    "slideshow": {
     "slide_type": "subslide"
    }
   },
   "source": [
    "# Il Test KPSS"
   ]
  },
  {
   "cell_type": "code",
   "execution_count": 43,
   "id": "9b223d7a",
   "metadata": {
    "slideshow": {
     "slide_type": "subslide"
    }
   },
   "outputs": [
    {
     "name": "stdout",
     "output_type": "stream",
     "text": [
      "KPSS Statistic: 0.3418924559707821\n",
      "p-value: 0.1\n",
      "Critical Values:\n",
      "\t10%: 0.347\n",
      "\t5%: 0.463\n",
      "\t2.5%: 0.574\n",
      "\t1%: 0.739\n",
      "---------------------------\n",
      "KPSS Statistic: 0.08162807985106502\n",
      "p-value: 0.1\n",
      "Critical Values:\n",
      "\t10%: 0.347\n",
      "\t5%: 0.463\n",
      "\t2.5%: 0.574\n",
      "\t1%: 0.739\n"
     ]
    },
    {
     "name": "stderr",
     "output_type": "stream",
     "text": [
      "/var/folders/11/02ps53796pncj4x4b53sr7nw0000gn/T/ipykernel_60023/1387073819.py:4: InterpolationWarning: The test statistic is outside of the range of p-values available in the\n",
      "look-up table. The actual p-value is greater than the p-value returned.\n",
      "\n",
      "  result_adf_stock = kpss(df['close'], nlags=\"auto\")\n",
      "/var/folders/11/02ps53796pncj4x4b53sr7nw0000gn/T/ipykernel_60023/1387073819.py:5: InterpolationWarning: The test statistic is outside of the range of p-values available in the\n",
      "look-up table. The actual p-value is greater than the p-value returned.\n",
      "\n",
      "  result_adf_hr = kpss(hr, nlags=\"auto\")\n"
     ]
    }
   ],
   "source": [
    "from statsmodels.tsa.stattools import kpss\n",
    "\n",
    "result_adf_stock = kpss(df['close'], nlags=\"auto\") # auto permette al test di scegliere automaticament N lag\n",
    "result_adf_hr = kpss(hr, nlags=\"auto\")\n",
    "\n",
    "\n",
    "print(f'KPSS Statistic: {result_adf_stock[0]}')\n",
    "print(f'p-value: {result_adf_stock[1]}')\n",
    "print('Critical Values:')\n",
    "for key, value in result_adf_stock[3].items():\n",
    "    print(f'\\t{key}: {value}')\n",
    "    \n",
    "print(\"---------------------------\")\n",
    "\n",
    "print(f'KPSS Statistic: {result_adf_hr[0]}')\n",
    "print(f'p-value: {result_adf_hr[1]}')\n",
    "print('Critical Values:')\n",
    "for key, value in result_adf_hr[3].items():\n",
    "    print(f'\\t{key}: {value}')"
   ]
  },
  {
   "cell_type": "markdown",
   "id": "a05e6d51",
   "metadata": {},
   "source": [
    "# Serie stock\n",
    "* La statistica (0.3419) è sotto tutti i valori critici.\n",
    "* Il p-value è 0.1, quindi maggiore di 0.05 → non rifiuti l'ipotesi nulla.\n",
    "* La serie close è stazionaria (attorno a una tendenza) secondo il test KPSS.\n",
    "\n",
    "# Serie hr\n",
    "* La statistica è molto bassa.\n",
    "* Il p-value è alto, quindi non possiamo rifiutare l’ipotesi nulla.\n",
    "* La serie hr è anch'essa stazionaria secondo KPSS.\n",
    "\n",
    "\n",
    "Se i test ADF e Kpss sono in disaccordo è utile trasformare la serie (differenze) e ritestare. "
   ]
  },
  {
   "cell_type": "markdown",
   "id": "3f6a845d",
   "metadata": {
    "slideshow": {
     "slide_type": "slide"
    }
   },
   "source": [
    "# Come sistemiamo i dati che non sono stazionari?"
   ]
  },
  {
   "cell_type": "markdown",
   "id": "05ad4519",
   "metadata": {
    "slideshow": {
     "slide_type": "subslide"
    }
   },
   "source": [
    "# Differencing\n",
    "\n",
    "La differenziazione (o differencing) è una tecnica utilizzata nell’analisi delle serie temporali per rendere una serie stazionaria: implica trasformare la serie calcolando le differenze tra le osservazioni consecutive.\n",
    "\n",
    "1. La differenziazione serve per trasformare una serie non stazionaria in una stazionaria, rendendola adatta alla modellazione e previsione.\n",
    "\n",
    "2. È il processo di sottrarre ogni valore della serie dal valore precedente, per rimuovere trend o stagionalità.\n",
    "\n",
    "> La differenziazione serve per trasformare una serie non stazionaria in una stazionaria, rendendola adatta alla modellazione e previsione.\n",
    "\n",
    "\n",
    "### Differenze del primo ordine\n",
    "\n",
    "La prima differenza è data dalla seguente equazione:\n",
    "\n",
    "$ \n",
    "\\Delta Y_t = Y_t - Y_{t-1}\n",
    "$\n"
   ]
  },
  {
   "cell_type": "markdown",
   "id": "759c9f8d",
   "metadata": {},
   "source": [
    "Eseguo la differenziazione della serie `df[\"close\"].\n",
    "1. Ordino il DataFrame in base all'indice: è fondamentale prima di calcolare le differenze, perchè garantisce che i valori siano ordinati cronologicamente. \n",
    "2. Calcolo la differenza tra ogni valore ed il precedente nella serie `close`.\n",
    "3. Rimuovo i NaN.\n",
    "\n",
    "Ho creato una nuova serie stazionaria (o quasi), che rappresenta le variazioni giornaliere del prezzo\n",
    "\n",
    "Eseguo il test ADF su new_station_data per verificare se ora è stazionaria"
   ]
  },
  {
   "cell_type": "code",
   "execution_count": 44,
   "id": "86d1cb51",
   "metadata": {
    "slideshow": {
     "slide_type": "subslide"
    }
   },
   "outputs": [
    {
     "data": {
      "text/plain": [
       "timestamp\n",
       "2025-01-07    1.29\n",
       "2025-01-08   -0.78\n",
       "2025-01-10   -3.43\n",
       "2025-01-13   -2.35\n",
       "2025-01-14    0.35\n",
       "Name: close, dtype: float64"
      ]
     },
     "execution_count": 44,
     "metadata": {},
     "output_type": "execute_result"
    }
   ],
   "source": [
    "df = df.sort_index()\n",
    "new_station_data = df['close'].diff()\n",
    "new_station_data = new_station_data.dropna()\n",
    "new_station_data.head()"
   ]
  },
  {
   "cell_type": "code",
   "execution_count": 46,
   "id": "73a211a3",
   "metadata": {
    "slideshow": {
     "slide_type": "slide"
    }
   },
   "outputs": [
    {
     "name": "stdout",
     "output_type": "stream",
     "text": [
      "ADF Statistic Stock: -10.494838720706937\n",
      "p-value: 1.1224979244274618e-18\n",
      "Critical Values:\n",
      "\t1%: -3.4989097606014496\n",
      "\t5%: -2.891516256916761\n",
      "\t10%: -2.5827604414827157\n",
      "---------------------------\n",
      "KPSS Statistic: 0.07497494651416375\n",
      "p-value: 0.1\n",
      "Critical Values:\n",
      "\t10%: 0.347\n",
      "\t5%: 0.463\n",
      "\t2.5%: 0.574\n",
      "\t1%: 0.739\n"
     ]
    },
    {
     "name": "stderr",
     "output_type": "stream",
     "text": [
      "/var/folders/11/02ps53796pncj4x4b53sr7nw0000gn/T/ipykernel_60023/1054821713.py:2: InterpolationWarning: The test statistic is outside of the range of p-values available in the\n",
      "look-up table. The actual p-value is greater than the p-value returned.\n",
      "\n",
      "  result_kpss_stock = kpss(new_station_data, nlags=\"auto\")\n"
     ]
    }
   ],
   "source": [
    "result_adf_stock = adfuller(new_station_data)\n",
    "result_kpss_stock = kpss(new_station_data, nlags=\"auto\")\n",
    "\n",
    "print(f'ADF Statistic Stock: {result_adf_stock[0]}')\n",
    "print(f'p-value: {result_adf_stock[1]}')\n",
    "print('Critical Values:')\n",
    "for key, value in result_adf_stock[4].items():\n",
    "    print(f'\\t{key}: {value}')\n",
    "    \n",
    "print(\"---------------------------\")\n",
    "\n",
    "print(f'KPSS Statistic: {result_kpss_stock[0]}')\n",
    "print(f'p-value: {result_kpss_stock[1]}')\n",
    "print('Critical Values:')\n",
    "for key, value in result_kpss_stock[3].items():\n",
    "    print(f'\\t{key}: {value}')\n",
    "    "
   ]
  },
  {
   "cell_type": "markdown",
   "id": "ea85516f",
   "metadata": {},
   "source": [
    "# Interpretazione ADF:\n",
    "1. L'ipotesi nulla (H₀) del test ADF è: la serie non è stazionaria.\n",
    "2. Se la statistica ADF è più bassa (più negativa) del valore critico, si rifiuta H₀.\n",
    "\n",
    "* -10.495 < -3.499 → rifiutiamo l'ipotesi nulla\n",
    "* p-value < 0.05 → conferma la decisione\n",
    "* Conclusione: la serie è stazionaria secondo il test ADF.\n",
    "\n",
    "\n",
    "# Interpretazione KPSS:\n",
    "1. L'ipotesi nulla (H₀) del test KPSS è: la serie è stazionaria (attorno a una media o tendenza).\n",
    "2. Se la statistica è inferiore ai valori critici, non si rifiuta H₀.\n",
    "\n",
    "* 0.074 < 0.347 → la statistica è ben sotto tutti i valori critici\n",
    "* p-value = 0.1 → molto alto → non rifiutiamo l'ipotesi nulla\n",
    "* Conclusione: anche secondo il test KPSS, la serie è stazionaria.\n",
    "\n",
    "\n",
    "La serie differenziata è stazionaria, secondo entrambi i test."
   ]
  },
  {
   "cell_type": "code",
   "execution_count": 47,
   "id": "06d62df9",
   "metadata": {
    "slideshow": {
     "slide_type": "slide"
    }
   },
   "outputs": [
    {
     "data": {
      "text/plain": [
       "<Axes: title={'center': 'Stock Data'}, xlabel='timestamp'>"
      ]
     },
     "execution_count": 47,
     "metadata": {},
     "output_type": "execute_result"
    },
    {
     "data": {
      "image/png": "[encoded data removed]",
      "text/plain": [
       "<Figure size 640x480 with 1 Axes>"
      ]
     },
     "metadata": {},
     "output_type": "display_data"
    }
   ],
   "source": [
    "new_station_data.plot(title='Stock Data')"
   ]
  }
 ],
 "metadata": {
  "celltoolbar": "Slideshow",
  "kernelspec": {
   "display_name": "Python (Anaconda3)",
   "language": "python",
   "name": "anaconda3"
  },
  "language_info": {
   "codemirror_mode": {
    "name": "ipython",
    "version": 3
   },
   "file_extension": ".py",
   "mimetype": "text/x-python",
   "name": "python",
   "nbconvert_exporter": "python",
   "pygments_lexer": "ipython3",
   "version": "3.12.2"
  },
  "vscode": {
   "interpreter": {
    "hash": "b0fa6594d8f4cbf19f97940f81e996739fb7646882a419484c72d19e05852a7e"
   }
  }
 },
 "nbformat": 4,
 "nbformat_minor": 5
}
