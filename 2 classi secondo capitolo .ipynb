{
 "cells": [
  {
   "cell_type": "markdown",
   "id": "cf4179da",
   "metadata": {},
   "source": [
    "# Esercitazione 1 - Classi ed oggetti (base)\n",
    "Crea una classe **Prodotto** per gestire i database di un articolo di magazzino. \n",
    "\n",
    "### Istruzioni:\n",
    "1. Crea una **classe** chiamata **Prodotto** con i seguenti attributi: *nome, codice, quantità*.\n",
    "2. Aggiungi un metodo **mostra_info()** che stampa i dettagli del prodotto.\n",
    "3. Istanzia almeno 3 oggetti Prodotto e stampa le loro info.\n",
    "\n",
    "### Esempio Output atteso: \n",
    "Prodotto: Penna, Codice: A123, Quantità: 50"
   ]
  },
  {
   "cell_type": "markdown",
   "id": "4a4ba080",
   "metadata": {},
   "source": [
    "|<br>\n",
    "|<br>\n",
    "|<br>\n",
    "|<br>\n",
    "|<br>\n",
    "|<br>\n",
    "|<br>\n",
    "|<br>\n",
    "|<br>\n",
    "|<br>"
   ]
  },
  {
   "cell_type": "code",
   "execution_count": 1,
   "id": "66b0b1fe",
   "metadata": {},
   "outputs": [
    {
     "name": "stdout",
     "output_type": "stream",
     "text": [
      "Prodotto: Penna, Codice: A123, Quantità: 50\n",
      "Prodotto: Quaderno, Codice: B456, Quantità: 30\n",
      "Prodotto: Righello, Codice: C789, Quantità: 15\n"
     ]
    }
   ],
   "source": [
    "class Prodotto:\n",
    "    def __init__(self, nome, codice, quantita):\n",
    "        self.nome = nome\n",
    "        self.codice = codice\n",
    "        self.quantita = quantita\n",
    "\n",
    "    def mostra_info(self):\n",
    "        print(f\"Prodotto: {self.nome}, Codice: {self.codice}, Quantità: {self.quantita}\")\n",
    "\n",
    "# Creazione di oggetti\n",
    "p1 = Prodotto(\"Penna\", \"A123\", 50)\n",
    "p2 = Prodotto(\"Quaderno\", \"B456\", 30)\n",
    "p3 = Prodotto(\"Righello\", \"C789\", 15)\n",
    "\n",
    "# Visualizzazione info\n",
    "p1.mostra_info()\n",
    "p2.mostra_info()\n",
    "p3.mostra_info()\n"
   ]
  },
  {
   "cell_type": "markdown",
   "id": "58a4e674",
   "metadata": {},
   "source": [
    "# Esercitazione 2 - Incapsulamento (gestione sicura delle scorte)\n",
    "Proteggi lo stato interno di un magazzino e offri solo metodi sicuri per modificarlo.\n",
    "\n",
    "### Istruzioni:\n",
    "1. Crea una classe Magazzino con un attributo privato __scorte (dizionario: codice -> quantità).\n",
    "2. Aggiungi metodi pubblici:\n",
    " - aggiungi_prodotto(codice, quantita)\n",
    " - rimuovi_prodotto(codice, quantita)\n",
    " - mostra_scorte()\n",
    "3. Impedisci che le quantità diventino negative.\n",
    "\n",
    "### Suggerimento:\n",
    "self.__scorte = {\"A123\": 10, \"B456\": 5}"
   ]
  },
  {
   "cell_type": "markdown",
   "id": "780d4e28",
   "metadata": {},
   "source": [
    "|<br>\n",
    "|<br>\n",
    "|<br>\n",
    "|<br>\n",
    "|<br>\n",
    "|<br>\n",
    "|<br>\n",
    "|<br>\n",
    "|<br>\n",
    "|<br>"
   ]
  },
  {
   "cell_type": "code",
   "execution_count": 14,
   "id": "88f96f08",
   "metadata": {},
   "outputs": [
    {
     "name": "stdout",
     "output_type": "stream",
     "text": [
      "Codice: A123 - Quantità: 7\n",
      "Codice: B456 - Quantità: 5\n"
     ]
    }
   ],
   "source": [
    "class Magazzino:\n",
    "    def __init__(self):\n",
    "        self.__scorte = {}\n",
    "\n",
    "    def aggiungi_prodotto(self, codice, quantita):\n",
    "        if codice in self.__scorte:\n",
    "            self.__scorte[codice] += quantita\n",
    "        else:\n",
    "            self.__scorte[codice] = quantita\n",
    "\n",
    "    def rimuovi_prodotto(self, codice, quantita):\n",
    "        if codice in self.__scorte and self.__scorte[codice] >= quantita:\n",
    "            self.__scorte[codice] -= quantita\n",
    "            if self.__scorte[codice] == 0:\n",
    "                del self.__scorte[codice]\n",
    "        else:\n",
    "            print(\"Errore: scorte insufficienti o prodotto inesistente.\")\n",
    "\n",
    "    def mostra_scorte(self):\n",
    "        for codice, quantita in self.__scorte.items():\n",
    "            print(f\"Codice: {codice} - Quantità: {quantita}\")\n",
    "\n",
    "# Test\n",
    "mio_magazzino = Magazzino()\n",
    "mio_magazzino.aggiungi_prodotto(\"A123\", 10)\n",
    "mio_magazzino.aggiungi_prodotto(\"B456\", 5)\n",
    "mio_magazzino.rimuovi_prodotto(\"A123\", 3)\n",
    "mio_magazzino.mostra_scorte()\n"
   ]
  },
  {
   "cell_type": "markdown",
   "id": "c69b3d3e",
   "metadata": {},
   "source": [
    "# Esercitazione 3 - Ereditarietà (categorie di prodotto)\n",
    "Usa l'ereditarietà per creare sottoclassi di prodotti specializzati.\n",
    "\n",
    "### Istruzioni:\n",
    "1. Crea una classe base Prodotto con attributi: nome, codice, quantità.\n",
    "2. Crea due sottoclassi:\n",
    " - Alimentare: aggiungi attributo \"data_scadenza\"\n",
    " - Elettronico: aggiungi attributo \"voltaggio\"\n",
    "3. Aggiungi metodo mostra_dettagli() nelle sottoclassi che stampi tutte le info.\n",
    "\n",
    "### Esempio Output atteso:\n",
    "Prodotto Elettronico: Televisore - Codice: E789 - Quantità: 4 - Voltaggio: 220V\n"
   ]
  },
  {
   "cell_type": "markdown",
   "id": "3e76d318",
   "metadata": {},
   "source": [
    "|<br>\n",
    "|<br>\n",
    "|<br>\n",
    "|<br>\n",
    "|<br>\n",
    "|<br>\n",
    "|<br>\n",
    "|<br>\n",
    "|<br>\n",
    "|<br>"
   ]
  },
  {
   "cell_type": "code",
   "execution_count": 15,
   "id": "02586a8f",
   "metadata": {},
   "outputs": [
    {
     "name": "stdout",
     "output_type": "stream",
     "text": [
      "Alimentare: Latte, Codice: L001, Quantità: 20, Scadenza: 12/06/2025\n",
      "Elettronico: Televisore, Codice: E789, Quantità: 4, Voltaggio: 220V\n"
     ]
    }
   ],
   "source": [
    "class Prodotto:\n",
    "    def __init__(self, nome, codice, quantita):\n",
    "        self.nome = nome\n",
    "        self.codice = codice\n",
    "        self.quantita = quantita\n",
    "\n",
    "class Alimentare(Prodotto):\n",
    "    def __init__(self, nome, codice, quantita, data_scadenza):\n",
    "        super().__init__(nome, codice, quantita)\n",
    "        self.data_scadenza = data_scadenza\n",
    "\n",
    "    def mostra_dettagli(self):\n",
    "        print(f\"Alimentare: {self.nome}, Codice: {self.codice}, Quantità: {self.quantita}, Scadenza: {self.data_scadenza}\")\n",
    "\n",
    "class Elettronico(Prodotto):\n",
    "    def __init__(self, nome, codice, quantita, voltaggio):\n",
    "        super().__init__(nome, codice, quantita)\n",
    "        self.voltaggio = voltaggio\n",
    "\n",
    "    def mostra_dettagli(self):\n",
    "        print(f\"Elettronico: {self.nome}, Codice: {self.codice}, Quantità: {self.quantita}, Voltaggio: {self.voltaggio}\")\n",
    "\n",
    "# Test\n",
    "a = Alimentare(\"Latte\", \"L001\", 20, \"12/06/2025\")\n",
    "e = Elettronico(\"Televisore\", \"E789\", 4, \"220V\")\n",
    "\n",
    "a.mostra_dettagli()\n",
    "e.mostra_dettagli()\n"
   ]
  },
  {
   "cell_type": "markdown",
   "id": "f266e13b",
   "metadata": {},
   "source": [
    "# Esercitazione 4 - Polimorfismo\n",
    "Crea una funzione unica che stampa le informazioni, adattandosi al tipo di prodotto. \n",
    "\n",
    "### Istruzioni:\n",
    "1. Usa le classi dell'esercitazione 3.\n",
    "2. Crea una funzione **stampa_info(prodotto)** che richiama il metodo **mostra_dettagli()**.\n",
    "3. Passa oggetti diversi (Alimentare, Elettronico) e verifica che la funzione funzioni correttamente per tutti.\n",
    "\n",
    "### Output atteso:\n",
    "Prodotto Alimentare: Biscotti - Scadenza: 12/06/2025\\\n",
    "Prodotto Elettronico: Frullatore - Voltaggio: 220V\n"
   ]
  },
  {
   "cell_type": "markdown",
   "id": "1349c5e0",
   "metadata": {},
   "source": [
    "|<br>\n",
    "|<br>\n",
    "|<br>\n",
    "|<br>\n",
    "|<br>\n",
    "|<br>\n",
    "|<br>\n",
    "|<br>\n",
    "|<br>\n",
    "|<br>"
   ]
  },
  {
   "cell_type": "code",
   "execution_count": 16,
   "id": "da57c58c",
   "metadata": {},
   "outputs": [
    {
     "name": "stdout",
     "output_type": "stream",
     "text": [
      "Alimentare: Biscotti, Codice: A222, Quantità: 10, Scadenza: 01/01/2026\n",
      "Elettronico: Frullatore, Codice: E111, Quantità: 3, Voltaggio: 220V\n"
     ]
    }
   ],
   "source": [
    "# Riutilizza le classi Alimentare ed Elettronico\n",
    "\n",
    "def stampa_info(prodotto):\n",
    "    prodotto.mostra_dettagli()\n",
    "\n",
    "# Test\n",
    "prodotti = [\n",
    "    Alimentare(\"Biscotti\", \"A222\", 10, \"01/01/2026\"),\n",
    "    Elettronico(\"Frullatore\", \"E111\", 3, \"220V\")\n",
    "]\n",
    "\n",
    "for p in prodotti:\n",
    "    stampa_info(p)\n"
   ]
  },
  {
   "cell_type": "markdown",
   "id": "def17ae0",
   "metadata": {},
   "source": [
    "# Esercitazione 5 - Progetto completo: Sistema di magazzino\n",
    "Mettiamo insieme tutto in un'applicazione simulata. \n",
    "\n",
    "### Istruzioni:\n",
    "1. Crea un sistema di magazzino che:\n",
    " - Gestisce diversi tipi di prodotto (ereditarietà)\n",
    " - Protegge le scorte (incapsulamento)\n",
    " - Usa una funzione unica per stampare le info (polimorfismo)\n",
    "2. Aggiungi un menu testuale che permetta di:\n",
    " - Aggiungere un prodotto\n",
    " - Rimuovere un prodotto\n",
    " - Visualizzare la lista dei prodotti\n",
    "\n",
    "#### Esempio (semplificato):\n",
    "--- MENU MAGAZZINO ---\n",
    "1. Aggiungi prodotto\n",
    "2. Rimuovi prodotto\n",
    "3. Mostra magazzino\n",
    "4. Esci\n"
   ]
  },
  {
   "cell_type": "markdown",
   "id": "0704e0a1",
   "metadata": {},
   "source": [
    "|<br>\n",
    "|<br>\n",
    "|<br>\n",
    "|<br>\n",
    "|<br>\n",
    "|<br>\n",
    "|<br>\n",
    "|<br>\n",
    "|<br>\n",
    "|<br>"
   ]
  },
  {
   "cell_type": "markdown",
   "id": "8c70337d",
   "metadata": {},
   "source": [
    "# Soluzione"
   ]
  },
  {
   "cell_type": "code",
   "execution_count": null,
   "id": "3cadf069",
   "metadata": {},
   "outputs": [
    {
     "name": "stdout",
     "output_type": "stream",
     "text": [
      "\n",
      "--- MENU MAGAZZINO ---\n",
      "1. Aggiungi prodotto\n",
      "2. Rimuovi prodotto\n",
      "3. Mostra magazzino\n",
      "4. Esci\n"
     ]
    }
   ],
   "source": [
    "class Prodotto:\n",
    "    def __init__(self, nome, codice, quantita):\n",
    "        self.nome = nome\n",
    "        self.codice = codice\n",
    "        self.quantita = quantita\n",
    "\n",
    "    def mostra_dettagli(self):\n",
    "        print(f\"{self.nome} ({self.codice}) - Quantità: {self.quantita}\")\n",
    "\n",
    "class Alimentare(Prodotto):\n",
    "    def __init__(self, nome, codice, quantita, scadenza):\n",
    "        super().__init__(nome, codice, quantita)\n",
    "        self.scadenza = scadenza\n",
    "\n",
    "    def mostra_dettagli(self):\n",
    "        print(f\"Alimentare: {self.nome} ({self.codice}) - Quantità: {self.quantita} - Scadenza: {self.scadenza}\")\n",
    "\n",
    "class Elettronico(Prodotto):\n",
    "    def __init__(self, nome, codice, quantita, voltaggio):\n",
    "        super().__init__(nome, codice, quantita)\n",
    "        self.voltaggio = voltaggio\n",
    "\n",
    "    def mostra_dettagli(self):\n",
    "        print(f\"Elettronico: {self.nome} ({self.codice}) - Quantità: {self.quantita} - Voltaggio: {self.voltaggio}\")\n",
    "\n",
    "class Magazzino:\n",
    "    def __init__(self):\n",
    "        self.__prodotti = {}\n",
    "\n",
    "    def aggiungi(self, prodotto):\n",
    "        self.__prodotti[prodotto.codice] = prodotto\n",
    "\n",
    "    def rimuovi(self, codice):\n",
    "        if codice in self.__prodotti:\n",
    "            del self.__prodotti[codice]\n",
    "        else:\n",
    "            print(\"Prodotto non trovato.\")\n",
    "\n",
    "    def mostra_tutti(self):\n",
    "        for p in self.__prodotti.values():\n",
    "            p.mostra_dettagli()\n",
    "\n",
    "def main():\n",
    "    magazzino = Magazzino()\n",
    "\n",
    "    while True:\n",
    "        print(\"\\n--- MENU MAGAZZINO ---\")\n",
    "        print(\"1. Aggiungi prodotto\")\n",
    "        print(\"2. Rimuovi prodotto\")\n",
    "        print(\"3. Mostra magazzino\")\n",
    "        print(\"4. Esci\")\n",
    "        scelta = input(\"Scelta: \")\n",
    "\n",
    "        if scelta == \"1\":\n",
    "            tipo = input(\"Tipo (alimentare/elettronico): \")\n",
    "            nome = input(\"Nome: \")\n",
    "            codice = input(\"Codice: \")\n",
    "            quantita = int(input(\"Quantità: \"))\n",
    "\n",
    "            if tipo == \"alimentare\":\n",
    "                scadenza = input(\"Scadenza (GG/MM/AAAA): \")\n",
    "                p = Alimentare(nome, codice, quantita, scadenza)\n",
    "            elif tipo == \"elettronico\":\n",
    "                voltaggio = input(\"Voltaggio: \")\n",
    "                p = Elettronico(nome, codice, quantita, voltaggio)\n",
    "            else:\n",
    "                print(\"Tipo non valido.\")\n",
    "                continue\n",
    "\n",
    "            magazzino.aggiungi(p)\n",
    "\n",
    "        elif scelta == \"2\":\n",
    "            codice = input(\"Codice del prodotto da rimuovere: \")\n",
    "            magazzino.rimuovi(codice)\n",
    "\n",
    "        elif scelta == \"3\":\n",
    "            magazzino.mostra_tutti()\n",
    "\n",
    "        elif scelta == \"4\":\n",
    "            print(\"Uscita dal programma.\")\n",
    "            break\n",
    "        else:\n",
    "            print(\"Scelta non valida.\")\n",
    "\n",
    "if __name__ == \"__main__\":\n",
    "    main()\n"
   ]
  },
  {
   "cell_type": "code",
   "execution_count": null,
   "id": "a284f821",
   "metadata": {},
   "outputs": [],
   "source": []
  }
 ],
 "metadata": {
  "kernelspec": {
   "display_name": "Python (Anaconda3)",
   "language": "python",
   "name": "anaconda3"
  },
  "language_info": {
   "codemirror_mode": {
    "name": "ipython",
    "version": 3
   },
   "file_extension": ".py",
   "mimetype": "text/x-python",
   "name": "python",
   "nbconvert_exporter": "python",
   "pygments_lexer": "ipython3",
   "version": "3.12.2"
  }
 },
 "nbformat": 4,
 "nbformat_minor": 5
}
