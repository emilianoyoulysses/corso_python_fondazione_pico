{
 "cells": [
  {
   "cell_type": "markdown",
   "id": "3be806f9",
   "metadata": {},
   "source": [
    "# Recap Funzioni"
   ]
  },
  {
   "cell_type": "markdown",
   "id": "8d9bddd0",
   "metadata": {},
   "source": [
    "Una **funzione** è un gruppo di istruzioni all'interno di un programma, che svolge un compito preciso. \n",
    "\n",
    "+ E' un blocco di codice **riutilizzabile** che esegue un compito specifico.\n",
    "+ Le funzioni aiutano a organizzare il codice, renderlo più leggibile e prevenire la duplicazione.\n",
    "+ Pensale come a piccoli \"programmi\" all'interno del tuo programma principale.\n",
    "\n",
    "### Anatomia di una Funzione:\n",
    "\n",
    "```python\n",
    "def nome_funzione(parametri):\n",
    "    \"\"\"Docstring opzionale: spiega cosa fa la funzione\"\"\"\n",
    "    # Corpo della funzione: istruzioni da eseguire\n",
    "    return valore_di_ritorno  # Opzionale\n",
    "```\n",
    "\n",
    "* **`def`:** Parola chiave che indica l'inizio della definizione di una funzione. La prima riga si chiama **intestazione** della funzione e segna l'inizio della definizione della funzione. \n",
    "> Per creare una funzione occorre scriverne la funzione. L'intestazione di una funzione inizia con la parola **Def**, seguita dal **nome** della funzione, seguito dalla **coppia di parentesi ()**, seguita da un **segno dei due punti :**\n",
    "* **`nome_funzione`:** Nome che scegli per identificare la funzione (usa lettere minuscole e underscore per separare le parole).\n",
    "> Esattamente come si assegna un nome alle variabili di un programma è **necessario assegnare un nome** anche alle funzioni. Il nome della funzione dovrebbe essere descrittivo. \n",
    "> Non si possono usare le parole chiave di Python, il nome di una funzione non può contenere spazi, il primo carattere deve essere una lettera a-z, A-Z oppure _ .\n",
    "\n",
    "* **`parametri`:** Valori di input opzionali che la funzione può accettare (tra parentesi tonde).\n",
    "* **`Docstring`:** Stringa opzionale (tra triple virgolette) che descrive il funzionamento della funzione.\n",
    "\n",
    "* **`Corpo della funzione`:** Blocco di codice indentato che contiene le istruzioni da eseguire.\n",
    "> All'inizio della riga successiva si trova la serie di istruzioni che si chiama **blocco** della funzione che rappresenta un **insieme di istruzioni che appartengono ad un gruppo**. Le istruzioni vengono eseguite ogni volta che si esegue la funzione. \n",
    "> Tutte le istruzioni del blocco sono rientrate, il rientro è obbligatorio. \n",
    "\n",
    "* **`return`:** Istruzione opzionale che restituisce un valore al chiamante della funzione.\n",
    "\n",
    "\n",
    "**Chiamare una funzione** \\\n",
    "La definizione di una funzione specifica cosa fa una funzione, ma non la esegue. \n",
    "> Per eseguire una funzione, è necessario **chiamarla**.\n",
    "\n",
    "`nome_funzione( )`\n",
    "\n",
    "+ Quando si chiama una funzione, l'interprete salta alla funzione ed esegue le istruzioni contenute nel blocco.\n",
    "+ Quando raggiunge la fine del blocco, salta all'indietro alla parte del programma che aveva chiamato la funzione e il programma riprende l'esecuzione da quel punto, si dice che al funzione **ritorna** . "
   ]
  },
  {
   "cell_type": "markdown",
   "id": "ed773510",
   "metadata": {},
   "source": [
    "# Funzione complessa: Analisi delle scorte di magazzino\n",
    "#### Obiettivo\n",
    "- scrivere una funzione che analizzi le scorte di magazzino e segnali quali prodotti sono sotto il livello minimo di sicurezza, restituendo un elenco da rifornire."
   ]
  },
  {
   "cell_type": "code",
   "execution_count": 1,
   "id": "98ca2fde",
   "metadata": {},
   "outputs": [],
   "source": [
    "magazzino = {\n",
    "    \"penne\": 45,\n",
    "    \"quaderni\": 120,\n",
    "    \"matite\": 12,\n",
    "    \"gomma\": 4,\n",
    "    \"evidenziatori\": 30\n",
    "}\n",
    "# dizionario che rappresenta il magazzino"
   ]
  },
  {
   "cell_type": "code",
   "execution_count": 2,
   "id": "bd5d2898",
   "metadata": {},
   "outputs": [],
   "source": [
    "scorte_minime = {\n",
    "    \"penne\": 50,\n",
    "    \"quaderni\": 100,\n",
    "    \"matite\": 20,\n",
    "    \"gomma\": 10,\n",
    "    \"evidenziatori\": 25\n",
    "}\n",
    "# livello minimo raccomandato per ogni prodotto"
   ]
  },
  {
   "cell_type": "code",
   "execution_count": 4,
   "id": "47abbab6",
   "metadata": {},
   "outputs": [],
   "source": [
    "def controlla_scorte(magazzino, scorte_minime):\n",
    "    \"\"\"\n",
    "    Controlla le scorte attuali rispetto ai minimi e restituisce una lista\n",
    "    di prodotti che devono essere riordinati.\n",
    "    \n",
    "    Parametri:\n",
    "    - magazzino: dizionario con quantità attuali\n",
    "    - scorte_minime: dizionario con soglie minime accettabili\n",
    "\n",
    "    Ritorna:\n",
    "    - Lista dei prodotti da riordinare\n",
    "    \"\"\"\n",
    "    da_riordinare = []\n",
    "\n",
    "    for prodotto in scorte_minime:\n",
    "        scorta_attuale = magazzino.get(prodotto, 0)\n",
    "        minimo_richiesto = scorte_minime[prodotto]\n",
    "\n",
    "        if scorta_attuale < minimo_richiesto:\n",
    "            da_riordinare.append(prodotto)\n",
    "\n",
    "    return da_riordinare\n"
   ]
  },
  {
   "cell_type": "code",
   "execution_count": 5,
   "id": "3312bc8a",
   "metadata": {},
   "outputs": [
    {
     "name": "stdout",
     "output_type": "stream",
     "text": [
      "Prodotti da riordinare: ['penne', 'matite', 'gomma']\n"
     ]
    }
   ],
   "source": [
    "magazzino = {\n",
    "    \"penne\": 45,\n",
    "    \"quaderni\": 120,\n",
    "    \"matite\": 12,\n",
    "    \"gomma\": 4,\n",
    "    \"evidenziatori\": 30\n",
    "}\n",
    "\n",
    "scorte_minime = {\n",
    "    \"penne\": 50,\n",
    "    \"quaderni\": 100,\n",
    "    \"matite\": 20,\n",
    "    \"gomma\": 10,\n",
    "    \"evidenziatori\": 25\n",
    "}\n",
    "\n",
    "prodotti_critici = controlla_scorte(magazzino, scorte_minime)\n",
    "print(\"Prodotti da riordinare:\", prodotti_critici)\n"
   ]
  },
  {
   "cell_type": "markdown",
   "id": "909f8b51",
   "metadata": {},
   "source": [
    "- magazzino.get(prodotto, 0) → Se il prodotto non è presente, assume quantità 0 (sicuro contro errori). \n",
    "- Il `metodo get()` si usa per ottenere il valore associato a una chiave in un dizionario, senza causare errori se la chiave non esiste.\n",
    "\n"
   ]
  },
  {
   "cell_type": "markdown",
   "id": "e1bb606b",
   "metadata": {},
   "source": [
    "# Istruzione `def`\n",
    "L'istruzione **def** crea in memoria una funzione di nome pico() che contiene il relativo blocco di istruzioni.\\\n",
    "La **chiamata di funzione** pico() esegue la funzione stessa.\n",
    "\n",
    "1. E' prassi che un programma contenga una funzione principale chiamata main, che viene eseguita all'avvio del programma. \n",
    "1. La funzione main all'occorrenza chiama altre funzioni del programma quando occorre. \n",
    "1. Ogni riga di un blocco deve essere indentata, ovvero rientrata. Quando si rientrano le righe di un blocco, occorre assicurarsi che ogni riga inizi con lo stesso numero di spazi, altrimenti si verifica un errore. Solitamente si usano 4 spazi. "
   ]
  },
  {
   "cell_type": "code",
   "execution_count": 10,
   "id": "3bb5fab4",
   "metadata": {},
   "outputs": [
    {
     "name": "stdout",
     "output_type": "stream",
     "text": [
      "Il task della giornata inizia con una novità importante\n",
      "che ci introduce ad uno degli elementi centrali di Python\n"
     ]
    }
   ],
   "source": [
    "def main():\n",
    "    print('Il task della giornata inizia con una novità importante')\n",
    "    print('che ci introduce ad uno degli elementi centrali di Python')  \n",
    "main()"
   ]
  },
  {
   "cell_type": "markdown",
   "id": "0fa22c6e",
   "metadata": {},
   "source": [
    "Il controllo di un programma viene passato ad una funzione quando la si chiama e quindi come la funzione ritorna, al termine, alla parte di programma che l'ha chiamata. \n",
    "+ In particolare si utilizza un **approccio Top-Down**, ovvero si suddivide il compito generale di un programma in una serie di compiti più semplici.\\\n",
    "+ Si è soliti utilizzare il **diagramma strutturale** per disegnare livelli gerarchici e funzioni relative.\n"
   ]
  },
  {
   "cell_type": "code",
   "execution_count": 6,
   "id": "6ea1e5de",
   "metadata": {
    "scrolled": true
   },
   "outputs": [
    {
     "name": "stdout",
     "output_type": "stream",
     "text": [
      "Questo programma spiega la filosofia DRY applicata alla programmazione Python\n",
      "Questa filosofia sostiene che non esistono programmi impossibili da pensare\n",
      "Così come non esistono programmi Python impossibili da scrivere\n",
      "\n",
      "Premere invio per visualizzare il primo punto.\n",
      "Punto primo: concentrati prima di ogni inizio\n",
      "ricorda che il compito deve essere diviso in più step semplici\n",
      "Così come si sale una montagna passo dopo passo, così si scrive un programma\n",
      "\n",
      "Premere invio per visualizzare il secondo punto.\n",
      "Punto secondo: comincia a prepararti molti mesi prima\n",
      "La preparazione sarà mentale e fisica\n",
      "Comincia immediatamente a prepararti, non aspettare\n",
      "\n",
      "Premere invio per visualizzare il terzo punto.\n",
      "Punto terzo: immaginare di farlo non significa farlo\n",
      "Non esiste domani per ciò che puoi cominciare oggi\n",
      "La perfezione non esiste, esiste la precisione e la perseveranza.\n",
      "\n"
     ]
    }
   ],
   "source": [
    "def main():\n",
    "    messaggio_iniziale()\n",
    "    input('Premere invio per visualizzare il primo punto.')\n",
    "    punto_1()\n",
    "    input('Premere invio per visualizzare il secondo punto.')\n",
    "    punto_2()\n",
    "    input('Premere invio per visualizzare il terzo punto.')\n",
    "    punto_3()\n",
    "\n",
    "def messaggio_iniziale():\n",
    "    print('Questo programma spiega la filosofia DRY applicata alla programmazione Python')\n",
    "    print('Questa filosofia sostiene che non esistono programmi impossibili da pensare')\n",
    "    print('Così come non esistono programmi Python impossibili da scrivere')\n",
    "    print()\n",
    "    \n",
    "def punto_1():\n",
    "    print('Punto primo: concentrati prima di ogni inizio')\n",
    "    print('ricorda che il compito deve essere diviso in più step semplici')\n",
    "    print('Così come si sale una montagna passo dopo passo, così si scrive un programma')\n",
    "    print()\n",
    "    \n",
    "def punto_2():\n",
    "    print('Punto secondo: comincia a prepararti molti mesi prima')\n",
    "    print('La preparazione sarà mentale e fisica')\n",
    "    print('Comincia immediatamente a prepararti, non aspettare')\n",
    "    print()\n",
    "    \n",
    "def punto_3():\n",
    "    print('Punto terzo: immaginare di farlo non significa farlo')\n",
    "    print('Non esiste domani per ciò che puoi cominciare oggi')\n",
    "    print('La perfezione non esiste, esiste la precisione e la perseveranza.')\n",
    "    print()\n",
    "    \n",
    "main()\n",
    "    "
   ]
  },
  {
   "cell_type": "markdown",
   "id": "99a8a1f2",
   "metadata": {},
   "source": [
    "# Variabili locali"
   ]
  },
  {
   "cell_type": "markdown",
   "id": "3e0fc6ee",
   "metadata": {},
   "source": [
    "Ogni volta che assegno un valore ad una variabile all'interno di una funzione, creo una variabile locale.\n",
    "+ La variabile locale appartiene alla funzione in cui viene creata.\n",
    "+ Solo le istruzioni all'interno di quella funzione possono accedere alla variabile.\n",
    "+ Se un'istruzione all'interno di una funzione cerca di accedere ad una variabile locale che appartiene ad un'altra funzione si verifica un errore. \n",
    "> Diverse funzioni possono avere variabili locali con lo stesso nome perche le funzioni non possono vedere le variabili locali l'una delle altre. "
   ]
  },
  {
   "cell_type": "code",
   "execution_count": 7,
   "id": "9142f8bb",
   "metadata": {},
   "outputs": [
    {
     "name": "stdout",
     "output_type": "stream",
     "text": [
      "Ciao Luca!\n",
      "Arrivederci Anna!\n"
     ]
    }
   ],
   "source": [
    "def saluta():\n",
    "    nome = \"Luca\"  # Variabile locale\n",
    "    print(f\"Ciao {nome}!\")  # Questa istruzione può usare 'nome'\n",
    "\n",
    "def arrivederci():\n",
    "    nome = \"Anna\"  # Anche qui 'nome' è locale, ma è un'altra variabile\n",
    "    print(f\"Arrivederci {nome}!\")\n",
    "\n",
    "saluta()\n",
    "arrivederci()"
   ]
  },
  {
   "cell_type": "markdown",
   "id": "ca4ab886",
   "metadata": {},
   "source": [
    "## L'ambito di una variabile\n",
    "L'ambito (Scope) di una variabile è la parte del programma da cui si può accedere alla variabile.\\\n",
    "Una variabile è visibile solamente alle istruzioni all'interno dello stesso ambito della variabile. \n",
    "+ L'ambito di una variabile locale è la funzione in cui la variabile viene creata. \n",
    "\n",
    "- La variabile nome in saluta() esiste solo dentro quella funzione.\n",
    "- La variabile nome in arrivederci() è completamente separata, anche se ha lo stesso nome.\n",
    "\n",
    "Nessuna delle due può accedere alla nome dell’altra."
   ]
  },
  {
   "cell_type": "markdown",
   "id": "4aa6f1e0",
   "metadata": {},
   "source": [
    "## Passaggio di argomenti alle funzioni\n",
    "\n",
    "I dati inviati ad una funzione sono chiamati **argomenti**: la funzione può adoperare i propri argomenti per svolgere calcoli o altre operazioni. \n",
    "\n",
    "+ Se vogliamo passare degli argomenti ad una funzione quando la chiamiamo, dobbiamo fornire alla funzione una o più variabili argomento.\n",
    "+ **Un argomento** è un dato che viene passato ad una funzione quando la chiamiamo.\n",
    "+ **Un parametro** è una variabile che riceve un argomento passato ad una funzione. "
   ]
  },
  {
   "cell_type": "markdown",
   "id": "f6c2824f",
   "metadata": {},
   "source": [
    "## Esempio base con un argomento e un parametro"
   ]
  },
  {
   "cell_type": "code",
   "execution_count": null,
   "id": "9309067c",
   "metadata": {},
   "outputs": [],
   "source": [
    "def saluta(nome):  # 'nome' è un **parametro**\n",
    "    print(f\"Ciao {nome}!\")\n",
    "\n",
    "saluta(\"Luca\")  # \"Luca\" è un **argomento**"
   ]
  },
  {
   "cell_type": "markdown",
   "id": "bb41d330",
   "metadata": {},
   "source": [
    "## Esempio con più argomenti"
   ]
  },
  {
   "cell_type": "code",
   "execution_count": null,
   "id": "f7a6fc7b",
   "metadata": {},
   "outputs": [],
   "source": [
    "def somma(a, b):  # a e b sono **parametri**\n",
    "    risultato = a + b\n",
    "    print(f\"La somma è {risultato}\")\n",
    "\n",
    "somma(3, 5)  # 3 e 5 sono **argomenti**"
   ]
  },
  {
   "cell_type": "markdown",
   "id": "1c8d1933",
   "metadata": {},
   "source": [
    "## Esempio con variabili come argomenti"
   ]
  },
  {
   "cell_type": "code",
   "execution_count": null,
   "id": "c7f61419",
   "metadata": {},
   "outputs": [],
   "source": [
    "x = 10\n",
    "y = 4\n",
    "\n",
    "def differenza(primo, secondo):\n",
    "    print(f\"La differenza è {primo - secondo}\")\n",
    "\n",
    "differenza(x, y)"
   ]
  },
  {
   "cell_type": "markdown",
   "id": "585297bc",
   "metadata": {},
   "source": [
    "# Esempio con più argomenti in funzione"
   ]
  },
  {
   "cell_type": "code",
   "execution_count": 1,
   "id": "a3dad818",
   "metadata": {},
   "outputs": [
    {
     "name": "stdout",
     "output_type": "stream",
     "text": [
      "La somma di 4 e 8 è: \n",
      "12\n"
     ]
    }
   ],
   "source": [
    "def main():\n",
    "    print('La somma di 4 e 8 è: ')\n",
    "    mostra_somma(4,8) #chiamo mostra_somma e le passo i 2 argomenti 4 e 8\n",
    "                      #gli argomenti sono passati per posizione\n",
    "    \n",
    "def mostra_somma(num_1, num_2):\n",
    "    risultato = num_1 + num_2 #variabili parametro\n",
    "    print(risultato)\n",
    "    \n",
    "main()"
   ]
  },
  {
   "cell_type": "markdown",
   "id": "e3a5700a",
   "metadata": {},
   "source": [
    "# Esercitazioni"
   ]
  },
  {
   "cell_type": "markdown",
   "id": "b618ad0c",
   "metadata": {},
   "source": [
    "## Prima esercitazione\n",
    "\n",
    "Scrivi una funzione chiamata 'saluta' che prende un parametro 'nome' e stampa: \"Ciao, nome !\"\n",
    "\n",
    "Esempio:\\\n",
    "saluta(\"Anna\")  →  Ciao, Anna!\n"
   ]
  },
  {
   "cell_type": "markdown",
   "id": "830bd904",
   "metadata": {},
   "source": [
    "|<br>\n",
    "|<br>\n",
    "|<br>\n",
    "|<br>\n",
    "|<br>"
   ]
  },
  {
   "cell_type": "code",
   "execution_count": 9,
   "id": "449b89fa",
   "metadata": {},
   "outputs": [
    {
     "name": "stdout",
     "output_type": "stream",
     "text": [
      "Ciao, Anna!\n"
     ]
    }
   ],
   "source": [
    "def saluta(nome):\n",
    "    print(f\"Ciao, {nome}!\")\n",
    "\n",
    "saluta(\"Anna\")"
   ]
  },
  {
   "cell_type": "code",
   "execution_count": null,
   "id": "800821a9",
   "metadata": {},
   "outputs": [],
   "source": []
  },
  {
   "cell_type": "markdown",
   "id": "1786b22c",
   "metadata": {},
   "source": [
    "## Seconda esercitazione\n",
    "\n",
    "Scrivi una funzione 'area_rettangolo' che prende due parametri: 'base' e 'altezza'\\\n",
    "La funzione deve calcolare e stampare l'area (base * altezza)\n",
    "\n",
    "Esempio:\\\n",
    "area_rettangolo(4, 5)  →  L'area è 20\n"
   ]
  },
  {
   "cell_type": "markdown",
   "id": "cd8cc064",
   "metadata": {},
   "source": [
    "|<br>\n",
    "|<br>\n",
    "|<br>\n",
    "|<br>\n",
    "|<br>"
   ]
  },
  {
   "cell_type": "code",
   "execution_count": null,
   "id": "6ed8c02b",
   "metadata": {},
   "outputs": [],
   "source": [
    "def area_rettangolo(base, altezza):\n",
    "    area = base * altezza\n",
    "    print(f\"L'area è {area}\")\n",
    "\n",
    "area_rettangolo(4, 5)"
   ]
  },
  {
   "cell_type": "code",
   "execution_count": null,
   "id": "044e9f95",
   "metadata": {},
   "outputs": [],
   "source": []
  },
  {
   "cell_type": "markdown",
   "id": "3ad56d01",
   "metadata": {},
   "source": [
    "## Terza esercitazione\n",
    "\n",
    " Scrivi una funzione 'somma_tre' che prende tre numeri come parametri e stampa la loro somma.\n",
    "\n",
    "Esempio:\\\n",
    "somma_tre(1, 2, 3)  →  La somma è 6\n",
    "\n"
   ]
  },
  {
   "cell_type": "markdown",
   "id": "5b750601",
   "metadata": {},
   "source": [
    "|<br>\n",
    "|<br>\n",
    "|<br>\n",
    "|<br>\n",
    "|<br>"
   ]
  },
  {
   "cell_type": "code",
   "execution_count": null,
   "id": "2c1d370f",
   "metadata": {},
   "outputs": [],
   "source": [
    "def somma_tre(a, b, c):\n",
    "    somma = a + b + c\n",
    "    print(f\"La somma è {somma}\")\n",
    "\n",
    "somma_tre(1, 2, 3)"
   ]
  },
  {
   "cell_type": "code",
   "execution_count": null,
   "id": "0d346fa0",
   "metadata": {},
   "outputs": [],
   "source": []
  },
  {
   "cell_type": "markdown",
   "id": "c17a768b",
   "metadata": {},
   "source": [
    "## Quarta esercitazione\n",
    "\n",
    "Scrivi una funzione 'controlla_eta' che prende un'età come parametro\n",
    "Se l’età è maggiore o uguale a 18 stampa “Sei maggiorenne”, altrimenti “Sei minorenne”\n",
    "\n",
    "Esempio:\\\n",
    "- controlla_eta(20)  →  Sei maggiorenne\n",
    "- controlla_eta(15)  →  Sei minorenne"
   ]
  },
  {
   "cell_type": "markdown",
   "id": "34b3333e",
   "metadata": {},
   "source": [
    "|<br>\n",
    "|<br>\n",
    "|<br>\n",
    "|<br>\n",
    "|<br>"
   ]
  },
  {
   "cell_type": "code",
   "execution_count": null,
   "id": "ee33f8e8",
   "metadata": {},
   "outputs": [],
   "source": [
    "def controlla_eta(eta):\n",
    "    if eta >= 18:\n",
    "        print(\"Sei maggiorenne\")\n",
    "    else:\n",
    "        print(\"Sei minorenne\")\n",
    "\n",
    "controlla_eta(20)\n",
    "controlla_eta(15)"
   ]
  },
  {
   "cell_type": "code",
   "execution_count": null,
   "id": "ea8b161d",
   "metadata": {},
   "outputs": [],
   "source": []
  },
  {
   "cell_type": "markdown",
   "id": "7847624c",
   "metadata": {},
   "source": [
    "# Rafforziamo il concetto di funzioni personalizzate"
   ]
  },
  {
   "cell_type": "markdown",
   "id": "385c04de",
   "metadata": {},
   "source": [
    "Cerchiamo di solidificare le nozioni apprese fin qui.\\\n",
    "Le funzioni sono:\n",
    "> 1. blocchi di codice autonomi che eseguono compiti specifici.\n",
    "\n",
    "> 2. consentono di incapsulare una serie di istruzioni in blocchi riutilizzabili, come i mini-programmi, che possono essere riutilizzati nel programma tutte le volte che ne abbiamo bisogno.\n",
    "\n",
    "Abbiamo compreso che la **prima cosa** è che dobbiamo fornire loro input e ricevere output da loro:\n",
    "+ argomenti;\n",
    "+ valori di ritorno. \n",
    "\n",
    "### Gli argomenti. \n",
    "Gli argomenti sono i valori che passiamo in una funzione quando la chiamiamo: \n",
    "+ forniscono i dati necessari alla funzione per svolgere il suo compito e adattarsi a diversi scenari. \n",
    "+ Se pensi a una funzione come a una macchina, devi fornire input come l'elettricità per alimentarla e i pulsanti per accenderla e spegnerla. Questi input sono gli argomenti.\n",
    "\n",
    "> Un esempio di questo sarebbe una funzione progettata per calcolare lo stipendio netto di un dipendente. Gli argomenti per questa funzione potrebbero includere lo stipendio lordo del dipendente, l'aliquota fiscale e le eventuali detrazioni.\n",
    "\n",
    "Fornendo questi argomenti, la funzione può eseguire i calcoli necessari e restituire lo stipendio netto finale.\n",
    "\n",
    "### Valori di ritorno. \n",
    "Una volta che la tua funzione ha elaborato i suoi argomenti e ha eseguito il suo compito, potrebbe essere **necessario comunicare i risultati al programma principale.** \n",
    "+ I risultati sono i valori di ritorno;\n",
    "+ valore di ritorno è l'output o il risultato generato dalla  funzione.\n",
    "\n",
    "> Un esempio di questo sarebbe una funzione che controlla se la password inserita da un utente soddisfa specifici criteri di sicurezza. La funzione prenderebbe la password come argomento, eseguirà vari controlli, lunghezza, complessità, ecc., e quindi restituirà un valore vero o falso per indicare se la password è valida. Questo valore di ritorno può quindi essere utilizzato dal programma principale per decidere se concedere l'accesso all'utente o restituire un messaggio di errore."
   ]
  },
  {
   "cell_type": "code",
   "execution_count": null,
   "id": "9875f985",
   "metadata": {},
   "outputs": [],
   "source": []
  },
  {
   "cell_type": "markdown",
   "id": "ffff5238",
   "metadata": {},
   "source": [
    "### Primo esercizio: Calcolo dello stipendio netto\n",
    "Obiettivo:\n",
    "> Scrivere una funzione chiamata calcola_stipendio_netto che:\n",
    "\n",
    "riceve tre argomenti:\n",
    "+ stipendio_lordo (es. 2000.0)\n",
    "+ aliquota (es. 20 per indicare il 20%)\n",
    "+ detrazioni (es. 100.0)\n",
    "\n",
    "calcola lo stipendio netto con la formula:"
   ]
  },
  {
   "cell_type": "code",
   "execution_count": null,
   "id": "7ceb648e",
   "metadata": {},
   "outputs": [],
   "source": [
    "stipendio_netto = stipendio_lordo - (stipendio_lordo * aliquota / 100) - detrazioni"
   ]
  },
  {
   "cell_type": "markdown",
   "id": "0a975c8d",
   "metadata": {},
   "source": [
    "Stampa il risultato in modo chiaro usando una f-string."
   ]
  },
  {
   "cell_type": "markdown",
   "id": "a5e6bd7c",
   "metadata": {},
   "source": [
    "|<br>\n",
    "|<br>\n",
    "|<br>\n",
    "|<br>\n",
    "|<br>"
   ]
  },
  {
   "cell_type": "code",
   "execution_count": null,
   "id": "4405ac1d",
   "metadata": {},
   "outputs": [],
   "source": [
    "def calcola_stipendio_netto(stipendio_lordo, aliquota, detrazioni):\n",
    "    imposta = stipendio_lordo * aliquota / 100\n",
    "    stipendio_netto = stipendio_lordo - imposta - detrazioni\n",
    "    print(f\"Lo stipendio netto è: {stipendio_netto:.2f} €\")\n",
    "\n",
    "# Esempio di uso\n",
    "calcola_stipendio_netto(2000.0, 20, 100.0)  # Output: Lo stipendio netto è: 1500.00 €"
   ]
  },
  {
   "cell_type": "code",
   "execution_count": null,
   "id": "4fce8e80",
   "metadata": {},
   "outputs": [],
   "source": []
  },
  {
   "cell_type": "markdown",
   "id": "4dc4ba44",
   "metadata": {},
   "source": [
    "### Secondo esercizio: Controllo sicurezza della password\n",
    "Obiettivo:\n",
    "> Scrivere una funzione chiamata controlla_password che:\n",
    "\n",
    "riceve una password come argomento:\n",
    "+ verifica se soddisfa tutti questi criteri: a) Almeno 8 caratteri b) Contiene almeno una lettera maiuscola c) Contiene almeno una lettera minuscola d) Contiene almeno un numero\n",
    "\n",
    "restituisce True se la password è valida, False altrimenti"
   ]
  },
  {
   "cell_type": "markdown",
   "id": "6e9b1184",
   "metadata": {},
   "source": [
    "|<br>\n",
    "|<br>\n",
    "|<br>\n",
    "|<br>\n",
    "|<br>"
   ]
  },
  {
   "cell_type": "code",
   "execution_count": null,
   "id": "952d378e",
   "metadata": {},
   "outputs": [],
   "source": [
    "def controlla_password(password):\n",
    "    # Controlli base\n",
    "    lunghezza_ok = len(password) >= 8\n",
    "    ha_maiuscola = password != password.lower()\n",
    "    ha_minuscola = password != password.upper()\n",
    "    ha_numero = any(c in \"0123456789\" for c in password)\n",
    "\n",
    "    # Tutti i criteri devono essere veri\n",
    "    return lunghezza_ok and ha_maiuscola and ha_minuscola and ha_numero\n",
    "\n",
    "# Esempio di uso\n",
    "pw = input(\"Inserisci la tua password: \")\n",
    "\n",
    "if controlla_password(pw):\n",
    "    print(\"Password accettata.\")\n",
    "else:\n",
    "    print(\"Password non valida.\")"
   ]
  },
  {
   "cell_type": "code",
   "execution_count": null,
   "id": "819eea3b",
   "metadata": {},
   "outputs": [],
   "source": [
    "def controlla_password(password):\n",
    "    if len(password) < 8:\n",
    "        return False\n",
    "    if not any(c.isupper() for c in password):\n",
    "        return False\n",
    "    if not any(c.islower() for c in password):\n",
    "        return False\n",
    "    if not any(c.isdigit() for c in password):\n",
    "        return False\n",
    "    return True\n",
    "\n",
    "# Esempio di uso\n",
    "pw = input(\"Inserisci la tua password: \")\n",
    "if controlla_password(pw):\n",
    "    print(\"Password accettata.\")\n",
    "else:\n",
    "    print(\"Password non valida. Deve contenere almeno 8 caratteri, una maiuscola, una minuscola e un numero.\")\n"
   ]
  },
  {
   "cell_type": "markdown",
   "id": "3a1bc14d",
   "metadata": {},
   "source": [
    "# Scrivere bene una funzione"
   ]
  },
  {
   "cell_type": "markdown",
   "id": "2528ad6d",
   "metadata": {},
   "source": [
    "Andiamo avanti passo dopo passo.\n",
    "\n",
    "+ Fase 1. Definisci la funzione. Inizia con la parola chiave def, seguita dal nome della funzione. Se è più di una parola, assicurati di usare un trattino basso. Subito dopo il nome, aggiungi le parentesi. È lì che metterai argomenti e due punti.\n",
    "\n",
    "+ Fase 2. Aggiungi una stringa di documenti. Questa è una descrizione chiara e concisa di ciò che fa la funzione, del suo scopo, degli argomenti e del valore di ritorno. Assicurati di mettere la stringa di documenti tra virgolette triple. Questa è la documentazione per te e per altri sviluppatori.\n",
    "\n",
    "+ Fase 3. Scrivi il codice. Nel blocco indentato che segue la definizione della funzione, scrivi il codice che esegue l'attività desiderata utilizzando qualsiasi argomento fornito.\n",
    "\n",
    "+ Fase 4. Restituisce un valore. Questo è facoltativo, ma se la tua funzione deve produrre un output, usa l'istruzione return per inviare un valore al codice chiamante. \n",
    "\n",
    "+ Fase 5. Salva la funzione. Anche se questo sembra un passo ovvio, molto buon lavoro viene spesso perso perché le persone hanno fretta e dimenticano.\n",
    "\n",
    "Dopo aver definito la tua funzione, puoi chiamarla da altre parti del tuo programma per eseguire il codice incapsulato in essa. \n",
    "\n",
    "### Chiamare la funzione.\n",
    "Una funzione è uno strumento potente, ma in realtà non fa nulla finché non la chiami.\n",
    "\n",
    "Chiamare la funzione **attiva la sua esecuzione**, consentendo al codice all'interno della funzione di eseguire ed eseguire il compito designato. "
   ]
  },
  {
   "cell_type": "markdown",
   "id": "14662322",
   "metadata": {},
   "source": [
    "# Ancora sull'ambito variabile: come si comportano\n",
    "\n",
    "Le variabili in Python sono come caselle etichettate, ognuna delle quali contiene un dato specifico di cui hai bisogno per i tuoi programmi. \n",
    "\n",
    "> Dove mettiamo queste caselle all'interno del tuo codice è cruciale: qui  entra in gioco il concetto di **ambito variabile** che determina la visibilità e l'accessibilità delle variabili.\n",
    "\n",
    "Immagina il tuo codice Python come un magazzino ben organizzato, pieno di file di scatole etichettate:\n",
    "+ ogni casella rappresenta una variabile e ciò che si trova all'interno sono i dati di cui i tuoi programmi hanno bisogno per funzionare. \n",
    "+ queste scatole non sono solo sparse a caso: sono posizionate strategicamente all'interno di diverse sezioni del magazzino.\n",
    "\n",
    "> **L'ambito variabile** è come il layout del magazzino: definisce quali parti del tuo codice hanno accesso a caselle specifiche (variabili). \n",
    "\n",
    "### Variabili globali. \n",
    "Alcune scatole potrebbero essere conservate nell'area del magazzino principale, accessibile a tutti coloro che vi lavorano: queste sono le **variabili globali**, visibili in tutto il tuo codice.\n",
    "\n",
    "### Variabili locali.\n",
    "Altre scatole potrebbero essere nascosto in stanze più piccole all'interno del magazzino: queste sono le **variabili locali**, disponibili solo per i lavoratori all'interno di quelle stanze specifiche (funzioni o blocchi di codice).\n",
    "\n",
    "> Comprendere questo layout di magazzino, o ambito variabile, è fondamentale:\n",
    "+ Ti impedisce di mischiare accidentalmente le scatole (usando la variabile sbagliata), assicura che i tuoi lavoratori (funzioni) possano accedere alle scatole di cui hanno bisogno e mantiene l'intero magazzino (codebase) in esecuzione senza intoppi ed efficienza. "
   ]
  },
  {
   "cell_type": "markdown",
   "id": "e68d85d2",
   "metadata": {},
   "source": [
    "# Esercitazione "
   ]
  },
  {
   "cell_type": "markdown",
   "id": "7062a564",
   "metadata": {},
   "source": [
    "### Obiettivo dell’esercizio\n",
    "Scrivere una funzione Python che riceva in ingresso una lista di numeri e calcoli la media aritmetica degli elementi.\n",
    "\n",
    "**Contesto**\\\n",
    "In molti programmi è utile calcolare la media di una serie di valori, come ad esempio:\n",
    "\n",
    "Questa funzione ti permette di automatizzare il calcolo della media, senza farlo a mano ogni volta.\n",
    "\n",
    "total = 0\n",
    "→ Crea una variabile per tenere la somma totale dei numeri.\n",
    "\n",
    "count = len(numbers)\n",
    "→ Conta quanti numeri ci sono nella lista (len significa “lunghezza”).\n",
    "\n",
    "for num in numbers:\n",
    "→ Scorre tutta la lista, un numero alla volta.\n",
    "\n",
    "total += num\n",
    "→ A ogni giro del ciclo, aggiunge il numero alla somma totale.\n",
    "\n",
    "average = total / count\n",
    "→ Dopo il ciclo, calcola la media: totale diviso per il numero di elementi.\n",
    "\n",
    "return average\n",
    "→ Restituisce il risultato, cioè la media calcolata.\n",
    "\n",
    "### Cosa utilizzare \n",
    "\n",
    "+ numbers: è il nome della lista di numeri che passiamo alla funzione.\n",
    "+ total: è la variabile che tiene la somma dei numeri.\n",
    "+ count: è il numero di elementi nella lista (usiamo len()).\n",
    "+ Il ciclo for legge ogni numero della lista e lo aggiunge alla somma.\n",
    "+ Alla fine, si calcola la media: totale ÷ quantità.\n",
    "+ Il risultato viene restituito dalla funzione.\n"
   ]
  },
  {
   "cell_type": "markdown",
   "id": "8ba08f94",
   "metadata": {},
   "source": [
    "|<br>\n",
    "|<br>\n",
    "|<br>\n",
    "|<br>\n",
    "|<br>"
   ]
  },
  {
   "cell_type": "code",
   "execution_count": null,
   "id": "cc439f4c",
   "metadata": {},
   "outputs": [],
   "source": [
    "def calculate_average(numbers):\n",
    "    total = 0             # Variabile locale: somma dei numeri\n",
    "    count = len(numbers)  # Variabile locale: quanti numeri ci sono\n",
    "    for num in numbers:\n",
    "        total += num\n",
    "    average = total / count\n",
    "    return average\n",
    "\n",
    "print(calculate_average([2, 5, 4, 1]))\n"
   ]
  },
  {
   "cell_type": "markdown",
   "id": "9040cff0",
   "metadata": {},
   "source": [
    "# Compartimentazione \n",
    "Compartimentazione serve a diversi scopi importanti:\n",
    "\n",
    "+ **Incapsulamento:** le variabili locali mantengono i dati e le operazioni ordinatamente contenuti all'interno dei loro spazi di lavoro designati. Questo rende il tuo codice più organizzato e più facile da ragionare.\n",
    "\n",
    "+ **Evita le collisioni dei nomi:** possiamo riutilizzare gli stessi nomi delle variabili (ad esempio, conteggio, totale) in funzioni diverse senza conflitti perché i loro ambiti sono isolati. È come avere più cassette degli attrezzi con etichette identiche: ogni set di strumenti è specifico per il proprio spazio di lavoro.\n",
    "\n",
    "+ **Gestione della memoria:** le variabili locali vengono create quando una funzione si avvia e distrutte quando termina. Questo uso efficiente della memoria assicura che il codice non sprechi risorse trattenendo dati non necessari.\n",
    "\n",
    "## Comprendere l'ambito locale. \n",
    "Comprendere l'ambito locale è fondamentale per scrivere codice Python pulito e ben strutturato. Mantenendo le variabili localizzate alle attività previste, crei una base di codice più modulare e manutenibile."
   ]
  },
  {
   "cell_type": "code",
   "execution_count": 18,
   "id": "4a30d62e",
   "metadata": {},
   "outputs": [
    {
     "name": "stdout",
     "output_type": "stream",
     "text": [
      "Benvenuti ad Innovacoop\n",
      "Contattaci a info @ innovacoop\n"
     ]
    }
   ],
   "source": [
    "# Variabile globale \n",
    "COMPANY_NAME = \"Innovacoop\"\n",
    "def print_welcome_message():\n",
    "    print(\"Benvenuti ad\", COMPANY_NAME)\n",
    "def print_contact_info():\n",
    "    print(\"Contattaci a info @\",COMPANY_NAME.lower()) \n",
    "print_welcome_message()\n",
    "print_contact_info()"
   ]
  },
  {
   "cell_type": "markdown",
   "id": "7e2b549c",
   "metadata": {},
   "source": [
    "In questo esempio, COMPANY_NAME è una **variabile globale** utilizzata da entrambe le funzioni. \\\n",
    "È un **valore costante** che rappresenta un aspetto fondamentale dell'azienda e non cambia durante l'esecuzione del codice.\n",
    "\n",
    "### Attenzione. \n",
    "L'uso eccessivo di variabili globali può rendere il  codice più difficile da seguire: \n",
    "+ potrebbe non essere immediatamente chiaro dove una variabile è definita o modificata, richiedendo di tracciare il suo utilizzo in tutto il modulo;\n",
    "+ la modifica di una variabile globale in una funzione può avere conseguenze non intenzionali in altre parti del codice che si basano su di essa. Questo può portare a bug sottili che sono difficili da rintracciare; \n",
    "+ il codice che si basa molto su variabili globali è spesso più difficile da testare in isolamento. Potrebbe essere necessario impostare stati globali complessi per garantire che le funzioni funzioni funzionino come previsto, portando a suite di test più ingombranti;\n",
    "+ troppe variabili globali possono ingombrare lo spazio dei nomi del modulo, aumentando il rischio di collisioni accidentali dei nomi. Ciò può verificarsi quando si utilizza inavvertitamente lo stesso nome per una variabile globale e una variabile locale all'interno di una funzione."
   ]
  },
  {
   "cell_type": "markdown",
   "id": "51fde256",
   "metadata": {},
   "source": [
    "#### La regola LEGB: la strategia di ricerca di Python per le variabili\n",
    "\n",
    "Quando usi una variabile nel tuo codice, Python intraprende una ricerca sistematica per trovare il suo valore. L'ordine di ricerca è descritto dalla regola LEGB:\n",
    "\n",
    "**Locale (L):** Python controlla prima se la variabile esiste all'interno della funzione corrente o del blocco di codice.\n",
    "\n",
    "**Enclosure (E):** se non trovato localmente, cerca nelle funzioni di chiusura (se stai usando funzioni annidate, come le bambole russe).\n",
    "\n",
    "**Globale (G):** Successivamente, cerca l'ambito globale, cioè le variabili definite al livello superiore del modulo.\n",
    "\n",
    "**Built-in (B):** infine, controlla lo spazio dei nomi integrato di Python per funzioni e oggetti predefiniti come stampa, elenco, ecc.\n",
    "\n",
    "> Questa ricerca gerarchica assicura che Python trovi sempre il valore più rilevante per una variabile, prevenendo conflitti tra variabili con lo stesso nome a diversi livelli.\n"
   ]
  },
  {
   "cell_type": "markdown",
   "id": "31a5aa96",
   "metadata": {},
   "source": [
    "# Esercitazioni"
   ]
  },
  {
   "cell_type": "markdown",
   "id": "993862cb",
   "metadata": {},
   "source": [
    "## Prima esercitazione"
   ]
  },
  {
   "cell_type": "code",
   "execution_count": null,
   "id": "e6508111",
   "metadata": {},
   "outputs": [],
   "source": [
    "import math\n",
    "from math import sqrt\n",
    "\n",
    "def triangle_info(a,b):\n",
    "    c = sqrt(a ** 2 + b ** 2) # calcolo ipotenusa\n",
    "    perimeter = a + b + c # calcolo il perimetro del triangolo rettangolo\n",
    "    return(c,perimeter) # restituisco la tupla con ipotenusa e perimetro\n",
    "\n",
    "# scompattiamo i risultati\n",
    "ipotenusa, perimetro = triangle_info(4,9)\n",
    "print(\"Ipotenusa è: \", ipotenusa)\n",
    "print(\"Perimetro è: \", perimetro)"
   ]
  },
  {
   "cell_type": "markdown",
   "id": "8717df0e",
   "metadata": {},
   "source": [
    "#### Data questa funzione di partenza scriverne una nuova che:\n",
    "+ calcoli ipotenusa\n",
    "+ calcoli perimetro\n",
    "+ calcoli l'area del triangolo rettangolo\n",
    "+ restituisca i tre valori\n",
    "+ visualizzi i valori "
   ]
  },
  {
   "cell_type": "markdown",
   "id": "287d10ef",
   "metadata": {},
   "source": [
    "|<br>\n",
    "|<br>\n",
    "|<br>\n",
    "|<br>\n",
    "|<br>"
   ]
  },
  {
   "cell_type": "code",
   "execution_count": null,
   "id": "399f2958",
   "metadata": {},
   "outputs": [],
   "source": [
    "from math import sqrt\n",
    "\n",
    "def triangle_info(a, b):\n",
    "    c = sqrt(a ** 2 + b ** 2)        # Ipotenusa\n",
    "    perimeter = a + b + c            # Perimetro\n",
    "    area = (a * b) / 2               # Area del triangolo rettangolo\n",
    "    return c, perimeter, area        # Restituisce tre valori\n",
    "\n",
    "# Uso della funzione\n",
    "ipotenusa, perimetro, area = triangle_info(3, 4)\n",
    "\n",
    "print(\"Ipotenusa:\", ipotenusa)\n",
    "print(\"Perimetro:\", perimetro)\n",
    "print(\"Area:\", area)\n"
   ]
  },
  {
   "cell_type": "markdown",
   "id": "4a20dae1",
   "metadata": {},
   "source": [
    "## Versione con dizionario in return"
   ]
  },
  {
   "cell_type": "code",
   "execution_count": 19,
   "id": "70b6ba94",
   "metadata": {},
   "outputs": [
    {
     "name": "stdout",
     "output_type": "stream",
     "text": [
      "Ipotenusa: 5.0\n",
      "Perimetro: 12.0\n",
      "Area: 6.0\n"
     ]
    }
   ],
   "source": [
    "import math\n",
    "from math import sqrt\n",
    "\n",
    "def triangle_info(a, b):\n",
    "    c = sqrt(a ** 2 + b ** 2)        # Ipotenusa\n",
    "    perimeter = a + b + c            # Perimetro\n",
    "    area = (a * b) / 2               # Area del triangolo rettangolo\n",
    "    return {\n",
    "        \"ipotenusa\": c,\n",
    "        \"perimetro\": perimeter,\n",
    "        \"area\": area\n",
    "    }\n",
    "\n",
    "# Uso della funzione\n",
    "info = triangle_info(3, 4)\n",
    "\n",
    "print(\"Ipotenusa:\", info[\"ipotenusa\"])\n",
    "print(\"Perimetro:\", info[\"perimetro\"])\n",
    "print(\"Area:\", info[\"area\"])"
   ]
  },
  {
   "cell_type": "code",
   "execution_count": null,
   "id": "b68016e8",
   "metadata": {},
   "outputs": [],
   "source": []
  }
 ],
 "metadata": {
  "kernelspec": {
   "display_name": "Python (Anaconda3)",
   "language": "python",
   "name": "anaconda3"
  },
  "language_info": {
   "codemirror_mode": {
    "name": "ipython",
    "version": 3
   },
   "file_extension": ".py",
   "mimetype": "text/x-python",
   "name": "python",
   "nbconvert_exporter": "python",
   "pygments_lexer": "ipython3",
   "version": "3.12.2"
  }
 },
 "nbformat": 4,
 "nbformat_minor": 5
}
