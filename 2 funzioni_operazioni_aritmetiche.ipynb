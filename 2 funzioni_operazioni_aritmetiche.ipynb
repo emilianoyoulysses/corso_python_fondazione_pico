{
 "cells": [
  {
   "cell_type": "markdown",
   "id": "fe5174f4",
   "metadata": {},
   "source": [
    "# Operazioni aritmetiche\n",
    " NumPy ha una potente capacità di applicare operazioni sull'intero array anziché su ciascun elemento individualmente. Questo si chiama vettorizzazione.\n",
    " \n",
    "Quando utilizzata in modo efficiente, la vettorizzazione elimina la necessità di molti cicli for espliciti.\\\n",
    "I benefici sono:\n",
    "\n",
    "1. Codice più performante\n",
    "1. Codice meno verboso\n",
    "1. Maggiore manutenibilità\n"
   ]
  },
  {
   "cell_type": "code",
   "execution_count": 1,
   "id": "aa0b79d3",
   "metadata": {},
   "outputs": [],
   "source": [
    "import numpy as np"
   ]
  },
  {
   "cell_type": "code",
   "execution_count": 2,
   "id": "c334eafe",
   "metadata": {},
   "outputs": [
    {
     "name": "stdout",
     "output_type": "stream",
     "text": [
      "a [ 1  2  3  4  5  6  7  8  9 10]\n",
      "b [21 22 23 24 25 26 27 28 29 30]\n"
     ]
    }
   ],
   "source": [
    "a=np.arange(1,11)\n",
    "b=np.arange(21,31)\n",
    "print('a', a)\n",
    "print('b', b)"
   ]
  },
  {
   "cell_type": "code",
   "execution_count": 3,
   "id": "78ac5487",
   "metadata": {},
   "outputs": [
    {
     "data": {
      "text/plain": [
       "array([22, 24, 26, 28, 30, 32, 34, 36, 38, 40])"
      ]
     },
     "execution_count": 3,
     "metadata": {},
     "output_type": "execute_result"
    }
   ],
   "source": [
    "a+b"
   ]
  },
  {
   "cell_type": "code",
   "execution_count": 4,
   "id": "b7585319",
   "metadata": {},
   "outputs": [
    {
     "data": {
      "text/plain": [
       "array([20, 20, 20, 20, 20, 20, 20, 20, 20, 20])"
      ]
     },
     "execution_count": 4,
     "metadata": {},
     "output_type": "execute_result"
    }
   ],
   "source": [
    "b-a"
   ]
  },
  {
   "cell_type": "code",
   "execution_count": 6,
   "id": "9539d021",
   "metadata": {},
   "outputs": [
    {
     "data": {
      "text/plain": [
       "array([ 21,  44,  69,  96, 125, 156, 189, 224, 261, 300])"
      ]
     },
     "execution_count": 6,
     "metadata": {},
     "output_type": "execute_result"
    }
   ],
   "source": [
    "a*b"
   ]
  },
  {
   "cell_type": "code",
   "execution_count": 7,
   "id": "4c1dfbea",
   "metadata": {},
   "outputs": [
    {
     "data": {
      "text/plain": [
       "array([21.        , 11.        ,  7.66666667,  6.        ,  5.        ,\n",
       "        4.33333333,  3.85714286,  3.5       ,  3.22222222,  3.        ])"
      ]
     },
     "execution_count": 7,
     "metadata": {},
     "output_type": "execute_result"
    }
   ],
   "source": [
    "b/a"
   ]
  },
  {
   "cell_type": "code",
   "execution_count": 5,
   "id": "4c0642de",
   "metadata": {},
   "outputs": [
    {
     "name": "stdout",
     "output_type": "stream",
     "text": [
      "c [ 2  3  4  5  6  7  8  9 10 11]\n"
     ]
    }
   ],
   "source": [
    "c=np.arange(2,12)\n",
    "print('c', c)"
   ]
  },
  {
   "cell_type": "code",
   "execution_count": 6,
   "id": "c8f657b6",
   "metadata": {},
   "outputs": [
    {
     "data": {
      "text/plain": [
       "array([           1,            8,           81,         1024,\n",
       "              15625,       279936,      5764801,    134217728,\n",
       "         3486784401, 100000000000])"
      ]
     },
     "execution_count": 6,
     "metadata": {},
     "output_type": "execute_result"
    }
   ],
   "source": [
    "a**c"
   ]
  },
  {
   "cell_type": "code",
   "execution_count": 7,
   "id": "f2118669",
   "metadata": {},
   "outputs": [
    {
     "data": {
      "text/plain": [
       "array([ 2,  4,  6,  8, 10, 12, 14, 16, 18, 20])"
      ]
     },
     "execution_count": 7,
     "metadata": {},
     "output_type": "execute_result"
    }
   ],
   "source": [
    "a*2"
   ]
  },
  {
   "cell_type": "code",
   "execution_count": 8,
   "id": "b00bb4cf",
   "metadata": {
    "scrolled": true
   },
   "outputs": [
    {
     "data": {
      "text/plain": [
       "array([0.5, 1. , 1.5, 2. , 2.5, 3. , 3.5, 4. , 4.5, 5. ])"
      ]
     },
     "execution_count": 8,
     "metadata": {},
     "output_type": "execute_result"
    }
   ],
   "source": [
    "a/2"
   ]
  },
  {
   "cell_type": "markdown",
   "id": "e4722d4b",
   "metadata": {},
   "source": [
    "# `np.add(a,b)`\n",
    "Esegue la somma elemento per elemento tra due array della stessa forma."
   ]
  },
  {
   "cell_type": "code",
   "execution_count": 10,
   "id": "5b2f0809",
   "metadata": {},
   "outputs": [
    {
     "name": "stdout",
     "output_type": "stream",
     "text": [
      "Somma con np.add: [11 22 33]\n"
     ]
    }
   ],
   "source": [
    "import numpy as np\n",
    "\n",
    "a = np.array([1, 2, 3])\n",
    "b = np.array([10, 20, 30])\n",
    "\n",
    "somma = np.add(a, b)\n",
    "print(\"Somma con np.add:\", somma)"
   ]
  },
  {
   "cell_type": "code",
   "execution_count": 11,
   "id": "7ff8ef31",
   "metadata": {},
   "outputs": [
    {
     "data": {
      "text/plain": [
       "array([11, 22, 33])"
      ]
     },
     "execution_count": 11,
     "metadata": {},
     "output_type": "execute_result"
    }
   ],
   "source": [
    "np.add(a,b)"
   ]
  },
  {
   "cell_type": "markdown",
   "id": "dbeacf30",
   "metadata": {},
   "source": [
    "# Esercitazione\n",
    "1. Crea due array: `a = [5, 10, 15]` e `b = [2, 4, 6]`\n",
    "2. Somma a e b con np.add()\n",
    "3. Crea due array 2x2 e somma le matrici\n",
    "4. Stampa i risultati\n",
    "\n",
    "|<br>\n",
    "|<br>\n",
    "|<br>\n",
    "|<br>\n",
    "|<br>"
   ]
  },
  {
   "cell_type": "code",
   "execution_count": 12,
   "id": "21412930",
   "metadata": {},
   "outputs": [
    {
     "name": "stdout",
     "output_type": "stream",
     "text": [
      "Somma 1D: [ 7 14 21]\n",
      "Somma 2D:\n",
      " [[11 22]\n",
      " [33 44]]\n"
     ]
    }
   ],
   "source": [
    "import numpy as np\n",
    "\n",
    "# 1. Somma array 1D\n",
    "a = np.array([5, 10, 15])\n",
    "b = np.array([2, 4, 6])\n",
    "risultato1 = np.add(a, b)\n",
    "\n",
    "# 2. Somma array 2D\n",
    "mat1 = np.array([[1, 2], [3, 4]])\n",
    "mat2 = np.array([[10, 20], [30, 40]])\n",
    "risultato2 = np.add(mat1, mat2)\n",
    "\n",
    "print(\"Somma 1D:\", risultato1)\n",
    "print(\"Somma 2D:\\n\", risultato2)"
   ]
  },
  {
   "cell_type": "markdown",
   "id": "5bfe578d",
   "metadata": {},
   "source": [
    "# `np.subtract(a,b)`\n",
    "Esegue la sottrazione elemento per elemento tra due array della stessa forma."
   ]
  },
  {
   "cell_type": "code",
   "execution_count": 13,
   "id": "d95b71f2",
   "metadata": {},
   "outputs": [
    {
     "name": "stdout",
     "output_type": "stream",
     "text": [
      "Sottrazione con np.subtract: [ 9 18 27]\n"
     ]
    }
   ],
   "source": [
    "import numpy as np\n",
    "\n",
    "a = np.array([10, 20, 30])\n",
    "b = np.array([1, 2, 3])\n",
    "\n",
    "diff = np.subtract(a, b)\n",
    "print(\"Sottrazione con np.subtract:\", diff)"
   ]
  },
  {
   "cell_type": "code",
   "execution_count": 13,
   "id": "c4766b28",
   "metadata": {},
   "outputs": [
    {
     "data": {
      "text/plain": [
       "array([20, 20, 20, 20, 20, 20, 20, 20, 20, 20])"
      ]
     },
     "execution_count": 13,
     "metadata": {},
     "output_type": "execute_result"
    }
   ],
   "source": [
    "np.subtract(b,a)"
   ]
  },
  {
   "cell_type": "code",
   "execution_count": 14,
   "id": "929b409e",
   "metadata": {},
   "outputs": [
    {
     "name": "stdout",
     "output_type": "stream",
     "text": [
      "[[ 4  8]\n",
      " [12 16]]\n"
     ]
    }
   ],
   "source": [
    "mat1 = np.array([[5, 10], [15, 20]])\n",
    "mat2 = np.array([[1, 2], [3, 4]])\n",
    "\n",
    "ris = np.subtract(mat1, mat2)\n",
    "print(ris)"
   ]
  },
  {
   "cell_type": "markdown",
   "id": "23f3b8eb",
   "metadata": {},
   "source": [
    "# Esercitazione \n",
    "1. Crea due array: `a = [100, 200, 300]` e `b = [10, 20, 30]`\n",
    "2.Esegui la sottrazione a - b usando:\n",
    "* `np.subtract()`\n",
    "* l’operatore -\n",
    "3. Crea due array 2x2 e sottrai mat2 da mat1\n",
    "4. Stampa tutti i risultati\n",
    "\n",
    "|<br>\n",
    "|<br>\n",
    "|<br>\n",
    "|<br>\n",
    "|<br>"
   ]
  },
  {
   "cell_type": "code",
   "execution_count": 15,
   "id": "4a5609a1",
   "metadata": {},
   "outputs": [
    {
     "name": "stdout",
     "output_type": "stream",
     "text": [
      "np.subtract: [ 90 180 270]\n",
      "Operatore - : [ 90 180 270]\n",
      "Sottrazione 2D:\n",
      " [[ 9 18]\n",
      " [27 36]]\n"
     ]
    }
   ],
   "source": [
    "import numpy as np\n",
    "\n",
    "# 1. Array 1D\n",
    "a = np.array([100, 200, 300])\n",
    "b = np.array([10, 20, 30])\n",
    "\n",
    "diff1 = np.subtract(a, b)\n",
    "diff2 = a - b\n",
    "\n",
    "print(\"np.subtract:\", diff1)\n",
    "print(\"Operatore - :\", diff2)\n",
    "\n",
    "# 2. Array 2D\n",
    "mat1 = np.array([[10, 20], [30, 40]])\n",
    "mat2 = np.array([[1, 2], [3, 4]])\n",
    "\n",
    "diff_mat = np.subtract(mat1, mat2)\n",
    "print(\"Sottrazione 2D:\\n\", diff_mat)"
   ]
  },
  {
   "cell_type": "markdown",
   "id": "d852c1c0",
   "metadata": {},
   "source": [
    "# `np.multiply(a,b)`\n",
    "Moltiplica elemento per elemento due array della stessa forma."
   ]
  },
  {
   "cell_type": "code",
   "execution_count": 16,
   "id": "8a2b5096",
   "metadata": {},
   "outputs": [
    {
     "name": "stdout",
     "output_type": "stream",
     "text": [
      "np.multiply: [ 20  80 180]\n"
     ]
    }
   ],
   "source": [
    "import numpy as np\n",
    "\n",
    "a = np.array([2, 4, 6])\n",
    "b = np.array([10, 20, 30])\n",
    "\n",
    "prodotto = np.multiply(a, b)\n",
    "print(\"np.multiply:\", prodotto)"
   ]
  },
  {
   "cell_type": "code",
   "execution_count": 17,
   "id": "e2f17bc6",
   "metadata": {},
   "outputs": [
    {
     "data": {
      "text/plain": [
       "array([ 20,  80, 180])"
      ]
     },
     "execution_count": 17,
     "metadata": {},
     "output_type": "execute_result"
    }
   ],
   "source": [
    "np.multiply(a,b)"
   ]
  },
  {
   "cell_type": "code",
   "execution_count": 18,
   "id": "bd3e160e",
   "metadata": {},
   "outputs": [
    {
     "name": "stdout",
     "output_type": "stream",
     "text": [
      "Moltiplicazione 2D:\n",
      " [[ 10  40]\n",
      " [ 90 160]]\n"
     ]
    }
   ],
   "source": [
    "mat1 = np.array([[1, 2], [3, 4]])\n",
    "mat2 = np.array([[10, 20], [30, 40]])\n",
    "\n",
    "ris = np.multiply(mat1, mat2)\n",
    "print(\"Moltiplicazione 2D:\\n\", ris)"
   ]
  },
  {
   "cell_type": "markdown",
   "id": "9ab689cc",
   "metadata": {},
   "source": [
    "# Esercitazione \n",
    "1. Crea due array: `a = [1, 3, 5]` e `b = [2, 4, 6]`\n",
    "2. Calcola il prodotto elemento per elemento con:\n",
    "* np.multiply()\n",
    "* l’operatore *\n",
    "3. Crea due array 2D 2x2 e calcola la moltiplicazione elemento per elemento.\n",
    "\n",
    "|<br>\n",
    "|<br>\n",
    "|<br>\n",
    "|<br>\n",
    "|<br>"
   ]
  },
  {
   "cell_type": "code",
   "execution_count": 19,
   "id": "418a4662",
   "metadata": {},
   "outputs": [
    {
     "name": "stdout",
     "output_type": "stream",
     "text": [
      "np.multiply: [ 2 12 30]\n",
      "Operatore *: [ 2 12 30]\n",
      "Moltiplicazione 2D:\n",
      " [[ 10  40]\n",
      " [ 90 160]]\n"
     ]
    }
   ],
   "source": [
    "import numpy as np\n",
    "\n",
    "# 1. Array 1D\n",
    "a = np.array([1, 3, 5])\n",
    "b = np.array([2, 4, 6])\n",
    "\n",
    "prod1 = np.multiply(a, b)\n",
    "prod2 = a * b\n",
    "\n",
    "print(\"np.multiply:\", prod1)\n",
    "print(\"Operatore *:\", prod2)\n",
    "\n",
    "# 2. Array 2D\n",
    "mat1 = np.array([[1, 2], [3, 4]])\n",
    "mat2 = np.array([[10, 20], [30, 40]])\n",
    "\n",
    "prod_mat = np.multiply(mat1, mat2)\n",
    "print(\"Moltiplicazione 2D:\\n\", prod_mat)\n"
   ]
  },
  {
   "cell_type": "markdown",
   "id": "e653f297",
   "metadata": {},
   "source": [
    "# `np.divide(a,b)`\n",
    "Divisione elemento per elemento"
   ]
  },
  {
   "cell_type": "code",
   "execution_count": 24,
   "id": "334faf72",
   "metadata": {},
   "outputs": [
    {
     "name": "stdout",
     "output_type": "stream",
     "text": [
      "Divide: [5. 5. 6.]\n"
     ]
    }
   ],
   "source": [
    "import numpy as np\n",
    "\n",
    "a = np.array([10, 20, 30])\n",
    "b = np.array([2, 4, 5])\n",
    "\n",
    "ris = np.divide(a, b)\n",
    "print(\"Divide:\", ris)"
   ]
  },
  {
   "cell_type": "markdown",
   "id": "c9b567c6",
   "metadata": {},
   "source": [
    "# `np.mod(a,b)`\n",
    "Resto della divisione (modulo)"
   ]
  },
  {
   "cell_type": "code",
   "execution_count": 22,
   "id": "15e4a2b5",
   "metadata": {},
   "outputs": [
    {
     "name": "stdout",
     "output_type": "stream",
     "text": [
      "Modulo: [1 2 2]\n"
     ]
    }
   ],
   "source": [
    "a = np.array([10, 20, 30])\n",
    "b = np.array([3, 6, 7])\n",
    "\n",
    "ris = np.mod(a, b)\n",
    "print(\"Modulo:\", ris)"
   ]
  },
  {
   "cell_type": "markdown",
   "id": "20b64107",
   "metadata": {},
   "source": [
    "# `np.power(a,b)`\n",
    "Potenza elemento per elemento"
   ]
  },
  {
   "cell_type": "code",
   "execution_count": 25,
   "id": "9c82e4ee",
   "metadata": {},
   "outputs": [
    {
     "name": "stdout",
     "output_type": "stream",
     "text": [
      "Potenza: [8 9 4]\n"
     ]
    }
   ],
   "source": [
    "a = np.array([2, 3, 4])\n",
    "b = np.array([3, 2, 1])\n",
    "\n",
    "ris = np.power(a, b)\n",
    "print(\"Potenza:\", ris)"
   ]
  },
  {
   "cell_type": "markdown",
   "id": "802a9896",
   "metadata": {},
   "source": [
    "# `np.sqrt(a)`\n",
    "Radice quadrata elemento per elemento"
   ]
  },
  {
   "cell_type": "code",
   "execution_count": 26,
   "id": "df718cc7",
   "metadata": {},
   "outputs": [
    {
     "name": "stdout",
     "output_type": "stream",
     "text": [
      "Radice quadrata: [2. 3. 4.]\n"
     ]
    }
   ],
   "source": [
    "a = np.array([4, 9, 16])\n",
    "\n",
    "ris = np.sqrt(a)\n",
    "print(\"Radice quadrata:\", ris)"
   ]
  },
  {
   "cell_type": "markdown",
   "id": "81932838",
   "metadata": {},
   "source": [
    "# Esercitazione\n",
    "1. Crea due array `a = [9, 16, 25]` e `b = [3, 4, 5]`\n",
    "2. Calcola:\n",
    "* la divisione a / b\n",
    "* il modulo a % b\n",
    "* la potenza a^b\n",
    "* la radice quadrata di a\n",
    "3. Stampa tutti i risultati\n",
    "\n",
    "|<br>\n",
    "|<br>\n",
    "|<br>\n",
    "|<br>\n",
    "|<br>\n",
    "|<br>"
   ]
  },
  {
   "cell_type": "code",
   "execution_count": 30,
   "id": "9d6eb059",
   "metadata": {
    "scrolled": true
   },
   "outputs": [
    {
     "name": "stdout",
     "output_type": "stream",
     "text": [
      "Divisione: [3. 4. 5.]\n",
      "Modulo: [0 0 0]\n",
      "Potenza: [    729   65536 9765625]\n",
      "Radice quadrata: [3. 4. 5.]\n"
     ]
    }
   ],
   "source": [
    "import numpy as np\n",
    "\n",
    "a = np.array([9, 16, 25])\n",
    "b = np.array([3, 4, 5])\n",
    "\n",
    "div = np.divide(a, b)\n",
    "mod = np.mod(a, b)\n",
    "pot = np.power(a, b)\n",
    "rad = np.sqrt(a)\n",
    "\n",
    "print(\"Divisione:\", div)\n",
    "print(\"Modulo:\", mod)\n",
    "print(\"Potenza:\", pot)\n",
    "print(\"Radice quadrata:\", rad)"
   ]
  },
  {
   "cell_type": "markdown",
   "id": "cd403a69",
   "metadata": {},
   "source": [
    "# Casting\n",
    "Il type casting converte il tipo di dato di un array."
   ]
  },
  {
   "cell_type": "markdown",
   "id": "8ec8e08e",
   "metadata": {},
   "source": [
    "# `.astype()`"
   ]
  },
  {
   "cell_type": "code",
   "execution_count": 32,
   "id": "0c84f74f",
   "metadata": {},
   "outputs": [
    {
     "name": "stdout",
     "output_type": "stream",
     "text": [
      "Array intero: [1 2 3]\n",
      "Array float: [1. 2. 3.]\n",
      "Tipo: float64\n"
     ]
    }
   ],
   "source": [
    "import numpy as np\n",
    "\n",
    "a = np.array([1, 2, 3])\n",
    "b = a.astype(float)\n",
    "\n",
    "print(\"Array intero:\", a)\n",
    "print(\"Array float:\", b)\n",
    "print(\"Tipo:\", b.dtype)"
   ]
  },
  {
   "cell_type": "code",
   "execution_count": null,
   "id": "03135e6d",
   "metadata": {},
   "outputs": [],
   "source": []
  },
  {
   "cell_type": "markdown",
   "id": "015c7f17",
   "metadata": {},
   "source": [
    "# Broadcasting\n",
    "\n",
    "A volte è necessario applicare operazioni aritmetiche su array di forme e dimensioni diverse.\n",
    "> NumPy ci permette di farlo utilizzando un meccanismo chiamato **broadcasting**. \n",
    "\n",
    "Quando gli array hanno dimensioni diverse, le operazioni aritmetiche possono essere eseguite se l'array più piccolo può essere espanso per corrispondere all'array più grande, seguendo regole semplici.\n",
    "\n",
    "### Come funziona\n",
    "Il broadcasting segue regole semplici per determinare se possiamo applicare operazioni aritmetiche su array:\n",
    "\n",
    "1. Si parte confrontando le dimensioni a partire dall'ultima dimensione di ciascun array.\n",
    "1. Le dimensioni sono compatibili se:\n",
    "+ Gli assi hanno la stessa lunghezza.\n",
    "+ Uno degli assi ha lunghezza 1 (e quindi può essere espanso).\n"
   ]
  },
  {
   "cell_type": "code",
   "execution_count": 33,
   "id": "b6c2a35a",
   "metadata": {},
   "outputs": [],
   "source": [
    "import numpy as np"
   ]
  },
  {
   "cell_type": "markdown",
   "id": "414c65ae",
   "metadata": {},
   "source": [
    "# Compatibili"
   ]
  },
  {
   "cell_type": "markdown",
   "id": "6093e35d",
   "metadata": {},
   "source": [
    "* `a` è un array 2D con forma `(3,3)`."
   ]
  },
  {
   "cell_type": "code",
   "execution_count": 34,
   "id": "c04805e3",
   "metadata": {},
   "outputs": [
    {
     "data": {
      "text/plain": [
       "array([[1, 2, 3],\n",
       "       [4, 5, 6],\n",
       "       [7, 8, 9]])"
      ]
     },
     "execution_count": 34,
     "metadata": {},
     "output_type": "execute_result"
    }
   ],
   "source": [
    "a=np.arange(1,10).reshape(3,3) # matrice 3x3 con valori da 1 a 9 \n",
    "a"
   ]
  },
  {
   "cell_type": "markdown",
   "id": "f1d98efa",
   "metadata": {},
   "source": [
    "`b` è un arrat 1D con 3 elementi."
   ]
  },
  {
   "cell_type": "code",
   "execution_count": 37,
   "id": "08e84a43",
   "metadata": {
    "scrolled": true
   },
   "outputs": [
    {
     "data": {
      "text/plain": [
       "array([1, 2, 3])"
      ]
     },
     "execution_count": 37,
     "metadata": {},
     "output_type": "execute_result"
    }
   ],
   "source": [
    "b=np.arange(1,4) # array 1D con 3 elementi \n",
    "b"
   ]
  },
  {
   "cell_type": "markdown",
   "id": "63c8cfe8",
   "metadata": {},
   "source": [
    "Quando facciamo a + b, NumPy applica broadcasting riga per riga:\n",
    "\n",
    "> La riga `[1 2 3]` viene applicata a ogni riga di `a`."
   ]
  },
  {
   "cell_type": "code",
   "execution_count": 38,
   "id": "f269a411",
   "metadata": {},
   "outputs": [
    {
     "data": {
      "text/plain": [
       "array([[ 2,  4,  6],\n",
       "       [ 5,  7,  9],\n",
       "       [ 8, 10, 12]])"
      ]
     },
     "execution_count": 38,
     "metadata": {},
     "output_type": "execute_result"
    }
   ],
   "source": [
    "a+b "
   ]
  },
  {
   "cell_type": "markdown",
   "id": "60c35529",
   "metadata": {},
   "source": [
    "NumPy ha espanso l'array b lungo l'asse verticale per corrispondere alla forma di a e poi ha eseguito l'addizione elemento per elemento.\n",
    "\n",
    "### Il broadcasting funziona perché:\n",
    "\n",
    "* `a` ha forma `(3, 3)`\n",
    "* `b` ha forma `(3,)`, che viene trasformata automaticamente in `(1, 3)`"
   ]
  },
  {
   "cell_type": "markdown",
   "id": "275c9507",
   "metadata": {},
   "source": [
    "# Esercizio\n",
    "1. Crea un array `a = np.ones((4, 3))`\n",
    "2. Crea `b = np.array([10, 20, 30])`\n",
    "3. Calcola `a + b` con broadcasting\n",
    "4. Stampa risultato e forma\n",
    "\n",
    "|<br>\n",
    "|<br>\n",
    "|<br>\n",
    "|<br>"
   ]
  },
  {
   "cell_type": "code",
   "execution_count": 39,
   "id": "8049c7c6",
   "metadata": {},
   "outputs": [
    {
     "name": "stdout",
     "output_type": "stream",
     "text": [
      "Array a (4x3):\n",
      " [[1. 1. 1.]\n",
      " [1. 1. 1.]\n",
      " [1. 1. 1.]\n",
      " [1. 1. 1.]]\n",
      "\n",
      "Array b (1D): [10 20 30]\n",
      "\n",
      "Risultato a + b:\n",
      " [[11. 21. 31.]\n",
      " [11. 21. 31.]\n",
      " [11. 21. 31.]\n",
      " [11. 21. 31.]]\n",
      "\n",
      "Forma di a: (4, 3)\n",
      "Forma di b: (3,)\n",
      "Forma del risultato: (4, 3)\n"
     ]
    }
   ],
   "source": [
    "import numpy as np\n",
    "\n",
    "# 1. Array 4x3 di soli 1\n",
    "a = np.ones((4, 3))\n",
    "print(\"Array a (4x3):\\n\", a)\n",
    "\n",
    "# 2. Array 1D di 3 elementi\n",
    "b = np.array([10, 20, 30])\n",
    "print(\"\\nArray b (1D):\", b)\n",
    "\n",
    "# 3. Somma con broadcasting\n",
    "c = a + b\n",
    "print(\"\\nRisultato a + b:\\n\", c)\n",
    "\n",
    "# 4. Forme\n",
    "print(\"\\nForma di a:\", a.shape)\n",
    "print(\"Forma di b:\", b.shape)\n",
    "print(\"Forma del risultato:\", c.shape)\n"
   ]
  },
  {
   "cell_type": "markdown",
   "id": "186ab1c2",
   "metadata": {},
   "source": [
    "# Broadcasting non compatibile\n",
    "Il broadcasting funziona solo se, confrontando le forme da destra verso sinistra:\n",
    "* le dimensioni sono uguali, oppure;\n",
    "* una delle due vale 1.\n",
    "\n",
    "* `a.shape = (3, 4)`\n",
    "* `b.shape = (2,)` \\\n",
    "Non sono compatibili perché 4 ≠ 2 e nessuna dimensione è 1."
   ]
  },
  {
   "cell_type": "code",
   "execution_count": null,
   "id": "f7345db3",
   "metadata": {},
   "outputs": [],
   "source": [
    "import numpy as np\n",
    "\n",
    "a = np.ones((3, 4))    # matrice 3 righe, 4 colonne\n",
    "b = np.array([10, 20]) # array 1D con 2 elementi\n",
    "\n",
    "# Proviamo la somma\n",
    "c = a + b  # ← ERRORE\n"
   ]
  },
  {
   "cell_type": "code",
   "execution_count": 17,
   "id": "10613d3d",
   "metadata": {},
   "outputs": [
    {
     "data": {
      "text/plain": [
       "array([[[ 0,  1,  2,  3],\n",
       "        [ 4,  5,  6,  7],\n",
       "        [ 8,  9, 10, 11]],\n",
       "\n",
       "       [[12, 13, 14, 15],\n",
       "        [16, 17, 18, 19],\n",
       "        [20, 21, 22, 23]]])"
      ]
     },
     "execution_count": 17,
     "metadata": {},
     "output_type": "execute_result"
    }
   ],
   "source": [
    "d=np.arange(24).reshape(2,3,4) #3D:2x3x4\n",
    "d"
   ]
  },
  {
   "cell_type": "markdown",
   "id": "fc554a43",
   "metadata": {},
   "source": [
    "## Statistiche riassuntive\n",
    "Quando ci troviamo di fronte a una grande quantità di dati, uno dei primi passi è calcolare le statistiche riassuntive per analizzare i dati.\n",
    "\n",
    "NumPy ci aiuta in questo con una serie di funzioni per calcolare aggregati sugli array. \n",
    "\n",
    "Queste funzioni accettano un array come input e, di default, restituiscono uno scalare come output. \\\n",
    "Questi calcoli includono medie, deviazione standard, somma e prodotto degli elementi di un array."
   ]
  },
  {
   "cell_type": "code",
   "execution_count": 41,
   "id": "c2531a12",
   "metadata": {},
   "outputs": [],
   "source": [
    "import numpy as np"
   ]
  },
  {
   "cell_type": "code",
   "execution_count": 42,
   "id": "70aabed3",
   "metadata": {},
   "outputs": [
    {
     "data": {
      "text/plain": [
       "array([ 10,  20,  30,  40,  50,  60,  70,  80,  90, 100])"
      ]
     },
     "execution_count": 42,
     "metadata": {},
     "output_type": "execute_result"
    }
   ],
   "source": [
    "primo_arr=np.arange(10,110,10)\n",
    "primo_arr"
   ]
  },
  {
   "cell_type": "code",
   "execution_count": 43,
   "id": "34b6502e",
   "metadata": {},
   "outputs": [
    {
     "data": {
      "text/plain": [
       "array([[10, 20, 30],\n",
       "       [40, 50, 60],\n",
       "       [70, 80, 90]])"
      ]
     },
     "execution_count": 43,
     "metadata": {},
     "output_type": "execute_result"
    }
   ],
   "source": [
    "secondo_arr=np.arange(10, 100,10).reshape(3,3)\n",
    "secondo_arr"
   ]
  },
  {
   "cell_type": "code",
   "execution_count": 44,
   "id": "3131c541",
   "metadata": {},
   "outputs": [
    {
     "data": {
      "text/plain": [
       "array([[ 10,  20,  30,  40,  50],\n",
       "       [ 60,  70,  80,  90, 100]])"
      ]
     },
     "execution_count": 44,
     "metadata": {},
     "output_type": "execute_result"
    }
   ],
   "source": [
    "terzo_arr=np.arange(10,110,10).reshape(2,5)\n",
    "terzo_arr"
   ]
  },
  {
   "cell_type": "code",
   "execution_count": 45,
   "id": "49f3a1fd",
   "metadata": {},
   "outputs": [
    {
     "data": {
      "text/plain": [
       "550"
      ]
     },
     "execution_count": 45,
     "metadata": {},
     "output_type": "execute_result"
    }
   ],
   "source": [
    "primo_arr.sum()"
   ]
  },
  {
   "cell_type": "code",
   "execution_count": 46,
   "id": "be1710b7",
   "metadata": {},
   "outputs": [
    {
     "data": {
      "text/plain": [
       "450"
      ]
     },
     "execution_count": 46,
     "metadata": {},
     "output_type": "execute_result"
    }
   ],
   "source": [
    "secondo_arr.sum()"
   ]
  },
  {
   "cell_type": "code",
   "execution_count": 28,
   "id": "54bb6dd3",
   "metadata": {},
   "outputs": [
    {
     "data": {
      "text/plain": [
       "550"
      ]
     },
     "execution_count": 28,
     "metadata": {},
     "output_type": "execute_result"
    }
   ],
   "source": [
    "terzo_arr.sum()"
   ]
  },
  {
   "cell_type": "markdown",
   "id": "a469b507",
   "metadata": {},
   "source": [
    "## Somma per colonne o righe\n",
    "\n",
    "Per calcolare la somma di ogni colonna o riga di un array, usiamo il parametro axis:\n",
    "* Colonne: `axis=0`\n",
    "* Righe: `axis=1`"
   ]
  },
  {
   "cell_type": "code",
   "execution_count": 47,
   "id": "aeee823f",
   "metadata": {},
   "outputs": [
    {
     "data": {
      "text/plain": [
       "array([120, 150, 180])"
      ]
     },
     "execution_count": 47,
     "metadata": {},
     "output_type": "execute_result"
    }
   ],
   "source": [
    "secondo_arr.sum(axis=0) #somma di ogni colonna"
   ]
  },
  {
   "cell_type": "code",
   "execution_count": 48,
   "id": "4695f801",
   "metadata": {},
   "outputs": [
    {
     "data": {
      "text/plain": [
       "array([ 60, 150, 240])"
      ]
     },
     "execution_count": 48,
     "metadata": {},
     "output_type": "execute_result"
    }
   ],
   "source": [
    "secondo_arr.sum(axis=1) #somma di ogni riga"
   ]
  },
  {
   "cell_type": "markdown",
   "id": "bad7181f",
   "metadata": {},
   "source": [
    "# Prodotto di tutti elementi di un array (non tra array)\n",
    "Calcola il prodotto di tutti gli elementi di un array, o lungo un asse specifico."
   ]
  },
  {
   "cell_type": "code",
   "execution_count": 49,
   "id": "9a9a6cd6",
   "metadata": {},
   "outputs": [
    {
     "data": {
      "text/plain": [
       "36288000000000000"
      ]
     },
     "execution_count": 49,
     "metadata": {},
     "output_type": "execute_result"
    }
   ],
   "source": [
    "primo_arr.prod()"
   ]
  },
  {
   "cell_type": "code",
   "execution_count": 50,
   "id": "9407ddb4",
   "metadata": {},
   "outputs": [
    {
     "data": {
      "text/plain": [
       "362880000000000"
      ]
     },
     "execution_count": 50,
     "metadata": {},
     "output_type": "execute_result"
    }
   ],
   "source": [
    "secondo_arr.prod()"
   ]
  },
  {
   "cell_type": "code",
   "execution_count": 34,
   "id": "23e07d7c",
   "metadata": {},
   "outputs": [
    {
     "data": {
      "text/plain": [
       "36288000000000000"
      ]
     },
     "execution_count": 34,
     "metadata": {},
     "output_type": "execute_result"
    }
   ],
   "source": [
    "terzo_arr.prod()"
   ]
  },
  {
   "cell_type": "code",
   "execution_count": 35,
   "id": "12bff268",
   "metadata": {},
   "outputs": [
    {
     "data": {
      "text/plain": [
       "array([ 600, 1400, 2400, 3600, 5000])"
      ]
     },
     "execution_count": 35,
     "metadata": {},
     "output_type": "execute_result"
    }
   ],
   "source": [
    "terzo_arr.prod(axis=0)"
   ]
  },
  {
   "cell_type": "markdown",
   "id": "85d2d3ff",
   "metadata": {},
   "source": [
    "# `np.dot()` – Prodotto scalare o matriciale\n",
    "Esegue il prodotto tra due array:\n",
    "\n",
    "* prodotto scalare se array 1D\n",
    "* prodotto matriciale se array 2D"
   ]
  },
  {
   "cell_type": "code",
   "execution_count": 51,
   "id": "f51a94f3",
   "metadata": {},
   "outputs": [
    {
     "name": "stdout",
     "output_type": "stream",
     "text": [
      "32\n"
     ]
    }
   ],
   "source": [
    "a = np.array([1, 2, 3])\n",
    "b = np.array([4, 5, 6])\n",
    "\n",
    "print(np.dot(a, b))  # → 1×4 + 2×5 + 3×6 = 32"
   ]
  },
  {
   "cell_type": "code",
   "execution_count": 52,
   "id": "187b7b5b",
   "metadata": {},
   "outputs": [
    {
     "name": "stdout",
     "output_type": "stream",
     "text": [
      "[[19 22]\n",
      " [43 50]]\n"
     ]
    }
   ],
   "source": [
    "A = np.array([[1, 2], [3, 4]])\n",
    "B = np.array([[5, 6], [7, 8]])\n",
    "\n",
    "print(np.dot(A, B))"
   ]
  },
  {
   "cell_type": "markdown",
   "id": "96ec9e9d",
   "metadata": {},
   "source": [
    "# Esercitazione\n",
    "1. Crea un array 1D `a = [2, 4, 6]`\n",
    "2. Calcola:\n",
    "* il prodotto totale con np.prod()\n",
    "* il prodotto scalare con se stesso usando np.dot()\n",
    "3. Crea due array 2x2 e calcola il prodotto matriciale"
   ]
  },
  {
   "cell_type": "code",
   "execution_count": 53,
   "id": "243e6c4f",
   "metadata": {},
   "outputs": [
    {
     "name": "stdout",
     "output_type": "stream",
     "text": [
      "Prodotto totale: 48\n",
      "Prodotto scalare: 56\n",
      "Prodotto matriciale:\n",
      " [[19 22]\n",
      " [43 50]]\n"
     ]
    }
   ],
   "source": [
    "import numpy as np\n",
    "\n",
    "# Array 1D\n",
    "a = np.array([2, 4, 6])\n",
    "\n",
    "print(\"Prodotto totale:\", np.prod(a))      # → 48\n",
    "print(\"Prodotto scalare:\", np.dot(a, a))   # → 2² + 4² + 6² = 56\n",
    "\n",
    "# Array 2D\n",
    "A = np.array([[1, 2], [3, 4]])\n",
    "B = np.array([[5, 6], [7, 8]])\n",
    "\n",
    "print(\"Prodotto matriciale:\\n\", np.dot(A, B))\n"
   ]
  },
  {
   "cell_type": "code",
   "execution_count": null,
   "id": "6455444e",
   "metadata": {},
   "outputs": [],
   "source": []
  },
  {
   "cell_type": "markdown",
   "id": "afd1d467",
   "metadata": {},
   "source": [
    "## Media degli elementi\n",
    "La funzione `average` restituisce la media di un array. \\\n",
    "Possiamo anche specificare un asse per ottenere la media per colonne o righe"
   ]
  },
  {
   "cell_type": "code",
   "execution_count": 54,
   "id": "4a3e8ab1",
   "metadata": {},
   "outputs": [
    {
     "data": {
      "text/plain": [
       "55.0"
      ]
     },
     "execution_count": 54,
     "metadata": {},
     "output_type": "execute_result"
    }
   ],
   "source": [
    "np.average(primo_arr)"
   ]
  },
  {
   "cell_type": "code",
   "execution_count": 55,
   "id": "3b751a94",
   "metadata": {},
   "outputs": [
    {
     "data": {
      "text/plain": [
       "50.0"
      ]
     },
     "execution_count": 55,
     "metadata": {},
     "output_type": "execute_result"
    }
   ],
   "source": [
    "np.average(secondo_arr)"
   ]
  },
  {
   "cell_type": "code",
   "execution_count": 56,
   "id": "51347a33",
   "metadata": {},
   "outputs": [
    {
     "data": {
      "text/plain": [
       "55.0"
      ]
     },
     "execution_count": 56,
     "metadata": {},
     "output_type": "execute_result"
    }
   ],
   "source": [
    "np.average(terzo_arr)"
   ]
  },
  {
   "cell_type": "markdown",
   "id": "0a3af305",
   "metadata": {},
   "source": [
    "# Valore minimo e massimo"
   ]
  },
  {
   "cell_type": "code",
   "execution_count": 57,
   "id": "fb68eea2",
   "metadata": {},
   "outputs": [
    {
     "data": {
      "text/plain": [
       "10"
      ]
     },
     "execution_count": 57,
     "metadata": {},
     "output_type": "execute_result"
    }
   ],
   "source": [
    "np.min(primo_arr)"
   ]
  },
  {
   "cell_type": "code",
   "execution_count": 58,
   "id": "fba10e46",
   "metadata": {},
   "outputs": [
    {
     "data": {
      "text/plain": [
       "100"
      ]
     },
     "execution_count": 58,
     "metadata": {},
     "output_type": "execute_result"
    }
   ],
   "source": [
    "np.max(primo_arr)"
   ]
  },
  {
   "cell_type": "markdown",
   "id": "2e54ad36",
   "metadata": {},
   "source": [
    "## Media e deviazione standard\n",
    "La deviazione standard è la misura della dispersione dei dati dalla media, è un indice di variabilità. "
   ]
  },
  {
   "cell_type": "code",
   "execution_count": 59,
   "id": "05b20220",
   "metadata": {
    "scrolled": true
   },
   "outputs": [
    {
     "name": "stdout",
     "output_type": "stream",
     "text": [
      "[ 10  20  30  40  50  60  70  80  90 100]\n"
     ]
    }
   ],
   "source": [
    "print(primo_arr)"
   ]
  },
  {
   "cell_type": "code",
   "execution_count": 60,
   "id": "c0039196",
   "metadata": {},
   "outputs": [
    {
     "data": {
      "text/plain": [
       "55.0"
      ]
     },
     "execution_count": 60,
     "metadata": {},
     "output_type": "execute_result"
    }
   ],
   "source": [
    "np.mean(primo_arr)"
   ]
  },
  {
   "cell_type": "code",
   "execution_count": 62,
   "id": "1fa68564",
   "metadata": {},
   "outputs": [
    {
     "data": {
      "text/plain": [
       "28.722813232690143"
      ]
     },
     "execution_count": 62,
     "metadata": {},
     "output_type": "execute_result"
    }
   ],
   "source": [
    "np.std(primo_arr)"
   ]
  },
  {
   "cell_type": "markdown",
   "id": "2e8f6040",
   "metadata": {},
   "source": [
    "## Come ottenere elementi unici e conteggi\n",
    "NumPy fornisce la funzione unique per trovare gli elementi unici in un array. Per ottenere gli elementi unici, basta passare il nome dell'array come argomento.\n",
    "\n",
    "Con la funzione `unique`, possiamo identificare:\n",
    "\n",
    "1. Gli elementi unici di un array.\n",
    "1. Le righe e colonne uniche in array bidimensionali.\n",
    "1. La posizione degli indici degli elementi unici.\n",
    "1. Il conteggio delle frequenze degli elementi unici."
   ]
  },
  {
   "cell_type": "code",
   "execution_count": 63,
   "id": "85383906",
   "metadata": {},
   "outputs": [],
   "source": [
    "import numpy as np"
   ]
  },
  {
   "cell_type": "code",
   "execution_count": 64,
   "id": "2cf7a4a6",
   "metadata": {},
   "outputs": [],
   "source": [
    "primo_r=np.array([1,2,3,4,5,6,1,2,7,2,1,10,7,8])"
   ]
  },
  {
   "cell_type": "code",
   "execution_count": 65,
   "id": "393ccd68",
   "metadata": {},
   "outputs": [
    {
     "data": {
      "text/plain": [
       "array([ 1,  2,  3,  4,  5,  6,  7,  8, 10])"
      ]
     },
     "execution_count": 65,
     "metadata": {},
     "output_type": "execute_result"
    }
   ],
   "source": [
    "np.unique(primo_r)"
   ]
  },
  {
   "cell_type": "code",
   "execution_count": 66,
   "id": "c32fe72a",
   "metadata": {},
   "outputs": [
    {
     "data": {
      "text/plain": [
       "array([[1, 1, 2, 1],\n",
       "       [3, 1, 2, 1],\n",
       "       [1, 1, 2, 1],\n",
       "       [7, 1, 1, 1]])"
      ]
     },
     "execution_count": 66,
     "metadata": {},
     "output_type": "execute_result"
    }
   ],
   "source": [
    "secondo_r=np.array([[1,1,2,1],[3,1,2,1],[1,1,2,1],[7,1,1,1]])\n",
    "secondo_r"
   ]
  },
  {
   "cell_type": "code",
   "execution_count": 67,
   "id": "1687615d",
   "metadata": {},
   "outputs": [
    {
     "data": {
      "text/plain": [
       "array([1, 2, 3, 7])"
      ]
     },
     "execution_count": 67,
     "metadata": {},
     "output_type": "execute_result"
    }
   ],
   "source": [
    "np.unique(secondo_r)"
   ]
  },
  {
   "cell_type": "code",
   "execution_count": 68,
   "id": "5db7419f",
   "metadata": {},
   "outputs": [
    {
     "data": {
      "text/plain": [
       "array([[1, 1, 2, 1],\n",
       "       [3, 1, 2, 1],\n",
       "       [7, 1, 1, 1]])"
      ]
     },
     "execution_count": 68,
     "metadata": {},
     "output_type": "execute_result"
    }
   ],
   "source": [
    "np.unique(secondo_r, axis=0)"
   ]
  },
  {
   "cell_type": "code",
   "execution_count": 69,
   "id": "edd7b554",
   "metadata": {},
   "outputs": [
    {
     "data": {
      "text/plain": [
       "array([[1, 1, 2],\n",
       "       [1, 3, 2],\n",
       "       [1, 1, 2],\n",
       "       [1, 7, 1]])"
      ]
     },
     "execution_count": 69,
     "metadata": {},
     "output_type": "execute_result"
    }
   ],
   "source": [
    "np.unique(secondo_r, axis=1)"
   ]
  },
  {
   "cell_type": "markdown",
   "id": "0875d7cd",
   "metadata": {},
   "source": [
    "### Posizioni degli indici degli elementi unici\n"
   ]
  },
  {
   "cell_type": "code",
   "execution_count": 59,
   "id": "71e7f764",
   "metadata": {},
   "outputs": [],
   "source": [
    "primo_r=np.array([1,2,3,4,5,6,1,2,7,2,1,10,7,8])"
   ]
  },
  {
   "cell_type": "code",
   "execution_count": 60,
   "id": "3ce0763b",
   "metadata": {},
   "outputs": [
    {
     "data": {
      "text/plain": [
       "(array([ 1,  2,  3,  4,  5,  6,  7,  8, 10]),\n",
       " array([ 0,  1,  2,  3,  4,  5,  8, 13, 11]))"
      ]
     },
     "execution_count": 60,
     "metadata": {},
     "output_type": "execute_result"
    }
   ],
   "source": [
    "np.unique(primo_r, return_index=True)"
   ]
  },
  {
   "cell_type": "markdown",
   "id": "7bd84f69",
   "metadata": {},
   "source": [
    "Il primo array restituito contiene gli elementi unici, mentre il secondo array contiene le posizioni degli indici di questi elementi unici nell'array originale."
   ]
  },
  {
   "cell_type": "markdown",
   "id": "e0f1a087",
   "metadata": {},
   "source": [
    "### Conteggio delle frequenze degli elementi unici"
   ]
  },
  {
   "cell_type": "code",
   "execution_count": 62,
   "id": "96876372",
   "metadata": {},
   "outputs": [],
   "source": [
    "secondo_r=np.array([[1,1,2,1],[3,1,2,1],[1,1,2,1],[7,1,1,1]])"
   ]
  },
  {
   "cell_type": "code",
   "execution_count": 63,
   "id": "e3e2a3a6",
   "metadata": {},
   "outputs": [
    {
     "data": {
      "text/plain": [
       "(array([1, 2, 3, 7]), array([11,  3,  1,  1]))"
      ]
     },
     "execution_count": 63,
     "metadata": {},
     "output_type": "execute_result"
    }
   ],
   "source": [
    "np.unique(secondo_r, return_counts=True)"
   ]
  },
  {
   "cell_type": "markdown",
   "id": "6b742a9d",
   "metadata": {},
   "source": [
    "## Operazioni simili alla trasposizione\n",
    "\n",
    "Abbiamo imparato come modificare la forma di un array utilizzando la funzione reshape. \n",
    "\n",
    "Ora esploriamo altre funzioni per operazioni simili alla trasposizione: `transpose`, `moveaxis` e s`wapaxes`.\n",
    "\n",
    "Un aspetto importante è comprendere la differenza tra reshape e transpose:\n",
    "\n",
    "+ La funzione reshape prende un array di input e lo trasforma nella forma desiderata.\n",
    "+ La funzione transpose scambia righe e colonne, invertendo gli assi.\n"
   ]
  },
  {
   "cell_type": "code",
   "execution_count": 71,
   "id": "d290ebe5",
   "metadata": {},
   "outputs": [],
   "source": [
    "import numpy as np"
   ]
  },
  {
   "cell_type": "code",
   "execution_count": 72,
   "id": "55b86776",
   "metadata": {},
   "outputs": [
    {
     "data": {
      "text/plain": [
       "array([[ 0,  1,  2,  3],\n",
       "       [ 4,  5,  6,  7],\n",
       "       [ 8,  9, 10, 11]])"
      ]
     },
     "execution_count": 72,
     "metadata": {},
     "output_type": "execute_result"
    }
   ],
   "source": [
    "first_2dimarray=np.arange(12).reshape((3,4))\n",
    "first_2dimarray"
   ]
  },
  {
   "cell_type": "markdown",
   "id": "721a4817",
   "metadata": {},
   "source": [
    "## Funzione `transpose`\n",
    "La funzione `transpose` accetta due parametri:\n",
    "\n",
    "1. L'array di input.\n",
    "1. Gli assi da invertire (opzionale).\n",
    "\n",
    "Restituisce un array con gli assi invertiti: righe e colonne vengono scambiate. "
   ]
  },
  {
   "cell_type": "code",
   "execution_count": 73,
   "id": "9f619856",
   "metadata": {},
   "outputs": [
    {
     "data": {
      "text/plain": [
       "array([[ 0,  4,  8],\n",
       "       [ 1,  5,  9],\n",
       "       [ 2,  6, 10],\n",
       "       [ 3,  7, 11]])"
      ]
     },
     "execution_count": 73,
     "metadata": {},
     "output_type": "execute_result"
    }
   ],
   "source": [
    "np.transpose(first_2dimarray)"
   ]
  },
  {
   "cell_type": "code",
   "execution_count": 74,
   "id": "c2f4f07c",
   "metadata": {},
   "outputs": [
    {
     "data": {
      "text/plain": [
       "array([[0, 1],\n",
       "       [2, 3],\n",
       "       [4, 5]])"
      ]
     },
     "execution_count": 74,
     "metadata": {},
     "output_type": "execute_result"
    }
   ],
   "source": [
    "second_2darray=np.arange(6).reshape(3,2)\n",
    "second_2darray"
   ]
  },
  {
   "cell_type": "code",
   "execution_count": 75,
   "id": "163f9922",
   "metadata": {},
   "outputs": [
    {
     "data": {
      "text/plain": [
       "array([[0, 2, 4],\n",
       "       [1, 3, 5]])"
      ]
     },
     "execution_count": 75,
     "metadata": {},
     "output_type": "execute_result"
    }
   ],
   "source": [
    "np.transpose(second_2darray,(1,0))"
   ]
  },
  {
   "cell_type": "code",
   "execution_count": 76,
   "id": "6ae2be34",
   "metadata": {},
   "outputs": [
    {
     "data": {
      "text/plain": [
       "array([[[ 0,  1,  2,  3],\n",
       "        [ 4,  5,  6,  7],\n",
       "        [ 8,  9, 10, 11]],\n",
       "\n",
       "       [[12, 13, 14, 15],\n",
       "        [16, 17, 18, 19],\n",
       "        [20, 21, 22, 23]]])"
      ]
     },
     "execution_count": 76,
     "metadata": {},
     "output_type": "execute_result"
    }
   ],
   "source": [
    "first_3dimarr=np.arange(24).reshape(2,3,4)\n",
    "first_3dimarr"
   ]
  },
  {
   "cell_type": "markdown",
   "id": "c1279b4f",
   "metadata": {},
   "source": [
    "## Funzione `moveaxis`\n",
    "La funzione `moveaxis` sposta un asse di un array in una nuova posizione. Accetta tre parametri:\n",
    "\n",
    "1. L'array di input.\n",
    "1. La posizione sorgente dell'asse da spostare.\n",
    "1. La posizione di destinazione per l'asse spostato."
   ]
  },
  {
   "cell_type": "code",
   "execution_count": 77,
   "id": "cea23032",
   "metadata": {},
   "outputs": [
    {
     "data": {
      "text/plain": [
       "array([[[ 0, 12],\n",
       "        [ 1, 13],\n",
       "        [ 2, 14],\n",
       "        [ 3, 15]],\n",
       "\n",
       "       [[ 4, 16],\n",
       "        [ 5, 17],\n",
       "        [ 6, 18],\n",
       "        [ 7, 19]],\n",
       "\n",
       "       [[ 8, 20],\n",
       "        [ 9, 21],\n",
       "        [10, 22],\n",
       "        [11, 23]]])"
      ]
     },
     "execution_count": 77,
     "metadata": {},
     "output_type": "execute_result"
    }
   ],
   "source": [
    "np.moveaxis(first_3dimarr, 0,-1)"
   ]
  },
  {
   "cell_type": "markdown",
   "id": "b31d55c4",
   "metadata": {},
   "source": [
    "## Funzione `swapaxes`\n",
    "La funzione `swapaxes` scambia due assi specifici di un array. \\\n",
    "Accetta tre parametri:\n",
    "\n",
    "1. L'array di input.\n",
    "1. Il primo asse da scambiare.\n",
    "1. Il secondo asse da scambiare."
   ]
  },
  {
   "cell_type": "code",
   "execution_count": 79,
   "id": "4f450d21",
   "metadata": {},
   "outputs": [
    {
     "data": {
      "text/plain": [
       "array([[[ 0, 12],\n",
       "        [ 4, 16],\n",
       "        [ 8, 20]],\n",
       "\n",
       "       [[ 1, 13],\n",
       "        [ 5, 17],\n",
       "        [ 9, 21]],\n",
       "\n",
       "       [[ 2, 14],\n",
       "        [ 6, 18],\n",
       "        [10, 22]],\n",
       "\n",
       "       [[ 3, 15],\n",
       "        [ 7, 19],\n",
       "        [11, 23]]])"
      ]
     },
     "execution_count": 79,
     "metadata": {},
     "output_type": "execute_result"
    }
   ],
   "source": [
    "np.swapaxes(first_3dimarr, 0,2)"
   ]
  },
  {
   "cell_type": "markdown",
   "id": "36bb7d3a",
   "metadata": {},
   "source": [
    "Dopo aver applicato swapaxes, i numeri vengono scambiati tra l'asse 0 e l'asse 2. \\\n",
    "La forma dell'array risultante è diventata 4x3x2."
   ]
  },
  {
   "cell_type": "code",
   "execution_count": null,
   "id": "9ad5dd05",
   "metadata": {},
   "outputs": [],
   "source": []
  }
 ],
 "metadata": {
  "kernelspec": {
   "display_name": "Python 3 (ipykernel)",
   "language": "python",
   "name": "python3"
  },
  "language_info": {
   "codemirror_mode": {
    "name": "ipython",
    "version": 3
   },
   "file_extension": ".py",
   "mimetype": "text/x-python",
   "name": "python",
   "nbconvert_exporter": "python",
   "pygments_lexer": "ipython3",
   "version": "3.9.7"
  }
 },
 "nbformat": 4,
 "nbformat_minor": 5
}
