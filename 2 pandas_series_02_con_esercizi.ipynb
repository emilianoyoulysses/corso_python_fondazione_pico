{
 "cells": [
  {
   "cell_type": "markdown",
   "id": "2ffd6d5f",
   "metadata": {},
   "source": [
    "# Introduzione to Pandas\n",
    "di Emiliano Citarella_Youlysses_soc_coop"
   ]
  },
  {
   "cell_type": "markdown",
   "id": "f9521d1d",
   "metadata": {},
   "source": [
    "## Modulo 1: Introduzione alle Series\n",
    "\n",
    "### Pandas Series Parte 2\n",
    "- Utilizzo di operatori di confronto per produrre serie booleane.\n",
    "- Utilizzo dell'indicizzazione booleana per filtrare i dati.\n",
    "- Utilizzo delle operazioni OR e AND per creare filtri composti.\n",
    "- Assegnazione di sottoinsiemi alla propria variabile.\n",
    "- Operare su sottoinsiemi sul posto utilizzando`.loc`."
   ]
  },
  {
   "cell_type": "markdown",
   "id": "0a462916",
   "metadata": {},
   "source": [
    "# `boolean mask`\n",
    "Boolean mask è una tecnica potente per filtrare i dati all'interno di un DataFrame o Series. \\\n",
    "Si basa su un array di valori booleani (True o False) che specificano quali righe (o colonne) devono essere selezionate.\n",
    "\n",
    "+ first è una maschera booleana: una lista di valori `True` o `False` della stessa lunghezza della Series.\n",
    "+ Quando applichiamo `ser[first]`, Pandas seleziona solo gli elementi della Series per cui la maschera è True.\n",
    "+ In questo caso, solo il primo elemento è `True`, quindi viene restituito solo `ser[0]`, cioè `-2.`\n",
    "\n",
    "Se la lunghezza della maschera non corrisponde alla lunghezza della Series, otterrai un errore"
   ]
  },
  {
   "cell_type": "code",
   "execution_count": 9,
   "id": "9ede26f3",
   "metadata": {},
   "outputs": [
    {
     "name": "stdout",
     "output_type": "stream",
     "text": [
      "   Nome  Età\n",
      "1  Luca   35\n",
      "3  Sara   29\n"
     ]
    }
   ],
   "source": [
    "import pandas as pd\n",
    "\n",
    "# Creiamo un DataFrame di esempio\n",
    "df = pd.DataFrame({\n",
    "    'Nome': ['Anna', 'Luca', 'Marco', 'Sara'],\n",
    "    'Età': [23, 35, 17, 29]\n",
    "})\n",
    "\n",
    "# Creiamo una boolean mask per filtrare chi ha più di 25 anni\n",
    "mask = df['Età'] > 25\n",
    "\n",
    "# Applichiamo la maschera\n",
    "df_filtrato = df[mask]\n",
    "\n",
    "print(df_filtrato)"
   ]
  },
  {
   "cell_type": "code",
   "execution_count": 10,
   "id": "d011e1ea",
   "metadata": {},
   "outputs": [
    {
     "data": {
      "text/html": [
       "<div>\n",
       "<style scoped>\n",
       "    .dataframe tbody tr th:only-of-type {\n",
       "        vertical-align: middle;\n",
       "    }\n",
       "\n",
       "    .dataframe tbody tr th {\n",
       "        vertical-align: top;\n",
       "    }\n",
       "\n",
       "    .dataframe thead th {\n",
       "        text-align: right;\n",
       "    }\n",
       "</style>\n",
       "<table border=\"1\" class=\"dataframe\">\n",
       "  <thead>\n",
       "    <tr style=\"text-align: right;\">\n",
       "      <th></th>\n",
       "      <th>Nome</th>\n",
       "      <th>Età</th>\n",
       "    </tr>\n",
       "  </thead>\n",
       "  <tbody>\n",
       "    <tr>\n",
       "      <th>0</th>\n",
       "      <td>Anna</td>\n",
       "      <td>23</td>\n",
       "    </tr>\n",
       "    <tr>\n",
       "      <th>3</th>\n",
       "      <td>Sara</td>\n",
       "      <td>29</td>\n",
       "    </tr>\n",
       "  </tbody>\n",
       "</table>\n",
       "</div>"
      ],
      "text/plain": [
       "   Nome  Età\n",
       "0  Anna   23\n",
       "3  Sara   29"
      ]
     },
     "execution_count": 10,
     "metadata": {},
     "output_type": "execute_result"
    }
   ],
   "source": [
    "# Filtra chi ha più di 20 anni e si chiama 'Anna' o 'Sara'\n",
    "mask = (df['Età'] > 20) & (df['Nome'].isin(['Anna', 'Sara']))\n",
    "df[mask]"
   ]
  },
  {
   "cell_type": "markdown",
   "id": "51aee9ab",
   "metadata": {},
   "source": [
    "# Esercitazione\n",
    "Dato un insieme di numeri interi in una Series, vogliamo trovare solo i numeri positivi (cioè maggiori di zero) usando una maschera booleana dinamica:\n",
    "* `[-3, -2, -1, 0, 1, 2, 3]`\n",
    "1. crea una Series;\n",
    "2. filtra solo i valori positivi della Series. I valori positivi sono quelli strettamente maggiori di 0;\n",
    "3. applica la maschera alla Series\n",
    "\n",
    "Utilizza la condizione logica (ser > 0) per creare una boolean mask dinamica\n",
    "\n",
    "|<br>\n",
    "|<br>\n",
    "|<br>\n",
    "|<br>\n",
    "|<br>\n",
    "|<br>\n",
    "|<br>\n",
    "|<br>\n",
    "|<br>\n",
    "|<br>"
   ]
  },
  {
   "cell_type": "code",
   "execution_count": 14,
   "id": "f98a785f",
   "metadata": {},
   "outputs": [
    {
     "name": "stdout",
     "output_type": "stream",
     "text": [
      "0   -3\n",
      "1   -2\n",
      "2   -1\n",
      "3    0\n",
      "4    1\n",
      "5    2\n",
      "6    3\n",
      "dtype: int64\n"
     ]
    }
   ],
   "source": [
    "import pandas as pd\n",
    "\n",
    "# Crea una Series con numeri da -3 a 3\n",
    "ser = pd.Series([-3, -2, -1, 0, 1, 2, 3])\n",
    "print(ser)"
   ]
  },
  {
   "cell_type": "code",
   "execution_count": 15,
   "id": "ad0d98ea",
   "metadata": {},
   "outputs": [
    {
     "name": "stdout",
     "output_type": "stream",
     "text": [
      "0    False\n",
      "1    False\n",
      "2    False\n",
      "3    False\n",
      "4     True\n",
      "5     True\n",
      "6     True\n",
      "dtype: bool\n"
     ]
    }
   ],
   "source": [
    "mask = ser > 0\n",
    "print(mask)"
   ]
  },
  {
   "cell_type": "code",
   "execution_count": 16,
   "id": "9e06818f",
   "metadata": {},
   "outputs": [
    {
     "name": "stdout",
     "output_type": "stream",
     "text": [
      "4    1\n",
      "5    2\n",
      "6    3\n",
      "dtype: int64\n"
     ]
    }
   ],
   "source": [
    "positivi = ser[mask]\n",
    "print(positivi)\n"
   ]
  },
  {
   "cell_type": "markdown",
   "id": "dca6d0ce",
   "metadata": {},
   "source": [
    "# `pd.Series`\n",
    "`pd.Series(ser)`converte l'oggetto range(-2, 3) in una Series di Pandas.\n",
    "+ gli indici predefiniti sono numeri interi progressivi a partire da 0.\n",
    "+ i valori della Series sono quelli generati dal range."
   ]
  },
  {
   "cell_type": "code",
   "execution_count": 17,
   "id": "adad7398",
   "metadata": {},
   "outputs": [
    {
     "data": {
      "text/plain": [
       "range(-2, 3)"
      ]
     },
     "execution_count": 17,
     "metadata": {},
     "output_type": "execute_result"
    }
   ],
   "source": [
    "import pandas as pd\n",
    "ser = range(-2, 3)\n",
    "ser"
   ]
  },
  {
   "cell_type": "code",
   "execution_count": 18,
   "id": "e52d0ced",
   "metadata": {
    "scrolled": true
   },
   "outputs": [
    {
     "data": {
      "text/plain": [
       "0   -2\n",
       "1   -1\n",
       "2    0\n",
       "3    1\n",
       "4    2\n",
       "dtype: int64"
      ]
     },
     "execution_count": 18,
     "metadata": {},
     "output_type": "execute_result"
    }
   ],
   "source": [
    "ser = pd.Series(ser)\n",
    "ser"
   ]
  },
  {
   "cell_type": "markdown",
   "id": "8ec0c5ce",
   "metadata": {},
   "source": [
    "# Maschera booleana \"manuale\"\n",
    "Analizziamo un esempio:\n",
    "* L'indice corrispondente per il primo elemento è `True` mentre il resto è `False`.\n",
    "* L'utilizzo dell'indice corrispondente di una raccolta booleana per filtrare una Series si chiama **mascheramento booleano**."
   ]
  },
  {
   "cell_type": "code",
   "execution_count": 21,
   "id": "27cd7b2c",
   "metadata": {},
   "outputs": [
    {
     "data": {
      "text/plain": [
       "0   -2\n",
       "dtype: int64"
      ]
     },
     "execution_count": 21,
     "metadata": {},
     "output_type": "execute_result"
    }
   ],
   "source": [
    "first = [True, False, False, False, False]\n",
    "ser[first]"
   ]
  },
  {
   "cell_type": "code",
   "execution_count": 22,
   "id": "9c696835",
   "metadata": {
    "scrolled": true
   },
   "outputs": [
    {
     "data": {
      "text/plain": [
       "0   -2\n",
       "dtype: int64"
      ]
     },
     "execution_count": 22,
     "metadata": {},
     "output_type": "execute_result"
    }
   ],
   "source": [
    "import pandas as pd\n",
    "\n",
    "ser = range(-2, 3)              # crea un range da -2 a 2 (incluso)\n",
    "ser = pd.Series(ser)           # converte il range in una Series\n",
    "first = [True, False, False, False, False]  # maschera booleana\n",
    "ser[first]                     # applica la maschera\n"
   ]
  },
  {
   "cell_type": "markdown",
   "id": "8656a6e5",
   "metadata": {},
   "source": [
    "> ## Impostando tutti i valori booleani come veri, avremo la serie originale."
   ]
  },
  {
   "cell_type": "code",
   "execution_count": 23,
   "id": "2d40f653",
   "metadata": {},
   "outputs": [
    {
     "data": {
      "text/plain": [
       "0   -2\n",
       "1   -1\n",
       "2    0\n",
       "3    1\n",
       "4    2\n",
       "dtype: int64"
      ]
     },
     "execution_count": 23,
     "metadata": {},
     "output_type": "execute_result"
    }
   ],
   "source": [
    "all_true = [True, True, True, True, True]\n",
    "ser[all_true]"
   ]
  },
  {
   "cell_type": "markdown",
   "id": "53b017ff",
   "metadata": {},
   "source": [
    "> ## Impostando tutti i valori booleani come `False`, avremo una serie vuota. "
   ]
  },
  {
   "cell_type": "code",
   "execution_count": 24,
   "id": "f80b344a",
   "metadata": {
    "scrolled": true
   },
   "outputs": [
    {
     "data": {
      "text/plain": [
       "Series([], dtype: int64)"
      ]
     },
     "execution_count": 24,
     "metadata": {},
     "output_type": "execute_result"
    }
   ],
   "source": [
    "all_false = [False, False, False, False, False]\n",
    "ser[all_false]"
   ]
  },
  {
   "cell_type": "markdown",
   "id": "766c1771",
   "metadata": {},
   "source": [
    "> ## Una maschera booleana filtra i risultati. "
   ]
  },
  {
   "cell_type": "code",
   "execution_count": 25,
   "id": "d4c2e742",
   "metadata": {
    "scrolled": true
   },
   "outputs": [
    {
     "data": {
      "text/plain": [
       "0   -2\n",
       "2    0\n",
       "dtype: int64"
      ]
     },
     "execution_count": 25,
     "metadata": {},
     "output_type": "execute_result"
    }
   ],
   "source": [
    "first_and_third = [True, False, True, False, False]\n",
    "ser[first_and_third]"
   ]
  },
  {
   "cell_type": "markdown",
   "id": "a1224d57",
   "metadata": {},
   "source": [
    "> ## Il mascheramento booleano lascia intatta la serie originale"
   ]
  },
  {
   "cell_type": "code",
   "execution_count": 26,
   "id": "0a0318b3",
   "metadata": {
    "scrolled": false
   },
   "outputs": [
    {
     "data": {
      "text/plain": [
       "0   -2\n",
       "1   -1\n",
       "2    0\n",
       "3    1\n",
       "4    2\n",
       "dtype: int64"
      ]
     },
     "execution_count": 26,
     "metadata": {},
     "output_type": "execute_result"
    }
   ],
   "source": [
    "ser"
   ]
  },
  {
   "cell_type": "markdown",
   "id": "26eca1f8",
   "metadata": {},
   "source": [
    "# Confronto con valori \n",
    "+ Posso realizzare un confronto con valori, elementi, oggetti che restituisce una Series booleana che confronta - in questo caso - ogni elemento di ser con il valore 1;\n",
    "+ il confronto `ser == 1` restituisce True solo per `l'indice 3`, dove il valore è effettivamente `1`."
   ]
  },
  {
   "cell_type": "markdown",
   "id": "928b572b",
   "metadata": {},
   "source": [
    "> ## Gli operatori di confronto restituiscono una serie booleana"
   ]
  },
  {
   "cell_type": "code",
   "execution_count": 29,
   "id": "58095298",
   "metadata": {
    "scrolled": true
   },
   "outputs": [
    {
     "data": {
      "text/plain": [
       "0    False\n",
       "1    False\n",
       "2    False\n",
       "3     True\n",
       "4    False\n",
       "dtype: bool"
      ]
     },
     "execution_count": 29,
     "metadata": {},
     "output_type": "execute_result"
    }
   ],
   "source": [
    "ser == 1"
   ]
  },
  {
   "cell_type": "code",
   "execution_count": 30,
   "id": "29f114c1",
   "metadata": {
    "scrolled": true
   },
   "outputs": [
    {
     "data": {
      "text/plain": [
       "0    False\n",
       "1    False\n",
       "2    False\n",
       "3    False\n",
       "4     True\n",
       "dtype: bool"
      ]
     },
     "execution_count": 30,
     "metadata": {},
     "output_type": "execute_result"
    }
   ],
   "source": [
    "ser == 2"
   ]
  },
  {
   "cell_type": "markdown",
   "id": "a35ed909",
   "metadata": {},
   "source": [
    "# `boolean indexing`\n",
    "\n",
    "Il `boolean indexing (o indicizzazione booleana)` è una tecnica che seleziona solo i dati che soddisfano una condizione:\n",
    "1. si applica una condizione logica (es. >, <, ==, ecc.) su una Series o colonna;\n",
    "2. questo produce una maschera booleana (`True` o `False` per ogni elemento);\n",
    "3. si usa questa maschera per filtrare i dati.\n",
    "\n",
    "+ `mask = ser == 1` crea una Series booleana, dove ogni valore è `True` se l'elemento corrispondente in `ser` è uguale a `1`.\n",
    "+ `ser[mask]` applica la maschera e restituisce solo gli elementi per cui il confronto è `True`."
   ]
  },
  {
   "cell_type": "code",
   "execution_count": 31,
   "id": "f60f7681",
   "metadata": {},
   "outputs": [
    {
     "data": {
      "text/plain": [
       "3    1\n",
       "dtype: int64"
      ]
     },
     "execution_count": 31,
     "metadata": {},
     "output_type": "execute_result"
    }
   ],
   "source": [
    "mask = ser == 1\n",
    "ser[mask]"
   ]
  },
  {
   "cell_type": "markdown",
   "id": "982f88cc",
   "metadata": {},
   "source": [
    "> ## E' più chiaro posizionare la serie booleana direttamente all'interno delle parentesi quadre"
   ]
  },
  {
   "cell_type": "code",
   "execution_count": 32,
   "id": "7d37750c",
   "metadata": {},
   "outputs": [
    {
     "data": {
      "text/plain": [
       "3    1\n",
       "dtype: int64"
      ]
     },
     "execution_count": 32,
     "metadata": {},
     "output_type": "execute_result"
    }
   ],
   "source": [
    "ser[ser == 1]"
   ]
  },
  {
   "cell_type": "markdown",
   "id": "75354b2d",
   "metadata": {},
   "source": [
    "## Per combinare più condizioni, utilizziamo gli operatori logici bitwise:\n",
    "In Pandas, per combinare più condizioni logiche, non si usano and, or, not, ma si usano:\n",
    "+ & per and\n",
    "+ | per or\n",
    "+ ~ per not"
   ]
  },
  {
   "cell_type": "code",
   "execution_count": 37,
   "id": "ead1dde4",
   "metadata": {},
   "outputs": [
    {
     "name": "stdout",
     "output_type": "stream",
     "text": [
      "   Nome  Età Città\n",
      "0  Anna   23  Roma\n"
     ]
    }
   ],
   "source": [
    "import pandas as pd\n",
    "\n",
    "# Crea un DataFrame\n",
    "df = pd.DataFrame({\n",
    "    'Nome': ['Anna', 'Luca', 'Marco', 'Sara', 'Paolo'],\n",
    "    'Età': [23, 35, 17, 29, 15],\n",
    "    'Città': ['Roma', 'Milano', 'Roma', 'Napoli', 'Napoli']\n",
    "})\n",
    "\n",
    "# Seleziona le persone con Età > 18 **e** che vivono a Roma\n",
    "filtro = (df['Età'] > 18) & (df['Città'] == 'Roma')\n",
    "\n",
    "# Applica il filtro\n",
    "print(df[filtro])"
   ]
  },
  {
   "cell_type": "markdown",
   "id": "c143420e",
   "metadata": {},
   "source": [
    "# Esercitazione\n",
    "Hai un DataFrame con nomi, età e città, troviamo:\n",
    "\n",
    "* persone di età inferiore a 30 anni\n",
    "* che NON vivono a Napoli"
   ]
  },
  {
   "cell_type": "code",
   "execution_count": 38,
   "id": "89adebdb",
   "metadata": {},
   "outputs": [],
   "source": [
    "import pandas as pd\n",
    "\n",
    "df = pd.DataFrame({\n",
    "    'Nome': ['Anna', 'Luca', 'Marco', 'Sara', 'Paolo'],\n",
    "    'Età': [23, 35, 17, 29, 15],\n",
    "    'Città': ['Roma', 'Milano', 'Roma', 'Napoli', 'Napoli']\n",
    "})"
   ]
  },
  {
   "cell_type": "markdown",
   "id": "15212ddc",
   "metadata": {},
   "source": [
    "> Seleziona solo le righe dove:\n",
    "`Età < 30`\n",
    "la Città `non è 'Napoli'`\n",
    "\n",
    "|<br>\n",
    "|<br>\n",
    "|<br>\n",
    "|<br>\n",
    "|<br>\n",
    "|<br>\n",
    "|<br>\n",
    "|<br>\n",
    "|<br>"
   ]
  },
  {
   "cell_type": "code",
   "execution_count": 39,
   "id": "274cdeac",
   "metadata": {},
   "outputs": [
    {
     "name": "stdout",
     "output_type": "stream",
     "text": [
      "    Nome  Età Città\n",
      "0   Anna   23  Roma\n",
      "2  Marco   17  Roma\n"
     ]
    }
   ],
   "source": [
    "filtro = (df['Età'] < 30) & (~(df['Città'] == 'Napoli'))\n",
    "\n",
    "risultato = df[filtro]\n",
    "print(risultato)\n"
   ]
  },
  {
   "cell_type": "markdown",
   "id": "e3a9d2f4",
   "metadata": {},
   "source": [
    "> ## Utilizzo delle parentesi quadre"
   ]
  },
  {
   "cell_type": "code",
   "execution_count": 41,
   "id": "7403b5bc",
   "metadata": {},
   "outputs": [
    {
     "data": {
      "text/plain": [
       "0     True\n",
       "1     True\n",
       "2    False\n",
       "3    False\n",
       "4    False\n",
       "dtype: bool"
      ]
     },
     "execution_count": 41,
     "metadata": {},
     "output_type": "execute_result"
    }
   ],
   "source": [
    "is_negative = ser < 0\n",
    "is_negative"
   ]
  },
  {
   "cell_type": "markdown",
   "id": "9852500e",
   "metadata": {},
   "source": [
    "I valori `True` nella serie booleana abilitano gli elementi corrispondenti. \\\n",
    "I valori `False` nascondono gli elementi corrispondenti."
   ]
  },
  {
   "cell_type": "code",
   "execution_count": 42,
   "id": "a4cef135",
   "metadata": {},
   "outputs": [
    {
     "data": {
      "text/plain": [
       "0   -2\n",
       "1   -1\n",
       "dtype: int64"
      ]
     },
     "execution_count": 42,
     "metadata": {},
     "output_type": "execute_result"
    }
   ],
   "source": [
    "ser[is_negative]"
   ]
  },
  {
   "cell_type": "markdown",
   "id": "fb1762d9",
   "metadata": {},
   "source": [
    "> ## I sottoinsiemi sono copie dei dati"
   ]
  },
  {
   "cell_type": "code",
   "execution_count": 43,
   "id": "fd366da9",
   "metadata": {},
   "outputs": [
    {
     "data": {
      "text/plain": [
       "0   -2\n",
       "1   -1\n",
       "dtype: int64"
      ]
     },
     "execution_count": 43,
     "metadata": {},
     "output_type": "execute_result"
    }
   ],
   "source": [
    "negatives = ser[is_negative]\n",
    "negatives"
   ]
  },
  {
   "cell_type": "markdown",
   "id": "d8bce06f",
   "metadata": {},
   "source": [
    "> ## Riassegnare il risultato di una maschera booleana mantiene intatta la serie originale\n"
   ]
  },
  {
   "cell_type": "code",
   "execution_count": 45,
   "id": "2a9a35e8",
   "metadata": {},
   "outputs": [
    {
     "data": {
      "text/plain": [
       "0   -2\n",
       "1   -1\n",
       "2    0\n",
       "3    1\n",
       "4    2\n",
       "dtype: int64"
      ]
     },
     "execution_count": 45,
     "metadata": {},
     "output_type": "execute_result"
    }
   ],
   "source": [
    "ser"
   ]
  },
  {
   "cell_type": "markdown",
   "id": "b6c21009",
   "metadata": {},
   "source": [
    "# Maschera avanzata e composita\n",
    "\n",
    "+ `ser % 2` calcola il resto della divisione per `2` per ciascun elemento.\n",
    "+ `== 1` controlla se il resto è `1`, cioè se il numero è dispari.\n",
    "+ `is_odd `è una maschera booleana che indica quali numeri sono dispari.\n",
    "+ `ser[is_odd]` restituisce solo i valori per cui la maschera è True."
   ]
  },
  {
   "cell_type": "code",
   "execution_count": 46,
   "id": "d426e169",
   "metadata": {},
   "outputs": [
    {
     "data": {
      "text/plain": [
       "1   -1\n",
       "3    1\n",
       "dtype: int64"
      ]
     },
     "execution_count": 46,
     "metadata": {},
     "output_type": "execute_result"
    }
   ],
   "source": [
    "is_odd = ser % 2 == 1 # ricordo % operatore confronto modulo che restituisce il resto divisione tra 2 numeri\n",
    "ser[is_odd]"
   ]
  },
  {
   "cell_type": "markdown",
   "id": "3af55eb8",
   "metadata": {},
   "source": [
    "# Esempio"
   ]
  },
  {
   "cell_type": "code",
   "execution_count": 48,
   "id": "6d695cde",
   "metadata": {},
   "outputs": [
    {
     "data": {
      "text/plain": [
       "0      1\n",
       "1      2\n",
       "2      3\n",
       "3      4\n",
       "4      5\n",
       "5      6\n",
       "6      7\n",
       "7      8\n",
       "8      9\n",
       "9     10\n",
       "10    11\n",
       "11    12\n",
       "dtype: int64"
      ]
     },
     "execution_count": 48,
     "metadata": {},
     "output_type": "execute_result"
    }
   ],
   "source": [
    "numbers = pd.Series(range(1, 13))\n",
    "numbers"
   ]
  },
  {
   "cell_type": "markdown",
   "id": "f9b5ca17",
   "metadata": {},
   "source": [
    "> ## Utilizziamo gli operatori `&` e `|` sulla serie booleana per produrre comportamenti più complessi: le parentesi sono utili per l'ordine delle operazioni."
   ]
  },
  {
   "cell_type": "code",
   "execution_count": 49,
   "id": "811bb46c",
   "metadata": {},
   "outputs": [
    {
     "data": {
      "text/plain": [
       "1    2\n",
       "4    5\n",
       "dtype: int64"
      ]
     },
     "execution_count": 49,
     "metadata": {},
     "output_type": "execute_result"
    }
   ],
   "source": [
    "numbers[(numbers == 2) | (numbers == 5)]"
   ]
  },
  {
   "cell_type": "code",
   "execution_count": 50,
   "id": "32221ac9",
   "metadata": {
    "scrolled": true
   },
   "outputs": [
    {
     "data": {
      "text/plain": [
       "Series([], dtype: int64)"
      ]
     },
     "execution_count": 50,
     "metadata": {},
     "output_type": "execute_result"
    }
   ],
   "source": [
    "numbers[(numbers == 2) & (numbers == 5)] # tutte le espressioni valutate false, serie vuota"
   ]
  },
  {
   "cell_type": "markdown",
   "id": "3146ae6d",
   "metadata": {},
   "source": [
    "> ## Per evitare la parentesi, possiamo assegnare ogni seria booleana separatamente. "
   ]
  },
  {
   "cell_type": "code",
   "execution_count": 51,
   "id": "21c09e96",
   "metadata": {},
   "outputs": [
    {
     "data": {
      "text/plain": [
       "5      6\n",
       "11    12\n",
       "dtype: int64"
      ]
     },
     "execution_count": 51,
     "metadata": {},
     "output_type": "execute_result"
    }
   ],
   "source": [
    "is_even = numbers % 2 == 0\n",
    "is_divisible_by_3 = numbers % 3 == 0\n",
    "is_divisible_by_3_or_2 = is_even & is_divisible_by_3\n",
    "numbers[is_divisible_by_3_or_2]"
   ]
  },
  {
   "cell_type": "code",
   "execution_count": 52,
   "id": "fb18d88b",
   "metadata": {},
   "outputs": [
    {
     "data": {
      "text/plain": [
       "9    10\n",
       "dtype: int64"
      ]
     },
     "execution_count": 52,
     "metadata": {},
     "output_type": "execute_result"
    }
   ],
   "source": [
    "numbers[(numbers % 2 == 0) & (numbers % 5 == 0)] # con AND entrambi i booleani devono essere veri"
   ]
  },
  {
   "cell_type": "code",
   "execution_count": 53,
   "id": "4338a2dc",
   "metadata": {
    "scrolled": false
   },
   "outputs": [
    {
     "data": {
      "text/plain": [
       "1      2\n",
       "3      4\n",
       "4      5\n",
       "5      6\n",
       "7      8\n",
       "9     10\n",
       "11    12\n",
       "dtype: int64"
      ]
     },
     "execution_count": 53,
     "metadata": {},
     "output_type": "execute_result"
    }
   ],
   "source": [
    "numbers[(numbers % 2 == 0) | (numbers % 5 == 0)] # | per operatore OR"
   ]
  },
  {
   "cell_type": "markdown",
   "id": "b603e6a7",
   "metadata": {},
   "source": [
    "# `.loc`\n",
    "`.loc` è un metodo di accesso in Pandas che serve a:\n",
    "* Selezionare righe e colonne in base a etichette (label)\n",
    "* Modificare dati in base a una condizione (maschera booleana)\n",
    "\n",
    "Il metodo `.loc` utilizza la stessa sintassi della serie booleana."
   ]
  },
  {
   "cell_type": "code",
   "execution_count": 56,
   "id": "1a71aa15",
   "metadata": {},
   "outputs": [],
   "source": [
    "is_even = numbers % 2 == 0\n",
    "numbers.loc[is_even] = 200 # assegniamo ogni numero pari a 200"
   ]
  },
  {
   "cell_type": "code",
   "execution_count": 57,
   "id": "830caa91",
   "metadata": {},
   "outputs": [
    {
     "data": {
      "text/plain": [
       "0       1\n",
       "1     200\n",
       "2       3\n",
       "3     200\n",
       "4       5\n",
       "5     200\n",
       "6       7\n",
       "7     200\n",
       "8       9\n",
       "9     200\n",
       "10     11\n",
       "11    200\n",
       "dtype: int64"
      ]
     },
     "execution_count": 57,
     "metadata": {},
     "output_type": "execute_result"
    }
   ],
   "source": [
    "numbers"
   ]
  },
  {
   "cell_type": "markdown",
   "id": "1bcb479a",
   "metadata": {},
   "source": [
    "## Assegnazione più dinamica\n",
    "La sintassi della scorciatoia `numbers.loc[is_even] *= 2`\n",
    "* Il metodo `.loc` utilizzato per accedere a righe e colonne di un DataFrame o di una Seri utilizzando etichette (label) o un array booleano. "
   ]
  },
  {
   "cell_type": "code",
   "execution_count": 62,
   "id": "d1335a44",
   "metadata": {},
   "outputs": [
    {
     "data": {
      "text/plain": [
       "0      1\n",
       "1      4\n",
       "2      3\n",
       "3      8\n",
       "4      5\n",
       "5     12\n",
       "6      7\n",
       "7     16\n",
       "8      9\n",
       "9     20\n",
       "10    11\n",
       "11    24\n",
       "dtype: int64"
      ]
     },
     "execution_count": 62,
     "metadata": {},
     "output_type": "execute_result"
    }
   ],
   "source": [
    "numbers = pd.Series(range(1, 13))\n",
    "\n",
    "numbers.loc[is_even] = numbers.loc[is_even] * 2\n",
    "numbers\n"
   ]
  },
  {
   "cell_type": "markdown",
   "id": "d90d99f5",
   "metadata": {},
   "source": [
    "# Esempio\n",
    "1. Crea una serie dei seguenti valori `[-4, -3, -2, -1, 0, 1, 2, 3, 4]` \n",
    "2. Memorizza in una variabile denominata `ser`"
   ]
  },
  {
   "cell_type": "code",
   "execution_count": 59,
   "id": "6bcb4df6",
   "metadata": {
    "scrolled": false
   },
   "outputs": [
    {
     "data": {
      "text/plain": [
       "0   -4\n",
       "1   -3\n",
       "2   -2\n",
       "3   -1\n",
       "4    0\n",
       "5    1\n",
       "6    2\n",
       "7    3\n",
       "8    4\n",
       "dtype: int64"
      ]
     },
     "execution_count": 59,
     "metadata": {},
     "output_type": "execute_result"
    }
   ],
   "source": [
    "import pandas as pd \n",
    "ser=pd.Series([-4, -3, -2, -1, 0, 1, 2, 3, 4])\n",
    "ser"
   ]
  },
  {
   "cell_type": "markdown",
   "id": "add9ef8d",
   "metadata": {},
   "source": [
    "### Scrivi il codice per filtrare solo il numero 2"
   ]
  },
  {
   "cell_type": "code",
   "execution_count": 60,
   "id": "b319ee36",
   "metadata": {},
   "outputs": [
    {
     "data": {
      "text/plain": [
       "6    2\n",
       "dtype: int64"
      ]
     },
     "execution_count": 60,
     "metadata": {},
     "output_type": "execute_result"
    }
   ],
   "source": [
    "ser[ser==2]"
   ]
  },
  {
   "cell_type": "markdown",
   "id": "e143d79b",
   "metadata": {},
   "source": [
    "### Scrivi il codice per filtrare il numero 2 o 4."
   ]
  },
  {
   "cell_type": "code",
   "execution_count": 61,
   "id": "c4e7f785",
   "metadata": {
    "scrolled": true
   },
   "outputs": [
    {
     "data": {
      "text/plain": [
       "6    2\n",
       "8    4\n",
       "dtype: int64"
      ]
     },
     "execution_count": 61,
     "metadata": {},
     "output_type": "execute_result"
    }
   ],
   "source": [
    "ser[(ser==2) | (ser==4)]"
   ]
  },
  {
   "cell_type": "markdown",
   "id": "bf655148",
   "metadata": {},
   "source": [
    "# Il metodo .isin( )\n",
    "Il metodo `.isin( )` è usato per verificare se ciascun elemento in una Serie o una colonna di un DataFrame è presente in un insieme di valori specificati (ad esempio, una lista o un array). \\\n",
    "Restituisce una Serie booleana."
   ]
  },
  {
   "cell_type": "markdown",
   "id": "f2f532de",
   "metadata": {},
   "source": [
    "> 1. Creo una variabile denominata `is_positive` che sarà la serie booleana se il corrispondente `ser` \n",
    "2. Creo una nuova variabile denominata `positives` che uso per memorizzare solo i numeri positivi.\n",
    "3. Restituisce una Series booleana che indica, per ciascun valore di ser, se è contenuto nella lista `[2, 4]`"
   ]
  },
  {
   "cell_type": "code",
   "execution_count": 64,
   "id": "c8283004",
   "metadata": {},
   "outputs": [
    {
     "data": {
      "text/plain": [
       "0    False\n",
       "1    False\n",
       "2    False\n",
       "3    False\n",
       "4    False\n",
       "5    False\n",
       "6     True\n",
       "7    False\n",
       "8     True\n",
       "dtype: bool"
      ]
     },
     "execution_count": 64,
     "metadata": {},
     "output_type": "execute_result"
    }
   ],
   "source": [
    "ser.isin([2,4])"
   ]
  },
  {
   "cell_type": "markdown",
   "id": "b95ef8ac",
   "metadata": {},
   "source": [
    ">  1. `ser.isin([2, 4])`: restituisce una Serie booleana dove ogni elemento è `True` se è presente in `[2, 4]`, altrimenti `False`.\n",
    "2. `ser[... ]`: usa il risultato booleano per filtrare gli elementi nella Serie. \n",
    "3. solo gli elementi corrispondenti ai valori `True` nella Serie booleana vengono inclusi nel risultato.\n"
   ]
  },
  {
   "cell_type": "code",
   "execution_count": 65,
   "id": "beb75270",
   "metadata": {},
   "outputs": [
    {
     "data": {
      "text/plain": [
       "6    2\n",
       "8    4\n",
       "dtype: int64"
      ]
     },
     "execution_count": 65,
     "metadata": {},
     "output_type": "execute_result"
    }
   ],
   "source": [
    "ser[ser.isin([2,4])]"
   ]
  },
  {
   "cell_type": "code",
   "execution_count": 66,
   "id": "d181e74d",
   "metadata": {},
   "outputs": [
    {
     "data": {
      "text/plain": [
       "0    False\n",
       "1    False\n",
       "2    False\n",
       "3    False\n",
       "4    False\n",
       "5     True\n",
       "6     True\n",
       "7     True\n",
       "8     True\n",
       "dtype: bool"
      ]
     },
     "execution_count": 66,
     "metadata": {},
     "output_type": "execute_result"
    }
   ],
   "source": [
    "is_positive = ser > 0\n",
    "is_positive"
   ]
  },
  {
   "cell_type": "code",
   "execution_count": 67,
   "id": "24eb0cbd",
   "metadata": {
    "scrolled": true
   },
   "outputs": [
    {
     "data": {
      "text/plain": [
       "5    1\n",
       "6    2\n",
       "7    3\n",
       "8    4\n",
       "dtype: int64"
      ]
     },
     "execution_count": 67,
     "metadata": {},
     "output_type": "execute_result"
    }
   ],
   "source": [
    "is_positive = ser > 0\n",
    "ser[is_positive]"
   ]
  },
  {
   "cell_type": "code",
   "execution_count": 68,
   "id": "4078a48c",
   "metadata": {},
   "outputs": [
    {
     "data": {
      "text/plain": [
       "5    1\n",
       "6    2\n",
       "7    3\n",
       "8    4\n",
       "dtype: int64"
      ]
     },
     "execution_count": 68,
     "metadata": {},
     "output_type": "execute_result"
    }
   ],
   "source": [
    "is_positive = ser > 0\n",
    "positives=ser[is_positive]\n",
    "positives"
   ]
  },
  {
   "cell_type": "code",
   "execution_count": 82,
   "id": "f04e8de2",
   "metadata": {},
   "outputs": [
    {
     "data": {
      "text/plain": [
       "0     True\n",
       "1    False\n",
       "2     True\n",
       "3    False\n",
       "4     True\n",
       "5    False\n",
       "6     True\n",
       "7    False\n",
       "8     True\n",
       "dtype: bool"
      ]
     },
     "execution_count": 82,
     "metadata": {},
     "output_type": "execute_result"
    }
   ],
   "source": [
    "is_even = ser % 2 == 0\n",
    "is_even"
   ]
  },
  {
   "cell_type": "code",
   "execution_count": 103,
   "id": "6696cab3",
   "metadata": {
    "scrolled": false
   },
   "outputs": [
    {
     "data": {
      "text/plain": [
       "0   -4\n",
       "2   -2\n",
       "4    0\n",
       "6    2\n",
       "8    4\n",
       "dtype: int64"
      ]
     },
     "execution_count": 103,
     "metadata": {},
     "output_type": "execute_result"
    }
   ],
   "source": [
    "is_even = ser % 2 == 0\n",
    "evens = ser[is_even]\n",
    "evens"
   ]
  },
  {
   "cell_type": "markdown",
   "id": "174daab8",
   "metadata": {},
   "source": [
    "# Esercitazione\n",
    "esercitazione completa e guidata con una Series, usando sia:\n",
    "\n",
    "* `.iloc` → indicizzazione posizionale\n",
    "* maschera booleana → indicizzazione logica"
   ]
  },
  {
   "cell_type": "code",
   "execution_count": 69,
   "id": "21a9ecb6",
   "metadata": {},
   "outputs": [
    {
     "name": "stdout",
     "output_type": "stream",
     "text": [
      "0    10\n",
      "1    15\n",
      "2    18\n",
      "3    22\n",
      "4    30\n",
      "Name: Voto, dtype: int64\n"
     ]
    }
   ],
   "source": [
    "import pandas as pd\n",
    "\n",
    "# Crea una Series di voti\n",
    "voti = pd.Series([10, 15, 18, 22, 30], name='Voto')\n",
    "print(voti)\n"
   ]
  },
  {
   "cell_type": "markdown",
   "id": "13f17323",
   "metadata": {},
   "source": [
    "1. Seleziona il terzo voto (quello con indice 2) usando `.iloc`\n",
    "2. Seleziona gli ultimi due voti usando `.iloc`\n",
    "3. Seleziona tutti i voti `maggiore o uguali a 18` usando una maschera booleana\n",
    "4. Modifica con `.iloc` - Cambia il primo voto a `12` usando `.iloc`."
   ]
  },
  {
   "cell_type": "code",
   "execution_count": null,
   "id": "cda22343",
   "metadata": {},
   "outputs": [],
   "source": []
  },
  {
   "cell_type": "code",
   "execution_count": 70,
   "id": "41e97023",
   "metadata": {},
   "outputs": [
    {
     "name": "stdout",
     "output_type": "stream",
     "text": [
      "18\n"
     ]
    }
   ],
   "source": [
    "voto_terzo = voti.iloc[2]\n",
    "print(voto_terzo)\n",
    "# Output: 18\n"
   ]
  },
  {
   "cell_type": "code",
   "execution_count": 71,
   "id": "866677ce",
   "metadata": {},
   "outputs": [
    {
     "name": "stdout",
     "output_type": "stream",
     "text": [
      "3    22\n",
      "4    30\n",
      "Name: Voto, dtype: int64\n"
     ]
    }
   ],
   "source": [
    "ultimi = voti.iloc[-2:]\n",
    "print(ultimi)\n",
    "# Output:\n",
    "# 3    22\n",
    "# 4    30"
   ]
  },
  {
   "cell_type": "code",
   "execution_count": 72,
   "id": "6bb06f58",
   "metadata": {},
   "outputs": [
    {
     "name": "stdout",
     "output_type": "stream",
     "text": [
      "2    18\n",
      "3    22\n",
      "4    30\n",
      "Name: Voto, dtype: int64\n"
     ]
    }
   ],
   "source": [
    "promossi = voti[voti >= 18]\n",
    "print(promossi)\n",
    "# Output:\n",
    "# 2    18\n",
    "# 3    22\n",
    "# 4    30\n"
   ]
  },
  {
   "cell_type": "code",
   "execution_count": 73,
   "id": "efee8636",
   "metadata": {},
   "outputs": [
    {
     "name": "stdout",
     "output_type": "stream",
     "text": [
      "0    12\n",
      "1    15\n",
      "2    18\n",
      "3    22\n",
      "4    30\n",
      "Name: Voto, dtype: int64\n"
     ]
    }
   ],
   "source": [
    "voti.iloc[0] = 12\n",
    "print(voti)\n",
    "# Output:\n",
    "# 0    12\n",
    "# 1    15\n",
    "# ...\n"
   ]
  },
  {
   "cell_type": "code",
   "execution_count": null,
   "id": "c253dc0c",
   "metadata": {},
   "outputs": [],
   "source": []
  }
 ],
 "metadata": {
  "kernelspec": {
   "display_name": "Python 3 (ipykernel)",
   "language": "python",
   "name": "python3"
  },
  "language_info": {
   "codemirror_mode": {
    "name": "ipython",
    "version": 3
   },
   "file_extension": ".py",
   "mimetype": "text/x-python",
   "name": "python",
   "nbconvert_exporter": "python",
   "pygments_lexer": "ipython3",
   "version": "3.9.7"
  }
 },
 "nbformat": 4,
 "nbformat_minor": 5
}
