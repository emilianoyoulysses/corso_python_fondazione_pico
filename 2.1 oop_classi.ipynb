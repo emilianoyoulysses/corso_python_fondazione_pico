{
 "cells": [
  {
   "cell_type": "markdown",
   "id": "5ecab4af",
   "metadata": {},
   "source": [
    "# OOP - Object-oriented-programming"
   ]
  },
  {
   "cell_type": "markdown",
   "id": "e6da5d19",
   "metadata": {},
   "source": [
    "La programmazione orientata agli oggetti è incentrata sulla creazione di oggetti. "
   ]
  },
  {
   "cell_type": "markdown",
   "id": "53308a76",
   "metadata": {},
   "source": [
    "1. I dati contenuti in oggetto sono noti come **attributi dati** .\n",
    "> Gli attributi dati di un oggetto sono variabili che referenziano dati. \n",
    "1. Le procedure che l'oggetto è in grado di eseguire sono note con il nome di **metodi** .\n",
    "> I metodi di un oggetto sono funzioni che svolgono operazioni sugli attributi dati degli oggetti. \n",
    "1. Un oggetto è **un'entita indipendente** che consiste di **attributi dati e metodi** che operano sugli attributi dati."
   ]
  },
  {
   "cell_type": "markdown",
   "id": "7204c188",
   "metadata": {},
   "source": [
    "La programmazione ad oggetti risolve il problema della separazione tra codice e dati mediante l'incapsulamento ed il data hiding. \n",
    "+ **L'incapsulamento** è la combinazione di dati e codice in un singolo oggetto. \n",
    "+ **Data hiding - mascheramento dati** è la capacità di un oggetto di tenere nascosti gli attributi dati al codice esterno all'oggetto: solo i metodi di un oggetto possono accedere direttamente agli attributi dati di un oggetti e operare delle modifiche. \n",
    "\n",
    "Se modifico la struttura degli attributi dati interni di un oggetto, modifico anche i metodi dell'oggetto in che modo operano correttamente con i dati. Il modo con cui il codice esterno all'oggetto interagisce con i metodi però non cambia."
   ]
  },
  {
   "cell_type": "markdown",
   "id": "85c502d9",
   "metadata": {},
   "source": [
    "**Sveglia**\n",
    "\n",
    "+ secondo_attuale =un valore compreso tra 0 e 59\\\n",
    "+ minuto_attuale = un valore compreso tra 0 e 59\\\n",
    "+ ora_attuale = un valore compreso tra 0 e 23\\\n",
    "+ ora_sveglia = un'ora ed un minuto validi\\\n",
    "+ sveglia_attivata = vero o falso\n",
    "\n",
    "## Attributi dati \n",
    "Gli attibuti dati sono valori che definiscono lo stato in cui si trova attualmente la sveglia.\\\n",
    "Come utenti non possiamo manipolare gli attributi dati.\\\n",
    "Per modificare il valore di un attributo dati, occorre utilizzare uno dei metodi dell'oggetto.\n",
    "\n",
    "## Metodi dell'oggetto\n",
    "\n",
    "regola_ora\\\n",
    "regola_ora_sveglia\\\n",
    "attiva_sveglia\\\n",
    "disattiva_sveglia\n",
    "\n",
    "Ciascuno metodo manipola uno o più attributi dati.\\\n",
    "Questi sono metodi pubblici perchè sono metodi a cui possono accedere entità esterne all'oggetto. "
   ]
  },
  {
   "cell_type": "markdown",
   "id": "5d13e740",
   "metadata": {},
   "source": [
    "## Ricapitoliamo Class\n",
    "\n",
    "**Classe**: Un modello o progetto per creare oggetti. Pensa a una classe come a un layout generico di progetto per un Cogeneratore. Il layout generico definisce la forma del Cogeneratore, ma non è il Cogeneratore stesso.\n",
    "\n",
    "**Oggetto**: Un'istanza specifica di una classe. Seguendo l'analogia del layout generico di progetto per un Cogeneratore, l'oggetto è il cogeneratore reale creato usando lo stamp\n",
    "\n",
    "**Attributi**: Caratteristiche o proprietà che descrivono un oggetto (ad es., il nome di un cogeneratore, la potenza, etc.).\n",
    "\n",
    "**Metodo**: Un'azione che un oggetto può eseguire (ad es., accensione, rendimento, manutenzione, etc)."
   ]
  },
  {
   "cell_type": "code",
   "execution_count": 1,
   "id": "b48a919c",
   "metadata": {},
   "outputs": [
    {
     "name": "stdout",
     "output_type": "stream",
     "text": [
      "Le penne sono gli strumenti basilari per scrivere e pensare\n"
     ]
    }
   ],
   "source": [
    "# creiamo una classe ed una variabile di classe e proviamo ad accederci \n",
    "\n",
    "class Penna:\n",
    "    info = 'Le penne sono gli strumenti basilari per scrivere e pensare'\n",
    "    \n",
    "print(Penna.info)\n",
    "\n",
    "#per accedere alle variabili di classe devi prima digitare il nome della classe.\n",
    "# info è una variabile all'interno della classe \n"
   ]
  },
  {
   "cell_type": "markdown",
   "id": "e56d3f35",
   "metadata": {},
   "source": [
    "1. Crea una classe per qualcosa che è attorno a te in questo momento.\n",
    "1. Crea una variabile di classe interna alla classe. "
   ]
  },
  {
   "cell_type": "code",
   "execution_count": 2,
   "id": "67ebca33",
   "metadata": {
    "scrolled": true
   },
   "outputs": [
    {
     "data": {
      "text/plain": [
       "<__main__.Penna at 0x7fb518fbb160>"
      ]
     },
     "execution_count": 2,
     "metadata": {},
     "output_type": "execute_result"
    }
   ],
   "source": [
    "# la classe è come un progetto di una casa utile per creare un gruppo di case diverse. \n",
    "# ogni casa può avere delle caratteristiche diverse. \n",
    "#ogni volta che creo qualcosa da una classe creo una singola istanza o un oggetto.\n",
    "\n",
    "Penna()"
   ]
  },
  {
   "cell_type": "code",
   "execution_count": 8,
   "id": "99913dd7",
   "metadata": {},
   "outputs": [
    {
     "name": "stdout",
     "output_type": "stream",
     "text": [
      "ogni volta che creo un nuovo oggetto/istanza di questa classe, chiamo questa funzione\n",
      "<__main__.Penna object at 0x7fb5190cef40>\n",
      "Le penne sono gli strumenti basilari per scrivere e pensare\n"
     ]
    }
   ],
   "source": [
    "class Penna:\n",
    "    info = 'Le penne sono gli strumenti basilari per scrivere e pensare'\n",
    "    \n",
    "    #ogni volta che viene creato un nuovo oggetto in questa classe, questo funzione viene chiamata. \n",
    "    def __init__(self):\n",
    "        print('ogni volta che creo un nuovo oggetto/istanza di questa classe, chiamo questa funzione')\n",
    "    \n",
    "print(Penna())\n",
    "print(Penna.info)"
   ]
  },
  {
   "cell_type": "markdown",
   "id": "e7c70008",
   "metadata": {},
   "source": [
    "+ Una **classe** è un codice che specifica gli attributi dati ed i metodi di un particolare tipo di oggetto. \n",
    "> Una classe è come un modello su cui ci basiamo per costruire degli oggetti.  \n",
    "> Una classe è una descrizione delle caratteristiche di un oggetto.\n",
    "+ Quando il programma è in esecuzione possiamo utilizzare la classe per creare in memoria tanti specifici oggetti che desideriamo.\n",
    "> Ogni **oggetto** creato a partire da una classe è **un'istanza di classe.** \n",
    "+ Ogni istanza di classe ovvero ogni oggetto dispone degli attributi dati e dei metodi specificati dalla classe."
   ]
  },
  {
   "cell_type": "markdown",
   "id": "df8311de",
   "metadata": {},
   "source": [
    "Emiliano è un appassionato di corsa in montagna, specialmente di lunga durata, come lo possiamo aiutare a progettare e definire una classe adatta a descrivere i corridori?\n",
    "\n",
    "+ Creiamo una classe denominata Trailer\n",
    "+ La classe Trailer è una specifica a partire dalla quale è possibile creare degli oggetti.\n",
    "+ Emiliano crea un'istanza/oggetto chiamato Trailer Professionista, che è un'istanza della classe Trailer. \n",
    "+ L'oggetto Trailer Professionista è un'entità che occupa memoria nel computer e contiene i dati riguardanti un Trailer professionista.\n",
    "+ L'oggetto dispone degli attributi dati e dei metodi specificati dalla classe Trailer. "
   ]
  },
  {
   "cell_type": "code",
   "execution_count": 2,
   "id": "281904d4",
   "metadata": {},
   "outputs": [],
   "source": [
    "class CorridoreMontagna:\n",
    "    def __init__(self, nome, cognome, data_nascita, nazionalita, squadra=None):\n",
    "        self.nome = nome\n",
    "        self.cognome = cognome\n",
    "        self.data_nascita = data_nascita\n",
    "        self.nazionalita = nazionalita\n",
    "        self.squadra = squadra\n",
    "\n",
    "        # Attributi specifici per la corsa in montagna\n",
    "        self.miglior_tempo_km_verticale = None\n",
    "        self.miglior_tempo_skyrace = None\n",
    "        self.vittorie_gare = 0\n",
    "        self.podi_gare = 0\n",
    "        self.gare_disputate = 0\n",
    "\n",
    "    def aggiungi_gara(self, tempo_km_verticale=None, tempo_skyrace=None, posizione=None):\n",
    "        \"\"\"Aggiorna le statistiche del corridore dopo una gara.\"\"\"\n",
    "        self.gare_disputate += 1\n",
    "\n",
    "        if tempo_km_verticale:\n",
    "            if self.miglior_tempo_km_verticale is None or tempo_km_verticale < self.miglior_tempo_km_verticale:\n",
    "                self.miglior_tempo_km_verticale = tempo_km_verticale\n",
    "\n",
    "        if tempo_skyrace:\n",
    "            if self.miglior_tempo_skyrace is None or tempo_skyrace < self.miglior_tempo_skyrace:\n",
    "                self.miglior_tempo_skyrace = tempo_skyrace\n",
    "\n",
    "        if posizione is not None:\n",
    "            if posizione == 1:\n",
    "                self.vittorie_gare += 1\n",
    "                self.podi_gare += 1\n",
    "            elif posizione <= 3:\n",
    "                self.podi_gare += 1\n",
    "\n",
    "    def scheda_atleta(self):\n",
    "        \"\"\"Restituisce un riepilogo delle informazioni e delle statistiche del corridore.\"\"\"\n",
    "        info = f\"\"\"\n",
    "        Nome: {self.nome} {self.cognome}\n",
    "        Nazionalità: {self.nazionalita}\n",
    "        Squadra: {self.squadra if self.squadra else \"Nessuna\"}\n",
    "\n",
    "        Gare disputate: {self.gare_disputate}\n",
    "        Vittorie: {self.vittorie_gare}\n",
    "        Podi: {self.podi_gare}\n",
    "        \"\"\"\n",
    "\n",
    "        if self.miglior_tempo_km_verticale:\n",
    "            info += f\"Miglior tempo km verticale: {self.miglior_tempo_km_verticale}\\n\"\n",
    "\n",
    "        if self.miglior_tempo_skyrace:\n",
    "            info += f\"Miglior tempo skyrace: {self.miglior_tempo_skyrace}\\n\"\n",
    "\n",
    "        return info\n"
   ]
  },
  {
   "cell_type": "code",
   "execution_count": 3,
   "id": "f377d8ca",
   "metadata": {},
   "outputs": [
    {
     "name": "stdout",
     "output_type": "stream",
     "text": [
      "\n",
      "        Nome: Kilian Jornet\n",
      "        Nazionalità: Spagna\n",
      "        Squadra: Salomon\n",
      "\n",
      "        Gare disputate: 2\n",
      "        Vittorie: 1\n",
      "        Podi: 1\n",
      "        Miglior tempo km verticale: 32:41\n",
      "Miglior tempo skyrace: 2:25:35\n",
      "\n"
     ]
    }
   ],
   "source": [
    "kilian = CorridoreMontagna(\"Kilian\", \"Jornet\", \"1987-10-27\", \"Spagna\", \"Salomon\")\n",
    "kilian.aggiungi_gara(tempo_km_verticale=\"32:41\")  # Record Zegama 2017\n",
    "kilian.aggiungi_gara(tempo_skyrace=\"2:25:35\", posizione=1)  # Record Sierre-Zinal 2018\n",
    "\n",
    "print(kilian.scheda_atleta())\n",
    "    "
   ]
  },
  {
   "cell_type": "markdown",
   "id": "4bf74cc5",
   "metadata": {},
   "source": [
    "Per creare una classe si scrive una definizione di classe, un insieme di istruzioni che definisce i metodi e gli attributi dati di una classe.\n",
    "\n",
    "+ Ogni metodo ha una variabile parametro chiamata self. Quando viene eseguito, il metodo deve avere un modo per sapere su quali attributi dati di un oggetto deve operare, è qui che entra in campo il parametro self.\n",
    "+ Quando si chiama un metodo, python fa in modo che il parametro self referenzi lo specifico oggetto su cui il metodo deve operare. \n",
    "+ Il metodo __init__ è il metodo inizializzatore, perchè inizializza gli attributi dati dell'oggetto. \n",
    "+ Immediatamente dopo che un oggetto è stato creato in memoria, viene eseguito il metodo __init__ ed al parametro self viene assegnato l'oggetto appena creato. \n",
    "+ "
   ]
  },
  {
   "cell_type": "code",
   "execution_count": 4,
   "id": "1bc1be35",
   "metadata": {},
   "outputs": [],
   "source": [
    "#creiamo una CLASSE DI BASE, usiamo pass per avere una definizione sintatticamente corretta.\n",
    "#in questo modo posso creare istanze di classe chiamando il nome della classe come funzione construttore.\n",
    "\n",
    "class Cogeneratore:\n",
    "    pass"
   ]
  },
  {
   "cell_type": "code",
   "execution_count": 5,
   "id": "a1ba127f",
   "metadata": {},
   "outputs": [],
   "source": [
    "#creiamo un'istanza di classe, in questo modo creo un oggetto. \n",
    "#ricordo una classe contiene metodi ed attributi di dati.\n",
    "\n",
    "cogeneratore_Navile = Cogeneratore()"
   ]
  },
  {
   "cell_type": "code",
   "execution_count": 6,
   "id": "3e46d96e",
   "metadata": {},
   "outputs": [
    {
     "name": "stdout",
     "output_type": "stream",
     "text": [
      "<__main__.Cogeneratore object at 0x7fce4a5c8100>\n",
      "Navile\n"
     ]
    }
   ],
   "source": [
    "# utilizzo la funzione __init__() con due argomenti e la sostituisco a pass\n",
    "# init non è funzione di costruzione come in altri linguaggi, ma inizializza\n",
    "\n",
    "class Cogeneratore:\n",
    "    def __init__(self, nome_impianto):\n",
    "        self.nome_impianto = nome_impianto\n",
    "        \n",
    "#l'oggetto è stato creato, adesso inizializziamo gli attributi dei dati, creando ISTANZE DI CLASSE\n",
    "cogeneratore_1 = Cogeneratore('Navile')\n",
    "cogeneratore_2 = Cogeneratore('Concordia')\n",
    "\n",
    "#nome_impianto è un nuovo attributo sull'oggetto, viene utilizzato per contenere il nome specifico del cogeneratore. \n",
    "\n",
    "#adesso accedo al valore della proprietà attraverso la notazione del punto. \n",
    "#stampo l'oggetto e la proprietà\n",
    "\n",
    "print(cogeneratore_1)\n",
    "print(cogeneratore_1.nome_impianto)"
   ]
  },
  {
   "cell_type": "code",
   "execution_count": 7,
   "id": "c1aabf66",
   "metadata": {},
   "outputs": [
    {
     "name": "stdout",
     "output_type": "stream",
     "text": [
      "Bologna\n"
     ]
    }
   ],
   "source": [
    "class Cogeneratore:\n",
    "    def __init__(self, nome_impianto, responsabile_impianto, luogo_impianto, temperatura_media):\n",
    "        self.nome_impianto = nome_impianto\n",
    "        self.responsabile_impianto = responsabile_impianto\n",
    "        self.luogo_impianto = luogo_impianto\n",
    "        self.temperatura_media = temperatura_media\n",
    "        \n",
    "    #creo un'istanza metodo\n",
    "    def _luogo_impianto(self):\n",
    "        return(self.luogo_impianto)\n",
    "    \n",
    "    #creo ulteriore istanza metodo\n",
    "    def _temperatura_media(self):\n",
    "        return(self.temperatura_media)\n",
    "    \n",
    "    #aggiorniamo le istanze della classe Cogeneratore\n",
    "cog_1 = Cogeneratore('Navile', 'Riccardo', 'Bologna', 31)\n",
    "cog_2 = Cogeneratore('Concordia', 'Davide', 'Concordia', 22)\n",
    "   \n",
    "    #chiamo il metodo _luogo_impianto\n",
    "print(cog_1._luogo_impianto())\n",
    "\n"
   ]
  },
  {
   "cell_type": "code",
   "execution_count": 8,
   "id": "aa00a59d",
   "metadata": {},
   "outputs": [
    {
     "name": "stdout",
     "output_type": "stream",
     "text": [
      "Bologna\n",
      "31\n",
      "24.8\n"
     ]
    }
   ],
   "source": [
    "class Cogeneratore:\n",
    "    def __init__(self, nome_impianto, responsabile_impianto, luogo_impianto, temperatura_media):\n",
    "        self.nome_impianto = nome_impianto\n",
    "        self.responsabile_impianto = responsabile_impianto\n",
    "        self.luogo_impianto = luogo_impianto\n",
    "        self._temperatura_media = temperatura_media\n",
    "\n",
    "    # Metodo di accesso per  method for luogo_impianto\n",
    "    def get_luogo_impianto(self):\n",
    "        return self.luogo_impianto\n",
    "\n",
    "    # Metodo Get per temperatura_media con regolazione della temperatura\n",
    "    def get_temperatura_media(self):\n",
    "        if hasattr(self, \"_agg_temperatura\"):\n",
    "            return self._temperatura_media - (self._temperatura_media * self._agg_temperatura)\n",
    "        else:\n",
    "            return self._temperatura_media\n",
    "\n",
    "    # Metodo per aggiustare la temperatura_media \n",
    "    def adjust_temperatura(self, amount):\n",
    "        self._agg_temperatura = amount\n",
    "\n",
    "# Creiamo istanze della Classe Cogeneratore \n",
    "cog_1 = Cogeneratore('Navile', 'Riccardo', 'Bologna', 31)\n",
    "cog_2 = Cogeneratore('Concordia', 'Davide', 'Concordia', 22)\n",
    "\n",
    "# Chiamiamo il metodo pubblico \n",
    "print(cog_1.get_luogo_impianto())\n",
    "\n",
    "# Vediamo la temperatura_media con la logica di adjustment \n",
    "print(cog_1.get_temperatura_media())\n",
    "cog_1.adjust_temperatura(0.2)\n",
    "print(cog_1.get_temperatura_media())\n"
   ]
  },
  {
   "cell_type": "code",
   "execution_count": 9,
   "id": "c5b40a36",
   "metadata": {},
   "outputs": [
    {
     "name": "stdout",
     "output_type": "stream",
     "text": [
      "<class '__main__.Cogeneratore'>\n"
     ]
    }
   ],
   "source": [
    "#utilizziamo la funzione type per vedere di che tipo è un dato oggetto\n",
    "\n",
    "print(type(cog_1))"
   ]
  },
  {
   "cell_type": "code",
   "execution_count": 10,
   "id": "70079bd1",
   "metadata": {},
   "outputs": [
    {
     "name": "stdout",
     "output_type": "stream",
     "text": [
      "<class '__main__.Libro'>\n",
      "<class '__main__.Giornale'>\n"
     ]
    }
   ],
   "source": [
    "# creiamo altre due classi \n",
    "class Libro:\n",
    "    def __init__(self, titolo):\n",
    "        self.titolo = titolo\n",
    "        \n",
    "class Giornale:\n",
    "    def __init__(self, nome):\n",
    "        self.nome = nome\n",
    "        \n",
    "l1 = Libro('Sotto il vulcano')\n",
    "l2 = Libro('Fiesta')\n",
    "g1 = Giornale('Corsera')\n",
    "g2 = Giornale('Sole')\n",
    "\n",
    "#utilizziamo la funzione type per vedere di che tipo è un dato oggetto\n",
    "\n",
    "print(type(l1))\n",
    "print(type(g1))"
   ]
  },
  {
   "cell_type": "code",
   "execution_count": 11,
   "id": "23078d03",
   "metadata": {},
   "outputs": [
    {
     "name": "stdout",
     "output_type": "stream",
     "text": [
      "True\n",
      "False\n"
     ]
    }
   ],
   "source": [
    "# compariamo due tipologie insieme\n",
    "\n",
    "print(type(l1) == type(l2))\n",
    "print(type(l1) == type(g1))"
   ]
  },
  {
   "cell_type": "code",
   "execution_count": 12,
   "id": "096effb8",
   "metadata": {},
   "outputs": [
    {
     "name": "stdout",
     "output_type": "stream",
     "text": [
      "True\n",
      "True\n",
      "False\n"
     ]
    }
   ],
   "source": [
    "# utilizziamo isinstance per compare specifiche istanze per conoscerne il tipo\n",
    "\n",
    "print(isinstance(l1, Libro))\n",
    "print(isinstance(g2, Giornale))\n",
    "print(isinstance(l1, Giornale))"
   ]
  },
  {
   "cell_type": "markdown",
   "id": "2636ddf3",
   "metadata": {},
   "source": [
    "`isinstance` è una funzione integrata che ti permette di verificare se un oggetto è un'istanza di una classe specificata, o di una delle sue sottoclassi.\n",
    "\n",
    "**Sintassi:**\n",
    "\n",
    "```python\n",
    "isinstance(oggetto, classe)\n",
    "```\n",
    "\n",
    "**Argomenti:**\n",
    "\n",
    "* `oggetto`: L'oggetto che vuoi controllare.\n",
    "* `classe`: La classe (o un tupla di classi) con cui vuoi confrontare l'oggetto.\n",
    "\n",
    "**Valore di ritorno:**\n",
    "\n",
    "* `True`: Se l'oggetto è un'istanza della classe specificata o di una sua sottoclasse.\n",
    "* `False`: In caso contrario.\n",
    "\n",
    "\n",
    "**Utilizzo:**\n",
    "\n",
    "`isinstance` è particolarmente utile quando lavori con ereditarietà e polimorfismo, dove vuoi gestire oggetti di diverse classi in modo generico, ma a volte devi eseguire azioni specifiche in base al tipo effettivo dell'oggetto.\n",
    "\n",
    "**Differenza tra `isinstance` e `type`:**\n",
    "\n",
    "* `isinstance` verifica se un oggetto è un'istanza di una classe o di una sua sottoclasse. È più flessibile quando si lavora con ereditarietà.\n",
    "* `type` restituisce il tipo esatto dell'oggetto. "
   ]
  },
  {
   "cell_type": "markdown",
   "id": "9f175c5a",
   "metadata": {},
   "source": [
    "Occorre ricordare sempre che ogni oggetto è una sottoclasse della classe di oggetti incorporata.Verifichiamolo."
   ]
  },
  {
   "cell_type": "code",
   "execution_count": 13,
   "id": "7274ec9a",
   "metadata": {},
   "outputs": [
    {
     "name": "stdout",
     "output_type": "stream",
     "text": [
      "True\n"
     ]
    }
   ],
   "source": [
    "print(isinstance(g2, object))"
   ]
  },
  {
   "cell_type": "code",
   "execution_count": 14,
   "id": "937c93de",
   "metadata": {},
   "outputs": [
    {
     "name": "stdout",
     "output_type": "stream",
     "text": [
      "Napoleone\n",
      "4\n"
     ]
    }
   ],
   "source": [
    "class Dog:\n",
    "    def __init__(self, name):\n",
    "        #istanze di attributi name e legs perchè li hanno ogni istanza della classe cane \n",
    "        self.name = name\n",
    "        self.legs = 4\n",
    "        \n",
    "    def speak(self):\n",
    "        print(self.name + ' dice: abbaia!')\n",
    "\n",
    "myDog = Dog('Napoleone')\n",
    "print(myDog.name)\n",
    "print(myDog.legs)\n",
    "    "
   ]
  },
  {
   "cell_type": "markdown",
   "id": "e9aa9842",
   "metadata": {},
   "source": [
    "1. **Definizione della Classe `Dog`:**\n",
    "   * `class Dog:`: Questa linea dichiara una nuova classe chiamata `Dog`. Tutto il codice indentato sotto questa linea appartiene alla classe.\n",
    "\n",
    "2. **Metodo `__init__` (Costruttore):**\n",
    "   * `def __init__(self, name):`: Il metodo `__init__` è un metodo speciale chiamato costruttore. Viene eseguito automaticamente ogni volta che crei un nuovo oggetto `Dog`.\n",
    "   * `self`: È un riferimento all'oggetto stesso. È necessario per accedere agli attributi e ai metodi dell'oggetto.\n",
    "   * `name`: Questo è un parametro che rappresenta il nome del cane. Quando crei un nuovo oggetto `Dog`, devi fornire un nome come argomento.\n",
    "   * `self.name = name`: Questa linea assegna il valore del parametro `name` all'attributo `name` dell'oggetto.\n",
    "   * `self.legs = 4`: Questa linea imposta l'attributo `legs` (zampe) dell'oggetto a 4, poiché tutti i cani hanno quattro zampe.\n",
    "\n",
    "3. **Metodo `speak`:**\n",
    "   * `def speak(self):`: Questo definisce un metodo chiamato `speak` che l'oggetto `Dog` può eseguire.\n",
    "   * `print(self.name + ' dice: abbaia!')`: Questa linea stampa un messaggio che indica il nome del cane seguito da \"dice: abbaia!\".\n",
    "\n",
    "4. **Creazione dell'Oggetto `myDog`:**\n",
    "   * `myDog = Dog('Napoleone')`: Questa linea crea un nuovo oggetto della classe `Dog`.  Il nome \"Napoleone\" viene passato al costruttore `__init__`, che lo assegna all'attributo `name` dell'oggetto. \n",
    "\n",
    "5. **Accesso agli Attributi:**\n",
    "   * `print(myDog.name)`: Questa linea stampa il nome del cane (`Napoleone`).\n",
    "   * `print(myDog.legs)`: Questa linea stampa il numero di zampe del cane (4).\n",
    "\n",
    "**Utilizzo delle Classi e degli Oggetti**\n",
    "\n",
    "Le classi e gli oggetti sono elementi fondamentali della programmazione orientata agli oggetti (OOP). Ti permettono di modellare concetti del mondo reale in modo strutturato e organizzato all'interno del tuo codice.\n"
   ]
  },
  {
   "cell_type": "markdown",
   "id": "4b25ac3c",
   "metadata": {},
   "source": [
    "## Attributi statici "
   ]
  },
  {
   "cell_type": "code",
   "execution_count": 15,
   "id": "0de1f3d8",
   "metadata": {},
   "outputs": [
    {
     "name": "stdout",
     "output_type": "stream",
     "text": [
      "Napoleone\n",
      "4\n"
     ]
    }
   ],
   "source": [
    "class Dog:\n",
    "    \n",
    "    legs = 4\n",
    "    def __init__(self, name):\n",
    "        #istanze di attributi name e legs perchè li hanno ogni istanza della classe cane \n",
    "        self.name = name\n",
    "        \n",
    "    def speak(self):\n",
    "        print(self.name + ' dice: abbaia!')\n",
    "\n",
    "myDog = Dog('Napoleone')\n",
    "print(myDog.name)\n",
    "print(myDog.legs)\n",
    "    "
   ]
  },
  {
   "cell_type": "markdown",
   "id": "8ab47c48",
   "metadata": {},
   "source": [
    "* **Attributo di Classe `legs`:**\n",
    "    * `legs = 4`: Questa è una variabile definita direttamente all'interno della classe, non all'interno di un metodo. Rappresenta il numero di zampe che tutti i cani hanno in comune (4). È un **attributo di classe**, il che significa che è condiviso da tutte le istanze (oggetti) della classe `Dog`.\n",
    "\n",
    "* **Attributi di Classe vs. Attributi di Istanza:**\n",
    "    * **Attributi di Classe:** Sono condivisi da tutte le istanze della classe e vengono definiti direttamente all'interno della classe (come `legs` in questo esempio).\n",
    "    * **Attributi di Istanza:** Sono specifici per ogni oggetto e vengono creati all'interno del costruttore `__init__` (come `name` in questo esempio).\n",
    "\n",
    "* **Accesso agli Attributi:**\n",
    "    * Gli attributi di istanza vengono accessibili tramite l'oggetto (es. `myDog.name`).\n",
    "    * Gli attributi di classe possono essere acceduti sia tramite l'oggetto (es. `myDog.legs`) che tramite il nome della classe (es. `Dog.legs`)."
   ]
  },
  {
   "cell_type": "code",
   "execution_count": 16,
   "id": "975908a3",
   "metadata": {},
   "outputs": [
    {
     "name": "stdout",
     "output_type": "stream",
     "text": [
      "Napoleone\n",
      "4\n"
     ]
    }
   ],
   "source": [
    "class Dog:\n",
    "    \n",
    "    _legs = 4\n",
    "    \n",
    "    def __init__(self, name):\n",
    "        self.name = name\n",
    "        \n",
    "    def getLegs(self):\n",
    "        return self._legs\n",
    "\n",
    "myDog = Dog('Napoleone')\n",
    "print(myDog.name)\n",
    "print(myDog.getLegs())"
   ]
  },
  {
   "cell_type": "markdown",
   "id": "ce2144af",
   "metadata": {},
   "source": [
    "*   **Attributo Protetto `_legs`:**\n",
    "    *   `_legs = 4`: Questo attributo di classe è definito con un underscore iniziale (`_`), che è una convenzione in Python per indicare che è un attributo **protetto**. Ciò significa che, sebbene tecnicamente accessibile dall'esterno della classe, non dovrebbe essere modificato direttamente. L'idea è che questo attributo rappresenti una caratteristica intrinseca dei cani (avere 4 zampe) e non dovrebbe essere modificata arbitrariamente.\n",
    "\n",
    "**Perché usare Attributi Protetti e Metodi Accessori?**\n",
    "\n",
    "*   **Incapsulamento:**  Nasconde i dettagli interni dell'oggetto e controlla come gli attributi possono essere accessibili e modificati. Questo migliora la robustezza e la manutenibilità del codice.\n",
    "*   **Controllo:** Permette di aggiungere logica di validazione o trasformazione dei dati quando si accede o si modifica un attributo. Ad esempio, si potrebbe voler verificare che il numero di zampe non sia mai impostato a un valore negativo.\n",
    "*   **Flessibilità:** Consente di modificare l'implementazione interna di un attributo senza rompere il codice che lo utilizza, poiché l'accesso avviene sempre tramite il metodo getter.\n"
   ]
  },
  {
   "cell_type": "code",
   "execution_count": null,
   "id": "3fed4130",
   "metadata": {},
   "outputs": [],
   "source": []
  }
 ],
 "metadata": {
  "kernelspec": {
   "display_name": "Python 3 (ipykernel)",
   "language": "python",
   "name": "python3"
  },
  "language_info": {
   "codemirror_mode": {
    "name": "ipython",
    "version": 3
   },
   "file_extension": ".py",
   "mimetype": "text/x-python",
   "name": "python",
   "nbconvert_exporter": "python",
   "pygments_lexer": "ipython3",
   "version": "3.9.7"
  }
 },
 "nbformat": 4,
 "nbformat_minor": 5
}
