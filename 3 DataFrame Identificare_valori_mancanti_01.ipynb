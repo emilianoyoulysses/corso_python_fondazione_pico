{
 "cells": [
  {
   "cell_type": "markdown",
   "id": "ae0a5ad5",
   "metadata": {},
   "source": [
    "# Introduzione a Pandas\n",
    "di Emiliano Citarella"
   ]
  },
  {
   "cell_type": "markdown",
   "id": "efbbdb31",
   "metadata": {},
   "source": [
    "## Modulo 3: DataFrames \n",
    "\n",
    "### Pandas DataFrames - Identificazione dei valori mancanti\n",
    "\n",
    "- Identificare e contare i valori mancanti\n",
    "\n",
    "- Rimozione di righe con informazioni mancanti\n",
    "\n",
    "- Eliminare le colonne da un DataFrame"
   ]
  },
  {
   "cell_type": "code",
   "execution_count": 35,
   "id": "fda235a9",
   "metadata": {},
   "outputs": [],
   "source": [
    "import pandas as pd"
   ]
  },
  {
   "cell_type": "code",
   "execution_count": 36,
   "id": "cd800ff1",
   "metadata": {
    "scrolled": true
   },
   "outputs": [
    {
     "data": {
      "text/html": [
       "<div>\n",
       "<style scoped>\n",
       "    .dataframe tbody tr th:only-of-type {\n",
       "        vertical-align: middle;\n",
       "    }\n",
       "\n",
       "    .dataframe tbody tr th {\n",
       "        vertical-align: top;\n",
       "    }\n",
       "\n",
       "    .dataframe thead th {\n",
       "        text-align: right;\n",
       "    }\n",
       "</style>\n",
       "<table border=\"1\" class=\"dataframe\">\n",
       "  <thead>\n",
       "    <tr style=\"text-align: right;\">\n",
       "      <th></th>\n",
       "      <th>serving_size</th>\n",
       "      <th>calories</th>\n",
       "      <th>fat</th>\n",
       "      <th>sodium</th>\n",
       "      <th>price</th>\n",
       "      <th>discount</th>\n",
       "    </tr>\n",
       "    <tr>\n",
       "      <th>item</th>\n",
       "      <th></th>\n",
       "      <th></th>\n",
       "      <th></th>\n",
       "      <th></th>\n",
       "      <th></th>\n",
       "      <th></th>\n",
       "    </tr>\n",
       "  </thead>\n",
       "  <tbody>\n",
       "    <tr>\n",
       "      <th>crackers</th>\n",
       "      <td>4 crackers</td>\n",
       "      <td>10.0</td>\n",
       "      <td>1.1g</td>\n",
       "      <td>125mg</td>\n",
       "      <td>2.99</td>\n",
       "      <td>None</td>\n",
       "    </tr>\n",
       "    <tr>\n",
       "      <th>club soda</th>\n",
       "      <td>8 oz</td>\n",
       "      <td>NaN</td>\n",
       "      <td>None</td>\n",
       "      <td>75mg</td>\n",
       "      <td>2.25</td>\n",
       "      <td>None</td>\n",
       "    </tr>\n",
       "    <tr>\n",
       "      <th>apple</th>\n",
       "      <td>2</td>\n",
       "      <td>95.0</td>\n",
       "      <td>None</td>\n",
       "      <td>None</td>\n",
       "      <td>1.99</td>\n",
       "      <td>None</td>\n",
       "    </tr>\n",
       "    <tr>\n",
       "      <th>banana</th>\n",
       "      <td>3</td>\n",
       "      <td>105.0</td>\n",
       "      <td>0.4g</td>\n",
       "      <td>1mg</td>\n",
       "      <td>NaN</td>\n",
       "      <td>None</td>\n",
       "    </tr>\n",
       "    <tr>\n",
       "      <th>spam</th>\n",
       "      <td>1 tin</td>\n",
       "      <td>NaN</td>\n",
       "      <td>None</td>\n",
       "      <td>None</td>\n",
       "      <td>NaN</td>\n",
       "      <td>None</td>\n",
       "    </tr>\n",
       "  </tbody>\n",
       "</table>\n",
       "</div>"
      ],
      "text/plain": [
       "          serving_size  calories   fat sodium  price discount\n",
       "item                                                         \n",
       "crackers    4 crackers      10.0  1.1g  125mg   2.99     None\n",
       "club soda         8 oz       NaN  None   75mg   2.25     None\n",
       "apple                2      95.0  None   None   1.99     None\n",
       "banana               3     105.0  0.4g    1mg    NaN     None\n",
       "spam             1 tin       NaN  None   None    NaN     None"
      ]
     },
     "execution_count": 36,
     "metadata": {},
     "output_type": "execute_result"
    }
   ],
   "source": [
    "# Generiamo alcuni dati con valori mancanti.\n",
    "# Creo un DataFrame da dizionari\n",
    "df = pd.DataFrame([\n",
    "    {\n",
    "        \"item\": \"crackers\",\n",
    "        \"serving_size\": \"4 crackers\",\n",
    "        \"calories\": 10,\n",
    "        \"fat\": \"1.1g\",\n",
    "        \"sodium\": \"125mg\",\n",
    "        \"price\": 2.99,\n",
    "        \"discount\": None\n",
    "    },\n",
    "    {\n",
    "        \"item\": \"club soda\",\n",
    "        \"serving_size\": \"8 oz\",\n",
    "        \"calories\": None,\n",
    "        \"fat\": None,\n",
    "        \"sodium\": \"75mg\",\n",
    "        \"price\": 2.25,\n",
    "        \"discount\": None\n",
    "\n",
    "    },\n",
    "    {\n",
    "        \"item\": \"apple\",\n",
    "        \"serving_size\": 2,\n",
    "        \"calories\": 95,\n",
    "        \"fat\": None,\n",
    "        \"sodium\": None,\n",
    "        \"price\": 1.99,\n",
    "        \"discount\": None\n",
    "    },\n",
    "    {\n",
    "        \"item\": \"banana\",\n",
    "        \"serving_size\": 3,\n",
    "        \"calories\": 105,\n",
    "        \"fat\": \"0.4g\",\n",
    "        \"sodium\": \"1mg\",\n",
    "        \"price\": None,\n",
    "        \"discount\": None\n",
    "    },\n",
    "    {\n",
    "        \"item\": \"spam\",\n",
    "        \"serving_size\": \"1 tin\",\n",
    "        \"calories\": None,\n",
    "        \"fat\": None,\n",
    "        \"sodium\": None,\n",
    "        \"price\": None,\n",
    "        \"discount\": None\n",
    "    }\n",
    "])\n",
    "\n",
    "# Imposto l'indice come nome dell'elemento. Meglio non avere numeri interi come indice. \n",
    "# nella realtà righe e colonne sono molte di più ed i casi di valori mancanti più eterogeni.\n",
    "# item è un nome unico nel DataFrame\n",
    "\n",
    "df.set_index(\"item\", inplace=True)\n",
    "df"
   ]
  },
  {
   "cell_type": "markdown",
   "id": "26442ee6",
   "metadata": {},
   "source": [
    "Dal db noto che la variabile serving_size possiede diverse tipologie di dato, di scrittura e non ha solo dati numerici. Inoltre osservo che la variabile discount non possiede dati. "
   ]
  },
  {
   "cell_type": "code",
   "execution_count": 4,
   "id": "1e32b1c6",
   "metadata": {},
   "outputs": [
    {
     "name": "stdout",
     "output_type": "stream",
     "text": [
      "<class 'pandas.core.frame.DataFrame'>\n",
      "Index: 5 entries, crackers to spam\n",
      "Data columns (total 6 columns):\n",
      " #   Column        Non-Null Count  Dtype  \n",
      "---  ------        --------------  -----  \n",
      " 0   serving_size  5 non-null      object \n",
      " 1   calories      3 non-null      float64\n",
      " 2   fat           2 non-null      object \n",
      " 3   sodium        3 non-null      object \n",
      " 4   price         3 non-null      float64\n",
      " 5   discount      0 non-null      object \n",
      "dtypes: float64(2), object(4)\n",
      "memory usage: 280.0+ bytes\n"
     ]
    }
   ],
   "source": [
    "# Il metodo .info emette tipi di dati e conteggio dei valori non nulli, ovvero dei records che hanno qualcosa. \n",
    "# non conteggia i nulli, conteggia i non nulli\n",
    "# abbiamo l'ordine dell'indice con numeri interi\n",
    "# Oltre alla tipologia di dato abbiamo anche il conteggio dell'utilizzo della memoria da parte del DF\n",
    "\n",
    "df.info()"
   ]
  },
  {
   "cell_type": "code",
   "execution_count": 5,
   "id": "a87461c1",
   "metadata": {},
   "outputs": [
    {
     "data": {
      "text/plain": [
       "item\n",
       "crackers      10.0\n",
       "club soda      NaN\n",
       "apple         95.0\n",
       "banana       105.0\n",
       "spam           NaN\n",
       "Name: calories, dtype: float64"
      ]
     },
     "execution_count": 5,
     "metadata": {},
     "output_type": "execute_result"
    }
   ],
   "source": [
    "# I valori mancanti in una colonna numerica vengono visualizzati come NaN, che significa \"non un numero\"\n",
    "# notiamo che il tipo di dati è float64, ovvero un tipo di dato numerico\n",
    "# NAN rappresenta l'assenza di un numero al contrario di uno 0 che distorcerebbe i dati\n",
    "# o al contrario di una stringa che varierebbe il tipo di dato della colonna \n",
    "\n",
    "df.calories"
   ]
  },
  {
   "cell_type": "code",
   "execution_count": 6,
   "id": "9cd82fa1",
   "metadata": {},
   "outputs": [
    {
     "data": {
      "text/plain": [
       "item\n",
       "crackers     2.99\n",
       "club soda    2.25\n",
       "apple        1.99\n",
       "banana        NaN\n",
       "spam          NaN\n",
       "Name: price, dtype: float64"
      ]
     },
     "execution_count": 6,
     "metadata": {},
     "output_type": "execute_result"
    }
   ],
   "source": [
    "df.price\n",
    "# NAN rappresenta proprio un'assenza di un numero. "
   ]
  },
  {
   "cell_type": "code",
   "execution_count": 7,
   "id": "3ff30bf8",
   "metadata": {},
   "outputs": [
    {
     "data": {
      "text/plain": [
       "70.0"
      ]
     },
     "execution_count": 7,
     "metadata": {},
     "output_type": "execute_result"
    }
   ],
   "source": [
    "# NaN esiste per permetterci di fare matematica senza ottenere errori di esecuzione\n",
    "# Molte funzioni matematiche ignorano i NaN, ad esempio la media\n",
    "df.calories.mean()"
   ]
  },
  {
   "cell_type": "code",
   "execution_count": 11,
   "id": "75b7e8bd",
   "metadata": {},
   "outputs": [
    {
     "data": {
      "text/plain": [
       "2.41"
      ]
     },
     "execution_count": 11,
     "metadata": {},
     "output_type": "execute_result"
    }
   ],
   "source": [
    "df.price.mean()"
   ]
  },
  {
   "cell_type": "code",
   "execution_count": 9,
   "id": "ef7484b6",
   "metadata": {},
   "outputs": [
    {
     "data": {
      "text/plain": [
       "125mg    1\n",
       "75mg     1\n",
       "1mg      1\n",
       "Name: sodium, dtype: int64"
      ]
     },
     "execution_count": 9,
     "metadata": {},
     "output_type": "execute_result"
    }
   ],
   "source": [
    "# Per impostazione predefinita, .value_counts ignora anche i NaN\n",
    "df.sodium.value_counts()"
   ]
  },
  {
   "cell_type": "markdown",
   "id": "7d765943",
   "metadata": {},
   "source": [
    "value_counts è una funzione davvero molto importante per la nostra analisi dati perchè ci aiuta a comprendere la distribuzione di frequenza che è molto utile con i diagrammi a barre per una visualizzazione rapida dei dati. "
   ]
  },
  {
   "cell_type": "code",
   "execution_count": 40,
   "id": "5b08a6a3",
   "metadata": {},
   "outputs": [
    {
     "data": {
      "text/plain": [
       "None     2\n",
       "125mg    1\n",
       "75mg     1\n",
       "1mg      1\n",
       "Name: sodium, dtype: int64"
      ]
     },
     "execution_count": 40,
     "metadata": {},
     "output_type": "execute_result"
    }
   ],
   "source": [
    "# se imposto dropna=False posso contare i valori mancanti\n",
    "df.sodium.value_counts(dropna=False)"
   ]
  },
  {
   "cell_type": "code",
   "execution_count": 41,
   "id": "94b1d240",
   "metadata": {},
   "outputs": [
    {
     "data": {
      "text/plain": [
       "item\n",
       "crackers     1.1g\n",
       "club soda    None\n",
       "apple        None\n",
       "banana       0.4g\n",
       "spam         None\n",
       "Name: fat, dtype: object"
      ]
     },
     "execution_count": 41,
     "metadata": {},
     "output_type": "execute_result"
    }
   ],
   "source": [
    "# i valori mancanti in una stringa sono definiti NONE \n",
    "# NONE è un pezzo di dato mancante?\n",
    "df.fat"
   ]
  },
  {
   "cell_type": "code",
   "execution_count": 17,
   "id": "1a60be97",
   "metadata": {},
   "outputs": [
    {
     "data": {
      "text/plain": [
       "item\n",
       "crackers     125mg\n",
       "club soda     75mg\n",
       "apple         None\n",
       "banana         1mg\n",
       "spam          None\n",
       "Name: sodium, dtype: object"
      ]
     },
     "execution_count": 17,
     "metadata": {},
     "output_type": "execute_result"
    }
   ],
   "source": [
    "df.sodium"
   ]
  },
  {
   "cell_type": "code",
   "execution_count": 44,
   "id": "6287b882",
   "metadata": {},
   "outputs": [
    {
     "data": {
      "text/plain": [
       "item\n",
       "crackers     False\n",
       "club soda     True\n",
       "apple         True\n",
       "banana       False\n",
       "spam          True\n",
       "Name: fat, dtype: bool"
      ]
     },
     "execution_count": 44,
     "metadata": {},
     "output_type": "execute_result"
    }
   ],
   "source": [
    "# lo strumento che utilizziamo è il metodo .isna() \n",
    "# può operare su una colonna, restituendo una serie booleana, oppure sull'intero DataFrame\n",
    "\n",
    "df.fat.isna()"
   ]
  },
  {
   "cell_type": "code",
   "execution_count": 42,
   "id": "03ed8232",
   "metadata": {},
   "outputs": [
    {
     "data": {
      "text/html": [
       "<div>\n",
       "<style scoped>\n",
       "    .dataframe tbody tr th:only-of-type {\n",
       "        vertical-align: middle;\n",
       "    }\n",
       "\n",
       "    .dataframe tbody tr th {\n",
       "        vertical-align: top;\n",
       "    }\n",
       "\n",
       "    .dataframe thead th {\n",
       "        text-align: right;\n",
       "    }\n",
       "</style>\n",
       "<table border=\"1\" class=\"dataframe\">\n",
       "  <thead>\n",
       "    <tr style=\"text-align: right;\">\n",
       "      <th></th>\n",
       "      <th>serving_size</th>\n",
       "      <th>calories</th>\n",
       "      <th>fat</th>\n",
       "      <th>sodium</th>\n",
       "      <th>price</th>\n",
       "      <th>discount</th>\n",
       "    </tr>\n",
       "    <tr>\n",
       "      <th>item</th>\n",
       "      <th></th>\n",
       "      <th></th>\n",
       "      <th></th>\n",
       "      <th></th>\n",
       "      <th></th>\n",
       "      <th></th>\n",
       "    </tr>\n",
       "  </thead>\n",
       "  <tbody>\n",
       "    <tr>\n",
       "      <th>crackers</th>\n",
       "      <td>4 crackers</td>\n",
       "      <td>10.0</td>\n",
       "      <td>1.1g</td>\n",
       "      <td>125mg</td>\n",
       "      <td>2.99</td>\n",
       "      <td>None</td>\n",
       "    </tr>\n",
       "    <tr>\n",
       "      <th>club soda</th>\n",
       "      <td>8 oz</td>\n",
       "      <td>NaN</td>\n",
       "      <td>None</td>\n",
       "      <td>75mg</td>\n",
       "      <td>2.25</td>\n",
       "      <td>None</td>\n",
       "    </tr>\n",
       "    <tr>\n",
       "      <th>apple</th>\n",
       "      <td>2</td>\n",
       "      <td>95.0</td>\n",
       "      <td>None</td>\n",
       "      <td>None</td>\n",
       "      <td>1.99</td>\n",
       "      <td>None</td>\n",
       "    </tr>\n",
       "    <tr>\n",
       "      <th>banana</th>\n",
       "      <td>3</td>\n",
       "      <td>105.0</td>\n",
       "      <td>0.4g</td>\n",
       "      <td>1mg</td>\n",
       "      <td>NaN</td>\n",
       "      <td>None</td>\n",
       "    </tr>\n",
       "    <tr>\n",
       "      <th>spam</th>\n",
       "      <td>1 tin</td>\n",
       "      <td>NaN</td>\n",
       "      <td>None</td>\n",
       "      <td>None</td>\n",
       "      <td>NaN</td>\n",
       "      <td>None</td>\n",
       "    </tr>\n",
       "  </tbody>\n",
       "</table>\n",
       "</div>"
      ],
      "text/plain": [
       "          serving_size  calories   fat sodium  price discount\n",
       "item                                                         \n",
       "crackers    4 crackers      10.0  1.1g  125mg   2.99     None\n",
       "club soda         8 oz       NaN  None   75mg   2.25     None\n",
       "apple                2      95.0  None   None   1.99     None\n",
       "banana               3     105.0  0.4g    1mg    NaN     None\n",
       "spam             1 tin       NaN  None   None    NaN     None"
      ]
     },
     "execution_count": 42,
     "metadata": {},
     "output_type": "execute_result"
    }
   ],
   "source": [
    "df"
   ]
  },
  {
   "cell_type": "code",
   "execution_count": 18,
   "id": "aa29eb00",
   "metadata": {
    "scrolled": true
   },
   "outputs": [
    {
     "data": {
      "text/html": [
       "<div>\n",
       "<style scoped>\n",
       "    .dataframe tbody tr th:only-of-type {\n",
       "        vertical-align: middle;\n",
       "    }\n",
       "\n",
       "    .dataframe tbody tr th {\n",
       "        vertical-align: top;\n",
       "    }\n",
       "\n",
       "    .dataframe thead th {\n",
       "        text-align: right;\n",
       "    }\n",
       "</style>\n",
       "<table border=\"1\" class=\"dataframe\">\n",
       "  <thead>\n",
       "    <tr style=\"text-align: right;\">\n",
       "      <th></th>\n",
       "      <th>serving_size</th>\n",
       "      <th>calories</th>\n",
       "      <th>fat</th>\n",
       "      <th>sodium</th>\n",
       "      <th>price</th>\n",
       "      <th>discount</th>\n",
       "    </tr>\n",
       "    <tr>\n",
       "      <th>item</th>\n",
       "      <th></th>\n",
       "      <th></th>\n",
       "      <th></th>\n",
       "      <th></th>\n",
       "      <th></th>\n",
       "      <th></th>\n",
       "    </tr>\n",
       "  </thead>\n",
       "  <tbody>\n",
       "    <tr>\n",
       "      <th>crackers</th>\n",
       "      <td>False</td>\n",
       "      <td>False</td>\n",
       "      <td>False</td>\n",
       "      <td>False</td>\n",
       "      <td>False</td>\n",
       "      <td>True</td>\n",
       "    </tr>\n",
       "    <tr>\n",
       "      <th>club soda</th>\n",
       "      <td>False</td>\n",
       "      <td>True</td>\n",
       "      <td>True</td>\n",
       "      <td>False</td>\n",
       "      <td>False</td>\n",
       "      <td>True</td>\n",
       "    </tr>\n",
       "    <tr>\n",
       "      <th>apple</th>\n",
       "      <td>False</td>\n",
       "      <td>False</td>\n",
       "      <td>True</td>\n",
       "      <td>True</td>\n",
       "      <td>False</td>\n",
       "      <td>True</td>\n",
       "    </tr>\n",
       "    <tr>\n",
       "      <th>banana</th>\n",
       "      <td>False</td>\n",
       "      <td>False</td>\n",
       "      <td>False</td>\n",
       "      <td>False</td>\n",
       "      <td>True</td>\n",
       "      <td>True</td>\n",
       "    </tr>\n",
       "    <tr>\n",
       "      <th>spam</th>\n",
       "      <td>False</td>\n",
       "      <td>True</td>\n",
       "      <td>True</td>\n",
       "      <td>True</td>\n",
       "      <td>True</td>\n",
       "      <td>True</td>\n",
       "    </tr>\n",
       "  </tbody>\n",
       "</table>\n",
       "</div>"
      ],
      "text/plain": [
       "           serving_size  calories    fat  sodium  price  discount\n",
       "item                                                             \n",
       "crackers          False     False  False   False  False      True\n",
       "club soda         False      True   True   False  False      True\n",
       "apple             False     False   True    True  False      True\n",
       "banana            False     False  False   False   True      True\n",
       "spam              False      True   True    True   True      True"
      ]
     },
     "execution_count": 18,
     "metadata": {},
     "output_type": "execute_result"
    }
   ],
   "source": [
    "# .isna() può anche operare sull'intero DataFrame\n",
    "df.isna()"
   ]
  },
  {
   "cell_type": "code",
   "execution_count": 19,
   "id": "32feee21",
   "metadata": {},
   "outputs": [
    {
     "name": "stdout",
     "output_type": "stream",
     "text": [
      "Number of nulls by column\n"
     ]
    },
    {
     "data": {
      "text/plain": [
       "serving_size    0\n",
       "calories        2\n",
       "fat             3\n",
       "sodium          2\n",
       "price           2\n",
       "discount        5\n",
       "dtype: int64"
      ]
     },
     "execution_count": 19,
     "metadata": {},
     "output_type": "execute_result"
    }
   ],
   "source": [
    "# possiamo calcolare dato che True=1 e False=0 \n",
    "# .sum per il conteggio del numero di nulli per colonna\n",
    "print(\"Number of nulls by column\")\n",
    "df.isna().sum()"
   ]
  },
  {
   "cell_type": "code",
   "execution_count": 20,
   "id": "bf9eee13",
   "metadata": {},
   "outputs": [
    {
     "name": "stdout",
     "output_type": "stream",
     "text": [
      "Proportion of nulls by column\n"
     ]
    },
    {
     "data": {
      "text/plain": [
       "serving_size    0.0\n",
       "calories        0.4\n",
       "fat             0.6\n",
       "sodium          0.4\n",
       "price           0.4\n",
       "discount        1.0\n",
       "dtype: float64"
      ]
     },
     "execution_count": 20,
     "metadata": {},
     "output_type": "execute_result"
    }
   ],
   "source": [
    "# per comprendere la proporzione dei dati persi possiamo utilizzare mean\n",
    "# in questo modo otteniamo il numero di righe di dati persi su totale degli oggetti dato. \n",
    "# serving_size percentuale zero di dati persi\n",
    "print(\"Proportion of nulls by column\")\n",
    "df.isna().mean()"
   ]
  },
  {
   "cell_type": "code",
   "execution_count": 21,
   "id": "1e9fb285",
   "metadata": {},
   "outputs": [
    {
     "name": "stdout",
     "output_type": "stream",
     "text": [
      "Number of nulls by row\n"
     ]
    },
    {
     "data": {
      "text/plain": [
       "item\n",
       "crackers     1\n",
       "club soda    3\n",
       "apple        3\n",
       "banana       2\n",
       "spam         5\n",
       "dtype: int64"
      ]
     },
     "execution_count": 21,
     "metadata": {},
     "output_type": "execute_result"
    }
   ],
   "source": [
    "# possiamo realizzare il conteggio del numero di dati persi per riga\n",
    "# Ricorda che .sum può essere eseguito su colonne o per riga, per riga impostando axis=1 che sovrascrive\n",
    "# l'argomento di default axis = 0\n",
    "print(\"Number of nulls by row\")\n",
    "df.isna().sum(axis=1)"
   ]
  },
  {
   "cell_type": "code",
   "execution_count": 22,
   "id": "8bb4cbd4",
   "metadata": {},
   "outputs": [
    {
     "data": {
      "text/html": [
       "<div>\n",
       "<style scoped>\n",
       "    .dataframe tbody tr th:only-of-type {\n",
       "        vertical-align: middle;\n",
       "    }\n",
       "\n",
       "    .dataframe tbody tr th {\n",
       "        vertical-align: top;\n",
       "    }\n",
       "\n",
       "    .dataframe thead th {\n",
       "        text-align: right;\n",
       "    }\n",
       "</style>\n",
       "<table border=\"1\" class=\"dataframe\">\n",
       "  <thead>\n",
       "    <tr style=\"text-align: right;\">\n",
       "      <th></th>\n",
       "      <th>serving_size</th>\n",
       "      <th>calories</th>\n",
       "      <th>fat</th>\n",
       "      <th>sodium</th>\n",
       "      <th>price</th>\n",
       "      <th>discount</th>\n",
       "    </tr>\n",
       "    <tr>\n",
       "      <th>item</th>\n",
       "      <th></th>\n",
       "      <th></th>\n",
       "      <th></th>\n",
       "      <th></th>\n",
       "      <th></th>\n",
       "      <th></th>\n",
       "    </tr>\n",
       "  </thead>\n",
       "  <tbody>\n",
       "    <tr>\n",
       "      <th>crackers</th>\n",
       "      <td>4 crackers</td>\n",
       "      <td>10.0</td>\n",
       "      <td>1.1g</td>\n",
       "      <td>125mg</td>\n",
       "      <td>2.99</td>\n",
       "      <td>None</td>\n",
       "    </tr>\n",
       "    <tr>\n",
       "      <th>club soda</th>\n",
       "      <td>8 oz</td>\n",
       "      <td>NaN</td>\n",
       "      <td>None</td>\n",
       "      <td>75mg</td>\n",
       "      <td>2.25</td>\n",
       "      <td>None</td>\n",
       "    </tr>\n",
       "    <tr>\n",
       "      <th>apple</th>\n",
       "      <td>2</td>\n",
       "      <td>95.0</td>\n",
       "      <td>None</td>\n",
       "      <td>None</td>\n",
       "      <td>1.99</td>\n",
       "      <td>None</td>\n",
       "    </tr>\n",
       "    <tr>\n",
       "      <th>banana</th>\n",
       "      <td>3</td>\n",
       "      <td>105.0</td>\n",
       "      <td>0.4g</td>\n",
       "      <td>1mg</td>\n",
       "      <td>NaN</td>\n",
       "      <td>None</td>\n",
       "    </tr>\n",
       "    <tr>\n",
       "      <th>spam</th>\n",
       "      <td>1 tin</td>\n",
       "      <td>NaN</td>\n",
       "      <td>None</td>\n",
       "      <td>None</td>\n",
       "      <td>NaN</td>\n",
       "      <td>None</td>\n",
       "    </tr>\n",
       "  </tbody>\n",
       "</table>\n",
       "</div>"
      ],
      "text/plain": [
       "          serving_size  calories   fat sodium  price discount\n",
       "item                                                         \n",
       "crackers    4 crackers      10.0  1.1g  125mg   2.99     None\n",
       "club soda         8 oz       NaN  None   75mg   2.25     None\n",
       "apple                2      95.0  None   None   1.99     None\n",
       "banana               3     105.0  0.4g    1mg    NaN     None\n",
       "spam             1 tin       NaN  None   None    NaN     None"
      ]
     },
     "execution_count": 22,
     "metadata": {},
     "output_type": "execute_result"
    }
   ],
   "source": [
    "df"
   ]
  },
  {
   "cell_type": "code",
   "execution_count": 23,
   "id": "96a32b29",
   "metadata": {},
   "outputs": [
    {
     "name": "stdout",
     "output_type": "stream",
     "text": [
      "Proportion of nulls by row\n"
     ]
    },
    {
     "data": {
      "text/plain": [
       "item\n",
       "crackers     0.166667\n",
       "club soda    0.500000\n",
       "apple        0.500000\n",
       "banana       0.333333\n",
       "spam         0.833333\n",
       "dtype: float64"
      ]
     },
     "execution_count": 23,
     "metadata": {},
     "output_type": "execute_result"
    }
   ],
   "source": [
    "# Proporzione del numero di nulli per riga\n",
    "# Ricorda che .sum può essere eseguito su colonne o per riga, per riga con axis=1\n",
    "print(\"Proportion of nulls by row\")\n",
    "df.isna().mean(axis=1)"
   ]
  },
  {
   "cell_type": "markdown",
   "id": "ccad9754",
   "metadata": {},
   "source": [
    "### Gestione dei valori mancanti\n",
    "\n",
    "- Non c'è una risposta giusta per tutti i casi.\n",
    "- \"Dipende\" è una risposta comune nella scienza dei dati. Il contesto è importante.\n",
    "- A volte i valori mancanti potrebbero significare zero, a seconda del contesto, quindi possiamo riempire zero.\n",
    "- A volte, eliminare intere righe o colonne è appropriato\n",
    "- A volte, riempire i valori mancanti ha senso per mantenere il resto dei dati della riga o della colonna"
   ]
  },
  {
   "cell_type": "code",
   "execution_count": 22,
   "id": "950304d1",
   "metadata": {},
   "outputs": [
    {
     "data": {
      "text/html": [
       "<div>\n",
       "<style scoped>\n",
       "    .dataframe tbody tr th:only-of-type {\n",
       "        vertical-align: middle;\n",
       "    }\n",
       "\n",
       "    .dataframe tbody tr th {\n",
       "        vertical-align: top;\n",
       "    }\n",
       "\n",
       "    .dataframe thead th {\n",
       "        text-align: right;\n",
       "    }\n",
       "</style>\n",
       "<table border=\"1\" class=\"dataframe\">\n",
       "  <thead>\n",
       "    <tr style=\"text-align: right;\">\n",
       "      <th></th>\n",
       "      <th>serving_size</th>\n",
       "      <th>calories</th>\n",
       "      <th>fat</th>\n",
       "      <th>sodium</th>\n",
       "      <th>price</th>\n",
       "      <th>discount</th>\n",
       "    </tr>\n",
       "    <tr>\n",
       "      <th>item</th>\n",
       "      <th></th>\n",
       "      <th></th>\n",
       "      <th></th>\n",
       "      <th></th>\n",
       "      <th></th>\n",
       "      <th></th>\n",
       "    </tr>\n",
       "  </thead>\n",
       "  <tbody>\n",
       "  </tbody>\n",
       "</table>\n",
       "</div>"
      ],
      "text/plain": [
       "Empty DataFrame\n",
       "Columns: [serving_size, calories, fat, sodium, price, discount]\n",
       "Index: []"
      ]
     },
     "execution_count": 22,
     "metadata": {},
     "output_type": "execute_result"
    }
   ],
   "source": [
    "# Esempio di rimozione dei valori nulli\n",
    "# dropna elimina ogni riga con un valore nullo, almeno un valore nullo\n",
    "# Poiché mancano dati in ogni riga, questo è piuttosto distruttivo...\n",
    "# l'argomento axis predefinito è axis=0, che significa riga per riga\n",
    "df.dropna()"
   ]
  },
  {
   "cell_type": "code",
   "execution_count": 24,
   "id": "24bb2a02",
   "metadata": {},
   "outputs": [
    {
     "data": {
      "text/html": [
       "<div>\n",
       "<style scoped>\n",
       "    .dataframe tbody tr th:only-of-type {\n",
       "        vertical-align: middle;\n",
       "    }\n",
       "\n",
       "    .dataframe tbody tr th {\n",
       "        vertical-align: top;\n",
       "    }\n",
       "\n",
       "    .dataframe thead th {\n",
       "        text-align: right;\n",
       "    }\n",
       "</style>\n",
       "<table border=\"1\" class=\"dataframe\">\n",
       "  <thead>\n",
       "    <tr style=\"text-align: right;\">\n",
       "      <th></th>\n",
       "      <th>serving_size</th>\n",
       "    </tr>\n",
       "    <tr>\n",
       "      <th>item</th>\n",
       "      <th></th>\n",
       "    </tr>\n",
       "  </thead>\n",
       "  <tbody>\n",
       "    <tr>\n",
       "      <th>crackers</th>\n",
       "      <td>4 crackers</td>\n",
       "    </tr>\n",
       "    <tr>\n",
       "      <th>club soda</th>\n",
       "      <td>8 oz</td>\n",
       "    </tr>\n",
       "    <tr>\n",
       "      <th>apple</th>\n",
       "      <td>2</td>\n",
       "    </tr>\n",
       "    <tr>\n",
       "      <th>banana</th>\n",
       "      <td>3</td>\n",
       "    </tr>\n",
       "    <tr>\n",
       "      <th>spam</th>\n",
       "      <td>1 tin</td>\n",
       "    </tr>\n",
       "  </tbody>\n",
       "</table>\n",
       "</div>"
      ],
      "text/plain": [
       "          serving_size\n",
       "item                  \n",
       "crackers    4 crackers\n",
       "club soda         8 oz\n",
       "apple                2\n",
       "banana               3\n",
       "spam             1 tin"
      ]
     },
     "execution_count": 24,
     "metadata": {},
     "output_type": "execute_result"
    }
   ],
   "source": [
    "# dropna(axis=1) elimina tutte le colonne con eventuali valori mancanti\n",
    "# Anche questo è troppo distruttivo per essere utile\n",
    "df.dropna(axis=1)"
   ]
  },
  {
   "cell_type": "code",
   "execution_count": 25,
   "id": "32693b55",
   "metadata": {},
   "outputs": [
    {
     "data": {
      "text/html": [
       "<div>\n",
       "<style scoped>\n",
       "    .dataframe tbody tr th:only-of-type {\n",
       "        vertical-align: middle;\n",
       "    }\n",
       "\n",
       "    .dataframe tbody tr th {\n",
       "        vertical-align: top;\n",
       "    }\n",
       "\n",
       "    .dataframe thead th {\n",
       "        text-align: right;\n",
       "    }\n",
       "</style>\n",
       "<table border=\"1\" class=\"dataframe\">\n",
       "  <thead>\n",
       "    <tr style=\"text-align: right;\">\n",
       "      <th></th>\n",
       "      <th>serving_size</th>\n",
       "      <th>calories</th>\n",
       "      <th>fat</th>\n",
       "      <th>sodium</th>\n",
       "      <th>price</th>\n",
       "      <th>discount</th>\n",
       "    </tr>\n",
       "    <tr>\n",
       "      <th>item</th>\n",
       "      <th></th>\n",
       "      <th></th>\n",
       "      <th></th>\n",
       "      <th></th>\n",
       "      <th></th>\n",
       "      <th></th>\n",
       "    </tr>\n",
       "  </thead>\n",
       "  <tbody>\n",
       "    <tr>\n",
       "      <th>crackers</th>\n",
       "      <td>4 crackers</td>\n",
       "      <td>10.0</td>\n",
       "      <td>1.1g</td>\n",
       "      <td>125mg</td>\n",
       "      <td>2.99</td>\n",
       "      <td>None</td>\n",
       "    </tr>\n",
       "    <tr>\n",
       "      <th>club soda</th>\n",
       "      <td>8 oz</td>\n",
       "      <td>NaN</td>\n",
       "      <td>None</td>\n",
       "      <td>75mg</td>\n",
       "      <td>2.25</td>\n",
       "      <td>None</td>\n",
       "    </tr>\n",
       "    <tr>\n",
       "      <th>apple</th>\n",
       "      <td>2</td>\n",
       "      <td>95.0</td>\n",
       "      <td>None</td>\n",
       "      <td>None</td>\n",
       "      <td>1.99</td>\n",
       "      <td>None</td>\n",
       "    </tr>\n",
       "    <tr>\n",
       "      <th>banana</th>\n",
       "      <td>3</td>\n",
       "      <td>105.0</td>\n",
       "      <td>0.4g</td>\n",
       "      <td>1mg</td>\n",
       "      <td>NaN</td>\n",
       "      <td>None</td>\n",
       "    </tr>\n",
       "    <tr>\n",
       "      <th>spam</th>\n",
       "      <td>1 tin</td>\n",
       "      <td>NaN</td>\n",
       "      <td>None</td>\n",
       "      <td>None</td>\n",
       "      <td>NaN</td>\n",
       "      <td>None</td>\n",
       "    </tr>\n",
       "  </tbody>\n",
       "</table>\n",
       "</div>"
      ],
      "text/plain": [
       "          serving_size  calories   fat sodium  price discount\n",
       "item                                                         \n",
       "crackers    4 crackers      10.0  1.1g  125mg   2.99     None\n",
       "club soda         8 oz       NaN  None   75mg   2.25     None\n",
       "apple                2      95.0  None   None   1.99     None\n",
       "banana               3     105.0  0.4g    1mg    NaN     None\n",
       "spam             1 tin       NaN  None   None    NaN     None"
      ]
     },
     "execution_count": 25,
     "metadata": {},
     "output_type": "execute_result"
    }
   ],
   "source": [
    "# Esaminiamo il dataframe\n",
    "df"
   ]
  },
  {
   "cell_type": "markdown",
   "id": "90ccdc3a",
   "metadata": {},
   "source": [
    "Questa fase del processo è molto delicata perchè si tratta di pensare e razionalizzare le opzioni più maggiormente difendibili e stabili. "
   ]
  },
  {
   "cell_type": "code",
   "execution_count": 26,
   "id": "c113d076",
   "metadata": {},
   "outputs": [
    {
     "data": {
      "text/html": [
       "<div>\n",
       "<style scoped>\n",
       "    .dataframe tbody tr th:only-of-type {\n",
       "        vertical-align: middle;\n",
       "    }\n",
       "\n",
       "    .dataframe tbody tr th {\n",
       "        vertical-align: top;\n",
       "    }\n",
       "\n",
       "    .dataframe thead th {\n",
       "        text-align: right;\n",
       "    }\n",
       "</style>\n",
       "<table border=\"1\" class=\"dataframe\">\n",
       "  <thead>\n",
       "    <tr style=\"text-align: right;\">\n",
       "      <th></th>\n",
       "      <th>serving_size</th>\n",
       "      <th>calories</th>\n",
       "      <th>fat</th>\n",
       "      <th>sodium</th>\n",
       "      <th>price</th>\n",
       "    </tr>\n",
       "    <tr>\n",
       "      <th>item</th>\n",
       "      <th></th>\n",
       "      <th></th>\n",
       "      <th></th>\n",
       "      <th></th>\n",
       "      <th></th>\n",
       "    </tr>\n",
       "  </thead>\n",
       "  <tbody>\n",
       "    <tr>\n",
       "      <th>crackers</th>\n",
       "      <td>4 crackers</td>\n",
       "      <td>10.0</td>\n",
       "      <td>1.1g</td>\n",
       "      <td>125mg</td>\n",
       "      <td>2.99</td>\n",
       "    </tr>\n",
       "    <tr>\n",
       "      <th>club soda</th>\n",
       "      <td>8 oz</td>\n",
       "      <td>NaN</td>\n",
       "      <td>None</td>\n",
       "      <td>75mg</td>\n",
       "      <td>2.25</td>\n",
       "    </tr>\n",
       "    <tr>\n",
       "      <th>apple</th>\n",
       "      <td>2</td>\n",
       "      <td>95.0</td>\n",
       "      <td>None</td>\n",
       "      <td>None</td>\n",
       "      <td>1.99</td>\n",
       "    </tr>\n",
       "    <tr>\n",
       "      <th>banana</th>\n",
       "      <td>3</td>\n",
       "      <td>105.0</td>\n",
       "      <td>0.4g</td>\n",
       "      <td>1mg</td>\n",
       "      <td>NaN</td>\n",
       "    </tr>\n",
       "    <tr>\n",
       "      <th>spam</th>\n",
       "      <td>1 tin</td>\n",
       "      <td>NaN</td>\n",
       "      <td>None</td>\n",
       "      <td>None</td>\n",
       "      <td>NaN</td>\n",
       "    </tr>\n",
       "  </tbody>\n",
       "</table>\n",
       "</div>"
      ],
      "text/plain": [
       "          serving_size  calories   fat sodium  price\n",
       "item                                                \n",
       "crackers    4 crackers      10.0  1.1g  125mg   2.99\n",
       "club soda         8 oz       NaN  None   75mg   2.25\n",
       "apple                2      95.0  None   None   1.99\n",
       "banana               3     105.0  0.4g    1mg    NaN\n",
       "spam             1 tin       NaN  None   None    NaN"
      ]
     },
     "execution_count": 26,
     "metadata": {},
     "output_type": "execute_result"
    }
   ],
   "source": [
    "# La colonna degli sconti non aggiunge informazioni qui, quindi possiamo abbandonarla\n",
    "# inplace modifica il DataFrame in memoria\n",
    "df.drop(columns=\"discount\", inplace=True)\n",
    "df"
   ]
  },
  {
   "cell_type": "code",
   "execution_count": 27,
   "id": "f9fa74c4",
   "metadata": {},
   "outputs": [
    {
     "data": {
      "text/html": [
       "<div>\n",
       "<style scoped>\n",
       "    .dataframe tbody tr th:only-of-type {\n",
       "        vertical-align: middle;\n",
       "    }\n",
       "\n",
       "    .dataframe tbody tr th {\n",
       "        vertical-align: top;\n",
       "    }\n",
       "\n",
       "    .dataframe thead th {\n",
       "        text-align: right;\n",
       "    }\n",
       "</style>\n",
       "<table border=\"1\" class=\"dataframe\">\n",
       "  <thead>\n",
       "    <tr style=\"text-align: right;\">\n",
       "      <th></th>\n",
       "      <th>serving_size</th>\n",
       "      <th>calories</th>\n",
       "      <th>fat</th>\n",
       "      <th>sodium</th>\n",
       "      <th>price</th>\n",
       "    </tr>\n",
       "    <tr>\n",
       "      <th>item</th>\n",
       "      <th></th>\n",
       "      <th></th>\n",
       "      <th></th>\n",
       "      <th></th>\n",
       "      <th></th>\n",
       "    </tr>\n",
       "  </thead>\n",
       "  <tbody>\n",
       "    <tr>\n",
       "      <th>crackers</th>\n",
       "      <td>4 crackers</td>\n",
       "      <td>10.0</td>\n",
       "      <td>1.1g</td>\n",
       "      <td>125mg</td>\n",
       "      <td>2.99</td>\n",
       "    </tr>\n",
       "    <tr>\n",
       "      <th>club soda</th>\n",
       "      <td>8 oz</td>\n",
       "      <td>NaN</td>\n",
       "      <td>None</td>\n",
       "      <td>75mg</td>\n",
       "      <td>2.25</td>\n",
       "    </tr>\n",
       "    <tr>\n",
       "      <th>apple</th>\n",
       "      <td>2</td>\n",
       "      <td>95.0</td>\n",
       "      <td>None</td>\n",
       "      <td>None</td>\n",
       "      <td>1.99</td>\n",
       "    </tr>\n",
       "    <tr>\n",
       "      <th>banana</th>\n",
       "      <td>3</td>\n",
       "      <td>105.0</td>\n",
       "      <td>0.4g</td>\n",
       "      <td>1mg</td>\n",
       "      <td>NaN</td>\n",
       "    </tr>\n",
       "  </tbody>\n",
       "</table>\n",
       "</div>"
      ],
      "text/plain": [
       "          serving_size  calories   fat sodium  price\n",
       "item                                                \n",
       "crackers    4 crackers      10.0  1.1g  125mg   2.99\n",
       "club soda         8 oz       NaN  None   75mg   2.25\n",
       "apple                2      95.0  None   None   1.99\n",
       "banana               3     105.0  0.4g    1mg    NaN"
      ]
     },
     "execution_count": 27,
     "metadata": {},
     "output_type": "execute_result"
    }
   ],
   "source": [
    "# Riassegna il df\n",
    "# df.drop(index=[\"spam\"], inplace=True) Produrrebbe lo stesso risultato\n",
    "df = df[df.index != \"spam\"]\n",
    "df"
   ]
  },
  {
   "cell_type": "markdown",
   "id": "f183259a",
   "metadata": {},
   "source": [
    "## Risorse aggiuntive\n",
    "- [.isnull](https://pandas.pydata.org/docs/reference/api/pandas.DataFrame.isnull.html) è un alias per `isna`.\n",
    "- [.value_counts](https://pandas.pydata.org/docs/reference/api/pandas.Series.value_counts.html) documentazione\n",
    "- [Pandas .isna documentation](https://pandas.pydata.org/pandas-docs/stable/reference/api/pandas.isna.html)"
   ]
  },
  {
   "cell_type": "markdown",
   "id": "40cc58ae",
   "metadata": {},
   "source": [
    "## Esercizi\n",
    "- utilizziamo `pd.read_csv` per leggere `\"penguins.csv\"` all'interno di una variabile DataDrame chiamata `penguins`\n",
    "- Scrivi il codice panda per contare il numero di valori mancanti per colonna\n",
    "- Scrivi i panda necessari per ottenere la proporzione di valori mancanti per riga. Memorizza questo su una variabile denominata`percent_missing_by_row`\n",
    "- Ordina il `percent_missing_by_row` Serie in ordine decrescente. Quante delle righe sono per lo più vuote?"
   ]
  },
  {
   "cell_type": "code",
   "execution_count": 47,
   "id": "b851cc92",
   "metadata": {},
   "outputs": [
    {
     "data": {
      "text/html": [
       "<div>\n",
       "<style scoped>\n",
       "    .dataframe tbody tr th:only-of-type {\n",
       "        vertical-align: middle;\n",
       "    }\n",
       "\n",
       "    .dataframe tbody tr th {\n",
       "        vertical-align: top;\n",
       "    }\n",
       "\n",
       "    .dataframe thead th {\n",
       "        text-align: right;\n",
       "    }\n",
       "</style>\n",
       "<table border=\"1\" class=\"dataframe\">\n",
       "  <thead>\n",
       "    <tr style=\"text-align: right;\">\n",
       "      <th></th>\n",
       "      <th>species</th>\n",
       "      <th>island</th>\n",
       "      <th>bill_length_mm</th>\n",
       "      <th>bill_depth_mm</th>\n",
       "      <th>flipper_length_mm</th>\n",
       "      <th>body_mass_g</th>\n",
       "      <th>sex</th>\n",
       "      <th>year</th>\n",
       "    </tr>\n",
       "  </thead>\n",
       "  <tbody>\n",
       "    <tr>\n",
       "      <th>0</th>\n",
       "      <td>Adelie</td>\n",
       "      <td>Torgersen</td>\n",
       "      <td>39.1</td>\n",
       "      <td>18.7</td>\n",
       "      <td>181.0</td>\n",
       "      <td>3750.0</td>\n",
       "      <td>male</td>\n",
       "      <td>2007</td>\n",
       "    </tr>\n",
       "    <tr>\n",
       "      <th>1</th>\n",
       "      <td>Adelie</td>\n",
       "      <td>Torgersen</td>\n",
       "      <td>39.5</td>\n",
       "      <td>17.4</td>\n",
       "      <td>186.0</td>\n",
       "      <td>3800.0</td>\n",
       "      <td>female</td>\n",
       "      <td>2007</td>\n",
       "    </tr>\n",
       "    <tr>\n",
       "      <th>2</th>\n",
       "      <td>Adelie</td>\n",
       "      <td>Torgersen</td>\n",
       "      <td>40.3</td>\n",
       "      <td>18.0</td>\n",
       "      <td>195.0</td>\n",
       "      <td>3250.0</td>\n",
       "      <td>female</td>\n",
       "      <td>2007</td>\n",
       "    </tr>\n",
       "    <tr>\n",
       "      <th>3</th>\n",
       "      <td>Adelie</td>\n",
       "      <td>Torgersen</td>\n",
       "      <td>NaN</td>\n",
       "      <td>NaN</td>\n",
       "      <td>NaN</td>\n",
       "      <td>NaN</td>\n",
       "      <td>NaN</td>\n",
       "      <td>2007</td>\n",
       "    </tr>\n",
       "    <tr>\n",
       "      <th>4</th>\n",
       "      <td>Adelie</td>\n",
       "      <td>Torgersen</td>\n",
       "      <td>36.7</td>\n",
       "      <td>19.3</td>\n",
       "      <td>193.0</td>\n",
       "      <td>3450.0</td>\n",
       "      <td>female</td>\n",
       "      <td>2007</td>\n",
       "    </tr>\n",
       "    <tr>\n",
       "      <th>...</th>\n",
       "      <td>...</td>\n",
       "      <td>...</td>\n",
       "      <td>...</td>\n",
       "      <td>...</td>\n",
       "      <td>...</td>\n",
       "      <td>...</td>\n",
       "      <td>...</td>\n",
       "      <td>...</td>\n",
       "    </tr>\n",
       "    <tr>\n",
       "      <th>339</th>\n",
       "      <td>Chinstrap</td>\n",
       "      <td>Dream</td>\n",
       "      <td>55.8</td>\n",
       "      <td>19.8</td>\n",
       "      <td>207.0</td>\n",
       "      <td>4000.0</td>\n",
       "      <td>male</td>\n",
       "      <td>2009</td>\n",
       "    </tr>\n",
       "    <tr>\n",
       "      <th>340</th>\n",
       "      <td>Chinstrap</td>\n",
       "      <td>Dream</td>\n",
       "      <td>43.5</td>\n",
       "      <td>18.1</td>\n",
       "      <td>202.0</td>\n",
       "      <td>3400.0</td>\n",
       "      <td>female</td>\n",
       "      <td>2009</td>\n",
       "    </tr>\n",
       "    <tr>\n",
       "      <th>341</th>\n",
       "      <td>Chinstrap</td>\n",
       "      <td>Dream</td>\n",
       "      <td>49.6</td>\n",
       "      <td>18.2</td>\n",
       "      <td>193.0</td>\n",
       "      <td>3775.0</td>\n",
       "      <td>male</td>\n",
       "      <td>2009</td>\n",
       "    </tr>\n",
       "    <tr>\n",
       "      <th>342</th>\n",
       "      <td>Chinstrap</td>\n",
       "      <td>Dream</td>\n",
       "      <td>50.8</td>\n",
       "      <td>19.0</td>\n",
       "      <td>210.0</td>\n",
       "      <td>4100.0</td>\n",
       "      <td>male</td>\n",
       "      <td>2009</td>\n",
       "    </tr>\n",
       "    <tr>\n",
       "      <th>343</th>\n",
       "      <td>Chinstrap</td>\n",
       "      <td>Dream</td>\n",
       "      <td>50.2</td>\n",
       "      <td>18.7</td>\n",
       "      <td>198.0</td>\n",
       "      <td>3775.0</td>\n",
       "      <td>female</td>\n",
       "      <td>2009</td>\n",
       "    </tr>\n",
       "  </tbody>\n",
       "</table>\n",
       "<p>344 rows × 8 columns</p>\n",
       "</div>"
      ],
      "text/plain": [
       "       species     island  bill_length_mm  bill_depth_mm  flipper_length_mm  \\\n",
       "0       Adelie  Torgersen            39.1           18.7              181.0   \n",
       "1       Adelie  Torgersen            39.5           17.4              186.0   \n",
       "2       Adelie  Torgersen            40.3           18.0              195.0   \n",
       "3       Adelie  Torgersen             NaN            NaN                NaN   \n",
       "4       Adelie  Torgersen            36.7           19.3              193.0   \n",
       "..         ...        ...             ...            ...                ...   \n",
       "339  Chinstrap      Dream            55.8           19.8              207.0   \n",
       "340  Chinstrap      Dream            43.5           18.1              202.0   \n",
       "341  Chinstrap      Dream            49.6           18.2              193.0   \n",
       "342  Chinstrap      Dream            50.8           19.0              210.0   \n",
       "343  Chinstrap      Dream            50.2           18.7              198.0   \n",
       "\n",
       "     body_mass_g     sex  year  \n",
       "0         3750.0    male  2007  \n",
       "1         3800.0  female  2007  \n",
       "2         3250.0  female  2007  \n",
       "3            NaN     NaN  2007  \n",
       "4         3450.0  female  2007  \n",
       "..           ...     ...   ...  \n",
       "339       4000.0    male  2009  \n",
       "340       3400.0  female  2009  \n",
       "341       3775.0    male  2009  \n",
       "342       4100.0    male  2009  \n",
       "343       3775.0  female  2009  \n",
       "\n",
       "[344 rows x 8 columns]"
      ]
     },
     "execution_count": 47,
     "metadata": {},
     "output_type": "execute_result"
    }
   ],
   "source": [
    "penguins=pd.read_csv('penguins.csv')\n",
    "penguins"
   ]
  },
  {
   "cell_type": "code",
   "execution_count": 29,
   "id": "1deb7fe4",
   "metadata": {},
   "outputs": [
    {
     "data": {
      "text/html": [
       "<div>\n",
       "<style scoped>\n",
       "    .dataframe tbody tr th:only-of-type {\n",
       "        vertical-align: middle;\n",
       "    }\n",
       "\n",
       "    .dataframe tbody tr th {\n",
       "        vertical-align: top;\n",
       "    }\n",
       "\n",
       "    .dataframe thead th {\n",
       "        text-align: right;\n",
       "    }\n",
       "</style>\n",
       "<table border=\"1\" class=\"dataframe\">\n",
       "  <thead>\n",
       "    <tr style=\"text-align: right;\">\n",
       "      <th></th>\n",
       "      <th>species</th>\n",
       "      <th>island</th>\n",
       "      <th>bill_length_mm</th>\n",
       "      <th>bill_depth_mm</th>\n",
       "      <th>flipper_length_mm</th>\n",
       "      <th>body_mass_g</th>\n",
       "      <th>sex</th>\n",
       "      <th>year</th>\n",
       "    </tr>\n",
       "  </thead>\n",
       "  <tbody>\n",
       "    <tr>\n",
       "      <th>0</th>\n",
       "      <td>False</td>\n",
       "      <td>False</td>\n",
       "      <td>False</td>\n",
       "      <td>False</td>\n",
       "      <td>False</td>\n",
       "      <td>False</td>\n",
       "      <td>False</td>\n",
       "      <td>False</td>\n",
       "    </tr>\n",
       "    <tr>\n",
       "      <th>1</th>\n",
       "      <td>False</td>\n",
       "      <td>False</td>\n",
       "      <td>False</td>\n",
       "      <td>False</td>\n",
       "      <td>False</td>\n",
       "      <td>False</td>\n",
       "      <td>False</td>\n",
       "      <td>False</td>\n",
       "    </tr>\n",
       "    <tr>\n",
       "      <th>2</th>\n",
       "      <td>False</td>\n",
       "      <td>False</td>\n",
       "      <td>False</td>\n",
       "      <td>False</td>\n",
       "      <td>False</td>\n",
       "      <td>False</td>\n",
       "      <td>False</td>\n",
       "      <td>False</td>\n",
       "    </tr>\n",
       "    <tr>\n",
       "      <th>3</th>\n",
       "      <td>False</td>\n",
       "      <td>False</td>\n",
       "      <td>True</td>\n",
       "      <td>True</td>\n",
       "      <td>True</td>\n",
       "      <td>True</td>\n",
       "      <td>True</td>\n",
       "      <td>False</td>\n",
       "    </tr>\n",
       "    <tr>\n",
       "      <th>4</th>\n",
       "      <td>False</td>\n",
       "      <td>False</td>\n",
       "      <td>False</td>\n",
       "      <td>False</td>\n",
       "      <td>False</td>\n",
       "      <td>False</td>\n",
       "      <td>False</td>\n",
       "      <td>False</td>\n",
       "    </tr>\n",
       "    <tr>\n",
       "      <th>...</th>\n",
       "      <td>...</td>\n",
       "      <td>...</td>\n",
       "      <td>...</td>\n",
       "      <td>...</td>\n",
       "      <td>...</td>\n",
       "      <td>...</td>\n",
       "      <td>...</td>\n",
       "      <td>...</td>\n",
       "    </tr>\n",
       "    <tr>\n",
       "      <th>339</th>\n",
       "      <td>False</td>\n",
       "      <td>False</td>\n",
       "      <td>False</td>\n",
       "      <td>False</td>\n",
       "      <td>False</td>\n",
       "      <td>False</td>\n",
       "      <td>False</td>\n",
       "      <td>False</td>\n",
       "    </tr>\n",
       "    <tr>\n",
       "      <th>340</th>\n",
       "      <td>False</td>\n",
       "      <td>False</td>\n",
       "      <td>False</td>\n",
       "      <td>False</td>\n",
       "      <td>False</td>\n",
       "      <td>False</td>\n",
       "      <td>False</td>\n",
       "      <td>False</td>\n",
       "    </tr>\n",
       "    <tr>\n",
       "      <th>341</th>\n",
       "      <td>False</td>\n",
       "      <td>False</td>\n",
       "      <td>False</td>\n",
       "      <td>False</td>\n",
       "      <td>False</td>\n",
       "      <td>False</td>\n",
       "      <td>False</td>\n",
       "      <td>False</td>\n",
       "    </tr>\n",
       "    <tr>\n",
       "      <th>342</th>\n",
       "      <td>False</td>\n",
       "      <td>False</td>\n",
       "      <td>False</td>\n",
       "      <td>False</td>\n",
       "      <td>False</td>\n",
       "      <td>False</td>\n",
       "      <td>False</td>\n",
       "      <td>False</td>\n",
       "    </tr>\n",
       "    <tr>\n",
       "      <th>343</th>\n",
       "      <td>False</td>\n",
       "      <td>False</td>\n",
       "      <td>False</td>\n",
       "      <td>False</td>\n",
       "      <td>False</td>\n",
       "      <td>False</td>\n",
       "      <td>False</td>\n",
       "      <td>False</td>\n",
       "    </tr>\n",
       "  </tbody>\n",
       "</table>\n",
       "<p>344 rows × 8 columns</p>\n",
       "</div>"
      ],
      "text/plain": [
       "     species  island  bill_length_mm  bill_depth_mm  flipper_length_mm  \\\n",
       "0      False   False           False          False              False   \n",
       "1      False   False           False          False              False   \n",
       "2      False   False           False          False              False   \n",
       "3      False   False            True           True               True   \n",
       "4      False   False           False          False              False   \n",
       "..       ...     ...             ...            ...                ...   \n",
       "339    False   False           False          False              False   \n",
       "340    False   False           False          False              False   \n",
       "341    False   False           False          False              False   \n",
       "342    False   False           False          False              False   \n",
       "343    False   False           False          False              False   \n",
       "\n",
       "     body_mass_g    sex   year  \n",
       "0          False  False  False  \n",
       "1          False  False  False  \n",
       "2          False  False  False  \n",
       "3           True   True  False  \n",
       "4          False  False  False  \n",
       "..           ...    ...    ...  \n",
       "339        False  False  False  \n",
       "340        False  False  False  \n",
       "341        False  False  False  \n",
       "342        False  False  False  \n",
       "343        False  False  False  \n",
       "\n",
       "[344 rows x 8 columns]"
      ]
     },
     "execution_count": 29,
     "metadata": {},
     "output_type": "execute_result"
    }
   ],
   "source": [
    "penguins.isna()"
   ]
  },
  {
   "cell_type": "code",
   "execution_count": 30,
   "id": "3851a29b",
   "metadata": {},
   "outputs": [
    {
     "data": {
      "text/plain": [
       "species               0\n",
       "island                0\n",
       "bill_length_mm        2\n",
       "bill_depth_mm         2\n",
       "flipper_length_mm     2\n",
       "body_mass_g           2\n",
       "sex                  11\n",
       "year                  0\n",
       "dtype: int64"
      ]
     },
     "execution_count": 30,
     "metadata": {},
     "output_type": "execute_result"
    }
   ],
   "source": [
    "penguins.isna().sum()"
   ]
  },
  {
   "cell_type": "code",
   "execution_count": 34,
   "id": "dd3514aa",
   "metadata": {},
   "outputs": [
    {
     "data": {
      "text/plain": [
       "0      0.000\n",
       "1      0.000\n",
       "2      0.000\n",
       "3      0.625\n",
       "4      0.000\n",
       "       ...  \n",
       "339    0.000\n",
       "340    0.000\n",
       "341    0.000\n",
       "342    0.000\n",
       "343    0.000\n",
       "Length: 344, dtype: float64"
      ]
     },
     "execution_count": 34,
     "metadata": {},
     "output_type": "execute_result"
    }
   ],
   "source": [
    "percent_missing_by_row=penguins.isna().mean(axis=1)\n",
    "percent_missing_by_row"
   ]
  },
  {
   "cell_type": "code",
   "execution_count": 33,
   "id": "cbd841ce",
   "metadata": {},
   "outputs": [
    {
     "data": {
      "text/plain": [
       "271    0.625\n",
       "3      0.625\n",
       "8      0.125\n",
       "268    0.125\n",
       "218    0.125\n",
       "       ...  \n",
       "117    0.000\n",
       "116    0.000\n",
       "115    0.000\n",
       "114    0.000\n",
       "343    0.000\n",
       "Length: 344, dtype: float64"
      ]
     },
     "execution_count": 33,
     "metadata": {},
     "output_type": "execute_result"
    }
   ],
   "source": [
    "percent_missing_by_row.sort_values(ascending=False)"
   ]
  },
  {
   "cell_type": "code",
   "execution_count": 48,
   "id": "9af76551",
   "metadata": {},
   "outputs": [
    {
     "data": {
      "text/plain": [
       "271    0.625\n",
       "3      0.625\n",
       "8      0.125\n",
       "268    0.125\n",
       "218    0.125\n",
       "11     0.125\n",
       "10     0.125\n",
       "9      0.125\n",
       "47     0.125\n",
       "178    0.125\n",
       "256    0.125\n",
       "233    0.000\n",
       "228    0.000\n",
       "234    0.000\n",
       "232    0.000\n",
       "dtype: float64"
      ]
     },
     "execution_count": 48,
     "metadata": {},
     "output_type": "execute_result"
    }
   ],
   "source": [
    "percent_missing_by_row.sort_values(ascending=False).head(15)"
   ]
  },
  {
   "cell_type": "code",
   "execution_count": null,
   "id": "24987ac8",
   "metadata": {},
   "outputs": [],
   "source": []
  }
 ],
 "metadata": {
  "kernelspec": {
   "display_name": "Python 3 (ipykernel)",
   "language": "python",
   "name": "python3"
  },
  "language_info": {
   "codemirror_mode": {
    "name": "ipython",
    "version": 3
   },
   "file_extension": ".py",
   "mimetype": "text/x-python",
   "name": "python",
   "nbconvert_exporter": "python",
   "pygments_lexer": "ipython3",
   "version": "3.9.7"
  }
 },
 "nbformat": 4,
 "nbformat_minor": 5
}
