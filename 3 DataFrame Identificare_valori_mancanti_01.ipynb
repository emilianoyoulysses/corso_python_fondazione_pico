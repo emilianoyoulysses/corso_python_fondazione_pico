{
 "cells": [
  {
   "cell_type": "markdown",
   "id": "ae0a5ad5",
   "metadata": {},
   "source": [
    "# Introduzione a Pandas"
   ]
  },
  {
   "cell_type": "markdown",
   "id": "efbbdb31",
   "metadata": {},
   "source": [
    "## Modulo 3: DataFrames \n",
    "\n",
    "### Pandas DataFrames - Identificazione dei valori mancanti\n",
    "\n",
    "- Identificare e contare i valori mancanti\n",
    "\n",
    "- Rimozione di righe con informazioni mancanti\n",
    "\n",
    "- Eliminare le colonne da un DataFrame"
   ]
  },
  {
   "cell_type": "code",
   "execution_count": 46,
   "id": "fda235a9",
   "metadata": {},
   "outputs": [],
   "source": [
    "import pandas as pd"
   ]
  },
  {
   "cell_type": "markdown",
   "id": "4f5d30b7",
   "metadata": {},
   "source": [
    "Abbiamo creato un DataFrame `df` con valori reali e mancanti (missing values) ed abbiamo impostato la colonna \"item\" come indice. \n",
    "\n",
    "* valori mancanti (NaN) in quasi tutte le righe.\n",
    "* Colonne come \"fat\" e \"sodium\" contengono stringhe con unità (\"1.1g\", \"75mg\"), quindi non sono numeriche e non possiamo fare calcoli su di esse finché non le puliamo.\n",
    "* `\"serving_size\"` ha dati misti: stringhe per alcuni, numeri per altri (es. 2, 3) → anche qui occorre standardizzare.\n",
    "* La colonna `\"discount\"` è completamente vuota."
   ]
  },
  {
   "cell_type": "code",
   "execution_count": 47,
   "id": "cd800ff1",
   "metadata": {
    "scrolled": false
   },
   "outputs": [
    {
     "data": {
      "text/html": [
       "<div>\n",
       "<style scoped>\n",
       "    .dataframe tbody tr th:only-of-type {\n",
       "        vertical-align: middle;\n",
       "    }\n",
       "\n",
       "    .dataframe tbody tr th {\n",
       "        vertical-align: top;\n",
       "    }\n",
       "\n",
       "    .dataframe thead th {\n",
       "        text-align: right;\n",
       "    }\n",
       "</style>\n",
       "<table border=\"1\" class=\"dataframe\">\n",
       "  <thead>\n",
       "    <tr style=\"text-align: right;\">\n",
       "      <th></th>\n",
       "      <th>serving_size</th>\n",
       "      <th>calories</th>\n",
       "      <th>fat</th>\n",
       "      <th>sodium</th>\n",
       "      <th>price</th>\n",
       "      <th>discount</th>\n",
       "    </tr>\n",
       "    <tr>\n",
       "      <th>item</th>\n",
       "      <th></th>\n",
       "      <th></th>\n",
       "      <th></th>\n",
       "      <th></th>\n",
       "      <th></th>\n",
       "      <th></th>\n",
       "    </tr>\n",
       "  </thead>\n",
       "  <tbody>\n",
       "    <tr>\n",
       "      <th>crackers</th>\n",
       "      <td>4 crackers</td>\n",
       "      <td>10.0</td>\n",
       "      <td>1.1g</td>\n",
       "      <td>125mg</td>\n",
       "      <td>2.99</td>\n",
       "      <td>None</td>\n",
       "    </tr>\n",
       "    <tr>\n",
       "      <th>club soda</th>\n",
       "      <td>8 oz</td>\n",
       "      <td>NaN</td>\n",
       "      <td>None</td>\n",
       "      <td>75mg</td>\n",
       "      <td>2.25</td>\n",
       "      <td>None</td>\n",
       "    </tr>\n",
       "    <tr>\n",
       "      <th>apple</th>\n",
       "      <td>2</td>\n",
       "      <td>95.0</td>\n",
       "      <td>None</td>\n",
       "      <td>None</td>\n",
       "      <td>1.99</td>\n",
       "      <td>None</td>\n",
       "    </tr>\n",
       "    <tr>\n",
       "      <th>banana</th>\n",
       "      <td>3</td>\n",
       "      <td>105.0</td>\n",
       "      <td>0.4g</td>\n",
       "      <td>1mg</td>\n",
       "      <td>NaN</td>\n",
       "      <td>None</td>\n",
       "    </tr>\n",
       "    <tr>\n",
       "      <th>spam</th>\n",
       "      <td>1 tin</td>\n",
       "      <td>NaN</td>\n",
       "      <td>None</td>\n",
       "      <td>None</td>\n",
       "      <td>NaN</td>\n",
       "      <td>None</td>\n",
       "    </tr>\n",
       "  </tbody>\n",
       "</table>\n",
       "</div>"
      ],
      "text/plain": [
       "          serving_size  calories   fat sodium  price discount\n",
       "item                                                         \n",
       "crackers    4 crackers      10.0  1.1g  125mg   2.99     None\n",
       "club soda         8 oz       NaN  None   75mg   2.25     None\n",
       "apple                2      95.0  None   None   1.99     None\n",
       "banana               3     105.0  0.4g    1mg    NaN     None\n",
       "spam             1 tin       NaN  None   None    NaN     None"
      ]
     },
     "execution_count": 47,
     "metadata": {},
     "output_type": "execute_result"
    }
   ],
   "source": [
    "df = pd.DataFrame([\n",
    "    {\n",
    "        \"item\": \"crackers\",\n",
    "        \"serving_size\": \"4 crackers\",\n",
    "        \"calories\": 10,\n",
    "        \"fat\": \"1.1g\",\n",
    "        \"sodium\": \"125mg\",\n",
    "        \"price\": 2.99,\n",
    "        \"discount\": None\n",
    "    },\n",
    "    {\n",
    "        \"item\": \"club soda\",\n",
    "        \"serving_size\": \"8 oz\",\n",
    "        \"calories\": None,\n",
    "        \"fat\": None,\n",
    "        \"sodium\": \"75mg\",\n",
    "        \"price\": 2.25,\n",
    "        \"discount\": None\n",
    "\n",
    "    },\n",
    "    {\n",
    "        \"item\": \"apple\",\n",
    "        \"serving_size\": 2,\n",
    "        \"calories\": 95,\n",
    "        \"fat\": None,\n",
    "        \"sodium\": None,\n",
    "        \"price\": 1.99,\n",
    "        \"discount\": None\n",
    "    },\n",
    "    {\n",
    "        \"item\": \"banana\",\n",
    "        \"serving_size\": 3,\n",
    "        \"calories\": 105,\n",
    "        \"fat\": \"0.4g\",\n",
    "        \"sodium\": \"1mg\",\n",
    "        \"price\": None,\n",
    "        \"discount\": None\n",
    "    },\n",
    "    {\n",
    "        \"item\": \"spam\",\n",
    "        \"serving_size\": \"1 tin\",\n",
    "        \"calories\": None,\n",
    "        \"fat\": None,\n",
    "        \"sodium\": None,\n",
    "        \"price\": None,\n",
    "        \"discount\": None\n",
    "    }\n",
    "])\n",
    "\n",
    "df.set_index(\"item\", inplace=True)\n",
    "df"
   ]
  },
  {
   "cell_type": "markdown",
   "id": "795f4976",
   "metadata": {},
   "source": [
    "# `.info()`\n",
    "1. Il metodo `.info()` fornisce una panoramica strutturale del DataFrame:\n",
    "- Mostra per ogni colonna: il nome, il numero di valori NON nulli e il tipo di dato.\n",
    "- Non conta i valori nulli, ma quanti dati validi (non nulli) sono presenti per colonna.\n",
    "- Indica anche l'indice del DataFrame (ad esempio, RangeIndex con numeri interi).\n",
    "- Riporta infine la quantità totale di memoria utilizzata dal DataFrame in RAM.\n",
    "\n"
   ]
  },
  {
   "cell_type": "code",
   "execution_count": 48,
   "id": "1e32b1c6",
   "metadata": {},
   "outputs": [
    {
     "name": "stdout",
     "output_type": "stream",
     "text": [
      "<class 'pandas.core.frame.DataFrame'>\n",
      "Index: 5 entries, crackers to spam\n",
      "Data columns (total 6 columns):\n",
      " #   Column        Non-Null Count  Dtype  \n",
      "---  ------        --------------  -----  \n",
      " 0   serving_size  5 non-null      object \n",
      " 1   calories      3 non-null      float64\n",
      " 2   fat           2 non-null      object \n",
      " 3   sodium        3 non-null      object \n",
      " 4   price         3 non-null      float64\n",
      " 5   discount      0 non-null      object \n",
      "dtypes: float64(2), object(4)\n",
      "memory usage: 280.0+ bytes\n"
     ]
    }
   ],
   "source": [
    "df.info()"
   ]
  },
  {
   "cell_type": "markdown",
   "id": "be1512b9",
   "metadata": {},
   "source": [
    "Il metodo `.info()` è uno strumento diagnostico utile per esplorare velocemente la struttura di un DataFrame.\n",
    "\n",
    "In particolare, fornisce:\n",
    "1. Il tipo di indice utilizzato (es. RangeIndex, DatetimeIndex, etc.) e il numero totale di righe.\n",
    "2. Per ciascuna colonna:\n",
    "* il nome della colonna\n",
    "* il numero di valori NON nulli (cioè le celle con dati validi)\n",
    "* il tipo di dato (es. int64, float64, object)\n",
    "* NON mostra quanti valori nulli ci sono, ma solo quanti NON nulli.\n",
    "3. Il numero totale di colonne.\n",
    "4. La quantità totale di memoria occupata dal DataFrame.\n",
    "\n",
    "Questo metodo è particolarmente utile per:\n",
    "- Individuare rapidamente colonne con dati mancanti (guardando se i valori non nulli sono inferiori al numero totale di righe)\n",
    "- Capire se i tipi di dato sono corretti (es. colonne numeriche non interpretate come stringhe)\n",
    "- Avere un’idea della dimensione in memoria del DataFrame."
   ]
  },
  {
   "cell_type": "code",
   "execution_count": 49,
   "id": "d9a09639",
   "metadata": {},
   "outputs": [
    {
     "data": {
      "text/plain": [
       "item\n",
       "crackers      10.0\n",
       "club soda      NaN\n",
       "apple         95.0\n",
       "banana       105.0\n",
       "spam           NaN\n",
       "Name: calories, dtype: float64"
      ]
     },
     "execution_count": 49,
     "metadata": {},
     "output_type": "execute_result"
    }
   ],
   "source": [
    "df.calories"
   ]
  },
  {
   "cell_type": "markdown",
   "id": "9295edb6",
   "metadata": {},
   "source": [
    "# `NaN`\n",
    "`NaN` sta per \"Not a Number\", cioè \"non un numero\", ed è un valore speciale utilizzato per indicare l'assenza di un dato o un valore mancante.\n",
    "\n",
    "In Python (e librerie come Pandas o NumPy), NaN rappresenta:\n",
    "* un valore numerico indefinito\n",
    "* un dato assente in una cella\n",
    "* un placeholder per i missing data"
   ]
  },
  {
   "cell_type": "code",
   "execution_count": 50,
   "id": "9cd82fa1",
   "metadata": {
    "scrolled": true
   },
   "outputs": [
    {
     "data": {
      "text/plain": [
       "item\n",
       "crackers     2.99\n",
       "club soda    2.25\n",
       "apple        1.99\n",
       "banana        NaN\n",
       "spam          NaN\n",
       "Name: price, dtype: float64"
      ]
     },
     "execution_count": 50,
     "metadata": {},
     "output_type": "execute_result"
    }
   ],
   "source": [
    "df.price"
   ]
  },
  {
   "cell_type": "markdown",
   "id": "be909f02",
   "metadata": {},
   "source": [
    "NaN ci permette di fare matematica senza ricevere errori di esecuzione: le funzioni statistiche in Pandas ignorano automaticamente i NaN"
   ]
  },
  {
   "cell_type": "code",
   "execution_count": 51,
   "id": "3ff30bf8",
   "metadata": {},
   "outputs": [
    {
     "data": {
      "text/plain": [
       "70.0"
      ]
     },
     "execution_count": 51,
     "metadata": {},
     "output_type": "execute_result"
    }
   ],
   "source": [
    "df.calories.mean()"
   ]
  },
  {
   "cell_type": "code",
   "execution_count": 52,
   "id": "75b7e8bd",
   "metadata": {
    "scrolled": true
   },
   "outputs": [
    {
     "data": {
      "text/plain": [
       "2.41"
      ]
     },
     "execution_count": 52,
     "metadata": {},
     "output_type": "execute_result"
    }
   ],
   "source": [
    "df.price.mean()"
   ]
  },
  {
   "cell_type": "markdown",
   "id": "2fa07969",
   "metadata": {},
   "source": [
    "# `.value_counts`\n",
    "Il metodo `.value_counts()` ignora automaticamente i valori NaN quando conta la frequenza dei valori in una colonna."
   ]
  },
  {
   "cell_type": "code",
   "execution_count": 53,
   "id": "ef7484b6",
   "metadata": {},
   "outputs": [
    {
     "data": {
      "text/plain": [
       "sodium\n",
       "125mg    1\n",
       "75mg     1\n",
       "1mg      1\n",
       "Name: count, dtype: int64"
      ]
     },
     "execution_count": 53,
     "metadata": {},
     "output_type": "execute_result"
    }
   ],
   "source": [
    "df.sodium.value_counts()"
   ]
  },
  {
   "cell_type": "markdown",
   "id": "7d765943",
   "metadata": {},
   "source": [
    "`value_counts` è una funzione molto importante perchè ci aiuta a comprendere la distribuzione di frequenza che è  utile con i diagrammi a barre per una visualizzazione rapida dei dati. \n",
    "\n",
    "* `.value_counts()` → conta quante volte appare ciascun valore diverso da NaN\n",
    "* `dropna=False` → dice a Pandas: \"Non escludere i NaN, mostrameli nel conteggio\"\n",
    "\n",
    "Sto contando tutti i valori presenti nella colonna sodium, inclusi quelli mancanti (NaN).\n",
    "\n",
    "`dropna=False` ci permette di includere i valori mancanti nel conteggio, così possiamo sapere quante celle sono vuote in quella colonna."
   ]
  },
  {
   "cell_type": "code",
   "execution_count": 55,
   "id": "5b08a6a3",
   "metadata": {},
   "outputs": [
    {
     "data": {
      "text/plain": [
       "sodium\n",
       "None     2\n",
       "125mg    1\n",
       "75mg     1\n",
       "1mg      1\n",
       "Name: count, dtype: int64"
      ]
     },
     "execution_count": 55,
     "metadata": {},
     "output_type": "execute_result"
    }
   ],
   "source": [
    "df.sodium.value_counts(dropna=False)"
   ]
  },
  {
   "cell_type": "markdown",
   "id": "f1350db5",
   "metadata": {},
   "source": [
    "# `None`\n",
    "Il valore speciale `None` viene usato per rappresentare \"nessun valore\" o un dato mancante.\n",
    "Quando creiamo un DataFrame e ci inseriemo una stringa mancante usando `None`, Pandas la interpreta come valore mancante, e la converte in `NaN (Not a Number)`, anche se è una colonna di tipo object (stringa)."
   ]
  },
  {
   "cell_type": "code",
   "execution_count": 27,
   "id": "94b1d240",
   "metadata": {},
   "outputs": [
    {
     "data": {
      "text/plain": [
       "item\n",
       "crackers     1.1g\n",
       "club soda    None\n",
       "apple        None\n",
       "banana       0.4g\n",
       "spam         None\n",
       "Name: fat, dtype: object"
      ]
     },
     "execution_count": 27,
     "metadata": {},
     "output_type": "execute_result"
    }
   ],
   "source": [
    "df.fat"
   ]
  },
  {
   "cell_type": "code",
   "execution_count": 28,
   "id": "1a60be97",
   "metadata": {
    "scrolled": true
   },
   "outputs": [
    {
     "data": {
      "text/plain": [
       "item\n",
       "crackers     125mg\n",
       "club soda     75mg\n",
       "apple         None\n",
       "banana         1mg\n",
       "spam          None\n",
       "Name: sodium, dtype: object"
      ]
     },
     "execution_count": 28,
     "metadata": {},
     "output_type": "execute_result"
    }
   ],
   "source": [
    "df.sodium"
   ]
  },
  {
   "cell_type": "markdown",
   "id": "27855895",
   "metadata": {},
   "source": [
    "# `.isna()`\n",
    "Il metodo `.isna()` è lo strumento principale per individuare i valori mancanti `(NaN o None)` in Pandas.\n",
    "\n",
    "Funziona in due modi:\n",
    "\n",
    "1. Applicato a una singola colonna:\n",
    "* Restituisce una Series booleana, con `True` dove il valore è mancante, e `False` dove è presente.\n",
    "\n",
    "2. Applicato all'intero DataFrame:\n",
    "* Restituisce una matrice (DataFrame) di valori booleani della stessa forma, con `True` per ogni cella mancante.\n",
    "\n",
    "È molto utile in combinazione con altri metodi, come `.sum()`, `.any()`, `.all()`, o per filtrare righe con valori mancanti."
   ]
  },
  {
   "cell_type": "code",
   "execution_count": 29,
   "id": "6287b882",
   "metadata": {},
   "outputs": [
    {
     "data": {
      "text/plain": [
       "item\n",
       "crackers     False\n",
       "club soda     True\n",
       "apple         True\n",
       "banana       False\n",
       "spam          True\n",
       "Name: fat, dtype: bool"
      ]
     },
     "execution_count": 29,
     "metadata": {},
     "output_type": "execute_result"
    }
   ],
   "source": [
    "df.fat.isna()"
   ]
  },
  {
   "cell_type": "code",
   "execution_count": 30,
   "id": "03ed8232",
   "metadata": {},
   "outputs": [
    {
     "data": {
      "text/html": [
       "<div>\n",
       "<style scoped>\n",
       "    .dataframe tbody tr th:only-of-type {\n",
       "        vertical-align: middle;\n",
       "    }\n",
       "\n",
       "    .dataframe tbody tr th {\n",
       "        vertical-align: top;\n",
       "    }\n",
       "\n",
       "    .dataframe thead th {\n",
       "        text-align: right;\n",
       "    }\n",
       "</style>\n",
       "<table border=\"1\" class=\"dataframe\">\n",
       "  <thead>\n",
       "    <tr style=\"text-align: right;\">\n",
       "      <th></th>\n",
       "      <th>serving_size</th>\n",
       "      <th>calories</th>\n",
       "      <th>fat</th>\n",
       "      <th>sodium</th>\n",
       "      <th>price</th>\n",
       "      <th>discount</th>\n",
       "    </tr>\n",
       "    <tr>\n",
       "      <th>item</th>\n",
       "      <th></th>\n",
       "      <th></th>\n",
       "      <th></th>\n",
       "      <th></th>\n",
       "      <th></th>\n",
       "      <th></th>\n",
       "    </tr>\n",
       "  </thead>\n",
       "  <tbody>\n",
       "    <tr>\n",
       "      <th>crackers</th>\n",
       "      <td>4 crackers</td>\n",
       "      <td>10.0</td>\n",
       "      <td>1.1g</td>\n",
       "      <td>125mg</td>\n",
       "      <td>2.99</td>\n",
       "      <td>None</td>\n",
       "    </tr>\n",
       "    <tr>\n",
       "      <th>club soda</th>\n",
       "      <td>8 oz</td>\n",
       "      <td>NaN</td>\n",
       "      <td>None</td>\n",
       "      <td>75mg</td>\n",
       "      <td>2.25</td>\n",
       "      <td>None</td>\n",
       "    </tr>\n",
       "    <tr>\n",
       "      <th>apple</th>\n",
       "      <td>2</td>\n",
       "      <td>95.0</td>\n",
       "      <td>None</td>\n",
       "      <td>None</td>\n",
       "      <td>1.99</td>\n",
       "      <td>None</td>\n",
       "    </tr>\n",
       "    <tr>\n",
       "      <th>banana</th>\n",
       "      <td>3</td>\n",
       "      <td>105.0</td>\n",
       "      <td>0.4g</td>\n",
       "      <td>1mg</td>\n",
       "      <td>NaN</td>\n",
       "      <td>None</td>\n",
       "    </tr>\n",
       "    <tr>\n",
       "      <th>spam</th>\n",
       "      <td>1 tin</td>\n",
       "      <td>NaN</td>\n",
       "      <td>None</td>\n",
       "      <td>None</td>\n",
       "      <td>NaN</td>\n",
       "      <td>None</td>\n",
       "    </tr>\n",
       "  </tbody>\n",
       "</table>\n",
       "</div>"
      ],
      "text/plain": [
       "          serving_size  calories   fat sodium  price discount\n",
       "item                                                         \n",
       "crackers    4 crackers      10.0  1.1g  125mg   2.99     None\n",
       "club soda         8 oz       NaN  None   75mg   2.25     None\n",
       "apple                2      95.0  None   None   1.99     None\n",
       "banana               3     105.0  0.4g    1mg    NaN     None\n",
       "spam             1 tin       NaN  None   None    NaN     None"
      ]
     },
     "execution_count": 30,
     "metadata": {},
     "output_type": "execute_result"
    }
   ],
   "source": [
    "df"
   ]
  },
  {
   "cell_type": "code",
   "execution_count": 44,
   "id": "aa29eb00",
   "metadata": {
    "scrolled": false
   },
   "outputs": [
    {
     "data": {
      "text/html": [
       "<div>\n",
       "<style scoped>\n",
       "    .dataframe tbody tr th:only-of-type {\n",
       "        vertical-align: middle;\n",
       "    }\n",
       "\n",
       "    .dataframe tbody tr th {\n",
       "        vertical-align: top;\n",
       "    }\n",
       "\n",
       "    .dataframe thead th {\n",
       "        text-align: right;\n",
       "    }\n",
       "</style>\n",
       "<table border=\"1\" class=\"dataframe\">\n",
       "  <thead>\n",
       "    <tr style=\"text-align: right;\">\n",
       "      <th></th>\n",
       "      <th>serving_size</th>\n",
       "      <th>calories</th>\n",
       "      <th>fat</th>\n",
       "      <th>sodium</th>\n",
       "      <th>price</th>\n",
       "      <th>discount</th>\n",
       "    </tr>\n",
       "    <tr>\n",
       "      <th>item</th>\n",
       "      <th></th>\n",
       "      <th></th>\n",
       "      <th></th>\n",
       "      <th></th>\n",
       "      <th></th>\n",
       "      <th></th>\n",
       "    </tr>\n",
       "  </thead>\n",
       "  <tbody>\n",
       "    <tr>\n",
       "      <th>crackers</th>\n",
       "      <td>False</td>\n",
       "      <td>False</td>\n",
       "      <td>False</td>\n",
       "      <td>False</td>\n",
       "      <td>False</td>\n",
       "      <td>True</td>\n",
       "    </tr>\n",
       "    <tr>\n",
       "      <th>club soda</th>\n",
       "      <td>False</td>\n",
       "      <td>True</td>\n",
       "      <td>True</td>\n",
       "      <td>False</td>\n",
       "      <td>False</td>\n",
       "      <td>True</td>\n",
       "    </tr>\n",
       "    <tr>\n",
       "      <th>apple</th>\n",
       "      <td>False</td>\n",
       "      <td>False</td>\n",
       "      <td>True</td>\n",
       "      <td>True</td>\n",
       "      <td>False</td>\n",
       "      <td>True</td>\n",
       "    </tr>\n",
       "    <tr>\n",
       "      <th>banana</th>\n",
       "      <td>False</td>\n",
       "      <td>False</td>\n",
       "      <td>False</td>\n",
       "      <td>False</td>\n",
       "      <td>True</td>\n",
       "      <td>True</td>\n",
       "    </tr>\n",
       "    <tr>\n",
       "      <th>spam</th>\n",
       "      <td>False</td>\n",
       "      <td>True</td>\n",
       "      <td>True</td>\n",
       "      <td>True</td>\n",
       "      <td>True</td>\n",
       "      <td>True</td>\n",
       "    </tr>\n",
       "  </tbody>\n",
       "</table>\n",
       "</div>"
      ],
      "text/plain": [
       "           serving_size  calories    fat  sodium  price  discount\n",
       "item                                                             \n",
       "crackers          False     False  False   False  False      True\n",
       "club soda         False      True   True   False  False      True\n",
       "apple             False     False   True    True  False      True\n",
       "banana            False     False  False   False   True      True\n",
       "spam              False      True   True    True   True      True"
      ]
     },
     "execution_count": 44,
     "metadata": {},
     "output_type": "execute_result"
    }
   ],
   "source": [
    "df.isna()"
   ]
  },
  {
   "cell_type": "markdown",
   "id": "adde5ec3",
   "metadata": {},
   "source": [
    "# Calcoliamo il numero di valori mancanti (NaN)\n",
    "Possiamo calcolare il numero di valori mancanti (NaN) in ogni colonna perché in Pandas i valori booleani sono trattati come numeri:\n",
    "- True = 1\n",
    "- False = 0\n",
    "\n",
    "1. Il metodo .isna() restituisce un DataFrame booleano, con True dove il valore è mancante.\n",
    "2. Usando `.sum()`, Pandas somma i `True`→ cioè conta i `NaN`."
   ]
  },
  {
   "cell_type": "code",
   "execution_count": 19,
   "id": "32feee21",
   "metadata": {},
   "outputs": [
    {
     "name": "stdout",
     "output_type": "stream",
     "text": [
      "Number of nulls by column\n"
     ]
    },
    {
     "data": {
      "text/plain": [
       "serving_size    0\n",
       "calories        2\n",
       "fat             3\n",
       "sodium          2\n",
       "price           2\n",
       "discount        5\n",
       "dtype: int64"
      ]
     },
     "execution_count": 19,
     "metadata": {},
     "output_type": "execute_result"
    }
   ],
   "source": [
    "\n",
    "print(\"Number of nulls by column\")\n",
    "df.isna().sum()"
   ]
  },
  {
   "cell_type": "code",
   "execution_count": 20,
   "id": "bf9eee13",
   "metadata": {},
   "outputs": [
    {
     "name": "stdout",
     "output_type": "stream",
     "text": [
      "Proportion of nulls by column\n"
     ]
    },
    {
     "data": {
      "text/plain": [
       "serving_size    0.0\n",
       "calories        0.4\n",
       "fat             0.6\n",
       "sodium          0.4\n",
       "price           0.4\n",
       "discount        1.0\n",
       "dtype: float64"
      ]
     },
     "execution_count": 20,
     "metadata": {},
     "output_type": "execute_result"
    }
   ],
   "source": [
    "# per comprendere la proporzione dei dati persi possiamo utilizzare mean\n",
    "# in questo modo otteniamo il numero di righe di dati persi su totale degli oggetti dato. \n",
    "# serving_size percentuale zero di dati persi\n",
    "print(\"Proportion of nulls by column\")\n",
    "df.isna().mean()"
   ]
  },
  {
   "cell_type": "code",
   "execution_count": 21,
   "id": "1e9fb285",
   "metadata": {},
   "outputs": [
    {
     "name": "stdout",
     "output_type": "stream",
     "text": [
      "Number of nulls by row\n"
     ]
    },
    {
     "data": {
      "text/plain": [
       "item\n",
       "crackers     1\n",
       "club soda    3\n",
       "apple        3\n",
       "banana       2\n",
       "spam         5\n",
       "dtype: int64"
      ]
     },
     "execution_count": 21,
     "metadata": {},
     "output_type": "execute_result"
    }
   ],
   "source": [
    "# possiamo realizzare il conteggio del numero di dati persi per riga\n",
    "# Ricorda che .sum può essere eseguito su colonne o per riga, per riga impostando axis=1 che sovrascrive\n",
    "# l'argomento di default axis = 0\n",
    "print(\"Number of nulls by row\")\n",
    "df.isna().sum(axis=1)"
   ]
  },
  {
   "cell_type": "code",
   "execution_count": 22,
   "id": "8bb4cbd4",
   "metadata": {},
   "outputs": [
    {
     "data": {
      "text/html": [
       "<div>\n",
       "<style scoped>\n",
       "    .dataframe tbody tr th:only-of-type {\n",
       "        vertical-align: middle;\n",
       "    }\n",
       "\n",
       "    .dataframe tbody tr th {\n",
       "        vertical-align: top;\n",
       "    }\n",
       "\n",
       "    .dataframe thead th {\n",
       "        text-align: right;\n",
       "    }\n",
       "</style>\n",
       "<table border=\"1\" class=\"dataframe\">\n",
       "  <thead>\n",
       "    <tr style=\"text-align: right;\">\n",
       "      <th></th>\n",
       "      <th>serving_size</th>\n",
       "      <th>calories</th>\n",
       "      <th>fat</th>\n",
       "      <th>sodium</th>\n",
       "      <th>price</th>\n",
       "      <th>discount</th>\n",
       "    </tr>\n",
       "    <tr>\n",
       "      <th>item</th>\n",
       "      <th></th>\n",
       "      <th></th>\n",
       "      <th></th>\n",
       "      <th></th>\n",
       "      <th></th>\n",
       "      <th></th>\n",
       "    </tr>\n",
       "  </thead>\n",
       "  <tbody>\n",
       "    <tr>\n",
       "      <th>crackers</th>\n",
       "      <td>4 crackers</td>\n",
       "      <td>10.0</td>\n",
       "      <td>1.1g</td>\n",
       "      <td>125mg</td>\n",
       "      <td>2.99</td>\n",
       "      <td>None</td>\n",
       "    </tr>\n",
       "    <tr>\n",
       "      <th>club soda</th>\n",
       "      <td>8 oz</td>\n",
       "      <td>NaN</td>\n",
       "      <td>None</td>\n",
       "      <td>75mg</td>\n",
       "      <td>2.25</td>\n",
       "      <td>None</td>\n",
       "    </tr>\n",
       "    <tr>\n",
       "      <th>apple</th>\n",
       "      <td>2</td>\n",
       "      <td>95.0</td>\n",
       "      <td>None</td>\n",
       "      <td>None</td>\n",
       "      <td>1.99</td>\n",
       "      <td>None</td>\n",
       "    </tr>\n",
       "    <tr>\n",
       "      <th>banana</th>\n",
       "      <td>3</td>\n",
       "      <td>105.0</td>\n",
       "      <td>0.4g</td>\n",
       "      <td>1mg</td>\n",
       "      <td>NaN</td>\n",
       "      <td>None</td>\n",
       "    </tr>\n",
       "    <tr>\n",
       "      <th>spam</th>\n",
       "      <td>1 tin</td>\n",
       "      <td>NaN</td>\n",
       "      <td>None</td>\n",
       "      <td>None</td>\n",
       "      <td>NaN</td>\n",
       "      <td>None</td>\n",
       "    </tr>\n",
       "  </tbody>\n",
       "</table>\n",
       "</div>"
      ],
      "text/plain": [
       "          serving_size  calories   fat sodium  price discount\n",
       "item                                                         \n",
       "crackers    4 crackers      10.0  1.1g  125mg   2.99     None\n",
       "club soda         8 oz       NaN  None   75mg   2.25     None\n",
       "apple                2      95.0  None   None   1.99     None\n",
       "banana               3     105.0  0.4g    1mg    NaN     None\n",
       "spam             1 tin       NaN  None   None    NaN     None"
      ]
     },
     "execution_count": 22,
     "metadata": {},
     "output_type": "execute_result"
    }
   ],
   "source": [
    "df"
   ]
  },
  {
   "cell_type": "code",
   "execution_count": 23,
   "id": "96a32b29",
   "metadata": {
    "scrolled": true
   },
   "outputs": [
    {
     "name": "stdout",
     "output_type": "stream",
     "text": [
      "Proportion of nulls by row\n"
     ]
    },
    {
     "data": {
      "text/plain": [
       "item\n",
       "crackers     0.166667\n",
       "club soda    0.500000\n",
       "apple        0.500000\n",
       "banana       0.333333\n",
       "spam         0.833333\n",
       "dtype: float64"
      ]
     },
     "execution_count": 23,
     "metadata": {},
     "output_type": "execute_result"
    }
   ],
   "source": [
    "# Proporzione del numero di nulli per riga\n",
    "# Ricorda che .sum può essere eseguito su colonne o per riga, per riga con axis=1\n",
    "print(\"Proportion of nulls by row\")\n",
    "df.isna().mean(axis=1)"
   ]
  },
  {
   "cell_type": "markdown",
   "id": "a1307562",
   "metadata": {},
   "source": [
    "# Esercitazione\n",
    "Abbiamo a disposizione un dataset che contiene informazioni nutrizionali su alcuni alimenti. \\\n",
    "Purtroppo, alcuni dati non sono stati registrati correttamente (mancano calorie, sodio o prezzo)."
   ]
  },
  {
   "cell_type": "code",
   "execution_count": 32,
   "id": "c346859c",
   "metadata": {},
   "outputs": [
    {
     "data": {
      "text/html": [
       "<div>\n",
       "<style scoped>\n",
       "    .dataframe tbody tr th:only-of-type {\n",
       "        vertical-align: middle;\n",
       "    }\n",
       "\n",
       "    .dataframe tbody tr th {\n",
       "        vertical-align: top;\n",
       "    }\n",
       "\n",
       "    .dataframe thead th {\n",
       "        text-align: right;\n",
       "    }\n",
       "</style>\n",
       "<table border=\"1\" class=\"dataframe\">\n",
       "  <thead>\n",
       "    <tr style=\"text-align: right;\">\n",
       "      <th></th>\n",
       "      <th>calorie</th>\n",
       "      <th>sodio</th>\n",
       "      <th>prezzo</th>\n",
       "    </tr>\n",
       "    <tr>\n",
       "      <th>alimento</th>\n",
       "      <th></th>\n",
       "      <th></th>\n",
       "      <th></th>\n",
       "    </tr>\n",
       "  </thead>\n",
       "  <tbody>\n",
       "    <tr>\n",
       "      <th>cracker</th>\n",
       "      <td>10.0</td>\n",
       "      <td>125mg</td>\n",
       "      <td>2.99</td>\n",
       "    </tr>\n",
       "    <tr>\n",
       "      <th>soda</th>\n",
       "      <td>NaN</td>\n",
       "      <td>75mg</td>\n",
       "      <td>2.25</td>\n",
       "    </tr>\n",
       "    <tr>\n",
       "      <th>mela</th>\n",
       "      <td>95.0</td>\n",
       "      <td>NaN</td>\n",
       "      <td>1.99</td>\n",
       "    </tr>\n",
       "    <tr>\n",
       "      <th>banana</th>\n",
       "      <td>105.0</td>\n",
       "      <td>1mg</td>\n",
       "      <td>NaN</td>\n",
       "    </tr>\n",
       "    <tr>\n",
       "      <th>spam</th>\n",
       "      <td>NaN</td>\n",
       "      <td>NaN</td>\n",
       "      <td>NaN</td>\n",
       "    </tr>\n",
       "  </tbody>\n",
       "</table>\n",
       "</div>"
      ],
      "text/plain": [
       "          calorie  sodio  prezzo\n",
       "alimento                        \n",
       "cracker      10.0  125mg    2.99\n",
       "soda          NaN   75mg    2.25\n",
       "mela         95.0    NaN    1.99\n",
       "banana      105.0    1mg     NaN\n",
       "spam          NaN    NaN     NaN"
      ]
     },
     "execution_count": 32,
     "metadata": {},
     "output_type": "execute_result"
    }
   ],
   "source": [
    "import pandas as pd\n",
    "import numpy as np\n",
    "\n",
    "alimenti = pd.DataFrame({\n",
    "    'alimento': ['cracker', 'soda', 'mela', 'banana', 'spam'],\n",
    "    'calorie': [10, np.nan, 95, 105, np.nan],\n",
    "    'sodio': ['125mg', '75mg', np.nan, '1mg', np.nan],\n",
    "    'prezzo': [2.99, 2.25, 1.99, np.nan, np.nan]\n",
    "})\n",
    "alimenti.set_index('alimento', inplace=True)\n",
    "alimenti"
   ]
  },
  {
   "cell_type": "markdown",
   "id": "8c276468",
   "metadata": {},
   "source": [
    "1. Quali celle del DataFrame contengono valori mancanti?\n",
    "2. Quanti valori mancanti ci sono per colonna?\n",
    "3. Quante righe contengono almeno un valore mancante?\n",
    "4. Visualizza solo le righe complete (senza NaN)."
   ]
  },
  {
   "cell_type": "markdown",
   "id": "cada26fa",
   "metadata": {},
   "source": [
    "|<br>\n",
    "|<br>\n",
    "|<br>\n",
    "|<br>\n",
    "|<br>\n",
    "|<br>\n",
    "|<br>\n",
    "|<br>"
   ]
  },
  {
   "cell_type": "code",
   "execution_count": 40,
   "id": "c4e710d3",
   "metadata": {},
   "outputs": [
    {
     "data": {
      "text/html": [
       "<div>\n",
       "<style scoped>\n",
       "    .dataframe tbody tr th:only-of-type {\n",
       "        vertical-align: middle;\n",
       "    }\n",
       "\n",
       "    .dataframe tbody tr th {\n",
       "        vertical-align: top;\n",
       "    }\n",
       "\n",
       "    .dataframe thead th {\n",
       "        text-align: right;\n",
       "    }\n",
       "</style>\n",
       "<table border=\"1\" class=\"dataframe\">\n",
       "  <thead>\n",
       "    <tr style=\"text-align: right;\">\n",
       "      <th></th>\n",
       "      <th>calorie</th>\n",
       "      <th>sodio</th>\n",
       "      <th>prezzo</th>\n",
       "    </tr>\n",
       "    <tr>\n",
       "      <th>alimento</th>\n",
       "      <th></th>\n",
       "      <th></th>\n",
       "      <th></th>\n",
       "    </tr>\n",
       "  </thead>\n",
       "  <tbody>\n",
       "    <tr>\n",
       "      <th>cracker</th>\n",
       "      <td>False</td>\n",
       "      <td>False</td>\n",
       "      <td>False</td>\n",
       "    </tr>\n",
       "    <tr>\n",
       "      <th>soda</th>\n",
       "      <td>True</td>\n",
       "      <td>False</td>\n",
       "      <td>False</td>\n",
       "    </tr>\n",
       "    <tr>\n",
       "      <th>mela</th>\n",
       "      <td>False</td>\n",
       "      <td>True</td>\n",
       "      <td>False</td>\n",
       "    </tr>\n",
       "    <tr>\n",
       "      <th>banana</th>\n",
       "      <td>False</td>\n",
       "      <td>False</td>\n",
       "      <td>False</td>\n",
       "    </tr>\n",
       "    <tr>\n",
       "      <th>spam</th>\n",
       "      <td>True</td>\n",
       "      <td>True</td>\n",
       "      <td>False</td>\n",
       "    </tr>\n",
       "  </tbody>\n",
       "</table>\n",
       "</div>"
      ],
      "text/plain": [
       "          calorie  sodio  prezzo\n",
       "alimento                        \n",
       "cracker     False  False   False\n",
       "soda         True  False   False\n",
       "mela        False   True   False\n",
       "banana      False  False   False\n",
       "spam         True   True   False"
      ]
     },
     "execution_count": 40,
     "metadata": {},
     "output_type": "execute_result"
    }
   ],
   "source": [
    "# 1. Individuare le celle mancanti\n",
    "alimenti.isna()"
   ]
  },
  {
   "cell_type": "code",
   "execution_count": 41,
   "id": "9f0365fa",
   "metadata": {},
   "outputs": [
    {
     "data": {
      "text/plain": [
       "calorie    2\n",
       "sodio      2\n",
       "prezzo     0\n",
       "dtype: int64"
      ]
     },
     "execution_count": 41,
     "metadata": {},
     "output_type": "execute_result"
    }
   ],
   "source": [
    "# 2. Contare i valori mancanti per colonna\n",
    "alimenti.isna().sum()"
   ]
  },
  {
   "cell_type": "code",
   "execution_count": 42,
   "id": "47235074",
   "metadata": {},
   "outputs": [
    {
     "data": {
      "text/plain": [
       "3"
      ]
     },
     "execution_count": 42,
     "metadata": {},
     "output_type": "execute_result"
    }
   ],
   "source": [
    "# 3. Righe con almeno un NaN\n",
    "alimenti.isna().any(axis=1).sum()"
   ]
  },
  {
   "cell_type": "code",
   "execution_count": 43,
   "id": "9bc7d087",
   "metadata": {},
   "outputs": [
    {
     "data": {
      "text/html": [
       "<div>\n",
       "<style scoped>\n",
       "    .dataframe tbody tr th:only-of-type {\n",
       "        vertical-align: middle;\n",
       "    }\n",
       "\n",
       "    .dataframe tbody tr th {\n",
       "        vertical-align: top;\n",
       "    }\n",
       "\n",
       "    .dataframe thead th {\n",
       "        text-align: right;\n",
       "    }\n",
       "</style>\n",
       "<table border=\"1\" class=\"dataframe\">\n",
       "  <thead>\n",
       "    <tr style=\"text-align: right;\">\n",
       "      <th></th>\n",
       "      <th>calorie</th>\n",
       "      <th>sodio</th>\n",
       "      <th>prezzo</th>\n",
       "    </tr>\n",
       "    <tr>\n",
       "      <th>alimento</th>\n",
       "      <th></th>\n",
       "      <th></th>\n",
       "      <th></th>\n",
       "    </tr>\n",
       "  </thead>\n",
       "  <tbody>\n",
       "    <tr>\n",
       "      <th>cracker</th>\n",
       "      <td>10.0</td>\n",
       "      <td>125mg</td>\n",
       "      <td>2.99</td>\n",
       "    </tr>\n",
       "    <tr>\n",
       "      <th>banana</th>\n",
       "      <td>105.0</td>\n",
       "      <td>1mg</td>\n",
       "      <td>0.00</td>\n",
       "    </tr>\n",
       "  </tbody>\n",
       "</table>\n",
       "</div>"
      ],
      "text/plain": [
       "          calorie  sodio  prezzo\n",
       "alimento                        \n",
       "cracker      10.0  125mg    2.99\n",
       "banana      105.0    1mg    0.00"
      ]
     },
     "execution_count": 43,
     "metadata": {},
     "output_type": "execute_result"
    }
   ],
   "source": [
    "# 4. Righe complete\n",
    "alimenti[alimenti.notna().all(axis=1)]"
   ]
  },
  {
   "cell_type": "code",
   "execution_count": null,
   "id": "7d56b7a0",
   "metadata": {},
   "outputs": [],
   "source": []
  },
  {
   "cell_type": "markdown",
   "id": "ccad9754",
   "metadata": {},
   "source": [
    "# Gestione dei valori mancanti\n",
    "\n",
    "- Non c'è una risposta giusta per tutti i casi.\n",
    "- \"Dipende\" è una risposta comune nella scienza dei dati. Il contesto è importante.\n",
    "- A volte i valori mancanti potrebbero significare zero, a seconda del contesto, quindi possiamo riempire zero.\n",
    "- A volte, eliminare intere righe o colonne è appropriato\n",
    "- A volte, riempire i valori mancanti ha senso per mantenere il resto dei dati della riga o della colonna"
   ]
  },
  {
   "cell_type": "markdown",
   "id": "2c133521",
   "metadata": {},
   "source": [
    "# `.dropna()`\n",
    "Il metodo `.dropna()` è uno strumento fondamentale per eliminare le righe con valori mancanti. \\\n",
    "Elimina tutte le righe che contengono almeno un valore mancante (NaN o None).\n",
    "\n",
    "### Parametri utili\n",
    "* `axis=0` (default): elimina righe con NaN\n",
    "* `axis=1`: elimina colonne con NaN\n",
    "* `how='any'` (default): elimina se almeno un valore è mancante\n",
    "* `how='all'`: elimina solo se tutti i valori sono mancanti\n",
    "* `subset=['col1', 'col2']`: controlla solo certe colonne\n"
   ]
  },
  {
   "cell_type": "code",
   "execution_count": 56,
   "id": "950304d1",
   "metadata": {},
   "outputs": [
    {
     "data": {
      "text/html": [
       "<div>\n",
       "<style scoped>\n",
       "    .dataframe tbody tr th:only-of-type {\n",
       "        vertical-align: middle;\n",
       "    }\n",
       "\n",
       "    .dataframe tbody tr th {\n",
       "        vertical-align: top;\n",
       "    }\n",
       "\n",
       "    .dataframe thead th {\n",
       "        text-align: right;\n",
       "    }\n",
       "</style>\n",
       "<table border=\"1\" class=\"dataframe\">\n",
       "  <thead>\n",
       "    <tr style=\"text-align: right;\">\n",
       "      <th></th>\n",
       "      <th>serving_size</th>\n",
       "      <th>calories</th>\n",
       "      <th>fat</th>\n",
       "      <th>sodium</th>\n",
       "      <th>price</th>\n",
       "      <th>discount</th>\n",
       "    </tr>\n",
       "    <tr>\n",
       "      <th>item</th>\n",
       "      <th></th>\n",
       "      <th></th>\n",
       "      <th></th>\n",
       "      <th></th>\n",
       "      <th></th>\n",
       "      <th></th>\n",
       "    </tr>\n",
       "  </thead>\n",
       "  <tbody>\n",
       "  </tbody>\n",
       "</table>\n",
       "</div>"
      ],
      "text/plain": [
       "Empty DataFrame\n",
       "Columns: [serving_size, calories, fat, sodium, price, discount]\n",
       "Index: []"
      ]
     },
     "execution_count": 56,
     "metadata": {},
     "output_type": "execute_result"
    }
   ],
   "source": [
    "df.dropna() # elimina ogni riga con valore nullo, almeno uno -> distruttivo attenzione "
   ]
  },
  {
   "cell_type": "code",
   "execution_count": 57,
   "id": "24bb2a02",
   "metadata": {},
   "outputs": [
    {
     "data": {
      "text/html": [
       "<div>\n",
       "<style scoped>\n",
       "    .dataframe tbody tr th:only-of-type {\n",
       "        vertical-align: middle;\n",
       "    }\n",
       "\n",
       "    .dataframe tbody tr th {\n",
       "        vertical-align: top;\n",
       "    }\n",
       "\n",
       "    .dataframe thead th {\n",
       "        text-align: right;\n",
       "    }\n",
       "</style>\n",
       "<table border=\"1\" class=\"dataframe\">\n",
       "  <thead>\n",
       "    <tr style=\"text-align: right;\">\n",
       "      <th></th>\n",
       "      <th>serving_size</th>\n",
       "    </tr>\n",
       "    <tr>\n",
       "      <th>item</th>\n",
       "      <th></th>\n",
       "    </tr>\n",
       "  </thead>\n",
       "  <tbody>\n",
       "    <tr>\n",
       "      <th>crackers</th>\n",
       "      <td>4 crackers</td>\n",
       "    </tr>\n",
       "    <tr>\n",
       "      <th>club soda</th>\n",
       "      <td>8 oz</td>\n",
       "    </tr>\n",
       "    <tr>\n",
       "      <th>apple</th>\n",
       "      <td>2</td>\n",
       "    </tr>\n",
       "    <tr>\n",
       "      <th>banana</th>\n",
       "      <td>3</td>\n",
       "    </tr>\n",
       "    <tr>\n",
       "      <th>spam</th>\n",
       "      <td>1 tin</td>\n",
       "    </tr>\n",
       "  </tbody>\n",
       "</table>\n",
       "</div>"
      ],
      "text/plain": [
       "          serving_size\n",
       "item                  \n",
       "crackers    4 crackers\n",
       "club soda         8 oz\n",
       "apple                2\n",
       "banana               3\n",
       "spam             1 tin"
      ]
     },
     "execution_count": 57,
     "metadata": {},
     "output_type": "execute_result"
    }
   ],
   "source": [
    "df.dropna(axis=1) # axis=1 elimina tutte le colonne con eventuali valori mancanti -> distruttivo attenzione"
   ]
  },
  {
   "cell_type": "markdown",
   "id": "ec2d4904",
   "metadata": {},
   "source": [
    "# Esercitazione"
   ]
  },
  {
   "cell_type": "code",
   "execution_count": null,
   "id": "3691c799",
   "metadata": {},
   "outputs": [],
   "source": [
    "import pandas as pd\n",
    "import numpy as np\n",
    "\n",
    "tabella = pd.DataFrame({\n",
    "    'alimento': ['mela', 'banana', 'cracker', 'soda', 'spam'],\n",
    "    'calorie': [95, 105, 10, np.nan, np.nan],\n",
    "    'sodio': ['1mg', '1mg', '125mg', '75mg', np.nan]\n",
    "})"
   ]
  },
  {
   "cell_type": "markdown",
   "id": "faaf140d",
   "metadata": {},
   "source": [
    "1. Visualizza il DataFrame originale\n",
    "2. Elimina le righe con almeno un valore mancanti\n",
    "3. Visualizza la tabella pulita"
   ]
  },
  {
   "cell_type": "code",
   "execution_count": 59,
   "id": "5b49af31",
   "metadata": {},
   "outputs": [
    {
     "name": "stdout",
     "output_type": "stream",
     "text": [
      "Tabella originale:\n",
      "  alimento  calorie  sodio\n",
      "0     mela     95.0    1mg\n",
      "1   banana    105.0    1mg\n",
      "2  cracker     10.0  125mg\n",
      "3     soda      NaN   75mg\n",
      "4     spam      NaN    NaN\n",
      "\n",
      "Tabella senza valori mancanti:\n",
      "  alimento  calorie  sodio\n",
      "0     mela     95.0    1mg\n",
      "1   banana    105.0    1mg\n",
      "2  cracker     10.0  125mg\n"
     ]
    }
   ],
   "source": [
    "print(\"Tabella originale:\")\n",
    "print(tabella)\n",
    "\n",
    "tabella_pulita = tabella.dropna()\n",
    "\n",
    "print(\"\\nTabella senza valori mancanti:\")\n",
    "print(tabella_pulita)"
   ]
  },
  {
   "cell_type": "markdown",
   "id": "c346a14c",
   "metadata": {},
   "source": [
    "# Analisi di un DataFrame"
   ]
  },
  {
   "cell_type": "code",
   "execution_count": 64,
   "id": "32693b55",
   "metadata": {},
   "outputs": [
    {
     "data": {
      "text/html": [
       "<div>\n",
       "<style scoped>\n",
       "    .dataframe tbody tr th:only-of-type {\n",
       "        vertical-align: middle;\n",
       "    }\n",
       "\n",
       "    .dataframe tbody tr th {\n",
       "        vertical-align: top;\n",
       "    }\n",
       "\n",
       "    .dataframe thead th {\n",
       "        text-align: right;\n",
       "    }\n",
       "</style>\n",
       "<table border=\"1\" class=\"dataframe\">\n",
       "  <thead>\n",
       "    <tr style=\"text-align: right;\">\n",
       "      <th></th>\n",
       "      <th>serving_size</th>\n",
       "      <th>calories</th>\n",
       "      <th>fat</th>\n",
       "      <th>sodium</th>\n",
       "      <th>price</th>\n",
       "      <th>discount</th>\n",
       "    </tr>\n",
       "    <tr>\n",
       "      <th>item</th>\n",
       "      <th></th>\n",
       "      <th></th>\n",
       "      <th></th>\n",
       "      <th></th>\n",
       "      <th></th>\n",
       "      <th></th>\n",
       "    </tr>\n",
       "  </thead>\n",
       "  <tbody>\n",
       "    <tr>\n",
       "      <th>crackers</th>\n",
       "      <td>4 crackers</td>\n",
       "      <td>10.0</td>\n",
       "      <td>1.1g</td>\n",
       "      <td>125mg</td>\n",
       "      <td>2.99</td>\n",
       "      <td>None</td>\n",
       "    </tr>\n",
       "    <tr>\n",
       "      <th>club soda</th>\n",
       "      <td>8 oz</td>\n",
       "      <td>NaN</td>\n",
       "      <td>None</td>\n",
       "      <td>75mg</td>\n",
       "      <td>2.25</td>\n",
       "      <td>None</td>\n",
       "    </tr>\n",
       "    <tr>\n",
       "      <th>apple</th>\n",
       "      <td>2</td>\n",
       "      <td>95.0</td>\n",
       "      <td>None</td>\n",
       "      <td>None</td>\n",
       "      <td>1.99</td>\n",
       "      <td>None</td>\n",
       "    </tr>\n",
       "    <tr>\n",
       "      <th>banana</th>\n",
       "      <td>3</td>\n",
       "      <td>105.0</td>\n",
       "      <td>0.4g</td>\n",
       "      <td>1mg</td>\n",
       "      <td>NaN</td>\n",
       "      <td>None</td>\n",
       "    </tr>\n",
       "    <tr>\n",
       "      <th>spam</th>\n",
       "      <td>1 tin</td>\n",
       "      <td>NaN</td>\n",
       "      <td>None</td>\n",
       "      <td>None</td>\n",
       "      <td>NaN</td>\n",
       "      <td>None</td>\n",
       "    </tr>\n",
       "  </tbody>\n",
       "</table>\n",
       "</div>"
      ],
      "text/plain": [
       "          serving_size  calories   fat sodium  price discount\n",
       "item                                                         \n",
       "crackers    4 crackers      10.0  1.1g  125mg   2.99     None\n",
       "club soda         8 oz       NaN  None   75mg   2.25     None\n",
       "apple                2      95.0  None   None   1.99     None\n",
       "banana               3     105.0  0.4g    1mg    NaN     None\n",
       "spam             1 tin       NaN  None   None    NaN     None"
      ]
     },
     "execution_count": 64,
     "metadata": {},
     "output_type": "execute_result"
    }
   ],
   "source": [
    "df = pd.DataFrame([\n",
    "    {\n",
    "        \"item\": \"crackers\",\n",
    "        \"serving_size\": \"4 crackers\",\n",
    "        \"calories\": 10,\n",
    "        \"fat\": \"1.1g\",\n",
    "        \"sodium\": \"125mg\",\n",
    "        \"price\": 2.99,\n",
    "        \"discount\": None\n",
    "    },\n",
    "    {\n",
    "        \"item\": \"club soda\",\n",
    "        \"serving_size\": \"8 oz\",\n",
    "        \"calories\": None,\n",
    "        \"fat\": None,\n",
    "        \"sodium\": \"75mg\",\n",
    "        \"price\": 2.25,\n",
    "        \"discount\": None\n",
    "\n",
    "    },\n",
    "    {\n",
    "        \"item\": \"apple\",\n",
    "        \"serving_size\": 2,\n",
    "        \"calories\": 95,\n",
    "        \"fat\": None,\n",
    "        \"sodium\": None,\n",
    "        \"price\": 1.99,\n",
    "        \"discount\": None\n",
    "    },\n",
    "    {\n",
    "        \"item\": \"banana\",\n",
    "        \"serving_size\": 3,\n",
    "        \"calories\": 105,\n",
    "        \"fat\": \"0.4g\",\n",
    "        \"sodium\": \"1mg\",\n",
    "        \"price\": None,\n",
    "        \"discount\": None\n",
    "    },\n",
    "    {\n",
    "        \"item\": \"spam\",\n",
    "        \"serving_size\": \"1 tin\",\n",
    "        \"calories\": None,\n",
    "        \"fat\": None,\n",
    "        \"sodium\": None,\n",
    "        \"price\": None,\n",
    "        \"discount\": None\n",
    "    }\n",
    "])\n",
    "\n",
    "df.set_index(\"item\", inplace=True)\n",
    "df"
   ]
  },
  {
   "cell_type": "markdown",
   "id": "90ccdc3a",
   "metadata": {},
   "source": [
    "Questa fase del processo è molto delicata perchè si tratta di pensare e razionalizzare le opzioni più maggiormente difendibili e stabili. \n",
    "\n",
    "# `.drop()`\n",
    "Questo metodo rimuove righe o colonne da un DataFrame. \n",
    "* `inplace=True` modifica il DataFrame in memoria."
   ]
  },
  {
   "cell_type": "code",
   "execution_count": 65,
   "id": "c113d076",
   "metadata": {},
   "outputs": [
    {
     "data": {
      "text/html": [
       "<div>\n",
       "<style scoped>\n",
       "    .dataframe tbody tr th:only-of-type {\n",
       "        vertical-align: middle;\n",
       "    }\n",
       "\n",
       "    .dataframe tbody tr th {\n",
       "        vertical-align: top;\n",
       "    }\n",
       "\n",
       "    .dataframe thead th {\n",
       "        text-align: right;\n",
       "    }\n",
       "</style>\n",
       "<table border=\"1\" class=\"dataframe\">\n",
       "  <thead>\n",
       "    <tr style=\"text-align: right;\">\n",
       "      <th></th>\n",
       "      <th>serving_size</th>\n",
       "      <th>calories</th>\n",
       "      <th>fat</th>\n",
       "      <th>sodium</th>\n",
       "      <th>price</th>\n",
       "    </tr>\n",
       "    <tr>\n",
       "      <th>item</th>\n",
       "      <th></th>\n",
       "      <th></th>\n",
       "      <th></th>\n",
       "      <th></th>\n",
       "      <th></th>\n",
       "    </tr>\n",
       "  </thead>\n",
       "  <tbody>\n",
       "    <tr>\n",
       "      <th>crackers</th>\n",
       "      <td>4 crackers</td>\n",
       "      <td>10.0</td>\n",
       "      <td>1.1g</td>\n",
       "      <td>125mg</td>\n",
       "      <td>2.99</td>\n",
       "    </tr>\n",
       "    <tr>\n",
       "      <th>club soda</th>\n",
       "      <td>8 oz</td>\n",
       "      <td>NaN</td>\n",
       "      <td>None</td>\n",
       "      <td>75mg</td>\n",
       "      <td>2.25</td>\n",
       "    </tr>\n",
       "    <tr>\n",
       "      <th>apple</th>\n",
       "      <td>2</td>\n",
       "      <td>95.0</td>\n",
       "      <td>None</td>\n",
       "      <td>None</td>\n",
       "      <td>1.99</td>\n",
       "    </tr>\n",
       "    <tr>\n",
       "      <th>banana</th>\n",
       "      <td>3</td>\n",
       "      <td>105.0</td>\n",
       "      <td>0.4g</td>\n",
       "      <td>1mg</td>\n",
       "      <td>NaN</td>\n",
       "    </tr>\n",
       "    <tr>\n",
       "      <th>spam</th>\n",
       "      <td>1 tin</td>\n",
       "      <td>NaN</td>\n",
       "      <td>None</td>\n",
       "      <td>None</td>\n",
       "      <td>NaN</td>\n",
       "    </tr>\n",
       "  </tbody>\n",
       "</table>\n",
       "</div>"
      ],
      "text/plain": [
       "          serving_size  calories   fat sodium  price\n",
       "item                                                \n",
       "crackers    4 crackers      10.0  1.1g  125mg   2.99\n",
       "club soda         8 oz       NaN  None   75mg   2.25\n",
       "apple                2      95.0  None   None   1.99\n",
       "banana               3     105.0  0.4g    1mg    NaN\n",
       "spam             1 tin       NaN  None   None    NaN"
      ]
     },
     "execution_count": 65,
     "metadata": {},
     "output_type": "execute_result"
    }
   ],
   "source": [
    "df.drop(columns=\"discount\", inplace=True)\n",
    "df"
   ]
  },
  {
   "cell_type": "markdown",
   "id": "f183259a",
   "metadata": {},
   "source": [
    "## Risorse aggiuntive\n",
    "- [.isnull](https://pandas.pydata.org/docs/reference/api/pandas.DataFrame.isnull.html) è un alias per `isna`.\n",
    "- [.value_counts](https://pandas.pydata.org/docs/reference/api/pandas.Series.value_counts.html) documentazione\n",
    "- [Pandas .isna documentation](https://pandas.pydata.org/pandas-docs/stable/reference/api/pandas.isna.html)"
   ]
  },
  {
   "cell_type": "markdown",
   "id": "40cc58ae",
   "metadata": {},
   "source": [
    "# Esercitazione\n",
    "- Utilizza `pd.read_csv` per leggere `\"penguins.csv\"` all'interno di una variabile DataDrame chiamata `penguins`\n",
    "- Conta il numero di valori mancanti in ogni colonna del DF.\n",
    "- Ottieni la proporzione di valori mancanti (la media) per riga. Memorizza questo su una variabile denominata`percent_missing_by_row`\n",
    "- Ordina il `percent_missing_by_row` in ordine decrescente. Quante delle righe sono per lo più vuote?"
   ]
  },
  {
   "cell_type": "code",
   "execution_count": 69,
   "id": "b851cc92",
   "metadata": {},
   "outputs": [
    {
     "data": {
      "text/html": [
       "<div>\n",
       "<style scoped>\n",
       "    .dataframe tbody tr th:only-of-type {\n",
       "        vertical-align: middle;\n",
       "    }\n",
       "\n",
       "    .dataframe tbody tr th {\n",
       "        vertical-align: top;\n",
       "    }\n",
       "\n",
       "    .dataframe thead th {\n",
       "        text-align: right;\n",
       "    }\n",
       "</style>\n",
       "<table border=\"1\" class=\"dataframe\">\n",
       "  <thead>\n",
       "    <tr style=\"text-align: right;\">\n",
       "      <th></th>\n",
       "      <th>species</th>\n",
       "      <th>island</th>\n",
       "      <th>bill_length_mm</th>\n",
       "      <th>bill_depth_mm</th>\n",
       "      <th>flipper_length_mm</th>\n",
       "      <th>body_mass_g</th>\n",
       "      <th>sex</th>\n",
       "      <th>year</th>\n",
       "    </tr>\n",
       "  </thead>\n",
       "  <tbody>\n",
       "    <tr>\n",
       "      <th>0</th>\n",
       "      <td>Adelie</td>\n",
       "      <td>Torgersen</td>\n",
       "      <td>39.1</td>\n",
       "      <td>18.7</td>\n",
       "      <td>181.0</td>\n",
       "      <td>3750.0</td>\n",
       "      <td>male</td>\n",
       "      <td>2007</td>\n",
       "    </tr>\n",
       "    <tr>\n",
       "      <th>1</th>\n",
       "      <td>Adelie</td>\n",
       "      <td>Torgersen</td>\n",
       "      <td>39.5</td>\n",
       "      <td>17.4</td>\n",
       "      <td>186.0</td>\n",
       "      <td>3800.0</td>\n",
       "      <td>female</td>\n",
       "      <td>2007</td>\n",
       "    </tr>\n",
       "    <tr>\n",
       "      <th>2</th>\n",
       "      <td>Adelie</td>\n",
       "      <td>Torgersen</td>\n",
       "      <td>40.3</td>\n",
       "      <td>18.0</td>\n",
       "      <td>195.0</td>\n",
       "      <td>3250.0</td>\n",
       "      <td>female</td>\n",
       "      <td>2007</td>\n",
       "    </tr>\n",
       "    <tr>\n",
       "      <th>3</th>\n",
       "      <td>Adelie</td>\n",
       "      <td>Torgersen</td>\n",
       "      <td>NaN</td>\n",
       "      <td>NaN</td>\n",
       "      <td>NaN</td>\n",
       "      <td>NaN</td>\n",
       "      <td>NaN</td>\n",
       "      <td>2007</td>\n",
       "    </tr>\n",
       "    <tr>\n",
       "      <th>4</th>\n",
       "      <td>Adelie</td>\n",
       "      <td>Torgersen</td>\n",
       "      <td>36.7</td>\n",
       "      <td>19.3</td>\n",
       "      <td>193.0</td>\n",
       "      <td>3450.0</td>\n",
       "      <td>female</td>\n",
       "      <td>2007</td>\n",
       "    </tr>\n",
       "    <tr>\n",
       "      <th>...</th>\n",
       "      <td>...</td>\n",
       "      <td>...</td>\n",
       "      <td>...</td>\n",
       "      <td>...</td>\n",
       "      <td>...</td>\n",
       "      <td>...</td>\n",
       "      <td>...</td>\n",
       "      <td>...</td>\n",
       "    </tr>\n",
       "    <tr>\n",
       "      <th>339</th>\n",
       "      <td>Chinstrap</td>\n",
       "      <td>Dream</td>\n",
       "      <td>55.8</td>\n",
       "      <td>19.8</td>\n",
       "      <td>207.0</td>\n",
       "      <td>4000.0</td>\n",
       "      <td>male</td>\n",
       "      <td>2009</td>\n",
       "    </tr>\n",
       "    <tr>\n",
       "      <th>340</th>\n",
       "      <td>Chinstrap</td>\n",
       "      <td>Dream</td>\n",
       "      <td>43.5</td>\n",
       "      <td>18.1</td>\n",
       "      <td>202.0</td>\n",
       "      <td>3400.0</td>\n",
       "      <td>female</td>\n",
       "      <td>2009</td>\n",
       "    </tr>\n",
       "    <tr>\n",
       "      <th>341</th>\n",
       "      <td>Chinstrap</td>\n",
       "      <td>Dream</td>\n",
       "      <td>49.6</td>\n",
       "      <td>18.2</td>\n",
       "      <td>193.0</td>\n",
       "      <td>3775.0</td>\n",
       "      <td>male</td>\n",
       "      <td>2009</td>\n",
       "    </tr>\n",
       "    <tr>\n",
       "      <th>342</th>\n",
       "      <td>Chinstrap</td>\n",
       "      <td>Dream</td>\n",
       "      <td>50.8</td>\n",
       "      <td>19.0</td>\n",
       "      <td>210.0</td>\n",
       "      <td>4100.0</td>\n",
       "      <td>male</td>\n",
       "      <td>2009</td>\n",
       "    </tr>\n",
       "    <tr>\n",
       "      <th>343</th>\n",
       "      <td>Chinstrap</td>\n",
       "      <td>Dream</td>\n",
       "      <td>50.2</td>\n",
       "      <td>18.7</td>\n",
       "      <td>198.0</td>\n",
       "      <td>3775.0</td>\n",
       "      <td>female</td>\n",
       "      <td>2009</td>\n",
       "    </tr>\n",
       "  </tbody>\n",
       "</table>\n",
       "<p>344 rows × 8 columns</p>\n",
       "</div>"
      ],
      "text/plain": [
       "       species     island  bill_length_mm  bill_depth_mm  flipper_length_mm  \\\n",
       "0       Adelie  Torgersen            39.1           18.7              181.0   \n",
       "1       Adelie  Torgersen            39.5           17.4              186.0   \n",
       "2       Adelie  Torgersen            40.3           18.0              195.0   \n",
       "3       Adelie  Torgersen             NaN            NaN                NaN   \n",
       "4       Adelie  Torgersen            36.7           19.3              193.0   \n",
       "..         ...        ...             ...            ...                ...   \n",
       "339  Chinstrap      Dream            55.8           19.8              207.0   \n",
       "340  Chinstrap      Dream            43.5           18.1              202.0   \n",
       "341  Chinstrap      Dream            49.6           18.2              193.0   \n",
       "342  Chinstrap      Dream            50.8           19.0              210.0   \n",
       "343  Chinstrap      Dream            50.2           18.7              198.0   \n",
       "\n",
       "     body_mass_g     sex  year  \n",
       "0         3750.0    male  2007  \n",
       "1         3800.0  female  2007  \n",
       "2         3250.0  female  2007  \n",
       "3            NaN     NaN  2007  \n",
       "4         3450.0  female  2007  \n",
       "..           ...     ...   ...  \n",
       "339       4000.0    male  2009  \n",
       "340       3400.0  female  2009  \n",
       "341       3775.0    male  2009  \n",
       "342       4100.0    male  2009  \n",
       "343       3775.0  female  2009  \n",
       "\n",
       "[344 rows x 8 columns]"
      ]
     },
     "execution_count": 69,
     "metadata": {},
     "output_type": "execute_result"
    }
   ],
   "source": [
    "penguins=pd.read_csv('https://raw.githubusercontent.com/emilianoyoulysses/corso_python_fondazione_pico/refs/heads/DataFrames-%26-TimeSeries/penguins.csv')\n",
    "penguins"
   ]
  },
  {
   "cell_type": "code",
   "execution_count": 70,
   "id": "1deb7fe4",
   "metadata": {},
   "outputs": [
    {
     "data": {
      "text/html": [
       "<div>\n",
       "<style scoped>\n",
       "    .dataframe tbody tr th:only-of-type {\n",
       "        vertical-align: middle;\n",
       "    }\n",
       "\n",
       "    .dataframe tbody tr th {\n",
       "        vertical-align: top;\n",
       "    }\n",
       "\n",
       "    .dataframe thead th {\n",
       "        text-align: right;\n",
       "    }\n",
       "</style>\n",
       "<table border=\"1\" class=\"dataframe\">\n",
       "  <thead>\n",
       "    <tr style=\"text-align: right;\">\n",
       "      <th></th>\n",
       "      <th>species</th>\n",
       "      <th>island</th>\n",
       "      <th>bill_length_mm</th>\n",
       "      <th>bill_depth_mm</th>\n",
       "      <th>flipper_length_mm</th>\n",
       "      <th>body_mass_g</th>\n",
       "      <th>sex</th>\n",
       "      <th>year</th>\n",
       "    </tr>\n",
       "  </thead>\n",
       "  <tbody>\n",
       "    <tr>\n",
       "      <th>0</th>\n",
       "      <td>False</td>\n",
       "      <td>False</td>\n",
       "      <td>False</td>\n",
       "      <td>False</td>\n",
       "      <td>False</td>\n",
       "      <td>False</td>\n",
       "      <td>False</td>\n",
       "      <td>False</td>\n",
       "    </tr>\n",
       "    <tr>\n",
       "      <th>1</th>\n",
       "      <td>False</td>\n",
       "      <td>False</td>\n",
       "      <td>False</td>\n",
       "      <td>False</td>\n",
       "      <td>False</td>\n",
       "      <td>False</td>\n",
       "      <td>False</td>\n",
       "      <td>False</td>\n",
       "    </tr>\n",
       "    <tr>\n",
       "      <th>2</th>\n",
       "      <td>False</td>\n",
       "      <td>False</td>\n",
       "      <td>False</td>\n",
       "      <td>False</td>\n",
       "      <td>False</td>\n",
       "      <td>False</td>\n",
       "      <td>False</td>\n",
       "      <td>False</td>\n",
       "    </tr>\n",
       "    <tr>\n",
       "      <th>3</th>\n",
       "      <td>False</td>\n",
       "      <td>False</td>\n",
       "      <td>True</td>\n",
       "      <td>True</td>\n",
       "      <td>True</td>\n",
       "      <td>True</td>\n",
       "      <td>True</td>\n",
       "      <td>False</td>\n",
       "    </tr>\n",
       "    <tr>\n",
       "      <th>4</th>\n",
       "      <td>False</td>\n",
       "      <td>False</td>\n",
       "      <td>False</td>\n",
       "      <td>False</td>\n",
       "      <td>False</td>\n",
       "      <td>False</td>\n",
       "      <td>False</td>\n",
       "      <td>False</td>\n",
       "    </tr>\n",
       "    <tr>\n",
       "      <th>...</th>\n",
       "      <td>...</td>\n",
       "      <td>...</td>\n",
       "      <td>...</td>\n",
       "      <td>...</td>\n",
       "      <td>...</td>\n",
       "      <td>...</td>\n",
       "      <td>...</td>\n",
       "      <td>...</td>\n",
       "    </tr>\n",
       "    <tr>\n",
       "      <th>339</th>\n",
       "      <td>False</td>\n",
       "      <td>False</td>\n",
       "      <td>False</td>\n",
       "      <td>False</td>\n",
       "      <td>False</td>\n",
       "      <td>False</td>\n",
       "      <td>False</td>\n",
       "      <td>False</td>\n",
       "    </tr>\n",
       "    <tr>\n",
       "      <th>340</th>\n",
       "      <td>False</td>\n",
       "      <td>False</td>\n",
       "      <td>False</td>\n",
       "      <td>False</td>\n",
       "      <td>False</td>\n",
       "      <td>False</td>\n",
       "      <td>False</td>\n",
       "      <td>False</td>\n",
       "    </tr>\n",
       "    <tr>\n",
       "      <th>341</th>\n",
       "      <td>False</td>\n",
       "      <td>False</td>\n",
       "      <td>False</td>\n",
       "      <td>False</td>\n",
       "      <td>False</td>\n",
       "      <td>False</td>\n",
       "      <td>False</td>\n",
       "      <td>False</td>\n",
       "    </tr>\n",
       "    <tr>\n",
       "      <th>342</th>\n",
       "      <td>False</td>\n",
       "      <td>False</td>\n",
       "      <td>False</td>\n",
       "      <td>False</td>\n",
       "      <td>False</td>\n",
       "      <td>False</td>\n",
       "      <td>False</td>\n",
       "      <td>False</td>\n",
       "    </tr>\n",
       "    <tr>\n",
       "      <th>343</th>\n",
       "      <td>False</td>\n",
       "      <td>False</td>\n",
       "      <td>False</td>\n",
       "      <td>False</td>\n",
       "      <td>False</td>\n",
       "      <td>False</td>\n",
       "      <td>False</td>\n",
       "      <td>False</td>\n",
       "    </tr>\n",
       "  </tbody>\n",
       "</table>\n",
       "<p>344 rows × 8 columns</p>\n",
       "</div>"
      ],
      "text/plain": [
       "     species  island  bill_length_mm  bill_depth_mm  flipper_length_mm  \\\n",
       "0      False   False           False          False              False   \n",
       "1      False   False           False          False              False   \n",
       "2      False   False           False          False              False   \n",
       "3      False   False            True           True               True   \n",
       "4      False   False           False          False              False   \n",
       "..       ...     ...             ...            ...                ...   \n",
       "339    False   False           False          False              False   \n",
       "340    False   False           False          False              False   \n",
       "341    False   False           False          False              False   \n",
       "342    False   False           False          False              False   \n",
       "343    False   False           False          False              False   \n",
       "\n",
       "     body_mass_g    sex   year  \n",
       "0          False  False  False  \n",
       "1          False  False  False  \n",
       "2          False  False  False  \n",
       "3           True   True  False  \n",
       "4          False  False  False  \n",
       "..           ...    ...    ...  \n",
       "339        False  False  False  \n",
       "340        False  False  False  \n",
       "341        False  False  False  \n",
       "342        False  False  False  \n",
       "343        False  False  False  \n",
       "\n",
       "[344 rows x 8 columns]"
      ]
     },
     "execution_count": 70,
     "metadata": {},
     "output_type": "execute_result"
    }
   ],
   "source": [
    "penguins.isna()"
   ]
  },
  {
   "cell_type": "code",
   "execution_count": 71,
   "id": "3851a29b",
   "metadata": {},
   "outputs": [
    {
     "data": {
      "text/plain": [
       "species               0\n",
       "island                0\n",
       "bill_length_mm        2\n",
       "bill_depth_mm         2\n",
       "flipper_length_mm     2\n",
       "body_mass_g           2\n",
       "sex                  11\n",
       "year                  0\n",
       "dtype: int64"
      ]
     },
     "execution_count": 71,
     "metadata": {},
     "output_type": "execute_result"
    }
   ],
   "source": [
    "penguins.isna().sum()"
   ]
  },
  {
   "cell_type": "code",
   "execution_count": 72,
   "id": "dd3514aa",
   "metadata": {},
   "outputs": [
    {
     "data": {
      "text/plain": [
       "0      0.000\n",
       "1      0.000\n",
       "2      0.000\n",
       "3      0.625\n",
       "4      0.000\n",
       "       ...  \n",
       "339    0.000\n",
       "340    0.000\n",
       "341    0.000\n",
       "342    0.000\n",
       "343    0.000\n",
       "Length: 344, dtype: float64"
      ]
     },
     "execution_count": 72,
     "metadata": {},
     "output_type": "execute_result"
    }
   ],
   "source": [
    "percent_missing_by_row=penguins.isna().mean(axis=1) # calcolo la media lungo le righe\n",
    "percent_missing_by_row"
   ]
  },
  {
   "cell_type": "code",
   "execution_count": 73,
   "id": "cbd841ce",
   "metadata": {},
   "outputs": [
    {
     "data": {
      "text/plain": [
       "271    0.625\n",
       "3      0.625\n",
       "8      0.125\n",
       "268    0.125\n",
       "218    0.125\n",
       "       ...  \n",
       "117    0.000\n",
       "116    0.000\n",
       "115    0.000\n",
       "114    0.000\n",
       "343    0.000\n",
       "Length: 344, dtype: float64"
      ]
     },
     "execution_count": 73,
     "metadata": {},
     "output_type": "execute_result"
    }
   ],
   "source": [
    "percent_missing_by_row.sort_values(ascending=False)"
   ]
  },
  {
   "cell_type": "code",
   "execution_count": 74,
   "id": "9af76551",
   "metadata": {},
   "outputs": [
    {
     "data": {
      "text/plain": [
       "271    0.625\n",
       "3      0.625\n",
       "8      0.125\n",
       "268    0.125\n",
       "218    0.125\n",
       "11     0.125\n",
       "10     0.125\n",
       "9      0.125\n",
       "47     0.125\n",
       "178    0.125\n",
       "256    0.125\n",
       "233    0.000\n",
       "228    0.000\n",
       "234    0.000\n",
       "232    0.000\n",
       "dtype: float64"
      ]
     },
     "execution_count": 74,
     "metadata": {},
     "output_type": "execute_result"
    }
   ],
   "source": [
    "percent_missing_by_row.sort_values(ascending=False).head(15)"
   ]
  },
  {
   "cell_type": "markdown",
   "id": "6e1f3265",
   "metadata": {},
   "source": [
    "# Esercitazione finale - Analisi Dati Camion \n",
    "Imparare a esplorare un `DataFrame` con valori mancanti usando: info(), isna(), value_counts(), conteggio valori mancanti, e dropna()."
   ]
  },
  {
   "cell_type": "code",
   "execution_count": 1,
   "id": "53218037",
   "metadata": {},
   "outputs": [
    {
     "data": {
      "text/html": [
       "<div>\n",
       "<style scoped>\n",
       "    .dataframe tbody tr th:only-of-type {\n",
       "        vertical-align: middle;\n",
       "    }\n",
       "\n",
       "    .dataframe tbody tr th {\n",
       "        vertical-align: top;\n",
       "    }\n",
       "\n",
       "    .dataframe thead th {\n",
       "        text-align: right;\n",
       "    }\n",
       "</style>\n",
       "<table border=\"1\" class=\"dataframe\">\n",
       "  <thead>\n",
       "    <tr style=\"text-align: right;\">\n",
       "      <th></th>\n",
       "      <th>peso_max_tonnellate</th>\n",
       "      <th>autonomia_km</th>\n",
       "      <th>alimentazione</th>\n",
       "      <th>prezzo</th>\n",
       "      <th>noleggio_giornaliero</th>\n",
       "    </tr>\n",
       "    <tr>\n",
       "      <th>modello</th>\n",
       "      <th></th>\n",
       "      <th></th>\n",
       "      <th></th>\n",
       "      <th></th>\n",
       "      <th></th>\n",
       "    </tr>\n",
       "  </thead>\n",
       "  <tbody>\n",
       "    <tr>\n",
       "      <th>Iveco Daily</th>\n",
       "      <td>3.5</td>\n",
       "      <td>400.0</td>\n",
       "      <td>diesel</td>\n",
       "      <td>32000.0</td>\n",
       "      <td>NaN</td>\n",
       "    </tr>\n",
       "    <tr>\n",
       "      <th>Mercedes Actros</th>\n",
       "      <td>18.0</td>\n",
       "      <td>1200.0</td>\n",
       "      <td>diesel</td>\n",
       "      <td>92000.0</td>\n",
       "      <td>230.0</td>\n",
       "    </tr>\n",
       "    <tr>\n",
       "      <th>Fiat Ducato</th>\n",
       "      <td>3.3</td>\n",
       "      <td>NaN</td>\n",
       "      <td>None</td>\n",
       "      <td>29000.0</td>\n",
       "      <td>80.0</td>\n",
       "    </tr>\n",
       "    <tr>\n",
       "      <th>Tesla Semi</th>\n",
       "      <td>36.0</td>\n",
       "      <td>800.0</td>\n",
       "      <td>elettrico</td>\n",
       "      <td>NaN</td>\n",
       "      <td>NaN</td>\n",
       "    </tr>\n",
       "    <tr>\n",
       "      <th>Ford Transit</th>\n",
       "      <td>3.5</td>\n",
       "      <td>380.0</td>\n",
       "      <td>diesel</td>\n",
       "      <td>30000.0</td>\n",
       "      <td>70.0</td>\n",
       "    </tr>\n",
       "  </tbody>\n",
       "</table>\n",
       "</div>"
      ],
      "text/plain": [
       "                 peso_max_tonnellate  autonomia_km alimentazione   prezzo  \\\n",
       "modello                                                                     \n",
       "Iveco Daily                      3.5         400.0        diesel  32000.0   \n",
       "Mercedes Actros                 18.0        1200.0        diesel  92000.0   \n",
       "Fiat Ducato                      3.3           NaN          None  29000.0   \n",
       "Tesla Semi                      36.0         800.0     elettrico      NaN   \n",
       "Ford Transit                     3.5         380.0        diesel  30000.0   \n",
       "\n",
       "                 noleggio_giornaliero  \n",
       "modello                                \n",
       "Iveco Daily                       NaN  \n",
       "Mercedes Actros                 230.0  \n",
       "Fiat Ducato                      80.0  \n",
       "Tesla Semi                        NaN  \n",
       "Ford Transit                     70.0  "
      ]
     },
     "execution_count": 1,
     "metadata": {},
     "output_type": "execute_result"
    }
   ],
   "source": [
    "import pandas as pd\n",
    "\n",
    "df = pd.DataFrame([\n",
    "    {\n",
    "        \"modello\": \"Iveco Daily\",\n",
    "        \"peso_max_tonnellate\": 3.5,\n",
    "        \"autonomia_km\": 400,\n",
    "        \"alimentazione\": \"diesel\",\n",
    "        \"prezzo\": 32000,\n",
    "        \"noleggio_giornaliero\": None\n",
    "    },\n",
    "    {\n",
    "        \"modello\": \"Mercedes Actros\",\n",
    "        \"peso_max_tonnellate\": 18,\n",
    "        \"autonomia_km\": 1200,\n",
    "        \"alimentazione\": \"diesel\",\n",
    "        \"prezzo\": 92000,\n",
    "        \"noleggio_giornaliero\": 230\n",
    "    },\n",
    "    {\n",
    "        \"modello\": \"Fiat Ducato\",\n",
    "        \"peso_max_tonnellate\": 3.3,\n",
    "        \"autonomia_km\": None,\n",
    "        \"alimentazione\": None,\n",
    "        \"prezzo\": 29000,\n",
    "        \"noleggio_giornaliero\": 80\n",
    "    },\n",
    "    {\n",
    "        \"modello\": \"Tesla Semi\",\n",
    "        \"peso_max_tonnellate\": 36,\n",
    "        \"autonomia_km\": 800,\n",
    "        \"alimentazione\": \"elettrico\",\n",
    "        \"prezzo\": None,\n",
    "        \"noleggio_giornaliero\": None\n",
    "    },\n",
    "    {\n",
    "        \"modello\": \"Ford Transit\",\n",
    "        \"peso_max_tonnellate\": 3.5,\n",
    "        \"autonomia_km\": 380,\n",
    "        \"alimentazione\": \"diesel\",\n",
    "        \"prezzo\": 30000,\n",
    "        \"noleggio_giornaliero\": 70\n",
    "    }\n",
    "])\n",
    "\n",
    "df.set_index(\"modello\", inplace=True)\n",
    "df\n"
   ]
  },
  {
   "cell_type": "markdown",
   "id": "68dcab6e",
   "metadata": {},
   "source": [
    "1. visualizza le informazioni generali;\n",
    "2. conta i valori mancanti;\n",
    "3. quanti modelli mancano del prezzo;\n",
    "4. quanti camion per tipo di alimentazione \n",
    "5. quanti valori mancanti ci sono in totale\n",
    "6. quante colonne hanno almeno un valore mancante\n",
    "7. elimina i camion con almeno un valore mancante\n",
    "8. elimina solo i camion senza prezzo"
   ]
  },
  {
   "cell_type": "code",
   "execution_count": 2,
   "id": "2058d651",
   "metadata": {},
   "outputs": [
    {
     "name": "stdout",
     "output_type": "stream",
     "text": [
      "<class 'pandas.core.frame.DataFrame'>\n",
      "Index: 5 entries, Iveco Daily to Ford Transit\n",
      "Data columns (total 5 columns):\n",
      " #   Column                Non-Null Count  Dtype  \n",
      "---  ------                --------------  -----  \n",
      " 0   peso_max_tonnellate   5 non-null      float64\n",
      " 1   autonomia_km          4 non-null      float64\n",
      " 2   alimentazione         4 non-null      object \n",
      " 3   prezzo                4 non-null      float64\n",
      " 4   noleggio_giornaliero  3 non-null      float64\n",
      "dtypes: float64(4), object(1)\n",
      "memory usage: 240.0+ bytes\n"
     ]
    }
   ],
   "source": [
    "df.info()"
   ]
  },
  {
   "cell_type": "code",
   "execution_count": 3,
   "id": "9c9f1312",
   "metadata": {},
   "outputs": [
    {
     "data": {
      "text/plain": [
       "peso_max_tonnellate     0\n",
       "autonomia_km            1\n",
       "alimentazione           1\n",
       "prezzo                  1\n",
       "noleggio_giornaliero    2\n",
       "dtype: int64"
      ]
     },
     "execution_count": 3,
     "metadata": {},
     "output_type": "execute_result"
    }
   ],
   "source": [
    "df.isna().sum()"
   ]
  },
  {
   "cell_type": "code",
   "execution_count": 4,
   "id": "fc4899dc",
   "metadata": {},
   "outputs": [
    {
     "data": {
      "text/plain": [
       "1"
      ]
     },
     "execution_count": 4,
     "metadata": {},
     "output_type": "execute_result"
    }
   ],
   "source": [
    "df[\"prezzo\"].isna().sum()"
   ]
  },
  {
   "cell_type": "code",
   "execution_count": 5,
   "id": "19b59ba4",
   "metadata": {},
   "outputs": [
    {
     "data": {
      "text/plain": [
       "alimentazione\n",
       "diesel       3\n",
       "None         1\n",
       "elettrico    1\n",
       "Name: count, dtype: int64"
      ]
     },
     "execution_count": 5,
     "metadata": {},
     "output_type": "execute_result"
    }
   ],
   "source": [
    "df[\"alimentazione\"].value_counts(dropna=False)"
   ]
  },
  {
   "cell_type": "code",
   "execution_count": 6,
   "id": "9df8fc36",
   "metadata": {},
   "outputs": [
    {
     "data": {
      "text/plain": [
       "5"
      ]
     },
     "execution_count": 6,
     "metadata": {},
     "output_type": "execute_result"
    }
   ],
   "source": [
    "df.isna().sum().sum()"
   ]
  },
  {
   "cell_type": "code",
   "execution_count": 7,
   "id": "790f7ba5",
   "metadata": {},
   "outputs": [
    {
     "data": {
      "text/plain": [
       "Index(['autonomia_km', 'alimentazione', 'prezzo', 'noleggio_giornaliero'], dtype='object')"
      ]
     },
     "execution_count": 7,
     "metadata": {},
     "output_type": "execute_result"
    }
   ],
   "source": [
    "df.columns[df.isna().any()]"
   ]
  },
  {
   "cell_type": "code",
   "execution_count": 8,
   "id": "e09e38ba",
   "metadata": {},
   "outputs": [
    {
     "data": {
      "text/html": [
       "<div>\n",
       "<style scoped>\n",
       "    .dataframe tbody tr th:only-of-type {\n",
       "        vertical-align: middle;\n",
       "    }\n",
       "\n",
       "    .dataframe tbody tr th {\n",
       "        vertical-align: top;\n",
       "    }\n",
       "\n",
       "    .dataframe thead th {\n",
       "        text-align: right;\n",
       "    }\n",
       "</style>\n",
       "<table border=\"1\" class=\"dataframe\">\n",
       "  <thead>\n",
       "    <tr style=\"text-align: right;\">\n",
       "      <th></th>\n",
       "      <th>peso_max_tonnellate</th>\n",
       "      <th>autonomia_km</th>\n",
       "      <th>alimentazione</th>\n",
       "      <th>prezzo</th>\n",
       "      <th>noleggio_giornaliero</th>\n",
       "    </tr>\n",
       "    <tr>\n",
       "      <th>modello</th>\n",
       "      <th></th>\n",
       "      <th></th>\n",
       "      <th></th>\n",
       "      <th></th>\n",
       "      <th></th>\n",
       "    </tr>\n",
       "  </thead>\n",
       "  <tbody>\n",
       "    <tr>\n",
       "      <th>Mercedes Actros</th>\n",
       "      <td>18.0</td>\n",
       "      <td>1200.0</td>\n",
       "      <td>diesel</td>\n",
       "      <td>92000.0</td>\n",
       "      <td>230.0</td>\n",
       "    </tr>\n",
       "    <tr>\n",
       "      <th>Ford Transit</th>\n",
       "      <td>3.5</td>\n",
       "      <td>380.0</td>\n",
       "      <td>diesel</td>\n",
       "      <td>30000.0</td>\n",
       "      <td>70.0</td>\n",
       "    </tr>\n",
       "  </tbody>\n",
       "</table>\n",
       "</div>"
      ],
      "text/plain": [
       "                 peso_max_tonnellate  autonomia_km alimentazione   prezzo  \\\n",
       "modello                                                                     \n",
       "Mercedes Actros                 18.0        1200.0        diesel  92000.0   \n",
       "Ford Transit                     3.5         380.0        diesel  30000.0   \n",
       "\n",
       "                 noleggio_giornaliero  \n",
       "modello                                \n",
       "Mercedes Actros                 230.0  \n",
       "Ford Transit                     70.0  "
      ]
     },
     "execution_count": 8,
     "metadata": {},
     "output_type": "execute_result"
    }
   ],
   "source": [
    "df_drop = df.dropna()\n",
    "df_drop"
   ]
  },
  {
   "cell_type": "code",
   "execution_count": 9,
   "id": "9f1ba7ed",
   "metadata": {},
   "outputs": [
    {
     "data": {
      "text/html": [
       "<div>\n",
       "<style scoped>\n",
       "    .dataframe tbody tr th:only-of-type {\n",
       "        vertical-align: middle;\n",
       "    }\n",
       "\n",
       "    .dataframe tbody tr th {\n",
       "        vertical-align: top;\n",
       "    }\n",
       "\n",
       "    .dataframe thead th {\n",
       "        text-align: right;\n",
       "    }\n",
       "</style>\n",
       "<table border=\"1\" class=\"dataframe\">\n",
       "  <thead>\n",
       "    <tr style=\"text-align: right;\">\n",
       "      <th></th>\n",
       "      <th>peso_max_tonnellate</th>\n",
       "      <th>autonomia_km</th>\n",
       "      <th>alimentazione</th>\n",
       "      <th>prezzo</th>\n",
       "      <th>noleggio_giornaliero</th>\n",
       "    </tr>\n",
       "    <tr>\n",
       "      <th>modello</th>\n",
       "      <th></th>\n",
       "      <th></th>\n",
       "      <th></th>\n",
       "      <th></th>\n",
       "      <th></th>\n",
       "    </tr>\n",
       "  </thead>\n",
       "  <tbody>\n",
       "    <tr>\n",
       "      <th>Iveco Daily</th>\n",
       "      <td>3.5</td>\n",
       "      <td>400.0</td>\n",
       "      <td>diesel</td>\n",
       "      <td>32000.0</td>\n",
       "      <td>NaN</td>\n",
       "    </tr>\n",
       "    <tr>\n",
       "      <th>Mercedes Actros</th>\n",
       "      <td>18.0</td>\n",
       "      <td>1200.0</td>\n",
       "      <td>diesel</td>\n",
       "      <td>92000.0</td>\n",
       "      <td>230.0</td>\n",
       "    </tr>\n",
       "    <tr>\n",
       "      <th>Fiat Ducato</th>\n",
       "      <td>3.3</td>\n",
       "      <td>NaN</td>\n",
       "      <td>None</td>\n",
       "      <td>29000.0</td>\n",
       "      <td>80.0</td>\n",
       "    </tr>\n",
       "    <tr>\n",
       "      <th>Ford Transit</th>\n",
       "      <td>3.5</td>\n",
       "      <td>380.0</td>\n",
       "      <td>diesel</td>\n",
       "      <td>30000.0</td>\n",
       "      <td>70.0</td>\n",
       "    </tr>\n",
       "  </tbody>\n",
       "</table>\n",
       "</div>"
      ],
      "text/plain": [
       "                 peso_max_tonnellate  autonomia_km alimentazione   prezzo  \\\n",
       "modello                                                                     \n",
       "Iveco Daily                      3.5         400.0        diesel  32000.0   \n",
       "Mercedes Actros                 18.0        1200.0        diesel  92000.0   \n",
       "Fiat Ducato                      3.3           NaN          None  29000.0   \n",
       "Ford Transit                     3.5         380.0        diesel  30000.0   \n",
       "\n",
       "                 noleggio_giornaliero  \n",
       "modello                                \n",
       "Iveco Daily                       NaN  \n",
       "Mercedes Actros                 230.0  \n",
       "Fiat Ducato                      80.0  \n",
       "Ford Transit                     70.0  "
      ]
     },
     "execution_count": 9,
     "metadata": {},
     "output_type": "execute_result"
    }
   ],
   "source": [
    "df_prezzo = df.dropna(subset=[\"prezzo\"])\n",
    "df_prezzo"
   ]
  },
  {
   "cell_type": "code",
   "execution_count": null,
   "id": "a6350b2a",
   "metadata": {},
   "outputs": [],
   "source": []
  }
 ],
 "metadata": {
  "kernelspec": {
   "display_name": "Python 3 (ipykernel)",
   "language": "python",
   "name": "python3"
  },
  "language_info": {
   "codemirror_mode": {
    "name": "ipython",
    "version": 3
   },
   "file_extension": ".py",
   "mimetype": "text/x-python",
   "name": "python",
   "nbconvert_exporter": "python",
   "pygments_lexer": "ipython3",
   "version": "3.9.7"
  }
 },
 "nbformat": 4,
 "nbformat_minor": 5
}
