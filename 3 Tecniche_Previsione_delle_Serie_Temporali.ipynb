{
 "cells": [
  {
   "cell_type": "markdown",
   "id": "5d246029",
   "metadata": {
    "slideshow": {
     "slide_type": "slide"
    }
   },
   "source": [
    "# Tecniche di previsione delle serie temporali\n",
    "Il forecasting nelle time series (serie temporali) è il processo di previsione dei valori futuri di una variabile basandosi sui suoi valori passati, osservati a intervalli di tempo regolari.\n",
    "\n",
    "## Definizione formale\n",
    "> Il forecasting è una tecnica statistica e/o algoritmica che utilizza i dati storici di una serie temporale per stimare i valori futuri della stessa variabile, tenendo conto di pattern come trend, stagionalità, ciclicità e rumore.\n",
    "\n",
    "## Obiettivi\n",
    "* Prevedere il valore della variabile al tempo t+h, dove h è l’orizzonte di previsione.\n",
    "* Supportare decisioni in ambito economico, industriale, ambientale, medico, ecc.\n",
    "\n",
    "## Caratteristiche principali delle serie temporali utili al forecasting\n",
    "* **Trend:** andamento crescente o decrescente nel lungo periodo.\n",
    "* **Stagionalità:** pattern che si ripete a intervalli regolari (es. vendite natalizie).\n",
    "* **Ciclicità:** variazioni a lungo termine non necessariamente regolari.\n",
    "* **Rumore:** componente casuale imprevedibile."
   ]
  },
  {
   "cell_type": "code",
   "execution_count": 1,
   "id": "3b5694fb",
   "metadata": {
    "slideshow": {
     "slide_type": "slide"
    },
    "tags": []
   },
   "outputs": [
    {
     "name": "stderr",
     "output_type": "stream",
     "text": [
      "/var/folders/11/02ps53796pncj4x4b53sr7nw0000gn/T/ipykernel_83339/593871020.py:14: FutureWarning: 'M' is deprecated and will be removed in a future version, please use 'ME' instead.\n",
      "  monthly_avg_temp = df.resample('M').mean() #set frequenza mese\n"
     ]
    },
    {
     "data": {
      "text/html": [
       "<div>\n",
       "<style scoped>\n",
       "    .dataframe tbody tr th:only-of-type {\n",
       "        vertical-align: middle;\n",
       "    }\n",
       "\n",
       "    .dataframe tbody tr th {\n",
       "        vertical-align: top;\n",
       "    }\n",
       "\n",
       "    .dataframe thead th {\n",
       "        text-align: right;\n",
       "    }\n",
       "</style>\n",
       "<table border=\"1\" class=\"dataframe\">\n",
       "  <thead>\n",
       "    <tr style=\"text-align: right;\">\n",
       "      <th></th>\n",
       "      <th>temp</th>\n",
       "    </tr>\n",
       "    <tr>\n",
       "      <th>date</th>\n",
       "      <th></th>\n",
       "    </tr>\n",
       "  </thead>\n",
       "  <tbody>\n",
       "    <tr>\n",
       "      <th>2010-02-28</th>\n",
       "      <td>2.259759</td>\n",
       "    </tr>\n",
       "    <tr>\n",
       "      <th>2010-03-31</th>\n",
       "      <td>1.712629</td>\n",
       "    </tr>\n",
       "    <tr>\n",
       "      <th>2010-04-30</th>\n",
       "      <td>1.676528</td>\n",
       "    </tr>\n",
       "    <tr>\n",
       "      <th>2010-05-31</th>\n",
       "      <td>2.337912</td>\n",
       "    </tr>\n",
       "    <tr>\n",
       "      <th>2010-06-30</th>\n",
       "      <td>2.473754</td>\n",
       "    </tr>\n",
       "  </tbody>\n",
       "</table>\n",
       "</div>"
      ],
      "text/plain": [
       "                temp\n",
       "date                \n",
       "2010-02-28  2.259759\n",
       "2010-03-31  1.712629\n",
       "2010-04-30  1.676528\n",
       "2010-05-31  2.337912\n",
       "2010-06-30  2.473754"
      ]
     },
     "execution_count": 1,
     "metadata": {},
     "output_type": "execute_result"
    }
   ],
   "source": [
    "# temperature media a San Francisco\n",
    "\n",
    "import pandas as pd\n",
    "import statsmodels.api as sm\n",
    "\n",
    "\n",
    "df = pd.read_csv(\"https://raw.githubusercontent.com/stanfordnlp/plot-interface/master/public/data/sf-temps.csv\")\n",
    "\n",
    "df['date'] = pd.to_datetime(df['date']) # date viene convertita in tipo datetime \n",
    "df.set_index('date', inplace=True) # date diventa indice DF\n",
    "\n",
    "\n",
    "# calcoliamo la temperatura media mensile\n",
    "monthly_avg_temp = df.resample('M').mean() #raggruppo mensilmente, calcolo media\n",
    "                                           # nuovo DF con un riga per ogni mese e la media mese\n",
    "monthly_avg_temp = monthly_avg_temp.diff() # diff tra valore di un mese e quello precedente\n",
    "monthly_avg_temp = monthly_avg_temp.dropna() # elimino i nulli \n",
    "monthly_avg_temp.head()\n"
   ]
  },
  {
   "cell_type": "code",
   "execution_count": 2,
   "id": "d03e698d",
   "metadata": {},
   "outputs": [
    {
     "name": "stderr",
     "output_type": "stream",
     "text": [
      "/var/folders/11/02ps53796pncj4x4b53sr7nw0000gn/T/ipykernel_83339/51912365.py:13: FutureWarning: 'M' is deprecated and will be removed in a future version, please use 'ME' instead.\n",
      "  monthly_avg_temp = df.resample('M').mean() #set frequenza mese\n"
     ]
    },
    {
     "data": {
      "text/html": [
       "<div>\n",
       "<style scoped>\n",
       "    .dataframe tbody tr th:only-of-type {\n",
       "        vertical-align: middle;\n",
       "    }\n",
       "\n",
       "    .dataframe tbody tr th {\n",
       "        vertical-align: top;\n",
       "    }\n",
       "\n",
       "    .dataframe thead th {\n",
       "        text-align: right;\n",
       "    }\n",
       "</style>\n",
       "<table border=\"1\" class=\"dataframe\">\n",
       "  <thead>\n",
       "    <tr style=\"text-align: right;\">\n",
       "      <th></th>\n",
       "      <th>temp</th>\n",
       "    </tr>\n",
       "    <tr>\n",
       "      <th>date</th>\n",
       "      <th></th>\n",
       "    </tr>\n",
       "  </thead>\n",
       "  <tbody>\n",
       "    <tr>\n",
       "      <th>2010-01-31</th>\n",
       "      <td>49.984140</td>\n",
       "    </tr>\n",
       "    <tr>\n",
       "      <th>2010-02-28</th>\n",
       "      <td>52.243899</td>\n",
       "    </tr>\n",
       "    <tr>\n",
       "      <th>2010-03-31</th>\n",
       "      <td>53.956528</td>\n",
       "    </tr>\n",
       "    <tr>\n",
       "      <th>2010-04-30</th>\n",
       "      <td>55.633056</td>\n",
       "    </tr>\n",
       "    <tr>\n",
       "      <th>2010-05-31</th>\n",
       "      <td>57.970968</td>\n",
       "    </tr>\n",
       "  </tbody>\n",
       "</table>\n",
       "</div>"
      ],
      "text/plain": [
       "                 temp\n",
       "date                 \n",
       "2010-01-31  49.984140\n",
       "2010-02-28  52.243899\n",
       "2010-03-31  53.956528\n",
       "2010-04-30  55.633056\n",
       "2010-05-31  57.970968"
      ]
     },
     "execution_count": 2,
     "metadata": {},
     "output_type": "execute_result"
    }
   ],
   "source": [
    "import pandas as pd\n",
    "import statsmodels.api as sm\n",
    "\n",
    "# Load the Vega dataset\n",
    "df = pd.read_csv(\"https://raw.githubusercontent.com/stanfordnlp/plot-interface/master/public/data/sf-temps.csv\")\n",
    "\n",
    "# Set the date as the index\n",
    "df['date'] = pd.to_datetime(df['date'])\n",
    "df.set_index('date', inplace=True)\n",
    "\n",
    "\n",
    "# calcoliamo la temperatura media mensile\n",
    "monthly_avg_temp = df.resample('M').mean() #set frequenza mese\n",
    "# monthly_avg_temp = monthly_avg_temp.diff()\n",
    "# monthly_avg_temp = monthly_avg_temp.dropna()\n",
    "monthly_avg_temp.head()\n"
   ]
  },
  {
   "cell_type": "code",
   "execution_count": 3,
   "id": "b78f3688",
   "metadata": {},
   "outputs": [
    {
     "data": {
      "image/png": "[encoded data removed]",
      "text/plain": [
       "<Figure size 640x480 with 1 Axes>"
      ]
     },
     "metadata": {},
     "output_type": "display_data"
    }
   ],
   "source": [
    "import pandas as pd\n",
    "import statsmodels.api as sm\n",
    "\n",
    "df = pd.read_csv(\"https://raw.githubusercontent.com/stanfordnlp/plot-interface/master/public/data/sf-temps.csv\")\n",
    "\n",
    "df['date'] = pd.to_datetime(df['date'])\n",
    "df.set_index('date', inplace=True)\n",
    "\n",
    "monthly_avg_temp = df.resample('M').mean() \n",
    "monthly_avg_temp = monthly_avg_temp.diff()\n",
    "monthly_avg_temp = monthly_avg_temp.dropna()\n",
    "\n",
    "monthly_avg_temp.plot()\n",
    "\n",
    "df = monthly_avg_temp"
   ]
  },
  {
   "cell_type": "markdown",
   "id": "6f97d9f1",
   "metadata": {},
   "source": [
    "# Cos'è un modello autoregressivo (AR)?\n",
    "> ### Un modello autoregressivo è un modello matematico usato per prevedere i valori futuri di una serie temporale basandosi sui suoi valori passati.\n",
    "\n",
    "### Statistiche\n",
    "* **coef:** il coefficiente (quanto pesa il valore laggato sulla previsione).\n",
    "* **std err:** errore standard del coefficiente.\n",
    "* **t e P>|t|:** valori del test t e il p-value associato (se < 0.05 è statisticamente significativo).\n",
    "* **R-squared:** quanto bene il modello spiega la variabilità dei dati (0–1).\n",
    "* **Durbin-Watson:** test per l'autocorrelazione dei residui.\n",
    "* **Ljung-Box:** test per autocorrelazione dei residui (serve per validazione).\n",
    "\n",
    "1. Se i coefficienti lag 1 o 2 sono significativi (p-value < 0.05), allora esiste dipendenza temporale, quindi il modello AR ha senso.\n",
    "2. Se invece sono non significativi, i valori passati non aiutano molto a prevedere quelli futuri (la serie potrebbe essere troppo rumorosa o già differenziata troppo)."
   ]
  },
  {
   "cell_type": "code",
   "execution_count": 3,
   "id": "a43018d3-e54b-421a-89be-9b8d5a12629d",
   "metadata": {
    "slideshow": {
     "slide_type": "slide"
    },
    "tags": []
   },
   "outputs": [
    {
     "name": "stdout",
     "output_type": "stream",
     "text": [
      "                            AutoReg Model Results                             \n",
      "==============================================================================\n",
      "Dep. Variable:                   temp   No. Observations:                 8759\n",
      "Model:                     AutoReg(1)   Log Likelihood              -14213.769\n",
      "Method:               Conditional MLE   S.D. of innovations              1.226\n",
      "Date:                Mon, 02 Jun 2025   AIC                          28433.539\n",
      "Time:                        20:51:47   BIC                          28454.772\n",
      "Sample:                             1   HQIC                         28440.774\n",
      "                                 8759                                         \n",
      "==============================================================================\n",
      "                 coef    std err          z      P>|z|      [0.025      0.975]\n",
      "------------------------------------------------------------------------------\n",
      "const          1.1606      0.123      9.446      0.000       0.920       1.401\n",
      "temp.L1        0.9796      0.002    456.501      0.000       0.975       0.984\n",
      "                                    Roots                                    \n",
      "=============================================================================\n",
      "                  Real          Imaginary           Modulus         Frequency\n",
      "-----------------------------------------------------------------------------\n",
      "AR.1            1.0208           +0.0000j            1.0208            0.0000\n",
      "-----------------------------------------------------------------------------\n"
     ]
    },
    {
     "name": "stderr",
     "output_type": "stream",
     "text": [
      "/Users/emilianocitarella/opt/anaconda3/lib/python3.9/site-packages/statsmodels/tsa/base/tsa_model.py:471: ValueWarning: A date index has been provided, but it has no associated frequency information and so will be ignored when e.g. forecasting.\n",
      "  self._init_dates(dates, freq)\n"
     ]
    }
   ],
   "source": [
    "from statsmodels.tsa.ar_model import AutoReg\n",
    "\n",
    "# verifichiamo  che i dati siano appropriati per le analisi\n",
    "\n",
    "df['temp'] = df['temp'].dropna()  # elimino eventuali NaN in temp\n",
    "\n",
    "# Costruisco un modello AR(1), cioò il valore corrente è previsto usando solo valore mese precedente\n",
    "ar_model = AutoReg(df['temp'], lags=1)  \n",
    "                  \n",
    "ar_result = ar_model.fit() # Adatto (fit) il modello ai dati, stimando i parametri ottimali.\n",
    "\n",
    "print(ar_result.summary())\n"
   ]
  },
  {
   "cell_type": "markdown",
   "id": "ee872f8b",
   "metadata": {},
   "source": [
    "## Cosa dice il modello \n",
    "Il modello dice che la temperatura corrente è quasi uguale alla precedente, più un piccolo aumento medio.\n",
    "\n",
    "È significativo e ben calibrato, ma la non stazionarietà potrebbe influenzare negativamente la qualità delle previsioni a lungo termine.\n",
    "\n",
    "* `const` > c'è una crescita media di +1.16 unità(a parità di temp.L1)\n",
    "* `temp.L1` > fortissima dipendenza dal mese precedente(quasi 1 = persistenza quasi perfetta)\n",
    "\n",
    "> ### Y = 1.1606 + 0.9796 * Yt-1\n",
    "\n",
    "* Ogni valore della temperatura dipende quasi completamente da quello del mese precedente.\n",
    "* C’è anche una componente costante di circa 1.16 (può rappresentare una tendenza media all’aumento).\n",
    "\n",
    "* `AR.1` > la radice caratteristica AR.1 > 1, questo indica che il processo è instabile e non stazionario e questo è coerente perchè stiamo utilizzando dati non differenziati (dati originali giornalieri) che non sono stazionari. \n",
    "* `AIC/BIC`> servono per confrontare modelli: più basso è, meglio è (se provi lags=2, puoi confrontare)."
   ]
  },
  {
   "cell_type": "markdown",
   "id": "0228d6bd-e3e5-4f88-a08f-bda1f5a946c4",
   "metadata": {
    "slideshow": {
     "slide_type": "slide"
    },
    "tags": []
   },
   "source": [
    "# Autoregressive (AR) Models\n",
    "\n",
    "## Cos'è un Modello AR ?\n",
    "- Un **modello autoregressivo (AR)** è un tipo di modello statistico utilizzato per la previsione nei dati delle serie temporali.\n",
    "- Prevede il comportamento futuro in base al comportamento passato.\n",
    "- Il modello è definito \"autoregressivo\" perché fa regredire la variabile contro se stessa.\n",
    "\n",
    "## La formula di un Modello AR \n",
    "- Il modello AR è definito come:\n",
    "\n",
    "$\n",
    "Y_t = c + x_1 Y_{t-1} + x_2 Y_{t-2} + ... + x_p Y_{t-p} + \\epsilon_t$\n",
    "\n",
    "where,\n",
    "- $Y_t$ è il valore al momento\\( t \\),\n",
    "- $c$ è una costante,\n",
    "- $x_1, x_2, ..., x_p$ sono i parametri del modello,\n",
    "- $p$ è l'ordine del modello AR,\n",
    "- $\\epsilon_t$ è l'errore."
   ]
  },
  {
   "cell_type": "markdown",
   "id": "b6f186f1",
   "metadata": {},
   "source": [
    "## Informazioni Generali\n",
    "+ **Dep Variable:** La variabile dipendente è `temp`, cioè la serie temporale che si sta modellando.\n",
    "+ **No. Observations**: Ci sono 1 o più osservazioni totali nella serie temporale.\n",
    "+ **Model:** Il modello è un AutoRegressivo (AR) con 1 o più ritardi (p=1)\n",
    "+ **Method:** Il metodo utilizzato è il **Conditional Maximum Likelihood Estimation (MLE)**, che stima i parametri ottimizzando la verosimiglianza condizionata sui primi p valori.\n",
    "+ **S.D. of Innovations:** La deviazione standard delle innovazioni (errori residui) è variabile . Indica la dispersione degli errori attorno al modello.\n",
    "+ **Date e Time:** Indicano la data e l'orario in cui il modello è stato calcolato.\n",
    "+ **Sample:** Indica l'intervallo temporale dei dati utilizzati nel modello: da un giorno ad un altro. \n",
    "\n",
    "### Criteri di valutazione del modello\n",
    "+ **AIC (Akaike Information Criterion):** Più basso è l'AIC, migliore è il modello in termini di bilanciamento tra accuratezza e complessità.\n",
    "+ **BIC (Bayesian Information Criterion):** Anche qui, un valore più basso indica un modello migliore, ma BIC penalizza maggiormente la complessità rispetto all'AIC.\n",
    "+ **HQIC (Hannan-Quinn Information Criterion):** Simile ad AIC e BIC, è un altro criterio per valutare il modello.\n",
    "\n",
    "## Interpretazione Complessiva\n",
    "\n",
    "### Significatività del modello:\n",
    "+ Il modello cattura la relazione tra i valori correnti e i valori passati della serie temporale.\n",
    "+ Capire quale sia il lag (temp.L1) più significativo, se i valori recenti influenzano fortemente il valore corrente.\n",
    "\n",
    "### Stabilità del modello:\n",
    "+ Le radici del modello AR mostrano che il modello è stabile?\n",
    "\n",
    "### Previsione: \n",
    "+ Questo modello può essere utilizzato per effettuare previsioni a breve termine, data la sua natura autoregressiva?\n",
    "\n",
    "### Complessità:\n",
    "+ I criteri AIC, BIC e HQIC indicano che il modello non è eccessivamente complesso, ma potrebbe migliorare con più dati (il campione è relativamente piccolo)?\n"
   ]
  },
  {
   "cell_type": "markdown",
   "id": "6322ed58",
   "metadata": {},
   "source": [
    "## Come determinare se il modello AR è significativo\n",
    "Per determinare se un modello autoregressivo è significativo, possiamo analizzare il contributo di ciascun lag (termine ritardato) nel modello attraverso i valori di coefficiente `(Temp.L)` e la probabilità associata `p>z`.\n",
    "\n",
    "### Temp.L (Coefficiente del lag):\n",
    "Indica l'importanza di un dato lag nella previsione del valore attuale della serie temporale.\n",
    "Un valore significativo di Temp.L implica che il lag contribuisce in modo rilevante al modello.\n",
    "\n",
    "### P > ∣z∣ (Valore p associato al coefficiente):\n",
    "Misura la probabilità che il coefficiente del lag sia statisticamente significativo.\n",
    "Regola generale:\n",
    "* P >∣z∣ <0.05: Il lag è statisticamente significativo.\n",
    "* P >∣z∣ ≥0.05: Il lag non è significativo e potrebbe essere ignorato."
   ]
  },
  {
   "cell_type": "markdown",
   "id": "3eec155f",
   "metadata": {},
   "source": [
    "## Varianza dei Lag e Significatività\n",
    "La varianza dei lag gioca un ruolo importante nell'identificazione dei lag rilevanti. \n",
    "\n",
    "1. Bassa Varianza dei Lag\n",
    "+ I coefficienti dei lag (Temp.L) sono simili tra loro.\n",
    "+ In questo caso, anche un singolo lag insignificante può influire poco sul modello generale.\n",
    "+ Azioni:\n",
    "> Se tutti i lag sono significativi (P<0.05), il modello è affidabile.\n",
    "\n",
    "2. Alta Varianza dei Lag\n",
    "+ I coefficienti dei lag mostrano differenze marcate (alcuni sono molto grandi o molto piccoli).\n",
    "+ Lag con P>∣z∣≥0.05 possono distorcere il modello.\n",
    "+ Azioni: Rimuovere i lag non significativi per semplificare il modello.\n",
    "+ Verificare se la rimozione migliora le metriche generali (AIC, BIC, o errore residuo)."
   ]
  },
  {
   "cell_type": "markdown",
   "id": "13f5cb82",
   "metadata": {},
   "source": [
    "# Modello ARMA (Autoregressive Moving Average)\n",
    "Un modello ARMA è un modello statistico utilizzato per analizzare e prevedere serie temporali stazionarie.\n",
    "Combina due componenti fondamentali:\n",
    "1. componente autoregressiva (AR): utilizza i valori passati della serie per prevedere il valore attuale. \n",
    "2. media mobile (MA): utilizza gli errori del passato per prevedere il valore attuale. \n",
    "\n",
    "### Caratteristiche\n",
    "* Si applica solo a serie temporali stazionarie (cioè con media e varianza costanti nel tempo).\n",
    "é Se la serie non è stazionaria, si può differenziare e usare un modello ARIMA, che aggiunge una componente integrata (I = Integrated).\n",
    "\n",
    "### Quando si usa un ARMA?\n",
    "* Quando la serie ha un comportamento costante nel tempo (niente trend o stagionalità).\n",
    "* Quando si vogliono catturare pattern di dipendenza sia nei valori passati (AR) sia negli errori (MA)."
   ]
  },
  {
   "cell_type": "markdown",
   "id": "a3e7e065",
   "metadata": {
    "slideshow": {
     "slide_type": "slide"
    }
   },
   "source": [
    "# Media Mobile (Moving Average)\n",
    "La media mobile è una tecnica che consiste nel calcolare la media di un certo numero di valori consecutivi in una serie temporale, e far \"scorrere\" questa media lungo la serie per ottenere una nuova serie più liscia.\n",
    "\n",
    "1. Smorza le fluttuazioni casuali (rumore) nei dati.\n",
    "2. Evidenzia i trend sottostanti in una serie temporale.\n",
    "3. È una base per modelli più complessi, come la parte MA dei modelli ARMA/ARIMA."
   ]
  },
  {
   "cell_type": "markdown",
   "id": "d5d63d62-4287-4e3f-8054-60c6528da19f",
   "metadata": {
    "slideshow": {
     "slide_type": "subslide"
    },
    "tags": []
   },
   "source": [
    "In un modello MA, invece di guardare direttamente i dati stessi (come la temperatura ogni giorno), guardiamo gli \"errori\" commessi nelle previsioni precedenti.\n",
    "\"Errore\" qui significa quanto eravamo fuori nelle nostre previsioni passate. \n",
    "\n",
    "Ad esempio, se abbiamo previsto che la temperatura di ieri sarebbe stata di 70°F, ma in realtà era di 72°F, l'errore è di 2°F.\n",
    "* Il modello MA dice che la migliore previsione per la temperatura di oggi è una combinazione di questi errori passati. Quindi, è come dire: \"So di essere stato fuori di alcuni gradi negli ultimi giorni, lasciami usare quelle informazioni per fare un'ipotesi migliore oggi\"."
   ]
  },
  {
   "cell_type": "markdown",
   "id": "d7d94f7a-432c-4e02-b206-0f586d8f0205",
   "metadata": {
    "slideshow": {
     "slide_type": "slide"
    },
    "tags": []
   },
   "source": [
    "# Modelli di media mobile (MA)\n",
    "\n",
    "## Cos'è un modello MA?\n",
    "\n",
    "- Un **modello di media mobile (MA)** è un approccio statistico utilizzato per prevedere i dati delle serie temporali.\n",
    "\n",
    "- Prevede i valori futuri in base agli errori (differenze tra valori effettivi e previsti) delle previsioni passate.\n",
    "\n",
    "## Come Funziona?\n",
    "\n",
    "- Invece di utilizzare direttamente i valori passati della serie, il modello MA utilizza gli errori di previsione passati.\n",
    "\n",
    "- Un errore di previsione è la differenza tra il valore effettivo e il valore previsto in un momento precedente.\n",
    "\n",
    "## Formulazione del modello\n",
    "\n",
    "- Il modello MA è definito come:\n",
    "\n",
    "$Y_t = \\mu + ε_t + θ_1 ε_{t-1} + θ_2 ε_{t-2} + ... + θ_q ε_{t-q}$\n",
    "\n",
    "\n",
    "where,\n",
    "- $Y_t$ è il valore al momento $t$,\n",
    "- $\\mu$ è la media della serie,\n",
    "- $ε_t$ è la previsione dell'errore al tempo `t`,\n",
    "- $θ_1, θ_2, ..., θ_q$ sono i parametri del modello,\n",
    "- $q$ è l'ordine del modello MA."
   ]
  },
  {
   "cell_type": "code",
   "execution_count": 6,
   "id": "7720b147-7dc8-4439-a2b1-fe172bc44ab1",
   "metadata": {},
   "outputs": [
    {
     "name": "stderr",
     "output_type": "stream",
     "text": [
      "/var/folders/11/02ps53796pncj4x4b53sr7nw0000gn/T/ipykernel_83339/2788707242.py:6: FutureWarning: 'M' is deprecated and will be removed in a future version, please use 'ME' instead.\n",
      "  monthly_avg_co = df.resample('M').mean() # raggruppo i dati per mesi e calcolo media mensile CO2\n"
     ]
    }
   ],
   "source": [
    "df = pd.read_csv(\"https://raw.githubusercontent.com/stanfordnlp/plot-interface/master/public/data/co2-concentration.csv\")\n",
    "\n",
    "df['Date'] = pd.to_datetime(df['Date'])\n",
    "df.set_index('Date', inplace=True)\n",
    "\n",
    "monthly_avg_co = df.resample('M').mean() # raggruppo i dati per mesi e calcolo media mensile CO2\n",
    "\n",
    "monthly_avg_co = monthly_avg_co.diff() # DIFF tra un mese ed il precedente\n",
    "                                       # eliminate eventuale trend lineare, rende la serie stazionaria"
   ]
  },
  {
   "cell_type": "code",
   "execution_count": 7,
   "id": "40326b97",
   "metadata": {},
   "outputs": [
    {
     "data": {
      "text/plain": [
       "<Axes: xlabel='Date'>"
      ]
     },
     "execution_count": 7,
     "metadata": {},
     "output_type": "execute_result"
    },
    {
     "data": {
      "image/png": "[encoded data removed]",
      "text/plain": [
       "<Figure size 640x480 with 1 Axes>"
      ]
     },
     "metadata": {},
     "output_type": "display_data"
    }
   ],
   "source": [
    "df.plot()"
   ]
  },
  {
   "cell_type": "code",
   "execution_count": 8,
   "id": "e0a8a88e-ef84-4e65-a46f-144796ec4ed5",
   "metadata": {},
   "outputs": [
    {
     "data": {
      "text/plain": [
       "<Axes: xlabel='Date'>"
      ]
     },
     "execution_count": 8,
     "metadata": {},
     "output_type": "execute_result"
    },
    {
     "data": {
      "image/png": "[encoded data removed]",
      "text/plain": [
       "<Figure size 640x480 with 1 Axes>"
      ]
     },
     "metadata": {},
     "output_type": "display_data"
    }
   ],
   "source": [
    "monthly_avg_co.plot()"
   ]
  },
  {
   "cell_type": "markdown",
   "id": "f38c346d",
   "metadata": {},
   "source": [
    "Applico il modello `ARMA(1,1)` alla serie differenziata delle concentrazioni mensili di CO₂.\n",
    "\n",
    "`ma_model = sm.tsa.ARIMA(monthly_avg_co['CO2'], order=(1, 0, 1))`\n",
    "* `ARIMA(1, 0, 1)` significa:\n",
    "1. `1` componente AR (autoregressiva) → considera l’effetto del mese precedente;\n",
    "2. `0` differenziazioni → la serie è già differenziata prima, quindi non serve che il modello lo faccia;\n",
    "3. `1` componente MA (media mobile) → tiene conto dell’errore residuo del mese precedente.\n",
    "\n",
    "Questo è tecnicamente un modello ARMA(1,1).\n",
    "\n",
    "#### Adattamento del modello\n",
    "`ma_result = ma_model.fit()`\n",
    "1. Stima i parametri AR e MA in base ai dati.\n",
    "2. Costruisce il modello più adatto per spiegare la dinamica delle variazioni di CO₂.\n",
    "\n",
    "> ### \"La variazione della CO₂ in un certo mese può essere spiegata sia dalla variazione del mese precedente (componente AR), sia dall’errore che ho fatto il mese precedente nella previsione (componente MA).\""
   ]
  },
  {
   "cell_type": "code",
   "execution_count": 9,
   "id": "f9526b2e-3df8-4ff4-875c-a6bc5dff779a",
   "metadata": {},
   "outputs": [
    {
     "name": "stdout",
     "output_type": "stream",
     "text": [
      "                               SARIMAX Results                                \n",
      "==============================================================================\n",
      "Dep. Variable:                    CO2   No. Observations:                  718\n",
      "Model:                 ARIMA(1, 0, 1)   Log Likelihood                -884.455\n",
      "Date:                Tue, 10 Dec 2024   AIC                           1776.909\n",
      "Time:                        15:06:28   BIC                           1795.215\n",
      "Sample:                    03-31-1958   HQIC                          1783.977\n",
      "                         - 12-31-2017                                         \n",
      "Covariance Type:                  opg                                         \n",
      "==============================================================================\n",
      "                 coef    std err          z      P>|z|      [0.025      0.975]\n",
      "------------------------------------------------------------------------------\n",
      "const          0.1336      0.099      1.351      0.177      -0.060       0.327\n",
      "ar.L1          0.5469      0.043     12.862      0.000       0.464       0.630\n",
      "ma.L1          0.3727      0.048      7.800      0.000       0.279       0.466\n",
      "sigma2         0.7063      0.045     15.735      0.000       0.618       0.794\n",
      "===================================================================================\n",
      "Ljung-Box (L1) (Q):                   3.79   Jarque-Bera (JB):                 5.42\n",
      "Prob(Q):                              0.05   Prob(JB):                         0.07\n",
      "Heteroskedasticity (H):               1.49   Skew:                             0.10\n",
      "Prob(H) (two-sided):                  0.00   Kurtosis:                         2.63\n",
      "===================================================================================\n",
      "\n",
      "Warnings:\n",
      "[1] Covariance matrix calculated using the outer product of gradients (complex-step).\n"
     ]
    }
   ],
   "source": [
    "\n",
    "ma_model = sm.tsa.ARIMA(monthly_avg_co['CO2'], order=(1, 0, 1))\n",
    "\n",
    "# order=(AR, DIFF, Ma)\n",
    "# quante componenti AR vuoi includere? il mese prima influisce? quanto? se si=1\n",
    "# avevo già differenziato, per cui lascio = 0\n",
    "# ritieni che MA influisca? =1\n",
    "\n",
    "ma_result = ma_model.fit()\n",
    "\n",
    "print(ma_result.summary())\n",
    "\n",
    "# in questo modo combiniamo AR e MA insieme "
   ]
  },
  {
   "cell_type": "markdown",
   "id": "6579f104",
   "metadata": {},
   "source": [
    "### Parametri stimati \n",
    "1. `const`> 0.1336\t> Costante di drift (aumento medio)\t> 0.177\t> Non significativo: potrebbe essere 0\n",
    "2. `ar.L1` > 0.5469 > Peso del mese precedente > 0.000>  Significativo: la variazione di CO₂ dipende dal valore del mese prima\n",
    "3. `ma.L1` > 0.3727\t> Influenza dell’errore precedente > 0.000 > Significativo: gli \"errori\" passati influiscono sulle variazioni attuali\n",
    "4. `sigma2`\t> 0.7063 > Varianza degli errori residui> indica la dispersione del modello\n",
    "\n",
    "### Test diagnostici\n",
    "* `AIC = 1776.909 / BIC = 1795.215`: più bassi sono questi valori, migliore è il modello (usati per confronto tra modelli).\n",
    "* `Ljung-Box Q (p = 0.05)`: indica possibile autocorrelazione residua → sarebbe meglio verificarla con un plot dell'ACF dei residui.\n",
    "* `Jarque-Bera (p = 0.07)`: i residui sono quasi normali, ma non perfettamente.\n",
    "* `Heteroskedasticity (H = 1.49, p = 0.00)`: gli errori non hanno varianza costante → c'è eteroschedasticità, che potrebbe richiedere un modello più robusto (es. GARCH o SARIMA).\n",
    "\n",
    "### Cosa significa?\n",
    "> ### Il modello ARMA(1,1) funziona bene per descrivere le variazioni mensili della CO₂.\n",
    "\n",
    "La variazione attuale è influenzata:\n",
    "- positivamente dalla variazione del mese precedente (ar.L1 = 0.5469) e dagli errori di previsione precedenti (ma.L1 = 0.3727)\n",
    "- Il termine costante non è significativo, quindi l’aumento medio mensile potrebbe essere nullo (o molto basso).\n",
    "- Alcune diagnosi dei residui (eteroschedasticità, autocorrelazione marginale) suggeriscono che il modello non è perfetto, ma comunque valido per una prima previsione."
   ]
  },
  {
   "cell_type": "markdown",
   "id": "07ebe1ca",
   "metadata": {},
   "source": [
    "## Vario AR con 3\n",
    "Qual è il miglior modello in base all'AIC tra lag 1, 2 o 3?"
   ]
  },
  {
   "cell_type": "code",
   "execution_count": 10,
   "id": "3032f85e-6ef2-443d-bc89-b15c68e0e6fb",
   "metadata": {},
   "outputs": [
    {
     "name": "stdout",
     "output_type": "stream",
     "text": [
      "                               SARIMAX Results                                \n",
      "==============================================================================\n",
      "Dep. Variable:                    CO2   No. Observations:                  718\n",
      "Model:                 ARIMA(3, 0, 1)   Log Likelihood                -720.107\n",
      "Date:                Mon, 02 Jun 2025   AIC                           1452.215\n",
      "Time:                        21:58:47   BIC                           1479.674\n",
      "Sample:                    03-31-1958   HQIC                          1462.817\n",
      "                         - 12-31-2017                                         \n",
      "Covariance Type:                  opg                                         \n",
      "==============================================================================\n",
      "                 coef    std err          z      P>|z|      [0.025      0.975]\n",
      "------------------------------------------------------------------------------\n",
      "const          0.1324      0.008     15.594      0.000       0.116       0.149\n",
      "ar.L1          1.5130      0.046     32.637      0.000       1.422       1.604\n",
      "ar.L2         -0.7966      0.078    -10.267      0.000      -0.949      -0.644\n",
      "ar.L3         -0.0302      0.049     -0.615      0.539      -0.127       0.066\n",
      "ma.L1         -0.9081      0.021    -43.474      0.000      -0.949      -0.867\n",
      "sigma2         0.4425      0.025     17.662      0.000       0.393       0.492\n",
      "===================================================================================\n",
      "Ljung-Box (L1) (Q):                   0.01   Jarque-Bera (JB):                61.87\n",
      "Prob(Q):                              0.93   Prob(JB):                         0.00\n",
      "Heteroskedasticity (H):               1.56   Skew:                             0.67\n",
      "Prob(H) (two-sided):                  0.00   Kurtosis:                         3.53\n",
      "===================================================================================\n",
      "\n",
      "Warnings:\n",
      "[1] Covariance matrix calculated using the outer product of gradients (complex-step).\n"
     ]
    }
   ],
   "source": [
    "ma_model = sm.tsa.ARIMA(monthly_avg_co['CO2'], order=(3, 0, 1))\n",
    "ma_result = ma_model.fit()\n",
    "\n",
    "print(ma_result.summary())\n",
    "\n",
    "# verifichiamo effetto su AIC con lag=1, 2 o 3: quale il minore? \n",
    "# ar.L1 molto forte significativo\n",
    "# ar.L2 negativo, significativo\n",
    "# ar.L3 non significativo \n",
    "\n",
    "# 301 migliore di 101"
   ]
  },
  {
   "cell_type": "code",
   "execution_count": 11,
   "id": "2be51d6d",
   "metadata": {},
   "outputs": [
    {
     "name": "stdout",
     "output_type": "stream",
     "text": [
      "ARIMA(1,0,1) AIC: 1776.91\n",
      "ARIMA(2,0,1) AIC: 1450.81\n",
      "ARIMA(3,0,1) AIC: 1452.21\n",
      "\n",
      "✅ Miglior modello secondo AIC: ARIMA(2,0,1) con AIC = 1450.81\n"
     ]
    }
   ],
   "source": [
    "from statsmodels.tsa.arima.model import ARIMA\n",
    "\n",
    "aic_results = []\n",
    "\n",
    "for p in [1, 2, 3]:\n",
    "    model = ARIMA(monthly_avg_co['CO2'], order=(p, 0, 1))\n",
    "    result = model.fit()\n",
    "    aic_results.append((p, result.aic))\n",
    "    print(f\"ARIMA({p},0,1) AIC: {result.aic:.2f}\")\n",
    "\n",
    "# Mostra il migliore\n",
    "best = min(aic_results, key=lambda x: x[1])\n",
    "print(f\"\\n✅ Miglior modello secondo AIC: ARIMA({best[0]},0,1) con AIC = {best[1]:.2f}\")\n"
   ]
  },
  {
   "cell_type": "markdown",
   "id": "8fdf2ce5",
   "metadata": {},
   "source": [
    "# Modello ARIMA (AutoRegressive Integrated Moving Average)\n",
    "\n",
    "Abbiamo comprenso che il modello ARIMA è uno dei più popolari per l'analisi e la previsione delle serie temporali.\n",
    "\n",
    "Combina tre componenti principali:\n",
    "1. **AR (AutoRegressive): **\n",
    "+ Modella la dipendenza tra un valore della serie e i suoi valori passati (lag).\n",
    "+ Governato dal parametro p: il numero di lag autoregressivi.\n",
    "\n",
    "2. **I (Integrated):**\n",
    "+ Rappresenta il numero di differenziazioni (Δ) necessarie per rendere la serie stazionaria.\n",
    "+ Governato dal parametro d: il grado di differenziazione.\n",
    "\n",
    "3. **MA (Moving Average):**\n",
    "+ Modella la dipendenza tra un valore della serie e i residui di errori passati.\n",
    "+ Governato dal parametro q: il numero di termini di media mobile.\n"
   ]
  },
  {
   "cell_type": "markdown",
   "id": "5a9c1108",
   "metadata": {},
   "source": [
    "1. **Dep. Variable:**\n",
    "+ Variabile dipendente (serie temporale analizzata).\n",
    "+ Model: Specifica il modello (ad esempio, ARIMA(1,1,1)).\n",
    "+ Date: Data e ora di esecuzione del modello.\n",
    "+ Sample: Intervallo temporale dei dati utilizzati per stimare il modello.\n",
    "\n",
    "2. **Parametri del Modello**\n",
    "+ AR (AutoRegressive):Coefficiente stimato per i termini autoregressivi. Indica quanto i valori passati della serie influenzano il valore attuale.\n",
    "+ MA (Moving Average):Coefficiente stimato per i termini di media mobile. Indica quanto gli errori passati influenzano il valore attuale.\n",
    "+ Intercept: Termine costante (se applicabile).\n",
    "\n",
    "3. **Per ogni parametro:**\n",
    "+ coef: Coefficiente stimato.\n",
    "+ std err: Errore standard del coefficiente.\n",
    "+ z: Statistica z per verificare la significatività del coefficiente.\n",
    "+ P>|z|:Valore p: misura della significatività statistica. P<0.05: il coefficiente è statisticamente significativo.\n",
    "\n",
    "4. **Diagnostica Residui**\n",
    "+ Ljung-Box (Q): Test per verificare l'autocorrelazione dei residui. Un p-value alto indica che i residui non sono autocorrelati (buon segno).\n",
    "+ Jarque-Bera (JB): Test per verificare se i residui seguono una distribuzione normale. Un p-value alto indica che i residui sono normalmente distribuiti.\n",
    "\n",
    "5. **Criteri di Informazione**\n",
    "+ AIC (Akaike Information Criterion): Misura della bontà di adattamento del modello penalizzata per il numero di parametri. Modelli con valori AIC più bassi sono preferibili.\n",
    "+ BIC (Bayesian Information Criterion): Simile all'AIC, ma con una penalizzazione più severa per modelli complessi.\n",
    "\n",
    "6. **Performance del Modello**\n",
    "+ Log-Likelihood: Logaritmo della funzione di verosimiglianza massimizzata. Valori più alti indicano un miglior adattamento.\n",
    "+ Hannan-Quinn Criterion (HQIC): Simile a AIC/BIC, penalizza la complessità del modello.\n"
   ]
  },
  {
   "cell_type": "markdown",
   "id": "b5ed653f-f038-4fcb-9992-d6aaad5a94c1",
   "metadata": {},
   "source": [
    "# Modelli di media mobile integrata autoregressiva (ARIMA)\n",
    "\n",
    "Integriamo i modelli: ciò significa che possiamo modellare sia il termine di errore che la media mobile."
   ]
  },
  {
   "cell_type": "code",
   "execution_count": 12,
   "id": "40614097-5a3f-4b19-a963-6125dba3fd67",
   "metadata": {},
   "outputs": [
    {
     "name": "stderr",
     "output_type": "stream",
     "text": [
      "/var/folders/11/02ps53796pncj4x4b53sr7nw0000gn/T/ipykernel_83339/1027362375.py:8: FutureWarning: 'M' is deprecated and will be removed in a future version, please use 'ME' instead.\n",
      "  monthly_avg_co = df.resample('M').mean()\n"
     ]
    }
   ],
   "source": [
    "import pandas as pd\n",
    "\n",
    "df = pd.read_csv(\"https://raw.githubusercontent.com/stanfordnlp/plot-interface/master/public/data/co2-concentration.csv\")\n",
    "\n",
    "df['Date'] = pd.to_datetime(df['Date'])\n",
    "df.set_index('Date', inplace=True)\n",
    "\n",
    "monthly_avg_co = df.resample('M').mean()\n",
    "\n",
    "monthly_avg_co = monthly_avg_co.diff()\n"
   ]
  },
  {
   "cell_type": "markdown",
   "id": "1ebd7b6f",
   "metadata": {},
   "source": [
    "Eseguiamo un modello `ARMA(1,1)` sulla serie delle variazioni mensili della concentrazione di CO₂ `(monthly_avg_co['CO2'])`, già differenziata manualmente.\n",
    "\n",
    "Cosa troverai nel riepilogo del modello ARIMA(1, 0, 1)\n",
    "\n",
    "1. Parametri stimati\n",
    "Parametro\tSpiegazione\n",
    "const\tLa media del processo (drift dopo la differenziazione)\n",
    "ar.L1\tQuanto il valore del mese precedente influisce sul valore attuale (componente AR)\n",
    "ma.L1\tQuanto l'errore del mese precedente influisce sul valore attuale (componente MA)\n",
    "sigma2\tVarianza del rumore residuo del modello\n",
    "Per ogni parametro: coef, std err, z, P>|z|, intervallo di confidenza.\n",
    "👉 Se p-value < 0.05, il coefficiente è statisticamente significativo.\n",
    "\n",
    "2. Statistiche globali\n",
    "Statistica\tSignificato\n",
    "Log Likelihood\tQuanto bene il modello si adatta ai dati\n",
    "AIC, BIC, HQIC\tUsate per confrontare modelli: più basso è meglio\n",
    "Ljung-Box (Q)\tVerifica se i residui sono autocorrelati (vuoi p > 0.05)\n",
    "Jarque-Bera (JB)\tVerifica se i residui sono normalmente distribuiti\n",
    "Heteroskedasticity (H)\tTesta se la varianza dei residui è costante"
   ]
  },
  {
   "cell_type": "code",
   "execution_count": 14,
   "id": "2fa0298b-a332-4365-86ee-598079288ced",
   "metadata": {},
   "outputs": [
    {
     "name": "stdout",
     "output_type": "stream",
     "text": [
      "                               SARIMAX Results                                \n",
      "==============================================================================\n",
      "Dep. Variable:                    CO2   No. Observations:                  718\n",
      "Model:                 ARIMA(1, 0, 1)   Log Likelihood                -884.455\n",
      "Date:                Mon, 02 Jun 2025   AIC                           1776.909\n",
      "Time:                        22:20:43   BIC                           1795.215\n",
      "Sample:                    03-31-1958   HQIC                          1783.977\n",
      "                         - 12-31-2017                                         \n",
      "Covariance Type:                  opg                                         \n",
      "==============================================================================\n",
      "                 coef    std err          z      P>|z|      [0.025      0.975]\n",
      "------------------------------------------------------------------------------\n",
      "const          0.1336      0.099      1.351      0.177      -0.060       0.327\n",
      "ar.L1          0.5469      0.043     12.862      0.000       0.464       0.630\n",
      "ma.L1          0.3727      0.048      7.800      0.000       0.279       0.466\n",
      "sigma2         0.7063      0.045     15.735      0.000       0.618       0.794\n",
      "===================================================================================\n",
      "Ljung-Box (L1) (Q):                   3.79   Jarque-Bera (JB):                 5.42\n",
      "Prob(Q):                              0.05   Prob(JB):                         0.07\n",
      "Heteroskedasticity (H):               1.49   Skew:                             0.10\n",
      "Prob(H) (two-sided):                  0.00   Kurtosis:                         2.63\n",
      "===================================================================================\n",
      "\n",
      "Warnings:\n",
      "[1] Covariance matrix calculated using the outer product of gradients (complex-step).\n"
     ]
    }
   ],
   "source": [
    "import statsmodels.api as sm\n",
    "\n",
    "ma_model = sm.tsa.ARIMA(monthly_avg_co['CO2'], order=(1, 0, 1))\n",
    "ma_result = ma_model.fit()\n",
    "\n",
    "print(ma_result.summary())"
   ]
  },
  {
   "cell_type": "markdown",
   "id": "aacae291",
   "metadata": {},
   "source": [
    "1. Struttura del modello\n",
    "* ARIMA(1, 0, 1) > AR(1) + MA(1), senza differenziazione interna\n",
    "* Osservazioni > 718 (mensili, 1958–2017)\n",
    "* Covariance > opg (Outer Product of Gradients)\n",
    "\n",
    "2. Coefficienti stimati\n",
    "* const\t0.1336\t0.177\tNon significativo → il drift (crescita media) può essere nullo\n",
    "* ar.L1\t0.5469\t0.000\tSignificativo → la variazione di CO₂ dipende dal mese precedente\n",
    "* ma.L1\t0.3727\t0.000\tSignificativo → anche l’errore passato influisce\n",
    "* sigma2\t0.7063\t0.000\tVarianza degli errori → misura la dispersione residua\n",
    "\n",
    "Modello valido: i termini AR e MA sono entrambi significativi.\n",
    "\n",
    "3. Statistiche globali\n",
    "* AIC\t1776.91\tIndice di bontà del modello (più basso = meglio)\n",
    "* BIC\t1795.22\tCome AIC, ma penalizza di più la complessità\n",
    "* HQIC\t1783.98\tAlternativa a AIC e BIC\n",
    "* Log Likelihood\t-884.46\tMisura di adattamento del modello\n",
    "\n",
    "AIC più alto rispetto ad ARIMA(3,0,1) (che aveva AIC ≈ 1452) → peggiore.\n",
    "\n",
    "4. Test diagnostici sui residui\n",
    "* Ljung-Box (Q)\t3.79 (p = 0.05)\tMarginale autocorrelazione residua\n",
    "* Jarque-Bera\t5.42 (p = 0.07)\tQuasi normale, ma non perfettamente\n",
    "* Heteroskedasticity (H)\t1.49 (p = 0.00)\tVarianza dei residui non costante (eteroschedasticità)\n",
    "\n",
    "* I residui non sono perfetti, ma il modello è comunque accettabile.\n",
    "* Modello ARIMA(1,0,1) è semplice e i suoi coefficienti principali sono significativi.\n",
    "* AIC alto rispetto ad ARIMA(3,0,1) → meno efficace in termini di adattamento.\n",
    "* Alcuni test sui residui indicano possibili miglioramenti (varianza non costante, residui non del tutto normali)."
   ]
  },
  {
   "cell_type": "markdown",
   "id": "2d7d2782-9222-42d0-90d3-935c82554044",
   "metadata": {},
   "source": [
    "# Stagionale ARIMA (SARIMA)\n",
    "Il modello SARIMA (Seasonal ARIMA) è un’estensione del modello ARIMA che permette di modellare anche la stagionalità nelle serie temporali.\n",
    "\n",
    "> ### SARIMA = ARIMA + componente stagionale.\n",
    "\n",
    "1. Il modello ARIMA è adatto a serie non stagionali.\n",
    "2. Il SARIMA invece gestisce anche i pattern che si ripetono regolarmente, come:\n",
    "* vendite natalizie,\n",
    "* temperature estive/invernali,\n",
    "* concentrazione di CO₂ durante l’anno.\n",
    "\n",
    "#### Quando usare SARIMA?\n",
    "Si utilizza se:\n",
    "* la serie mostra stagionalità regolare (es. cicli mensili, trimestrali, settimanali),\n",
    "* abbiamo già provato ARIMA ma rimangono pattern periodici,\n",
    "* vogliamo previsioni più realistiche per fenomeni stagionali.\n",
    "\n",
    "#### SARIMA(p, d, q)(P, D, Q, s)\n",
    "Dove:\n",
    "* p = ordine dell'autoregressione (AR)\n",
    "* d = numero di differenziazioni non stagionali\n",
    "* q = ordine della media mobile (MA)\n",
    "* P = ordine della componente autoregressiva stagionale\n",
    "* D = numero di differenziazioni stagionali\n",
    "* Q = ordine della componente media mobile stagionale\n",
    "* s = periodicità della stagione (es. 12 per dati mensili → 1 anno)"
   ]
  },
  {
   "cell_type": "code",
   "execution_count": 18,
   "id": "1cbbfd8b-2c91-4352-bcd1-e21f414107c1",
   "metadata": {},
   "outputs": [
    {
     "name": "stderr",
     "output_type": "stream",
     "text": [
      "/var/folders/11/02ps53796pncj4x4b53sr7nw0000gn/T/ipykernel_83339/394107661.py:11: FutureWarning: 'M' is deprecated and will be removed in a future version, please use 'ME' instead.\n",
      "  monthly_avg_co = df.resample('M').mean()\n"
     ]
    }
   ],
   "source": [
    "import pandas as pd\n",
    "import statsmodels.api as sm\n",
    "\n",
    "df = pd.read_csv(\"https://raw.githubusercontent.com/stanfordnlp/plot-interface/master/public/data/co2-concentration.csv\")\n",
    "\n",
    "df['Date'] = pd.to_datetime(df['Date'])\n",
    "df.set_index('Date', inplace=True)\n",
    "\n",
    "# Ricampionare alla media mensile e prendere la prima differenza \n",
    "#per renderla stazionaria\n",
    "monthly_avg_co = df.resample('M').mean()\n",
    "monthly_avg_co_diff = monthly_avg_co.diff().dropna()"
   ]
  },
  {
   "cell_type": "code",
   "execution_count": 19,
   "id": "f7982102-444d-4a2e-b383-b1004467582a",
   "metadata": {},
   "outputs": [
    {
     "data": {
      "text/plain": [
       "<Axes: xlabel='Date'>"
      ]
     },
     "execution_count": 19,
     "metadata": {},
     "output_type": "execute_result"
    },
    {
     "data": {
      "image/png": "[encoded data removed]",
      "text/plain": [
       "<Figure size 640x480 with 1 Axes>"
      ]
     },
     "metadata": {},
     "output_type": "display_data"
    }
   ],
   "source": [
    "df.plot()"
   ]
  },
  {
   "cell_type": "code",
   "execution_count": 17,
   "id": "386bd6b6-1ef4-4754-a4d5-1f6669c8d4c4",
   "metadata": {},
   "outputs": [
    {
     "name": "stderr",
     "output_type": "stream",
     "text": [
      "/Users/emilianocitarella/opt/anaconda3/lib/python3.9/site-packages/statsmodels/tsa/base/tsa_model.py:471: ValueWarning: A date index has been provided, but it has no associated frequency information and so will be ignored when e.g. forecasting.\n",
      "  self._init_dates(dates, freq)\n",
      "/Users/emilianocitarella/opt/anaconda3/lib/python3.9/site-packages/statsmodels/tsa/base/tsa_model.py:471: ValueWarning: A date index has been provided, but it has no associated frequency information and so will be ignored when e.g. forecasting.\n",
      "  self._init_dates(dates, freq)\n",
      " This problem is unconstrained.\n"
     ]
    },
    {
     "name": "stdout",
     "output_type": "stream",
     "text": [
      "RUNNING THE L-BFGS-B CODE\n",
      "\n",
      "           * * *\n",
      "\n",
      "Machine precision = 2.220D-16\n",
      " N =            6     M =           10\n",
      "\n",
      "At X0         0 variables are exactly at the bounds\n",
      "\n",
      "At iterate    0    f=  7.80970D-01    |proj g|=  3.28873D-01\n",
      "\n",
      "At iterate    5    f=  7.33444D-01    |proj g|=  4.45706D-02\n",
      "\n",
      "At iterate   10    f=  7.26392D-01    |proj g|=  7.41950D-02\n",
      "\n",
      "At iterate   15    f=  7.17299D-01    |proj g|=  1.18600D-02\n",
      "\n",
      "At iterate   20    f=  7.10925D-01    |proj g|=  1.26657D-02\n",
      "\n",
      "At iterate   25    f=  7.05530D-01    |proj g|=  9.72681D-03\n",
      "\n",
      "At iterate   30    f=  7.04907D-01    |proj g|=  5.17351D-03\n",
      "\n",
      "At iterate   35    f=  7.04823D-01    |proj g|=  1.77653D-03\n",
      "\n",
      "At iterate   40    f=  7.04819D-01    |proj g|=  1.65079D-03\n",
      "\n",
      "At iterate   45    f=  7.04819D-01    |proj g|=  1.01804D-04\n",
      "\n",
      "           * * *\n",
      "\n",
      "Tit   = total number of iterations\n",
      "Tnf   = total number of function evaluations\n",
      "Tnint = total number of segments explored during Cauchy searches\n",
      "Skip  = number of BFGS updates skipped\n",
      "Nact  = number of active bounds at final generalized Cauchy point\n",
      "Projg = norm of the final projected gradient\n",
      "F     = final function value\n",
      "\n",
      "           * * *\n",
      "\n",
      "   N    Tit     Tnf  Tnint  Skip  Nact     Projg        F\n",
      "    6     47     64      1     0     0   2.118D-04   7.048D-01\n",
      "  F =  0.70481876345349892     \n",
      "\n",
      "CONVERGENCE: REL_REDUCTION_OF_F_<=_FACTR*EPSMCH             \n",
      "                                     SARIMAX Results                                      \n",
      "==========================================================================================\n",
      "Dep. Variable:                                CO2   No. Observations:                  709\n",
      "Model:             SARIMAX(2, 1, 1)x(1, 1, 1, 12)   Log Likelihood                -499.717\n",
      "Date:                            Mon, 02 Jun 2025   AIC                           1011.433\n",
      "Time:                                    22:25:07   BIC                           1038.705\n",
      "Sample:                                         0   HQIC                          1021.978\n",
      "                                            - 709                                         \n",
      "Covariance Type:                              opg                                         \n",
      "==============================================================================\n",
      "                 coef    std err          z      P>|z|      [0.025      0.975]\n",
      "------------------------------------------------------------------------------\n",
      "ar.L1          0.1424      0.025      5.715      0.000       0.094       0.191\n",
      "ar.L2          0.0312      0.023      1.329      0.184      -0.015       0.077\n",
      "ma.L1         -0.9994      0.128     -7.796      0.000      -1.251      -0.748\n",
      "ar.S.L12       0.1443      0.054      2.659      0.008       0.038       0.251\n",
      "ma.S.L12      -0.6340      0.050    -12.598      0.000      -0.733      -0.535\n",
      "sigma2         0.2420      0.032      7.610      0.000       0.180       0.304\n",
      "===================================================================================\n",
      "Ljung-Box (L1) (Q):                   0.76   Jarque-Bera (JB):              1552.60\n",
      "Prob(Q):                              0.38   Prob(JB):                         0.00\n",
      "Heteroskedasticity (H):               0.43   Skew:                             0.78\n",
      "Prob(H) (two-sided):                  0.00   Kurtosis:                        10.15\n",
      "===================================================================================\n",
      "\n",
      "Warnings:\n",
      "[1] Covariance matrix calculated using the outer product of gradients (complex-step).\n"
     ]
    }
   ],
   "source": [
    "# modifichiamo p, d, q e i parametri seasonal_order secondo necessità\n",
    "# esempio per i parametri: p=1, d=1, q=1 for the non-seasonal part; \n",
    "# P=1, D=1, Q=1, s=12 for the seasonal part (assuming yearly seasonality)\n",
    "\n",
    "model = sm.tsa.SARIMAX(monthly_avg_co_diff, \n",
    "                       order=(2, 1, 1), # arima: 2 componenti AR, DIFF adesso=1, MA=1\n",
    "                       seasonal_order=(1, 1, 1, 12))\n",
    "\n",
    "sarima_result = model.fit()\n",
    "\n",
    "print(sarima_result.summary())\n"
   ]
  },
  {
   "cell_type": "markdown",
   "id": "abde20e3",
   "metadata": {},
   "source": [
    "#### Modello SARIMA(2, 1, 1)(1, 1, 1, 12):\n",
    "1. Componente **non stagionale**:\n",
    "- AR(2): dipendenza da 2 mesi precedenti\n",
    "- I(1): differenziazione per rimuovere trend\n",
    "- MA(1): media mobile dell’errore del mese prima\n",
    "2. Componente stagionale (annuale):\n",
    "- AR(1) stagionale\n",
    "- I(1) stagionale (differenza a distanza 12)\n",
    "- MA(1) stagionale\n",
    "- s=12: periodicità annuale (dati mensili)\n",
    "\n",
    "\n",
    "#### Coefficiente e significatività\n",
    "- ar.L1\t0.1424\t0.000\tSignificativo: il mese precedente ha impatto\n",
    "- ar.L2\t0.0312\t0.184\tNon significativo: il secondo mese prima può essere eliminato\n",
    "- ma.L1\t-0.9994\t0.000\tMolto forte effetto MA\n",
    "- ar.S.L12\t0.1443\t0.008\tSignificativo: c'è memoria stagionale a 12 mesi\n",
    "- ma.S.L12\t-0.6340\t0.000\tSignificativo: effetto errore stagionale\n",
    "- sigma²\t0.2420\t0.000\tBassa varianza residua: buon adattamento\n",
    "\n",
    "#### Metriche di performance\n",
    "+ Log Likelihood\t-499.717\tMigliore è più alto (meno negativo)\n",
    "+ AIC\t1011.433    Molto più basso rispetto a modelli ARIMA precedenti (es. AIC ≈ 1450–1770)\n",
    "+ BIC\t1038.705\tPer confronto tra modelli con più parametri\n",
    "+ HQIC\t1021.978\tCome AIC, meno penalizzante\n",
    "> L'AIC basso conferma che questo è il modello migliore finora testato.\n",
    " \n",
    "#### Diagnostica residui\n",
    "* Ljung-Box Q (p=0.38)\t✔️ Nessuna autocorrelazione nei residui\t\n",
    "* Jarque-Bera p=0.00\t❌ Residui non normali\t\n",
    "* Heteroskedasticity H=0.43 (p=0.00)\t❌ Residui con varianza non costante (eteroschedasticità)\t\n",
    "\n",
    "Anche se i residui non sono perfettamente normali o omoscedastici, il modello è valido dal punto di vista predittivo e strutturale.\n",
    "\n",
    "#### Conclusione finale\n",
    "Il modello SARIMA(2,1,1)(1,1,1,12):\n",
    "1. Gestisce trend e stagionalità correttamente.\n",
    "2. Ha parametri principali significativi.\n",
    "3. Raggiunge un AIC minimo finora.\n",
    "4. Ha residui non autocorrelati, quindi ben calibrato.\n",
    "5. Può essere migliorato rimuovendo ar.L2, non significativo."
   ]
  },
  {
   "cell_type": "markdown",
   "id": "e30cdc87",
   "metadata": {},
   "source": [
    "# L'algoritmo L-BFGS-B\n",
    "L-BFGS-B è un algoritmo di ottimizzazione usato per trovare i valori migliori dei parametri in un modello (es. ARIMA, SARIMA), cioè quelli che minimizzano l’errore.\n",
    "\n",
    "> Immagina di voler trovare il punto più basso in una vallata (cioè l’errore minimo del modello).\n",
    "L-BFGS-B è un metodo intelligente che scende nella valle facendo piccoli passi, ma usando la pendenza per capire dove andare.\n",
    "\n",
    "* L = Limited-memory → usa pochi dati alla volta, quindi va bene per problemi con molti parametri (come i modelli statistici).\n",
    "* BFGS = è una versione veloce e precisa di un algoritmo che approssima la curvatura della funzione (cioè quanto cambia la pendenza).\n",
    "* B = Bounded → può lavorare anche se metti dei limiti ai valori (es. \"questo parametro deve restare positivo\").\n",
    "\n",
    "Le iterazioni e i dettagli dell'ottimizzazione sono riportati nella prima parte.\n",
    "\n",
    "1. **Iterazioni:**\n",
    "+ L'algoritmo si è fermato dopo 47 iterazioni.\n",
    "+ Ad ogni iterazione, il valore della funzione obiettivo (f) viene ridotto, indicando che l'algoritmo sta convergendo verso il minimo.\n",
    "2. **Gradiente Proiettato (∣projg∣):**\n",
    "+ Misura della pendenza della funzione obiettivo. Diminuisce durante le iterazioni, segnalando che l'ottimizzazione sta raggiungendo un punto stazionario.\n",
    "3. **Convergenza:**\n",
    "+ Messaggio finale: \"CONVERGENCE: REL_REDUCTION_OF_F_<=_FACTR*EPSMCH\".\n",
    "+ L'algoritmo si è fermato perché la riduzione relativa del valore della funzione obiettivo è diventata inferiore a una soglia predefinita, indicando che il minimo è stato trovato."
   ]
  },
  {
   "cell_type": "code",
   "execution_count": null,
   "id": "eb4eb376",
   "metadata": {},
   "outputs": [],
   "source": []
  }
 ],
 "metadata": {
  "celltoolbar": "Slideshow",
  "kernelspec": {
   "display_name": "Python 3 (ipykernel)",
   "language": "python",
   "name": "python3"
  },
  "language_info": {
   "codemirror_mode": {
    "name": "ipython",
    "version": 3
   },
   "file_extension": ".py",
   "mimetype": "text/x-python",
   "name": "python",
   "nbconvert_exporter": "python",
   "pygments_lexer": "ipython3",
   "version": "3.9.7"
  },
  "vscode": {
   "interpreter": {
    "hash": "b0fa6594d8f4cbf19f97940f81e996739fb7646882a419484c72d19e05852a7e"
   }
  }
 },
 "nbformat": 4,
 "nbformat_minor": 5
}
