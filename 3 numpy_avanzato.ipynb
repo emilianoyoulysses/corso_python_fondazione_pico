{
 "cells": [
  {
   "cell_type": "markdown",
   "id": "9989bda9",
   "metadata": {},
   "source": [
    "# Funzioni universali\n",
    "\n",
    "NumPy offre una ricca collezione di `funzioni universali, o ufuncs`, che possiamo utilizzare per eliminare i cicli e ottimizzare il tuo codice. \n",
    "\n",
    "Le funzioni universali sono  oggetti Python che appartengono alla classe `ufunc` di NumPy e lavorano **elemento per elemento (elementwise)** sull'array, senza usare cicli espliciti, ed utilizzando routine sottostanti efficienti sviluppate in C. "
   ]
  },
  {
   "cell_type": "code",
   "execution_count": 2,
   "id": "0c2e8348",
   "metadata": {},
   "outputs": [],
   "source": [
    "import numpy as np"
   ]
  },
  {
   "cell_type": "code",
   "execution_count": 4,
   "id": "0f6d5a09",
   "metadata": {},
   "outputs": [
    {
     "data": {
      "text/plain": [
       "array([ 1,  2,  3,  4,  5,  6,  7,  8,  9, 10])"
      ]
     },
     "execution_count": 4,
     "metadata": {},
     "output_type": "execute_result"
    }
   ],
   "source": [
    "numeri=np.arange(1,11)\n",
    "numeri"
   ]
  },
  {
   "cell_type": "code",
   "execution_count": 5,
   "id": "91fec962",
   "metadata": {},
   "outputs": [
    {
     "data": {
      "text/plain": [
       "array([ 0.84147098,  0.90929743,  0.14112001, -0.7568025 , -0.95892427,\n",
       "       -0.2794155 ,  0.6569866 ,  0.98935825,  0.41211849, -0.54402111])"
      ]
     },
     "execution_count": 5,
     "metadata": {},
     "output_type": "execute_result"
    }
   ],
   "source": [
    "np.sin(numeri)"
   ]
  },
  {
   "cell_type": "code",
   "execution_count": 6,
   "id": "e51de6a6",
   "metadata": {
    "scrolled": true
   },
   "outputs": [
    {
     "data": {
      "text/plain": [
       "array([0.        , 0.69314718, 1.09861229, 1.38629436, 1.60943791,\n",
       "       1.79175947, 1.94591015, 2.07944154, 2.19722458, 2.30258509])"
      ]
     },
     "execution_count": 6,
     "metadata": {},
     "output_type": "execute_result"
    }
   ],
   "source": [
    "np.log(numeri)"
   ]
  },
  {
   "cell_type": "code",
   "execution_count": 7,
   "id": "499f048d",
   "metadata": {},
   "outputs": [
    {
     "name": "stdout",
     "output_type": "stream",
     "text": [
      "Seno: [ 0.84147098  0.90929743  0.14112001 -0.7568025 ]\n",
      "Log naturale: [0.         0.69314718 1.09861229 1.38629436]\n",
      "Quadrato: [ 1  4  9 16]\n",
      "Radice quadrata: [1.         1.41421356 1.73205081 2.        ]\n"
     ]
    }
   ],
   "source": [
    "import numpy as np\n",
    "\n",
    "a = np.array([1, 2, 3, 4])\n",
    "\n",
    "print(\"Seno:\", np.sin(a))\n",
    "print(\"Log naturale:\", np.log(a))\n",
    "print(\"Quadrato:\", np.power(a, 2))\n",
    "print(\"Radice quadrata:\", np.sqrt(a))"
   ]
  },
  {
   "cell_type": "markdown",
   "id": "3098e33b",
   "metadata": {},
   "source": [
    "## Strides\n",
    "`strides` è un attributo avanzato degli array NumPy che indica quanti byte bisogna saltare in memoria per passare da un elemento all'altro lungo ciascun asse: \n",
    "* ci permette di comprendere la disposizione della memoria.\n",
    "* rappresenta lo schema di indicizzazione negli ndarray e specifica il numero di byte da saltare per trovare l'elemento successivo. \n",
    "\n",
    "`array.strides`\n",
    "\n",
    "Restituisce una tupla di numeri che rappresentano i byte da saltare per ogni dimensione."
   ]
  },
  {
   "cell_type": "code",
   "execution_count": 8,
   "id": "939a861f",
   "metadata": {},
   "outputs": [
    {
     "name": "stdout",
     "output_type": "stream",
     "text": [
      "Array:\n",
      " [[1 2 3]\n",
      " [4 5 6]]\n",
      "Shape: (2, 3)\n",
      "Strides: (24, 8)\n"
     ]
    }
   ],
   "source": [
    "import numpy as np\n",
    "\n",
    "a = np.array([[1, 2, 3],\n",
    "              [4, 5, 6]])\n",
    "\n",
    "print(\"Array:\\n\", a)\n",
    "print(\"Shape:\", a.shape)\n",
    "print(\"Strides:\", a.strides)"
   ]
  },
  {
   "cell_type": "markdown",
   "id": "2c2d07dc",
   "metadata": {},
   "source": [
    "* Per andare da una riga all'altra (asse 0), salta 24 byte\n",
    "* Per andare da una colonna all'altra (asse 1), salta 8 byte \\\n",
    "(→ ogni int64 occupa 8 byte: 8 × 3 = 24 per una riga intera"
   ]
  },
  {
   "cell_type": "markdown",
   "id": "5c3ac93a",
   "metadata": {},
   "source": [
    "## Timeit\n",
    "Funzione integrata che misura il tempo di esecuzione del codice, per verificare se la disposizione della memoria influisce sulle prestazioni.\n",
    " \n",
    "La logica dietro a ciò è che la CPU recupera i dati dalla memoria principale alla sua cache in blocchi. \\\n",
    "Strides più grandi comportano trasferimenti più frequenti e quindi le prestazioni sono influenzate in modo significativo."
   ]
  },
  {
   "cell_type": "code",
   "execution_count": 13,
   "id": "882a621d",
   "metadata": {},
   "outputs": [
    {
     "name": "stdout",
     "output_type": "stream",
     "text": [
      "1.05 ms ± 73.3 µs per loop (mean ± std. dev. of 7 runs, 1,000 loops each)\n"
     ]
    }
   ],
   "source": [
    "import numpy as np\n",
    "\n",
    "a = np.arange(1_000_000)\n",
    "\n",
    "%timeit a * 2"
   ]
  },
  {
   "cell_type": "code",
   "execution_count": 1,
   "id": "d22ff8b6",
   "metadata": {},
   "outputs": [
    {
     "name": "stdout",
     "output_type": "stream",
     "text": [
      "Tempo totale: 0.020041694000001442\n"
     ]
    }
   ],
   "source": [
    "import timeit\n",
    "\n",
    "tempo = timeit.timeit('sum(range(1000))', number=1000)\n",
    "print(\"Tempo totale:\", tempo)"
   ]
  },
  {
   "cell_type": "markdown",
   "id": "fb5ea5db",
   "metadata": {},
   "source": [
    "* `timeit.timeit` \\\n",
    "È una funzione del modulo timeit che:\n",
    "\n",
    "* Esegue un'istruzione o una funzione ripetutamente\n",
    "* Restituisce il tempo totale impiegato in secondi"
   ]
  },
  {
   "cell_type": "code",
   "execution_count": 2,
   "id": "bc686077",
   "metadata": {},
   "outputs": [
    {
     "name": "stdout",
     "output_type": "stream",
     "text": [
      "0.020180255000001424\n"
     ]
    }
   ],
   "source": [
    "def somma():\n",
    "    return sum(range(1000))\n",
    "\n",
    "print(timeit.timeit(somma, number=1000))"
   ]
  },
  {
   "cell_type": "markdown",
   "id": "85da27c6",
   "metadata": {},
   "source": [
    "# Structured arrays\n",
    "\n",
    "NumPy dispone di un tipo speciale di array chiamati array strutturati o record array. \\\n",
    "Questi sono particolarmente utili quando si devono eseguire calcoli mantenendo dati strettamente correlati insieme. Possiamo usarli per raggruppare dati di tipi e dimensioni diversi.\n",
    "\n",
    "Per farlo, utilizziamo `contenitori di dati` chiamati `campi`. \\\n",
    "* Ogni campo contiene dati che possono avere lo stesso o un diverso tipo o dimensione.\n",
    "* Creiamo un array strutturato che chiameremo \"student records\". \n",
    "* Array avrà campi diversi come nome, cognome, ID, anno di laurea e GPA (media accademica).\n",
    "\n",
    "Vediamo ora come accedere a più campi contemporaneamente nel nostro array. \n",
    "\n",
    "* Utilizziamo la funzione `sort` e passiamo un parametro order. \n",
    "* Questo parametro indica il campo in base al quale vogliamo ordinare l'array. Ad esempio, se vogliamo ordinare l'array in base al cognome, scriveremo:\n",
    "* students_sorted_by_surname = np.sort(student_records, order='surname')."
   ]
  },
  {
   "cell_type": "code",
   "execution_count": 16,
   "id": "bcd18c16",
   "metadata": {},
   "outputs": [],
   "source": [
    "import numpy as np"
   ]
  },
  {
   "cell_type": "code",
   "execution_count": 17,
   "id": "80dcb2c6",
   "metadata": {},
   "outputs": [
    {
     "data": {
      "text/plain": [
       "array([('Lazaro', 'Oneal', '0526993', 2009, 2.33),\n",
       "       ('Dorie', 'Salinas', '0710325', 2006, 2.26),\n",
       "       ('Mathilde', 'Hooper', '0496813', 2000, 2.56),\n",
       "       ('Nell', 'Gomez', '0740631', 2003, 2.22),\n",
       "       ('Lachelle', 'Jordan', '0490888', 2003, 2.13),\n",
       "       ('Claud', 'Waller', '0922492', 2004, 3.6 ),\n",
       "       ('Bob', 'Steele', '0264843', 2002, 2.79),\n",
       "       ('Zelma', 'Welch', '0885463', 2007, 3.69)],\n",
       "      dtype=[('name', '<U10'), ('surname', '<U10'), ('id', '<U7'), ('graduation_year', '<i4'), ('gpa', '<f8')])"
      ]
     },
     "execution_count": 17,
     "metadata": {},
     "output_type": "execute_result"
    }
   ],
   "source": [
    "dati_studenti = np.array([('Lazaro','Oneal', '0526993', 2009, 2.33), ('Dorie','Salinas', '0710325', 2006, 2.26), ('Mathilde','Hooper', '0496813', 2000, 2.56),('Nell','Gomez', '0740631', 2003, 2.22),('Lachelle','Jordan', '0490888', 2003, 2.13),('Claud','Waller', '0922492', 2004, 3.60),('Bob','Steele', '0264843', 2002, 2.79),('Zelma','Welch', '0885463', 2007, 3.69)],\n",
    "       dtype=[('name', (np.str_, 10)),('surname', (np.str_, 10)), ('id', (np.str_,7)),('graduation_year', np.int32), ('gpa', np.float64)])\n",
    "dati_studenti"
   ]
  },
  {
   "cell_type": "code",
   "execution_count": 18,
   "id": "11ad3be6",
   "metadata": {},
   "outputs": [
    {
     "data": {
      "text/plain": [
       "array([('0526993', 2009), ('0710325', 2006), ('0496813', 2000),\n",
       "       ('0740631', 2003), ('0490888', 2003), ('0922492', 2004),\n",
       "       ('0264843', 2002), ('0885463', 2007)],\n",
       "      dtype={'names': ['id', 'graduation_year'], 'formats': ['<U7', '<i4'], 'offsets': [80, 108], 'itemsize': 120})"
      ]
     },
     "execution_count": 18,
     "metadata": {},
     "output_type": "execute_result"
    }
   ],
   "source": [
    "dati_studenti[['id','graduation_year']] "
   ]
  },
  {
   "cell_type": "code",
   "execution_count": 19,
   "id": "16004fde",
   "metadata": {},
   "outputs": [
    {
     "name": "stdout",
     "output_type": "stream",
     "text": [
      "Studenti ordinati per cognome :\n",
      " [('Nell', 'Gomez', '0740631', 2003, 2.22)\n",
      " ('Mathilde', 'Hooper', '0496813', 2000, 2.56)\n",
      " ('Lachelle', 'Jordan', '0490888', 2003, 2.13)\n",
      " ('Lazaro', 'Oneal', '0526993', 2009, 2.33)\n",
      " ('Dorie', 'Salinas', '0710325', 2006, 2.26)\n",
      " ('Bob', 'Steele', '0264843', 2002, 2.79)\n",
      " ('Claud', 'Waller', '0922492', 2004, 3.6 )\n",
      " ('Zelma', 'Welch', '0885463', 2007, 3.69)]\n"
     ]
    }
   ],
   "source": [
    "studenti_ordinati_cognome = np.sort(dati_studenti, order='surname')\n",
    "print('Studenti ordinati per cognome :\\n', studenti_ordinati_cognome)"
   ]
  },
  {
   "cell_type": "code",
   "execution_count": 20,
   "id": "6c9e17b7",
   "metadata": {},
   "outputs": [
    {
     "name": "stdout",
     "output_type": "stream",
     "text": [
      "Studenti ordinati per anno di laurea :\n",
      " [('Mathilde', 'Hooper', '0496813', 2000, 2.56)\n",
      " ('Bob', 'Steele', '0264843', 2002, 2.79)\n",
      " ('Lachelle', 'Jordan', '0490888', 2003, 2.13)\n",
      " ('Nell', 'Gomez', '0740631', 2003, 2.22)\n",
      " ('Claud', 'Waller', '0922492', 2004, 3.6 )\n",
      " ('Dorie', 'Salinas', '0710325', 2006, 2.26)\n",
      " ('Zelma', 'Welch', '0885463', 2007, 3.69)\n",
      " ('Lazaro', 'Oneal', '0526993', 2009, 2.33)]\n"
     ]
    }
   ],
   "source": [
    "studenti_ordinati_anno_laurea = np.sort(dati_studenti, order='graduation_year')\n",
    "print('Studenti ordinati per anno di laurea :\\n', studenti_ordinati_anno_laurea)"
   ]
  },
  {
   "cell_type": "markdown",
   "id": "c90c6017",
   "metadata": {},
   "source": [
    "# Date e tempo\n",
    "\n",
    "Date e tempo sono fondamentali nell'analisi delle serie temporali. \\\n",
    "Le serie temporali consistono in una sequenza di punti dati raccolti a intervalli regolari. \n",
    "\n",
    "+ NumPy offre un oggetto simile chiamato datetime64.\n",
    "+ L'oggetto datetime64 si basa sul formato universale ISO 8601 per le date. \n",
    "+ Le unità di data predefinite supportate sono anni, mesi, settimane e giorni, mentre le unità di tempo includono ore, minuti, secondi e millisecondi. \n",
    "+ Accetta la stringa NaT (Not a Time) per rappresentare un valore non definito.\n",
    "\n",
    "\n",
    "NumPy offre molte funzioni utili per la gestione delle date, tra cui quelle chiamate `BUS days functions` (funzioni per giorni lavorativi). \n",
    "\n",
    "Un'altra funzione utile è `is_busday`. Come suggerisce il nome, controlla se una data passata come argomento è un giorno lavorativo valido. "
   ]
  },
  {
   "cell_type": "code",
   "execution_count": 21,
   "id": "15d9ea1e",
   "metadata": {},
   "outputs": [],
   "source": [
    "import numpy as np"
   ]
  },
  {
   "cell_type": "code",
   "execution_count": 22,
   "id": "98164b2c",
   "metadata": {},
   "outputs": [
    {
     "data": {
      "text/plain": [
       "numpy.datetime64('2022-03-01')"
      ]
     },
     "execution_count": 22,
     "metadata": {},
     "output_type": "execute_result"
    }
   ],
   "source": [
    "np.datetime64('2022-03-01') #oggetto datetime64"
   ]
  },
  {
   "cell_type": "code",
   "execution_count": 23,
   "id": "df0af786",
   "metadata": {},
   "outputs": [
    {
     "data": {
      "text/plain": [
       "numpy.datetime64('2022-03')"
      ]
     },
     "execution_count": 23,
     "metadata": {},
     "output_type": "execute_result"
    }
   ],
   "source": [
    "np.datetime64('2022-03')"
   ]
  },
  {
   "cell_type": "code",
   "execution_count": 25,
   "id": "813ee7fc",
   "metadata": {},
   "outputs": [
    {
     "name": "stdout",
     "output_type": "stream",
     "text": [
      "Numeri di weekend nel 2022:\n",
      "260\n"
     ]
    }
   ],
   "source": [
    "print('Numeri di weekend nel 2022:')\n",
    "print(np.busday_count('2022','2023'))"
   ]
  },
  {
   "cell_type": "code",
   "execution_count": 26,
   "id": "4218eced",
   "metadata": {},
   "outputs": [
    {
     "name": "stdout",
     "output_type": "stream",
     "text": [
      "Numero dei weekend nel giugno 2022:\n"
     ]
    },
    {
     "data": {
      "text/plain": [
       "22"
      ]
     },
     "execution_count": 26,
     "metadata": {},
     "output_type": "execute_result"
    }
   ],
   "source": [
    "print('Numero dei weekend nel giugno 2022:')\n",
    "np.busday_count('2022-06', '2022-07')"
   ]
  },
  {
   "cell_type": "code",
   "execution_count": null,
   "id": "33d30ad9",
   "metadata": {},
   "outputs": [],
   "source": []
  }
 ],
 "metadata": {
  "kernelspec": {
   "display_name": "Python 3 (ipykernel)",
   "language": "python",
   "name": "python3"
  },
  "language_info": {
   "codemirror_mode": {
    "name": "ipython",
    "version": 3
   },
   "file_extension": ".py",
   "mimetype": "text/x-python",
   "name": "python",
   "nbconvert_exporter": "python",
   "pygments_lexer": "ipython3",
   "version": "3.9.7"
  }
 },
 "nbformat": 4,
 "nbformat_minor": 5
}
