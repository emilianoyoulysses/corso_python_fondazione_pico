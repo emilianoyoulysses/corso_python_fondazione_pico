{
 "cells": [
  {
   "cell_type": "markdown",
   "id": "cecbf3a7",
   "metadata": {},
   "source": [
    "# Introduzione a Pandas: le stringhe"
   ]
  },
  {
   "cell_type": "markdown",
   "id": "b6533591",
   "metadata": {},
   "source": [
    "## Modulo 1: Ancora sulle Series\n",
    "\n",
    "### Le Stringhe \n",
    "- Ordinamento dei valori.\n",
    "- Utilizzo di metodi di stringa.\n",
    "- Assegnazione e riassegnazione dei risultati.\n",
    "- Utilizzo di metodi di stringa per la pulizia dei dati.\n",
    "- Aggiornamento dei tipi di dati."
   ]
  },
  {
   "cell_type": "code",
   "execution_count": 1,
   "id": "80f405f4",
   "metadata": {},
   "outputs": [],
   "source": [
    "import pandas as pd"
   ]
  },
  {
   "cell_type": "code",
   "execution_count": 2,
   "id": "19e75b5c",
   "metadata": {},
   "outputs": [
    {
     "data": {
      "text/plain": [
       "0        apple\n",
       "1       orange\n",
       "2       banana\n",
       "3        lemon\n",
       "4         lime\n",
       "5    pineapple\n",
       "6    blueberry\n",
       "7    raspberry\n",
       "8    cranberry\n",
       "dtype: object"
      ]
     },
     "execution_count": 2,
     "metadata": {},
     "output_type": "execute_result"
    }
   ],
   "source": [
    "fruits = pd.Series([\"apple\", \"orange\", \"banana\", \"lemon\", \"lime\", \"pineapple\", \"blueberry\", \"raspberry\", \"cranberry\"])\n",
    "fruits"
   ]
  },
  {
   "cell_type": "markdown",
   "id": "11fd378e",
   "metadata": {},
   "source": [
    "# `.sort_values()`\n",
    "Il metodo `.sort_values()` viene utilizzato per ordinare un `DataFrame` (o una `Series`) in base ai valori di una o più colonne.\n",
    "\n",
    "* `by`: il nome della colonna (o una lista di colonne) in base a cui ordinare.\n",
    "* `ascending`: `True` per ordine crescente (default), `False` per decrescente.\n",
    "* `inplace`: `True` per modificare il DataFrame originale, `False` (default) per restituirne una copia ordinata."
   ]
  },
  {
   "cell_type": "code",
   "execution_count": 4,
   "id": "d1ac5b21",
   "metadata": {
    "scrolled": true
   },
   "outputs": [
    {
     "data": {
      "text/plain": [
       "0        apple\n",
       "2       banana\n",
       "6    blueberry\n",
       "8    cranberry\n",
       "3        lemon\n",
       "4         lime\n",
       "1       orange\n",
       "5    pineapple\n",
       "7    raspberry\n",
       "dtype: object"
      ]
     },
     "execution_count": 4,
     "metadata": {},
     "output_type": "execute_result"
    }
   ],
   "source": [
    "fruits.sort_values() # by default ascending=True"
   ]
  },
  {
   "cell_type": "code",
   "execution_count": 5,
   "id": "82249142",
   "metadata": {},
   "outputs": [
    {
     "data": {
      "text/plain": [
       "7    raspberry\n",
       "5    pineapple\n",
       "1       orange\n",
       "4         lime\n",
       "3        lemon\n",
       "8    cranberry\n",
       "6    blueberry\n",
       "2       banana\n",
       "0        apple\n",
       "dtype: object"
      ]
     },
     "execution_count": 5,
     "metadata": {},
     "output_type": "execute_result"
    }
   ],
   "source": [
    "fruits.sort_values(ascending=False)"
   ]
  },
  {
   "cell_type": "code",
   "execution_count": 6,
   "id": "1add581f",
   "metadata": {},
   "outputs": [
    {
     "data": {
      "text/plain": [
       "0        apple\n",
       "2       banana\n",
       "6    blueberry\n",
       "8    cranberry\n",
       "3        lemon\n",
       "4         lime\n",
       "1       orange\n",
       "5    pineapple\n",
       "7    raspberry\n",
       "dtype: object"
      ]
     },
     "execution_count": 6,
     "metadata": {},
     "output_type": "execute_result"
    }
   ],
   "source": [
    "fruits.sort_values(ascending=True)"
   ]
  },
  {
   "cell_type": "code",
   "execution_count": 7,
   "id": "68158ca0",
   "metadata": {
    "scrolled": true
   },
   "outputs": [
    {
     "data": {
      "text/plain": [
       "0        apple\n",
       "1       banana\n",
       "2    blueberry\n",
       "3    cranberry\n",
       "4        lemon\n",
       "5         lime\n",
       "6       orange\n",
       "7    pineapple\n",
       "8    raspberry\n",
       "dtype: object"
      ]
     },
     "execution_count": 7,
     "metadata": {},
     "output_type": "execute_result"
    }
   ],
   "source": [
    "fruits = fruits.sort_values(ignore_index=True)\n",
    "fruits"
   ]
  },
  {
   "cell_type": "markdown",
   "id": "6ec865e7",
   "metadata": {},
   "source": [
    "# `.capitalize`\n",
    "Il metodo `.capitalize()` è un metodo delle stringhe in Python (non specifico di Pandas), usato per trasformare la prima lettera di una stringa in maiuscolo, e tutte le altre in minuscolo."
   ]
  },
  {
   "cell_type": "code",
   "execution_count": 10,
   "id": "c17c5bdd",
   "metadata": {},
   "outputs": [
    {
     "data": {
      "text/plain": [
       "0        Apple\n",
       "1       Banana\n",
       "2    Blueberry\n",
       "3    Cranberry\n",
       "4        Lemon\n",
       "5         Lime\n",
       "6       Orange\n",
       "7    Pineapple\n",
       "8    Raspberry\n",
       "dtype: object"
      ]
     },
     "execution_count": 10,
     "metadata": {},
     "output_type": "execute_result"
    }
   ],
   "source": [
    "fruits.str.capitalize()"
   ]
  },
  {
   "cell_type": "code",
   "execution_count": 11,
   "id": "3f1b18c8",
   "metadata": {
    "scrolled": true
   },
   "outputs": [
    {
     "data": {
      "text/plain": [
       "0        apple\n",
       "1       banana\n",
       "2    blueberry\n",
       "3    cranberry\n",
       "4        lemon\n",
       "5         lime\n",
       "6       orange\n",
       "7    pineapple\n",
       "8    raspberry\n",
       "dtype: object"
      ]
     },
     "execution_count": 11,
     "metadata": {},
     "output_type": "execute_result"
    }
   ],
   "source": [
    "fruits "
   ]
  },
  {
   "cell_type": "markdown",
   "id": "03623e60",
   "metadata": {},
   "source": [
    "> ### Le operazioni di stringa mantengono intatta la serie originale, quindi riassegniamo ad una variabile per aggiornare i valori. \n"
   ]
  },
  {
   "cell_type": "code",
   "execution_count": 12,
   "id": "083b9b39",
   "metadata": {
    "scrolled": true
   },
   "outputs": [
    {
     "data": {
      "text/plain": [
       "0        Apple\n",
       "1       Banana\n",
       "2    Blueberry\n",
       "3    Cranberry\n",
       "4        Lemon\n",
       "5         Lime\n",
       "6       Orange\n",
       "7    Pineapple\n",
       "8    Raspberry\n",
       "dtype: object"
      ]
     },
     "execution_count": 12,
     "metadata": {},
     "output_type": "execute_result"
    }
   ],
   "source": [
    "capitalized_fruits = fruits.str.capitalize()\n",
    "capitalized_fruits"
   ]
  },
  {
   "cell_type": "markdown",
   "id": "aaa45d7c",
   "metadata": {},
   "source": [
    "# `.contains`\n",
    "Il metodo `.str.contains()` serve per verificare se una stringa contiene una sottostringa all’interno di una colonna di tipo testo (stringhe) in un `DataFrame` o una `Series`.\n",
    "\n",
    "* `.contains()` funziona solo su colonne di testo (dtype=object)\n",
    "* Se ci sono valori `NaN`, usa `na=False` per evitare errori\n",
    "* Puoi usarlo anche con espressioni regolari (regex=True, predefinito)\n",
    "\n",
    "Per usare `.str.contains()` va fornita una stringa (o un'espressione regolare) come criterio di ricerca."
   ]
  },
  {
   "cell_type": "code",
   "execution_count": 13,
   "id": "fc19376f",
   "metadata": {},
   "outputs": [
    {
     "data": {
      "text/plain": [
       "0     True\n",
       "1    False\n",
       "2    False\n",
       "3    False\n",
       "4    False\n",
       "5    False\n",
       "6    False\n",
       "7     True\n",
       "8    False\n",
       "dtype: bool"
      ]
     },
     "execution_count": 13,
     "metadata": {},
     "output_type": "execute_result"
    }
   ],
   "source": [
    "fruits.str.contains(\"apple\")"
   ]
  },
  {
   "cell_type": "markdown",
   "id": "2ea944b4",
   "metadata": {},
   "source": [
    "> ## Dato che `.contains` restituisce una serie booleana, possiamo usarla per filtrare i nostri risultati."
   ]
  },
  {
   "cell_type": "code",
   "execution_count": 14,
   "id": "79dca530",
   "metadata": {},
   "outputs": [
    {
     "data": {
      "text/plain": [
       "0        apple\n",
       "7    pineapple\n",
       "dtype: object"
      ]
     },
     "execution_count": 14,
     "metadata": {},
     "output_type": "execute_result"
    }
   ],
   "source": [
    "fruits[fruits.str.contains(\"apple\")]"
   ]
  },
  {
   "cell_type": "markdown",
   "id": "98373454",
   "metadata": {},
   "source": [
    "> ### `.count` per contare le occorrenze delle sottostringhe."
   ]
  },
  {
   "cell_type": "code",
   "execution_count": 34,
   "id": "00eceac9",
   "metadata": {},
   "outputs": [
    {
     "data": {
      "text/plain": [
       "0    1\n",
       "1    3\n",
       "2    0\n",
       "3    1\n",
       "4    0\n",
       "5    0\n",
       "6    1\n",
       "7    1\n",
       "8    1\n",
       "dtype: int64"
      ]
     },
     "execution_count": 34,
     "metadata": {},
     "output_type": "execute_result"
    }
   ],
   "source": [
    "fruits.str.count(\"a\")"
   ]
  },
  {
   "cell_type": "code",
   "execution_count": 15,
   "id": "2bfa1b66",
   "metadata": {
    "scrolled": true
   },
   "outputs": [
    {
     "data": {
      "text/plain": [
       "0    0\n",
       "1    0\n",
       "2    1\n",
       "3    1\n",
       "4    0\n",
       "5    0\n",
       "6    0\n",
       "7    0\n",
       "8    1\n",
       "dtype: int64"
      ]
     },
     "execution_count": 15,
     "metadata": {},
     "output_type": "execute_result"
    }
   ],
   "source": [
    "fruits.str.count(\"berry\")"
   ]
  },
  {
   "cell_type": "markdown",
   "id": "45176e9f",
   "metadata": {},
   "source": [
    "> ### Per riassumere i risultati di `.count`, non abbiamo bisogno di utilizzare un loop ma possiamo conteggiare le vocali. \n",
    "* Tutti i conteggi vengono sommati per ogni riga.\n",
    "* Il risultato è una nuova Series con il numero totale di vocali per ogni parola.\n"
   ]
  },
  {
   "cell_type": "code",
   "execution_count": 17,
   "id": "b1cc2654",
   "metadata": {},
   "outputs": [
    {
     "data": {
      "text/plain": [
       "0    2\n",
       "1    3\n",
       "2    3\n",
       "3    2\n",
       "4    2\n",
       "5    2\n",
       "6    3\n",
       "7    4\n",
       "8    2\n",
       "dtype: int64"
      ]
     },
     "execution_count": 17,
     "metadata": {},
     "output_type": "execute_result"
    }
   ],
   "source": [
    "vowel_counts = fruits.str.count(\"a\") + fruits.str.count(\"e\") + fruits.str.count(\"i\") + fruits.str.count(\"o\") + fruits.str.count(\"u\")\n",
    "vowel_counts"
   ]
  },
  {
   "cell_type": "markdown",
   "id": "332d3a53",
   "metadata": {},
   "source": [
    "> ## Possiamo utilizzare il conteggio con una classe di caratteri di espressioni regolari."
   ]
  },
  {
   "cell_type": "code",
   "execution_count": 18,
   "id": "4542f7f3",
   "metadata": {},
   "outputs": [
    {
     "data": {
      "text/plain": [
       "0    2\n",
       "1    3\n",
       "2    3\n",
       "3    2\n",
       "4    2\n",
       "5    2\n",
       "6    3\n",
       "7    4\n",
       "8    2\n",
       "dtype: int64"
      ]
     },
     "execution_count": 18,
     "metadata": {},
     "output_type": "execute_result"
    }
   ],
   "source": [
    "fruits.str.count(\"[aeiou]\")"
   ]
  },
  {
   "cell_type": "markdown",
   "id": "fdc90b14",
   "metadata": {},
   "source": [
    "> ### Possiamo usare il nuovo conteggio delle vocali per filtrare i valori dalla serie\n"
   ]
  },
  {
   "cell_type": "code",
   "execution_count": 38,
   "id": "42da3ed0",
   "metadata": {},
   "outputs": [
    {
     "data": {
      "text/plain": [
       "1       banana\n",
       "2    blueberry\n",
       "6       orange\n",
       "7    pineapple\n",
       "dtype: object"
      ]
     },
     "execution_count": 38,
     "metadata": {},
     "output_type": "execute_result"
    }
   ],
   "source": [
    "fruits[fruits.str.count(\"[aeiou]\") > 2]"
   ]
  },
  {
   "cell_type": "markdown",
   "id": "91677a3e",
   "metadata": {},
   "source": [
    "# `.startswith()`\n",
    "Il metodo `.str.startswith()` viene usato per verificare se le stringhe iniziano con una determinata sottostringa. \\\n",
    "Restituisce una `Series booleana`: `True` se la stringa comincia con il testo indicato, `False` altrimenti."
   ]
  },
  {
   "cell_type": "code",
   "execution_count": 19,
   "id": "c4b02a88",
   "metadata": {},
   "outputs": [
    {
     "data": {
      "text/plain": [
       "0    False\n",
       "1    False\n",
       "2    False\n",
       "3    False\n",
       "4     True\n",
       "5     True\n",
       "6    False\n",
       "7    False\n",
       "8    False\n",
       "dtype: bool"
      ]
     },
     "execution_count": 19,
     "metadata": {},
     "output_type": "execute_result"
    }
   ],
   "source": [
    "fruits.str.startswith(\"l\")"
   ]
  },
  {
   "cell_type": "markdown",
   "id": "36df578e",
   "metadata": {},
   "source": [
    "> ### In questo modo possiamo creare un filtro. "
   ]
  },
  {
   "cell_type": "code",
   "execution_count": 40,
   "id": "01c8b698",
   "metadata": {
    "scrolled": true
   },
   "outputs": [
    {
     "data": {
      "text/plain": [
       "4    lemon\n",
       "5     lime\n",
       "dtype: object"
      ]
     },
     "execution_count": 40,
     "metadata": {},
     "output_type": "execute_result"
    }
   ],
   "source": [
    "fruits[fruits.str.startswith(\"l\")]"
   ]
  },
  {
   "cell_type": "markdown",
   "id": "6498df19",
   "metadata": {},
   "source": [
    "# `str.endswith() `\n",
    "E' il complemento naturale di `.str.startswith()`: serve per verificare se le stringhe terminano con una determinata sottostringa, restituendo una `Series booleana` (`True/False`)."
   ]
  },
  {
   "cell_type": "code",
   "execution_count": 20,
   "id": "d3bc4f8e",
   "metadata": {},
   "outputs": [
    {
     "data": {
      "text/plain": [
       "0    False\n",
       "1    False\n",
       "2     True\n",
       "3     True\n",
       "4    False\n",
       "5    False\n",
       "6    False\n",
       "7    False\n",
       "8     True\n",
       "dtype: bool"
      ]
     },
     "execution_count": 20,
     "metadata": {},
     "output_type": "execute_result"
    }
   ],
   "source": [
    "fruits.str.endswith(\"berry\")"
   ]
  },
  {
   "cell_type": "markdown",
   "id": "8163005b",
   "metadata": {},
   "source": [
    "> ### `.len` per ottenere la lunghezza."
   ]
  },
  {
   "cell_type": "code",
   "execution_count": 21,
   "id": "f265989a",
   "metadata": {},
   "outputs": [
    {
     "data": {
      "text/plain": [
       "0    5\n",
       "1    6\n",
       "2    9\n",
       "3    9\n",
       "4    5\n",
       "5    4\n",
       "6    6\n",
       "7    9\n",
       "8    9\n",
       "dtype: int64"
      ]
     },
     "execution_count": 21,
     "metadata": {},
     "output_type": "execute_result"
    }
   ],
   "source": [
    "fruits.str.len()"
   ]
  },
  {
   "cell_type": "markdown",
   "id": "9082ac30",
   "metadata": {},
   "source": [
    "> ## Le operazioni sulle stringhe non modificano la stringa originaria. Ci restituiscono una copia alterata. "
   ]
  },
  {
   "cell_type": "markdown",
   "id": "d82a8e63",
   "metadata": {},
   "source": [
    "# `.lower()`\n",
    "Converte tutte le lettere di una stringa in minuscolo."
   ]
  },
  {
   "cell_type": "code",
   "execution_count": 33,
   "id": "25d7992c",
   "metadata": {
    "scrolled": true
   },
   "outputs": [
    {
     "data": {
      "text/plain": [
       "0       please\n",
       "1    lowercase\n",
       "2        these\n",
       "3      strings\n",
       "dtype: object"
      ]
     },
     "execution_count": 33,
     "metadata": {},
     "output_type": "execute_result"
    }
   ],
   "source": [
    "shouts = pd.Series([\"PLEASE\", \"LOWERCASE\", \"THESE\", \"STRINGS\"])\n",
    "not_shouts = shouts.str.lower()\n",
    "not_shouts"
   ]
  },
  {
   "cell_type": "markdown",
   "id": "d434d71a",
   "metadata": {},
   "source": [
    "# `.replace()`\n",
    "Sostituisce sottostringhe all’interno di stringhe in una colonna. \\\n",
    "Usato anche per rimuovere i caratteri. \\\n",
    "Occorre stare attenti a riassegnare la variabile. "
   ]
  },
  {
   "cell_type": "code",
   "execution_count": 34,
   "id": "6c9a31bf",
   "metadata": {},
   "outputs": [
    {
     "data": {
      "text/plain": [
       "0      €5.99€5.99\n",
       "1    €12.25€12.25\n",
       "2          €95€95\n",
       "dtype: object"
      ]
     },
     "execution_count": 34,
     "metadata": {},
     "output_type": "execute_result"
    }
   ],
   "source": [
    "import pandas as pd\n",
    "prices = pd.Series([\"€5.99\", \"€12.25\", \"€95\"])\n",
    "\n",
    "prices = prices.str.replace(\"\", \"\")\n",
    "\n",
    "prices * 2 # il risultato è sempre una stringa."
   ]
  },
  {
   "cell_type": "markdown",
   "id": "d9eb66b0",
   "metadata": {},
   "source": [
    "# `.astype()`\n",
    "Converte il tipo di una colonna, utile per passare da testo a numero o da float a int."
   ]
  },
  {
   "cell_type": "code",
   "execution_count": 38,
   "id": "9e9f7fdb",
   "metadata": {},
   "outputs": [
    {
     "name": "stdout",
     "output_type": "stream",
     "text": [
      "0     11.98\n",
      "1     24.50\n",
      "2    190.00\n",
      "dtype: float64\n"
     ]
    }
   ],
   "source": [
    "import pandas as pd\n",
    "\n",
    "# Step 1: Crea la Series\n",
    "prices = pd.Series([\"€5.99\", \"€12.25\", \"€95\"])\n",
    "\n",
    "# Step 2: Rimuovi il simbolo €\n",
    "prices = prices.str.replace(\"€\", \"\", regex=False)\n",
    "\n",
    "# Step 3: Converti in float\n",
    "prices = prices.astype(float)\n",
    "\n",
    "# Step 4: Moltiplica per 2\n",
    "print(prices * 2)\n"
   ]
  },
  {
   "cell_type": "code",
   "execution_count": 37,
   "id": "389c1f3d",
   "metadata": {},
   "outputs": [
    {
     "data": {
      "text/plain": [
       "0        APPLE\n",
       "1       BANANA\n",
       "2    BLUEBERRY\n",
       "3    CRANBERRY\n",
       "4        LEMON\n",
       "5         LIME\n",
       "6       ORANGE\n",
       "7    PINEAPPLE\n",
       "8    RASPBERRY\n",
       "dtype: object"
      ]
     },
     "execution_count": 37,
     "metadata": {},
     "output_type": "execute_result"
    }
   ],
   "source": [
    "fruits.str.upper() # .upper in maiuscolo"
   ]
  },
  {
   "cell_type": "markdown",
   "id": "b997337c",
   "metadata": {},
   "source": [
    "# Esercitazione\n",
    "1. Crea una `Series` chiamata verdure con il seguente elenco:\n",
    "`[\"Onion\", \"cucumber\", \"Carrot\", \"squash\", \"Potato\", \"Asparagus\", \"kale\", \"Broccoli\", \"spinach\"]`\n",
    "2. Converti tutti i nomi delle verdure in minuscolo usando `.str.lower()` e riassegna la serie a `verdure`.\n",
    "3. Ordina la serie `verdure` in ordine alfabetico crescente e riassegna l’output alla stessa variabile.\n",
    "4. Mostra solo le verdure che iniziano con una vocale `(a, e, i, o, u)`.\n",
    "5. Mostra le `verdure` che contengono esattamente due vocali. (Suggerimento: usa `.str.count()` per ciascuna vocale e somma i risultati)\n",
    "6. Crea una nuova `Series` chiamata `prices` con i seguenti valori:\n",
    "`[\"$2.99\", \"$1,200.25\", \"$5.99\", \"$2,350.00\"]`\n",
    "7. Rimuovi da ogni elemento della serie `prices` i caratteri `$` e `,` usando `.str.replace()`.\n",
    "8. Converti la serie prices in tipo float usando `.astype(float)`.\n",
    "9. Moltiplica tutti i valori di `prices` per `0.9` e mostra il risultato. (Simula uno sconto del `10%`)"
   ]
  },
  {
   "cell_type": "code",
   "execution_count": 39,
   "id": "9c44031a",
   "metadata": {},
   "outputs": [
    {
     "name": "stdout",
     "output_type": "stream",
     "text": [
      "🌱 Verdure ordinate:\n",
      "0    asparagus\n",
      "1     broccoli\n",
      "2       carrot\n",
      "3     cucumber\n",
      "4         kale\n",
      "5        onion\n",
      "6       potato\n",
      "7      spinach\n",
      "8       squash\n",
      "dtype: object\n",
      "\n",
      "🥬 Verdure che iniziano con una vocale:\n",
      "0    asparagus\n",
      "5        onion\n",
      "dtype: object\n",
      "\n",
      "🟩 Verdure con esattamente due vocali:\n",
      "2     carrot\n",
      "4       kale\n",
      "7    spinach\n",
      "8     squash\n",
      "dtype: object\n",
      "\n",
      "💲 Prezzi scontati del 10%:\n",
      "0       2.69\n",
      "1    1080.23\n",
      "2       5.39\n",
      "3    2115.00\n",
      "dtype: float64\n"
     ]
    }
   ],
   "source": [
    "import pandas as pd\n",
    "\n",
    "# 1. Creazione della Serie 'verdure'\n",
    "verdure = pd.Series([\n",
    "    \"Onion\", \"cucumber\", \"Carrot\", \"squash\",\n",
    "    \"Potato\", \"Asparagus\", \"kale\", \"Broccoli\", \"spinach\"\n",
    "])\n",
    "\n",
    "# 2. Minuscolazione di tutti i nomi\n",
    "verdure = verdure.str.lower()\n",
    "\n",
    "# 3. Ordinamento alfabetico\n",
    "verdure = verdure.sort_values(ignore_index=True)\n",
    "\n",
    "print(\"🌱 Verdure ordinate:\")\n",
    "print(verdure)\n",
    "\n",
    "# 4. Verdure che iniziano con una vocale\n",
    "vocali = (\"a\", \"e\", \"i\", \"o\", \"u\")\n",
    "iniziano_con_vocale = verdure[verdure.str.startswith(vocali)]\n",
    "\n",
    "print(\"\\n🥬 Verdure che iniziano con una vocale:\")\n",
    "print(iniziano_con_vocale)\n",
    "\n",
    "# 5. Verdure con esattamente due vocali\n",
    "conteggio_vocali = (\n",
    "    verdure.str.count(\"a\") +\n",
    "    verdure.str.count(\"e\") +\n",
    "    verdure.str.count(\"i\") +\n",
    "    verdure.str.count(\"o\") +\n",
    "    verdure.str.count(\"u\")\n",
    ")\n",
    "\n",
    "due_vocali = verdure[conteggio_vocali == 2]\n",
    "\n",
    "print(\"\\n🟩 Verdure con esattamente due vocali:\")\n",
    "print(due_vocali)\n",
    "\n",
    "# 6. Creazione della Serie 'prices'\n",
    "prices = pd.Series([\"$2.99\", \"$1,200.25\", \"$5.99\", \"$2,350.00\"])\n",
    "\n",
    "# 7. Rimozione di simboli '$' e ',' con str.replace\n",
    "prices = prices.str.replace(\"$\", \"\", regex=False)\n",
    "prices = prices.str.replace(\",\", \"\", regex=False)\n",
    "\n",
    "# 8. Conversione in float\n",
    "prices = prices.astype(float)\n",
    "\n",
    "# 9. Applica lo sconto del 10% (moltiplica per 0.9)\n",
    "scontati = prices * 0.9\n",
    "\n",
    "print(\"\\n💲 Prezzi scontati del 10%:\")\n",
    "print(scontati.round(2))\n"
   ]
  },
  {
   "cell_type": "code",
   "execution_count": null,
   "id": "0c6bef6b",
   "metadata": {},
   "outputs": [],
   "source": []
  }
 ],
 "metadata": {
  "kernelspec": {
   "display_name": "Python 3 (ipykernel)",
   "language": "python",
   "name": "python3"
  },
  "language_info": {
   "codemirror_mode": {
    "name": "ipython",
    "version": 3
   },
   "file_extension": ".py",
   "mimetype": "text/x-python",
   "name": "python",
   "nbconvert_exporter": "python",
   "pygments_lexer": "ipython3",
   "version": "3.9.7"
  }
 },
 "nbformat": 4,
 "nbformat_minor": 5
}
