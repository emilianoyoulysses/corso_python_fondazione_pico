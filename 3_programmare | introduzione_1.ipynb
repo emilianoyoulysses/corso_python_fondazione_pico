{
 "cells": [
  {
   "cell_type": "markdown",
   "id": "a3c9a9ec",
   "metadata": {},
   "source": [
    "## Parlare con le macchine\n",
    "\n",
    "Programmare significa parlare direttamente con un computer, affermando **esattamente** cosa vogliamo che il computer faccia. \n",
    "\n",
    "+ Programmare è la **capacità di scrivere istruzioni** che un computer può capire ed eseguire. \n",
    "+ Le istruzioni sono chiamate **codice**.\n",
    "+ Le istruzioni sono scritte in **linguaggi specifici** che colmano il divario tra il pensiero umano e l'esecuzione della macchina."
   ]
  },
  {
   "cell_type": "code",
   "execution_count": 29,
   "id": "529a32b0",
   "metadata": {},
   "outputs": [
    {
     "name": "stdout",
     "output_type": "stream",
     "text": [
      "L'area del rettangolo è: 20\n"
     ]
    }
   ],
   "source": [
    "length = 4 \n",
    "width = 5 \n",
    "area = length * width \n",
    "print(\"L'area del rettangolo è:\", area)"
   ]
  },
  {
   "cell_type": "code",
   "execution_count": 30,
   "id": "ad4ce22c",
   "metadata": {},
   "outputs": [
    {
     "name": "stdout",
     "output_type": "stream",
     "text": [
      "L'area del rettangolo è: 12\n"
     ]
    }
   ],
   "source": [
    "length = 4 \n",
    "width = 3 \n",
    "area = length * width \n",
    "print(f\"L'area del rettangolo è: {area}\")"
   ]
  },
  {
   "cell_type": "markdown",
   "id": "b1a4fe7e",
   "metadata": {},
   "source": [
    "Le istruzioni sono più di un semplice elenco di comandi.\\\n",
    "Coinvolgono la logica, il processo decisionale e la ripetizione. \n",
    "\n",
    "Istruiamo un computer per: \n",
    "+ eseguire diverse azioni in base a determinate condizioni; \n",
    "+ ripetere una serie di istruzioni fino a raggiungere un obiettivo specifico; \n",
    "+ archiviare e manipolare i dati per produrre risultati dinamici. \n",
    "\n",
    "### Diagramma di flusso, variabili e strutture dati.\n",
    "Creiamo un diagramma di flusso in cui percorsi diversi portano a risultati diversi a seconda delle scelte fatte lungo il percorso.\n",
    "\n",
    "Per gestire i dati, i linguaggi di programmazione offrono **variabili e strutture dati**:\n",
    "+ le **variabili** memorizzano informazioni come numeri o testo;\n",
    "+ le **strutture dati** organizzano raccolte di dati, come elenchi, che contengono una sequenza di elementi, o dizionari, che memorizzano i dati in coppie chiave-valore; \n",
    "+ le **istruzioni di flusso** di controllo guidano l'ordine delle istruzioni; \n",
    "+ i **loop (\"for\" e \"while\")** ripetono il codice e le **istruzioni condizionali (\"if\", \"elif\", \"else\")** creano rami, eseguendo istruzioni diverse in base alle condizioni."
   ]
  },
  {
   "cell_type": "code",
   "execution_count": null,
   "id": "6cb4d5ae",
   "metadata": {},
   "outputs": [],
   "source": []
  },
  {
   "cell_type": "markdown",
   "id": "d85802c9",
   "metadata": {},
   "source": [
    "## Il potere di Python\n",
    "\n",
    "Python è costantemente cresciuto fino a diventare una forza dominante nel mondo della programmazione perché:\n",
    "+ sintassi pulita e leggibile;\n",
    "+ il codice  assomiglia all'inglese semplice; \n",
    "+ ampio e versatile grazie alle sue ampie librerie che consentono di affrontare progetti complessi nello sviluppo web, nella scienza dei dati, nell'apprendimento automatico.\n",
    "\n",
    "### Indentazione\n",
    "\n",
    "Python si basa sul rientro - **indentation** - usando spazi o schede, per definire la struttura del tuo codice.\\\n",
    "L'indentazione è costituita dai caratteri spazio che precedono un'istruzione.\\\n",
    "Ogni istruzione deve terminare con un accapo o con un punto e virgola (;) anche se il punto e virgola può essere omesso.\\\n",
    "Questo aiuta anche a mantenere anche uno stile coerente e organizzato che è più facile da capire e mantenere."
   ]
  },
  {
   "cell_type": "code",
   "execution_count": 6,
   "id": "2f988e82",
   "metadata": {},
   "outputs": [
    {
     "name": "stdout",
     "output_type": "stream",
     "text": [
      "Benvenuti nel magico mondo di Python\n"
     ]
    }
   ],
   "source": [
    "print(\"Benvenuti nel magico mondo di Python\")"
   ]
  },
  {
   "cell_type": "markdown",
   "id": "8faa9288",
   "metadata": {},
   "source": [
    "+ è una sola istruzione;\n",
    "+ è una chiamata alla funzione **built-in** predefinita **print**;\n",
    "+ l'esecuzione della funzione ne visualizza l'argomento;\n",
    "+ l'argomento è una stringa tra \"\";\n",
    "+ python distingue tra lettere maiuscole e lettere minuscole;\n",
    "+ all'inizio del programma non si possono lasciare spazi "
   ]
  },
  {
   "cell_type": "code",
   "execution_count": 10,
   "id": "2059ae90",
   "metadata": {},
   "outputs": [
    {
     "name": "stdout",
     "output_type": "stream",
     "text": [
      "16\n"
     ]
    }
   ],
   "source": [
    "numero = 4\n",
    "potenza = numero ** 2\n",
    "print(potenza)"
   ]
  },
  {
   "cell_type": "code",
   "execution_count": 11,
   "id": "4a47ef1d",
   "metadata": {},
   "outputs": [
    {
     "name": "stdout",
     "output_type": "stream",
     "text": [
      "Inserisci un numero: 2\n",
      "Il quadrato è: 4\n"
     ]
    }
   ],
   "source": [
    "numero = int(input(\"Inserisci un numero: \"))\n",
    "potenza = numero ** 2\n",
    "print(\"Il quadrato è:\", potenza)"
   ]
  },
  {
   "cell_type": "markdown",
   "id": "d4124aa6",
   "metadata": {},
   "source": [
    "Per inserire commenti nel codice:"
   ]
  },
  {
   "cell_type": "code",
   "execution_count": 13,
   "id": "9f2b3d06",
   "metadata": {
    "scrolled": true
   },
   "outputs": [
    {
     "name": "stdout",
     "output_type": "stream",
     "text": [
      "Inserisci la base: 4\n",
      "Inserisci l'esponente: 3\n",
      "Il risultato è: 64\n"
     ]
    }
   ],
   "source": [
    "# posso utilizzare asterisco e tutto ciò che scrivo non influenzerà il codice\n",
    "''' Lo stesso vale per i tripli apici'''\n",
    "\n",
    "base = int(input(\"Inserisci la base: \"))\n",
    "esponente = int(input(\"Inserisci l'esponente: \"))\n",
    "risultato = base ** esponente\n",
    "print(\"Il risultato è:\", risultato)\n"
   ]
  },
  {
   "cell_type": "code",
   "execution_count": 1,
   "id": "42ae49f8",
   "metadata": {},
   "outputs": [
    {
     "name": "stdout",
     "output_type": "stream",
     "text": [
      "Inserisci il voto: 6\n",
      "Dovresti studiare ancora.\n"
     ]
    }
   ],
   "source": [
    "grade = int(input(\"Inserisci il voto: \"))\n",
    "\n",
    "if grade >= 8 :\n",
    "    print(\"Eccellente\")\n",
    "else: \n",
    "    print(\"Dovresti studiare ancora.\")"
   ]
  },
  {
   "cell_type": "markdown",
   "id": "01345e91",
   "metadata": {},
   "source": [
    "**Dichiarazioni condizionali**: le righe rientrate sotto if and else all'interno del codice definiscono le diverse azioni che Python dovrebbe intraprendere a seconda delle condizioni soddisfatte:\\\n",
    "Il rientro separa chiaramente questi diversi percorsi di esecuzione.\n",
    "\n",
    "**Leggibilità**: raggruppia visivamente le azioni correlate, rendendo facile seguire la logica."
   ]
  },
  {
   "cell_type": "markdown",
   "id": "8ff543c2",
   "metadata": {},
   "source": [
    "### Variabili\n",
    "\n",
    "L'operatore di assegnamento = definisce la variabile identificata dal nome altezza:\n",
    "+ la variabile è un **oggetto** con associato un tipo ed identificata da un nome;\n",
    "+ l'istruzione crea un oggetto 3 e l'operatore di assegnamento fa in modo che il nome altezza si riferisca a quel determinato oggetto. "
   ]
  },
  {
   "cell_type": "code",
   "execution_count": 27,
   "id": "46017962",
   "metadata": {},
   "outputs": [],
   "source": [
    "altezza = 77"
   ]
  },
  {
   "cell_type": "markdown",
   "id": "37b0248e",
   "metadata": {},
   "source": [
    "L'istruzione area crea un oggetto che è prodotto dei valori base X altezza e fa in modo che la variabile area si riferisca a quell'oggetto. \n",
    "\n",
    "La **definizione di un oggetto** fa si che gli venga riservato uno **spazio in memoria centrale**. "
   ]
  },
  {
   "cell_type": "code",
   "execution_count": 28,
   "id": "d77cd453",
   "metadata": {},
   "outputs": [
    {
     "name": "stdout",
     "output_type": "stream",
     "text": [
      "170\n"
     ]
    }
   ],
   "source": [
    "base = 34 \n",
    "altezza = 5 \n",
    "area = base * altezza\n",
    "print(area)"
   ]
  },
  {
   "cell_type": "markdown",
   "id": "74a8e718",
   "metadata": {},
   "source": []
  },
  {
   "cell_type": "markdown",
   "id": "ab80f09f",
   "metadata": {},
   "source": [
    "### Tipi di dati: gli elementi costitutivi del codice.\n",
    "\n",
    "I tipi di dati sono come i diversi strumenti in una cassetta degli attrezzi, ognuno progettato per uno scopo specifico.\\\n",
    "Comprendere il tipo di dati giusto per il lavoro è essenziale per scrivere un codice efficace.\\\n",
    "\n",
    "\n",
    "**Numeri**: per memorizzare valori numerici come la età (25), il prezzo di un prodotto (19,99) o il numero di studenti in una classe (30). Utilizziamo **integers** per numeri interi e **floating-point number** per i decimali.\n",
    "\n",
    "**Stringhe**: quando lavoriamo con del testo, come il nome di qualcuno (\"Alice\"), il titolo di un libro (\"Per chi suona la campana\") o un messaggio che vuoi visualizzare su un sito web (\"Benvenuto!\"), le **strings** sono la nostra scelta preferita.\n",
    "\n",
    "**Booleani**: quando abbiamo bisogno di tenere traccia se una risposta è corretta (vera) o errata (falsa). I **booleans** rappresentano stati logici. \n",
    "\n",
    "**Liste**: gli elenchi consentono di memorizzare più valori in un ordine specifico. Questo è utile per cose come tenere traccia dei punteggi più alti in un gioco o memorizzare i nomi di tutti i tuoi amici.\n",
    "\n",
    "**Dizionari**: ci aiutano a memorizzare in maniera puntuale le informazioni, in quanto ci permettono di associare valori (come \"Emiliano\" o 47) con chiavi (come \"nome\" o \"età\").\n",
    "\n",
    "### Un tipo di dato definisce:\n",
    "+ un insieme di valori;\n",
    "+ le operazioni ammesse su quei valori.\n",
    "\n",
    "Ricapitoliamo:\n",
    "+ int per i numeri interi;\n",
    "+ float per i numeri razionali;\n",
    "+ bool per i valori True e False; su i valori booleani possono essere eseguire le operazioni di base;\n",
    "+ str per le stringhe(sequenze di caratteri).\n",
    "\n"
   ]
  },
  {
   "cell_type": "code",
   "execution_count": null,
   "id": "e3e3bc7c",
   "metadata": {},
   "outputs": [],
   "source": [
    "+ - * / "
   ]
  },
  {
   "cell_type": "code",
   "execution_count": 2,
   "id": "7b4133a1",
   "metadata": {},
   "outputs": [
    {
     "data": {
      "text/plain": [
       "3.5"
      ]
     },
     "execution_count": 2,
     "metadata": {},
     "output_type": "execute_result"
    }
   ],
   "source": [
    "7 / 2"
   ]
  },
  {
   "cell_type": "code",
   "execution_count": 3,
   "id": "53c7dd63",
   "metadata": {},
   "outputs": [
    {
     "data": {
      "text/plain": [
       "3"
      ]
     },
     "execution_count": 3,
     "metadata": {},
     "output_type": "execute_result"
    }
   ],
   "source": [
    "7 // 2"
   ]
  },
  {
   "cell_type": "code",
   "execution_count": 4,
   "id": "6b949492",
   "metadata": {},
   "outputs": [
    {
     "data": {
      "text/plain": [
       "1"
      ]
     },
     "execution_count": 4,
     "metadata": {},
     "output_type": "execute_result"
    }
   ],
   "source": [
    "7 % 2 # floor division"
   ]
  },
  {
   "cell_type": "code",
   "execution_count": null,
   "id": "867f777d",
   "metadata": {},
   "outputs": [],
   "source": [
    "==, !=, <, <=, >, >="
   ]
  },
  {
   "cell_type": "code",
   "execution_count": null,
   "id": "e6944bb7",
   "metadata": {},
   "outputs": [],
   "source": [
    "None # valore speciale che serve per rappresentare il nulla, è l'unico valore del tipo di dato NoneType"
   ]
  },
  {
   "cell_type": "code",
   "execution_count": null,
   "id": "d0bedfea",
   "metadata": {},
   "outputs": [],
   "source": []
  }
 ],
 "metadata": {
  "kernelspec": {
   "display_name": "Python (Anaconda3)",
   "language": "python",
   "name": "anaconda3"
  },
  "language_info": {
   "codemirror_mode": {
    "name": "ipython",
    "version": 3
   },
   "file_extension": ".py",
   "mimetype": "text/x-python",
   "name": "python",
   "nbconvert_exporter": "python",
   "pygments_lexer": "ipython3",
   "version": "3.12.2"
  }
 },
 "nbformat": 4,
 "nbformat_minor": 5
}
