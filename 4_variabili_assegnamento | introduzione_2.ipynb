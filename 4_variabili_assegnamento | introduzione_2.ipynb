{
 "cells": [
  {
   "cell_type": "markdown",
   "id": "5bc2a791",
   "metadata": {},
   "source": [
    "## Variabili ed assegnamento\n",
    "\n",
    "La variabile è un oggetto associato ad un tipo ed identificato da un nome.\\\n",
    "Il tipo di un oggetto definisce l'insieme delle operazioni che possiamo effettuare su di esso. "
   ]
  },
  {
   "cell_type": "code",
   "execution_count": 3,
   "id": "9c30f866",
   "metadata": {},
   "outputs": [],
   "source": [
    "altezza = 77"
   ]
  },
  {
   "cell_type": "markdown",
   "id": "2443ce22",
   "metadata": {},
   "source": [
    "L'istruzione crea l'oggetto che ha come valore 77 e fa in modo che la variabile altezza si riferisca a quel valore. \n",
    "+ il nome di una variabile la identifica;\n",
    "+ i nomi sono delle **etichette** che si riferiscono ad un oggetto;\n",
    "+ l'**operazione di assegnamento** di un valore ad una variabile si esegue con l'operatore =.\n",
    "+ l'assegnamento non è una equazione, ma una istruzione imperativa.\n"
   ]
  },
  {
   "cell_type": "markdown",
   "id": "793a267a",
   "metadata": {},
   "source": [
    "### L'assegnamento\n",
    "\n",
    "E' una istruzione che si svolge per fasi successive:\n",
    "1. Viene valutata l'espressione alla destra dell'operatore.\n",
    "2. Il valore risultate viene etichettato con il nome della variabile che compare alla sinistra dell'operatore.\n",
    "3. L'assegnmento e tutte le altre istruzioni sono eseguite in modo imperativo, esattamente ed esclusivamente nel momento in cui compaiono nel codice. "
   ]
  },
  {
   "cell_type": "code",
   "execution_count": 4,
   "id": "9b9c36da",
   "metadata": {},
   "outputs": [
    {
     "data": {
      "text/plain": [
       "19.625"
      ]
     },
     "execution_count": 4,
     "metadata": {},
     "output_type": "execute_result"
    }
   ],
   "source": [
    "pi = 3.14\n",
    "radius = 2.5\n",
    "area = pi * (radius ** 2)\n",
    "area"
   ]
  },
  {
   "cell_type": "code",
   "execution_count": 5,
   "id": "f46fda1a",
   "metadata": {},
   "outputs": [],
   "source": [
    "radius = radius + 1"
   ]
  },
  {
   "cell_type": "code",
   "execution_count": 6,
   "id": "8f2b29a3",
   "metadata": {},
   "outputs": [
    {
     "data": {
      "text/plain": [
       "3.5"
      ]
     },
     "execution_count": 6,
     "metadata": {},
     "output_type": "execute_result"
    }
   ],
   "source": [
    "radius"
   ]
  },
  {
   "cell_type": "markdown",
   "id": "c273abcb",
   "metadata": {},
   "source": [
    "### Tipo di una variabile\n",
    "Il tipo di una variabile dipende dal valore che attualmente le è stato assegnato:\n",
    "1. Non esiste una fase di dichiarazione in cui si definisce il nome ed il tipo di una variabile.\n",
    "2. Python richiede che la variabile venga inizializzata, abbia un valore prima di poterla utilizzare. \n",
    "3. Una variabile **rappresenta un nome associato ad un certo valore**."
   ]
  },
  {
   "cell_type": "code",
   "execution_count": 16,
   "id": "2efb4e69",
   "metadata": {},
   "outputs": [
    {
     "name": "stdout",
     "output_type": "stream",
     "text": [
      "2.0\n"
     ]
    }
   ],
   "source": [
    "# accelerazione media\n",
    "initial_velocity = 0\n",
    "final_velocity = 20\n",
    "time = 10\n",
    "acceleration = (final_velocity - initial_velocity) / time\n",
    "print(acceleration)"
   ]
  },
  {
   "cell_type": "markdown",
   "id": "3da04fc0",
   "metadata": {},
   "source": [
    "## Una variabile è come un'etichetta posta su di un oggetto: not a box!\n",
    "Uno stesso oggetto può essere assegnato a più variabili: il vaore non viene copiato ma riceve più etichette. "
   ]
  },
  {
   "cell_type": "code",
   "execution_count": 21,
   "id": "1bdc5069",
   "metadata": {},
   "outputs": [
    {
     "name": "stdout",
     "output_type": "stream",
     "text": [
      "16000.0\n"
     ]
    }
   ],
   "source": [
    "# forza necessaria per raggiungere quella accelerazione media 2.0\n",
    "mass = 8000\n",
    "force = mass * acceleration\n",
    "print(force)"
   ]
  },
  {
   "cell_type": "code",
   "execution_count": null,
   "id": "b37ea6cb",
   "metadata": {},
   "outputs": [],
   "source": []
  },
  {
   "cell_type": "code",
   "execution_count": 22,
   "id": "6031d512",
   "metadata": {},
   "outputs": [
    {
     "data": {
      "text/plain": [
       "100.0"
      ]
     },
     "execution_count": 22,
     "metadata": {},
     "output_type": "execute_result"
    }
   ],
   "source": [
    "# spazio percorso durante l'accelerazione\n",
    "initial_velocity = 0\n",
    "final_velocity = 20\n",
    "time = 10\n",
    "distance = initial_velocity * time + 0.5 * acceleration * (time ** 2)\n",
    "distance"
   ]
  },
  {
   "cell_type": "code",
   "execution_count": null,
   "id": "0fce8f3b",
   "metadata": {},
   "outputs": [],
   "source": []
  },
  {
   "cell_type": "code",
   "execution_count": 23,
   "id": "94ec1193",
   "metadata": {},
   "outputs": [
    {
     "name": "stdout",
     "output_type": "stream",
     "text": [
      "Accelerazione: 2.0 m/s²\n",
      "Forza necessaria: 16000.0 N\n",
      "Spazio percorso: 100.0 m\n"
     ]
    }
   ],
   "source": [
    "# Dati di partenza\n",
    "initial_velocity = 0        # Velocità iniziale in m/s\n",
    "final_velocity = 20         # Velocità finale in m/s (circa 72 km/h)\n",
    "time = 10                   # Tempo in secondi\n",
    "mass = 8000                 # Massa del camion in kg\n",
    "\n",
    "# 1. Calcolo dell'accelerazione\n",
    "acceleration = (final_velocity - initial_velocity) / time\n",
    "\n",
    "# 2. Calcolo della forza necessaria (F = m * a)\n",
    "force = mass * acceleration\n",
    "\n",
    "# 3. Calcolo dello spazio percorso (s = vi*t + 0.5*a*t^2)\n",
    "distance = initial_velocity * time + 0.5 * acceleration * (time ** 2)\n",
    "\n",
    "# Output dei risultati\n",
    "print(\"Accelerazione:\", acceleration, \"m/s²\")\n",
    "print(\"Forza necessaria:\", force, \"N\")\n",
    "print(\"Spazio percorso:\", distance, \"m\")"
   ]
  },
  {
   "cell_type": "code",
   "execution_count": null,
   "id": "89e4147e",
   "metadata": {},
   "outputs": [],
   "source": []
  }
 ],
 "metadata": {
  "kernelspec": {
   "display_name": "Python (Anaconda3)",
   "language": "python",
   "name": "anaconda3"
  },
  "language_info": {
   "codemirror_mode": {
    "name": "ipython",
    "version": 3
   },
   "file_extension": ".py",
   "mimetype": "text/x-python",
   "name": "python",
   "nbconvert_exporter": "python",
   "pygments_lexer": "ipython3",
   "version": "3.12.2"
  }
 },
 "nbformat": 4,
 "nbformat_minor": 5
}
