{
 "cells": [
  {
   "cell_type": "markdown",
   "id": "a2e1c17b",
   "metadata": {},
   "source": [
    "# Aggregazioni in Pandas"
   ]
  },
  {
   "cell_type": "markdown",
   "id": "ea3d66f5",
   "metadata": {},
   "source": [
    "## Modulo 4: Aggregazioni_parte 2\n",
    "- Utilizzo di `.groupby` e metodi aggregati\n",
    "- Comprendere l'oggetto `.groupby`\n",
    "- Introduzione del metodo `.agg`\n",
    "- Specificare l'output della colonna\n",
    "- Raggruppamento per più colonne"
   ]
  },
  {
   "cell_type": "code",
   "execution_count": 2,
   "id": "3bdcb74b",
   "metadata": {},
   "outputs": [
    {
     "data": {
      "text/html": [
       "<div>\n",
       "<style scoped>\n",
       "    .dataframe tbody tr th:only-of-type {\n",
       "        vertical-align: middle;\n",
       "    }\n",
       "\n",
       "    .dataframe tbody tr th {\n",
       "        vertical-align: top;\n",
       "    }\n",
       "\n",
       "    .dataframe thead th {\n",
       "        text-align: right;\n",
       "    }\n",
       "</style>\n",
       "<table border=\"1\" class=\"dataframe\">\n",
       "  <thead>\n",
       "    <tr style=\"text-align: right;\">\n",
       "      <th></th>\n",
       "      <th>total_bill</th>\n",
       "      <th>tip</th>\n",
       "      <th>sex</th>\n",
       "      <th>smoker</th>\n",
       "      <th>day</th>\n",
       "      <th>time</th>\n",
       "      <th>size</th>\n",
       "    </tr>\n",
       "  </thead>\n",
       "  <tbody>\n",
       "    <tr>\n",
       "      <th>0</th>\n",
       "      <td>16.99</td>\n",
       "      <td>1.01</td>\n",
       "      <td>Female</td>\n",
       "      <td>No</td>\n",
       "      <td>Sun</td>\n",
       "      <td>Dinner</td>\n",
       "      <td>2</td>\n",
       "    </tr>\n",
       "    <tr>\n",
       "      <th>1</th>\n",
       "      <td>10.34</td>\n",
       "      <td>1.66</td>\n",
       "      <td>Male</td>\n",
       "      <td>No</td>\n",
       "      <td>Sun</td>\n",
       "      <td>Dinner</td>\n",
       "      <td>3</td>\n",
       "    </tr>\n",
       "    <tr>\n",
       "      <th>2</th>\n",
       "      <td>21.01</td>\n",
       "      <td>3.50</td>\n",
       "      <td>Male</td>\n",
       "      <td>No</td>\n",
       "      <td>Sun</td>\n",
       "      <td>Dinner</td>\n",
       "      <td>3</td>\n",
       "    </tr>\n",
       "    <tr>\n",
       "      <th>3</th>\n",
       "      <td>23.68</td>\n",
       "      <td>3.31</td>\n",
       "      <td>Male</td>\n",
       "      <td>No</td>\n",
       "      <td>Sun</td>\n",
       "      <td>Dinner</td>\n",
       "      <td>2</td>\n",
       "    </tr>\n",
       "    <tr>\n",
       "      <th>4</th>\n",
       "      <td>24.59</td>\n",
       "      <td>3.61</td>\n",
       "      <td>Female</td>\n",
       "      <td>No</td>\n",
       "      <td>Sun</td>\n",
       "      <td>Dinner</td>\n",
       "      <td>4</td>\n",
       "    </tr>\n",
       "  </tbody>\n",
       "</table>\n",
       "</div>"
      ],
      "text/plain": [
       "   total_bill   tip     sex smoker  day    time  size\n",
       "0       16.99  1.01  Female     No  Sun  Dinner     2\n",
       "1       10.34  1.66    Male     No  Sun  Dinner     3\n",
       "2       21.01  3.50    Male     No  Sun  Dinner     3\n",
       "3       23.68  3.31    Male     No  Sun  Dinner     2\n",
       "4       24.59  3.61  Female     No  Sun  Dinner     4"
      ]
     },
     "execution_count": 2,
     "metadata": {},
     "output_type": "execute_result"
    }
   ],
   "source": [
    "import pandas as pd\n",
    "\n",
    "df = pd.read_csv(\"https://raw.githubusercontent.com/emilianoyoulysses/corso_python_fondazione_pico/refs/heads/DataFrames-%26-TimeSeries/tips.csv\")\n",
    "df.head()"
   ]
  },
  {
   "cell_type": "code",
   "execution_count": 3,
   "id": "689a69c4",
   "metadata": {},
   "outputs": [
    {
     "data": {
      "text/plain": [
       "17.795"
      ]
     },
     "execution_count": 3,
     "metadata": {},
     "output_type": "execute_result"
    }
   ],
   "source": [
    "df.total_bill.median() # Abbiamo già lavorato con alcune funzioni aggregate"
   ]
  },
  {
   "cell_type": "code",
   "execution_count": 4,
   "id": "c2367789",
   "metadata": {},
   "outputs": [
    {
     "data": {
      "text/plain": [
       "total_bill    19.785943\n",
       "tip            2.998279\n",
       "size           2.569672\n",
       "dtype: float64"
      ]
     },
     "execution_count": 4,
     "metadata": {},
     "output_type": "execute_result"
    }
   ],
   "source": [
    "df.mean(numeric_only=True) # Funzioni aggregate eseguite su intere colonne o dataframe\n"
   ]
  },
  {
   "cell_type": "code",
   "execution_count": 5,
   "id": "b2d7b8c3",
   "metadata": {},
   "outputs": [
    {
     "data": {
      "text/plain": [
       "(1.0, 10.0)"
      ]
     },
     "execution_count": 5,
     "metadata": {},
     "output_type": "execute_result"
    }
   ],
   "source": [
    "df.tip.min(), df.tip.max()"
   ]
  },
  {
   "cell_type": "code",
   "execution_count": 5,
   "id": "4f1f19e2",
   "metadata": {},
   "outputs": [
    {
     "data": {
      "text/html": [
       "<div>\n",
       "<style scoped>\n",
       "    .dataframe tbody tr th:only-of-type {\n",
       "        vertical-align: middle;\n",
       "    }\n",
       "\n",
       "    .dataframe tbody tr th {\n",
       "        vertical-align: top;\n",
       "    }\n",
       "\n",
       "    .dataframe thead th {\n",
       "        text-align: right;\n",
       "    }\n",
       "</style>\n",
       "<table border=\"1\" class=\"dataframe\">\n",
       "  <thead>\n",
       "    <tr style=\"text-align: right;\">\n",
       "      <th></th>\n",
       "      <th>total_bill</th>\n",
       "      <th>tip</th>\n",
       "      <th>size</th>\n",
       "    </tr>\n",
       "  </thead>\n",
       "  <tbody>\n",
       "    <tr>\n",
       "      <th>count</th>\n",
       "      <td>244.000000</td>\n",
       "      <td>244.000000</td>\n",
       "      <td>244.000000</td>\n",
       "    </tr>\n",
       "    <tr>\n",
       "      <th>mean</th>\n",
       "      <td>19.785943</td>\n",
       "      <td>2.998279</td>\n",
       "      <td>2.569672</td>\n",
       "    </tr>\n",
       "    <tr>\n",
       "      <th>std</th>\n",
       "      <td>8.902412</td>\n",
       "      <td>1.383638</td>\n",
       "      <td>0.951100</td>\n",
       "    </tr>\n",
       "    <tr>\n",
       "      <th>min</th>\n",
       "      <td>3.070000</td>\n",
       "      <td>1.000000</td>\n",
       "      <td>1.000000</td>\n",
       "    </tr>\n",
       "    <tr>\n",
       "      <th>25%</th>\n",
       "      <td>13.347500</td>\n",
       "      <td>2.000000</td>\n",
       "      <td>2.000000</td>\n",
       "    </tr>\n",
       "    <tr>\n",
       "      <th>50%</th>\n",
       "      <td>17.795000</td>\n",
       "      <td>2.900000</td>\n",
       "      <td>2.000000</td>\n",
       "    </tr>\n",
       "    <tr>\n",
       "      <th>75%</th>\n",
       "      <td>24.127500</td>\n",
       "      <td>3.562500</td>\n",
       "      <td>3.000000</td>\n",
       "    </tr>\n",
       "    <tr>\n",
       "      <th>max</th>\n",
       "      <td>50.810000</td>\n",
       "      <td>10.000000</td>\n",
       "      <td>6.000000</td>\n",
       "    </tr>\n",
       "  </tbody>\n",
       "</table>\n",
       "</div>"
      ],
      "text/plain": [
       "       total_bill         tip        size\n",
       "count  244.000000  244.000000  244.000000\n",
       "mean    19.785943    2.998279    2.569672\n",
       "std      8.902412    1.383638    0.951100\n",
       "min      3.070000    1.000000    1.000000\n",
       "25%     13.347500    2.000000    2.000000\n",
       "50%     17.795000    2.900000    2.000000\n",
       "75%     24.127500    3.562500    3.000000\n",
       "max     50.810000   10.000000    6.000000"
      ]
     },
     "execution_count": 5,
     "metadata": {},
     "output_type": "execute_result"
    }
   ],
   "source": [
    "df.describe() # .describe è anche una funzione aggregata, poiché ospita più funzioni aggregate"
   ]
  },
  {
   "cell_type": "markdown",
   "id": "f485e28f",
   "metadata": {},
   "source": [
    "Ma cosa facciamo quando abbiamo bisogno di risultati aggregati per ogni valore in una colonna categorica?\n",
    "\n",
    "* È possibile creare manualmente dataframe per ogni categoria\n",
    "* Ma questo può diventare noioso con molte categorie e con più colonne\n",
    "* Soprattutto se vogliamo eseguire gli stessi metodi su ogni dataframe\n"
   ]
  },
  {
   "cell_type": "code",
   "execution_count": 6,
   "id": "f984ab6e",
   "metadata": {},
   "outputs": [
    {
     "data": {
      "text/plain": [
       "(17.682741935483868, 17.15157894736842, 20.441379310344825, 21.41)"
      ]
     },
     "execution_count": 6,
     "metadata": {},
     "output_type": "execute_result"
    }
   ],
   "source": [
    "thurs = df[df.day == \"Thur\"]\n",
    "fri = df[df.day == \"Fri\"]\n",
    "sat = df[df.day == \"Sat\"]\n",
    "sun = df[df.day == \"Sun\"]\n",
    "\n",
    "thurs.total_bill.mean(), fri.total_bill.mean(), sat.total_bill.mean(), sun.total_bill.mean()"
   ]
  },
  {
   "cell_type": "markdown",
   "id": "43bbece2",
   "metadata": {},
   "source": [
    "# Cos'è groupby()?\n",
    "Il metodo `groupby()`consente di raggruppare i dati in base a una o più colonne, in modo da poter poi applicare operazioni di aggregazione (come somma, media, conteggio, massimo, ecc.) su ciascun gruppo.\n",
    "\n",
    "`df.groupby(\"colonna\").metodo()`"
   ]
  },
  {
   "cell_type": "code",
   "execution_count": 8,
   "id": "4b8ab3a1",
   "metadata": {},
   "outputs": [
    {
     "data": {
      "text/plain": [
       "day\n",
       "Fri     17.151579\n",
       "Sat     20.441379\n",
       "Sun     21.410000\n",
       "Thur    17.682742\n",
       "Name: total_bill, dtype: float64"
      ]
     },
     "execution_count": 8,
     "metadata": {},
     "output_type": "execute_result"
    }
   ],
   "source": [
    "# Calcoliamo dall'oggetto groupby con metodi aggregati (.mean, .median, ecc...)\n",
    "# Calcola la fattura totale media per ogni giorno\n",
    "# Il \"per ciascuno\" significa che stiamo raggruppando per colonna del giorno\n",
    "\n",
    "df.groupby(\"day\").total_bill.mean()"
   ]
  },
  {
   "cell_type": "markdown",
   "id": "9e776976",
   "metadata": {},
   "source": [
    "Osserviamo groupby su di una colonna con una funzione di aggregazione che ci restituirà una Series. \\\n",
    "Cambia anche il punto di osservazione. "
   ]
  },
  {
   "cell_type": "code",
   "execution_count": 9,
   "id": "865ee059",
   "metadata": {},
   "outputs": [
    {
     "data": {
      "text/plain": [
       "<pandas.core.groupby.generic.DataFrameGroupBy object at 0x7fa38b5d6e80>"
      ]
     },
     "execution_count": 9,
     "metadata": {},
     "output_type": "execute_result"
    }
   ],
   "source": [
    "# L'oggetto groupby è un'entità composta, costruita per accedere con funzioni aggregate\n",
    "# possiamo osservare l'oggetto groupby e la sua locazione in memoria\n",
    "\n",
    "df.groupby(\"day\")"
   ]
  },
  {
   "cell_type": "code",
   "execution_count": 10,
   "id": "f21e8b7a",
   "metadata": {},
   "outputs": [
    {
     "data": {
      "text/plain": [
       "('Fri',\n",
       "      total_bill   tip     sex smoker  day    time  size\n",
       " 90        28.97  3.00    Male    Yes  Fri  Dinner     2\n",
       " 91        22.49  3.50    Male     No  Fri  Dinner     2\n",
       " 92         5.75  1.00  Female    Yes  Fri  Dinner     2\n",
       " 93        16.32  4.30  Female    Yes  Fri  Dinner     2\n",
       " 94        22.75  3.25  Female     No  Fri  Dinner     2\n",
       " 95        40.17  4.73    Male    Yes  Fri  Dinner     4\n",
       " 96        27.28  4.00    Male    Yes  Fri  Dinner     2\n",
       " 97        12.03  1.50    Male    Yes  Fri  Dinner     2\n",
       " 98        21.01  3.00    Male    Yes  Fri  Dinner     2\n",
       " 99        12.46  1.50    Male     No  Fri  Dinner     2\n",
       " 100       11.35  2.50  Female    Yes  Fri  Dinner     2\n",
       " 101       15.38  3.00  Female    Yes  Fri  Dinner     2\n",
       " 220       12.16  2.20    Male    Yes  Fri   Lunch     2\n",
       " 221       13.42  3.48  Female    Yes  Fri   Lunch     2\n",
       " 222        8.58  1.92    Male    Yes  Fri   Lunch     1\n",
       " 223       15.98  3.00  Female     No  Fri   Lunch     3\n",
       " 224       13.42  1.58    Male    Yes  Fri   Lunch     2\n",
       " 225       16.27  2.50  Female    Yes  Fri   Lunch     2\n",
       " 226       10.09  2.00  Female    Yes  Fri   Lunch     2)"
      ]
     },
     "execution_count": 10,
     "metadata": {},
     "output_type": "execute_result"
    }
   ],
   "source": [
    "# L'oggetto groupby non stampa i risultati,\n",
    "# Sotto il cofano, è un oggetto contenente più tuple di dataframe per ogni possibile valore categorico\n",
    "# Consiglia di evitare di scomporre gruppi per oggetti (questa cella è per condividere il contesto)\n",
    "# Ecco a cosa servono le funzioni aggregate!\n",
    "a, b, c, d = df.groupby(\"day\")\n",
    "a"
   ]
  },
  {
   "cell_type": "code",
   "execution_count": 11,
   "id": "e79eda56",
   "metadata": {},
   "outputs": [
    {
     "data": {
      "text/plain": [
       "('Sun',\n",
       "      total_bill   tip     sex smoker  day    time  size\n",
       " 0         16.99  1.01  Female     No  Sun  Dinner     2\n",
       " 1         10.34  1.66    Male     No  Sun  Dinner     3\n",
       " 2         21.01  3.50    Male     No  Sun  Dinner     3\n",
       " 3         23.68  3.31    Male     No  Sun  Dinner     2\n",
       " 4         24.59  3.61  Female     No  Sun  Dinner     4\n",
       " ..          ...   ...     ...    ...  ...     ...   ...\n",
       " 186       20.90  3.50  Female    Yes  Sun  Dinner     3\n",
       " 187       30.46  2.00    Male    Yes  Sun  Dinner     5\n",
       " 188       18.15  3.50  Female    Yes  Sun  Dinner     3\n",
       " 189       23.10  4.00    Male    Yes  Sun  Dinner     3\n",
       " 190       15.69  1.50    Male    Yes  Sun  Dinner     2\n",
       " \n",
       " [76 rows x 7 columns])"
      ]
     },
     "execution_count": 11,
     "metadata": {},
     "output_type": "execute_result"
    }
   ],
   "source": [
    "c"
   ]
  },
  {
   "cell_type": "code",
   "execution_count": 31,
   "id": "27ebb7e0",
   "metadata": {
    "scrolled": true
   },
   "outputs": [
    {
     "data": {
      "text/plain": [
       "day\n",
       "Fri     17.151579\n",
       "Sat     20.441379\n",
       "Sun     21.410000\n",
       "Thur    17.682742\n",
       "Name: total_bill, dtype: float64"
      ]
     },
     "execution_count": 31,
     "metadata": {},
     "output_type": "execute_result"
    }
   ],
   "source": [
    "# Calcoliamo dall'oggetto groupby con metodi aggregati (.mean, .median, ecc...)\n",
    "# Calcola la fattura totale media per ogni giorno\n",
    "# Il \"per ciascuno\" significa che stiamo raggruppando per colonna del giorno\n",
    "\n",
    "df.groupby(\"day\").total_bill.mean()"
   ]
  },
  {
   "cell_type": "code",
   "execution_count": 16,
   "id": "d7a58c5c",
   "metadata": {},
   "outputs": [
    {
     "data": {
      "text/html": [
       "<div>\n",
       "<style scoped>\n",
       "    .dataframe tbody tr th:only-of-type {\n",
       "        vertical-align: middle;\n",
       "    }\n",
       "\n",
       "    .dataframe tbody tr th {\n",
       "        vertical-align: top;\n",
       "    }\n",
       "\n",
       "    .dataframe thead th {\n",
       "        text-align: right;\n",
       "    }\n",
       "</style>\n",
       "<table border=\"1\" class=\"dataframe\">\n",
       "  <thead>\n",
       "    <tr style=\"text-align: right;\">\n",
       "      <th></th>\n",
       "      <th>total_bill</th>\n",
       "      <th>tip</th>\n",
       "      <th>size</th>\n",
       "    </tr>\n",
       "    <tr>\n",
       "      <th>day</th>\n",
       "      <th></th>\n",
       "      <th></th>\n",
       "      <th></th>\n",
       "    </tr>\n",
       "  </thead>\n",
       "  <tbody>\n",
       "    <tr>\n",
       "      <th>Fri</th>\n",
       "      <td>17.151579</td>\n",
       "      <td>2.734737</td>\n",
       "      <td>2.105263</td>\n",
       "    </tr>\n",
       "    <tr>\n",
       "      <th>Sat</th>\n",
       "      <td>20.441379</td>\n",
       "      <td>2.993103</td>\n",
       "      <td>2.517241</td>\n",
       "    </tr>\n",
       "    <tr>\n",
       "      <th>Sun</th>\n",
       "      <td>21.410000</td>\n",
       "      <td>3.255132</td>\n",
       "      <td>2.842105</td>\n",
       "    </tr>\n",
       "    <tr>\n",
       "      <th>Thur</th>\n",
       "      <td>17.682742</td>\n",
       "      <td>2.771452</td>\n",
       "      <td>2.451613</td>\n",
       "    </tr>\n",
       "  </tbody>\n",
       "</table>\n",
       "</div>"
      ],
      "text/plain": [
       "      total_bill       tip      size\n",
       "day                                 \n",
       "Fri    17.151579  2.734737  2.105263\n",
       "Sat    20.441379  2.993103  2.517241\n",
       "Sun    21.410000  3.255132  2.842105\n",
       "Thur   17.682742  2.771452  2.451613"
      ]
     },
     "execution_count": 16,
     "metadata": {},
     "output_type": "execute_result"
    }
   ],
   "source": [
    "# Otteniamo la media per ogni giorno, su tutte le colonne numeriche\n",
    "# Nota che ogni risultato groupby ridefinisce il significato di ogni riga\n",
    "df.groupby(\"day\")[[\"total_bill\", \"tip\", \"size\"]].mean()"
   ]
  },
  {
   "cell_type": "code",
   "execution_count": 17,
   "id": "cd94871d",
   "metadata": {},
   "outputs": [
    {
     "data": {
      "text/html": [
       "<div>\n",
       "<style scoped>\n",
       "    .dataframe tbody tr th:only-of-type {\n",
       "        vertical-align: middle;\n",
       "    }\n",
       "\n",
       "    .dataframe tbody tr th {\n",
       "        vertical-align: top;\n",
       "    }\n",
       "\n",
       "    .dataframe thead th {\n",
       "        text-align: right;\n",
       "    }\n",
       "</style>\n",
       "<table border=\"1\" class=\"dataframe\">\n",
       "  <thead>\n",
       "    <tr style=\"text-align: right;\">\n",
       "      <th></th>\n",
       "      <th></th>\n",
       "      <th>total_bill</th>\n",
       "      <th>tip</th>\n",
       "      <th>size</th>\n",
       "    </tr>\n",
       "    <tr>\n",
       "      <th>day</th>\n",
       "      <th>time</th>\n",
       "      <th></th>\n",
       "      <th></th>\n",
       "      <th></th>\n",
       "    </tr>\n",
       "  </thead>\n",
       "  <tbody>\n",
       "    <tr>\n",
       "      <th rowspan=\"2\" valign=\"top\">Fri</th>\n",
       "      <th>Dinner</th>\n",
       "      <td>19.663333</td>\n",
       "      <td>2.940000</td>\n",
       "      <td>2.166667</td>\n",
       "    </tr>\n",
       "    <tr>\n",
       "      <th>Lunch</th>\n",
       "      <td>12.845714</td>\n",
       "      <td>2.382857</td>\n",
       "      <td>2.000000</td>\n",
       "    </tr>\n",
       "    <tr>\n",
       "      <th>Sat</th>\n",
       "      <th>Dinner</th>\n",
       "      <td>20.441379</td>\n",
       "      <td>2.993103</td>\n",
       "      <td>2.517241</td>\n",
       "    </tr>\n",
       "    <tr>\n",
       "      <th>Sun</th>\n",
       "      <th>Dinner</th>\n",
       "      <td>21.410000</td>\n",
       "      <td>3.255132</td>\n",
       "      <td>2.842105</td>\n",
       "    </tr>\n",
       "    <tr>\n",
       "      <th rowspan=\"2\" valign=\"top\">Thur</th>\n",
       "      <th>Dinner</th>\n",
       "      <td>18.780000</td>\n",
       "      <td>3.000000</td>\n",
       "      <td>2.000000</td>\n",
       "    </tr>\n",
       "    <tr>\n",
       "      <th>Lunch</th>\n",
       "      <td>17.664754</td>\n",
       "      <td>2.767705</td>\n",
       "      <td>2.459016</td>\n",
       "    </tr>\n",
       "  </tbody>\n",
       "</table>\n",
       "</div>"
      ],
      "text/plain": [
       "             total_bill       tip      size\n",
       "day  time                                  \n",
       "Fri  Dinner   19.663333  2.940000  2.166667\n",
       "     Lunch    12.845714  2.382857  2.000000\n",
       "Sat  Dinner   20.441379  2.993103  2.517241\n",
       "Sun  Dinner   21.410000  3.255132  2.842105\n",
       "Thur Dinner   18.780000  3.000000  2.000000\n",
       "     Lunch    17.664754  2.767705  2.459016"
      ]
     },
     "execution_count": 17,
     "metadata": {},
     "output_type": "execute_result"
    }
   ],
   "source": [
    "# aggreghiamo colonne multiple categoriali\n",
    "# Possiamo anche raggruppare per più di 1 colonna. Questo crea un multiplo\n",
    "# Senza specificare le colonne, vedremo tutte le colonne numeriche nell'output\n",
    "df.groupby([\"day\", \"time\"])[[\"total_bill\", \"tip\", \"size\"]].mean()"
   ]
  },
  {
   "cell_type": "code",
   "execution_count": 18,
   "id": "42fb4b76",
   "metadata": {},
   "outputs": [
    {
     "data": {
      "text/html": [
       "<div>\n",
       "<style scoped>\n",
       "    .dataframe tbody tr th:only-of-type {\n",
       "        vertical-align: middle;\n",
       "    }\n",
       "\n",
       "    .dataframe tbody tr th {\n",
       "        vertical-align: top;\n",
       "    }\n",
       "\n",
       "    .dataframe thead th {\n",
       "        text-align: right;\n",
       "    }\n",
       "</style>\n",
       "<table border=\"1\" class=\"dataframe\">\n",
       "  <thead>\n",
       "    <tr style=\"text-align: right;\">\n",
       "      <th></th>\n",
       "      <th></th>\n",
       "      <th>total_bill</th>\n",
       "      <th>tip</th>\n",
       "    </tr>\n",
       "    <tr>\n",
       "      <th>day</th>\n",
       "      <th>time</th>\n",
       "      <th></th>\n",
       "      <th></th>\n",
       "    </tr>\n",
       "  </thead>\n",
       "  <tbody>\n",
       "    <tr>\n",
       "      <th rowspan=\"2\" valign=\"top\">Fri</th>\n",
       "      <th>Dinner</th>\n",
       "      <td>19.663333</td>\n",
       "      <td>2.940000</td>\n",
       "    </tr>\n",
       "    <tr>\n",
       "      <th>Lunch</th>\n",
       "      <td>12.845714</td>\n",
       "      <td>2.382857</td>\n",
       "    </tr>\n",
       "    <tr>\n",
       "      <th>Sat</th>\n",
       "      <th>Dinner</th>\n",
       "      <td>20.441379</td>\n",
       "      <td>2.993103</td>\n",
       "    </tr>\n",
       "    <tr>\n",
       "      <th>Sun</th>\n",
       "      <th>Dinner</th>\n",
       "      <td>21.410000</td>\n",
       "      <td>3.255132</td>\n",
       "    </tr>\n",
       "    <tr>\n",
       "      <th rowspan=\"2\" valign=\"top\">Thur</th>\n",
       "      <th>Dinner</th>\n",
       "      <td>18.780000</td>\n",
       "      <td>3.000000</td>\n",
       "    </tr>\n",
       "    <tr>\n",
       "      <th>Lunch</th>\n",
       "      <td>17.664754</td>\n",
       "      <td>2.767705</td>\n",
       "    </tr>\n",
       "  </tbody>\n",
       "</table>\n",
       "</div>"
      ],
      "text/plain": [
       "             total_bill       tip\n",
       "day  time                        \n",
       "Fri  Dinner   19.663333  2.940000\n",
       "     Lunch    12.845714  2.382857\n",
       "Sat  Dinner   20.441379  2.993103\n",
       "Sun  Dinner   21.410000  3.255132\n",
       "Thur Dinner   18.780000  3.000000\n",
       "     Lunch    17.664754  2.767705"
      ]
     },
     "execution_count": 18,
     "metadata": {},
     "output_type": "execute_result"
    }
   ],
   "source": [
    "# Possiamo anche raggruppare per più di 1 colonna. Questo crea un multiplo\n",
    "# Possiamo fornire un elenco di colonne numeriche all'interno delle parentesi quadre che specificano le colonne (facendo doppie parentesi)\n",
    "df.groupby([\"day\", \"time\"])[[\"total_bill\", \"tip\"]].mean()"
   ]
  },
  {
   "cell_type": "code",
   "execution_count": 19,
   "id": "a60c3d46",
   "metadata": {},
   "outputs": [
    {
     "data": {
      "text/html": [
       "<div>\n",
       "<style scoped>\n",
       "    .dataframe tbody tr th:only-of-type {\n",
       "        vertical-align: middle;\n",
       "    }\n",
       "\n",
       "    .dataframe tbody tr th {\n",
       "        vertical-align: top;\n",
       "    }\n",
       "\n",
       "    .dataframe thead th {\n",
       "        text-align: right;\n",
       "    }\n",
       "</style>\n",
       "<table border=\"1\" class=\"dataframe\">\n",
       "  <thead>\n",
       "    <tr style=\"text-align: right;\">\n",
       "      <th></th>\n",
       "      <th>day</th>\n",
       "      <th>time</th>\n",
       "      <th>total_bill</th>\n",
       "      <th>tip</th>\n",
       "    </tr>\n",
       "  </thead>\n",
       "  <tbody>\n",
       "    <tr>\n",
       "      <th>0</th>\n",
       "      <td>Fri</td>\n",
       "      <td>Dinner</td>\n",
       "      <td>19.663333</td>\n",
       "      <td>2.940000</td>\n",
       "    </tr>\n",
       "    <tr>\n",
       "      <th>1</th>\n",
       "      <td>Fri</td>\n",
       "      <td>Lunch</td>\n",
       "      <td>12.845714</td>\n",
       "      <td>2.382857</td>\n",
       "    </tr>\n",
       "    <tr>\n",
       "      <th>2</th>\n",
       "      <td>Sat</td>\n",
       "      <td>Dinner</td>\n",
       "      <td>20.441379</td>\n",
       "      <td>2.993103</td>\n",
       "    </tr>\n",
       "    <tr>\n",
       "      <th>3</th>\n",
       "      <td>Sun</td>\n",
       "      <td>Dinner</td>\n",
       "      <td>21.410000</td>\n",
       "      <td>3.255132</td>\n",
       "    </tr>\n",
       "    <tr>\n",
       "      <th>4</th>\n",
       "      <td>Thur</td>\n",
       "      <td>Dinner</td>\n",
       "      <td>18.780000</td>\n",
       "      <td>3.000000</td>\n",
       "    </tr>\n",
       "    <tr>\n",
       "      <th>5</th>\n",
       "      <td>Thur</td>\n",
       "      <td>Lunch</td>\n",
       "      <td>17.664754</td>\n",
       "      <td>2.767705</td>\n",
       "    </tr>\n",
       "  </tbody>\n",
       "</table>\n",
       "</div>"
      ],
      "text/plain": [
       "    day    time  total_bill       tip\n",
       "0   Fri  Dinner   19.663333  2.940000\n",
       "1   Fri   Lunch   12.845714  2.382857\n",
       "2   Sat  Dinner   20.441379  2.993103\n",
       "3   Sun  Dinner   21.410000  3.255132\n",
       "4  Thur  Dinner   18.780000  3.000000\n",
       "5  Thur   Lunch   17.664754  2.767705"
      ]
     },
     "execution_count": 19,
     "metadata": {},
     "output_type": "execute_result"
    }
   ],
   "source": [
    "# Se dobbiamo trasformare l'output di groupby nei loro nomi di colonna, possiamo usare .reset_index\n",
    "df.groupby([\"day\", \"time\"])[[\"total_bill\", \"tip\"]].mean().reset_index()"
   ]
  },
  {
   "cell_type": "code",
   "execution_count": 20,
   "id": "2bfc931f",
   "metadata": {},
   "outputs": [
    {
     "data": {
      "text/html": [
       "<div>\n",
       "<style scoped>\n",
       "    .dataframe tbody tr th:only-of-type {\n",
       "        vertical-align: middle;\n",
       "    }\n",
       "\n",
       "    .dataframe tbody tr th {\n",
       "        vertical-align: top;\n",
       "    }\n",
       "\n",
       "    .dataframe thead th {\n",
       "        text-align: right;\n",
       "    }\n",
       "</style>\n",
       "<table border=\"1\" class=\"dataframe\">\n",
       "  <thead>\n",
       "    <tr style=\"text-align: right;\">\n",
       "      <th></th>\n",
       "      <th>total_bill</th>\n",
       "      <th>tip</th>\n",
       "    </tr>\n",
       "    <tr>\n",
       "      <th>day</th>\n",
       "      <th></th>\n",
       "      <th></th>\n",
       "    </tr>\n",
       "  </thead>\n",
       "  <tbody>\n",
       "    <tr>\n",
       "      <th>Fri</th>\n",
       "      <td>17.151579</td>\n",
       "      <td>2.734737</td>\n",
       "    </tr>\n",
       "    <tr>\n",
       "      <th>Sat</th>\n",
       "      <td>20.441379</td>\n",
       "      <td>2.993103</td>\n",
       "    </tr>\n",
       "    <tr>\n",
       "      <th>Sun</th>\n",
       "      <td>21.410000</td>\n",
       "      <td>3.255132</td>\n",
       "    </tr>\n",
       "    <tr>\n",
       "      <th>Thur</th>\n",
       "      <td>17.682742</td>\n",
       "      <td>2.771452</td>\n",
       "    </tr>\n",
       "  </tbody>\n",
       "</table>\n",
       "</div>"
      ],
      "text/plain": [
       "      total_bill       tip\n",
       "day                       \n",
       "Fri    17.151579  2.734737\n",
       "Sat    20.441379  2.993103\n",
       "Sun    21.410000  3.255132\n",
       "Thur   17.682742  2.771452"
      ]
     },
     "execution_count": 20,
     "metadata": {},
     "output_type": "execute_result"
    }
   ],
   "source": [
    "df.groupby(\"day\")[[\"total_bill\", \"tip\"]].mean()\n",
    "# ogni riga è una combinazione daytime\n",
    "# aggregare significa cambiare il punto di vista dell'osservazione"
   ]
  },
  {
   "cell_type": "code",
   "execution_count": 21,
   "id": "6abe51a7",
   "metadata": {
    "scrolled": true
   },
   "outputs": [
    {
     "data": {
      "text/html": [
       "<div>\n",
       "<style scoped>\n",
       "    .dataframe tbody tr th:only-of-type {\n",
       "        vertical-align: middle;\n",
       "    }\n",
       "\n",
       "    .dataframe tbody tr th {\n",
       "        vertical-align: top;\n",
       "    }\n",
       "\n",
       "    .dataframe thead th {\n",
       "        text-align: right;\n",
       "    }\n",
       "</style>\n",
       "<table border=\"1\" class=\"dataframe\">\n",
       "  <thead>\n",
       "    <tr style=\"text-align: right;\">\n",
       "      <th></th>\n",
       "      <th>count</th>\n",
       "      <th>mean</th>\n",
       "      <th>std</th>\n",
       "      <th>min</th>\n",
       "      <th>25%</th>\n",
       "      <th>50%</th>\n",
       "      <th>75%</th>\n",
       "      <th>max</th>\n",
       "    </tr>\n",
       "    <tr>\n",
       "      <th>time</th>\n",
       "      <th></th>\n",
       "      <th></th>\n",
       "      <th></th>\n",
       "      <th></th>\n",
       "      <th></th>\n",
       "      <th></th>\n",
       "      <th></th>\n",
       "      <th></th>\n",
       "    </tr>\n",
       "  </thead>\n",
       "  <tbody>\n",
       "    <tr>\n",
       "      <th>Dinner</th>\n",
       "      <td>176.0</td>\n",
       "      <td>20.797159</td>\n",
       "      <td>9.142029</td>\n",
       "      <td>3.07</td>\n",
       "      <td>14.4375</td>\n",
       "      <td>18.390</td>\n",
       "      <td>25.2825</td>\n",
       "      <td>50.81</td>\n",
       "    </tr>\n",
       "    <tr>\n",
       "      <th>Lunch</th>\n",
       "      <td>68.0</td>\n",
       "      <td>17.168676</td>\n",
       "      <td>7.713882</td>\n",
       "      <td>7.51</td>\n",
       "      <td>12.2350</td>\n",
       "      <td>15.965</td>\n",
       "      <td>19.5325</td>\n",
       "      <td>43.11</td>\n",
       "    </tr>\n",
       "  </tbody>\n",
       "</table>\n",
       "</div>"
      ],
      "text/plain": [
       "        count       mean       std   min      25%     50%      75%    max\n",
       "time                                                                     \n",
       "Dinner  176.0  20.797159  9.142029  3.07  14.4375  18.390  25.2825  50.81\n",
       "Lunch    68.0  17.168676  7.713882  7.51  12.2350  15.965  19.5325  43.11"
      ]
     },
     "execution_count": 21,
     "metadata": {},
     "output_type": "execute_result"
    }
   ],
   "source": [
    "# .describe È anche una funzione aggregata\n",
    "df.groupby(\"time\").total_bill.describe()"
   ]
  },
  {
   "cell_type": "markdown",
   "id": "70fe05b0",
   "metadata": {},
   "source": [
    "# Cos'è il metodo di aggregazione?\n",
    "Dopo aver raggruppato i dati, è possibile applicare funzioni \"aggressive\" (ovvero funzioni di aggregazione) per sintetizzare le informazioni in ogni gruppo. Esempi comuni:\n",
    "* `.sum()`\tsomma dei valori\n",
    "* `.mean()`\tmedia dei valori\n",
    "* `.count()`\tnumero di elementi\n",
    "* `.max()`\tvalore massimo\n",
    "* `.min()`\tvalore minimo\n",
    "* `.agg()`\taggregazioni multiple"
   ]
  },
  {
   "cell_type": "code",
   "execution_count": 22,
   "id": "be267816",
   "metadata": {},
   "outputs": [
    {
     "data": {
      "text/html": [
       "<div>\n",
       "<style scoped>\n",
       "    .dataframe tbody tr th:only-of-type {\n",
       "        vertical-align: middle;\n",
       "    }\n",
       "\n",
       "    .dataframe tbody tr th {\n",
       "        vertical-align: top;\n",
       "    }\n",
       "\n",
       "    .dataframe thead th {\n",
       "        text-align: right;\n",
       "    }\n",
       "</style>\n",
       "<table border=\"1\" class=\"dataframe\">\n",
       "  <thead>\n",
       "    <tr style=\"text-align: right;\">\n",
       "      <th></th>\n",
       "      <th>mean</th>\n",
       "      <th>std</th>\n",
       "    </tr>\n",
       "    <tr>\n",
       "      <th>day</th>\n",
       "      <th></th>\n",
       "      <th></th>\n",
       "    </tr>\n",
       "  </thead>\n",
       "  <tbody>\n",
       "    <tr>\n",
       "      <th>Fri</th>\n",
       "      <td>17.151579</td>\n",
       "      <td>8.302660</td>\n",
       "    </tr>\n",
       "    <tr>\n",
       "      <th>Sat</th>\n",
       "      <td>20.441379</td>\n",
       "      <td>9.480419</td>\n",
       "    </tr>\n",
       "    <tr>\n",
       "      <th>Sun</th>\n",
       "      <td>21.410000</td>\n",
       "      <td>8.832122</td>\n",
       "    </tr>\n",
       "    <tr>\n",
       "      <th>Thur</th>\n",
       "      <td>17.682742</td>\n",
       "      <td>7.886170</td>\n",
       "    </tr>\n",
       "  </tbody>\n",
       "</table>\n",
       "</div>"
      ],
      "text/plain": [
       "           mean       std\n",
       "day                      \n",
       "Fri   17.151579  8.302660\n",
       "Sat   20.441379  9.480419\n",
       "Sun   21.410000  8.832122\n",
       "Thur  17.682742  7.886170"
      ]
     },
     "execution_count": 22,
     "metadata": {},
     "output_type": "execute_result"
    }
   ],
   "source": [
    "# Utilizzando il metodo .agg per specificare più\n",
    "df.groupby(\"day\").total_bill.agg([\"mean\", \"std\"])"
   ]
  },
  {
   "cell_type": "code",
   "execution_count": 23,
   "id": "a012cf17",
   "metadata": {},
   "outputs": [
    {
     "data": {
      "text/html": [
       "<div>\n",
       "<style scoped>\n",
       "    .dataframe tbody tr th:only-of-type {\n",
       "        vertical-align: middle;\n",
       "    }\n",
       "\n",
       "    .dataframe tbody tr th {\n",
       "        vertical-align: top;\n",
       "    }\n",
       "\n",
       "    .dataframe thead tr th {\n",
       "        text-align: left;\n",
       "    }\n",
       "\n",
       "    .dataframe thead tr:last-of-type th {\n",
       "        text-align: right;\n",
       "    }\n",
       "</style>\n",
       "<table border=\"1\" class=\"dataframe\">\n",
       "  <thead>\n",
       "    <tr>\n",
       "      <th></th>\n",
       "      <th colspan=\"2\" halign=\"left\">total_bill</th>\n",
       "      <th colspan=\"2\" halign=\"left\">tip</th>\n",
       "    </tr>\n",
       "    <tr>\n",
       "      <th></th>\n",
       "      <th>mean</th>\n",
       "      <th>std</th>\n",
       "      <th>mean</th>\n",
       "      <th>std</th>\n",
       "    </tr>\n",
       "    <tr>\n",
       "      <th>day</th>\n",
       "      <th></th>\n",
       "      <th></th>\n",
       "      <th></th>\n",
       "      <th></th>\n",
       "    </tr>\n",
       "  </thead>\n",
       "  <tbody>\n",
       "    <tr>\n",
       "      <th>Fri</th>\n",
       "      <td>17.151579</td>\n",
       "      <td>8.302660</td>\n",
       "      <td>2.734737</td>\n",
       "      <td>1.019577</td>\n",
       "    </tr>\n",
       "    <tr>\n",
       "      <th>Sat</th>\n",
       "      <td>20.441379</td>\n",
       "      <td>9.480419</td>\n",
       "      <td>2.993103</td>\n",
       "      <td>1.631014</td>\n",
       "    </tr>\n",
       "    <tr>\n",
       "      <th>Sun</th>\n",
       "      <td>21.410000</td>\n",
       "      <td>8.832122</td>\n",
       "      <td>3.255132</td>\n",
       "      <td>1.234880</td>\n",
       "    </tr>\n",
       "    <tr>\n",
       "      <th>Thur</th>\n",
       "      <td>17.682742</td>\n",
       "      <td>7.886170</td>\n",
       "      <td>2.771452</td>\n",
       "      <td>1.240223</td>\n",
       "    </tr>\n",
       "  </tbody>\n",
       "</table>\n",
       "</div>"
      ],
      "text/plain": [
       "     total_bill                 tip          \n",
       "           mean       std      mean       std\n",
       "day                                          \n",
       "Fri   17.151579  8.302660  2.734737  1.019577\n",
       "Sat   20.441379  9.480419  2.993103  1.631014\n",
       "Sun   21.410000  8.832122  3.255132  1.234880\n",
       "Thur  17.682742  7.886170  2.771452  1.240223"
      ]
     },
     "execution_count": 23,
     "metadata": {},
     "output_type": "execute_result"
    }
   ],
   "source": [
    "# Utilizzando il metodo .agg per specificare più\n",
    "# Possiamo chiamare .agg anche su più colonne numeriche\n",
    "df.groupby(\"day\")[[\"total_bill\", \"tip\"]].agg([\"mean\", \"std\"])"
   ]
  },
  {
   "cell_type": "code",
   "execution_count": 24,
   "id": "cbad6218",
   "metadata": {},
   "outputs": [
    {
     "data": {
      "text/html": [
       "<div>\n",
       "<style scoped>\n",
       "    .dataframe tbody tr th:only-of-type {\n",
       "        vertical-align: middle;\n",
       "    }\n",
       "\n",
       "    .dataframe tbody tr th {\n",
       "        vertical-align: top;\n",
       "    }\n",
       "\n",
       "    .dataframe thead th {\n",
       "        text-align: right;\n",
       "    }\n",
       "</style>\n",
       "<table border=\"1\" class=\"dataframe\">\n",
       "  <thead>\n",
       "    <tr style=\"text-align: right;\">\n",
       "      <th></th>\n",
       "      <th>day</th>\n",
       "      <th>Fri</th>\n",
       "      <th>Sat</th>\n",
       "      <th>Sun</th>\n",
       "      <th>Thur</th>\n",
       "    </tr>\n",
       "  </thead>\n",
       "  <tbody>\n",
       "    <tr>\n",
       "      <th rowspan=\"2\" valign=\"top\">total_bill</th>\n",
       "      <th>mean</th>\n",
       "      <td>17.151579</td>\n",
       "      <td>20.441379</td>\n",
       "      <td>21.410000</td>\n",
       "      <td>17.682742</td>\n",
       "    </tr>\n",
       "    <tr>\n",
       "      <th>std</th>\n",
       "      <td>8.302660</td>\n",
       "      <td>9.480419</td>\n",
       "      <td>8.832122</td>\n",
       "      <td>7.886170</td>\n",
       "    </tr>\n",
       "    <tr>\n",
       "      <th rowspan=\"2\" valign=\"top\">tip</th>\n",
       "      <th>mean</th>\n",
       "      <td>2.734737</td>\n",
       "      <td>2.993103</td>\n",
       "      <td>3.255132</td>\n",
       "      <td>2.771452</td>\n",
       "    </tr>\n",
       "    <tr>\n",
       "      <th>std</th>\n",
       "      <td>1.019577</td>\n",
       "      <td>1.631014</td>\n",
       "      <td>1.234880</td>\n",
       "      <td>1.240223</td>\n",
       "    </tr>\n",
       "  </tbody>\n",
       "</table>\n",
       "</div>"
      ],
      "text/plain": [
       "day                    Fri        Sat        Sun       Thur\n",
       "total_bill mean  17.151579  20.441379  21.410000  17.682742\n",
       "           std    8.302660   9.480419   8.832122   7.886170\n",
       "tip        mean   2.734737   2.993103   3.255132   2.771452\n",
       "           std    1.019577   1.631014   1.234880   1.240223"
      ]
     },
     "execution_count": 24,
     "metadata": {},
     "output_type": "execute_result"
    }
   ],
   "source": [
    "# Poiché l'output è un dataframe, possiamo trasporlo, se così facendo rende più facile la lettura\n",
    "df.groupby(\"day\")[[\"total_bill\", \"tip\"]].agg([\"mean\", \"std\"]).T"
   ]
  },
  {
   "cell_type": "markdown",
   "id": "c30af954",
   "metadata": {},
   "source": [
    "## Le forme di .groupby\n",
    "\n",
    "| esempi specifici    |  forma generale   |\n",
    "| ---- | ---- |\n",
    "|`df.groupby(\"day\").mean()` | `df.groupby(\"categorical_column\").aggregate_function()`     |\n",
    "| `df.groupby(\"day\").total_bill.mean()`     | `df.groupby(\"categorical_column\").numeric_column.aggregate_function()`     |\n",
    "| `df.groupby(\"day\")[\"tip\"].median()`     | `df.groupby(\"categoryA\")[\"numeric_columnA\"].aggregate_function()`     |\n",
    "| `df.groupby(\"day\")[[\"total_bill\", \"tip\"]].min()`     | `df.groupby(\"categoryA\")[[\"numeric_columnA\", \"numeric_columnB\"]].aggregate_function()`     |\n",
    "| `df.groupby([\"day\", \"time\"]).mean()`     | `df.groupby([\"categoryA\", \"categoryB\").aggregate_function()` |\n",
    "| `df.groupby(\"day\").agg([\"min\", \"median\", \"max\"])`    | `df.groupby(\"category\").agg([\"min\", \"median\", \"max\"])`     |\n",
    "| `df.groupby(\"day\")[[\"total_bill\", \"tip\"]].agg([\"min\", \"median\", \"max\"])`    | `df.groupby(\"category\")[[\"numericA\", \"numericB\"]].agg([\"min\", \"median\", \"max\"])`     |"
   ]
  },
  {
   "cell_type": "markdown",
   "id": "04776f1f",
   "metadata": {},
   "source": [
    "# Esercitazione: Analisi camion con groupby()"
   ]
  },
  {
   "cell_type": "code",
   "execution_count": 7,
   "id": "71b86fd0",
   "metadata": {},
   "outputs": [],
   "source": [
    "import pandas as pd\n",
    "\n",
    "df = pd.DataFrame([\n",
    "    {\"modello\": \"Iveco Daily\", \"categoria\": \"medio\", \"anno\": 2022, \"noleggio\": 100},\n",
    "    {\"modello\": \"Mercedes Actros\", \"categoria\": \"pesante\", \"anno\": 2021, \"noleggio\": 230},\n",
    "    {\"modello\": \"Fiat Ducato\", \"categoria\": \"leggero\", \"anno\": 2022, \"noleggio\": 80},\n",
    "    {\"modello\": \"Tesla Semi\", \"categoria\": \"pesante\", \"anno\": 2023, \"noleggio\": 210},\n",
    "    {\"modello\": \"Ford Transit\", \"categoria\": \"medio\", \"anno\": 2021, \"noleggio\": 90},\n",
    "    {\"modello\": \"Renault Master\", \"categoria\": \"leggero\", \"anno\": 2023, \"noleggio\": 95}\n",
    "])"
   ]
  },
  {
   "cell_type": "markdown",
   "id": "103c7718",
   "metadata": {},
   "source": [
    "1. Calcola il noleggio medio per categoria\n",
    "2. Calcola il noleggio massimo per ogni anno\n",
    "3. Conta quanti camion ci sono per categoria\n",
    "4. Calcola media e massimo del noleggio per categoria (con .agg())\n",
    "5. Raggruppa per anno e categoria, somma il noleggio"
   ]
  },
  {
   "cell_type": "code",
   "execution_count": 8,
   "id": "12b1c435",
   "metadata": {},
   "outputs": [
    {
     "data": {
      "text/plain": [
       "categoria\n",
       "leggero     87.5\n",
       "medio       95.0\n",
       "pesante    220.0\n",
       "Name: noleggio, dtype: float64"
      ]
     },
     "execution_count": 8,
     "metadata": {},
     "output_type": "execute_result"
    }
   ],
   "source": [
    "df.groupby(\"categoria\")[\"noleggio\"].mean()"
   ]
  },
  {
   "cell_type": "code",
   "execution_count": 9,
   "id": "699e6b59",
   "metadata": {},
   "outputs": [
    {
     "data": {
      "text/plain": [
       "anno\n",
       "2021    230\n",
       "2022    100\n",
       "2023    210\n",
       "Name: noleggio, dtype: int64"
      ]
     },
     "execution_count": 9,
     "metadata": {},
     "output_type": "execute_result"
    }
   ],
   "source": [
    "df.groupby(\"anno\")[\"noleggio\"].max()"
   ]
  },
  {
   "cell_type": "code",
   "execution_count": 10,
   "id": "0bf0e77b",
   "metadata": {},
   "outputs": [
    {
     "data": {
      "text/plain": [
       "categoria\n",
       "leggero    2\n",
       "medio      2\n",
       "pesante    2\n",
       "Name: modello, dtype: int64"
      ]
     },
     "execution_count": 10,
     "metadata": {},
     "output_type": "execute_result"
    }
   ],
   "source": [
    "df.groupby(\"categoria\")[\"modello\"].count()"
   ]
  },
  {
   "cell_type": "code",
   "execution_count": 11,
   "id": "b1f0f9af",
   "metadata": {},
   "outputs": [
    {
     "data": {
      "text/html": [
       "<div>\n",
       "<style scoped>\n",
       "    .dataframe tbody tr th:only-of-type {\n",
       "        vertical-align: middle;\n",
       "    }\n",
       "\n",
       "    .dataframe tbody tr th {\n",
       "        vertical-align: top;\n",
       "    }\n",
       "\n",
       "    .dataframe thead th {\n",
       "        text-align: right;\n",
       "    }\n",
       "</style>\n",
       "<table border=\"1\" class=\"dataframe\">\n",
       "  <thead>\n",
       "    <tr style=\"text-align: right;\">\n",
       "      <th></th>\n",
       "      <th>mean</th>\n",
       "      <th>max</th>\n",
       "    </tr>\n",
       "    <tr>\n",
       "      <th>categoria</th>\n",
       "      <th></th>\n",
       "      <th></th>\n",
       "    </tr>\n",
       "  </thead>\n",
       "  <tbody>\n",
       "    <tr>\n",
       "      <th>leggero</th>\n",
       "      <td>87.5</td>\n",
       "      <td>95</td>\n",
       "    </tr>\n",
       "    <tr>\n",
       "      <th>medio</th>\n",
       "      <td>95.0</td>\n",
       "      <td>100</td>\n",
       "    </tr>\n",
       "    <tr>\n",
       "      <th>pesante</th>\n",
       "      <td>220.0</td>\n",
       "      <td>230</td>\n",
       "    </tr>\n",
       "  </tbody>\n",
       "</table>\n",
       "</div>"
      ],
      "text/plain": [
       "            mean  max\n",
       "categoria            \n",
       "leggero     87.5   95\n",
       "medio       95.0  100\n",
       "pesante    220.0  230"
      ]
     },
     "execution_count": 11,
     "metadata": {},
     "output_type": "execute_result"
    }
   ],
   "source": [
    "df.groupby(\"categoria\")[\"noleggio\"].agg([\"mean\", \"max\"])"
   ]
  },
  {
   "cell_type": "code",
   "execution_count": 12,
   "id": "12a8ef8a",
   "metadata": {},
   "outputs": [
    {
     "data": {
      "text/plain": [
       "anno  categoria\n",
       "2021  medio         90\n",
       "      pesante      230\n",
       "2022  leggero       80\n",
       "      medio        100\n",
       "2023  leggero       95\n",
       "      pesante      210\n",
       "Name: noleggio, dtype: int64"
      ]
     },
     "execution_count": 12,
     "metadata": {},
     "output_type": "execute_result"
    }
   ],
   "source": [
    "df.groupby([\"anno\", \"categoria\"])[\"noleggio\"].sum()"
   ]
  },
  {
   "cell_type": "code",
   "execution_count": null,
   "id": "61fb93d9",
   "metadata": {},
   "outputs": [],
   "source": []
  },
  {
   "cell_type": "code",
   "execution_count": null,
   "id": "62c7d1d9",
   "metadata": {},
   "outputs": [],
   "source": []
  },
  {
   "cell_type": "markdown",
   "id": "6ad7996e",
   "metadata": {},
   "source": [
    "## Esercizi\n",
    "\n",
    "- Usa il set di dati \"mpg.csv\" per creare un dataframe chiamato `mpg`\n",
    "\n",
    "- Raggruppa per produttore e ottieni il più alto chilometraggio `hwy` per ogni produttore\n",
    "\n",
    "- Raggruppa per produttore e ottieni il chilometraggio medio `hwy` e `cty`\n",
    "\n",
    "- Raggruppa per numero di cilindri e ottieni la cilindrata media per ogni cilindro\n",
    "\n",
    "- Raggruppa per classe del veicolo, quindi calcola la media e la deviazione standard del chilometraggio `hwy`\n",
    "\n",
    "- Quale classe di veicoli ha la più grande deviazione standard del chilometraggio autostradale?"
   ]
  },
  {
   "cell_type": "code",
   "execution_count": 25,
   "id": "427b9a2d",
   "metadata": {},
   "outputs": [
    {
     "data": {
      "text/html": [
       "<div>\n",
       "<style scoped>\n",
       "    .dataframe tbody tr th:only-of-type {\n",
       "        vertical-align: middle;\n",
       "    }\n",
       "\n",
       "    .dataframe tbody tr th {\n",
       "        vertical-align: top;\n",
       "    }\n",
       "\n",
       "    .dataframe thead th {\n",
       "        text-align: right;\n",
       "    }\n",
       "</style>\n",
       "<table border=\"1\" class=\"dataframe\">\n",
       "  <thead>\n",
       "    <tr style=\"text-align: right;\">\n",
       "      <th></th>\n",
       "      <th>manufacturer</th>\n",
       "      <th>model</th>\n",
       "      <th>displ</th>\n",
       "      <th>year</th>\n",
       "      <th>cyl</th>\n",
       "      <th>trans</th>\n",
       "      <th>drv</th>\n",
       "      <th>cty</th>\n",
       "      <th>hwy</th>\n",
       "      <th>fl</th>\n",
       "      <th>class</th>\n",
       "    </tr>\n",
       "  </thead>\n",
       "  <tbody>\n",
       "    <tr>\n",
       "      <th>0</th>\n",
       "      <td>audi</td>\n",
       "      <td>a4</td>\n",
       "      <td>1.8</td>\n",
       "      <td>1999</td>\n",
       "      <td>4</td>\n",
       "      <td>auto(l5)</td>\n",
       "      <td>f</td>\n",
       "      <td>18</td>\n",
       "      <td>29</td>\n",
       "      <td>p</td>\n",
       "      <td>compact</td>\n",
       "    </tr>\n",
       "    <tr>\n",
       "      <th>1</th>\n",
       "      <td>audi</td>\n",
       "      <td>a4</td>\n",
       "      <td>1.8</td>\n",
       "      <td>1999</td>\n",
       "      <td>4</td>\n",
       "      <td>manual(m5)</td>\n",
       "      <td>f</td>\n",
       "      <td>21</td>\n",
       "      <td>29</td>\n",
       "      <td>p</td>\n",
       "      <td>compact</td>\n",
       "    </tr>\n",
       "    <tr>\n",
       "      <th>2</th>\n",
       "      <td>audi</td>\n",
       "      <td>a4</td>\n",
       "      <td>2.0</td>\n",
       "      <td>2008</td>\n",
       "      <td>4</td>\n",
       "      <td>manual(m6)</td>\n",
       "      <td>f</td>\n",
       "      <td>20</td>\n",
       "      <td>31</td>\n",
       "      <td>p</td>\n",
       "      <td>compact</td>\n",
       "    </tr>\n",
       "    <tr>\n",
       "      <th>3</th>\n",
       "      <td>audi</td>\n",
       "      <td>a4</td>\n",
       "      <td>2.0</td>\n",
       "      <td>2008</td>\n",
       "      <td>4</td>\n",
       "      <td>auto(av)</td>\n",
       "      <td>f</td>\n",
       "      <td>21</td>\n",
       "      <td>30</td>\n",
       "      <td>p</td>\n",
       "      <td>compact</td>\n",
       "    </tr>\n",
       "    <tr>\n",
       "      <th>4</th>\n",
       "      <td>audi</td>\n",
       "      <td>a4</td>\n",
       "      <td>2.8</td>\n",
       "      <td>1999</td>\n",
       "      <td>6</td>\n",
       "      <td>auto(l5)</td>\n",
       "      <td>f</td>\n",
       "      <td>16</td>\n",
       "      <td>26</td>\n",
       "      <td>p</td>\n",
       "      <td>compact</td>\n",
       "    </tr>\n",
       "  </tbody>\n",
       "</table>\n",
       "</div>"
      ],
      "text/plain": [
       "  manufacturer model  displ  year  cyl       trans drv  cty  hwy fl    class\n",
       "0         audi    a4    1.8  1999    4    auto(l5)   f   18   29  p  compact\n",
       "1         audi    a4    1.8  1999    4  manual(m5)   f   21   29  p  compact\n",
       "2         audi    a4    2.0  2008    4  manual(m6)   f   20   31  p  compact\n",
       "3         audi    a4    2.0  2008    4    auto(av)   f   21   30  p  compact\n",
       "4         audi    a4    2.8  1999    6    auto(l5)   f   16   26  p  compact"
      ]
     },
     "execution_count": 25,
     "metadata": {},
     "output_type": "execute_result"
    }
   ],
   "source": [
    "mpg = pd.read_csv(\"https://raw.githubusercontent.com/emilianoyoulysses/corso_python_fondazione_pico/refs/heads/DataFrames-%26-TimeSeries/mpg.csv\")\n",
    "mpg.head()"
   ]
  },
  {
   "cell_type": "code",
   "execution_count": 26,
   "id": "f30cea9a",
   "metadata": {},
   "outputs": [
    {
     "data": {
      "text/plain": [
       "manufacturer\n",
       "audi          31\n",
       "chevrolet     30\n",
       "dodge         24\n",
       "ford          26\n",
       "honda         36\n",
       "hyundai       31\n",
       "jeep          22\n",
       "land rover    18\n",
       "lincoln       18\n",
       "mercury       19\n",
       "nissan        32\n",
       "pontiac       28\n",
       "subaru        27\n",
       "toyota        37\n",
       "volkswagen    44\n",
       "Name: hwy, dtype: int64"
      ]
     },
     "execution_count": 26,
     "metadata": {},
     "output_type": "execute_result"
    }
   ],
   "source": [
    "mpg.groupby(\"manufacturer\").hwy.max()"
   ]
  },
  {
   "cell_type": "code",
   "execution_count": 27,
   "id": "9b4f1116",
   "metadata": {},
   "outputs": [
    {
     "data": {
      "text/html": [
       "<div>\n",
       "<style scoped>\n",
       "    .dataframe tbody tr th:only-of-type {\n",
       "        vertical-align: middle;\n",
       "    }\n",
       "\n",
       "    .dataframe tbody tr th {\n",
       "        vertical-align: top;\n",
       "    }\n",
       "\n",
       "    .dataframe thead th {\n",
       "        text-align: right;\n",
       "    }\n",
       "</style>\n",
       "<table border=\"1\" class=\"dataframe\">\n",
       "  <thead>\n",
       "    <tr style=\"text-align: right;\">\n",
       "      <th></th>\n",
       "      <th>hwy</th>\n",
       "      <th>cty</th>\n",
       "    </tr>\n",
       "    <tr>\n",
       "      <th>manufacturer</th>\n",
       "      <th></th>\n",
       "      <th></th>\n",
       "    </tr>\n",
       "  </thead>\n",
       "  <tbody>\n",
       "    <tr>\n",
       "      <th>audi</th>\n",
       "      <td>26.444444</td>\n",
       "      <td>17.611111</td>\n",
       "    </tr>\n",
       "    <tr>\n",
       "      <th>chevrolet</th>\n",
       "      <td>21.894737</td>\n",
       "      <td>15.000000</td>\n",
       "    </tr>\n",
       "    <tr>\n",
       "      <th>dodge</th>\n",
       "      <td>17.945946</td>\n",
       "      <td>13.135135</td>\n",
       "    </tr>\n",
       "    <tr>\n",
       "      <th>ford</th>\n",
       "      <td>19.360000</td>\n",
       "      <td>14.000000</td>\n",
       "    </tr>\n",
       "    <tr>\n",
       "      <th>honda</th>\n",
       "      <td>32.555556</td>\n",
       "      <td>24.444444</td>\n",
       "    </tr>\n",
       "    <tr>\n",
       "      <th>hyundai</th>\n",
       "      <td>26.857143</td>\n",
       "      <td>18.642857</td>\n",
       "    </tr>\n",
       "    <tr>\n",
       "      <th>jeep</th>\n",
       "      <td>17.625000</td>\n",
       "      <td>13.500000</td>\n",
       "    </tr>\n",
       "    <tr>\n",
       "      <th>land rover</th>\n",
       "      <td>16.500000</td>\n",
       "      <td>11.500000</td>\n",
       "    </tr>\n",
       "    <tr>\n",
       "      <th>lincoln</th>\n",
       "      <td>17.000000</td>\n",
       "      <td>11.333333</td>\n",
       "    </tr>\n",
       "    <tr>\n",
       "      <th>mercury</th>\n",
       "      <td>18.000000</td>\n",
       "      <td>13.250000</td>\n",
       "    </tr>\n",
       "    <tr>\n",
       "      <th>nissan</th>\n",
       "      <td>24.615385</td>\n",
       "      <td>18.076923</td>\n",
       "    </tr>\n",
       "    <tr>\n",
       "      <th>pontiac</th>\n",
       "      <td>26.400000</td>\n",
       "      <td>17.000000</td>\n",
       "    </tr>\n",
       "    <tr>\n",
       "      <th>subaru</th>\n",
       "      <td>25.571429</td>\n",
       "      <td>19.285714</td>\n",
       "    </tr>\n",
       "    <tr>\n",
       "      <th>toyota</th>\n",
       "      <td>24.911765</td>\n",
       "      <td>18.529412</td>\n",
       "    </tr>\n",
       "    <tr>\n",
       "      <th>volkswagen</th>\n",
       "      <td>29.222222</td>\n",
       "      <td>20.925926</td>\n",
       "    </tr>\n",
       "  </tbody>\n",
       "</table>\n",
       "</div>"
      ],
      "text/plain": [
       "                    hwy        cty\n",
       "manufacturer                      \n",
       "audi          26.444444  17.611111\n",
       "chevrolet     21.894737  15.000000\n",
       "dodge         17.945946  13.135135\n",
       "ford          19.360000  14.000000\n",
       "honda         32.555556  24.444444\n",
       "hyundai       26.857143  18.642857\n",
       "jeep          17.625000  13.500000\n",
       "land rover    16.500000  11.500000\n",
       "lincoln       17.000000  11.333333\n",
       "mercury       18.000000  13.250000\n",
       "nissan        24.615385  18.076923\n",
       "pontiac       26.400000  17.000000\n",
       "subaru        25.571429  19.285714\n",
       "toyota        24.911765  18.529412\n",
       "volkswagen    29.222222  20.925926"
      ]
     },
     "execution_count": 27,
     "metadata": {},
     "output_type": "execute_result"
    }
   ],
   "source": [
    "mpg.groupby(\"manufacturer\")[[\"hwy\", \"cty\"]].mean()"
   ]
  },
  {
   "cell_type": "code",
   "execution_count": 28,
   "id": "2471acf7",
   "metadata": {},
   "outputs": [
    {
     "data": {
      "text/plain": [
       "cyl\n",
       "4    2.145679\n",
       "5    2.500000\n",
       "6    3.408861\n",
       "8    5.132857\n",
       "Name: displ, dtype: float64"
      ]
     },
     "execution_count": 28,
     "metadata": {},
     "output_type": "execute_result"
    }
   ],
   "source": [
    "mpg.groupby(\"cyl\").displ.mean()"
   ]
  },
  {
   "cell_type": "code",
   "execution_count": 29,
   "id": "6719ea81",
   "metadata": {},
   "outputs": [
    {
     "data": {
      "text/html": [
       "<div>\n",
       "<style scoped>\n",
       "    .dataframe tbody tr th:only-of-type {\n",
       "        vertical-align: middle;\n",
       "    }\n",
       "\n",
       "    .dataframe tbody tr th {\n",
       "        vertical-align: top;\n",
       "    }\n",
       "\n",
       "    .dataframe thead th {\n",
       "        text-align: right;\n",
       "    }\n",
       "</style>\n",
       "<table border=\"1\" class=\"dataframe\">\n",
       "  <thead>\n",
       "    <tr style=\"text-align: right;\">\n",
       "      <th></th>\n",
       "      <th>mean</th>\n",
       "      <th>std</th>\n",
       "    </tr>\n",
       "    <tr>\n",
       "      <th>class</th>\n",
       "      <th></th>\n",
       "      <th></th>\n",
       "    </tr>\n",
       "  </thead>\n",
       "  <tbody>\n",
       "    <tr>\n",
       "      <th>2seater</th>\n",
       "      <td>24.800000</td>\n",
       "      <td>1.303840</td>\n",
       "    </tr>\n",
       "    <tr>\n",
       "      <th>compact</th>\n",
       "      <td>28.297872</td>\n",
       "      <td>3.781620</td>\n",
       "    </tr>\n",
       "    <tr>\n",
       "      <th>midsize</th>\n",
       "      <td>27.292683</td>\n",
       "      <td>2.135930</td>\n",
       "    </tr>\n",
       "    <tr>\n",
       "      <th>minivan</th>\n",
       "      <td>22.363636</td>\n",
       "      <td>2.062655</td>\n",
       "    </tr>\n",
       "    <tr>\n",
       "      <th>pickup</th>\n",
       "      <td>16.878788</td>\n",
       "      <td>2.274280</td>\n",
       "    </tr>\n",
       "    <tr>\n",
       "      <th>subcompact</th>\n",
       "      <td>28.142857</td>\n",
       "      <td>5.375012</td>\n",
       "    </tr>\n",
       "    <tr>\n",
       "      <th>suv</th>\n",
       "      <td>18.129032</td>\n",
       "      <td>2.977973</td>\n",
       "    </tr>\n",
       "  </tbody>\n",
       "</table>\n",
       "</div>"
      ],
      "text/plain": [
       "                 mean       std\n",
       "class                          \n",
       "2seater     24.800000  1.303840\n",
       "compact     28.297872  3.781620\n",
       "midsize     27.292683  2.135930\n",
       "minivan     22.363636  2.062655\n",
       "pickup      16.878788  2.274280\n",
       "subcompact  28.142857  5.375012\n",
       "suv         18.129032  2.977973"
      ]
     },
     "execution_count": 29,
     "metadata": {},
     "output_type": "execute_result"
    }
   ],
   "source": [
    "mpg.groupby(\"class\").hwy.agg([\"mean\", \"std\"])"
   ]
  },
  {
   "cell_type": "code",
   "execution_count": 30,
   "id": "8340c6e5",
   "metadata": {},
   "outputs": [
    {
     "data": {
      "text/html": [
       "<div>\n",
       "<style scoped>\n",
       "    .dataframe tbody tr th:only-of-type {\n",
       "        vertical-align: middle;\n",
       "    }\n",
       "\n",
       "    .dataframe tbody tr th {\n",
       "        vertical-align: top;\n",
       "    }\n",
       "\n",
       "    .dataframe thead th {\n",
       "        text-align: right;\n",
       "    }\n",
       "</style>\n",
       "<table border=\"1\" class=\"dataframe\">\n",
       "  <thead>\n",
       "    <tr style=\"text-align: right;\">\n",
       "      <th></th>\n",
       "      <th>mean</th>\n",
       "      <th>std</th>\n",
       "    </tr>\n",
       "    <tr>\n",
       "      <th>class</th>\n",
       "      <th></th>\n",
       "      <th></th>\n",
       "    </tr>\n",
       "  </thead>\n",
       "  <tbody>\n",
       "    <tr>\n",
       "      <th>subcompact</th>\n",
       "      <td>28.142857</td>\n",
       "      <td>5.375012</td>\n",
       "    </tr>\n",
       "    <tr>\n",
       "      <th>compact</th>\n",
       "      <td>28.297872</td>\n",
       "      <td>3.781620</td>\n",
       "    </tr>\n",
       "    <tr>\n",
       "      <th>suv</th>\n",
       "      <td>18.129032</td>\n",
       "      <td>2.977973</td>\n",
       "    </tr>\n",
       "    <tr>\n",
       "      <th>pickup</th>\n",
       "      <td>16.878788</td>\n",
       "      <td>2.274280</td>\n",
       "    </tr>\n",
       "    <tr>\n",
       "      <th>midsize</th>\n",
       "      <td>27.292683</td>\n",
       "      <td>2.135930</td>\n",
       "    </tr>\n",
       "    <tr>\n",
       "      <th>minivan</th>\n",
       "      <td>22.363636</td>\n",
       "      <td>2.062655</td>\n",
       "    </tr>\n",
       "    <tr>\n",
       "      <th>2seater</th>\n",
       "      <td>24.800000</td>\n",
       "      <td>1.303840</td>\n",
       "    </tr>\n",
       "  </tbody>\n",
       "</table>\n",
       "</div>"
      ],
      "text/plain": [
       "                 mean       std\n",
       "class                          \n",
       "subcompact  28.142857  5.375012\n",
       "compact     28.297872  3.781620\n",
       "suv         18.129032  2.977973\n",
       "pickup      16.878788  2.274280\n",
       "midsize     27.292683  2.135930\n",
       "minivan     22.363636  2.062655\n",
       "2seater     24.800000  1.303840"
      ]
     },
     "execution_count": 30,
     "metadata": {},
     "output_type": "execute_result"
    }
   ],
   "source": [
    "mpg.groupby(\"class\").hwy.agg([\"mean\", \"std\"]).sort_values(by=\"std\", ascending=False)"
   ]
  },
  {
   "cell_type": "code",
   "execution_count": null,
   "id": "3d20354a",
   "metadata": {},
   "outputs": [],
   "source": []
  },
  {
   "cell_type": "code",
   "execution_count": null,
   "id": "37158796",
   "metadata": {},
   "outputs": [],
   "source": []
  }
 ],
 "metadata": {
  "kernelspec": {
   "display_name": "Python 3 (ipykernel)",
   "language": "python",
   "name": "python3"
  },
  "language_info": {
   "codemirror_mode": {
    "name": "ipython",
    "version": 3
   },
   "file_extension": ".py",
   "mimetype": "text/x-python",
   "name": "python",
   "nbconvert_exporter": "python",
   "pygments_lexer": "ipython3",
   "version": "3.9.7"
  }
 },
 "nbformat": 4,
 "nbformat_minor": 5
}
