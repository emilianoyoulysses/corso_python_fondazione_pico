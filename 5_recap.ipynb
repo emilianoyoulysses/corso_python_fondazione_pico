{
 "cells": [
  {
   "cell_type": "markdown",
   "id": "e7714887",
   "metadata": {},
   "source": [
    "### Cos'è una funzione\n",
    "\n",
    "E' una parte di codice già scritta che esegue un'operazione.\n",
    "\n",
    "1. Una funzione è una istruzione.\n",
    "1. Ogni istruzione deve terminare con un accapo o con un carattere di punto e virgola. \n",
    "1. Occorre fare attenzione tra Maiuscole e Minuscole perchè Python fa distinzione, Print o PRINT non fanno riferimento a print."
   ]
  },
  {
   "cell_type": "code",
   "execution_count": 1,
   "id": "451adb90",
   "metadata": {},
   "outputs": [
    {
     "name": "stdout",
     "output_type": "stream",
     "text": [
      "Buon giorno ai colleghi ed alle colleghe di del primo corso python\n"
     ]
    }
   ],
   "source": [
    "print('Buon giorno ai colleghi ed alle colleghe di del primo corso python')"
   ]
  },
  {
   "cell_type": "markdown",
   "id": "bda015ca",
   "metadata": {},
   "source": [
    "In particolare la funzione print restitutisce in output testi, variabili ed espressioni. "
   ]
  },
  {
   "cell_type": "markdown",
   "id": "1452698f",
   "metadata": {},
   "source": [
    "### Chiamare una funzione\n",
    "\n",
    "Quando richiediamo l'esecuzione di una funzione. In questo caso la funzione print seguita da due parentesi (), al cui interno si trova l'argomento e che sono i dati che verranno visualizzati."
   ]
  },
  {
   "cell_type": "code",
   "execution_count": 2,
   "id": "9eb8e3c8",
   "metadata": {
    "scrolled": true
   },
   "outputs": [
    {
     "name": "stdout",
     "output_type": "stream",
     "text": [
      "Buon giorno alle colleghe di Innovacoop\n"
     ]
    }
   ],
   "source": [
    "print('Buon giorno alle colleghe di Innovacoop')"
   ]
  },
  {
   "cell_type": "code",
   "execution_count": 3,
   "id": "02808709",
   "metadata": {},
   "outputs": [
    {
     "data": {
      "text/plain": [
       "<function print>"
      ]
     },
     "execution_count": 3,
     "metadata": {},
     "output_type": "execute_result"
    }
   ],
   "source": [
    "print"
   ]
  },
  {
   "cell_type": "code",
   "execution_count": 4,
   "id": "fabf71f0",
   "metadata": {},
   "outputs": [
    {
     "name": "stdout",
     "output_type": "stream",
     "text": [
      "le stringhe hanno sempre bisogno di apici\n"
     ]
    }
   ],
   "source": [
    "print('le stringhe hanno sempre bisogno di apici')"
   ]
  },
  {
   "cell_type": "markdown",
   "id": "0f324ce9",
   "metadata": {},
   "source": [
    "### Ordine di esecuzione\n",
    "\n",
    "Occorre sempre ricordarsi che le istruzioni di programma sono sempre eseguite nell'ordine in cui sono scritte.\n",
    "\n",
    "All'inizio del programma non si possono lasciare caratteri spazio ad inizio riga."
   ]
  },
  {
   "cell_type": "code",
   "execution_count": null,
   "id": "4416957f",
   "metadata": {},
   "outputs": [],
   "source": []
  },
  {
   "cell_type": "code",
   "execution_count": 5,
   "id": "674e51e8",
   "metadata": {},
   "outputs": [
    {
     "name": "stdout",
     "output_type": "stream",
     "text": [
      "Buon giorno ai colleghi di cooperatori\n",
      "Mi chiamo Emiliano Citarella e mi occupo di dati, python e machine learning\n",
      "i dati sono informazioni e le informazioni rappresentano la realtà\n"
     ]
    }
   ],
   "source": [
    "print('Buon giorno ai colleghi di cooperatori')\n",
    "print('Mi chiamo Emiliano Citarella e mi occupo di dati, python e machine learning')\n",
    "print('i dati sono informazioni e le informazioni rappresentano la realtà')"
   ]
  },
  {
   "cell_type": "markdown",
   "id": "33473f8a",
   "metadata": {},
   "source": [
    "### Tipologie di dati\n",
    "\n",
    "I programmo lavorano sempre con dati di qualche tipo. Il programma precedente è costituito da una sequenza di caratteri che chiamiamo\n",
    "\n",
    "> ### stringa - letterale stringa\n",
    "\n",
    "I letterali stringa devono sempre essere racchiusi tra virgolette ('), (\"), (''').\n",
    "\n",
    "I commenti sono note che possiamo inserire dove preferiamo all'interno di un programma per spiegare le funzioni del programma. I commenti iniziano con #, in questo modo l'interprete Python ignora tutto ciò che segue quel carattere fino al termine della riga."
   ]
  },
  {
   "cell_type": "code",
   "execution_count": 6,
   "id": "412503e9",
   "metadata": {},
   "outputs": [
    {
     "name": "stdout",
     "output_type": "stream",
     "text": [
      "Questa mattina sto descrivendo l'argomento di una funzione\n"
     ]
    }
   ],
   "source": [
    "print(\"Questa mattina sto descrivendo l'argomento di una funzione\")"
   ]
  },
  {
   "cell_type": "markdown",
   "id": "ec6639fa",
   "metadata": {},
   "source": [
    "### Esercizio, scrivete una funzione print con una letterale stringa come argomento con:\n",
    "1. il vostro nome\n",
    "1. l'obiettivo che vi prefiggete seguendo questo corso"
   ]
  },
  {
   "cell_type": "code",
   "execution_count": 7,
   "id": "4b66fde9",
   "metadata": {},
   "outputs": [
    {
     "data": {
      "text/plain": [
       "'4444'"
      ]
     },
     "execution_count": 7,
     "metadata": {},
     "output_type": "execute_result"
    }
   ],
   "source": [
    "'44' + '44'"
   ]
  },
  {
   "cell_type": "code",
   "execution_count": 8,
   "id": "69d65c4d",
   "metadata": {},
   "outputs": [
    {
     "data": {
      "text/plain": [
       "88"
      ]
     },
     "execution_count": 8,
     "metadata": {},
     "output_type": "execute_result"
    }
   ],
   "source": [
    "44 + 44"
   ]
  },
  {
   "cell_type": "code",
   "execution_count": 9,
   "id": "638c5d60",
   "metadata": {},
   "outputs": [
    {
     "name": "stdout",
     "output_type": "stream",
     "text": [
      "♥️\n"
     ]
    }
   ],
   "source": [
    "print('♥️')"
   ]
  },
  {
   "cell_type": "markdown",
   "id": "6a62dcd4",
   "metadata": {},
   "source": [
    "### Cos'è una variabile\n",
    "\n",
    "I programmi memorizzano i dati nella memoria del computer ed eseguono operazioni su di essi. \n",
    "> Per accedere ai dati presenti in memoria ed utilizzarli, i programmi utilizzano le variabili.\n",
    "\n",
    "Una variabile è un nome che rappresenta un valore nella memoria del computer. \n",
    "\n",
    "\n",
    "Potremmo anche dire - semplificando - che una variabile è un oggetto con associato un tipo ed identificato da un nome. \n",
    "\n",
    "1. Quando una variabile rappresenta un valore nelle memoria di un computer, si dice che quella variabile referenzia il valore, ovvero fa riferimento a quel valore. \n",
    "1. I nomi delle variabili sono etichette che si riferiscono ad un oggetto. \n",
    "1. Quando assegno un valore ad una variabile, questa referenzia il valore fino a che non le si assegna un valore diverso. \n",
    "1. Utilizzo un'istruzione di assegnazione per creare una variabile e fare in modo che si riferisca ad un valore.\n",
    "1. Il segno = prende il nome di operatore di assegnazione. \n",
    "1. Non è possibile utilizzare come nomi di variabili una delle parole chiave di Python.\n",
    "1. Il nome di una variabile non può contenere spazi.\n",
    "1. Il primo carattere deve essere una lettera da a a z, da A a Z o un trattino di sottolineatura _\n",
    "1. Dopo il primo carattere è possibile utilizzre una lettera da a a z, da A a Z, le cifre da 0 a 9, i trattini di sottolineatura _. \n",
    "1. Viene fatta distinzione traa le lettera minuscole e MAIUSCOLE.\n",
    "1. E' consigliabile utilizzare nomi di variabili che esplichino la funzione della variabile stessa. \n",
    "1. E' consigliabile utilizzare la convenzione camelCase ad es. cplTemperature\n",
    "\n"
   ]
  },
  {
   "cell_type": "markdown",
   "id": "2d206864",
   "metadata": {},
   "source": [
    "# Non è più una riga di codice\n",
    "\n",
    "+ prima giornata in cpl\n",
    "+ sono soddisfatto\n"
   ]
  },
  {
   "cell_type": "code",
   "execution_count": 10,
   "id": "18af1374",
   "metadata": {},
   "outputs": [],
   "source": [
    "anni_cpl_concordia = 120\n",
    "# la variabile crea l'oggetto 120 che è di tipo numerico\n",
    "# l'operatore di assegnamento fa in modo che il nome anni_cpl_concordia si riferisca a quell'oggetto\n",
    "\n",
    "chi_siamo_cpl_concordia = 'ed è una cooperativa di Produzione e Lavoro.'"
   ]
  },
  {
   "cell_type": "code",
   "execution_count": 11,
   "id": "54582aa1",
   "metadata": {},
   "outputs": [
    {
     "name": "stdout",
     "output_type": "stream",
     "text": [
      "Cpl Concordia ha compiuto 120 ed è una cooperativa di Produzione e Lavoro.\n"
     ]
    }
   ],
   "source": [
    "print('Cpl Concordia ha compiuto', anni_cpl_concordia, chi_siamo_cpl_concordia )\n",
    "\n",
    "#in questa funzione ho inserito tre argomenti: il primo letterale stringa, gli altri due variabili"
   ]
  },
  {
   "cell_type": "code",
   "execution_count": 12,
   "id": "da9be782",
   "metadata": {},
   "outputs": [
    {
     "name": "stdout",
     "output_type": "stream",
     "text": [
      "Cpl concordia ha compiuto\n",
      "120\n",
      "anni\n"
     ]
    }
   ],
   "source": [
    "print('Cpl concordia ha compiuto')\n",
    "print(anni_cpl_concordia)\n",
    "print('anni')"
   ]
  },
  {
   "cell_type": "code",
   "execution_count": 13,
   "id": "f1f35fea",
   "metadata": {},
   "outputs": [
    {
     "name": "stdout",
     "output_type": "stream",
     "text": [
      "35\n"
     ]
    }
   ],
   "source": [
    "base = 5\n",
    "altezza = 7\n",
    "area = base*altezza\n",
    "print(area)"
   ]
  },
  {
   "cell_type": "markdown",
   "id": "d992a1d0",
   "metadata": {},
   "source": [
    "### Tipi di dati e di oggetti\n",
    "\n",
    "Il tipo di un oggetto definisce l'insieme delle operazioni che si possono effettuare su di esso.\n",
    "1. Un oggetto puè essere referenziato più volte. \n",
    "1. Gli oggetti di tipo numerico, così come altri, sono immutabili, non si possono modificare, anche se riassegno le variabili il valore che è stato sostituito permane in memoria a meno che non utilizzi il garbage collector.\n",
    "1. Il garbage collector semplifica il nostro lavoro perchè ripulisce automaticamente la memoria. \n",
    "\n"
   ]
  },
  {
   "cell_type": "code",
   "execution_count": 14,
   "id": "aea38862",
   "metadata": {},
   "outputs": [],
   "source": [
    "int = 2\n",
    "float = 4.2\n",
    "stringa = ' cpl concordia ' + 'e' + ' col carisey '\n",
    "bool = True\n",
    "lista = [4,5, 'quattro', 'cinque', 22, 78, 'colcrosatie', False]\n",
    "tupla = (4,3,7)\n",
    "diz = {'Primo': 1, 'Secondo': 2, 'cpl': 'over the top'}"
   ]
  },
  {
   "cell_type": "markdown",
   "id": "cd4bed5a",
   "metadata": {},
   "source": [
    "### Tipi di dati numerici e letterali\n",
    "\n",
    "I diversi tipi numerici sono memorizzati e gestiti in maniera diversa.\\\n",
    "Un numero scritto direttamente nel codice del programma prende il nome di letterale numerico.\\\n",
    "Python utilizza i tipi di dati per differenziare tra le diverse classificazioni dei valori in memoria.\n",
    "Quanto di memorizza un valore intero\n",
    "> viene classificato come int\n",
    "\n",
    "quando si memorizza un valore reale\n",
    "> viene classificato come float\n",
    "\n",
    "per scoprire la tipologia del tipo di dato numerico posso utilizzare la funzione type"
   ]
  },
  {
   "cell_type": "code",
   "execution_count": 51,
   "id": "1023ac48",
   "metadata": {},
   "outputs": [
    {
     "data": {
      "text/plain": [
       "float"
      ]
     },
     "execution_count": 51,
     "metadata": {},
     "output_type": "execute_result"
    }
   ],
   "source": [
    "type(4.2)"
   ]
  },
  {
   "cell_type": "code",
   "execution_count": 3,
   "id": "4992da49",
   "metadata": {},
   "outputs": [
    {
     "data": {
      "text/plain": [
       "float"
      ]
     },
     "execution_count": 3,
     "metadata": {},
     "output_type": "execute_result"
    }
   ],
   "source": [
    "type(7.6)"
   ]
  },
  {
   "cell_type": "code",
   "execution_count": 88,
   "id": "b7591c34",
   "metadata": {},
   "outputs": [
    {
     "name": "stdout",
     "output_type": "stream",
     "text": [
      "col Passo Alto si trova all'altitudine di 2850ed è il primo vero colleche si incontra al Tor des Geants\n"
     ]
    }
   ],
   "source": [
    "print(\"col Passo Alto si trova all'altitudine di \" + str(2850) + \"ed è il primo vero colle\\\n",
    "che si incontra al Tor des Geants\")"
   ]
  },
  {
   "cell_type": "markdown",
   "id": "146388a3",
   "metadata": {},
   "source": [
    "Python dispone di un altro tipo di dati chiamato str, stringa che serve per memorizzare valori stringa. "
   ]
  },
  {
   "cell_type": "code",
   "execution_count": 60,
   "id": "b832b30c",
   "metadata": {},
   "outputs": [
    {
     "name": "stdout",
     "output_type": "stream",
     "text": [
      "Jannik Sinner\n"
     ]
    }
   ],
   "source": [
    "nome = 'Jannik'\n",
    "cognome = 'Sinner'\n",
    "print(nome, cognome)"
   ]
  },
  {
   "cell_type": "code",
   "execution_count": 67,
   "id": "5744c51e",
   "metadata": {},
   "outputs": [
    {
     "name": "stdout",
     "output_type": "stream",
     "text": [
      "Il torneo di Halle è stato vinto da Jannik Sinner\n"
     ]
    }
   ],
   "source": [
    "print('Il torneo di Halle è stato vinto da',nome, cognome)"
   ]
  },
  {
   "cell_type": "markdown",
   "id": "2f1737b7",
   "metadata": {},
   "source": [
    "### Leggere input da tastiera\n",
    "\n",
    "Quando un programma legge dei dati immessi da tastiera, li memorizza in una variabile, in modo da poterli utilizzare quando necessario.\\\n",
    "La funzione input viene utilizzata all'interno di un'istruzione di assegnazione. \n",
    "\n",
    "1. La funzione input visualizza la frase tra apici ed attende in input un dato da parte dell'utente che deve essere seguito dal tasto invio e lo legge. \n",
    "1. L'assegnamento = fa corrispondere il valore digitato dall'utente al nome della variabile. \n",
    "1. Il valore immesso da input è sempre considerato una stringa di caratteri, se si ha necessità di un intero si ha a disposizione la funzione int che converte una stringa in un valore intero. "
   ]
  },
  {
   "cell_type": "code",
   "execution_count": 84,
   "id": "dacf5099",
   "metadata": {},
   "outputs": [
    {
     "name": "stdout",
     "output_type": "stream",
     "text": [
      "Come si chiama il tuo tennista preferito? Yannik \n"
     ]
    }
   ],
   "source": [
    "nome_tennista = input('Come si chiama il tuo tennista preferito? ')"
   ]
  },
  {
   "cell_type": "code",
   "execution_count": 85,
   "id": "64d83fed",
   "metadata": {},
   "outputs": [
    {
     "name": "stdout",
     "output_type": "stream",
     "text": [
      "Qual'è il nome del tuo tennista preferito? Yannik \n",
      "Qual'è il cognome del tuo tennista preferito? Sinner\n"
     ]
    }
   ],
   "source": [
    "nome_tennista = input(\"Qual'è il nome del tuo tennista preferito? \")\n",
    "cognome_tennista = input(\"Qual'è il cognome del tuo tennista preferito? \")"
   ]
  },
  {
   "cell_type": "code",
   "execution_count": 75,
   "id": "6f5e0958",
   "metadata": {},
   "outputs": [
    {
     "name": "stdout",
     "output_type": "stream",
     "text": [
      "Il nome del mio tennista preferito è Yannik  Sinner\n"
     ]
    }
   ],
   "source": [
    "print('Il nome del mio tennista preferito è', nome_tennista, cognome_tennista)"
   ]
  },
  {
   "cell_type": "code",
   "execution_count": 104,
   "id": "df701f8b",
   "metadata": {},
   "outputs": [
    {
     "name": "stdout",
     "output_type": "stream",
     "text": [
      "Qual'è il nome del tuo tennista preferito? Lorenzo\n",
      "Qual'è il cognome del tuo tennista preferito? Musetti\n",
      "Il nome del mio tennista preferito è Lorenzo Musetti\n"
     ]
    }
   ],
   "source": [
    "nome_tennista = input(\"Qual'è il nome del tuo tennista preferito? \")\n",
    "cognome_tennista = input(\"Qual'è il cognome del tuo tennista preferito? \")\n",
    "print('Il nome del mio tennista preferito è', nome_tennista, cognome_tennista)"
   ]
  },
  {
   "cell_type": "markdown",
   "id": "7cd314bf",
   "metadata": {},
   "source": [
    "La funzione input restituisce sempre l'input immesso dall'utente come stringa, anche se inseriamo dati numerici. \n"
   ]
  },
  {
   "cell_type": "code",
   "execution_count": 95,
   "id": "b6b91fee",
   "metadata": {},
   "outputs": [
    {
     "name": "stdout",
     "output_type": "stream",
     "text": [
      "la temperatura inserita è 28.8\n"
     ]
    }
   ],
   "source": [
    "temperatura = input('la temperatura inserita è ')"
   ]
  },
  {
   "cell_type": "code",
   "execution_count": 99,
   "id": "34cee41a",
   "metadata": {},
   "outputs": [
    {
     "name": "stdout",
     "output_type": "stream",
     "text": [
      "La temperatura di oggi è 22\n"
     ]
    }
   ],
   "source": [
    "temperatura_inserita = input('La temperatura di oggi è ')"
   ]
  },
  {
   "cell_type": "markdown",
   "id": "3623f31a",
   "metadata": {},
   "source": [
    "### Eseguire calcoli\n",
    "\n",
    "Per eseguire i calcoli utilizziamo gli operatori matematici.\\\n",
    "Un'espressione matematica esegue un calcolo e restituisce un valore.\n",
    "+ Addizione + Somma due numeri.\n",
    "+ Sottrazione - Sottrae un numero dall'altro.\n",
    "+ Moltiplicazione * Moltiplica un numero per un altro.\n",
    "+ Divisione / Divide un numero per un altro e restituisce il risultato come numero in virgola mobile. \n",
    "+ Divisione intera // Divide un numero per un altro e restituisce il risultato come intero. \n",
    "+ Resto % Divide un numero per un altro e restituisce il resto.\n",
    "+ Esponente ** Eleva un numero a una potenza. "
   ]
  },
  {
   "cell_type": "code",
   "execution_count": 105,
   "id": "caf727e1",
   "metadata": {},
   "outputs": [
    {
     "data": {
      "text/plain": [
       "24"
      ]
     },
     "execution_count": 105,
     "metadata": {},
     "output_type": "execute_result"
    }
   ],
   "source": [
    "22 + 2"
   ]
  },
  {
   "cell_type": "code",
   "execution_count": 106,
   "id": "71cdd83b",
   "metadata": {},
   "outputs": [
    {
     "data": {
      "text/plain": [
       "28"
      ]
     },
     "execution_count": 106,
     "metadata": {},
     "output_type": "execute_result"
    }
   ],
   "source": [
    "32 - 4"
   ]
  },
  {
   "cell_type": "code",
   "execution_count": 107,
   "id": "aace7e6e",
   "metadata": {},
   "outputs": [
    {
     "data": {
      "text/plain": [
       "20"
      ]
     },
     "execution_count": 107,
     "metadata": {},
     "output_type": "execute_result"
    }
   ],
   "source": [
    "4 * 5"
   ]
  },
  {
   "cell_type": "code",
   "execution_count": 5,
   "id": "6328b25f",
   "metadata": {},
   "outputs": [
    {
     "data": {
      "text/plain": [
       "6.666666666666667"
      ]
     },
     "execution_count": 5,
     "metadata": {},
     "output_type": "execute_result"
    }
   ],
   "source": [
    "20 / 3"
   ]
  },
  {
   "cell_type": "code",
   "execution_count": 117,
   "id": "bd1cdf82",
   "metadata": {},
   "outputs": [
    {
     "data": {
      "text/plain": [
       "6"
      ]
     },
     "execution_count": 117,
     "metadata": {},
     "output_type": "execute_result"
    }
   ],
   "source": [
    "20 // 3\n",
    "# quando il risultato è positivo, viene troncato, la parte decimale viene eliminata."
   ]
  },
  {
   "cell_type": "code",
   "execution_count": 115,
   "id": "953466f5",
   "metadata": {},
   "outputs": [
    {
     "data": {
      "text/plain": [
       "-6.666666666666667"
      ]
     },
     "execution_count": 115,
     "metadata": {},
     "output_type": "execute_result"
    }
   ],
   "source": [
    " - 20 / 3"
   ]
  },
  {
   "cell_type": "code",
   "execution_count": 116,
   "id": "32e1caf4",
   "metadata": {},
   "outputs": [
    {
     "data": {
      "text/plain": [
       "-7"
      ]
     },
     "execution_count": 116,
     "metadata": {},
     "output_type": "execute_result"
    }
   ],
   "source": [
    " - 20 // 3\n",
    "# quanto il risultato è negativo, viene arrotondato per difetto all'intero più vicino. "
   ]
  },
  {
   "cell_type": "code",
   "execution_count": 1,
   "id": "a5cad255",
   "metadata": {},
   "outputs": [
    {
     "data": {
      "text/plain": [
       "2"
      ]
     },
     "execution_count": 1,
     "metadata": {},
     "output_type": "execute_result"
    }
   ],
   "source": [
    "20 % 3"
   ]
  },
  {
   "cell_type": "code",
   "execution_count": 9,
   "id": "d6f01303",
   "metadata": {},
   "outputs": [
    {
     "data": {
      "text/plain": [
       "160000"
      ]
     },
     "execution_count": 9,
     "metadata": {},
     "output_type": "execute_result"
    }
   ],
   "source": [
    "20 ** 4"
   ]
  },
  {
   "cell_type": "markdown",
   "id": "b2dfb061",
   "metadata": {},
   "source": [
    "In una espressione matematica è possibile impiegare anche delle variabili.\\\n",
    "Analizziamo un programma che calcoli una previsionalità percentuale per difetto su un dato inserito."
   ]
  },
  {
   "cell_type": "code",
   "execution_count": 4,
   "id": "fba2f1b6",
   "metadata": {},
   "outputs": [
    {
     "name": "stdout",
     "output_type": "stream",
     "text": [
      "Inserire la temperatura iniziale della giornata: 31\n"
     ]
    }
   ],
   "source": [
    "temp_iniz = float(input('Inserire la temperatura iniziale della giornata: '))"
   ]
  },
  {
   "cell_type": "code",
   "execution_count": 5,
   "id": "0f6069ff",
   "metadata": {},
   "outputs": [],
   "source": [
    "perc_temp_iniz = temp_iniz * 0.1"
   ]
  },
  {
   "cell_type": "code",
   "execution_count": 6,
   "id": "7851fcab",
   "metadata": {},
   "outputs": [],
   "source": [
    "temp_perc = temp_iniz - perc_temp_iniz"
   ]
  },
  {
   "cell_type": "code",
   "execution_count": 7,
   "id": "c76d5c6e",
   "metadata": {},
   "outputs": [
    {
     "name": "stdout",
     "output_type": "stream",
     "text": [
      "La temperatura per difetto è:  27.9\n"
     ]
    }
   ],
   "source": [
    "print('La temperatura per difetto è: ', temp_perc)"
   ]
  },
  {
   "cell_type": "markdown",
   "id": "2625e6c8",
   "metadata": {},
   "source": [
    "### Precedenza degli operatori matematici\n",
    "\n",
    "Python segue lo stesso ordine matematico nello svolgimento delle operazioni. Ripassiamo.\n",
    "+ Per prima cosa vengono eseguite le operazioni racchiuse tra le parentesi.\n",
    "+ Quando due operatori condividono lo stesso operando, viene applicato per primo l'operando con la precedenza più alta. In particolare dall'alto verso il basso:\n",
    "> elevamento a potenza ** \\\n",
    "moltiplicazione, divisione e resto * / // %\n",
    "addizione e sottrazione + - \n",
    "\n",
    "+ Quando due operatori con la stessa precedenza condividono lo stesso operando, le operazioni vengono svolte da sinistra verso destra. \n",
    "+ E' possibile raggruppare insieme con le parentesi parti di un'espressione matematica in modo che alcune operazioni matematiche vengano svolte prima di altre. "
   ]
  },
  {
   "cell_type": "code",
   "execution_count": 10,
   "id": "96b142da",
   "metadata": {},
   "outputs": [
    {
     "data": {
      "text/plain": [
       "29"
      ]
     },
     "execution_count": 10,
     "metadata": {},
     "output_type": "execute_result"
    }
   ],
   "source": [
    "5 + 6 * 4"
   ]
  },
  {
   "cell_type": "code",
   "execution_count": 13,
   "id": "b5033276",
   "metadata": {},
   "outputs": [
    {
     "data": {
      "text/plain": [
       "4.0"
      ]
     },
     "execution_count": 13,
     "metadata": {},
     "output_type": "execute_result"
    }
   ],
   "source": [
    "20 / 4 - 1"
   ]
  },
  {
   "cell_type": "code",
   "execution_count": 14,
   "id": "7357c8fc",
   "metadata": {},
   "outputs": [
    {
     "data": {
      "text/plain": [
       "4"
      ]
     },
     "execution_count": 14,
     "metadata": {},
     "output_type": "execute_result"
    }
   ],
   "source": [
    "int(20 / 4 - 1)"
   ]
  },
  {
   "cell_type": "code",
   "execution_count": 15,
   "id": "891c09be",
   "metadata": {},
   "outputs": [
    {
     "data": {
      "text/plain": [
       "28"
      ]
     },
     "execution_count": 15,
     "metadata": {},
     "output_type": "execute_result"
    }
   ],
   "source": [
    "8 + 12 * 2 - 4 "
   ]
  },
  {
   "cell_type": "code",
   "execution_count": 16,
   "id": "d51727c7",
   "metadata": {},
   "outputs": [
    {
     "data": {
      "text/plain": [
       "6"
      ]
     },
     "execution_count": 16,
     "metadata": {},
     "output_type": "execute_result"
    }
   ],
   "source": [
    "6 - 3 * 2 + 7 - 1"
   ]
  },
  {
   "cell_type": "code",
   "execution_count": 17,
   "id": "76b3e103",
   "metadata": {},
   "outputs": [
    {
     "data": {
      "text/plain": [
       "44"
      ]
     },
     "execution_count": 17,
     "metadata": {},
     "output_type": "execute_result"
    }
   ],
   "source": [
    "(5 + 6) * 4"
   ]
  },
  {
   "cell_type": "code",
   "execution_count": 18,
   "id": "ef93999c",
   "metadata": {},
   "outputs": [
    {
     "data": {
      "text/plain": [
       "6.666666666666667"
      ]
     },
     "execution_count": 18,
     "metadata": {},
     "output_type": "execute_result"
    }
   ],
   "source": [
    "20 / (4 - 1)"
   ]
  },
  {
   "cell_type": "code",
   "execution_count": null,
   "id": "9edba2a6",
   "metadata": {},
   "outputs": [],
   "source": [
    "(6 - 3) * 2 + (7 - 1)"
   ]
  },
  {
   "cell_type": "markdown",
   "id": "5de6ec58",
   "metadata": {},
   "source": [
    "### calcoliamo una media \n",
    "\n",
    "Calcoliamo la media di un gruppo di valori: sommiamoli tutti insieme e poi dividiamoli per il numero dei valori."
   ]
  },
  {
   "cell_type": "code",
   "execution_count": 3,
   "id": "297d6790",
   "metadata": {},
   "outputs": [
    {
     "name": "stdout",
     "output_type": "stream",
     "text": [
      "il valore uno è: 2\n",
      "il valore due è: 18\n",
      "il valore tre è: 15\n"
     ]
    }
   ],
   "source": [
    "valore_1 = float(input('il valore uno è: '))\n",
    "valore_2 = float(input('il valore due è: '))\n",
    "valore_3 = float(input('il valore tre è: '))"
   ]
  },
  {
   "cell_type": "code",
   "execution_count": 6,
   "id": "1c958e34",
   "metadata": {},
   "outputs": [
    {
     "name": "stdout",
     "output_type": "stream",
     "text": [
      "Il valore della temperatura media è:  11.666666666666666\n"
     ]
    }
   ],
   "source": [
    "media = (valore_1 + valore_2 + valore_3)/3\n",
    "print('Il valore della temperatura media è: ', media)"
   ]
  },
  {
   "cell_type": "markdown",
   "id": "362b33c5",
   "metadata": {},
   "source": [
    "### Operatore resto\n",
    "\n",
    "Il simbolo % rappresenta l'operatore resto, detto anche modulo. \\\n",
    "L'operatore resto esegue l'operazione, ma invece di restituire il quoziente restituisce il resto. "
   ]
  },
  {
   "cell_type": "code",
   "execution_count": 1,
   "id": "335e543b",
   "metadata": {},
   "outputs": [
    {
     "name": "stdout",
     "output_type": "stream",
     "text": [
      "Il numero dei secondi inseriti è: 8759\n",
      "Il numero espresso in ore, minuti e secondi: \n",
      "Ore: 2.0\n",
      "Minuti: 25.0\n",
      "Secondi:  59.0\n"
     ]
    }
   ],
   "source": [
    "secondi_totali = float(input('Il numero dei secondi inseriti è: '))\n",
    "ore = secondi_totali // 3600\n",
    "# in un'ora ci sono 3600 secondi, calcoliamo il numero di ore contenuto nel numero di secondi inseriti \n",
    "minuti = (secondi_totali // 60) % 60\n",
    "# calcoliamo il numero di minuti rimanente, prima calcolo il numero totale dei minuti, poi il resto dell'operazione.\n",
    "secondi = secondi_totali % 60\n",
    "#calcoliamo il numero di secondi rimanenti\n",
    "\n",
    "print('Il numero espresso in ore, minuti e secondi: ')\n",
    "print('Ore:', ore)\n",
    "print('Minuti:', minuti)\n",
    "print('Secondi: ', secondi)\n"
   ]
  },
  {
   "cell_type": "code",
   "execution_count": null,
   "id": "cd107a59",
   "metadata": {},
   "outputs": [],
   "source": []
  }
 ],
 "metadata": {
  "kernelspec": {
   "display_name": "Python 3 (ipykernel)",
   "language": "python",
   "name": "python3"
  },
  "language_info": {
   "codemirror_mode": {
    "name": "ipython",
    "version": 3
   },
   "file_extension": ".py",
   "mimetype": "text/x-python",
   "name": "python",
   "nbconvert_exporter": "python",
   "pygments_lexer": "ipython3",
   "version": "3.9.7"
  }
 },
 "nbformat": 4,
 "nbformat_minor": 5
}
